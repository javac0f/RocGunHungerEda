{
 "cells": [
  {
   "cell_type": "code",
   "execution_count": 1,
   "metadata": {},
   "outputs": [],
   "source": [
    "# DS LIBS\n",
    "import openpyxl\n",
    "import numpy as np\n",
    "import pandas as pd\n",
    "import matplotlib.pyplot as plt\n",
    "\n",
    "\n",
    "\n",
    "# TODO: we're def gonna need some geospatial libs\n",
    "\n",
    "# GEOSPATIAL LIBS\n",
    "from osgeo import gdal\n",
    "\n",
    "\n",
    "# ML LIBS\n",
    "\n"
   ]
  },
  {
   "cell_type": "code",
   "execution_count": 6,
   "metadata": {},
   "outputs": [],
   "source": [
    "# import data\n",
    "foodlink_data = pd.read_csv(r'data/foodlink_data.csv')\n",
    "mealmap_data = pd.read_excel(r'data/MMG2022_2020-2019Data_ToShare.xlsx')\n",
    "gun_data = pd.read_csv(r'data/Rochester_NY_Shooting_Victims.csv')"
   ]
  },
  {
   "attachments": {},
   "cell_type": "markdown",
   "metadata": {},
   "source": [
    "### STEP 1) DATA CLEANING"
   ]
  },
  {
   "attachments": {},
   "cell_type": "markdown",
   "metadata": {},
   "source": [
    "#### 1.1: GUN VIOLENCE DATA"
   ]
  },
  {
   "cell_type": "code",
   "execution_count": 17,
   "metadata": {},
   "outputs": [
    {
     "name": "stdout",
     "output_type": "stream",
     "text": [
      "GUN VIOLENCE DATASET INFO\n",
      "<class 'pandas.core.frame.DataFrame'>\n",
      "RangeIndex: 4679 entries, 0 to 4678\n",
      "Data columns (total 18 columns):\n",
      " #   Column             Non-Null Count  Dtype  \n",
      "---  ------             --------------  -----  \n",
      " 0   X                  4679 non-null   float64\n",
      " 1   Y                  4679 non-null   float64\n",
      " 2   ID                 4679 non-null   object \n",
      " 3   Case_Number        4679 non-null   object \n",
      " 4   Address            4679 non-null   object \n",
      " 5   Occurred_Date      4679 non-null   object \n",
      " 6   Occurred_Month     4679 non-null   int64  \n",
      " 7   Occurred_Year      4679 non-null   int64  \n",
      " 8   Crime_Type         4679 non-null   object \n",
      " 9   Multiple_Shooting  4679 non-null   object \n",
      " 10  Gender             4679 non-null   object \n",
      " 11  Race               4679 non-null   object \n",
      " 12  Ethnicity          4679 non-null   object \n",
      " 13  Victim_Age         4679 non-null   int64  \n",
      " 14  Victim_Age_Band    4679 non-null   object \n",
      " 15  Latitude           4679 non-null   float64\n",
      " 16  Longitude          4679 non-null   float64\n",
      " 17  ObjectId           4679 non-null   int64  \n",
      "dtypes: float64(4), int64(4), object(10)\n",
      "memory usage: 658.1+ KB\n",
      "None\n"
     ]
    }
   ],
   "source": [
    "print(\"GUN VIOLENCE DATASET INFO\")\n",
    "print(gun_data.info())\n"
   ]
  },
  {
   "cell_type": "code",
   "execution_count": 16,
   "metadata": {},
   "outputs": [
    {
     "name": "stdout",
     "output_type": "stream",
     "text": [
      "SOME QUICK SUMMARY STATS:\n",
      "                 X            Y  Occurred_Month  Occurred_Year   Victim_Age  \\\n",
      "count  4679.000000  4679.000000     4679.000000    4679.000000  4679.000000   \n",
      "mean    -77.615629    43.166353        6.754007    2011.602907    27.200898   \n",
      "std       0.023427     0.016363        3.142948       6.711393     9.868082   \n",
      "min     -77.672811    43.115253        1.000000    2000.000000     0.000000   \n",
      "25%     -77.635262    43.154277        4.000000    2006.000000    20.000000   \n",
      "50%     -77.619800    43.169335        7.000000    2012.000000    25.000000   \n",
      "75%     -77.597176    43.178504        9.000000    2018.000000    32.000000   \n",
      "max     -77.538345    43.259854       12.000000    2022.000000    89.000000   \n",
      "\n",
      "          Latitude    Longitude     ObjectId  \n",
      "count  4679.000000  4679.000000  4679.000000  \n",
      "mean     43.166353   -77.615629  2340.000000  \n",
      "std       0.016363     0.023427  1350.855285  \n",
      "min      43.115253   -77.672811     1.000000  \n",
      "25%      43.154277   -77.635262  1170.500000  \n",
      "50%      43.169335   -77.619800  2340.000000  \n",
      "75%      43.178504   -77.597176  3509.500000  \n",
      "max      43.259854   -77.538345  4679.000000  \n"
     ]
    }
   ],
   "source": [
    "print('SOME QUICK SUMMARY STATS:')\n",
    "print(gun_data.describe())"
   ]
  },
  {
   "cell_type": "code",
   "execution_count": 23,
   "metadata": {},
   "outputs": [
    {
     "name": "stdout",
     "output_type": "stream",
     "text": [
      "MODAL DATA:\n",
      "0    2020/09/19 04:00:00+00\n",
      "Name: Occurred_Date, dtype: object \n",
      "\n",
      "0    7\n",
      "Name: Occurred_Month, dtype: int64 \n",
      "\n",
      "0    2021\n",
      "Name: Occurred_Year, dtype: int64 \n",
      "\n",
      "0    15-24\n",
      "Name: Victim_Age_Band, dtype: object \n",
      "\n",
      "0    M\n",
      "Name: Gender, dtype: object \n",
      "\n",
      "0    BLACK\n",
      "Name: Race, dtype: object \n",
      "\n",
      "0    278 Pennsylvania Ave\n",
      "Name: Address, dtype: object \n",
      "\n"
     ]
    }
   ],
   "source": [
    "# PRELIM QUESTIONS\n",
    "print(\"MODAL DATA:\")\n",
    "print(gun_data['Occurred_Date'].mode(), '\\n')\n",
    "print(gun_data['Occurred_Month'].mode(),'\\n')\n",
    "print(gun_data['Occurred_Year'].mode(),'\\n')\n",
    "print(gun_data['Victim_Age_Band'].mode(),'\\n')\n",
    "print(gun_data['Gender'].mode(),'\\n')\n",
    "print(gun_data['Race'].mode(),'\\n')\n",
    "print(gun_data['Address'].mode(),'\\n')"
   ]
  },
  {
   "cell_type": "code",
   "execution_count": null,
   "metadata": {},
   "outputs": [],
   "source": []
  }
 ],
 "metadata": {
  "kernelspec": {
   "display_name": "Python 3",
   "language": "python",
   "name": "python3"
  },
  "language_info": {
   "codemirror_mode": {
    "name": "ipython",
    "version": 3
   },
   "file_extension": ".py",
   "mimetype": "text/x-python",
   "name": "python",
   "nbconvert_exporter": "python",
   "pygments_lexer": "ipython3",
   "version": "3.11.1"
  },
  "orig_nbformat": 4
 },
 "nbformat": 4,
 "nbformat_minor": 2
}
