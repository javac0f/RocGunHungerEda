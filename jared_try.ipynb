{
 "cells": [
  {
   "attachments": {},
   "cell_type": "markdown",
   "metadata": {},
   "source": [
    "## **GROUP 9 EDA**\n",
    "---\n",
    "**AUTHORS**\n",
    "- Jared Coffey (jcoffey7@u.rochester.edu)\n",
    "- Kyle Chang (kchang27@u.rochester.edu)\n",
    "- Junhan Yu (jyu55@u.rochester.edu)\n",
    "---\n",
    "\n",
    "**TABLE O' CONTENTS**\n",
    "| Section | Description |\n",
    "| ----------- | ----------- |\n",
    "|  **1**  | **Exploratory Data Analysis** |\n",
    "| 1.1 | Basic Imports |\n",
    "| 1.2 | Gun Violence Data EDA |\n",
    "| 1.3 | Food Insecurity Data EDA |\n",
    "|  **2**  | **Distribution Modeling** |\n",
    "| 2.1 | Fitting the Distributions |\n",
    "| 2.2 | Comparing Distributions |\n",
    "| **3** | **Sourcing** |"
   ]
  },
  {
   "cell_type": "code",
   "execution_count": 188,
   "metadata": {},
   "outputs": [],
   "source": [
    "# BASIC DS LIBS\n",
    "import openpyxl\n",
    "import numpy as np\n",
    "import pandas as pd\n",
    "import matplotlib.pyplot as plt\n",
    "\n",
    "# FILE IO LIBS\n",
    "import os \n",
    "from os.path import join \n",
    "\n",
    "# GEOSPATIAL LIBS\n",
    "from osgeo import gdal\n",
    "import geopandas as gpd\n",
    "import geopy\n",
    "from geopandas import GeoDataFrame\n",
    "\n",
    "# PLOT LIBS\n",
    "import plotly.express as px \n",
    "from plotly.offline import plot\n",
    "import plotly.graph_objects as go\n",
    "from shapely.geometry import Point\n",
    "from plotly.subplots import make_subplots\n"
   ]
  },
  {
   "cell_type": "code",
   "execution_count": 205,
   "metadata": {},
   "outputs": [],
   "source": [
    "# IMPORT DATA\n",
    "hunger_data = pd.read_csv(r'data/foodlink_data.csv')\n",
    "mealmap_data = pd.read_excel(r'data/MMG2022_2020-2019Data_ToShare.xlsx')\n",
    "gun_data = pd.read_csv(r'data/Rochester_NY_Shooting_Victims.csv')"
   ]
  },
  {
   "attachments": {},
   "cell_type": "markdown",
   "metadata": {},
   "source": [
    "### EDA"
   ]
  },
  {
   "attachments": {},
   "cell_type": "markdown",
   "metadata": {},
   "source": [
    "#### DATA CLEANING"
   ]
  },
  {
   "cell_type": "code",
   "execution_count": 206,
   "metadata": {},
   "outputs": [
    {
     "name": "stdout",
     "output_type": "stream",
     "text": [
      "Index(['X', 'Y', 'ID', 'Case_Number', 'Address', 'Occurred_Date',\n",
      "       'Occurred_Month', 'Occurred_Year', 'Crime_Type', 'Multiple_Shooting',\n",
      "       'Gender', 'Race', 'Ethnicity', 'Victim_Age', 'Victim_Age_Band',\n",
      "       'Latitude', 'Longitude', 'ObjectId'],\n",
      "      dtype='object')\n",
      "X                    4679\n",
      "Y                    4679\n",
      "ID                   4679\n",
      "Case_Number          4679\n",
      "Address              4679\n",
      "Occurred_Date        4679\n",
      "Occurred_Month       4679\n",
      "Occurred_Year        4679\n",
      "Crime_Type           4679\n",
      "Multiple_Shooting    4679\n",
      "Gender               4679\n",
      "Race                 4679\n",
      "Ethnicity            4679\n",
      "Victim_Age           4679\n",
      "Victim_Age_Band      4679\n",
      "Latitude             4679\n",
      "Longitude            4679\n",
      "ObjectId             4679\n",
      "dtype: int64\n"
     ]
    }
   ],
   "source": [
    "gun_data.head()\n",
    "print(gun_data.columns)\n",
    "print(gun_data.count())"
   ]
  },
  {
   "cell_type": "code",
   "execution_count": 207,
   "metadata": {},
   "outputs": [
    {
     "name": "stdout",
     "output_type": "stream",
     "text": [
      "<class 'pandas.core.frame.DataFrame'>\n",
      "Int64Index: 137 entries, 0 to 436\n",
      "Data columns (total 4 columns):\n",
      " #   Column         Non-Null Count  Dtype  \n",
      "---  ------         --------------  -----  \n",
      " 0   Latitude       137 non-null    float64\n",
      " 1   Longitude      137 non-null    float64\n",
      " 2   Address        137 non-null    object \n",
      " 3   Occurred_Year  137 non-null    int64  \n",
      "dtypes: float64(2), int64(1), object(1)\n",
      "memory usage: 5.4+ KB\n",
      "None\n"
     ]
    },
    {
     "data": {
      "text/html": [
       "<div>\n",
       "<style scoped>\n",
       "    .dataframe tbody tr th:only-of-type {\n",
       "        vertical-align: middle;\n",
       "    }\n",
       "\n",
       "    .dataframe tbody tr th {\n",
       "        vertical-align: top;\n",
       "    }\n",
       "\n",
       "    .dataframe thead th {\n",
       "        text-align: right;\n",
       "    }\n",
       "</style>\n",
       "<table border=\"1\" class=\"dataframe\">\n",
       "  <thead>\n",
       "    <tr style=\"text-align: right;\">\n",
       "      <th></th>\n",
       "      <th>Latitude</th>\n",
       "      <th>Longitude</th>\n",
       "      <th>Address</th>\n",
       "      <th>Occurred_Year</th>\n",
       "    </tr>\n",
       "  </thead>\n",
       "  <tbody>\n",
       "    <tr>\n",
       "      <th>0</th>\n",
       "      <td>43.184163</td>\n",
       "      <td>-77.610890</td>\n",
       "      <td>442 Remington St</td>\n",
       "      <td>2022</td>\n",
       "    </tr>\n",
       "    <tr>\n",
       "      <th>1</th>\n",
       "      <td>43.181793</td>\n",
       "      <td>-77.598893</td>\n",
       "      <td>904 Hudson Ave</td>\n",
       "      <td>2022</td>\n",
       "    </tr>\n",
       "    <tr>\n",
       "      <th>2</th>\n",
       "      <td>43.142970</td>\n",
       "      <td>-77.630378</td>\n",
       "      <td>168 Bartlett St</td>\n",
       "      <td>2022</td>\n",
       "    </tr>\n",
       "    <tr>\n",
       "      <th>3</th>\n",
       "      <td>43.167216</td>\n",
       "      <td>-77.580628</td>\n",
       "      <td>720 N Goodman St</td>\n",
       "      <td>2022</td>\n",
       "    </tr>\n",
       "    <tr>\n",
       "      <th>4</th>\n",
       "      <td>43.162394</td>\n",
       "      <td>-77.641972</td>\n",
       "      <td>138 Murray St</td>\n",
       "      <td>2022</td>\n",
       "    </tr>\n",
       "  </tbody>\n",
       "</table>\n",
       "</div>"
      ],
      "text/plain": [
       "    Latitude  Longitude           Address  Occurred_Year\n",
       "0  43.184163 -77.610890  442 Remington St           2022\n",
       "1  43.181793 -77.598893    904 Hudson Ave           2022\n",
       "2  43.142970 -77.630378   168 Bartlett St           2022\n",
       "3  43.167216 -77.580628  720 N Goodman St           2022\n",
       "4  43.162394 -77.641972     138 Murray St           2022"
      ]
     },
     "execution_count": 207,
     "metadata": {},
     "output_type": "execute_result"
    }
   ],
   "source": [
    "# GUN DATA CLEANING\n",
    "gun_data = gun_data[['Latitude','Longitude', 'Address','Occurred_Year']]\n",
    "gun_data = gun_data.loc[gun_data['Occurred_Year'].isin([2022,2023])]                        \n",
    "print(gun_data.info())  # to check for any missing values\n",
    "gun_data.head()"
   ]
  },
  {
   "cell_type": "code",
   "execution_count": 209,
   "metadata": {},
   "outputs": [],
   "source": [
    "geolocator = geopy.Nominatim(user_agent = 'check_1')\n",
    "gun_coords = gun_data[['Latitude','Longitude']]\n",
    "\n",
    "# CREATE OUR LAT/LON CONVERTER \n",
    "def get_zip_code(x):\n",
    "    location = geolocator.reverse(\"{}, {}\".format(x['Latitude'],x['Longitude']))\n",
    "    return location.raw['address']['postcode']\n",
    "\n",
    "# ADD ZIP CODES FOR ALL INCIDENTS\n",
    "gun_data['Zip Code'] = gun_coords.apply(lambda x: get_zip_code(x), axis = 1)"
   ]
  },
  {
   "cell_type": "code",
   "execution_count": 230,
   "metadata": {},
   "outputs": [
    {
     "name": "stdout",
     "output_type": "stream",
     "text": [
      "{'14621': 33, '14611': 15, '14609': 18, '14606': 10, '14619': 3, '14613': 12, '14608': 20, '14605': 9, '14614': 2, '14604': 1, '14615': 1, '14642': 0, '14612': 0}\n"
     ]
    }
   ],
   "source": [
    "# GUN VIOLENCE RATE FUNCTION\n",
    "total_shootings = 0\n",
    "shootings = {}  # ZIP Code = keys; # of shootings = values\n",
    "\n",
    "\n",
    "for index,row in gun_data.iterrows():\n",
    "    if (row['Zip Code'] in shootings):\n",
    "        shootings[row['Zip Code']] +=1\n",
    "    else:\n",
    "        shootings[row['Zip Code']] = 0\n",
    "\n",
    "print(shootings)\n",
    "\n",
    "\n",
    "\n",
    "\n",
    "# ADD ZIP CODES FOR ALL INCIDENTS\n",
    "#gun_data['Gun Violence Rate'] = gun_data[['']].apply(lambda actual, mean: gun_volence_rate(actual,mean), axis=1)\n"
   ]
  },
  {
   "cell_type": "code",
   "execution_count": 210,
   "metadata": {},
   "outputs": [
    {
     "data": {
      "text/html": [
       "<div>\n",
       "<style scoped>\n",
       "    .dataframe tbody tr th:only-of-type {\n",
       "        vertical-align: middle;\n",
       "    }\n",
       "\n",
       "    .dataframe tbody tr th {\n",
       "        vertical-align: top;\n",
       "    }\n",
       "\n",
       "    .dataframe thead th {\n",
       "        text-align: right;\n",
       "    }\n",
       "</style>\n",
       "<table border=\"1\" class=\"dataframe\">\n",
       "  <thead>\n",
       "    <tr style=\"text-align: right;\">\n",
       "      <th></th>\n",
       "      <th>Latitude</th>\n",
       "      <th>Longitude</th>\n",
       "      <th>Address</th>\n",
       "      <th>Occurred_Year</th>\n",
       "      <th>Zip Code</th>\n",
       "    </tr>\n",
       "  </thead>\n",
       "  <tbody>\n",
       "    <tr>\n",
       "      <th>0</th>\n",
       "      <td>43.184163</td>\n",
       "      <td>-77.610890</td>\n",
       "      <td>442 Remington St</td>\n",
       "      <td>2022</td>\n",
       "      <td>14621</td>\n",
       "    </tr>\n",
       "    <tr>\n",
       "      <th>1</th>\n",
       "      <td>43.181793</td>\n",
       "      <td>-77.598893</td>\n",
       "      <td>904 Hudson Ave</td>\n",
       "      <td>2022</td>\n",
       "      <td>14621</td>\n",
       "    </tr>\n",
       "    <tr>\n",
       "      <th>2</th>\n",
       "      <td>43.142970</td>\n",
       "      <td>-77.630378</td>\n",
       "      <td>168 Bartlett St</td>\n",
       "      <td>2022</td>\n",
       "      <td>14611</td>\n",
       "    </tr>\n",
       "    <tr>\n",
       "      <th>3</th>\n",
       "      <td>43.167216</td>\n",
       "      <td>-77.580628</td>\n",
       "      <td>720 N Goodman St</td>\n",
       "      <td>2022</td>\n",
       "      <td>14609</td>\n",
       "    </tr>\n",
       "    <tr>\n",
       "      <th>4</th>\n",
       "      <td>43.162394</td>\n",
       "      <td>-77.641972</td>\n",
       "      <td>138 Murray St</td>\n",
       "      <td>2022</td>\n",
       "      <td>14606</td>\n",
       "    </tr>\n",
       "  </tbody>\n",
       "</table>\n",
       "</div>"
      ],
      "text/plain": [
       "    Latitude  Longitude           Address  Occurred_Year Zip Code\n",
       "0  43.184163 -77.610890  442 Remington St           2022    14621\n",
       "1  43.181793 -77.598893    904 Hudson Ave           2022    14621\n",
       "2  43.142970 -77.630378   168 Bartlett St           2022    14611\n",
       "3  43.167216 -77.580628  720 N Goodman St           2022    14609\n",
       "4  43.162394 -77.641972     138 Murray St           2022    14606"
      ]
     },
     "execution_count": 210,
     "metadata": {},
     "output_type": "execute_result"
    }
   ],
   "source": [
    "#gun_data['Zip Code'].fillna(value=0,inplace=True)\n",
    "gun_data.head()"
   ]
  },
  {
   "cell_type": "code",
   "execution_count": 214,
   "metadata": {},
   "outputs": [
    {
     "name": "stdout",
     "output_type": "stream",
     "text": [
      "<class 'pandas.core.frame.DataFrame'>\n",
      "Int64Index: 20 entries, 124 to 145\n",
      "Data columns (total 4 columns):\n",
      " #   Column           Non-Null Count  Dtype  \n",
      "---  ------           --------------  -----  \n",
      " 0   Zip Code         20 non-null     int64  \n",
      " 1   Latitude         20 non-null     float64\n",
      " 2   Longitude        20 non-null     float64\n",
      " 3   Food Insecurity  20 non-null     float64\n",
      "dtypes: float64(3), int64(1)\n",
      "memory usage: 800.0 bytes\n",
      "None\n"
     ]
    },
    {
     "data": {
      "text/html": [
       "<div>\n",
       "<style scoped>\n",
       "    .dataframe tbody tr th:only-of-type {\n",
       "        vertical-align: middle;\n",
       "    }\n",
       "\n",
       "    .dataframe tbody tr th {\n",
       "        vertical-align: top;\n",
       "    }\n",
       "\n",
       "    .dataframe thead th {\n",
       "        text-align: right;\n",
       "    }\n",
       "</style>\n",
       "<table border=\"1\" class=\"dataframe\">\n",
       "  <thead>\n",
       "    <tr style=\"text-align: right;\">\n",
       "      <th></th>\n",
       "      <th>Zip Code</th>\n",
       "      <th>Latitude</th>\n",
       "      <th>Longitude</th>\n",
       "      <th>Food Insecurity</th>\n",
       "    </tr>\n",
       "  </thead>\n",
       "  <tbody>\n",
       "    <tr>\n",
       "      <th>124</th>\n",
       "      <td>14626</td>\n",
       "      <td>43.2141</td>\n",
       "      <td>-77.7135</td>\n",
       "      <td>0.094</td>\n",
       "    </tr>\n",
       "    <tr>\n",
       "      <th>127</th>\n",
       "      <td>14623</td>\n",
       "      <td>43.0881</td>\n",
       "      <td>-77.6425</td>\n",
       "      <td>0.167</td>\n",
       "    </tr>\n",
       "    <tr>\n",
       "      <th>128</th>\n",
       "      <td>14622</td>\n",
       "      <td>43.2138</td>\n",
       "      <td>-77.5569</td>\n",
       "      <td>0.080</td>\n",
       "    </tr>\n",
       "    <tr>\n",
       "      <th>129</th>\n",
       "      <td>14621</td>\n",
       "      <td>43.1863</td>\n",
       "      <td>-77.6018</td>\n",
       "      <td>0.298</td>\n",
       "    </tr>\n",
       "    <tr>\n",
       "      <th>130</th>\n",
       "      <td>14620</td>\n",
       "      <td>43.1291</td>\n",
       "      <td>-77.6065</td>\n",
       "      <td>0.187</td>\n",
       "    </tr>\n",
       "  </tbody>\n",
       "</table>\n",
       "</div>"
      ],
      "text/plain": [
       "     Zip Code  Latitude  Longitude  Food Insecurity\n",
       "124     14626   43.2141   -77.7135            0.094\n",
       "127     14623   43.0881   -77.6425            0.167\n",
       "128     14622   43.2138   -77.5569            0.080\n",
       "129     14621   43.1863   -77.6018            0.298\n",
       "130     14620   43.1291   -77.6065            0.187"
      ]
     },
     "execution_count": 214,
     "metadata": {},
     "output_type": "execute_result"
    }
   ],
   "source": [
    "# HUNGER DATA\n",
    "hunger_data.columns = ['Zip Code', 'Latitude', 'Longitude', 'Food Insecurity']\n",
    "\n",
    "# NARROW DOWN DATA TO JUST ROCHESTER AREAS\n",
    "roc_zip = list(range(14604, 14624))\n",
    "roc_zip.append(14626)\n",
    "roc_zip.append(14627)\n",
    "roc_zip.append(14642)\n",
    "hunger_data = hunger_data.loc[hunger_data['Zip Code'].isin(roc_zip)]\n",
    "hunger_data['Zip Code'].fillna(value=0,inplace=True)\n",
    "\n",
    "\n",
    "print(hunger_data.info())   # to check for missing values\n",
    "hunger_data.head()"
   ]
  },
  {
   "cell_type": "code",
   "execution_count": 212,
   "metadata": {},
   "outputs": [
    {
     "ename": "KeyError",
     "evalue": "'Crime_Type'",
     "output_type": "error",
     "traceback": [
      "\u001b[1;31m---------------------------------------------------------------------------\u001b[0m",
      "\u001b[1;31mKeyError\u001b[0m                                  Traceback (most recent call last)",
      "File \u001b[1;32mc:\\Users\\jcof2\\AppData\\Local\\Programs\\Python\\Python311\\Lib\\site-packages\\pandas\\core\\indexes\\base.py:3803\u001b[0m, in \u001b[0;36mIndex.get_loc\u001b[1;34m(self, key, method, tolerance)\u001b[0m\n\u001b[0;32m   3802\u001b[0m \u001b[39mtry\u001b[39;00m:\n\u001b[1;32m-> 3803\u001b[0m     \u001b[39mreturn\u001b[39;00m \u001b[39mself\u001b[39;49m\u001b[39m.\u001b[39;49m_engine\u001b[39m.\u001b[39;49mget_loc(casted_key)\n\u001b[0;32m   3804\u001b[0m \u001b[39mexcept\u001b[39;00m \u001b[39mKeyError\u001b[39;00m \u001b[39mas\u001b[39;00m err:\n",
      "File \u001b[1;32mc:\\Users\\jcof2\\AppData\\Local\\Programs\\Python\\Python311\\Lib\\site-packages\\pandas\\_libs\\index.pyx:138\u001b[0m, in \u001b[0;36mpandas._libs.index.IndexEngine.get_loc\u001b[1;34m()\u001b[0m\n",
      "File \u001b[1;32mc:\\Users\\jcof2\\AppData\\Local\\Programs\\Python\\Python311\\Lib\\site-packages\\pandas\\_libs\\index.pyx:165\u001b[0m, in \u001b[0;36mpandas._libs.index.IndexEngine.get_loc\u001b[1;34m()\u001b[0m\n",
      "File \u001b[1;32mpandas\\_libs\\hashtable_class_helper.pxi:5745\u001b[0m, in \u001b[0;36mpandas._libs.hashtable.PyObjectHashTable.get_item\u001b[1;34m()\u001b[0m\n",
      "File \u001b[1;32mpandas\\_libs\\hashtable_class_helper.pxi:5753\u001b[0m, in \u001b[0;36mpandas._libs.hashtable.PyObjectHashTable.get_item\u001b[1;34m()\u001b[0m\n",
      "\u001b[1;31mKeyError\u001b[0m: 'Crime_Type'",
      "\nThe above exception was the direct cause of the following exception:\n",
      "\u001b[1;31mKeyError\u001b[0m                                  Traceback (most recent call last)",
      "Cell \u001b[1;32mIn[212], line 6\u001b[0m\n\u001b[0;32m      1\u001b[0m \u001b[39m# PLOTTING BOTH CONTINUOUS, NUMERIC VARS\u001b[39;00m\n\u001b[0;32m      2\u001b[0m gun_plot \u001b[39m=\u001b[39m px\u001b[39m.\u001b[39mscatter_mapbox(\n\u001b[0;32m      3\u001b[0m                         data_frame \u001b[39m=\u001b[39m gun_data,\n\u001b[0;32m      4\u001b[0m                         lat \u001b[39m=\u001b[39m gun_data[\u001b[39m'\u001b[39m\u001b[39mLatitude\u001b[39m\u001b[39m'\u001b[39m],\n\u001b[0;32m      5\u001b[0m                         lon \u001b[39m=\u001b[39m gun_data[\u001b[39m'\u001b[39m\u001b[39mLongitude\u001b[39m\u001b[39m'\u001b[39m],\n\u001b[1;32m----> 6\u001b[0m                         color\u001b[39m=\u001b[39m gun_data[\u001b[39m'\u001b[39;49m\u001b[39mCrime_Type\u001b[39;49m\u001b[39m'\u001b[39;49m],    \u001b[39m# TODO: replace with our metric\u001b[39;00m\n\u001b[0;32m      7\u001b[0m                         text \u001b[39m=\u001b[39m gun_data[\u001b[39m'\u001b[39m\u001b[39mCrime_Type\u001b[39m\u001b[39m'\u001b[39m],    \u001b[39m# TODO: replace with our metric\u001b[39;00m\n\u001b[0;32m      8\u001b[0m                         hover_name \u001b[39m=\u001b[39m \u001b[39mNone\u001b[39;00m,\n\u001b[0;32m      9\u001b[0m                         hover_data\u001b[39m=\u001b[39m [gun_data[\u001b[39m'\u001b[39m\u001b[39mOccurred_Date\u001b[39m\u001b[39m'\u001b[39m],gun_data[\u001b[39m'\u001b[39m\u001b[39mAddress\u001b[39m\u001b[39m'\u001b[39m]],\n\u001b[0;32m     10\u001b[0m                         zoom \u001b[39m=\u001b[39m \u001b[39m10\u001b[39m,\n\u001b[0;32m     11\u001b[0m                         mapbox_style \u001b[39m=\u001b[39m \u001b[39m'\u001b[39m\u001b[39mopen-street-map\u001b[39m\u001b[39m'\u001b[39m,\n\u001b[0;32m     12\u001b[0m                         title\u001b[39m=\u001b[39m\u001b[39m'\u001b[39m\u001b[39mGun Violence Incidents by Zipcode\u001b[39m\u001b[39m'\u001b[39m,\n\u001b[0;32m     13\u001b[0m                         height \u001b[39m=\u001b[39m \u001b[39m400\u001b[39m,\n\u001b[0;32m     14\u001b[0m                         width \u001b[39m=\u001b[39m \u001b[39m700\u001b[39m\n\u001b[0;32m     15\u001b[0m                         )\n\u001b[0;32m     19\u001b[0m hunger_plot \u001b[39m=\u001b[39m px\u001b[39m.\u001b[39mscatter_mapbox(\n\u001b[0;32m     20\u001b[0m                         data_frame \u001b[39m=\u001b[39m hunger_data,\n\u001b[0;32m     21\u001b[0m                         lat \u001b[39m=\u001b[39m hunger_data[\u001b[39m'\u001b[39m\u001b[39mLatitude\u001b[39m\u001b[39m'\u001b[39m],\n\u001b[1;32m   (...)\u001b[0m\n\u001b[0;32m     33\u001b[0m                         color_continuous_scale\u001b[39m=\u001b[39m\u001b[39m'\u001b[39m\u001b[39mRdYlGn_r\u001b[39m\u001b[39m'\u001b[39m\n\u001b[0;32m     34\u001b[0m                 )\n\u001b[0;32m     36\u001b[0m gun_plot\u001b[39m.\u001b[39mshow()\n",
      "File \u001b[1;32mc:\\Users\\jcof2\\AppData\\Local\\Programs\\Python\\Python311\\Lib\\site-packages\\pandas\\core\\frame.py:3805\u001b[0m, in \u001b[0;36mDataFrame.__getitem__\u001b[1;34m(self, key)\u001b[0m\n\u001b[0;32m   3803\u001b[0m \u001b[39mif\u001b[39;00m \u001b[39mself\u001b[39m\u001b[39m.\u001b[39mcolumns\u001b[39m.\u001b[39mnlevels \u001b[39m>\u001b[39m \u001b[39m1\u001b[39m:\n\u001b[0;32m   3804\u001b[0m     \u001b[39mreturn\u001b[39;00m \u001b[39mself\u001b[39m\u001b[39m.\u001b[39m_getitem_multilevel(key)\n\u001b[1;32m-> 3805\u001b[0m indexer \u001b[39m=\u001b[39m \u001b[39mself\u001b[39;49m\u001b[39m.\u001b[39;49mcolumns\u001b[39m.\u001b[39;49mget_loc(key)\n\u001b[0;32m   3806\u001b[0m \u001b[39mif\u001b[39;00m is_integer(indexer):\n\u001b[0;32m   3807\u001b[0m     indexer \u001b[39m=\u001b[39m [indexer]\n",
      "File \u001b[1;32mc:\\Users\\jcof2\\AppData\\Local\\Programs\\Python\\Python311\\Lib\\site-packages\\pandas\\core\\indexes\\base.py:3805\u001b[0m, in \u001b[0;36mIndex.get_loc\u001b[1;34m(self, key, method, tolerance)\u001b[0m\n\u001b[0;32m   3803\u001b[0m     \u001b[39mreturn\u001b[39;00m \u001b[39mself\u001b[39m\u001b[39m.\u001b[39m_engine\u001b[39m.\u001b[39mget_loc(casted_key)\n\u001b[0;32m   3804\u001b[0m \u001b[39mexcept\u001b[39;00m \u001b[39mKeyError\u001b[39;00m \u001b[39mas\u001b[39;00m err:\n\u001b[1;32m-> 3805\u001b[0m     \u001b[39mraise\u001b[39;00m \u001b[39mKeyError\u001b[39;00m(key) \u001b[39mfrom\u001b[39;00m \u001b[39merr\u001b[39;00m\n\u001b[0;32m   3806\u001b[0m \u001b[39mexcept\u001b[39;00m \u001b[39mTypeError\u001b[39;00m:\n\u001b[0;32m   3807\u001b[0m     \u001b[39m# If we have a listlike key, _check_indexing_error will raise\u001b[39;00m\n\u001b[0;32m   3808\u001b[0m     \u001b[39m#  InvalidIndexError. Otherwise we fall through and re-raise\u001b[39;00m\n\u001b[0;32m   3809\u001b[0m     \u001b[39m#  the TypeError.\u001b[39;00m\n\u001b[0;32m   3810\u001b[0m     \u001b[39mself\u001b[39m\u001b[39m.\u001b[39m_check_indexing_error(key)\n",
      "\u001b[1;31mKeyError\u001b[0m: 'Crime_Type'"
     ]
    }
   ],
   "source": [
    "# PLOTTING BOTH CONTINUOUS, NUMERIC VARS\n",
    "gun_plot = px.scatter_mapbox(\n",
    "                        data_frame = gun_data,\n",
    "                        lat = gun_data['Latitude'],\n",
    "                        lon = gun_data['Longitude'],\n",
    "                        color= gun_data['Crime_Type'],    # TODO: replace with our metric\n",
    "                        text = gun_data['Crime_Type'],    # TODO: replace with our metric\n",
    "                        hover_name = None,\n",
    "                        hover_data= [gun_data['Occurred_Date'],gun_data['Address']],\n",
    "                        zoom = 10,\n",
    "                        mapbox_style = 'open-street-map',\n",
    "                        title='Gun Violence Incidents by Zipcode',\n",
    "                        height = 400,\n",
    "                        width = 700\n",
    "                        )\n",
    "\n",
    "\n",
    "\n",
    "hunger_plot = px.scatter_mapbox(\n",
    "                        data_frame = hunger_data,\n",
    "                        lat = hunger_data['Latitude'],\n",
    "                        lon = hunger_data['Longitude'],\n",
    "                        color= hunger_data['Food Insecurity'],\n",
    "                        zoom = 10,\n",
    "                        hover_data = [hunger_data['Food Insecurity'],\n",
    "                                      hunger_data['Zip Code']],\n",
    "                                      \n",
    "                        size = hunger_data['Food Insecurity'],\n",
    "                        mapbox_style = 'open-street-map',\n",
    "                        title='Rochester Zip Codes by Food Insecurity Rate',\n",
    "                        height = 400,\n",
    "                        width = 700,\n",
    "                        color_continuous_scale='RdYlGn_r'\n",
    "                )\n",
    "\n",
    "gun_plot.show()\n",
    "hunger_plot.show()"
   ]
  },
  {
   "attachments": {},
   "cell_type": "markdown",
   "metadata": {},
   "source": [
    "#### SUMMARY STATS OF EACH DATASET"
   ]
  },
  {
   "cell_type": "code",
   "execution_count": 194,
   "metadata": {},
   "outputs": [
    {
     "name": "stdout",
     "output_type": "stream",
     "text": [
      "GUN VIOLENCE BASIC STATS:\n",
      "                X           Y  Occurred_Year    Latitude   Longitude\n",
      "count  137.000000  137.000000          137.0  137.000000  137.000000\n",
      "mean   -77.615400   43.167202         2022.0   43.167202  -77.615400\n",
      "std      0.024012    0.015374            0.0    0.015374    0.024012\n",
      "min    -77.659312   43.123608         2022.0   43.123608  -77.659312\n",
      "25%    -77.632012   43.159877         2022.0   43.159877  -77.632012\n",
      "50%    -77.621639   43.169126         2022.0   43.169126  -77.621639\n",
      "75%    -77.599577   43.177143         2022.0   43.177143  -77.599577\n",
      "max    -77.552548   43.220375         2022.0   43.220375  -77.552548 \n",
      "\n",
      "HUNGER BASIC STATS:\n",
      "                X           Y  Occurred_Year    Latitude   Longitude\n",
      "count  137.000000  137.000000          137.0  137.000000  137.000000\n",
      "mean   -77.615400   43.167202         2022.0   43.167202  -77.615400\n",
      "std      0.024012    0.015374            0.0    0.015374    0.024012\n",
      "min    -77.659312   43.123608         2022.0   43.123608  -77.659312\n",
      "25%    -77.632012   43.159877         2022.0   43.159877  -77.632012\n",
      "50%    -77.621639   43.169126         2022.0   43.169126  -77.621639\n",
      "75%    -77.599577   43.177143         2022.0   43.177143  -77.599577\n",
      "max    -77.552548   43.220375         2022.0   43.220375  -77.552548\n"
     ]
    }
   ],
   "source": [
    "# GET STATS\n",
    "gun_stats = gun_data.describe()\n",
    "hunger_stats = gun_data.describe()\n",
    "\n",
    "# PRINT STATS\n",
    "print(\"GUN VIOLENCE BASIC STATS:\")\n",
    "print(gun_stats, \"\\n\")\n",
    "print(\"HUNGER BASIC STATS:\")\n",
    "print(hunger_stats)"
   ]
  },
  {
   "attachments": {},
   "cell_type": "markdown",
   "metadata": {},
   "source": [
    "### COMPARING DATASETS AND VARIABLES"
   ]
  },
  {
   "cell_type": "code",
   "execution_count": 195,
   "metadata": {},
   "outputs": [
    {
     "data": {
      "image/png": "[encoded data removed]",
      "text/plain": [
       "<Figure size 750x350 with 1 Axes>"
      ]
     },
     "metadata": {},
     "output_type": "display_data"
    }
   ],
   "source": [
    "# COMPARE BY BOXPLOT\n",
    "\n",
    "# GET DATA\n",
    "gun_boxplot_data = gun_data['X'].quantile([0.25,0.5,0.75])   # TODO: change this to gun rate once done\n",
    "hunger_boxplot_data = hunger_data['Food Insecurity'].quantile([0.25,0.5,0.75])\n",
    "boxplots = pd.DataFrame({'Guns': gun_boxplot_data, 'Hunger': hunger_boxplot_data})\n",
    "\n",
    "# SET FIGURE \n",
    "plt.rcParams[\"figure.figsize\"] = [7.50, 3.50]\n",
    "plt.rcParams[\"figure.autolayout\"] = True\n",
    "\n",
    "# Plot the dataframe\n",
    "ax = boxplots[['Guns','Hunger']].plot(kind='box', title='boxplot')\n",
    "\n",
    "# Display the plot\n",
    "plt.show()"
   ]
  },
  {
   "cell_type": "code",
   "execution_count": 196,
   "metadata": {},
   "outputs": [
    {
     "data": {
      "text/plain": [
       "<AxesSubplot: title={'center': 'box'}>"
      ]
     },
     "execution_count": 196,
     "metadata": {},
     "output_type": "execute_result"
    },
    {
     "data": {
      "image/png": "[encoded data removed]",
      "text/plain": [
       "<Figure size 750x350 with 1 Axes>"
      ]
     },
     "metadata": {},
     "output_type": "display_data"
    }
   ],
   "source": [
    "hunger_boxplot_data = hunger_data['Food Insecurity'].quantile([0.25,0.5,0.75])\n",
    "\n",
    "hunger_boxplot_data.plot(kind=\"box\",title='box')"
   ]
  },
  {
   "attachments": {},
   "cell_type": "markdown",
   "metadata": {},
   "source": [
    "#### MAKING OUR GUN DATA METRIC"
   ]
  },
  {
   "cell_type": "code",
   "execution_count": null,
   "metadata": {},
   "outputs": [],
   "source": []
  },
  {
   "attachments": {},
   "cell_type": "markdown",
   "metadata": {},
   "source": [
    "### SOURCING\n",
    "---\n",
    "[1] Dwyer, M. (2018), “New food insecurity data show level of need in Rochester, other communities,” Foodlink Inc, Available athttps://foodlinkny.org/new-food-insecurity-data-show-level-of-need-in-rochester-other-communities/.\n",
    "\n",
    "[2] “Overall (all ages) Hunger & Poverty in the United States | Map the Meal Gap” (n.d.). Available athttps://map.feedingamerica.org.\n",
    "\n",
    "[3] “Rochester NY Shooting Victims | Rochester NY Shooting Victims | Rochester, NY Police Department Open Data Portal” (n.d.). Available athttps://data-rpdny.opendata.arcgis.com/datasets/rochester-ny-shooting-victims/explore?location=43.180005%2C-77.596549%2C5.00.\n"
   ]
  },
  {
   "cell_type": "markdown",
   "metadata": {},
   "source": []
  }
 ],
 "metadata": {
  "kernelspec": {
   "display_name": "Python 3",
   "language": "python",
   "name": "python3"
  },
  "language_info": {
   "codemirror_mode": {
    "name": "ipython",
    "version": 3
   },
   "file_extension": ".py",
   "mimetype": "text/x-python",
   "name": "python",
   "nbconvert_exporter": "python",
   "pygments_lexer": "ipython3",
   "version": "3.11.1"
  },
  "orig_nbformat": 4
 },
 "nbformat": 4,
 "nbformat_minor": 2
}
