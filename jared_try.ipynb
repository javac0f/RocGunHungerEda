{
 "cells": [
  {
   "cell_type": "code",
   "execution_count": 60,
   "metadata": {},
   "outputs": [],
   "source": [
    "# BASIC DS LIBS\n",
    "import openpyxl\n",
    "import numpy as np\n",
    "import pandas as pd\n",
    "import matplotlib.pyplot as plt\n",
    "\n",
    "# FILE IO LIBS\n",
    "import os \n",
    "from os.path import join \n",
    "\n",
    "# GEOSPATIAL LIBS\n",
    "from osgeo import gdal\n",
    "import geopandas as gpd\n",
    "import geopy\n",
    "from geopandas import GeoDataFrame\n",
    "\n",
    "# PLOT LIBS\n",
    "import plotly.express as px \n",
    "from plotly.offline import plot\n",
    "import plotly.graph_objects as go\n",
    "from shapely.geometry import Point\n",
    "from plotly.subplots import make_subplots\n"
   ]
  },
  {
   "cell_type": "code",
   "execution_count": 61,
   "metadata": {},
   "outputs": [],
   "source": [
    "# IMPORT DATA\n",
    "hunger_data = pd.read_csv(r'data/foodlink_data.csv')\n",
    "mealmap_data = pd.read_excel(r'data/MMG2022_2020-2019Data_ToShare.xlsx')\n",
    "gun_data = pd.read_csv(r'data/Rochester_NY_Shooting_Victims.csv')"
   ]
  },
  {
   "attachments": {},
   "cell_type": "markdown",
   "metadata": {},
   "source": [
    "### EDA"
   ]
  },
  {
   "attachments": {},
   "cell_type": "markdown",
   "metadata": {},
   "source": [
    "#### DATA CLEANING"
   ]
  },
  {
   "cell_type": "code",
   "execution_count": 62,
   "metadata": {},
   "outputs": [
    {
     "name": "stdout",
     "output_type": "stream",
     "text": [
      "Index(['X', 'Y', 'ID', 'Case_Number', 'Address', 'Occurred_Date',\n",
      "       'Occurred_Month', 'Occurred_Year', 'Crime_Type', 'Multiple_Shooting',\n",
      "       'Gender', 'Race', 'Ethnicity', 'Victim_Age', 'Victim_Age_Band',\n",
      "       'Latitude', 'Longitude', 'ObjectId'],\n",
      "      dtype='object')\n",
      "X                    4679\n",
      "Y                    4679\n",
      "ID                   4679\n",
      "Case_Number          4679\n",
      "Address              4679\n",
      "Occurred_Date        4679\n",
      "Occurred_Month       4679\n",
      "Occurred_Year        4679\n",
      "Crime_Type           4679\n",
      "Multiple_Shooting    4679\n",
      "Gender               4679\n",
      "Race                 4679\n",
      "Ethnicity            4679\n",
      "Victim_Age           4679\n",
      "Victim_Age_Band      4679\n",
      "Latitude             4679\n",
      "Longitude            4679\n",
      "ObjectId             4679\n",
      "dtype: int64\n"
     ]
    }
   ],
   "source": [
    "gun_data.head()\n",
    "print(gun_data.columns)\n",
    "print(gun_data.count())"
   ]
  },
  {
   "cell_type": "code",
   "execution_count": 63,
   "metadata": {},
   "outputs": [
    {
     "name": "stdout",
     "output_type": "stream",
     "text": [
      "<class 'pandas.core.frame.DataFrame'>\n",
      "Int64Index: 137 entries, 0 to 436\n",
      "Data columns (total 8 columns):\n",
      " #   Column         Non-Null Count  Dtype  \n",
      "---  ------         --------------  -----  \n",
      " 0   X              137 non-null    float64\n",
      " 1   Y              137 non-null    float64\n",
      " 2   Address        137 non-null    object \n",
      " 3   Occurred_Date  137 non-null    object \n",
      " 4   Occurred_Year  137 non-null    int64  \n",
      " 5   Crime_Type     137 non-null    object \n",
      " 6   Latitude       137 non-null    float64\n",
      " 7   Longitude      137 non-null    float64\n",
      "dtypes: float64(4), int64(1), object(3)\n",
      "memory usage: 9.6+ KB\n",
      "None\n"
     ]
    },
    {
     "data": {
      "text/html": [
       "<div>\n",
       "<style scoped>\n",
       "    .dataframe tbody tr th:only-of-type {\n",
       "        vertical-align: middle;\n",
       "    }\n",
       "\n",
       "    .dataframe tbody tr th {\n",
       "        vertical-align: top;\n",
       "    }\n",
       "\n",
       "    .dataframe thead th {\n",
       "        text-align: right;\n",
       "    }\n",
       "</style>\n",
       "<table border=\"1\" class=\"dataframe\">\n",
       "  <thead>\n",
       "    <tr style=\"text-align: right;\">\n",
       "      <th></th>\n",
       "      <th>X</th>\n",
       "      <th>Y</th>\n",
       "      <th>Address</th>\n",
       "      <th>Occurred_Date</th>\n",
       "      <th>Occurred_Year</th>\n",
       "      <th>Crime_Type</th>\n",
       "      <th>Latitude</th>\n",
       "      <th>Longitude</th>\n",
       "    </tr>\n",
       "  </thead>\n",
       "  <tbody>\n",
       "    <tr>\n",
       "      <th>0</th>\n",
       "      <td>-77.610890</td>\n",
       "      <td>43.184163</td>\n",
       "      <td>442 Remington St</td>\n",
       "      <td>2022/06/01 04:00:00+00</td>\n",
       "      <td>2022</td>\n",
       "      <td>Shooting</td>\n",
       "      <td>43.184163</td>\n",
       "      <td>-77.610890</td>\n",
       "    </tr>\n",
       "    <tr>\n",
       "      <th>1</th>\n",
       "      <td>-77.598893</td>\n",
       "      <td>43.181793</td>\n",
       "      <td>904 Hudson Ave</td>\n",
       "      <td>2022/05/29 04:00:00+00</td>\n",
       "      <td>2022</td>\n",
       "      <td>Homicide</td>\n",
       "      <td>43.181793</td>\n",
       "      <td>-77.598893</td>\n",
       "    </tr>\n",
       "    <tr>\n",
       "      <th>2</th>\n",
       "      <td>-77.630378</td>\n",
       "      <td>43.142970</td>\n",
       "      <td>168 Bartlett St</td>\n",
       "      <td>2022/05/29 04:00:00+00</td>\n",
       "      <td>2022</td>\n",
       "      <td>Shooting</td>\n",
       "      <td>43.142970</td>\n",
       "      <td>-77.630378</td>\n",
       "    </tr>\n",
       "    <tr>\n",
       "      <th>3</th>\n",
       "      <td>-77.580628</td>\n",
       "      <td>43.167216</td>\n",
       "      <td>720 N Goodman St</td>\n",
       "      <td>2022/05/28 04:00:00+00</td>\n",
       "      <td>2022</td>\n",
       "      <td>Shooting</td>\n",
       "      <td>43.167216</td>\n",
       "      <td>-77.580628</td>\n",
       "    </tr>\n",
       "    <tr>\n",
       "      <th>4</th>\n",
       "      <td>-77.641972</td>\n",
       "      <td>43.162394</td>\n",
       "      <td>138 Murray St</td>\n",
       "      <td>2022/05/26 04:00:00+00</td>\n",
       "      <td>2022</td>\n",
       "      <td>Shooting</td>\n",
       "      <td>43.162394</td>\n",
       "      <td>-77.641972</td>\n",
       "    </tr>\n",
       "  </tbody>\n",
       "</table>\n",
       "</div>"
      ],
      "text/plain": [
       "           X          Y           Address           Occurred_Date  \\\n",
       "0 -77.610890  43.184163  442 Remington St  2022/06/01 04:00:00+00   \n",
       "1 -77.598893  43.181793    904 Hudson Ave  2022/05/29 04:00:00+00   \n",
       "2 -77.630378  43.142970   168 Bartlett St  2022/05/29 04:00:00+00   \n",
       "3 -77.580628  43.167216  720 N Goodman St  2022/05/28 04:00:00+00   \n",
       "4 -77.641972  43.162394     138 Murray St  2022/05/26 04:00:00+00   \n",
       "\n",
       "   Occurred_Year Crime_Type   Latitude  Longitude  \n",
       "0           2022   Shooting  43.184163 -77.610890  \n",
       "1           2022   Homicide  43.181793 -77.598893  \n",
       "2           2022   Shooting  43.142970 -77.630378  \n",
       "3           2022   Shooting  43.167216 -77.580628  \n",
       "4           2022   Shooting  43.162394 -77.641972  "
      ]
     },
     "execution_count": 63,
     "metadata": {},
     "output_type": "execute_result"
    }
   ],
   "source": [
    "# GUN DATA CLEANING\n",
    "gun_data = gun_data.drop(columns=[\n",
    "                        'ID',\n",
    "                        'Case_Number',\n",
    "                        'Occurred_Month',\n",
    "                        'Gender',\n",
    "                        'Race',\n",
    "                        'Ethnicity',\n",
    "                        'Victim_Age',\n",
    "                        'Victim_Age_Band',\n",
    "                        'ObjectId',\n",
    "                        'Multiple_Shooting'\n",
    "                        ])\n",
    "\n",
    "gun_data = gun_data.loc[gun_data['Occurred_Year'].isin([2022,2023])]                        \n",
    "print(gun_data.info())  # to check for any missing values\n",
    "gun_data.head()"
   ]
  },
  {
   "cell_type": "code",
   "execution_count": 64,
   "metadata": {},
   "outputs": [
    {
     "name": "stdout",
     "output_type": "stream",
     "text": [
      "<class 'pandas.core.frame.DataFrame'>\n",
      "Int64Index: 20 entries, 124 to 145\n",
      "Data columns (total 4 columns):\n",
      " #   Column           Non-Null Count  Dtype  \n",
      "---  ------           --------------  -----  \n",
      " 0   Zip Code         20 non-null     int64  \n",
      " 1   Latitude         20 non-null     float64\n",
      " 2   Longitude        20 non-null     float64\n",
      " 3   Food Insecurity  20 non-null     float64\n",
      "dtypes: float64(3), int64(1)\n",
      "memory usage: 800.0 bytes\n",
      "None\n"
     ]
    },
    {
     "data": {
      "text/html": [
       "<div>\n",
       "<style scoped>\n",
       "    .dataframe tbody tr th:only-of-type {\n",
       "        vertical-align: middle;\n",
       "    }\n",
       "\n",
       "    .dataframe tbody tr th {\n",
       "        vertical-align: top;\n",
       "    }\n",
       "\n",
       "    .dataframe thead th {\n",
       "        text-align: right;\n",
       "    }\n",
       "</style>\n",
       "<table border=\"1\" class=\"dataframe\">\n",
       "  <thead>\n",
       "    <tr style=\"text-align: right;\">\n",
       "      <th></th>\n",
       "      <th>Zip Code</th>\n",
       "      <th>Latitude</th>\n",
       "      <th>Longitude</th>\n",
       "      <th>Food Insecurity</th>\n",
       "    </tr>\n",
       "  </thead>\n",
       "  <tbody>\n",
       "    <tr>\n",
       "      <th>124</th>\n",
       "      <td>14626</td>\n",
       "      <td>43.2141</td>\n",
       "      <td>-77.7135</td>\n",
       "      <td>0.094</td>\n",
       "    </tr>\n",
       "    <tr>\n",
       "      <th>127</th>\n",
       "      <td>14623</td>\n",
       "      <td>43.0881</td>\n",
       "      <td>-77.6425</td>\n",
       "      <td>0.167</td>\n",
       "    </tr>\n",
       "    <tr>\n",
       "      <th>128</th>\n",
       "      <td>14622</td>\n",
       "      <td>43.2138</td>\n",
       "      <td>-77.5569</td>\n",
       "      <td>0.080</td>\n",
       "    </tr>\n",
       "    <tr>\n",
       "      <th>129</th>\n",
       "      <td>14621</td>\n",
       "      <td>43.1863</td>\n",
       "      <td>-77.6018</td>\n",
       "      <td>0.298</td>\n",
       "    </tr>\n",
       "    <tr>\n",
       "      <th>130</th>\n",
       "      <td>14620</td>\n",
       "      <td>43.1291</td>\n",
       "      <td>-77.6065</td>\n",
       "      <td>0.187</td>\n",
       "    </tr>\n",
       "  </tbody>\n",
       "</table>\n",
       "</div>"
      ],
      "text/plain": [
       "     Zip Code  Latitude  Longitude  Food Insecurity\n",
       "124     14626   43.2141   -77.7135            0.094\n",
       "127     14623   43.0881   -77.6425            0.167\n",
       "128     14622   43.2138   -77.5569            0.080\n",
       "129     14621   43.1863   -77.6018            0.298\n",
       "130     14620   43.1291   -77.6065            0.187"
      ]
     },
     "execution_count": 64,
     "metadata": {},
     "output_type": "execute_result"
    }
   ],
   "source": [
    "# HUNGER DATA\n",
    "hunger_data.columns = ['Zip Code', 'Latitude', 'Longitude', 'Food Insecurity']\n",
    "\n",
    "# NARROW DOWN DATA TO JUST ROCHESTER AREAS\n",
    "roc_zip = list(range(14604, 14624))\n",
    "roc_zip.append(14626)\n",
    "roc_zip.append(14627)\n",
    "roc_zip.append(14642)\n",
    "hunger_data = hunger_data.loc[hunger_data['Zip Code'].isin(roc_zip)]\n",
    "\n",
    "print(hunger_data.info())   # to check for missing values\n",
    "hunger_data.head()"
   ]
  },
  {
   "cell_type": "code",
   "execution_count": 65,
   "metadata": {},
   "outputs": [
    {
     "data": {
      "application/vnd.plotly.v1+json": {
       "config": {
        "plotlyServerURL": "https://plot.ly"
       },
       "data": [
        {
         "customdata": [
          [
           "2022/06/01 04:00:00+00",
           "442 Remington St"
          ],
          [
           "2022/05/29 04:00:00+00",
           "168 Bartlett St"
          ],
          [
           "2022/05/28 04:00:00+00",
           "720 N Goodman St"
          ],
          [
           "2022/05/26 04:00:00+00",
           "138 Murray St"
          ],
          [
           "2022/05/26 04:00:00+00",
           "22 Jefferson Ave"
          ],
          [
           "2022/05/25 04:00:00+00",
           "1173 Culver Rd"
          ],
          [
           "2022/05/25 04:00:00+00",
           "1801 E Main St"
          ],
          [
           "2022/05/24 04:00:00+00",
           "58 Sheldon Ter"
          ],
          [
           "2022/05/22 04:00:00+00",
           "1865 Clifford Ave"
          ],
          [
           "2022/05/22 04:00:00+00",
           "405 Avenue D"
          ],
          [
           "2022/05/21 04:00:00+00",
           "121 Selye Ter"
          ],
          [
           "2022/05/21 04:00:00+00",
           "120 Cummings St"
          ],
          [
           "2022/05/21 04:00:00+00",
           "344 Clifford Ave"
          ],
          [
           "2022/05/20 04:00:00+00",
           "594 Smith St"
          ],
          [
           "2022/05/20 04:00:00+00",
           "1260 St Paul St"
          ],
          [
           "2022/05/20 04:00:00+00",
           "116 Garson Ave"
          ],
          [
           "2022/05/20 04:00:00+00",
           "74 Kosciusko St"
          ],
          [
           "2022/05/19 04:00:00+00",
           "78 Avenue D"
          ],
          [
           "2022/05/17 04:00:00+00",
           "40 Malvern St"
          ],
          [
           "2022/05/17 04:00:00+00",
           "111 Santee St"
          ],
          [
           "2022/05/14 04:00:00+00",
           "150 Van Auker St"
          ],
          [
           "2022/05/10 04:00:00+00",
           "46 Melrose St"
          ],
          [
           "2022/05/08 04:00:00+00",
           "232 Pierpont St"
          ],
          [
           "2022/05/08 04:00:00+00",
           "37 Ferncliffe Dr"
          ],
          [
           "2022/05/08 04:00:00+00",
           "24 Alphonse St"
          ],
          [
           "2022/05/08 04:00:00+00",
           "243 Fourth St"
          ],
          [
           "2022/05/08 04:00:00+00",
           "243 Fourth St"
          ],
          [
           "2022/05/07 04:00:00+00",
           "11 Silver St"
          ],
          [
           "2022/05/06 04:00:00+00",
           "512 Columbia Ave"
          ],
          [
           "2022/05/05 04:00:00+00",
           "443 Scio St"
          ],
          [
           "2022/05/02 04:00:00+00",
           "837 Lake Ave"
          ],
          [
           "2022/05/01 04:00:00+00",
           "827 Glide St"
          ],
          [
           "2022/05/01 04:00:00+00",
           "620 Dewey Ave"
          ],
          [
           "2022/05/01 04:00:00+00",
           "368 Parsells Ave"
          ],
          [
           "2022/05/01 04:00:00+00",
           "16 Joseph Pl"
          ],
          [
           "2022/04/30 04:00:00+00",
           "37 York St"
          ],
          [
           "2022/04/30 04:00:00+00",
           "34 Woodward St"
          ],
          [
           "2022/04/29 04:00:00+00",
           "130 Weyl St"
          ],
          [
           "2022/04/25 04:00:00+00",
           "1676 Clifford Ave"
          ],
          [
           "2022/04/25 04:00:00+00",
           "47 Glendale Pk"
          ],
          [
           "2022/04/23 04:00:00+00",
           "253 Moulson St"
          ],
          [
           "2022/04/23 04:00:00+00",
           "488 Joseph Ave"
          ],
          [
           "2022/04/20 04:00:00+00",
           "403 Columbia Ave"
          ],
          [
           "2022/04/19 04:00:00+00",
           "710 N Goodman St"
          ],
          [
           "2022/04/18 04:00:00+00",
           "1058 Clifford Ave"
          ],
          [
           "2022/04/18 04:00:00+00",
           "1058 Clifford Ave"
          ],
          [
           "2022/04/17 04:00:00+00",
           "100 Hawley St"
          ],
          [
           "2022/04/17 04:00:00+00",
           "44 Harris St"
          ],
          [
           "2022/04/17 04:00:00+00",
           "19 Lang St"
          ],
          [
           "2022/04/16 04:00:00+00",
           "571 Lake Ave"
          ],
          [
           "2022/04/16 04:00:00+00",
           "109 Cady St"
          ],
          [
           "2022/04/15 04:00:00+00",
           "15 Phelps Ave"
          ],
          [
           "2022/04/15 04:00:00+00",
           "370 Melville St"
          ],
          [
           "2022/04/15 04:00:00+00",
           "50 N Plymouth Ave"
          ],
          [
           "2022/04/15 04:00:00+00",
           "50 N Plymouth Ave"
          ],
          [
           "2022/04/14 04:00:00+00",
           "611 Jefferson Ave"
          ],
          [
           "2022/04/12 04:00:00+00",
           "30 Arklow St"
          ],
          [
           "2022/04/12 04:00:00+00",
           "238 Chamberlain St"
          ],
          [
           "2022/04/12 04:00:00+00",
           "130 Cedarwood Ter"
          ],
          [
           "2022/04/12 04:00:00+00",
           "1 S Plymouth Ave"
          ],
          [
           "2022/04/10 04:00:00+00",
           "836 N Goodman Ave"
          ],
          [
           "2022/04/05 04:00:00+00",
           "154 N Clinton Ave"
          ],
          [
           "2022/04/04 04:00:00+00",
           "11 Vinewood Pl"
          ],
          [
           "2022/04/04 04:00:00+00",
           "11 Vinewood Pl"
          ],
          [
           "2022/04/03 04:00:00+00",
           "57 Lime St"
          ],
          [
           "2022/03/31 04:00:00+00",
           "1042 Dewey Ave"
          ],
          [
           "2022/03/30 04:00:00+00",
           "43 Judson St"
          ],
          [
           "2022/03/25 04:00:00+00",
           "74 Kosciusko St"
          ],
          [
           "2022/03/22 04:00:00+00",
           "45 Varden St"
          ],
          [
           "2022/03/19 04:00:00+00",
           "601 Elmwood Ave"
          ],
          [
           "2022/03/19 04:00:00+00",
           "456 Thurston Rd"
          ],
          [
           "2022/03/17 04:00:00+00",
           "597 Norton St"
          ],
          [
           "2022/03/16 04:00:00+00",
           "83 Taylor St"
          ],
          [
           "2022/03/15 04:00:00+00",
           "41 Backus St"
          ],
          [
           "2022/03/14 04:00:00+00",
           "575 Smith St"
          ],
          [
           "2022/03/13 05:00:00+00",
           "471 State St"
          ],
          [
           "2022/03/13 05:00:00+00",
           "471 State St"
          ],
          [
           "2022/03/12 05:00:00+00",
           "18 Gladstone St"
          ],
          [
           "2022/03/12 05:00:00+00",
           "859 Bay St"
          ],
          [
           "2022/03/10 05:00:00+00",
           "1397 Clifford Ave"
          ],
          [
           "2022/03/05 05:00:00+00",
           "17 Fairfax Rd"
          ],
          [
           "2022/03/04 05:00:00+00",
           "171 Shelter St"
          ],
          [
           "2022/02/26 05:00:00+00",
           "799 N Clinton Ave"
          ],
          [
           "2022/02/26 05:00:00+00",
           "799 N Clinton Ave"
          ],
          [
           "2022/02/24 05:00:00+00",
           "236 Avenue D"
          ],
          [
           "2022/02/23 05:00:00+00",
           "196 Bernard St"
          ],
          [
           "2022/02/23 05:00:00+00",
           "153 N Union St"
          ],
          [
           "2022/02/23 05:00:00+00",
           "153 N Union St"
          ],
          [
           "2022/02/23 05:00:00+00",
           "202 Cottage St"
          ],
          [
           "2022/02/23 05:00:00+00",
           "116 Burrows St"
          ],
          [
           "2022/02/21 05:00:00+00",
           "337 Roycroft Dr"
          ],
          [
           "2022/02/21 05:00:00+00",
           "54 Wendell St"
          ],
          [
           "2022/02/20 05:00:00+00",
           "320 Kelly St"
          ],
          [
           "2022/02/20 05:00:00+00",
           "1 Twin Beeches"
          ],
          [
           "2022/02/20 05:00:00+00",
           "1894 Dewey Ave"
          ],
          [
           "2022/02/17 05:00:00+00",
           "61 Myrtle St"
          ],
          [
           "2022/02/15 05:00:00+00",
           "55 Pardee St"
          ],
          [
           "2022/02/13 05:00:00+00",
           "303 Roxborough Rd"
          ],
          [
           "2022/02/09 05:00:00+00",
           "230 Saxton St"
          ],
          [
           "2022/02/01 05:00:00+00",
           "452 Glenwood Ave"
          ],
          [
           "2022/01/20 05:00:00+00",
           "311 Frost Ave "
          ],
          [
           "2022/01/19 05:00:00+00",
           "1233 N Clinton Ave"
          ],
          [
           "2022/01/19 05:00:00+00",
           "1233 N Clinton Ave"
          ],
          [
           "2022/01/19 05:00:00+00",
           "719 S Plymouth Ave"
          ],
          [
           "2022/01/13 05:00:00+00",
           "45 Glendale Pk"
          ],
          [
           "2022/01/13 05:00:00+00",
           "45 Glendale Pk"
          ],
          [
           "2022/01/13 05:00:00+00",
           "45 Glendale Pk"
          ],
          [
           "2022/01/12 05:00:00+00",
           "353 Sherman St"
          ],
          [
           "2022/01/10 05:00:00+00",
           "19 Hollenbeck St"
          ],
          [
           "2022/01/09 05:00:00+00",
           "185 Burley Rd"
          ],
          [
           "2022/01/07 05:00:00+00",
           "493 West Ave"
          ],
          [
           "2022/01/05 05:00:00+00",
           "367 Alphonse St"
          ],
          [
           "2022/01/04 05:00:00+00",
           "211 Depew St"
          ],
          [
           "2022/01/04 05:00:00+00",
           "290 Saxton St"
          ],
          [
           "2022/01/01 05:00:00+00",
           "204 Hawley St"
          ]
         ],
         "hovertemplate": "Crime_Type=%{text}<br>Latitude=%{lat}<br>Longitude=%{lon}<br>Occurred_Date=%{customdata[0]}<br>Address=%{customdata[1]}<extra></extra>",
         "lat": [
          43.18416269,
          43.14297014,
          43.16721571,
          43.16239428,
          43.15486861,
          43.16669846,
          43.1589162,
          43.13223858,
          43.17580088,
          43.18028037,
          43.18146688,
          43.17340684,
          43.17505997,
          43.16071036,
          43.17884696,
          43.16447594,
          43.18538057,
          43.18035945,
          43.17677499,
          43.17141551,
          43.15016761,
          43.13866208,
          43.18429203,
          43.17651614,
          43.17637242,
          43.16791436,
          43.16791436,
          43.1550101,
          43.14174903,
          43.16507779,
          43.18056851,
          43.16803433,
          43.17619911,
          43.16599649,
          43.18172423,
          43.15088207,
          43.16440965,
          43.18333186,
          43.17600856,
          43.1763417,
          43.18992499,
          43.17291283,
          43.14156061,
          43.16695964,
          43.17556893,
          43.17556893,
          43.14097303,
          43.17718279,
          43.18490445,
          43.17523297,
          43.14568724,
          43.17142989,
          43.16685145,
          43.15573163,
          43.15573163,
          43.14265696,
          43.15268903,
          43.16605423,
          43.16295368,
          43.1528848,
          43.16924356,
          43.16030924,
          43.14733655,
          43.14733655,
          43.16173444,
          43.18493299,
          43.14529486,
          43.18538057,
          43.17088875,
          43.12360795,
          43.13580404,
          43.18639775,
          43.15351426,
          43.17144967,
          43.16045551,
          43.16301446,
          43.16301446,
          43.14838457,
          43.17116924,
          43.17541558,
          43.16251264,
          43.13871776,
          43.17296273,
          43.17296273,
          43.18046288,
          43.17737966,
          43.16137543,
          43.16137543,
          43.13489226,
          43.16709225,
          43.18149375,
          43.17068166,
          43.16730939,
          43.17309351,
          43.20239746,
          43.1660195,
          43.18107053,
          43.14054928,
          43.1588689,
          43.17714268,
          43.1436132,
          43.18199882,
          43.18199882,
          43.16517331,
          43.17631463,
          43.17631463,
          43.17631463,
          43.17112429,
          43.17834727,
          43.22037523,
          43.14976604,
          43.17626459,
          43.14552109,
          43.16008046,
          43.14103651
         ],
         "legendgroup": "Shooting",
         "lon": [
          -77.61088985,
          -77.6303776,
          -77.5806279,
          -77.64197227,
          -77.62870378,
          -77.56282563,
          -77.56468747,
          -77.6503256,
          -77.5718866,
          -77.61295886,
          -77.63527439,
          -77.573786,
          -77.61456707,
          -77.63035142,
          -77.62483201,
          -77.5839085,
          -77.59731041,
          -77.62267792,
          -77.63311154,
          -77.64319234,
          -77.62126264,
          -77.637393,
          -77.63674091,
          -77.58225061,
          -77.60390502,
          -77.58483019,
          -77.58483019,
          -77.63045052,
          -77.63472609,
          -77.59559558,
          -77.6321989,
          -77.65437725,
          -77.6393238,
          -77.56866868,
          -77.60755079,
          -77.63775661,
          -77.59957657,
          -77.60436298,
          -77.57695712,
          -77.63152004,
          -77.6055469,
          -77.60713741,
          -77.63159645,
          -77.58072841,
          -77.59440059,
          -77.59440059,
          -77.62476874,
          -77.62138515,
          -77.61183111,
          -77.63018914,
          -77.62711511,
          -77.62905386,
          -77.56722612,
          -77.61578995,
          -77.61578995,
          -77.62924572,
          -77.63121245,
          -77.57498418,
          -77.57096812,
          -77.6128988,
          -77.57957943,
          -77.6074545,
          -77.62538552,
          -77.62538552,
          -77.6360566,
          -77.63853129,
          -77.63780085,
          -77.59731041,
          -77.56418022,
          -77.62435793,
          -77.65070369,
          -77.60738513,
          -77.63640405,
          -77.63282365,
          -77.62989965,
          -77.62163933,
          -77.62163933,
          -77.63165143,
          -77.57026846,
          -77.58483403,
          -77.55254829,
          -77.63390522,
          -77.61310545,
          -77.61310545,
          -77.61796637,
          -77.6004679,
          -77.59367806,
          -77.59367806,
          -77.62830566,
          -77.64842316,
          -77.58957659,
          -77.57233491,
          -77.60889454,
          -77.62911978,
          -77.63846678,
          -77.64159001,
          -77.60928241,
          -77.6593118,
          -77.6321527,
          -77.6420558,
          -77.62735723,
          -77.61387505,
          -77.61387505,
          -77.62687918,
          -77.63162018,
          -77.63162018,
          -77.63162018,
          -77.63949889,
          -77.61650099,
          -77.62325107,
          -77.65145257,
          -77.59420801,
          -77.65364718,
          -77.63201202,
          -77.62682131
         ],
         "marker": {
          "color": "#636efa"
         },
         "mode": "markers+text",
         "name": "Shooting",
         "showlegend": true,
         "subplot": "mapbox",
         "text": [
          "Shooting",
          "Shooting",
          "Shooting",
          "Shooting",
          "Shooting",
          "Shooting",
          "Shooting",
          "Shooting",
          "Shooting",
          "Shooting",
          "Shooting",
          "Shooting",
          "Shooting",
          "Shooting",
          "Shooting",
          "Shooting",
          "Shooting",
          "Shooting",
          "Shooting",
          "Shooting",
          "Shooting",
          "Shooting",
          "Shooting",
          "Shooting",
          "Shooting",
          "Shooting",
          "Shooting",
          "Shooting",
          "Shooting",
          "Shooting",
          "Shooting",
          "Shooting",
          "Shooting",
          "Shooting",
          "Shooting",
          "Shooting",
          "Shooting",
          "Shooting",
          "Shooting",
          "Shooting",
          "Shooting",
          "Shooting",
          "Shooting",
          "Shooting",
          "Shooting",
          "Shooting",
          "Shooting",
          "Shooting",
          "Shooting",
          "Shooting",
          "Shooting",
          "Shooting",
          "Shooting",
          "Shooting",
          "Shooting",
          "Shooting",
          "Shooting",
          "Shooting",
          "Shooting",
          "Shooting",
          "Shooting",
          "Shooting",
          "Shooting",
          "Shooting",
          "Shooting",
          "Shooting",
          "Shooting",
          "Shooting",
          "Shooting",
          "Shooting",
          "Shooting",
          "Shooting",
          "Shooting",
          "Shooting",
          "Shooting",
          "Shooting",
          "Shooting",
          "Shooting",
          "Shooting",
          "Shooting",
          "Shooting",
          "Shooting",
          "Shooting",
          "Shooting",
          "Shooting",
          "Shooting",
          "Shooting",
          "Shooting",
          "Shooting",
          "Shooting",
          "Shooting",
          "Shooting",
          "Shooting",
          "Shooting",
          "Shooting",
          "Shooting",
          "Shooting",
          "Shooting",
          "Shooting",
          "Shooting",
          "Shooting",
          "Shooting",
          "Shooting",
          "Shooting",
          "Shooting",
          "Shooting",
          "Shooting",
          "Shooting",
          "Shooting",
          "Shooting",
          "Shooting",
          "Shooting",
          "Shooting",
          "Shooting",
          "Shooting"
         ],
         "type": "scattermapbox"
        },
        {
         "customdata": [
          [
           "2022/05/29 04:00:00+00",
           "904 Hudson Ave"
          ],
          [
           "2022/05/08 04:00:00+00",
           "610 N Plymouth Ave"
          ],
          [
           "2022/05/01 04:00:00+00",
           "256 Driving Park Ave"
          ],
          [
           "2022/04/24 04:00:00+00",
           "398 W Main St"
          ],
          [
           "2022/04/15 04:00:00+00",
           "15 Phelps Ave"
          ],
          [
           "2022/04/10 04:00:00+00",
           "836 N Goodman Ave"
          ],
          [
           "2022/04/09 04:00:00+00",
           "572 Chili Ave"
          ],
          [
           "2022/04/09 04:00:00+00",
           "100 Ave A"
          ],
          [
           "2022/03/21 04:00:00+00",
           "165 E Ridge Rd"
          ],
          [
           "2022/03/19 04:00:00+00",
           "215 E Ridge Rd"
          ],
          [
           "2022/03/14 04:00:00+00",
           "219 Wetmore Pk"
          ],
          [
           "2022/03/13 05:00:00+00",
           "471 State St"
          ],
          [
           "2022/03/13 05:00:00+00",
           "471 State St"
          ],
          [
           "2022/03/12 05:00:00+00",
           "859 Bay St"
          ],
          [
           "2022/03/11 05:00:00+00",
           "184 Otis St"
          ],
          [
           "2022/03/08 05:00:00+00",
           "25 Peckham St"
          ],
          [
           "2022/02/26 05:00:00+00",
           "57 Rialto St"
          ],
          [
           "2022/02/14 05:00:00+00",
           "56 Pardee St"
          ],
          [
           "2022/02/09 05:00:00+00",
           "540 Portland Ave"
          ],
          [
           "2022/01/23 05:00:00+00",
           "453 Lyell Ave"
          ],
          [
           "2022/01/19 05:00:00+00",
           "1233 N Clinton Ave"
          ],
          [
           "2022/01/02 05:00:00+00",
           "125 North St"
          ]
         ],
         "hovertemplate": "Crime_Type=%{text}<br>Latitude=%{lat}<br>Longitude=%{lon}<br>Occurred_Date=%{customdata[0]}<br>Address=%{customdata[1]}<extra></extra>",
         "lat": [
          43.18179326,
          43.1635691,
          43.18107974,
          43.15333695,
          43.17142989,
          43.16924356,
          43.14525584,
          43.17787281,
          43.19670585,
          43.19398996,
          43.16394473,
          43.16301446,
          43.16301446,
          43.17116924,
          43.16912625,
          43.18526405,
          43.1819789,
          43.18139786,
          43.1757512,
          43.16452956,
          43.18199882,
          43.15987723
         ],
         "legendgroup": "Homicide",
         "lon": [
          -77.59889263,
          -77.62477846,
          -77.63684465,
          -77.62355831,
          -77.62905386,
          -77.57957943,
          -77.65186915,
          -77.62206122,
          -77.63247672,
          -77.61265378,
          -77.65723819,
          -77.62163933,
          -77.62163933,
          -77.57026846,
          -77.64408081,
          -77.60160923,
          -77.61453847,
          -77.60927908,
          -77.59061732,
          -77.63901906,
          -77.61387505,
          -77.60391714
         ],
         "marker": {
          "color": "#EF553B"
         },
         "mode": "markers+text",
         "name": "Homicide",
         "showlegend": true,
         "subplot": "mapbox",
         "text": [
          "Homicide",
          "Homicide",
          "Homicide",
          "Homicide",
          "Homicide",
          "Homicide",
          "Homicide",
          "Homicide",
          "Homicide",
          "Homicide",
          "Homicide",
          "Homicide",
          "Homicide",
          "Homicide",
          "Homicide",
          "Homicide",
          "Homicide",
          "Homicide",
          "Homicide",
          "Homicide",
          "Homicide",
          "Homicide"
         ],
         "type": "scattermapbox"
        }
       ],
       "layout": {
        "height": 400,
        "legend": {
         "title": {
          "text": "Crime_Type"
         },
         "tracegroupgap": 0
        },
        "mapbox": {
         "center": {
          "lat": 43.16720224963504,
          "lon": -77.61540001554744
         },
         "domain": {
          "x": [
           0,
           1
          ],
          "y": [
           0,
           1
          ]
         },
         "style": "open-street-map",
         "zoom": 10
        },
        "template": {
         "data": {
          "bar": [
           {
            "error_x": {
             "color": "#2a3f5f"
            },
            "error_y": {
             "color": "#2a3f5f"
            },
            "marker": {
             "line": {
              "color": "#E5ECF6",
              "width": 0.5
             },
             "pattern": {
              "fillmode": "overlay",
              "size": 10,
              "solidity": 0.2
             }
            },
            "type": "bar"
           }
          ],
          "barpolar": [
           {
            "marker": {
             "line": {
              "color": "#E5ECF6",
              "width": 0.5
             },
             "pattern": {
              "fillmode": "overlay",
              "size": 10,
              "solidity": 0.2
             }
            },
            "type": "barpolar"
           }
          ],
          "carpet": [
           {
            "aaxis": {
             "endlinecolor": "#2a3f5f",
             "gridcolor": "white",
             "linecolor": "white",
             "minorgridcolor": "white",
             "startlinecolor": "#2a3f5f"
            },
            "baxis": {
             "endlinecolor": "#2a3f5f",
             "gridcolor": "white",
             "linecolor": "white",
             "minorgridcolor": "white",
             "startlinecolor": "#2a3f5f"
            },
            "type": "carpet"
           }
          ],
          "choropleth": [
           {
            "colorbar": {
             "outlinewidth": 0,
             "ticks": ""
            },
            "type": "choropleth"
           }
          ],
          "contour": [
           {
            "colorbar": {
             "outlinewidth": 0,
             "ticks": ""
            },
            "colorscale": [
             [
              0,
              "#0d0887"
             ],
             [
              0.1111111111111111,
              "#46039f"
             ],
             [
              0.2222222222222222,
              "#7201a8"
             ],
             [
              0.3333333333333333,
              "#9c179e"
             ],
             [
              0.4444444444444444,
              "#bd3786"
             ],
             [
              0.5555555555555556,
              "#d8576b"
             ],
             [
              0.6666666666666666,
              "#ed7953"
             ],
             [
              0.7777777777777778,
              "#fb9f3a"
             ],
             [
              0.8888888888888888,
              "#fdca26"
             ],
             [
              1,
              "#f0f921"
             ]
            ],
            "type": "contour"
           }
          ],
          "contourcarpet": [
           {
            "colorbar": {
             "outlinewidth": 0,
             "ticks": ""
            },
            "type": "contourcarpet"
           }
          ],
          "heatmap": [
           {
            "colorbar": {
             "outlinewidth": 0,
             "ticks": ""
            },
            "colorscale": [
             [
              0,
              "#0d0887"
             ],
             [
              0.1111111111111111,
              "#46039f"
             ],
             [
              0.2222222222222222,
              "#7201a8"
             ],
             [
              0.3333333333333333,
              "#9c179e"
             ],
             [
              0.4444444444444444,
              "#bd3786"
             ],
             [
              0.5555555555555556,
              "#d8576b"
             ],
             [
              0.6666666666666666,
              "#ed7953"
             ],
             [
              0.7777777777777778,
              "#fb9f3a"
             ],
             [
              0.8888888888888888,
              "#fdca26"
             ],
             [
              1,
              "#f0f921"
             ]
            ],
            "type": "heatmap"
           }
          ],
          "heatmapgl": [
           {
            "colorbar": {
             "outlinewidth": 0,
             "ticks": ""
            },
            "colorscale": [
             [
              0,
              "#0d0887"
             ],
             [
              0.1111111111111111,
              "#46039f"
             ],
             [
              0.2222222222222222,
              "#7201a8"
             ],
             [
              0.3333333333333333,
              "#9c179e"
             ],
             [
              0.4444444444444444,
              "#bd3786"
             ],
             [
              0.5555555555555556,
              "#d8576b"
             ],
             [
              0.6666666666666666,
              "#ed7953"
             ],
             [
              0.7777777777777778,
              "#fb9f3a"
             ],
             [
              0.8888888888888888,
              "#fdca26"
             ],
             [
              1,
              "#f0f921"
             ]
            ],
            "type": "heatmapgl"
           }
          ],
          "histogram": [
           {
            "marker": {
             "pattern": {
              "fillmode": "overlay",
              "size": 10,
              "solidity": 0.2
             }
            },
            "type": "histogram"
           }
          ],
          "histogram2d": [
           {
            "colorbar": {
             "outlinewidth": 0,
             "ticks": ""
            },
            "colorscale": [
             [
              0,
              "#0d0887"
             ],
             [
              0.1111111111111111,
              "#46039f"
             ],
             [
              0.2222222222222222,
              "#7201a8"
             ],
             [
              0.3333333333333333,
              "#9c179e"
             ],
             [
              0.4444444444444444,
              "#bd3786"
             ],
             [
              0.5555555555555556,
              "#d8576b"
             ],
             [
              0.6666666666666666,
              "#ed7953"
             ],
             [
              0.7777777777777778,
              "#fb9f3a"
             ],
             [
              0.8888888888888888,
              "#fdca26"
             ],
             [
              1,
              "#f0f921"
             ]
            ],
            "type": "histogram2d"
           }
          ],
          "histogram2dcontour": [
           {
            "colorbar": {
             "outlinewidth": 0,
             "ticks": ""
            },
            "colorscale": [
             [
              0,
              "#0d0887"
             ],
             [
              0.1111111111111111,
              "#46039f"
             ],
             [
              0.2222222222222222,
              "#7201a8"
             ],
             [
              0.3333333333333333,
              "#9c179e"
             ],
             [
              0.4444444444444444,
              "#bd3786"
             ],
             [
              0.5555555555555556,
              "#d8576b"
             ],
             [
              0.6666666666666666,
              "#ed7953"
             ],
             [
              0.7777777777777778,
              "#fb9f3a"
             ],
             [
              0.8888888888888888,
              "#fdca26"
             ],
             [
              1,
              "#f0f921"
             ]
            ],
            "type": "histogram2dcontour"
           }
          ],
          "mesh3d": [
           {
            "colorbar": {
             "outlinewidth": 0,
             "ticks": ""
            },
            "type": "mesh3d"
           }
          ],
          "parcoords": [
           {
            "line": {
             "colorbar": {
              "outlinewidth": 0,
              "ticks": ""
             }
            },
            "type": "parcoords"
           }
          ],
          "pie": [
           {
            "automargin": true,
            "type": "pie"
           }
          ],
          "scatter": [
           {
            "fillpattern": {
             "fillmode": "overlay",
             "size": 10,
             "solidity": 0.2
            },
            "type": "scatter"
           }
          ],
          "scatter3d": [
           {
            "line": {
             "colorbar": {
              "outlinewidth": 0,
              "ticks": ""
             }
            },
            "marker": {
             "colorbar": {
              "outlinewidth": 0,
              "ticks": ""
             }
            },
            "type": "scatter3d"
           }
          ],
          "scattercarpet": [
           {
            "marker": {
             "colorbar": {
              "outlinewidth": 0,
              "ticks": ""
             }
            },
            "type": "scattercarpet"
           }
          ],
          "scattergeo": [
           {
            "marker": {
             "colorbar": {
              "outlinewidth": 0,
              "ticks": ""
             }
            },
            "type": "scattergeo"
           }
          ],
          "scattergl": [
           {
            "marker": {
             "colorbar": {
              "outlinewidth": 0,
              "ticks": ""
             }
            },
            "type": "scattergl"
           }
          ],
          "scattermapbox": [
           {
            "marker": {
             "colorbar": {
              "outlinewidth": 0,
              "ticks": ""
             }
            },
            "type": "scattermapbox"
           }
          ],
          "scatterpolar": [
           {
            "marker": {
             "colorbar": {
              "outlinewidth": 0,
              "ticks": ""
             }
            },
            "type": "scatterpolar"
           }
          ],
          "scatterpolargl": [
           {
            "marker": {
             "colorbar": {
              "outlinewidth": 0,
              "ticks": ""
             }
            },
            "type": "scatterpolargl"
           }
          ],
          "scatterternary": [
           {
            "marker": {
             "colorbar": {
              "outlinewidth": 0,
              "ticks": ""
             }
            },
            "type": "scatterternary"
           }
          ],
          "surface": [
           {
            "colorbar": {
             "outlinewidth": 0,
             "ticks": ""
            },
            "colorscale": [
             [
              0,
              "#0d0887"
             ],
             [
              0.1111111111111111,
              "#46039f"
             ],
             [
              0.2222222222222222,
              "#7201a8"
             ],
             [
              0.3333333333333333,
              "#9c179e"
             ],
             [
              0.4444444444444444,
              "#bd3786"
             ],
             [
              0.5555555555555556,
              "#d8576b"
             ],
             [
              0.6666666666666666,
              "#ed7953"
             ],
             [
              0.7777777777777778,
              "#fb9f3a"
             ],
             [
              0.8888888888888888,
              "#fdca26"
             ],
             [
              1,
              "#f0f921"
             ]
            ],
            "type": "surface"
           }
          ],
          "table": [
           {
            "cells": {
             "fill": {
              "color": "#EBF0F8"
             },
             "line": {
              "color": "white"
             }
            },
            "header": {
             "fill": {
              "color": "#C8D4E3"
             },
             "line": {
              "color": "white"
             }
            },
            "type": "table"
           }
          ]
         },
         "layout": {
          "annotationdefaults": {
           "arrowcolor": "#2a3f5f",
           "arrowhead": 0,
           "arrowwidth": 1
          },
          "autotypenumbers": "strict",
          "coloraxis": {
           "colorbar": {
            "outlinewidth": 0,
            "ticks": ""
           }
          },
          "colorscale": {
           "diverging": [
            [
             0,
             "#8e0152"
            ],
            [
             0.1,
             "#c51b7d"
            ],
            [
             0.2,
             "#de77ae"
            ],
            [
             0.3,
             "#f1b6da"
            ],
            [
             0.4,
             "#fde0ef"
            ],
            [
             0.5,
             "#f7f7f7"
            ],
            [
             0.6,
             "#e6f5d0"
            ],
            [
             0.7,
             "#b8e186"
            ],
            [
             0.8,
             "#7fbc41"
            ],
            [
             0.9,
             "#4d9221"
            ],
            [
             1,
             "#276419"
            ]
           ],
           "sequential": [
            [
             0,
             "#0d0887"
            ],
            [
             0.1111111111111111,
             "#46039f"
            ],
            [
             0.2222222222222222,
             "#7201a8"
            ],
            [
             0.3333333333333333,
             "#9c179e"
            ],
            [
             0.4444444444444444,
             "#bd3786"
            ],
            [
             0.5555555555555556,
             "#d8576b"
            ],
            [
             0.6666666666666666,
             "#ed7953"
            ],
            [
             0.7777777777777778,
             "#fb9f3a"
            ],
            [
             0.8888888888888888,
             "#fdca26"
            ],
            [
             1,
             "#f0f921"
            ]
           ],
           "sequentialminus": [
            [
             0,
             "#0d0887"
            ],
            [
             0.1111111111111111,
             "#46039f"
            ],
            [
             0.2222222222222222,
             "#7201a8"
            ],
            [
             0.3333333333333333,
             "#9c179e"
            ],
            [
             0.4444444444444444,
             "#bd3786"
            ],
            [
             0.5555555555555556,
             "#d8576b"
            ],
            [
             0.6666666666666666,
             "#ed7953"
            ],
            [
             0.7777777777777778,
             "#fb9f3a"
            ],
            [
             0.8888888888888888,
             "#fdca26"
            ],
            [
             1,
             "#f0f921"
            ]
           ]
          },
          "colorway": [
           "#636efa",
           "#EF553B",
           "#00cc96",
           "#ab63fa",
           "#FFA15A",
           "#19d3f3",
           "#FF6692",
           "#B6E880",
           "#FF97FF",
           "#FECB52"
          ],
          "font": {
           "color": "#2a3f5f"
          },
          "geo": {
           "bgcolor": "white",
           "lakecolor": "white",
           "landcolor": "#E5ECF6",
           "showlakes": true,
           "showland": true,
           "subunitcolor": "white"
          },
          "hoverlabel": {
           "align": "left"
          },
          "hovermode": "closest",
          "mapbox": {
           "style": "light"
          },
          "paper_bgcolor": "white",
          "plot_bgcolor": "#E5ECF6",
          "polar": {
           "angularaxis": {
            "gridcolor": "white",
            "linecolor": "white",
            "ticks": ""
           },
           "bgcolor": "#E5ECF6",
           "radialaxis": {
            "gridcolor": "white",
            "linecolor": "white",
            "ticks": ""
           }
          },
          "scene": {
           "xaxis": {
            "backgroundcolor": "#E5ECF6",
            "gridcolor": "white",
            "gridwidth": 2,
            "linecolor": "white",
            "showbackground": true,
            "ticks": "",
            "zerolinecolor": "white"
           },
           "yaxis": {
            "backgroundcolor": "#E5ECF6",
            "gridcolor": "white",
            "gridwidth": 2,
            "linecolor": "white",
            "showbackground": true,
            "ticks": "",
            "zerolinecolor": "white"
           },
           "zaxis": {
            "backgroundcolor": "#E5ECF6",
            "gridcolor": "white",
            "gridwidth": 2,
            "linecolor": "white",
            "showbackground": true,
            "ticks": "",
            "zerolinecolor": "white"
           }
          },
          "shapedefaults": {
           "line": {
            "color": "#2a3f5f"
           }
          },
          "ternary": {
           "aaxis": {
            "gridcolor": "white",
            "linecolor": "white",
            "ticks": ""
           },
           "baxis": {
            "gridcolor": "white",
            "linecolor": "white",
            "ticks": ""
           },
           "bgcolor": "#E5ECF6",
           "caxis": {
            "gridcolor": "white",
            "linecolor": "white",
            "ticks": ""
           }
          },
          "title": {
           "x": 0.05
          },
          "xaxis": {
           "automargin": true,
           "gridcolor": "white",
           "linecolor": "white",
           "ticks": "",
           "title": {
            "standoff": 15
           },
           "zerolinecolor": "white",
           "zerolinewidth": 2
          },
          "yaxis": {
           "automargin": true,
           "gridcolor": "white",
           "linecolor": "white",
           "ticks": "",
           "title": {
            "standoff": 15
           },
           "zerolinecolor": "white",
           "zerolinewidth": 2
          }
         }
        },
        "title": {
         "text": "Gun Violence Incidents by Zipcode"
        },
        "width": 700
       }
      }
     },
     "metadata": {},
     "output_type": "display_data"
    },
    {
     "data": {
      "application/vnd.plotly.v1+json": {
       "config": {
        "plotlyServerURL": "https://plot.ly"
       },
       "data": [
        {
         "customdata": [
          [
           0.094,
           14626
          ],
          [
           0.167,
           14623
          ],
          [
           0.08,
           14622
          ],
          [
           0.298,
           14621
          ],
          [
           0.187,
           14620
          ],
          [
           0.281,
           14619
          ],
          [
           0.077,
           14618
          ],
          [
           0.073,
           14617
          ],
          [
           0.106,
           14616
          ],
          [
           0.19,
           14615
          ],
          [
           0.265,
           14613
          ],
          [
           0.094,
           14612
          ],
          [
           0.343,
           14611
          ],
          [
           0.105,
           14610
          ],
          [
           0.187,
           14609
          ],
          [
           0.406,
           14608
          ],
          [
           0.192,
           14607
          ],
          [
           0.177,
           14606
          ],
          [
           0.348,
           14605
          ],
          [
           0.269,
           14604
          ]
         ],
         "hovertemplate": "Food Insecurity=%{marker.color}<br>Latitude=%{lat}<br>Longitude=%{lon}<br>Zip Code=%{customdata[1]}<extra></extra>",
         "lat": [
          43.2141,
          43.0881,
          43.2138,
          43.1863,
          43.1291,
          43.1363,
          43.1126,
          43.2242,
          43.234,
          43.2049,
          43.1828,
          43.2648,
          43.1372,
          43.1432,
          43.1767,
          43.1539,
          43.1512,
          43.1711,
          43.1681,
          43.1567
         ],
         "legendgroup": "",
         "lon": [
          -77.7135,
          -77.6425,
          -77.5569,
          -77.6018,
          -77.6065,
          -77.6493,
          -77.5555,
          -77.5951,
          -77.655,
          -77.655,
          -77.6402,
          -77.6753,
          -77.6325,
          -77.5468,
          -77.5545,
          -77.6239,
          -77.5874,
          -77.6983,
          -77.6016,
          -77.6056
         ],
         "marker": {
          "color": [
           0.094,
           0.167,
           0.08,
           0.298,
           0.187,
           0.281,
           0.077,
           0.073,
           0.106,
           0.19,
           0.265,
           0.094,
           0.343,
           0.105,
           0.187,
           0.406,
           0.192,
           0.177,
           0.348,
           0.269
          ],
          "coloraxis": "coloraxis",
          "size": [
           0.094,
           0.167,
           0.08,
           0.298,
           0.187,
           0.281,
           0.077,
           0.073,
           0.106,
           0.19,
           0.265,
           0.094,
           0.343,
           0.105,
           0.187,
           0.406,
           0.192,
           0.177,
           0.348,
           0.269
          ],
          "sizemode": "area",
          "sizeref": 0.001015
         },
         "mode": "markers",
         "name": "",
         "showlegend": false,
         "subplot": "mapbox",
         "type": "scattermapbox"
        }
       ],
       "layout": {
        "coloraxis": {
         "colorbar": {
          "title": {
           "text": "Food Insecurity"
          }
         },
         "colorscale": [
          [
           0,
           "rgb(0,104,55)"
          ],
          [
           0.1,
           "rgb(26,152,80)"
          ],
          [
           0.2,
           "rgb(102,189,99)"
          ],
          [
           0.3,
           "rgb(166,217,106)"
          ],
          [
           0.4,
           "rgb(217,239,139)"
          ],
          [
           0.5,
           "rgb(255,255,191)"
          ],
          [
           0.6,
           "rgb(254,224,139)"
          ],
          [
           0.7,
           "rgb(253,174,97)"
          ],
          [
           0.8,
           "rgb(244,109,67)"
          ],
          [
           0.9,
           "rgb(215,48,39)"
          ],
          [
           1,
           "rgb(165,0,38)"
          ]
         ]
        },
        "height": 400,
        "legend": {
         "itemsizing": "constant",
         "tracegroupgap": 0
        },
        "mapbox": {
         "center": {
          "lat": 43.172455,
          "lon": -77.61986
         },
         "domain": {
          "x": [
           0,
           1
          ],
          "y": [
           0,
           1
          ]
         },
         "style": "open-street-map",
         "zoom": 10
        },
        "template": {
         "data": {
          "bar": [
           {
            "error_x": {
             "color": "#2a3f5f"
            },
            "error_y": {
             "color": "#2a3f5f"
            },
            "marker": {
             "line": {
              "color": "#E5ECF6",
              "width": 0.5
             },
             "pattern": {
              "fillmode": "overlay",
              "size": 10,
              "solidity": 0.2
             }
            },
            "type": "bar"
           }
          ],
          "barpolar": [
           {
            "marker": {
             "line": {
              "color": "#E5ECF6",
              "width": 0.5
             },
             "pattern": {
              "fillmode": "overlay",
              "size": 10,
              "solidity": 0.2
             }
            },
            "type": "barpolar"
           }
          ],
          "carpet": [
           {
            "aaxis": {
             "endlinecolor": "#2a3f5f",
             "gridcolor": "white",
             "linecolor": "white",
             "minorgridcolor": "white",
             "startlinecolor": "#2a3f5f"
            },
            "baxis": {
             "endlinecolor": "#2a3f5f",
             "gridcolor": "white",
             "linecolor": "white",
             "minorgridcolor": "white",
             "startlinecolor": "#2a3f5f"
            },
            "type": "carpet"
           }
          ],
          "choropleth": [
           {
            "colorbar": {
             "outlinewidth": 0,
             "ticks": ""
            },
            "type": "choropleth"
           }
          ],
          "contour": [
           {
            "colorbar": {
             "outlinewidth": 0,
             "ticks": ""
            },
            "colorscale": [
             [
              0,
              "#0d0887"
             ],
             [
              0.1111111111111111,
              "#46039f"
             ],
             [
              0.2222222222222222,
              "#7201a8"
             ],
             [
              0.3333333333333333,
              "#9c179e"
             ],
             [
              0.4444444444444444,
              "#bd3786"
             ],
             [
              0.5555555555555556,
              "#d8576b"
             ],
             [
              0.6666666666666666,
              "#ed7953"
             ],
             [
              0.7777777777777778,
              "#fb9f3a"
             ],
             [
              0.8888888888888888,
              "#fdca26"
             ],
             [
              1,
              "#f0f921"
             ]
            ],
            "type": "contour"
           }
          ],
          "contourcarpet": [
           {
            "colorbar": {
             "outlinewidth": 0,
             "ticks": ""
            },
            "type": "contourcarpet"
           }
          ],
          "heatmap": [
           {
            "colorbar": {
             "outlinewidth": 0,
             "ticks": ""
            },
            "colorscale": [
             [
              0,
              "#0d0887"
             ],
             [
              0.1111111111111111,
              "#46039f"
             ],
             [
              0.2222222222222222,
              "#7201a8"
             ],
             [
              0.3333333333333333,
              "#9c179e"
             ],
             [
              0.4444444444444444,
              "#bd3786"
             ],
             [
              0.5555555555555556,
              "#d8576b"
             ],
             [
              0.6666666666666666,
              "#ed7953"
             ],
             [
              0.7777777777777778,
              "#fb9f3a"
             ],
             [
              0.8888888888888888,
              "#fdca26"
             ],
             [
              1,
              "#f0f921"
             ]
            ],
            "type": "heatmap"
           }
          ],
          "heatmapgl": [
           {
            "colorbar": {
             "outlinewidth": 0,
             "ticks": ""
            },
            "colorscale": [
             [
              0,
              "#0d0887"
             ],
             [
              0.1111111111111111,
              "#46039f"
             ],
             [
              0.2222222222222222,
              "#7201a8"
             ],
             [
              0.3333333333333333,
              "#9c179e"
             ],
             [
              0.4444444444444444,
              "#bd3786"
             ],
             [
              0.5555555555555556,
              "#d8576b"
             ],
             [
              0.6666666666666666,
              "#ed7953"
             ],
             [
              0.7777777777777778,
              "#fb9f3a"
             ],
             [
              0.8888888888888888,
              "#fdca26"
             ],
             [
              1,
              "#f0f921"
             ]
            ],
            "type": "heatmapgl"
           }
          ],
          "histogram": [
           {
            "marker": {
             "pattern": {
              "fillmode": "overlay",
              "size": 10,
              "solidity": 0.2
             }
            },
            "type": "histogram"
           }
          ],
          "histogram2d": [
           {
            "colorbar": {
             "outlinewidth": 0,
             "ticks": ""
            },
            "colorscale": [
             [
              0,
              "#0d0887"
             ],
             [
              0.1111111111111111,
              "#46039f"
             ],
             [
              0.2222222222222222,
              "#7201a8"
             ],
             [
              0.3333333333333333,
              "#9c179e"
             ],
             [
              0.4444444444444444,
              "#bd3786"
             ],
             [
              0.5555555555555556,
              "#d8576b"
             ],
             [
              0.6666666666666666,
              "#ed7953"
             ],
             [
              0.7777777777777778,
              "#fb9f3a"
             ],
             [
              0.8888888888888888,
              "#fdca26"
             ],
             [
              1,
              "#f0f921"
             ]
            ],
            "type": "histogram2d"
           }
          ],
          "histogram2dcontour": [
           {
            "colorbar": {
             "outlinewidth": 0,
             "ticks": ""
            },
            "colorscale": [
             [
              0,
              "#0d0887"
             ],
             [
              0.1111111111111111,
              "#46039f"
             ],
             [
              0.2222222222222222,
              "#7201a8"
             ],
             [
              0.3333333333333333,
              "#9c179e"
             ],
             [
              0.4444444444444444,
              "#bd3786"
             ],
             [
              0.5555555555555556,
              "#d8576b"
             ],
             [
              0.6666666666666666,
              "#ed7953"
             ],
             [
              0.7777777777777778,
              "#fb9f3a"
             ],
             [
              0.8888888888888888,
              "#fdca26"
             ],
             [
              1,
              "#f0f921"
             ]
            ],
            "type": "histogram2dcontour"
           }
          ],
          "mesh3d": [
           {
            "colorbar": {
             "outlinewidth": 0,
             "ticks": ""
            },
            "type": "mesh3d"
           }
          ],
          "parcoords": [
           {
            "line": {
             "colorbar": {
              "outlinewidth": 0,
              "ticks": ""
             }
            },
            "type": "parcoords"
           }
          ],
          "pie": [
           {
            "automargin": true,
            "type": "pie"
           }
          ],
          "scatter": [
           {
            "fillpattern": {
             "fillmode": "overlay",
             "size": 10,
             "solidity": 0.2
            },
            "type": "scatter"
           }
          ],
          "scatter3d": [
           {
            "line": {
             "colorbar": {
              "outlinewidth": 0,
              "ticks": ""
             }
            },
            "marker": {
             "colorbar": {
              "outlinewidth": 0,
              "ticks": ""
             }
            },
            "type": "scatter3d"
           }
          ],
          "scattercarpet": [
           {
            "marker": {
             "colorbar": {
              "outlinewidth": 0,
              "ticks": ""
             }
            },
            "type": "scattercarpet"
           }
          ],
          "scattergeo": [
           {
            "marker": {
             "colorbar": {
              "outlinewidth": 0,
              "ticks": ""
             }
            },
            "type": "scattergeo"
           }
          ],
          "scattergl": [
           {
            "marker": {
             "colorbar": {
              "outlinewidth": 0,
              "ticks": ""
             }
            },
            "type": "scattergl"
           }
          ],
          "scattermapbox": [
           {
            "marker": {
             "colorbar": {
              "outlinewidth": 0,
              "ticks": ""
             }
            },
            "type": "scattermapbox"
           }
          ],
          "scatterpolar": [
           {
            "marker": {
             "colorbar": {
              "outlinewidth": 0,
              "ticks": ""
             }
            },
            "type": "scatterpolar"
           }
          ],
          "scatterpolargl": [
           {
            "marker": {
             "colorbar": {
              "outlinewidth": 0,
              "ticks": ""
             }
            },
            "type": "scatterpolargl"
           }
          ],
          "scatterternary": [
           {
            "marker": {
             "colorbar": {
              "outlinewidth": 0,
              "ticks": ""
             }
            },
            "type": "scatterternary"
           }
          ],
          "surface": [
           {
            "colorbar": {
             "outlinewidth": 0,
             "ticks": ""
            },
            "colorscale": [
             [
              0,
              "#0d0887"
             ],
             [
              0.1111111111111111,
              "#46039f"
             ],
             [
              0.2222222222222222,
              "#7201a8"
             ],
             [
              0.3333333333333333,
              "#9c179e"
             ],
             [
              0.4444444444444444,
              "#bd3786"
             ],
             [
              0.5555555555555556,
              "#d8576b"
             ],
             [
              0.6666666666666666,
              "#ed7953"
             ],
             [
              0.7777777777777778,
              "#fb9f3a"
             ],
             [
              0.8888888888888888,
              "#fdca26"
             ],
             [
              1,
              "#f0f921"
             ]
            ],
            "type": "surface"
           }
          ],
          "table": [
           {
            "cells": {
             "fill": {
              "color": "#EBF0F8"
             },
             "line": {
              "color": "white"
             }
            },
            "header": {
             "fill": {
              "color": "#C8D4E3"
             },
             "line": {
              "color": "white"
             }
            },
            "type": "table"
           }
          ]
         },
         "layout": {
          "annotationdefaults": {
           "arrowcolor": "#2a3f5f",
           "arrowhead": 0,
           "arrowwidth": 1
          },
          "autotypenumbers": "strict",
          "coloraxis": {
           "colorbar": {
            "outlinewidth": 0,
            "ticks": ""
           }
          },
          "colorscale": {
           "diverging": [
            [
             0,
             "#8e0152"
            ],
            [
             0.1,
             "#c51b7d"
            ],
            [
             0.2,
             "#de77ae"
            ],
            [
             0.3,
             "#f1b6da"
            ],
            [
             0.4,
             "#fde0ef"
            ],
            [
             0.5,
             "#f7f7f7"
            ],
            [
             0.6,
             "#e6f5d0"
            ],
            [
             0.7,
             "#b8e186"
            ],
            [
             0.8,
             "#7fbc41"
            ],
            [
             0.9,
             "#4d9221"
            ],
            [
             1,
             "#276419"
            ]
           ],
           "sequential": [
            [
             0,
             "#0d0887"
            ],
            [
             0.1111111111111111,
             "#46039f"
            ],
            [
             0.2222222222222222,
             "#7201a8"
            ],
            [
             0.3333333333333333,
             "#9c179e"
            ],
            [
             0.4444444444444444,
             "#bd3786"
            ],
            [
             0.5555555555555556,
             "#d8576b"
            ],
            [
             0.6666666666666666,
             "#ed7953"
            ],
            [
             0.7777777777777778,
             "#fb9f3a"
            ],
            [
             0.8888888888888888,
             "#fdca26"
            ],
            [
             1,
             "#f0f921"
            ]
           ],
           "sequentialminus": [
            [
             0,
             "#0d0887"
            ],
            [
             0.1111111111111111,
             "#46039f"
            ],
            [
             0.2222222222222222,
             "#7201a8"
            ],
            [
             0.3333333333333333,
             "#9c179e"
            ],
            [
             0.4444444444444444,
             "#bd3786"
            ],
            [
             0.5555555555555556,
             "#d8576b"
            ],
            [
             0.6666666666666666,
             "#ed7953"
            ],
            [
             0.7777777777777778,
             "#fb9f3a"
            ],
            [
             0.8888888888888888,
             "#fdca26"
            ],
            [
             1,
             "#f0f921"
            ]
           ]
          },
          "colorway": [
           "#636efa",
           "#EF553B",
           "#00cc96",
           "#ab63fa",
           "#FFA15A",
           "#19d3f3",
           "#FF6692",
           "#B6E880",
           "#FF97FF",
           "#FECB52"
          ],
          "font": {
           "color": "#2a3f5f"
          },
          "geo": {
           "bgcolor": "white",
           "lakecolor": "white",
           "landcolor": "#E5ECF6",
           "showlakes": true,
           "showland": true,
           "subunitcolor": "white"
          },
          "hoverlabel": {
           "align": "left"
          },
          "hovermode": "closest",
          "mapbox": {
           "style": "light"
          },
          "paper_bgcolor": "white",
          "plot_bgcolor": "#E5ECF6",
          "polar": {
           "angularaxis": {
            "gridcolor": "white",
            "linecolor": "white",
            "ticks": ""
           },
           "bgcolor": "#E5ECF6",
           "radialaxis": {
            "gridcolor": "white",
            "linecolor": "white",
            "ticks": ""
           }
          },
          "scene": {
           "xaxis": {
            "backgroundcolor": "#E5ECF6",
            "gridcolor": "white",
            "gridwidth": 2,
            "linecolor": "white",
            "showbackground": true,
            "ticks": "",
            "zerolinecolor": "white"
           },
           "yaxis": {
            "backgroundcolor": "#E5ECF6",
            "gridcolor": "white",
            "gridwidth": 2,
            "linecolor": "white",
            "showbackground": true,
            "ticks": "",
            "zerolinecolor": "white"
           },
           "zaxis": {
            "backgroundcolor": "#E5ECF6",
            "gridcolor": "white",
            "gridwidth": 2,
            "linecolor": "white",
            "showbackground": true,
            "ticks": "",
            "zerolinecolor": "white"
           }
          },
          "shapedefaults": {
           "line": {
            "color": "#2a3f5f"
           }
          },
          "ternary": {
           "aaxis": {
            "gridcolor": "white",
            "linecolor": "white",
            "ticks": ""
           },
           "baxis": {
            "gridcolor": "white",
            "linecolor": "white",
            "ticks": ""
           },
           "bgcolor": "#E5ECF6",
           "caxis": {
            "gridcolor": "white",
            "linecolor": "white",
            "ticks": ""
           }
          },
          "title": {
           "x": 0.05
          },
          "xaxis": {
           "automargin": true,
           "gridcolor": "white",
           "linecolor": "white",
           "ticks": "",
           "title": {
            "standoff": 15
           },
           "zerolinecolor": "white",
           "zerolinewidth": 2
          },
          "yaxis": {
           "automargin": true,
           "gridcolor": "white",
           "linecolor": "white",
           "ticks": "",
           "title": {
            "standoff": 15
           },
           "zerolinecolor": "white",
           "zerolinewidth": 2
          }
         }
        },
        "title": {
         "text": "Rochester Zip Codes by Food Insecurity Rate"
        },
        "width": 700
       }
      }
     },
     "metadata": {},
     "output_type": "display_data"
    }
   ],
   "source": [
    "# PLOTTING BOTH CONTINUOUS, NUMERIC VARS\n",
    "gun_plot = px.scatter_mapbox(\n",
    "                        data_frame = gun_data,\n",
    "                        lat = gun_data['Latitude'],\n",
    "                        lon = gun_data['Longitude'],\n",
    "                        color= gun_data['Crime_Type'],    # TODO: replace with our metric\n",
    "                        text = gun_data['Crime_Type'],    # TODO: replace with our metric\n",
    "                        hover_name = None,\n",
    "                        hover_data= [gun_data['Occurred_Date'],gun_data['Address']],\n",
    "                        zoom = 10,\n",
    "                        mapbox_style = 'open-street-map',\n",
    "                        title='Gun Violence Incidents by Zipcode',\n",
    "                        height = 400,\n",
    "                        width = 700\n",
    "                        )\n",
    "\n",
    "\n",
    "\n",
    "hunger_plot = px.scatter_mapbox(\n",
    "                        data_frame = hunger_data,\n",
    "                        lat = hunger_data['Latitude'],\n",
    "                        lon = hunger_data['Longitude'],\n",
    "                        color= hunger_data['Food Insecurity'],\n",
    "                        zoom = 10,\n",
    "                        hover_data = [hunger_data['Food Insecurity'],\n",
    "                                      hunger_data['Zip Code']],\n",
    "                                      \n",
    "                        size = hunger_data['Food Insecurity'],\n",
    "                        mapbox_style = 'open-street-map',\n",
    "                        title='Rochester Zip Codes by Food Insecurity Rate',\n",
    "                        height = 400,\n",
    "                        width = 700,\n",
    "                        color_continuous_scale='RdYlGn_r'\n",
    "                )\n",
    "\n",
    "gun_plot.show()\n",
    "hunger_plot.show()"
   ]
  },
  {
   "attachments": {},
   "cell_type": "markdown",
   "metadata": {},
   "source": [
    "#### SUMMARY STATS OF EACH DATASET"
   ]
  },
  {
   "cell_type": "code",
   "execution_count": 66,
   "metadata": {},
   "outputs": [
    {
     "name": "stdout",
     "output_type": "stream",
     "text": [
      "GUN VIOLENCE BASIC STATS:\n",
      "                X           Y  Occurred_Year    Latitude   Longitude\n",
      "count  137.000000  137.000000          137.0  137.000000  137.000000\n",
      "mean   -77.615400   43.167202         2022.0   43.167202  -77.615400\n",
      "std      0.024012    0.015374            0.0    0.015374    0.024012\n",
      "min    -77.659312   43.123608         2022.0   43.123608  -77.659312\n",
      "25%    -77.632012   43.159877         2022.0   43.159877  -77.632012\n",
      "50%    -77.621639   43.169126         2022.0   43.169126  -77.621639\n",
      "75%    -77.599577   43.177143         2022.0   43.177143  -77.599577\n",
      "max    -77.552548   43.220375         2022.0   43.220375  -77.552548 \n",
      "\n",
      "HUNGER BASIC STATS:\n",
      "                X           Y  Occurred_Year    Latitude   Longitude\n",
      "count  137.000000  137.000000          137.0  137.000000  137.000000\n",
      "mean   -77.615400   43.167202         2022.0   43.167202  -77.615400\n",
      "std      0.024012    0.015374            0.0    0.015374    0.024012\n",
      "min    -77.659312   43.123608         2022.0   43.123608  -77.659312\n",
      "25%    -77.632012   43.159877         2022.0   43.159877  -77.632012\n",
      "50%    -77.621639   43.169126         2022.0   43.169126  -77.621639\n",
      "75%    -77.599577   43.177143         2022.0   43.177143  -77.599577\n",
      "max    -77.552548   43.220375         2022.0   43.220375  -77.552548\n"
     ]
    }
   ],
   "source": [
    "# GET STATS\n",
    "gun_stats = gun_data.describe()\n",
    "hunger_stats = gun_data.describe()\n",
    "\n",
    "# PRINT STATS\n",
    "print(\"GUN VIOLENCE BASIC STATS:\")\n",
    "print(gun_stats, \"\\n\")\n",
    "print(\"HUNGER BASIC STATS:\")\n",
    "print(hunger_stats)"
   ]
  },
  {
   "attachments": {},
   "cell_type": "markdown",
   "metadata": {},
   "source": [
    "### COMPARING DATASETS AND VARIABLES"
   ]
  },
  {
   "cell_type": "code",
   "execution_count": 67,
   "metadata": {},
   "outputs": [
    {
     "data": {
      "image/png": "iVBORw0KGgoAAAANSUhEUgAAAuQAAAFUCAYAAABshimNAAAAOXRFWHRTb2Z0d2FyZQBNYXRwbG90bGliIHZlcnNpb24zLjcuMSwgaHR0cHM6Ly9tYXRwbG90bGliLm9yZy/bCgiHAAAACXBIWXMAAA9hAAAPYQGoP6dpAAAoUElEQVR4nO3dfXRU1b3/8c8kIZMYkiFkYh5KJCKlgKECYV0NUQHB5HpDNNpCudiQ+BAWQlYslCqpD4S2aVoT1uKuWNqqCFjsAq+0lmvEBgTaoimQXPB6RbGAmGAypSQxg1QnIZzfH/6Y65gIGWWyJ/J+rbXX4uyzzznfwx/xw3afHZtlWZYAAAAAGBFiugAAAADgUkYgBwAAAAwikAMAAAAGEcgBAAAAgwjkAAAAgEEEcgAAAMAgAjkAAABgEIEcAAAAMIhADgAAABhEIAeAIFVWViabzaaTJ0+aLqVXhYWFSk1N/ULXrl69WuvWrbuo9QDAQEUgBwD0OwI5APwfAjkAAABgEIEcAIJcU1OT7rjjDsXExMjhcOi73/2u/vGPf3jPnz17Vo899phGjx4tu92uyy+/XPPmzdPx48e9YxYsWKCIiAg1NDT4XDd9+nQlJCSopaVFkrRu3TrZbDZt27ZNd911l4YOHaqoqCjl5ubq6NGjF6z1448/Vmlpqa688kqFh4fra1/7mhYtWqQPPvjAOyY1NVVvvvmm/vSnP8lms8lms33hpS8A8FVAIAeAIHf77bdr5MiRev7551VWVqYXXnhB2dnZ6urqkiTdd999evDBB3XzzTdry5Yt+vGPf6yXX35ZkydP9q4/X7VqlcaMGaPZs2d7w/GKFSu0a9cubdiwQUlJST7PvOeeexQSEqLf/va3WrVqlfbu3aupU6f6BOvPsixLeXl5qqqqUn5+vmpqarRkyRKtX79eN910kzwejyTp97//vUaMGKEJEyaorq5OdXV1+v3vf3/x/+IAYKCwAABBafny5ZYka/HixT79zz77rCXJ2rBhg/XWW29ZkqyFCxf6jNmzZ48lyfrhD3/o7fvb3/5mxcTEWHl5edb27dutkJAQ6+GHH/a5bu3atZYk6/bbb/fpf/XVVy1J1k9+8hNvX0FBgTV8+HDv8csvv2xJsh577DGfazdt2mRJsp544glv39VXX21NmTLFr78PAPiqYoYcAILcnXfe6XM8e/ZshYWFaefOndq5c6ekT3Y8+bR/+Zd/0ZgxY/TKK694+0aOHKknn3xSL7zwgmbOnKkbbrhBZWVlfXrm5MmTNXz4cO/zerNjx45ea5k1a5aioqJ8agEA/B8COQAEucTERJ/jsLAwxcXFqbW1Va2trZLUY8mJJCUnJ3vPn5OTk6OEhAR9/PHHWrJkiUJDQ/v0zHN9n73fp7W2tiosLEzx8fE+/Tab7YLXAsCljEAOAEHO5XL5HJ85c0atra2Ki4tTXFycJHk/yvy05uZmOZ1On74FCxbo1KlTuvrqq1VSUqL29vY+PfNc37nn9SYuLk5nzpzx+eBU+mRtucvl6lELAOATBHIACHLPPvusz/Fzzz2nM2fOaOrUqbrpppskSRs2bPAZs2/fPr311luaPn26t++pp57Shg0b9Pjjj2vLli364IMPdNddd/Xpma+99pree+89TZ069XPrPPesz9ayefNmnT592qcWu92ujz766HPvBQCXkjDTBQAAzu93v/udwsLCdPPNN+vNN9/UI488omuuuUazZ89WeHi45s+fr+rqaoWEhOiWW27RsWPH9MgjjyglJUWLFy+WJL3xxhsqKSlRQUGBN4SvWbNG3/72t7Vq1Sp973vf83lmfX297r33Xs2aNUtNTU166KGH9LWvfU0LFy783DpvvvlmZWdn68EHH5Tb7VZmZqb+53/+R8uXL9eECROUn5/vHTtu3Dht3LhRmzZt0ogRIxQREaFx48Zd/L88ABgITH9VCgDo3bldVhoaGqzc3Fxr8ODBVnR0tPXv//7v1t///nfvuO7ubuvnP/+5NWrUKGvQoEGW0+m0vvvd71pNTU2WZVnWhx9+aI0ePdoaO3asdfr0aZ9nLFq0yBo0aJC1Z88ey7L+b5eV2tpaKz8/3xoyZIgVGRlp/du//Zv1t7/9zefaz+6yYlmW9dFHH1kPPvigNXz4cGvQoEFWUlKSdd9991nt7e0+444dO2ZlZWVZ0dHRlqQe9wGAS4nNsizL8L8JAABBYt26dbrrrru0b98+TZo0yXQ5AHBJYA05AAAAYBCBHAAAADCIJSsAAACAQcyQAwAAAAYRyAEAAACDCOQAAACAQQP+FwOdPXtWzc3Nio6Ols1mM10OAAAAIMuydOrUKSUnJysk5Pxz4AM+kDc3NyslJcV0GQAAAEAPTU1NGjZs2HnHDPhAHh0dLemTl42JiTFcDQAAACC53W6lpKR4s+r5DPhAfm6ZSkxMDIEcAAAAQaUvS6r5qBMAAAAwiEAOAAAAGEQgBwAAAAwikAMAAAAGEcgBAAAAgwjkAAAAgEFBEchXr16tK6+8UhEREUpPT9df/vIX0yUBAAAA/cJ4IN+0aZO+973v6aGHHtL+/ft1ww036JZbblFjY6Pp0gAAAICAs1mWZZks4Nprr9XEiRP1y1/+0ts3ZswY5eXlqaKi4oLXu91uORwOdXR08IuBAAAAEBT8yahGf1NnZ2enGhoatGzZMp/+rKwsvfbaa4aqAgAAX0RzR4c2HWjw65qPOrvV2HY6QBX1dMXQKEWGh/ZpbKIjQnlpExQZFhngqnCpMxrIT548qe7ubiUkJPj0JyQkyOVy9XqNx+ORx+PxHrvd7oDWCAAA+mbTgQY9fex+02Wc16vN/o0fGrVO2V9PD0wxwP9nNJCfY7PZfI4ty+rRd05FRYVWrFjRH2UBAAA/fGd8uqT/8OuaYJ8hv/HKsQGuCDAcyJ1Op0JDQ3vMhp84caLHrPk5paWlWrJkiffY7XYrJSUloHUCAIALS3Y4tHjKTabLAAYco7ushIeHKz09Xdu2bfPp37ZtmyZPntzrNXa7XTExMT4NAAAAGKiML1lZsmSJ8vPzNWnSJGVkZOiJJ55QY2OjFixYYLo0AAAAIOCMB/LvfOc7am1t1Y9+9CO1tLQoLS1NL730koYPH266NAAAACDgjO9D/mWxDzkAAACCjT8Z1fhv6gQAAAAuZQRyAAAAwCACOQAAAGAQgRwAAAAwiEAOAAAAGEQgBwAAAAwikAMAAAAGEcgBAAAAgwjkAAAAgEEEcgAAAMAgAjkAAABgEIEcAAAAMIhADgAAABhEIAcAAAAMIpADAAAABhHIAQAAAIMI5AAAAIBBBHIAAADAIAI5AAAAYBCBHAAAADCIQA4AAAAYFNBAXl5ersmTJ+uyyy7TkCFDeh3T2Nio3NxcRUVFyel0qqSkRJ2dnYEsCwAAAAgaYYG8eWdnp2bNmqWMjAytWbOmx/nu7m7l5OQoPj5eu3fvVmtrqwoKCmRZlqqrqwNZGgAAABAUAhrIV6xYIUlat25dr+dra2t18OBBNTU1KTk5WZK0cuVKFRYWqry8XDExMYEsDwAAADDO6Bryuro6paWlecO4JGVnZ8vj8aihocFgZQAAAED/COgM+YW4XC4lJCT49MXGxio8PFwul6vXazwejzwej/fY7XYHtEYAAAAgkPyeIS8rK5PNZjtvq6+v7/P9bDZbjz7Lsnrtl6SKigo5HA5vS0lJ8fcVAAAAgKDh9wx5cXGx5syZc94xqampfbpXYmKi9uzZ49PX3t6urq6uHjPn55SWlmrJkiXeY7fbTSgHAADAgOV3IHc6nXI6nRfl4RkZGSovL1dLS4uSkpIkffKhp91uV3p6eq/X2O122e32i/J8AAAAwLSAriFvbGxUW1ubGhsb1d3drQMHDkiSRo4cqcGDBysrK0tjx45Vfn6+Kisr1dbWpqVLl6qoqIgdVgAAAHBJCGggf/TRR7V+/Xrv8YQJEyRJO3fu1NSpUxUaGqqamhotXLhQmZmZioyM1Ny5c1VVVRXIsgAAAICgYbMsyzJdxJfhdrvlcDjU0dHBrDoAAACCgj8Z1eg+5AAAAMCljkAOAAAAGEQgBwAAAAwikAMAAAAGEcgBAAAAgwjkAAAAgEEEcgAAAMAgAjkAAABgEIEcAAAAMIhADgAAABhEIAcAAAAMIpADAAAABhHIAQAAAIMI5AAAAIBBBHIAAADAIAI5AAAAYBCBHAAAADCIQA4AAAAYRCAHAAAADCKQAwAAAAYRyAEAAACDCOQAAACAQQEL5MeOHdM999yjK6+8UpGRkbrqqqu0fPlydXZ2+oxrbGxUbm6uoqKi5HQ6VVJS0mMMAAAA8FUVFqgbv/322zp79qx+/etfa+TIkfrf//1fFRUV6fTp06qqqpIkdXd3KycnR/Hx8dq9e7daW1tVUFAgy7JUXV0dqNIAAACAoGGzLMvqr4dVVlbql7/8pY4ePSpJ2rp1q2bOnKmmpiYlJydLkjZu3KjCwkKdOHFCMTExF7yn2+2Ww+FQR0dHn8YDAAAAgeZPRu3XNeQdHR0aOnSo97iurk5paWneMC5J2dnZ8ng8amho6PUeHo9HbrfbpwEAAAADVb8F8iNHjqi6uloLFizw9rlcLiUkJPiMi42NVXh4uFwuV6/3qaiokMPh8LaUlJSA1g0AAAAEkt+BvKysTDab7bytvr7e55rm5mb967/+q2bNmqV7773X55zNZuvxDMuyeu2XpNLSUnV0dHhbU1OTv68AAAAABA2/P+osLi7WnDlzzjsmNTXV++fm5mZNmzZNGRkZeuKJJ3zGJSYmas+ePT597e3t6urq6jFzfo7dbpfdbve3bAAAACAo+R3InU6nnE5nn8a+//77mjZtmtLT07V27VqFhPhOyGdkZKi8vFwtLS1KSkqSJNXW1sputys9Pd3f0gAAAIABJ2C7rDQ3N2vKlCm64oor9Mwzzyg0NNR7LjExUdIn2x6OHz9eCQkJqqysVFtbmwoLC5WXl9fnbQ/ZZQUAAADBxp+MGrB9yGtra3X48GEdPnxYw4YN8zl37t8AoaGhqqmp0cKFC5WZmanIyEjNnTvXu085AAAA8FXXr/uQBwIz5AAAAAg2QbsPOQAAAABfBHIAAADAIAI5AAAAYBCBHAAAADCIQA4AAAAYRCAHAAAADCKQAwAAAAYRyAEAAACDCOQAAACAQQRyAAAAwCACOQAAAGAQgRwAAAAwiEAOAAAAGEQgBwAAAAwikAMAAAAGEcgBAAAAgwjkAAAAgEEEcgAAAMAgAjkAAABgEIEcAAAAMIhADgAAABgU0EB+66236oorrlBERISSkpKUn5+v5uZmnzGNjY3Kzc1VVFSUnE6nSkpK1NnZGciyAAAAgKAR0EA+bdo0Pffcczp06JA2b96sI0eO6Nvf/rb3fHd3t3JycnT69Gnt3r1bGzdu1ObNm/X9738/kGUBAAAAQcNmWZbVXw/bsmWL8vLy5PF4NGjQIG3dulUzZ85UU1OTkpOTJUkbN25UYWGhTpw4oZiYmAve0+12y+FwqKOjo0/jAQAAgEDzJ6P22xrytrY2Pfvss5o8ebIGDRokSaqrq1NaWpo3jEtSdna2PB6PGhoaer2Px+OR2+32aQAAAMBAFfBA/uCDDyoqKkpxcXFqbGzUH/7wB+85l8ulhIQEn/GxsbEKDw+Xy+Xq9X4VFRVyOBzelpKSEtD6AQAAgEDyO5CXlZXJZrOdt9XX13vH/+AHP9D+/ftVW1ur0NBQzZs3T59eJWOz2Xo8w7KsXvslqbS0VB0dHd7W1NTk7ysAAAAAQSPM3wuKi4s1Z86c845JTU31/tnpdMrpdGrUqFEaM2aMUlJS9Ne//lUZGRlKTEzUnj17fK5tb29XV1dXj5nzc+x2u+x2u79lAwAAAEHJ70B+LmB/Eedmxj0ejyQpIyND5eXlamlpUVJSkiSptrZWdrtd6enpX+gZAAAAwEDidyDvq71792rv3r26/vrrFRsbq6NHj+rRRx/VVVddpYyMDElSVlaWxo4dq/z8fFVWVqqtrU1Lly5VUVERO6YAAADgkhCwjzojIyP1u9/9TtOnT9c3vvEN3X333UpLS9Of/vQn75KT0NBQ1dTUKCIiQpmZmZo9e7by8vJUVVUVqLIAAACAoNKv+5AHAvuQAwAAINgE5T7kAAAAAHoikAMAAAAGEcgBAAAAgwjkAAAAgEEEcgAAAMAgAjkAAABgEIEcAAAAMIhADgAAABhEIAcAAAAMIpADAAAABhHIAQAAAIMI5AAAAIBBBHIAAADAIAI5AAAAYBCBHAAAADCIQA4AAAAYRCAHAAAADCKQAwAAAAYRyAEAAACDCOQAAACAQQRyAAAAwKB+CeQej0fjx4+XzWbTgQMHfM41NjYqNzdXUVFRcjqdKikpUWdnZ3+UBQAAABgX1h8PeeCBB5ScnKzXX3/dp7+7u1s5OTmKj4/X7t271draqoKCAlmWperq6v4oDQAAADAq4DPkW7duVW1traqqqnqcq62t1cGDB7VhwwZNmDBBM2bM0MqVK/Xkk0/K7XYHujQAAADAuIAG8r///e8qKirSb37zG1122WU9ztfV1SktLU3JycnevuzsbHk8HjU0NASyNAAAACAoBGzJimVZKiws1IIFCzRp0iQdO3asxxiXy6WEhASfvtjYWIWHh8vlcvV6X4/HI4/H4z1mJh0AAAADmd8z5GVlZbLZbOdt9fX1qq6ultvtVmlp6XnvZ7PZevRZltVrvyRVVFTI4XB4W0pKir+vAAAAAAQNm2VZlj8XnDx5UidPnjzvmNTUVM2ZM0f/9V//5ROsu7u7FRoaqjvvvFPr16/Xo48+qj/84Q8+H3u2t7dr6NCh2rFjh6ZNm9bj3r3NkKekpKijo0MxMTH+vAoAAAAQEG63Ww6Ho08Z1e9A3leNjY0+y0mam5uVnZ2t559/Xtdee62GDRumrVu3aubMmTp+/LiSkpIkSZs2bVJBQYFOnDjRp4Dtz8sCAAAA/cGfjBqwNeRXXHGFz/HgwYMlSVdddZWGDRsmScrKytLYsWOVn5+vyspKtbW1aenSpSoqKiJcAwAA4JJg9Dd1hoaGqqamRhEREcrMzNTs2bOVl5fX6xaJAAAAwFdRwJas9BeWrAAAACDY+JNRjc6QAwAAAJc6AjkAAABgEIEcAAAAMIhADgAAABhEIAcAAAAMIpADAAAABhHIAQAAAIMI5AAAAIBBBHIAAADAIAI5AAAAYBCBHAAAADCIQA4AAAAYRCAHAAAADCKQAwAAAAYRyAEAAACDCOQAAACAQQRyAAAAwCACOQAAAGAQgRwAAAAwiEAOAAAAGEQgBwAAAAwKaCBPTU2VzWbzacuWLfMZ09jYqNzcXEVFRcnpdKqkpESdnZ2BLAsAAAAIGmGBfsCPfvQjFRUVeY8HDx7s/XN3d7dycnIUHx+v3bt3q7W1VQUFBbIsS9XV1YEuDQAAADAu4IE8OjpaiYmJvZ6rra3VwYMH1dTUpOTkZEnSypUrVVhYqPLycsXExAS6PAAAAMCogK8h//nPf664uDiNHz9e5eXlPstR6urqlJaW5g3jkpSdnS2Px6OGhoZAlwYAAAAYF9AZ8vvvv18TJ05UbGys9u7dq9LSUr377rt66qmnJEkul0sJCQk+18TGxio8PFwul6vXe3o8Hnk8Hu+x2+0O3AsAAAAAAeb3DHlZWVmPDzU/2+rr6yVJixcv1pQpU/TNb35T9957r371q19pzZo1am1t9d7PZrP1eIZlWb32S1JFRYUcDoe3paSk+PsKAAAAQNDwe4a8uLhYc+bMOe+Y1NTUXvuvu+46SdLhw4cVFxenxMRE7dmzx2dMe3u7urq6esycn1NaWqolS5Z4j91uN6EcAAAAA5bfgdzpdMrpdH6hh+3fv1+SlJSUJEnKyMhQeXm5WlpavH21tbWy2+1KT0/v9R52u112u/0LPR8AAAAINgFbQ15XV6e//vWvmjZtmhwOh/bt26fFixfr1ltv1RVXXCFJysrK0tixY5Wfn6/Kykq1tbVp6dKlKioqYocVAAAAXBICFsjtdrs2bdqkFStWyOPxaPjw4SoqKtIDDzzgHRMaGqqamhotXLhQmZmZioyM1Ny5c1VVVRWosgAAAICgYrMsyzJdxJfhdrvlcDjU0dHBrDoAAACCgj8ZNeD7kAMAAAD4fARyAAAAwCACOQAAAGAQgRwAAAAwiEAOAAAAGEQgBwAAAAwikAMAAAAGEcgBAAAAgwjkAAAAgEEEcgAAAMAgAjkAAABgEIEcAAAAMIhADgAAABhEIAcAAAAMIpADAAAABhHIAQAAAIMI5AAAAIBBBHIAAADAIAI5AAAAYBCBHAAAADCIQA4AAAAYFPBAXlNTo2uvvVaRkZFyOp264447fM43NjYqNzdXUVFRcjqdKikpUWdnZ6DLAgAAAIJCWCBvvnnzZhUVFemnP/2pbrrpJlmWpTfeeMN7vru7Wzk5OYqPj9fu3bvV2tqqgoICWZal6urqQJYGAAAABAWbZVlWIG585swZpaamasWKFbrnnnt6HbN161bNnDlTTU1NSk5OliRt3LhRhYWFOnHihGJiYi74HLfbLYfDoY6Ojj6NBwAAAALNn4wasCUr//3f/633339fISEhmjBhgpKSknTLLbfozTff9I6pq6tTWlqaN4xLUnZ2tjwejxoaGgJVGgAAABA0AhbIjx49KkkqKyvTww8/rBdffFGxsbGaMmWK2traJEkul0sJCQk+18XGxio8PFwul6vX+3o8Hrndbp8GAAAADFR+B/KysjLZbLbztvr6ep09e1aS9NBDD+lb3/qW0tPTtXbtWtlsNv3nf/6n9342m63HMyzL6rVfkioqKuRwOLwtJSXF31cAAAAAgobfH3UWFxdrzpw55x2TmpqqU6dOSZLGjh3r7bfb7RoxYoQaGxslSYmJidqzZ4/Pte3t7erq6uoxc35OaWmplixZ4j12u92EcgAAAAxYfgdyp9Mpp9N5wXHp6emy2+06dOiQrr/+eklSV1eXjh07puHDh0uSMjIyVF5erpaWFiUlJUmSamtrZbfblZ6e3ut97Xa77Ha7v2UDAAAAQSlg2x7GxMRowYIFWr58uVJSUjR8+HBVVlZKkmbNmiVJysrK0tixY5Wfn6/Kykq1tbVp6dKlKioqYscUAAAAXBICug95ZWWlwsLClJ+fr48++kjXXnutduzYodjYWElSaGioampqtHDhQmVmZioyMlJz585VVVVVIMsCAAAAgkbA9iHvL+xDDgAAgGATFPuQAwAAALgwAjkAAABgEIEcAAAAMIhADgAAABhEIAcAAAAMIpADAAAABhHIAQAAAIMI5AAAAIBBBHIAAADAIAI5AAAAYBCBHAAAADCIQA4AAAAYRCAHAAAADCKQAwAAAAYRyAEAAACDCOQAAACAQQRyAAAAwCACOQAAAGAQgRwAAAAwiEAOAAAAGEQgBwAAAAwikAMAAAAGBSyQ79q1Szabrde2b98+77jGxkbl5uYqKipKTqdTJSUl6uzsDFRZAAAAQFAJC9SNJ0+erJaWFp++Rx55RNu3b9ekSZMkSd3d3crJyVF8fLx2796t1tZWFRQUyLIsVVdXB6o0AAAAIGgELJCHh4crMTHRe9zV1aUtW7aouLhYNptNklRbW6uDBw+qqalJycnJkqSVK1eqsLBQ5eXliomJCVR5AAAAQFDotzXkW7Zs0cmTJ1VYWOjtq6urU1pamjeMS1J2drY8Ho8aGhp6vY/H45Hb7fZpAAAAwEDVb4F8zZo1ys7OVkpKirfP5XIpISHBZ1xsbKzCw8Plcrl6vU9FRYUcDoe3ffp+AAAAwEDjdyAvKyv73I81z7X6+nqfa44fP64//vGPuueee3rc79zylU+zLKvXfkkqLS1VR0eHtzU1Nfn7CgAAAEDQ8HsNeXFxsebMmXPeMampqT7Ha9euVVxcnG699Vaf/sTERO3Zs8enr729XV1dXT1mzs+x2+2y2+3+lg0AAAAEJb8DudPplNPp7PN4y7K0du1azZs3T4MGDfI5l5GRofLycrW0tCgpKUnSJx962u12paen+1saAAAAMOAEfA35jh079O677/a6XCUrK0tjx45Vfn6+9u/fr1deeUVLly5VUVERO6wAAADgkhDwQL5mzRpNnjxZY8aM6XEuNDRUNTU1ioiIUGZmpmbPnq28vDxVVVUFuiwAAAAgKNgsy7JMF/FluN1uORwOdXR0MKsOAACAoOBPRu23bQ8BAAAA9EQgBwAAAAwikAMAAAAGEcgBAAAAgwjkAAAAgEEEcgAAAMAgAjkAAABgEIEcAAAAMIhADgAAABhEIAcAAAAMIpADAAAABhHIAQAAAIMI5AAAAIBBBHIAAADAIAI5AAAAYBCBHAAAADCIQA4AAAAYFGa6AMC05o4ObTrQ4Nc1H3V2q7HtdIAq8nXF0ChFhof2eXyiI0J5aRMUGRYZwKoAAMDFQiDHJW/TgQY9fex+02V8rleb/b9maNQ6ZX89/eIXAwAALjoCOS553xmfLuk//Lom2GfIb7xybAArAgAAFxOBHJe8ZIdDi6fcZLoMAABwiQroR53vvPOObrvtNjmdTsXExCgzM1M7d+70GdPY2Kjc3FxFRUXJ6XSqpKREnZ2dgSwLAAAACBoBDeQ5OTk6c+aMduzYoYaGBo0fP14zZ86Uy+WSJHV3dysnJ0enT5/W7t27tXHjRm3evFnf//73A1kWAAAAEDRslmVZgbjxyZMnFR8frz//+c+64YYbJEmnTp1STEyMtm/frunTp2vr1q2aOXOmmpqalJycLEnauHGjCgsLdeLECcXExFzwOW63Ww6HQx0dHX0aDwAAAASaPxk1YDPkcXFxGjNmjJ555hmdPn1aZ86c0a9//WslJCQoPf2T3R/q6uqUlpbmDeOSlJ2dLY/Ho4aG3reh83g8crvdPg0AAAAYqAL2UafNZtO2bdt02223KTo6WiEhIUpISNDLL7+sIUOGSJJcLpcSEhJ8rouNjVV4eLh3WctnVVRUaMWKFYEqGwAAAOhXfs+Ql5WVyWaznbfV19fLsiwtXLhQl19+uf7yl79o7969uu222zRz5ky1tLR472ez2Xo8w7KsXvslqbS0VB0dHd7W1NTk7ysAAAAAQcPvGfLi4mLNmTPnvGNSU1O1Y8cOvfjii2pvb/eum1m9erW2bdum9evXa9myZUpMTNSePXt8rm1vb1dXV1ePmfNz7Ha77Ha7v2UDAAAAQcnvQO50OuV0Oi847p///KckKSTEdxI+JCREZ8+elSRlZGSovLxcLS0tSkpKkiTV1tbKbrd715kDAAAAX2UBW0OekZGh2NhYFRQU6NFHH1VkZKSefPJJvfvuu8rJyZEkZWVlaezYscrPz1dlZaXa2tq0dOlSFRUV9XnHlHObxPBxJwAAAILFuWzapw0NrQDat2+flZWVZQ0dOtSKjo62rrvuOuull17yGfPee+9ZOTk5VmRkpDV06FCruLjY+vjjj/v8jKamJksSjUaj0Wg0Go0WdK2pqemCeTZg+5D3l7Nnz6q5uVnR0dGf+yEoYJrb7VZKSoqamprYLx8AviR+pmIgsCxLp06dUnJyco8l3J8VsCUr/SUkJETDhg0zXQbQJzExMfzHAwAuEn6mItg5HI4+jQvYLwYCAAAAcGEEcgAAAMAgAjnQD+x2u5YvX84e+gBwEfAzFV81A/6jTgAAAGAgY4YcAAAAMIhADgAAABhEIAcAAAAMIpADAAAABhHIAT+4XC7df//9GjlypCIiIpSQkKDrr79ev/rVr/TPf/7TdHkAEDQKCwuVl5fXo3/Xrl2y2Wz64IMP+r0mIFgN+N/UCfSXo0ePKjMzU0OGDNFPf/pTjRs3TmfOnNE777yjp59+WsnJybr11ltNlwkAuAi6uro0aNAg02XgEsEMOdBHCxcuVFhYmOrr6zV79myNGTNG48aN07e+9S3V1NQoNzdXx44dk81m04EDB7zXffDBB7LZbNq1a5ek/5sdeuWVVzRp0iRddtllmjx5sg4dOuS95vXXX9e0adMUHR2tmJgYpaenq76+vp/fGAACq6ysTOPHj/fpW7VqlVJTU73H52baq6qqlJSUpLi4OC1atEhdXV3eMS0tLcrJyVFkZKSuvPJK/fa3v1VqaqpWrVrlHdPR0aH58+fr8ssvV0xMjG666Sa9/vrrPWp5+umnNWLECNntdrEzNPoLgRzog9bWVtXW1mrRokWKiorqdYzNZvPrng899JBWrlyp+vp6hYWF6e677/aeu/POOzVs2DDt27dPDQ0NWrZsGTM1AC5ZO3fu1JEjR7Rz506tX79e69at07p167zn582bp+bmZu3atUubN2/WE088oRMnTnjPW5alnJwcuVwuvfTSS2poaNDEiRM1ffp0tbW1eccdPnxYzz33nDZv3uwzsQIEGktWgD44fPiwLMvSN77xDZ9+p9Opjz/+WJK0aNEi3XfffX2+Z3l5uaZMmSJJWrZsmXJycvTxxx8rIiJCjY2N+sEPfqDRo0dLkr7+9a9fpDcBgP7z4osvavDgwT593d3dft8nNjZWjz/+uEJDQzV69Gjl5OTolVdeUVFRkd5++21t375d+/bt06RJkyRJTz31lM/PzZ07d+qNN97QiRMnvL/ds6qqSi+88IKef/55zZ8/X5LU2dmp3/zmN4qPj/+irwx8IcyQA3747Cz43r17deDAAV199dXyeDx+3eub3/ym989JSUmS5J3RWbJkie69917NmDFDP/vZz3TkyJEvWTkA9L9p06bpwIEDPu2pp57y+z5XX321QkNDvcdJSUnen5eHDh1SWFiYJk6c6D0/cuRIxcbGeo8bGhr04YcfKi4uToMHD/a2d9991+fn6/DhwwnjMIIZcqAPRo4cKZvNprffftunf8SIEZKkyMhISVJIyCf/xv30usNPr3P8tE8vQTkX9M+ePSvpk7WMc+fOVU1NjbZu3arly5dr48aNuv322y/SGwFA4EVFRWnkyJE+fcePH/f+OSQkpMc67d5+Zn52yZ7NZvP+vPy8dd6f7j979qySkpK83/J82pAhQ3zqBUxghhzog7i4ON188816/PHHdfr06c8dd25mpaWlxdv3Rdchjho1SosXL1Ztba3uuOMOrV279gvdBwCCVXx8vFwul0949vdn5ujRo3XmzBnt37/f23f48GGfbRUnTpwol8ulsLAwjRw50qc5nc4v+xrAl0YgB/po9erVOnPmjCZNmqRNmzbprbfe0qFDh7Rhwwa9/fbbCg0NVWRkpK677jr97Gc/08GDB/XnP/9ZDz/8sF/P+eijj1RcXKxdu3bpvffe06uvvqp9+/ZpzJgxAXozADBj6tSp+sc//qHHHntMR44c0S9+8Qtt3brVr3uMHj1aM2bM0Pz587V3717t379f8+fPV2RkpPf/Ps6YMUMZGRnKy8vTH//4Rx07dkyvvfaaHn74YXawQlAgkAN9dNVVV2n//v2aMWOGSktLdc0112jSpEmqrq7W0qVL9eMf/1iS9PTTT6urq0uTJk3S/fffr5/85Cd+PSc0NFStra2aN2+eRo0apdmzZ+uWW27RihUrAvFaAGDMmDFjtHr1av3iF7/QNddco71792rp0qV+3+eZZ55RQkKCbrzxRt1+++0qKipSdHS0IiIiJH2yxOWll17SjTfeqLvvvlujRo3SnDlzdOzYMSUkJFzs1wL8ZrPYZBMAAHyFHD9+XCkpKdq+fbumT59uuhzgggjkAABgQNuxY4c+/PBDjRs3Ti0tLXrggQf0/vvv65133uF3OGBAYJcVAAAwoHV1demHP/yhjh49qujoaE2ePFnPPvssYRwDBjPkAAAAgEF81AkAAAAYRCAHAAAADCKQAwAAAAYRyAEAAACDCOQAAACAQQRyAAAAwCACOQAAAGAQgRwAAAAwiEAOAAAAGPT/AAawG430qHbvAAAAAElFTkSuQmCC",
      "text/plain": [
       "<Figure size 750x350 with 1 Axes>"
      ]
     },
     "metadata": {},
     "output_type": "display_data"
    }
   ],
   "source": [
    "# COMPARE BY BOXPLOT\n",
    "\n",
    "# GET DATA\n",
    "gun_boxplot_data = gun_data['X'].quantile([0.25,0.5,0.75])   # TODO: change this to gun rate once done\n",
    "hunger_boxplot_data = hunger_data['Food Insecurity'].quantile([0.25,0.5,0.75])\n",
    "boxplots = pd.DataFrame({'Guns': gun_boxplot_data, 'Hunger': hunger_boxplot_data})\n",
    "\n",
    "# SET FIGURE \n",
    "plt.rcParams[\"figure.figsize\"] = [7.50, 3.50]\n",
    "plt.rcParams[\"figure.autolayout\"] = True\n",
    "\n",
    "# Plot the dataframe\n",
    "ax = boxplots[['Guns','Hunger']].plot(kind='box', title='boxplot')\n",
    "\n",
    "# Display the plot\n",
    "plt.show()"
   ]
  },
  {
   "cell_type": "code",
   "execution_count": 68,
   "metadata": {},
   "outputs": [
    {
     "data": {
      "text/plain": [
       "<Axes: title={'center': 'box'}>"
      ]
     },
     "execution_count": 68,
     "metadata": {},
     "output_type": "execute_result"
    },
    {
     "data": {
      "image/png": "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",
      "text/plain": [
       "<Figure size 750x350 with 1 Axes>"
      ]
     },
     "metadata": {},
     "output_type": "display_data"
    }
   ],
   "source": [
    "hunger_boxplot_data = hunger_data['Food Insecurity'].quantile([0.25,0.5,0.75])\n",
    "\n",
    "hunger_boxplot_data.plot(kind=\"box\",title='box')"
   ]
  },
  {
   "attachments": {},
   "cell_type": "markdown",
   "metadata": {},
   "source": [
<<<<<<< HEAD
    "### FITTING DISTROS"
=======
    "#### MAKING OUR GUN DATA METRIC"
>>>>>>> f8dd6ff2e413ea620ac2a8e83249b30797145dd3
   ]
  },
  {
   "cell_type": "code",
<<<<<<< HEAD
   "execution_count": 1,
   "metadata": {},
   "outputs": [
    {
     "ename": "ModuleNotFoundError",
     "evalue": "No module named 'fitter'",
     "output_type": "error",
     "traceback": [
      "\u001b[1;31m---------------------------------------------------------------------------\u001b[0m",
      "\u001b[1;31mModuleNotFoundError\u001b[0m                       Traceback (most recent call last)",
      "Cell \u001b[1;32mIn[1], line 2\u001b[0m\n\u001b[0;32m      1\u001b[0m \u001b[39mimport\u001b[39;00m \u001b[39mseaborn\u001b[39;00m \u001b[39mas\u001b[39;00m \u001b[39msns\u001b[39;00m\n\u001b[1;32m----> 2\u001b[0m \u001b[39mfrom\u001b[39;00m \u001b[39mfitter\u001b[39;00m \u001b[39mimport\u001b[39;00m Fitter, get_common_distributions, get_distributions\n",
      "\u001b[1;31mModuleNotFoundError\u001b[0m: No module named 'fitter'"
     ]
    }
   ],
   "source": [
    "import seaborn as sns\n",
    "from fitter import Fitter, get_common_distributions, get_distributions\n"
   ]
  },
  {
   "attachments": {},
   "cell_type": "markdown",
   "metadata": {},
   "source": [
    "### SOURCING\n",
    "---\n",
    "[1] Dwyer, M. (2018), “New food insecurity data show level of need in Rochester, other communities,” Foodlink Inc, Available athttps://foodlinkny.org/new-food-insecurity-data-show-level-of-need-in-rochester-other-communities/.\n",
=======
   "execution_count": 69,
   "metadata": {},
   "outputs": [
    {
     "data": {
      "text/html": [
       "<div>\n",
       "<style scoped>\n",
       "    .dataframe tbody tr th:only-of-type {\n",
       "        vertical-align: middle;\n",
       "    }\n",
       "\n",
       "    .dataframe tbody tr th {\n",
       "        vertical-align: top;\n",
       "    }\n",
       "\n",
       "    .dataframe thead th {\n",
       "        text-align: right;\n",
       "    }\n",
       "</style>\n",
       "<table border=\"1\" class=\"dataframe\">\n",
       "  <thead>\n",
       "    <tr style=\"text-align: right;\">\n",
       "      <th></th>\n",
       "      <th>X</th>\n",
       "      <th>Y</th>\n",
       "      <th>Address</th>\n",
       "      <th>Occurred_Date</th>\n",
       "      <th>Occurred_Year</th>\n",
       "      <th>Crime_Type</th>\n",
       "      <th>Latitude</th>\n",
       "      <th>Longitude</th>\n",
       "    </tr>\n",
       "  </thead>\n",
       "  <tbody>\n",
       "    <tr>\n",
       "      <th>0</th>\n",
       "      <td>-77.610890</td>\n",
       "      <td>43.184163</td>\n",
       "      <td>442 Remington St</td>\n",
       "      <td>2022/06/01 04:00:00+00</td>\n",
       "      <td>2022</td>\n",
       "      <td>Shooting</td>\n",
       "      <td>43.184163</td>\n",
       "      <td>-77.610890</td>\n",
       "    </tr>\n",
       "    <tr>\n",
       "      <th>1</th>\n",
       "      <td>-77.598893</td>\n",
       "      <td>43.181793</td>\n",
       "      <td>904 Hudson Ave</td>\n",
       "      <td>2022/05/29 04:00:00+00</td>\n",
       "      <td>2022</td>\n",
       "      <td>Homicide</td>\n",
       "      <td>43.181793</td>\n",
       "      <td>-77.598893</td>\n",
       "    </tr>\n",
       "    <tr>\n",
       "      <th>2</th>\n",
       "      <td>-77.630378</td>\n",
       "      <td>43.142970</td>\n",
       "      <td>168 Bartlett St</td>\n",
       "      <td>2022/05/29 04:00:00+00</td>\n",
       "      <td>2022</td>\n",
       "      <td>Shooting</td>\n",
       "      <td>43.142970</td>\n",
       "      <td>-77.630378</td>\n",
       "    </tr>\n",
       "    <tr>\n",
       "      <th>3</th>\n",
       "      <td>-77.580628</td>\n",
       "      <td>43.167216</td>\n",
       "      <td>720 N Goodman St</td>\n",
       "      <td>2022/05/28 04:00:00+00</td>\n",
       "      <td>2022</td>\n",
       "      <td>Shooting</td>\n",
       "      <td>43.167216</td>\n",
       "      <td>-77.580628</td>\n",
       "    </tr>\n",
       "    <tr>\n",
       "      <th>4</th>\n",
       "      <td>-77.641972</td>\n",
       "      <td>43.162394</td>\n",
       "      <td>138 Murray St</td>\n",
       "      <td>2022/05/26 04:00:00+00</td>\n",
       "      <td>2022</td>\n",
       "      <td>Shooting</td>\n",
       "      <td>43.162394</td>\n",
       "      <td>-77.641972</td>\n",
       "    </tr>\n",
       "  </tbody>\n",
       "</table>\n",
       "</div>"
      ],
      "text/plain": [
       "           X          Y           Address           Occurred_Date  \\\n",
       "0 -77.610890  43.184163  442 Remington St  2022/06/01 04:00:00+00   \n",
       "1 -77.598893  43.181793    904 Hudson Ave  2022/05/29 04:00:00+00   \n",
       "2 -77.630378  43.142970   168 Bartlett St  2022/05/29 04:00:00+00   \n",
       "3 -77.580628  43.167216  720 N Goodman St  2022/05/28 04:00:00+00   \n",
       "4 -77.641972  43.162394     138 Murray St  2022/05/26 04:00:00+00   \n",
       "\n",
       "   Occurred_Year Crime_Type   Latitude  Longitude  \n",
       "0           2022   Shooting  43.184163 -77.610890  \n",
       "1           2022   Homicide  43.181793 -77.598893  \n",
       "2           2022   Shooting  43.142970 -77.630378  \n",
       "3           2022   Shooting  43.167216 -77.580628  \n",
       "4           2022   Shooting  43.162394 -77.641972  "
      ]
     },
     "execution_count": 69,
     "metadata": {},
     "output_type": "execute_result"
    }
   ],
   "source": [
    "gun_data.head()"
   ]
  },
  {
   "cell_type": "code",
   "execution_count": 70,
   "metadata": {},
   "outputs": [
    {
     "data": {
      "text/html": [
       "<div>\n",
       "<style scoped>\n",
       "    .dataframe tbody tr th:only-of-type {\n",
       "        vertical-align: middle;\n",
       "    }\n",
       "\n",
       "    .dataframe tbody tr th {\n",
       "        vertical-align: top;\n",
       "    }\n",
       "\n",
       "    .dataframe thead th {\n",
       "        text-align: right;\n",
       "    }\n",
       "</style>\n",
       "<table border=\"1\" class=\"dataframe\">\n",
       "  <thead>\n",
       "    <tr style=\"text-align: right;\">\n",
       "      <th></th>\n",
       "      <th>X</th>\n",
       "      <th>Y</th>\n",
       "      <th>Address</th>\n",
       "      <th>Occurred_Date</th>\n",
       "      <th>Occurred_Year</th>\n",
       "      <th>Crime_Type</th>\n",
       "      <th>Latitude</th>\n",
       "      <th>Longitude</th>\n",
       "      <th>Zip_Code</th>\n",
       "    </tr>\n",
       "  </thead>\n",
       "  <tbody>\n",
       "    <tr>\n",
       "      <th>0</th>\n",
       "      <td>-77.610890</td>\n",
       "      <td>43.184163</td>\n",
       "      <td>442 Remington St</td>\n",
       "      <td>2022/06/01 04:00:00+00</td>\n",
       "      <td>2022</td>\n",
       "      <td>Shooting</td>\n",
       "      <td>43.184163</td>\n",
       "      <td>-77.610890</td>\n",
       "      <td>14621</td>\n",
       "    </tr>\n",
       "    <tr>\n",
       "      <th>1</th>\n",
       "      <td>-77.598893</td>\n",
       "      <td>43.181793</td>\n",
       "      <td>904 Hudson Ave</td>\n",
       "      <td>2022/05/29 04:00:00+00</td>\n",
       "      <td>2022</td>\n",
       "      <td>Homicide</td>\n",
       "      <td>43.181793</td>\n",
       "      <td>-77.598893</td>\n",
       "      <td>14621</td>\n",
       "    </tr>\n",
       "    <tr>\n",
       "      <th>2</th>\n",
       "      <td>-77.630378</td>\n",
       "      <td>43.142970</td>\n",
       "      <td>168 Bartlett St</td>\n",
       "      <td>2022/05/29 04:00:00+00</td>\n",
       "      <td>2022</td>\n",
       "      <td>Shooting</td>\n",
       "      <td>43.142970</td>\n",
       "      <td>-77.630378</td>\n",
       "      <td>14611</td>\n",
       "    </tr>\n",
       "    <tr>\n",
       "      <th>3</th>\n",
       "      <td>-77.580628</td>\n",
       "      <td>43.167216</td>\n",
       "      <td>720 N Goodman St</td>\n",
       "      <td>2022/05/28 04:00:00+00</td>\n",
       "      <td>2022</td>\n",
       "      <td>Shooting</td>\n",
       "      <td>43.167216</td>\n",
       "      <td>-77.580628</td>\n",
       "      <td>14609</td>\n",
       "    </tr>\n",
       "    <tr>\n",
       "      <th>4</th>\n",
       "      <td>-77.641972</td>\n",
       "      <td>43.162394</td>\n",
       "      <td>138 Murray St</td>\n",
       "      <td>2022/05/26 04:00:00+00</td>\n",
       "      <td>2022</td>\n",
       "      <td>Shooting</td>\n",
       "      <td>43.162394</td>\n",
       "      <td>-77.641972</td>\n",
       "      <td>14606</td>\n",
       "    </tr>\n",
       "  </tbody>\n",
       "</table>\n",
       "</div>"
      ],
      "text/plain": [
       "           X          Y           Address           Occurred_Date  \\\n",
       "0 -77.610890  43.184163  442 Remington St  2022/06/01 04:00:00+00   \n",
       "1 -77.598893  43.181793    904 Hudson Ave  2022/05/29 04:00:00+00   \n",
       "2 -77.630378  43.142970   168 Bartlett St  2022/05/29 04:00:00+00   \n",
       "3 -77.580628  43.167216  720 N Goodman St  2022/05/28 04:00:00+00   \n",
       "4 -77.641972  43.162394     138 Murray St  2022/05/26 04:00:00+00   \n",
       "\n",
       "   Occurred_Year Crime_Type   Latitude  Longitude Zip_Code  \n",
       "0           2022   Shooting  43.184163 -77.610890    14621  \n",
       "1           2022   Homicide  43.181793 -77.598893    14621  \n",
       "2           2022   Shooting  43.142970 -77.630378    14611  \n",
       "3           2022   Shooting  43.167216 -77.580628    14609  \n",
       "4           2022   Shooting  43.162394 -77.641972    14606  "
      ]
     },
     "execution_count": 70,
     "metadata": {},
     "output_type": "execute_result"
    }
   ],
   "source": [
    "# IMPORT NOMINATIM\n",
    "from geopy.geocoders import Nominatim\n",
>>>>>>> f8dd6ff2e413ea620ac2a8e83249b30797145dd3
    "\n",
    "# PREPROCESSING TOOLS AND DATA\n",
    "geolocator = Nominatim(user_agent='myapplication')\n",
    "gun_coords = gun_data[['Latitude','Longitude']]\n",
    "\n",
    "# CREATE OUR CONVERTER \n",
    "zipcode=[]\n",
    "gun_lat = gun_data[\"Latitude\"].tolist()\n",
    "gun_long=gun_data[\"Longitude\"].tolist()\n",
    "for i in range(len(gun_lat)):\n",
    "    location = geolocator.reverse((gun_lat[i],gun_long[i]),timeout=10)\n",
    "    address = location.raw['address']\n",
    "    zipcode.append(address.get('postcode')) \n",
    "\n",
    "zipcode = pd.Series(zipcode)\n",
    "\n",
    "gun_data['Zip_Code'] = zipcode\n",
    "\n",
    "gun_data.head()"
   ]
  },
  {
   "cell_type": "code",
   "execution_count": 71,
   "metadata": {},
   "outputs": [
    {
     "name": "stderr",
     "output_type": "stream",
     "text": [
      "C:\\Users\\Jaewon\\AppData\\Local\\Temp\\ipykernel_32176\\1100355400.py:15: FutureWarning:\n",
      "\n",
      "The frame.append method is deprecated and will be removed from pandas in a future version. Use pandas.concat instead.\n",
      "\n",
      "C:\\Users\\Jaewon\\AppData\\Local\\Temp\\ipykernel_32176\\1100355400.py:15: FutureWarning:\n",
      "\n",
      "The frame.append method is deprecated and will be removed from pandas in a future version. Use pandas.concat instead.\n",
      "\n",
      "C:\\Users\\Jaewon\\AppData\\Local\\Temp\\ipykernel_32176\\1100355400.py:15: FutureWarning:\n",
      "\n",
      "The frame.append method is deprecated and will be removed from pandas in a future version. Use pandas.concat instead.\n",
      "\n",
      "C:\\Users\\Jaewon\\AppData\\Local\\Temp\\ipykernel_32176\\1100355400.py:15: FutureWarning:\n",
      "\n",
      "The frame.append method is deprecated and will be removed from pandas in a future version. Use pandas.concat instead.\n",
      "\n",
      "C:\\Users\\Jaewon\\AppData\\Local\\Temp\\ipykernel_32176\\1100355400.py:15: FutureWarning:\n",
      "\n",
      "The frame.append method is deprecated and will be removed from pandas in a future version. Use pandas.concat instead.\n",
      "\n",
      "C:\\Users\\Jaewon\\AppData\\Local\\Temp\\ipykernel_32176\\1100355400.py:15: FutureWarning:\n",
      "\n",
      "The frame.append method is deprecated and will be removed from pandas in a future version. Use pandas.concat instead.\n",
      "\n",
      "C:\\Users\\Jaewon\\AppData\\Local\\Temp\\ipykernel_32176\\1100355400.py:15: FutureWarning:\n",
      "\n",
      "The frame.append method is deprecated and will be removed from pandas in a future version. Use pandas.concat instead.\n",
      "\n",
      "C:\\Users\\Jaewon\\AppData\\Local\\Temp\\ipykernel_32176\\1100355400.py:15: FutureWarning:\n",
      "\n",
      "The frame.append method is deprecated and will be removed from pandas in a future version. Use pandas.concat instead.\n",
      "\n",
      "C:\\Users\\Jaewon\\AppData\\Local\\Temp\\ipykernel_32176\\1100355400.py:15: FutureWarning:\n",
      "\n",
      "The frame.append method is deprecated and will be removed from pandas in a future version. Use pandas.concat instead.\n",
      "\n",
      "C:\\Users\\Jaewon\\AppData\\Local\\Temp\\ipykernel_32176\\1100355400.py:15: FutureWarning:\n",
      "\n",
      "The frame.append method is deprecated and will be removed from pandas in a future version. Use pandas.concat instead.\n",
      "\n",
      "C:\\Users\\Jaewon\\AppData\\Local\\Temp\\ipykernel_32176\\1100355400.py:15: FutureWarning:\n",
      "\n",
      "The frame.append method is deprecated and will be removed from pandas in a future version. Use pandas.concat instead.\n",
      "\n"
     ]
    },
    {
     "data": {
      "text/html": [
       "<div>\n",
       "<style scoped>\n",
       "    .dataframe tbody tr th:only-of-type {\n",
       "        vertical-align: middle;\n",
       "    }\n",
       "\n",
       "    .dataframe tbody tr th {\n",
       "        vertical-align: top;\n",
       "    }\n",
       "\n",
       "    .dataframe thead th {\n",
       "        text-align: right;\n",
       "    }\n",
       "</style>\n",
       "<table border=\"1\" class=\"dataframe\">\n",
       "  <thead>\n",
       "    <tr style=\"text-align: right;\">\n",
       "      <th></th>\n",
       "      <th>Zip_Code</th>\n",
       "      <th>count</th>\n",
       "    </tr>\n",
       "  </thead>\n",
       "  <tbody>\n",
       "    <tr>\n",
       "      <th>0</th>\n",
       "      <td>14604</td>\n",
       "      <td>1</td>\n",
       "    </tr>\n",
       "    <tr>\n",
       "      <th>1</th>\n",
       "      <td>14605</td>\n",
       "      <td>6</td>\n",
       "    </tr>\n",
       "    <tr>\n",
       "      <th>2</th>\n",
       "      <td>14606</td>\n",
       "      <td>6</td>\n",
       "    </tr>\n",
       "    <tr>\n",
       "      <th>3</th>\n",
       "      <td>14608</td>\n",
       "      <td>16</td>\n",
       "    </tr>\n",
       "    <tr>\n",
       "      <th>4</th>\n",
       "      <td>14609</td>\n",
       "      <td>18</td>\n",
       "    </tr>\n",
       "  </tbody>\n",
       "</table>\n",
       "</div>"
      ],
      "text/plain": [
       "  Zip_Code  count\n",
       "0    14604      1\n",
       "1    14605      6\n",
       "2    14606      6\n",
       "3    14608     16\n",
       "4    14609     18"
      ]
     },
     "execution_count": 71,
     "metadata": {},
     "output_type": "execute_result"
    }
   ],
   "source": [
    "# GROUP BY ZIP CODE\n",
    "gun_count = gun_data.groupby([\"Zip_Code\"])[\"X\"].count().reset_index(name=\"count\")\n",
    "\n",
    "# ADD MISSING ZIP CODES\n",
    "allzip = list(range(14604, 14624))\n",
    "allzip.append(14626)\n",
    "allzip.append(14627)\n",
    "allzip.append(14642)\n",
    "\n",
    "zip_gun = gun_count[\"Zip_Code\"].tolist()\n",
    "zip_gun = {int(x) for x in zip_gun}\n",
    "zip_noinclude = list(set(allzip) - set(zip_gun))\n",
    "\n",
    "for i in range(len(zip_noinclude)):\n",
    "    gun_count = gun_count.append({'Zip_Code': zip_noinclude[i], 'count': 0}, ignore_index=True)\n",
    "    \n",
    "gun_count.head()"
   ]
  },
  {
   "cell_type": "code",
   "execution_count": 73,
   "metadata": {},
   "outputs": [
    {
     "name": "stderr",
     "output_type": "stream",
     "text": [
      "Fitting 5 distributions: 100%|██████████| 5/5 [00:00<00:00,  9.94it/s]\n"
     ]
    },
    {
     "data": {
      "text/html": [
       "<div>\n",
       "<style scoped>\n",
       "    .dataframe tbody tr th:only-of-type {\n",
       "        vertical-align: middle;\n",
       "    }\n",
       "\n",
       "    .dataframe tbody tr th {\n",
       "        vertical-align: top;\n",
       "    }\n",
       "\n",
       "    .dataframe thead th {\n",
       "        text-align: right;\n",
       "    }\n",
       "</style>\n",
       "<table border=\"1\" class=\"dataframe\">\n",
       "  <thead>\n",
       "    <tr style=\"text-align: right;\">\n",
       "      <th></th>\n",
       "      <th>sumsquare_error</th>\n",
       "      <th>aic</th>\n",
       "      <th>bic</th>\n",
       "      <th>kl_div</th>\n",
       "      <th>ks_statistic</th>\n",
       "      <th>ks_pvalue</th>\n",
       "    </tr>\n",
       "  </thead>\n",
       "  <tbody>\n",
       "    <tr>\n",
       "      <th>gamma</th>\n",
       "      <td>2.701347</td>\n",
       "      <td>913.014626</td>\n",
       "      <td>-39.853625</td>\n",
       "      <td>inf</td>\n",
       "      <td>0.478261</td>\n",
       "      <td>0.000023</td>\n",
       "    </tr>\n",
       "    <tr>\n",
       "      <th>beta</th>\n",
       "      <td>3.203593</td>\n",
       "      <td>740.019367</td>\n",
       "      <td>-32.796114</td>\n",
       "      <td>inf</td>\n",
       "      <td>0.478261</td>\n",
       "      <td>0.000023</td>\n",
       "    </tr>\n",
       "    <tr>\n",
       "      <th>lognorm</th>\n",
       "      <td>3.583291</td>\n",
       "      <td>1046.971727</td>\n",
       "      <td>-33.355407</td>\n",
       "      <td>inf</td>\n",
       "      <td>0.478261</td>\n",
       "      <td>0.000023</td>\n",
       "    </tr>\n",
       "    <tr>\n",
       "      <th>norm</th>\n",
       "      <td>4.874065</td>\n",
       "      <td>782.048310</td>\n",
       "      <td>-29.415026</td>\n",
       "      <td>inf</td>\n",
       "      <td>0.301357</td>\n",
       "      <td>0.023844</td>\n",
       "    </tr>\n",
       "    <tr>\n",
       "      <th>burr</th>\n",
       "      <td>5.110029</td>\n",
       "      <td>3701.777690</td>\n",
       "      <td>-22.056674</td>\n",
       "      <td>inf</td>\n",
       "      <td>0.521739</td>\n",
       "      <td>0.000002</td>\n",
       "    </tr>\n",
       "  </tbody>\n",
       "</table>\n",
       "</div>"
      ],
      "text/plain": [
       "         sumsquare_error          aic        bic  kl_div  ks_statistic  \\\n",
       "gamma           2.701347   913.014626 -39.853625     inf      0.478261   \n",
       "beta            3.203593   740.019367 -32.796114     inf      0.478261   \n",
       "lognorm         3.583291  1046.971727 -33.355407     inf      0.478261   \n",
       "norm            4.874065   782.048310 -29.415026     inf      0.301357   \n",
       "burr            5.110029  3701.777690 -22.056674     inf      0.521739   \n",
       "\n",
       "         ks_pvalue  \n",
       "gamma     0.000023  \n",
       "beta      0.000023  \n",
       "lognorm   0.000023  \n",
       "norm      0.023844  \n",
       "burr      0.000002  "
      ]
     },
     "execution_count": 73,
     "metadata": {},
     "output_type": "execute_result"
    },
    {
     "data": {
      "image/png": "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",
      "text/plain": [
       "<Figure size 750x500 with 1 Axes>"
      ]
     },
     "metadata": {},
     "output_type": "display_data"
    }
   ],
   "source": [
    "# IMPORT PACKAGES\n",
    "import seaborn as sns\n",
    "from fitter import Fitter, get_common_distributions, get_distributions\n",
    "\n",
    "# FIT THE DISTRIBUTION\n",
    "sns.set_style('white')\n",
    "sns.set_context(\"paper\", font_scale = 2)\n",
    "sns.displot(data=gun_count, x=\"count\", kind=\"hist\", bins = 100, aspect = 1.5)\n",
    "\n",
    "gun_count_distri= gun_count[\"count\"].values\n",
    "\n",
    "f = Fitter(gun_count_distri,\n",
    "           distributions=['gamma',\n",
    "                          'lognorm',\n",
    "                          \"beta\",\n",
    "                          \"burr\",\n",
    "                          \"norm\"])\n",
    "f.fit()\n",
    "f.summary()"
   ]
  },
  {
   "cell_type": "code",
   "execution_count": 74,
   "metadata": {},
   "outputs": [
    {
     "data": {
      "text/plain": [
       "{'gamma': {'a': 0.4104886180838011,\n",
       "  'loc': -2.0698224666891094e-27,\n",
       "  'scale': 6.665745546739703}}"
      ]
     },
     "execution_count": 74,
     "metadata": {},
     "output_type": "execute_result"
    }
   ],
   "source": [
    "# FIND THE BEST FITTED DISTRIBUTION\n",
    "f.get_best(method = 'sumsquare_error')"
   ]
  },
  {
   "cell_type": "code",
   "execution_count": 80,
   "metadata": {},
   "outputs": [
    {
     "name": "stderr",
     "output_type": "stream",
     "text": [
      "Fitting 5 distributions: 100%|██████████| 5/5 [00:00<00:00, 12.86it/s]\n"
     ]
    },
    {
     "data": {
      "text/html": [
       "<div>\n",
       "<style scoped>\n",
       "    .dataframe tbody tr th:only-of-type {\n",
       "        vertical-align: middle;\n",
       "    }\n",
       "\n",
       "    .dataframe tbody tr th {\n",
       "        vertical-align: top;\n",
       "    }\n",
       "\n",
       "    .dataframe thead th {\n",
       "        text-align: right;\n",
       "    }\n",
       "</style>\n",
       "<table border=\"1\" class=\"dataframe\">\n",
       "  <thead>\n",
       "    <tr style=\"text-align: right;\">\n",
       "      <th></th>\n",
       "      <th>sumsquare_error</th>\n",
       "      <th>aic</th>\n",
       "      <th>bic</th>\n",
       "      <th>kl_div</th>\n",
       "      <th>ks_statistic</th>\n",
       "      <th>ks_pvalue</th>\n",
       "    </tr>\n",
       "  </thead>\n",
       "  <tbody>\n",
       "    <tr>\n",
       "      <th>burr</th>\n",
       "      <td>5046.547921</td>\n",
       "      <td>-132.648252</td>\n",
       "      <td>122.597478</td>\n",
       "      <td>inf</td>\n",
       "      <td>0.189617</td>\n",
       "      <td>0.416589</td>\n",
       "    </tr>\n",
       "    <tr>\n",
       "      <th>beta</th>\n",
       "      <td>5060.427744</td>\n",
       "      <td>-180.701403</td>\n",
       "      <td>122.652409</td>\n",
       "      <td>inf</td>\n",
       "      <td>0.128357</td>\n",
       "      <td>0.855833</td>\n",
       "    </tr>\n",
       "    <tr>\n",
       "      <th>lognorm</th>\n",
       "      <td>5388.165846</td>\n",
       "      <td>-133.398954</td>\n",
       "      <td>120.911758</td>\n",
       "      <td>inf</td>\n",
       "      <td>0.175869</td>\n",
       "      <td>0.510513</td>\n",
       "    </tr>\n",
       "    <tr>\n",
       "      <th>norm</th>\n",
       "      <td>5503.088429</td>\n",
       "      <td>-162.106913</td>\n",
       "      <td>118.338114</td>\n",
       "      <td>inf</td>\n",
       "      <td>0.169846</td>\n",
       "      <td>0.554433</td>\n",
       "    </tr>\n",
       "    <tr>\n",
       "      <th>gamma</th>\n",
       "      <td>5875.403528</td>\n",
       "      <td>-37.218337</td>\n",
       "      <td>122.643152</td>\n",
       "      <td>inf</td>\n",
       "      <td>0.388436</td>\n",
       "      <td>0.003153</td>\n",
       "    </tr>\n",
       "  </tbody>\n",
       "</table>\n",
       "</div>"
      ],
      "text/plain": [
       "         sumsquare_error         aic         bic  kl_div  ks_statistic  \\\n",
       "burr         5046.547921 -132.648252  122.597478     inf      0.189617   \n",
       "beta         5060.427744 -180.701403  122.652409     inf      0.128357   \n",
       "lognorm      5388.165846 -133.398954  120.911758     inf      0.175869   \n",
       "norm         5503.088429 -162.106913  118.338114     inf      0.169846   \n",
       "gamma        5875.403528  -37.218337  122.643152     inf      0.388436   \n",
       "\n",
       "         ks_pvalue  \n",
       "burr      0.416589  \n",
       "beta      0.855833  \n",
       "lognorm   0.510513  \n",
       "norm      0.554433  \n",
       "gamma     0.003153  "
      ]
     },
     "execution_count": 80,
     "metadata": {},
     "output_type": "execute_result"
    },
    {
     "data": {
      "image/png": "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",
      "text/plain": [
       "<Figure size 750x500 with 1 Axes>"
      ]
     },
     "metadata": {},
     "output_type": "display_data"
    }
   ],
   "source": [
    "# FIT THE DISTRIBUTION\n",
    "sns.set_style('white')\n",
    "sns.set_context(\"paper\", font_scale = 2)\n",
    "sns.displot(data=hunger_data, x=\"Food Insecurity\", kind=\"hist\", bins = 100, aspect = 1.5)\n",
    "\n",
    "Food_Insecurity = hunger_data[\"Food Insecurity\"].values\n",
    "\n",
    "f = Fitter(Food_Insecurity,\n",
    "           distributions=['gamma',\n",
    "                          'lognorm',\n",
    "                          \"beta\",\n",
    "                          \"burr\",\n",
    "                          \"norm\"])\n",
    "f.fit()\n",
    "f.summary()"
   ]
  },
  {
   "cell_type": "code",
   "execution_count": 81,
   "metadata": {},
   "outputs": [
    {
     "data": {
      "text/plain": [
       "{'burr': {'c': 8.43224756013143,\n",
       "  'd': 0.07584775713535147,\n",
       "  'loc': 0.07299999999999975,\n",
       "  'scale': 0.24922439939527444}}"
      ]
     },
     "execution_count": 81,
     "metadata": {},
     "output_type": "execute_result"
    }
   ],
   "source": [
    "# FIND THE BEST FITTED DISTRIBUTION\n",
    "f.get_best(method = 'sumsquare_error')"
   ]
  }
 ],
 "metadata": {
  "kernelspec": {
   "display_name": "Python 3",
   "language": "python",
   "name": "python3"
  },
  "language_info": {
   "codemirror_mode": {
    "name": "ipython",
    "version": 3
   },
   "file_extension": ".py",
   "mimetype": "text/x-python",
   "name": "python",
   "nbconvert_exporter": "python",
   "pygments_lexer": "ipython3",
   "version": "3.11.0"
  },
  "orig_nbformat": 4
 },
 "nbformat": 4,
 "nbformat_minor": 2
}
