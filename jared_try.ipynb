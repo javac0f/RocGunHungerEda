{
 "cells": [
  {
   "attachments": {},
   "cell_type": "markdown",
   "metadata": {},
   "source": [
    "## **GROUP 9 EDA**\n",
    "---\n",
    "**AUTHORS**\n",
    "- Jared Coffey (jcoffey7@u.rochester.edu)\n",
    "- Kyle Chang (kchang27@u.rochester.edu)\n",
    "- Junhan Yu (jyu55@u.rochester.edu)\n",
    "---\n",
    "\n",
    "**TABLE O' CONTENTS**\n",
    "| Section | Description |\n",
    "| ----------- | ----------- |\n",
    "|  **1**  | **Exploratory Data Analysis** |\n",
    "| 1.1 | Basic Imports |\n",
    "| 1.2 | Gun Violence Data EDA |\n",
    "| 1.3 | Food Insecurity Data EDA |\n",
    "|  **2**  | **Distribution Modeling** |\n",
    "| 2.1 | Fitting the Distributions |\n",
    "| 2.2 | Comparing Distributions |\n",
    "| **3** | **Sourcing** |"
   ]
  },
  {
   "cell_type": "code",
   "execution_count": 188,
   "metadata": {},
   "outputs": [],
   "source": [
    "# BASIC DS LIBS\n",
    "import openpyxl\n",
    "import numpy as np\n",
    "import pandas as pd\n",
    "import matplotlib.pyplot as plt\n",
    "\n",
    "# FILE IO LIBS\n",
    "import os \n",
    "from os.path import join \n",
    "\n",
    "# GEOSPATIAL LIBS\n",
    "from osgeo import gdal\n",
    "import geopandas as gpd\n",
    "import geopy\n",
    "from geopandas import GeoDataFrame\n",
    "\n",
    "# PLOT LIBS\n",
    "import plotly.express as px \n",
    "from plotly.offline import plot\n",
    "import plotly.graph_objects as go\n",
    "from shapely.geometry import Point\n",
    "from plotly.subplots import make_subplots\n"
   ]
  },
  {
   "cell_type": "code",
   "execution_count": 189,
   "metadata": {},
   "outputs": [],
   "source": [
    "# IMPORT DATA\n",
    "hunger_data = pd.read_csv(r'data/foodlink_data.csv')\n",
    "mealmap_data = pd.read_excel(r'data/MMG2022_2020-2019Data_ToShare.xlsx')\n",
    "gun_data = pd.read_csv(r'data/Rochester_NY_Shooting_Victims.csv')"
   ]
  },
  {
   "attachments": {},
   "cell_type": "markdown",
   "metadata": {},
   "source": [
    "### EDA"
   ]
  },
  {
   "attachments": {},
   "cell_type": "markdown",
   "metadata": {},
   "source": [
    "#### DATA CLEANING"
   ]
  },
  {
   "cell_type": "code",
   "execution_count": 190,
   "metadata": {},
   "outputs": [
    {
     "name": "stdout",
     "output_type": "stream",
     "text": [
      "Index(['X', 'Y', 'ID', 'Case_Number', 'Address', 'Occurred_Date',\n",
      "       'Occurred_Month', 'Occurred_Year', 'Crime_Type', 'Multiple_Shooting',\n",
      "       'Gender', 'Race', 'Ethnicity', 'Victim_Age', 'Victim_Age_Band',\n",
      "       'Latitude', 'Longitude', 'ObjectId'],\n",
      "      dtype='object')\n",
      "X                    4679\n",
      "Y                    4679\n",
      "ID                   4679\n",
      "Case_Number          4679\n",
      "Address              4679\n",
      "Occurred_Date        4679\n",
      "Occurred_Month       4679\n",
      "Occurred_Year        4679\n",
      "Crime_Type           4679\n",
      "Multiple_Shooting    4679\n",
      "Gender               4679\n",
      "Race                 4679\n",
      "Ethnicity            4679\n",
      "Victim_Age           4679\n",
      "Victim_Age_Band      4679\n",
      "Latitude             4679\n",
      "Longitude            4679\n",
      "ObjectId             4679\n",
      "dtype: int64\n"
     ]
    }
   ],
   "source": [
    "gun_data.head()\n",
    "print(gun_data.columns)\n",
    "print(gun_data.count())"
   ]
  },
  {
   "cell_type": "code",
   "execution_count": 191,
   "metadata": {},
   "outputs": [
    {
     "name": "stdout",
     "output_type": "stream",
     "text": [
      "<class 'pandas.core.frame.DataFrame'>\n",
      "Int64Index: 137 entries, 0 to 436\n",
      "Data columns (total 9 columns):\n",
      " #   Column             Non-Null Count  Dtype  \n",
      "---  ------             --------------  -----  \n",
      " 0   X                  137 non-null    float64\n",
      " 1   Y                  137 non-null    float64\n",
      " 2   Address            137 non-null    object \n",
      " 3   Occurred_Date      137 non-null    object \n",
      " 4   Occurred_Year      137 non-null    int64  \n",
      " 5   Crime_Type         137 non-null    object \n",
      " 6   Multiple_Shooting  137 non-null    object \n",
      " 7   Latitude           137 non-null    float64\n",
      " 8   Longitude          137 non-null    float64\n",
      "dtypes: float64(4), int64(1), object(4)\n",
      "memory usage: 10.7+ KB\n",
      "None\n"
     ]
    },
    {
     "data": {
      "text/html": [
       "<div>\n",
       "<style scoped>\n",
       "    .dataframe tbody tr th:only-of-type {\n",
       "        vertical-align: middle;\n",
       "    }\n",
       "\n",
       "    .dataframe tbody tr th {\n",
       "        vertical-align: top;\n",
       "    }\n",
       "\n",
       "    .dataframe thead th {\n",
       "        text-align: right;\n",
       "    }\n",
       "</style>\n",
       "<table border=\"1\" class=\"dataframe\">\n",
       "  <thead>\n",
       "    <tr style=\"text-align: right;\">\n",
       "      <th></th>\n",
       "      <th>X</th>\n",
       "      <th>Y</th>\n",
       "      <th>Address</th>\n",
       "      <th>Occurred_Date</th>\n",
       "      <th>Occurred_Year</th>\n",
       "      <th>Crime_Type</th>\n",
       "      <th>Multiple_Shooting</th>\n",
       "      <th>Latitude</th>\n",
       "      <th>Longitude</th>\n",
       "    </tr>\n",
       "  </thead>\n",
       "  <tbody>\n",
       "    <tr>\n",
       "      <th>0</th>\n",
       "      <td>-77.610890</td>\n",
       "      <td>43.184163</td>\n",
       "      <td>442 Remington St</td>\n",
       "      <td>2022/06/01 04:00:00+00</td>\n",
       "      <td>2022</td>\n",
       "      <td>Shooting</td>\n",
       "      <td>No</td>\n",
       "      <td>43.184163</td>\n",
       "      <td>-77.610890</td>\n",
       "    </tr>\n",
       "    <tr>\n",
       "      <th>1</th>\n",
       "      <td>-77.598893</td>\n",
       "      <td>43.181793</td>\n",
       "      <td>904 Hudson Ave</td>\n",
       "      <td>2022/05/29 04:00:00+00</td>\n",
       "      <td>2022</td>\n",
       "      <td>Homicide</td>\n",
       "      <td>No</td>\n",
       "      <td>43.181793</td>\n",
       "      <td>-77.598893</td>\n",
       "    </tr>\n",
       "    <tr>\n",
       "      <th>2</th>\n",
       "      <td>-77.630378</td>\n",
       "      <td>43.142970</td>\n",
       "      <td>168 Bartlett St</td>\n",
       "      <td>2022/05/29 04:00:00+00</td>\n",
       "      <td>2022</td>\n",
       "      <td>Shooting</td>\n",
       "      <td>No</td>\n",
       "      <td>43.142970</td>\n",
       "      <td>-77.630378</td>\n",
       "    </tr>\n",
       "    <tr>\n",
       "      <th>3</th>\n",
       "      <td>-77.580628</td>\n",
       "      <td>43.167216</td>\n",
       "      <td>720 N Goodman St</td>\n",
       "      <td>2022/05/28 04:00:00+00</td>\n",
       "      <td>2022</td>\n",
       "      <td>Shooting</td>\n",
       "      <td>No</td>\n",
       "      <td>43.167216</td>\n",
       "      <td>-77.580628</td>\n",
       "    </tr>\n",
       "    <tr>\n",
       "      <th>4</th>\n",
       "      <td>-77.641972</td>\n",
       "      <td>43.162394</td>\n",
       "      <td>138 Murray St</td>\n",
       "      <td>2022/05/26 04:00:00+00</td>\n",
       "      <td>2022</td>\n",
       "      <td>Shooting</td>\n",
       "      <td>No</td>\n",
       "      <td>43.162394</td>\n",
       "      <td>-77.641972</td>\n",
       "    </tr>\n",
       "  </tbody>\n",
       "</table>\n",
       "</div>"
      ],
      "text/plain": [
       "           X          Y           Address           Occurred_Date  \\\n",
       "0 -77.610890  43.184163  442 Remington St  2022/06/01 04:00:00+00   \n",
       "1 -77.598893  43.181793    904 Hudson Ave  2022/05/29 04:00:00+00   \n",
       "2 -77.630378  43.142970   168 Bartlett St  2022/05/29 04:00:00+00   \n",
       "3 -77.580628  43.167216  720 N Goodman St  2022/05/28 04:00:00+00   \n",
       "4 -77.641972  43.162394     138 Murray St  2022/05/26 04:00:00+00   \n",
       "\n",
       "   Occurred_Year Crime_Type Multiple_Shooting   Latitude  Longitude  \n",
       "0           2022   Shooting                No  43.184163 -77.610890  \n",
       "1           2022   Homicide                No  43.181793 -77.598893  \n",
       "2           2022   Shooting                No  43.142970 -77.630378  \n",
       "3           2022   Shooting                No  43.167216 -77.580628  \n",
       "4           2022   Shooting                No  43.162394 -77.641972  "
      ]
     },
     "execution_count": 191,
     "metadata": {},
     "output_type": "execute_result"
    }
   ],
   "source": [
    "# GUN DATA CLEANING\n",
    "gun_data = gun_data.drop(columns=[\n",
    "                        'ID',\n",
    "                        'Case_Number',\n",
    "                        'Occurred_Month',\n",
    "                        'Gender',\n",
    "                        'Race',\n",
    "                        'Ethnicity',\n",
    "                        'Victim_Age',\n",
    "                        'Victim_Age_Band',\n",
    "                        'ObjectId'\n",
    "                        ])\n",
    "\n",
    "gun_data = gun_data.loc[gun_data['Occurred_Year'].isin([2022,2023])]                        \n",
    "print(gun_data.info())  # to check for any missing values\n",
    "gun_data.head()"
   ]
  },
  {
   "cell_type": "code",
   "execution_count": 192,
   "metadata": {},
   "outputs": [
    {
     "name": "stdout",
     "output_type": "stream",
     "text": [
      "<class 'pandas.core.frame.DataFrame'>\n",
      "Int64Index: 20 entries, 124 to 145\n",
      "Data columns (total 4 columns):\n",
      " #   Column           Non-Null Count  Dtype  \n",
      "---  ------           --------------  -----  \n",
      " 0   Zip Code         20 non-null     int64  \n",
      " 1   Latitude         20 non-null     float64\n",
      " 2   Longitude        20 non-null     float64\n",
      " 3   Food Insecurity  20 non-null     float64\n",
      "dtypes: float64(3), int64(1)\n",
      "memory usage: 800.0 bytes\n",
      "None\n"
     ]
    },
    {
     "data": {
      "text/html": [
       "<div>\n",
       "<style scoped>\n",
       "    .dataframe tbody tr th:only-of-type {\n",
       "        vertical-align: middle;\n",
       "    }\n",
       "\n",
       "    .dataframe tbody tr th {\n",
       "        vertical-align: top;\n",
       "    }\n",
       "\n",
       "    .dataframe thead th {\n",
       "        text-align: right;\n",
       "    }\n",
       "</style>\n",
       "<table border=\"1\" class=\"dataframe\">\n",
       "  <thead>\n",
       "    <tr style=\"text-align: right;\">\n",
       "      <th></th>\n",
       "      <th>Zip Code</th>\n",
       "      <th>Latitude</th>\n",
       "      <th>Longitude</th>\n",
       "      <th>Food Insecurity</th>\n",
       "    </tr>\n",
       "  </thead>\n",
       "  <tbody>\n",
       "    <tr>\n",
       "      <th>124</th>\n",
       "      <td>14626</td>\n",
       "      <td>43.2141</td>\n",
       "      <td>-77.7135</td>\n",
       "      <td>0.094</td>\n",
       "    </tr>\n",
       "    <tr>\n",
       "      <th>127</th>\n",
       "      <td>14623</td>\n",
       "      <td>43.0881</td>\n",
       "      <td>-77.6425</td>\n",
       "      <td>0.167</td>\n",
       "    </tr>\n",
       "    <tr>\n",
       "      <th>128</th>\n",
       "      <td>14622</td>\n",
       "      <td>43.2138</td>\n",
       "      <td>-77.5569</td>\n",
       "      <td>0.080</td>\n",
       "    </tr>\n",
       "    <tr>\n",
       "      <th>129</th>\n",
       "      <td>14621</td>\n",
       "      <td>43.1863</td>\n",
       "      <td>-77.6018</td>\n",
       "      <td>0.298</td>\n",
       "    </tr>\n",
       "    <tr>\n",
       "      <th>130</th>\n",
       "      <td>14620</td>\n",
       "      <td>43.1291</td>\n",
       "      <td>-77.6065</td>\n",
       "      <td>0.187</td>\n",
       "    </tr>\n",
       "  </tbody>\n",
       "</table>\n",
       "</div>"
      ],
      "text/plain": [
       "     Zip Code  Latitude  Longitude  Food Insecurity\n",
       "124     14626   43.2141   -77.7135            0.094\n",
       "127     14623   43.0881   -77.6425            0.167\n",
       "128     14622   43.2138   -77.5569            0.080\n",
       "129     14621   43.1863   -77.6018            0.298\n",
       "130     14620   43.1291   -77.6065            0.187"
      ]
     },
     "execution_count": 192,
     "metadata": {},
     "output_type": "execute_result"
    }
   ],
   "source": [
    "# HUNGER DATA\n",
    "hunger_data.columns = ['Zip Code', 'Latitude', 'Longitude', 'Food Insecurity']\n",
    "\n",
    "# NARROW DOWN DATA TO JUST ROCHESTER AREAS\n",
    "roc_zip = list(range(14604, 14624))\n",
    "roc_zip.append(14626)\n",
    "roc_zip.append(14627)\n",
    "roc_zip.append(14642)\n",
    "hunger_data = hunger_data.loc[hunger_data['Zip Code'].isin(roc_zip)]\n",
    "\n",
    "print(hunger_data.info())   # to check for missing values\n",
    "hunger_data.head()"
   ]
  },
  {
   "cell_type": "code",
   "execution_count": 193,
   "metadata": {},
   "outputs": [
    {
     "data": {
      "application/vnd.plotly.v1+json": {
       "config": {
        "plotlyServerURL": "https://plot.ly"
       },
       "data": [
        {
         "customdata": [
          [
           "2022/06/01 04:00:00+00",
           "442 Remington St"
          ],
          [
           "2022/05/29 04:00:00+00",
           "168 Bartlett St"
          ],
          [
           "2022/05/28 04:00:00+00",
           "720 N Goodman St"
          ],
          [
           "2022/05/26 04:00:00+00",
           "138 Murray St"
          ],
          [
           "2022/05/26 04:00:00+00",
           "22 Jefferson Ave"
          ],
          [
           "2022/05/25 04:00:00+00",
           "1173 Culver Rd"
          ],
          [
           "2022/05/25 04:00:00+00",
           "1801 E Main St"
          ],
          [
           "2022/05/24 04:00:00+00",
           "58 Sheldon Ter"
          ],
          [
           "2022/05/22 04:00:00+00",
           "1865 Clifford Ave"
          ],
          [
           "2022/05/22 04:00:00+00",
           "405 Avenue D"
          ],
          [
           "2022/05/21 04:00:00+00",
           "121 Selye Ter"
          ],
          [
           "2022/05/21 04:00:00+00",
           "120 Cummings St"
          ],
          [
           "2022/05/21 04:00:00+00",
           "344 Clifford Ave"
          ],
          [
           "2022/05/20 04:00:00+00",
           "594 Smith St"
          ],
          [
           "2022/05/20 04:00:00+00",
           "1260 St Paul St"
          ],
          [
           "2022/05/20 04:00:00+00",
           "116 Garson Ave"
          ],
          [
           "2022/05/20 04:00:00+00",
           "74 Kosciusko St"
          ],
          [
           "2022/05/19 04:00:00+00",
           "78 Avenue D"
          ],
          [
           "2022/05/17 04:00:00+00",
           "40 Malvern St"
          ],
          [
           "2022/05/17 04:00:00+00",
           "111 Santee St"
          ],
          [
           "2022/05/14 04:00:00+00",
           "150 Van Auker St"
          ],
          [
           "2022/05/10 04:00:00+00",
           "46 Melrose St"
          ],
          [
           "2022/05/08 04:00:00+00",
           "232 Pierpont St"
          ],
          [
           "2022/05/08 04:00:00+00",
           "37 Ferncliffe Dr"
          ],
          [
           "2022/05/08 04:00:00+00",
           "24 Alphonse St"
          ],
          [
           "2022/05/08 04:00:00+00",
           "243 Fourth St"
          ],
          [
           "2022/05/08 04:00:00+00",
           "243 Fourth St"
          ],
          [
           "2022/05/07 04:00:00+00",
           "11 Silver St"
          ],
          [
           "2022/05/06 04:00:00+00",
           "512 Columbia Ave"
          ],
          [
           "2022/05/05 04:00:00+00",
           "443 Scio St"
          ],
          [
           "2022/05/02 04:00:00+00",
           "837 Lake Ave"
          ],
          [
           "2022/05/01 04:00:00+00",
           "827 Glide St"
          ],
          [
           "2022/05/01 04:00:00+00",
           "620 Dewey Ave"
          ],
          [
           "2022/05/01 04:00:00+00",
           "368 Parsells Ave"
          ],
          [
           "2022/05/01 04:00:00+00",
           "16 Joseph Pl"
          ],
          [
           "2022/04/30 04:00:00+00",
           "37 York St"
          ],
          [
           "2022/04/30 04:00:00+00",
           "34 Woodward St"
          ],
          [
           "2022/04/29 04:00:00+00",
           "130 Weyl St"
          ],
          [
           "2022/04/25 04:00:00+00",
           "1676 Clifford Ave"
          ],
          [
           "2022/04/25 04:00:00+00",
           "47 Glendale Pk"
          ],
          [
           "2022/04/23 04:00:00+00",
           "253 Moulson St"
          ],
          [
           "2022/04/23 04:00:00+00",
           "488 Joseph Ave"
          ],
          [
           "2022/04/20 04:00:00+00",
           "403 Columbia Ave"
          ],
          [
           "2022/04/19 04:00:00+00",
           "710 N Goodman St"
          ],
          [
           "2022/04/18 04:00:00+00",
           "1058 Clifford Ave"
          ],
          [
           "2022/04/18 04:00:00+00",
           "1058 Clifford Ave"
          ],
          [
           "2022/04/17 04:00:00+00",
           "100 Hawley St"
          ],
          [
           "2022/04/17 04:00:00+00",
           "44 Harris St"
          ],
          [
           "2022/04/17 04:00:00+00",
           "19 Lang St"
          ],
          [
           "2022/04/16 04:00:00+00",
           "571 Lake Ave"
          ],
          [
           "2022/04/16 04:00:00+00",
           "109 Cady St"
          ],
          [
           "2022/04/15 04:00:00+00",
           "15 Phelps Ave"
          ],
          [
           "2022/04/15 04:00:00+00",
           "370 Melville St"
          ],
          [
           "2022/04/15 04:00:00+00",
           "50 N Plymouth Ave"
          ],
          [
           "2022/04/15 04:00:00+00",
           "50 N Plymouth Ave"
          ],
          [
           "2022/04/14 04:00:00+00",
           "611 Jefferson Ave"
          ],
          [
           "2022/04/12 04:00:00+00",
           "30 Arklow St"
          ],
          [
           "2022/04/12 04:00:00+00",
           "238 Chamberlain St"
          ],
          [
           "2022/04/12 04:00:00+00",
           "130 Cedarwood Ter"
          ],
          [
           "2022/04/12 04:00:00+00",
           "1 S Plymouth Ave"
          ],
          [
           "2022/04/10 04:00:00+00",
           "836 N Goodman Ave"
          ],
          [
           "2022/04/05 04:00:00+00",
           "154 N Clinton Ave"
          ],
          [
           "2022/04/04 04:00:00+00",
           "11 Vinewood Pl"
          ],
          [
           "2022/04/04 04:00:00+00",
           "11 Vinewood Pl"
          ],
          [
           "2022/04/03 04:00:00+00",
           "57 Lime St"
          ],
          [
           "2022/03/31 04:00:00+00",
           "1042 Dewey Ave"
          ],
          [
           "2022/03/30 04:00:00+00",
           "43 Judson St"
          ],
          [
           "2022/03/25 04:00:00+00",
           "74 Kosciusko St"
          ],
          [
           "2022/03/22 04:00:00+00",
           "45 Varden St"
          ],
          [
           "2022/03/19 04:00:00+00",
           "601 Elmwood Ave"
          ],
          [
           "2022/03/19 04:00:00+00",
           "456 Thurston Rd"
          ],
          [
           "2022/03/17 04:00:00+00",
           "597 Norton St"
          ],
          [
           "2022/03/16 04:00:00+00",
           "83 Taylor St"
          ],
          [
           "2022/03/15 04:00:00+00",
           "41 Backus St"
          ],
          [
           "2022/03/14 04:00:00+00",
           "575 Smith St"
          ],
          [
           "2022/03/13 05:00:00+00",
           "471 State St"
          ],
          [
           "2022/03/13 05:00:00+00",
           "471 State St"
          ],
          [
           "2022/03/12 05:00:00+00",
           "18 Gladstone St"
          ],
          [
           "2022/03/12 05:00:00+00",
           "859 Bay St"
          ],
          [
           "2022/03/10 05:00:00+00",
           "1397 Clifford Ave"
          ],
          [
           "2022/03/05 05:00:00+00",
           "17 Fairfax Rd"
          ],
          [
           "2022/03/04 05:00:00+00",
           "171 Shelter St"
          ],
          [
           "2022/02/26 05:00:00+00",
           "799 N Clinton Ave"
          ],
          [
           "2022/02/26 05:00:00+00",
           "799 N Clinton Ave"
          ],
          [
           "2022/02/24 05:00:00+00",
           "236 Avenue D"
          ],
          [
           "2022/02/23 05:00:00+00",
           "196 Bernard St"
          ],
          [
           "2022/02/23 05:00:00+00",
           "153 N Union St"
          ],
          [
           "2022/02/23 05:00:00+00",
           "153 N Union St"
          ],
          [
           "2022/02/23 05:00:00+00",
           "202 Cottage St"
          ],
          [
           "2022/02/23 05:00:00+00",
           "116 Burrows St"
          ],
          [
           "2022/02/21 05:00:00+00",
           "337 Roycroft Dr"
          ],
          [
           "2022/02/21 05:00:00+00",
           "54 Wendell St"
          ],
          [
           "2022/02/20 05:00:00+00",
           "320 Kelly St"
          ],
          [
           "2022/02/20 05:00:00+00",
           "1 Twin Beeches"
          ],
          [
           "2022/02/20 05:00:00+00",
           "1894 Dewey Ave"
          ],
          [
           "2022/02/17 05:00:00+00",
           "61 Myrtle St"
          ],
          [
           "2022/02/15 05:00:00+00",
           "55 Pardee St"
          ],
          [
           "2022/02/13 05:00:00+00",
           "303 Roxborough Rd"
          ],
          [
           "2022/02/09 05:00:00+00",
           "230 Saxton St"
          ],
          [
           "2022/02/01 05:00:00+00",
           "452 Glenwood Ave"
          ],
          [
           "2022/01/20 05:00:00+00",
           "311 Frost Ave "
          ],
          [
           "2022/01/19 05:00:00+00",
           "1233 N Clinton Ave"
          ],
          [
           "2022/01/19 05:00:00+00",
           "1233 N Clinton Ave"
          ],
          [
           "2022/01/19 05:00:00+00",
           "719 S Plymouth Ave"
          ],
          [
           "2022/01/13 05:00:00+00",
           "45 Glendale Pk"
          ],
          [
           "2022/01/13 05:00:00+00",
           "45 Glendale Pk"
          ],
          [
           "2022/01/13 05:00:00+00",
           "45 Glendale Pk"
          ],
          [
           "2022/01/12 05:00:00+00",
           "353 Sherman St"
          ],
          [
           "2022/01/10 05:00:00+00",
           "19 Hollenbeck St"
          ],
          [
           "2022/01/09 05:00:00+00",
           "185 Burley Rd"
          ],
          [
           "2022/01/07 05:00:00+00",
           "493 West Ave"
          ],
          [
           "2022/01/05 05:00:00+00",
           "367 Alphonse St"
          ],
          [
           "2022/01/04 05:00:00+00",
           "211 Depew St"
          ],
          [
           "2022/01/04 05:00:00+00",
           "290 Saxton St"
          ],
          [
           "2022/01/01 05:00:00+00",
           "204 Hawley St"
          ]
         ],
         "hovertemplate": "Crime_Type=%{text}<br>Latitude=%{lat}<br>Longitude=%{lon}<br>Occurred_Date=%{customdata[0]}<br>Address=%{customdata[1]}<extra></extra>",
         "lat": [
          43.18416269,
          43.14297014,
          43.16721571,
          43.16239428,
          43.15486861,
          43.16669846,
          43.1589162,
          43.13223858,
          43.17580088,
          43.18028037,
          43.18146688,
          43.17340684,
          43.17505997,
          43.16071036,
          43.17884696,
          43.16447594,
          43.18538057,
          43.18035945,
          43.17677499,
          43.17141551,
          43.15016761,
          43.13866208,
          43.18429203,
          43.17651614,
          43.17637242,
          43.16791436,
          43.16791436,
          43.1550101,
          43.14174903,
          43.16507779,
          43.18056851,
          43.16803433,
          43.17619911,
          43.16599649,
          43.18172423,
          43.15088207,
          43.16440965,
          43.18333186,
          43.17600856,
          43.1763417,
          43.18992499,
          43.17291283,
          43.14156061,
          43.16695964,
          43.17556893,
          43.17556893,
          43.14097303,
          43.17718279,
          43.18490445,
          43.17523297,
          43.14568724,
          43.17142989,
          43.16685145,
          43.15573163,
          43.15573163,
          43.14265696,
          43.15268903,
          43.16605423,
          43.16295368,
          43.1528848,
          43.16924356,
          43.16030924,
          43.14733655,
          43.14733655,
          43.16173444,
          43.18493299,
          43.14529486,
          43.18538057,
          43.17088875,
          43.12360795,
          43.13580404,
          43.18639775,
          43.15351426,
          43.17144967,
          43.16045551,
          43.16301446,
          43.16301446,
          43.14838457,
          43.17116924,
          43.17541558,
          43.16251264,
          43.13871776,
          43.17296273,
          43.17296273,
          43.18046288,
          43.17737966,
          43.16137543,
          43.16137543,
          43.13489226,
          43.16709225,
          43.18149375,
          43.17068166,
          43.16730939,
          43.17309351,
          43.20239746,
          43.1660195,
          43.18107053,
          43.14054928,
          43.1588689,
          43.17714268,
          43.1436132,
          43.18199882,
          43.18199882,
          43.16517331,
          43.17631463,
          43.17631463,
          43.17631463,
          43.17112429,
          43.17834727,
          43.22037523,
          43.14976604,
          43.17626459,
          43.14552109,
          43.16008046,
          43.14103651
         ],
         "legendgroup": "Shooting",
         "lon": [
          -77.61088985,
          -77.6303776,
          -77.5806279,
          -77.64197227,
          -77.62870378,
          -77.56282563,
          -77.56468747,
          -77.6503256,
          -77.5718866,
          -77.61295886,
          -77.63527439,
          -77.573786,
          -77.61456707,
          -77.63035142,
          -77.62483201,
          -77.5839085,
          -77.59731041,
          -77.62267792,
          -77.63311154,
          -77.64319234,
          -77.62126264,
          -77.637393,
          -77.63674091,
          -77.58225061,
          -77.60390502,
          -77.58483019,
          -77.58483019,
          -77.63045052,
          -77.63472609,
          -77.59559558,
          -77.6321989,
          -77.65437725,
          -77.6393238,
          -77.56866868,
          -77.60755079,
          -77.63775661,
          -77.59957657,
          -77.60436298,
          -77.57695712,
          -77.63152004,
          -77.6055469,
          -77.60713741,
          -77.63159645,
          -77.58072841,
          -77.59440059,
          -77.59440059,
          -77.62476874,
          -77.62138515,
          -77.61183111,
          -77.63018914,
          -77.62711511,
          -77.62905386,
          -77.56722612,
          -77.61578995,
          -77.61578995,
          -77.62924572,
          -77.63121245,
          -77.57498418,
          -77.57096812,
          -77.6128988,
          -77.57957943,
          -77.6074545,
          -77.62538552,
          -77.62538552,
          -77.6360566,
          -77.63853129,
          -77.63780085,
          -77.59731041,
          -77.56418022,
          -77.62435793,
          -77.65070369,
          -77.60738513,
          -77.63640405,
          -77.63282365,
          -77.62989965,
          -77.62163933,
          -77.62163933,
          -77.63165143,
          -77.57026846,
          -77.58483403,
          -77.55254829,
          -77.63390522,
          -77.61310545,
          -77.61310545,
          -77.61796637,
          -77.6004679,
          -77.59367806,
          -77.59367806,
          -77.62830566,
          -77.64842316,
          -77.58957659,
          -77.57233491,
          -77.60889454,
          -77.62911978,
          -77.63846678,
          -77.64159001,
          -77.60928241,
          -77.6593118,
          -77.6321527,
          -77.6420558,
          -77.62735723,
          -77.61387505,
          -77.61387505,
          -77.62687918,
          -77.63162018,
          -77.63162018,
          -77.63162018,
          -77.63949889,
          -77.61650099,
          -77.62325107,
          -77.65145257,
          -77.59420801,
          -77.65364718,
          -77.63201202,
          -77.62682131
         ],
         "marker": {
          "color": "#636efa"
         },
         "mode": "markers+text",
         "name": "Shooting",
         "showlegend": true,
         "subplot": "mapbox",
         "text": [
          "Shooting",
          "Shooting",
          "Shooting",
          "Shooting",
          "Shooting",
          "Shooting",
          "Shooting",
          "Shooting",
          "Shooting",
          "Shooting",
          "Shooting",
          "Shooting",
          "Shooting",
          "Shooting",
          "Shooting",
          "Shooting",
          "Shooting",
          "Shooting",
          "Shooting",
          "Shooting",
          "Shooting",
          "Shooting",
          "Shooting",
          "Shooting",
          "Shooting",
          "Shooting",
          "Shooting",
          "Shooting",
          "Shooting",
          "Shooting",
          "Shooting",
          "Shooting",
          "Shooting",
          "Shooting",
          "Shooting",
          "Shooting",
          "Shooting",
          "Shooting",
          "Shooting",
          "Shooting",
          "Shooting",
          "Shooting",
          "Shooting",
          "Shooting",
          "Shooting",
          "Shooting",
          "Shooting",
          "Shooting",
          "Shooting",
          "Shooting",
          "Shooting",
          "Shooting",
          "Shooting",
          "Shooting",
          "Shooting",
          "Shooting",
          "Shooting",
          "Shooting",
          "Shooting",
          "Shooting",
          "Shooting",
          "Shooting",
          "Shooting",
          "Shooting",
          "Shooting",
          "Shooting",
          "Shooting",
          "Shooting",
          "Shooting",
          "Shooting",
          "Shooting",
          "Shooting",
          "Shooting",
          "Shooting",
          "Shooting",
          "Shooting",
          "Shooting",
          "Shooting",
          "Shooting",
          "Shooting",
          "Shooting",
          "Shooting",
          "Shooting",
          "Shooting",
          "Shooting",
          "Shooting",
          "Shooting",
          "Shooting",
          "Shooting",
          "Shooting",
          "Shooting",
          "Shooting",
          "Shooting",
          "Shooting",
          "Shooting",
          "Shooting",
          "Shooting",
          "Shooting",
          "Shooting",
          "Shooting",
          "Shooting",
          "Shooting",
          "Shooting",
          "Shooting",
          "Shooting",
          "Shooting",
          "Shooting",
          "Shooting",
          "Shooting",
          "Shooting",
          "Shooting",
          "Shooting",
          "Shooting",
          "Shooting",
          "Shooting"
         ],
         "type": "scattermapbox"
        },
        {
         "customdata": [
          [
           "2022/05/29 04:00:00+00",
           "904 Hudson Ave"
          ],
          [
           "2022/05/08 04:00:00+00",
           "610 N Plymouth Ave"
          ],
          [
           "2022/05/01 04:00:00+00",
           "256 Driving Park Ave"
          ],
          [
           "2022/04/24 04:00:00+00",
           "398 W Main St"
          ],
          [
           "2022/04/15 04:00:00+00",
           "15 Phelps Ave"
          ],
          [
           "2022/04/10 04:00:00+00",
           "836 N Goodman Ave"
          ],
          [
           "2022/04/09 04:00:00+00",
           "572 Chili Ave"
          ],
          [
           "2022/04/09 04:00:00+00",
           "100 Ave A"
          ],
          [
           "2022/03/21 04:00:00+00",
           "165 E Ridge Rd"
          ],
          [
           "2022/03/19 04:00:00+00",
           "215 E Ridge Rd"
          ],
          [
           "2022/03/14 04:00:00+00",
           "219 Wetmore Pk"
          ],
          [
           "2022/03/13 05:00:00+00",
           "471 State St"
          ],
          [
           "2022/03/13 05:00:00+00",
           "471 State St"
          ],
          [
           "2022/03/12 05:00:00+00",
           "859 Bay St"
          ],
          [
           "2022/03/11 05:00:00+00",
           "184 Otis St"
          ],
          [
           "2022/03/08 05:00:00+00",
           "25 Peckham St"
          ],
          [
           "2022/02/26 05:00:00+00",
           "57 Rialto St"
          ],
          [
           "2022/02/14 05:00:00+00",
           "56 Pardee St"
          ],
          [
           "2022/02/09 05:00:00+00",
           "540 Portland Ave"
          ],
          [
           "2022/01/23 05:00:00+00",
           "453 Lyell Ave"
          ],
          [
           "2022/01/19 05:00:00+00",
           "1233 N Clinton Ave"
          ],
          [
           "2022/01/02 05:00:00+00",
           "125 North St"
          ]
         ],
         "hovertemplate": "Crime_Type=%{text}<br>Latitude=%{lat}<br>Longitude=%{lon}<br>Occurred_Date=%{customdata[0]}<br>Address=%{customdata[1]}<extra></extra>",
         "lat": [
          43.18179326,
          43.1635691,
          43.18107974,
          43.15333695,
          43.17142989,
          43.16924356,
          43.14525584,
          43.17787281,
          43.19670585,
          43.19398996,
          43.16394473,
          43.16301446,
          43.16301446,
          43.17116924,
          43.16912625,
          43.18526405,
          43.1819789,
          43.18139786,
          43.1757512,
          43.16452956,
          43.18199882,
          43.15987723
         ],
         "legendgroup": "Homicide",
         "lon": [
          -77.59889263,
          -77.62477846,
          -77.63684465,
          -77.62355831,
          -77.62905386,
          -77.57957943,
          -77.65186915,
          -77.62206122,
          -77.63247672,
          -77.61265378,
          -77.65723819,
          -77.62163933,
          -77.62163933,
          -77.57026846,
          -77.64408081,
          -77.60160923,
          -77.61453847,
          -77.60927908,
          -77.59061732,
          -77.63901906,
          -77.61387505,
          -77.60391714
         ],
         "marker": {
          "color": "#EF553B"
         },
         "mode": "markers+text",
         "name": "Homicide",
         "showlegend": true,
         "subplot": "mapbox",
         "text": [
          "Homicide",
          "Homicide",
          "Homicide",
          "Homicide",
          "Homicide",
          "Homicide",
          "Homicide",
          "Homicide",
          "Homicide",
          "Homicide",
          "Homicide",
          "Homicide",
          "Homicide",
          "Homicide",
          "Homicide",
          "Homicide",
          "Homicide",
          "Homicide",
          "Homicide",
          "Homicide",
          "Homicide",
          "Homicide"
         ],
         "type": "scattermapbox"
        }
       ],
       "layout": {
        "height": 400,
        "legend": {
         "title": {
          "text": "Crime_Type"
         },
         "tracegroupgap": 0
        },
        "mapbox": {
         "center": {
          "lat": 43.16720224963504,
          "lon": -77.61540001554744
         },
         "domain": {
          "x": [
           0,
           1
          ],
          "y": [
           0,
           1
          ]
         },
         "style": "open-street-map",
         "zoom": 10
        },
        "template": {
         "data": {
          "bar": [
           {
            "error_x": {
             "color": "#2a3f5f"
            },
            "error_y": {
             "color": "#2a3f5f"
            },
            "marker": {
             "line": {
              "color": "#E5ECF6",
              "width": 0.5
             },
             "pattern": {
              "fillmode": "overlay",
              "size": 10,
              "solidity": 0.2
             }
            },
            "type": "bar"
           }
          ],
          "barpolar": [
           {
            "marker": {
             "line": {
              "color": "#E5ECF6",
              "width": 0.5
             },
             "pattern": {
              "fillmode": "overlay",
              "size": 10,
              "solidity": 0.2
             }
            },
            "type": "barpolar"
           }
          ],
          "carpet": [
           {
            "aaxis": {
             "endlinecolor": "#2a3f5f",
             "gridcolor": "white",
             "linecolor": "white",
             "minorgridcolor": "white",
             "startlinecolor": "#2a3f5f"
            },
            "baxis": {
             "endlinecolor": "#2a3f5f",
             "gridcolor": "white",
             "linecolor": "white",
             "minorgridcolor": "white",
             "startlinecolor": "#2a3f5f"
            },
            "type": "carpet"
           }
          ],
          "choropleth": [
           {
            "colorbar": {
             "outlinewidth": 0,
             "ticks": ""
            },
            "type": "choropleth"
           }
          ],
          "contour": [
           {
            "colorbar": {
             "outlinewidth": 0,
             "ticks": ""
            },
            "colorscale": [
             [
              0,
              "#0d0887"
             ],
             [
              0.1111111111111111,
              "#46039f"
             ],
             [
              0.2222222222222222,
              "#7201a8"
             ],
             [
              0.3333333333333333,
              "#9c179e"
             ],
             [
              0.4444444444444444,
              "#bd3786"
             ],
             [
              0.5555555555555556,
              "#d8576b"
             ],
             [
              0.6666666666666666,
              "#ed7953"
             ],
             [
              0.7777777777777778,
              "#fb9f3a"
             ],
             [
              0.8888888888888888,
              "#fdca26"
             ],
             [
              1,
              "#f0f921"
             ]
            ],
            "type": "contour"
           }
          ],
          "contourcarpet": [
           {
            "colorbar": {
             "outlinewidth": 0,
             "ticks": ""
            },
            "type": "contourcarpet"
           }
          ],
          "heatmap": [
           {
            "colorbar": {
             "outlinewidth": 0,
             "ticks": ""
            },
            "colorscale": [
             [
              0,
              "#0d0887"
             ],
             [
              0.1111111111111111,
              "#46039f"
             ],
             [
              0.2222222222222222,
              "#7201a8"
             ],
             [
              0.3333333333333333,
              "#9c179e"
             ],
             [
              0.4444444444444444,
              "#bd3786"
             ],
             [
              0.5555555555555556,
              "#d8576b"
             ],
             [
              0.6666666666666666,
              "#ed7953"
             ],
             [
              0.7777777777777778,
              "#fb9f3a"
             ],
             [
              0.8888888888888888,
              "#fdca26"
             ],
             [
              1,
              "#f0f921"
             ]
            ],
            "type": "heatmap"
           }
          ],
          "heatmapgl": [
           {
            "colorbar": {
             "outlinewidth": 0,
             "ticks": ""
            },
            "colorscale": [
             [
              0,
              "#0d0887"
             ],
             [
              0.1111111111111111,
              "#46039f"
             ],
             [
              0.2222222222222222,
              "#7201a8"
             ],
             [
              0.3333333333333333,
              "#9c179e"
             ],
             [
              0.4444444444444444,
              "#bd3786"
             ],
             [
              0.5555555555555556,
              "#d8576b"
             ],
             [
              0.6666666666666666,
              "#ed7953"
             ],
             [
              0.7777777777777778,
              "#fb9f3a"
             ],
             [
              0.8888888888888888,
              "#fdca26"
             ],
             [
              1,
              "#f0f921"
             ]
            ],
            "type": "heatmapgl"
           }
          ],
          "histogram": [
           {
            "marker": {
             "pattern": {
              "fillmode": "overlay",
              "size": 10,
              "solidity": 0.2
             }
            },
            "type": "histogram"
           }
          ],
          "histogram2d": [
           {
            "colorbar": {
             "outlinewidth": 0,
             "ticks": ""
            },
            "colorscale": [
             [
              0,
              "#0d0887"
             ],
             [
              0.1111111111111111,
              "#46039f"
             ],
             [
              0.2222222222222222,
              "#7201a8"
             ],
             [
              0.3333333333333333,
              "#9c179e"
             ],
             [
              0.4444444444444444,
              "#bd3786"
             ],
             [
              0.5555555555555556,
              "#d8576b"
             ],
             [
              0.6666666666666666,
              "#ed7953"
             ],
             [
              0.7777777777777778,
              "#fb9f3a"
             ],
             [
              0.8888888888888888,
              "#fdca26"
             ],
             [
              1,
              "#f0f921"
             ]
            ],
            "type": "histogram2d"
           }
          ],
          "histogram2dcontour": [
           {
            "colorbar": {
             "outlinewidth": 0,
             "ticks": ""
            },
            "colorscale": [
             [
              0,
              "#0d0887"
             ],
             [
              0.1111111111111111,
              "#46039f"
             ],
             [
              0.2222222222222222,
              "#7201a8"
             ],
             [
              0.3333333333333333,
              "#9c179e"
             ],
             [
              0.4444444444444444,
              "#bd3786"
             ],
             [
              0.5555555555555556,
              "#d8576b"
             ],
             [
              0.6666666666666666,
              "#ed7953"
             ],
             [
              0.7777777777777778,
              "#fb9f3a"
             ],
             [
              0.8888888888888888,
              "#fdca26"
             ],
             [
              1,
              "#f0f921"
             ]
            ],
            "type": "histogram2dcontour"
           }
          ],
          "mesh3d": [
           {
            "colorbar": {
             "outlinewidth": 0,
             "ticks": ""
            },
            "type": "mesh3d"
           }
          ],
          "parcoords": [
           {
            "line": {
             "colorbar": {
              "outlinewidth": 0,
              "ticks": ""
             }
            },
            "type": "parcoords"
           }
          ],
          "pie": [
           {
            "automargin": true,
            "type": "pie"
           }
          ],
          "scatter": [
           {
            "fillpattern": {
             "fillmode": "overlay",
             "size": 10,
             "solidity": 0.2
            },
            "type": "scatter"
           }
          ],
          "scatter3d": [
           {
            "line": {
             "colorbar": {
              "outlinewidth": 0,
              "ticks": ""
             }
            },
            "marker": {
             "colorbar": {
              "outlinewidth": 0,
              "ticks": ""
             }
            },
            "type": "scatter3d"
           }
          ],
          "scattercarpet": [
           {
            "marker": {
             "colorbar": {
              "outlinewidth": 0,
              "ticks": ""
             }
            },
            "type": "scattercarpet"
           }
          ],
          "scattergeo": [
           {
            "marker": {
             "colorbar": {
              "outlinewidth": 0,
              "ticks": ""
             }
            },
            "type": "scattergeo"
           }
          ],
          "scattergl": [
           {
            "marker": {
             "colorbar": {
              "outlinewidth": 0,
              "ticks": ""
             }
            },
            "type": "scattergl"
           }
          ],
          "scattermapbox": [
           {
            "marker": {
             "colorbar": {
              "outlinewidth": 0,
              "ticks": ""
             }
            },
            "type": "scattermapbox"
           }
          ],
          "scatterpolar": [
           {
            "marker": {
             "colorbar": {
              "outlinewidth": 0,
              "ticks": ""
             }
            },
            "type": "scatterpolar"
           }
          ],
          "scatterpolargl": [
           {
            "marker": {
             "colorbar": {
              "outlinewidth": 0,
              "ticks": ""
             }
            },
            "type": "scatterpolargl"
           }
          ],
          "scatterternary": [
           {
            "marker": {
             "colorbar": {
              "outlinewidth": 0,
              "ticks": ""
             }
            },
            "type": "scatterternary"
           }
          ],
          "surface": [
           {
            "colorbar": {
             "outlinewidth": 0,
             "ticks": ""
            },
            "colorscale": [
             [
              0,
              "#0d0887"
             ],
             [
              0.1111111111111111,
              "#46039f"
             ],
             [
              0.2222222222222222,
              "#7201a8"
             ],
             [
              0.3333333333333333,
              "#9c179e"
             ],
             [
              0.4444444444444444,
              "#bd3786"
             ],
             [
              0.5555555555555556,
              "#d8576b"
             ],
             [
              0.6666666666666666,
              "#ed7953"
             ],
             [
              0.7777777777777778,
              "#fb9f3a"
             ],
             [
              0.8888888888888888,
              "#fdca26"
             ],
             [
              1,
              "#f0f921"
             ]
            ],
            "type": "surface"
           }
          ],
          "table": [
           {
            "cells": {
             "fill": {
              "color": "#EBF0F8"
             },
             "line": {
              "color": "white"
             }
            },
            "header": {
             "fill": {
              "color": "#C8D4E3"
             },
             "line": {
              "color": "white"
             }
            },
            "type": "table"
           }
          ]
         },
         "layout": {
          "annotationdefaults": {
           "arrowcolor": "#2a3f5f",
           "arrowhead": 0,
           "arrowwidth": 1
          },
          "autotypenumbers": "strict",
          "coloraxis": {
           "colorbar": {
            "outlinewidth": 0,
            "ticks": ""
           }
          },
          "colorscale": {
           "diverging": [
            [
             0,
             "#8e0152"
            ],
            [
             0.1,
             "#c51b7d"
            ],
            [
             0.2,
             "#de77ae"
            ],
            [
             0.3,
             "#f1b6da"
            ],
            [
             0.4,
             "#fde0ef"
            ],
            [
             0.5,
             "#f7f7f7"
            ],
            [
             0.6,
             "#e6f5d0"
            ],
            [
             0.7,
             "#b8e186"
            ],
            [
             0.8,
             "#7fbc41"
            ],
            [
             0.9,
             "#4d9221"
            ],
            [
             1,
             "#276419"
            ]
           ],
           "sequential": [
            [
             0,
             "#0d0887"
            ],
            [
             0.1111111111111111,
             "#46039f"
            ],
            [
             0.2222222222222222,
             "#7201a8"
            ],
            [
             0.3333333333333333,
             "#9c179e"
            ],
            [
             0.4444444444444444,
             "#bd3786"
            ],
            [
             0.5555555555555556,
             "#d8576b"
            ],
            [
             0.6666666666666666,
             "#ed7953"
            ],
            [
             0.7777777777777778,
             "#fb9f3a"
            ],
            [
             0.8888888888888888,
             "#fdca26"
            ],
            [
             1,
             "#f0f921"
            ]
           ],
           "sequentialminus": [
            [
             0,
             "#0d0887"
            ],
            [
             0.1111111111111111,
             "#46039f"
            ],
            [
             0.2222222222222222,
             "#7201a8"
            ],
            [
             0.3333333333333333,
             "#9c179e"
            ],
            [
             0.4444444444444444,
             "#bd3786"
            ],
            [
             0.5555555555555556,
             "#d8576b"
            ],
            [
             0.6666666666666666,
             "#ed7953"
            ],
            [
             0.7777777777777778,
             "#fb9f3a"
            ],
            [
             0.8888888888888888,
             "#fdca26"
            ],
            [
             1,
             "#f0f921"
            ]
           ]
          },
          "colorway": [
           "#636efa",
           "#EF553B",
           "#00cc96",
           "#ab63fa",
           "#FFA15A",
           "#19d3f3",
           "#FF6692",
           "#B6E880",
           "#FF97FF",
           "#FECB52"
          ],
          "font": {
           "color": "#2a3f5f"
          },
          "geo": {
           "bgcolor": "white",
           "lakecolor": "white",
           "landcolor": "#E5ECF6",
           "showlakes": true,
           "showland": true,
           "subunitcolor": "white"
          },
          "hoverlabel": {
           "align": "left"
          },
          "hovermode": "closest",
          "mapbox": {
           "style": "light"
          },
          "paper_bgcolor": "white",
          "plot_bgcolor": "#E5ECF6",
          "polar": {
           "angularaxis": {
            "gridcolor": "white",
            "linecolor": "white",
            "ticks": ""
           },
           "bgcolor": "#E5ECF6",
           "radialaxis": {
            "gridcolor": "white",
            "linecolor": "white",
            "ticks": ""
           }
          },
          "scene": {
           "xaxis": {
            "backgroundcolor": "#E5ECF6",
            "gridcolor": "white",
            "gridwidth": 2,
            "linecolor": "white",
            "showbackground": true,
            "ticks": "",
            "zerolinecolor": "white"
           },
           "yaxis": {
            "backgroundcolor": "#E5ECF6",
            "gridcolor": "white",
            "gridwidth": 2,
            "linecolor": "white",
            "showbackground": true,
            "ticks": "",
            "zerolinecolor": "white"
           },
           "zaxis": {
            "backgroundcolor": "#E5ECF6",
            "gridcolor": "white",
            "gridwidth": 2,
            "linecolor": "white",
            "showbackground": true,
            "ticks": "",
            "zerolinecolor": "white"
           }
          },
          "shapedefaults": {
           "line": {
            "color": "#2a3f5f"
           }
          },
          "ternary": {
           "aaxis": {
            "gridcolor": "white",
            "linecolor": "white",
            "ticks": ""
           },
           "baxis": {
            "gridcolor": "white",
            "linecolor": "white",
            "ticks": ""
           },
           "bgcolor": "#E5ECF6",
           "caxis": {
            "gridcolor": "white",
            "linecolor": "white",
            "ticks": ""
           }
          },
          "title": {
           "x": 0.05
          },
          "xaxis": {
           "automargin": true,
           "gridcolor": "white",
           "linecolor": "white",
           "ticks": "",
           "title": {
            "standoff": 15
           },
           "zerolinecolor": "white",
           "zerolinewidth": 2
          },
          "yaxis": {
           "automargin": true,
           "gridcolor": "white",
           "linecolor": "white",
           "ticks": "",
           "title": {
            "standoff": 15
           },
           "zerolinecolor": "white",
           "zerolinewidth": 2
          }
         }
        },
        "title": {
         "text": "Gun Violence Incidents by Zipcode"
        },
        "width": 700
       }
      }
     },
     "metadata": {},
     "output_type": "display_data"
    },
    {
     "data": {
      "application/vnd.plotly.v1+json": {
       "config": {
        "plotlyServerURL": "https://plot.ly"
       },
       "data": [
        {
         "customdata": [
          [
           0.094,
           14626
          ],
          [
           0.167,
           14623
          ],
          [
           0.08,
           14622
          ],
          [
           0.298,
           14621
          ],
          [
           0.187,
           14620
          ],
          [
           0.281,
           14619
          ],
          [
           0.077,
           14618
          ],
          [
           0.073,
           14617
          ],
          [
           0.106,
           14616
          ],
          [
           0.19,
           14615
          ],
          [
           0.265,
           14613
          ],
          [
           0.094,
           14612
          ],
          [
           0.343,
           14611
          ],
          [
           0.105,
           14610
          ],
          [
           0.187,
           14609
          ],
          [
           0.406,
           14608
          ],
          [
           0.192,
           14607
          ],
          [
           0.177,
           14606
          ],
          [
           0.348,
           14605
          ],
          [
           0.269,
           14604
          ]
         ],
         "hovertemplate": "Food Insecurity=%{marker.color}<br>Latitude=%{lat}<br>Longitude=%{lon}<br>Zip Code=%{customdata[1]}<extra></extra>",
         "lat": [
          43.2141,
          43.0881,
          43.2138,
          43.1863,
          43.1291,
          43.1363,
          43.1126,
          43.2242,
          43.234,
          43.2049,
          43.1828,
          43.2648,
          43.1372,
          43.1432,
          43.1767,
          43.1539,
          43.1512,
          43.1711,
          43.1681,
          43.1567
         ],
         "legendgroup": "",
         "lon": [
          -77.7135,
          -77.6425,
          -77.5569,
          -77.6018,
          -77.6065,
          -77.6493,
          -77.5555,
          -77.5951,
          -77.655,
          -77.655,
          -77.6402,
          -77.6753,
          -77.6325,
          -77.5468,
          -77.5545,
          -77.6239,
          -77.5874,
          -77.6983,
          -77.6016,
          -77.6056
         ],
         "marker": {
          "color": [
           0.094,
           0.167,
           0.08,
           0.298,
           0.187,
           0.281,
           0.077,
           0.073,
           0.106,
           0.19,
           0.265,
           0.094,
           0.343,
           0.105,
           0.187,
           0.406,
           0.192,
           0.177,
           0.348,
           0.269
          ],
          "coloraxis": "coloraxis",
          "size": [
           0.094,
           0.167,
           0.08,
           0.298,
           0.187,
           0.281,
           0.077,
           0.073,
           0.106,
           0.19,
           0.265,
           0.094,
           0.343,
           0.105,
           0.187,
           0.406,
           0.192,
           0.177,
           0.348,
           0.269
          ],
          "sizemode": "area",
          "sizeref": 0.001015
         },
         "mode": "markers",
         "name": "",
         "showlegend": false,
         "subplot": "mapbox",
         "type": "scattermapbox"
        }
       ],
       "layout": {
        "coloraxis": {
         "colorbar": {
          "title": {
           "text": "Food Insecurity"
          }
         },
         "colorscale": [
          [
           0,
           "rgb(0,104,55)"
          ],
          [
           0.1,
           "rgb(26,152,80)"
          ],
          [
           0.2,
           "rgb(102,189,99)"
          ],
          [
           0.3,
           "rgb(166,217,106)"
          ],
          [
           0.4,
           "rgb(217,239,139)"
          ],
          [
           0.5,
           "rgb(255,255,191)"
          ],
          [
           0.6,
           "rgb(254,224,139)"
          ],
          [
           0.7,
           "rgb(253,174,97)"
          ],
          [
           0.8,
           "rgb(244,109,67)"
          ],
          [
           0.9,
           "rgb(215,48,39)"
          ],
          [
           1,
           "rgb(165,0,38)"
          ]
         ]
        },
        "height": 400,
        "legend": {
         "itemsizing": "constant",
         "tracegroupgap": 0
        },
        "mapbox": {
         "center": {
          "lat": 43.172455,
          "lon": -77.61986
         },
         "domain": {
          "x": [
           0,
           1
          ],
          "y": [
           0,
           1
          ]
         },
         "style": "open-street-map",
         "zoom": 10
        },
        "template": {
         "data": {
          "bar": [
           {
            "error_x": {
             "color": "#2a3f5f"
            },
            "error_y": {
             "color": "#2a3f5f"
            },
            "marker": {
             "line": {
              "color": "#E5ECF6",
              "width": 0.5
             },
             "pattern": {
              "fillmode": "overlay",
              "size": 10,
              "solidity": 0.2
             }
            },
            "type": "bar"
           }
          ],
          "barpolar": [
           {
            "marker": {
             "line": {
              "color": "#E5ECF6",
              "width": 0.5
             },
             "pattern": {
              "fillmode": "overlay",
              "size": 10,
              "solidity": 0.2
             }
            },
            "type": "barpolar"
           }
          ],
          "carpet": [
           {
            "aaxis": {
             "endlinecolor": "#2a3f5f",
             "gridcolor": "white",
             "linecolor": "white",
             "minorgridcolor": "white",
             "startlinecolor": "#2a3f5f"
            },
            "baxis": {
             "endlinecolor": "#2a3f5f",
             "gridcolor": "white",
             "linecolor": "white",
             "minorgridcolor": "white",
             "startlinecolor": "#2a3f5f"
            },
            "type": "carpet"
           }
          ],
          "choropleth": [
           {
            "colorbar": {
             "outlinewidth": 0,
             "ticks": ""
            },
            "type": "choropleth"
           }
          ],
          "contour": [
           {
            "colorbar": {
             "outlinewidth": 0,
             "ticks": ""
            },
            "colorscale": [
             [
              0,
              "#0d0887"
             ],
             [
              0.1111111111111111,
              "#46039f"
             ],
             [
              0.2222222222222222,
              "#7201a8"
             ],
             [
              0.3333333333333333,
              "#9c179e"
             ],
             [
              0.4444444444444444,
              "#bd3786"
             ],
             [
              0.5555555555555556,
              "#d8576b"
             ],
             [
              0.6666666666666666,
              "#ed7953"
             ],
             [
              0.7777777777777778,
              "#fb9f3a"
             ],
             [
              0.8888888888888888,
              "#fdca26"
             ],
             [
              1,
              "#f0f921"
             ]
            ],
            "type": "contour"
           }
          ],
          "contourcarpet": [
           {
            "colorbar": {
             "outlinewidth": 0,
             "ticks": ""
            },
            "type": "contourcarpet"
           }
          ],
          "heatmap": [
           {
            "colorbar": {
             "outlinewidth": 0,
             "ticks": ""
            },
            "colorscale": [
             [
              0,
              "#0d0887"
             ],
             [
              0.1111111111111111,
              "#46039f"
             ],
             [
              0.2222222222222222,
              "#7201a8"
             ],
             [
              0.3333333333333333,
              "#9c179e"
             ],
             [
              0.4444444444444444,
              "#bd3786"
             ],
             [
              0.5555555555555556,
              "#d8576b"
             ],
             [
              0.6666666666666666,
              "#ed7953"
             ],
             [
              0.7777777777777778,
              "#fb9f3a"
             ],
             [
              0.8888888888888888,
              "#fdca26"
             ],
             [
              1,
              "#f0f921"
             ]
            ],
            "type": "heatmap"
           }
          ],
          "heatmapgl": [
           {
            "colorbar": {
             "outlinewidth": 0,
             "ticks": ""
            },
            "colorscale": [
             [
              0,
              "#0d0887"
             ],
             [
              0.1111111111111111,
              "#46039f"
             ],
             [
              0.2222222222222222,
              "#7201a8"
             ],
             [
              0.3333333333333333,
              "#9c179e"
             ],
             [
              0.4444444444444444,
              "#bd3786"
             ],
             [
              0.5555555555555556,
              "#d8576b"
             ],
             [
              0.6666666666666666,
              "#ed7953"
             ],
             [
              0.7777777777777778,
              "#fb9f3a"
             ],
             [
              0.8888888888888888,
              "#fdca26"
             ],
             [
              1,
              "#f0f921"
             ]
            ],
            "type": "heatmapgl"
           }
          ],
          "histogram": [
           {
            "marker": {
             "pattern": {
              "fillmode": "overlay",
              "size": 10,
              "solidity": 0.2
             }
            },
            "type": "histogram"
           }
          ],
          "histogram2d": [
           {
            "colorbar": {
             "outlinewidth": 0,
             "ticks": ""
            },
            "colorscale": [
             [
              0,
              "#0d0887"
             ],
             [
              0.1111111111111111,
              "#46039f"
             ],
             [
              0.2222222222222222,
              "#7201a8"
             ],
             [
              0.3333333333333333,
              "#9c179e"
             ],
             [
              0.4444444444444444,
              "#bd3786"
             ],
             [
              0.5555555555555556,
              "#d8576b"
             ],
             [
              0.6666666666666666,
              "#ed7953"
             ],
             [
              0.7777777777777778,
              "#fb9f3a"
             ],
             [
              0.8888888888888888,
              "#fdca26"
             ],
             [
              1,
              "#f0f921"
             ]
            ],
            "type": "histogram2d"
           }
          ],
          "histogram2dcontour": [
           {
            "colorbar": {
             "outlinewidth": 0,
             "ticks": ""
            },
            "colorscale": [
             [
              0,
              "#0d0887"
             ],
             [
              0.1111111111111111,
              "#46039f"
             ],
             [
              0.2222222222222222,
              "#7201a8"
             ],
             [
              0.3333333333333333,
              "#9c179e"
             ],
             [
              0.4444444444444444,
              "#bd3786"
             ],
             [
              0.5555555555555556,
              "#d8576b"
             ],
             [
              0.6666666666666666,
              "#ed7953"
             ],
             [
              0.7777777777777778,
              "#fb9f3a"
             ],
             [
              0.8888888888888888,
              "#fdca26"
             ],
             [
              1,
              "#f0f921"
             ]
            ],
            "type": "histogram2dcontour"
           }
          ],
          "mesh3d": [
           {
            "colorbar": {
             "outlinewidth": 0,
             "ticks": ""
            },
            "type": "mesh3d"
           }
          ],
          "parcoords": [
           {
            "line": {
             "colorbar": {
              "outlinewidth": 0,
              "ticks": ""
             }
            },
            "type": "parcoords"
           }
          ],
          "pie": [
           {
            "automargin": true,
            "type": "pie"
           }
          ],
          "scatter": [
           {
            "fillpattern": {
             "fillmode": "overlay",
             "size": 10,
             "solidity": 0.2
            },
            "type": "scatter"
           }
          ],
          "scatter3d": [
           {
            "line": {
             "colorbar": {
              "outlinewidth": 0,
              "ticks": ""
             }
            },
            "marker": {
             "colorbar": {
              "outlinewidth": 0,
              "ticks": ""
             }
            },
            "type": "scatter3d"
           }
          ],
          "scattercarpet": [
           {
            "marker": {
             "colorbar": {
              "outlinewidth": 0,
              "ticks": ""
             }
            },
            "type": "scattercarpet"
           }
          ],
          "scattergeo": [
           {
            "marker": {
             "colorbar": {
              "outlinewidth": 0,
              "ticks": ""
             }
            },
            "type": "scattergeo"
           }
          ],
          "scattergl": [
           {
            "marker": {
             "colorbar": {
              "outlinewidth": 0,
              "ticks": ""
             }
            },
            "type": "scattergl"
           }
          ],
          "scattermapbox": [
           {
            "marker": {
             "colorbar": {
              "outlinewidth": 0,
              "ticks": ""
             }
            },
            "type": "scattermapbox"
           }
          ],
          "scatterpolar": [
           {
            "marker": {
             "colorbar": {
              "outlinewidth": 0,
              "ticks": ""
             }
            },
            "type": "scatterpolar"
           }
          ],
          "scatterpolargl": [
           {
            "marker": {
             "colorbar": {
              "outlinewidth": 0,
              "ticks": ""
             }
            },
            "type": "scatterpolargl"
           }
          ],
          "scatterternary": [
           {
            "marker": {
             "colorbar": {
              "outlinewidth": 0,
              "ticks": ""
             }
            },
            "type": "scatterternary"
           }
          ],
          "surface": [
           {
            "colorbar": {
             "outlinewidth": 0,
             "ticks": ""
            },
            "colorscale": [
             [
              0,
              "#0d0887"
             ],
             [
              0.1111111111111111,
              "#46039f"
             ],
             [
              0.2222222222222222,
              "#7201a8"
             ],
             [
              0.3333333333333333,
              "#9c179e"
             ],
             [
              0.4444444444444444,
              "#bd3786"
             ],
             [
              0.5555555555555556,
              "#d8576b"
             ],
             [
              0.6666666666666666,
              "#ed7953"
             ],
             [
              0.7777777777777778,
              "#fb9f3a"
             ],
             [
              0.8888888888888888,
              "#fdca26"
             ],
             [
              1,
              "#f0f921"
             ]
            ],
            "type": "surface"
           }
          ],
          "table": [
           {
            "cells": {
             "fill": {
              "color": "#EBF0F8"
             },
             "line": {
              "color": "white"
             }
            },
            "header": {
             "fill": {
              "color": "#C8D4E3"
             },
             "line": {
              "color": "white"
             }
            },
            "type": "table"
           }
          ]
         },
         "layout": {
          "annotationdefaults": {
           "arrowcolor": "#2a3f5f",
           "arrowhead": 0,
           "arrowwidth": 1
          },
          "autotypenumbers": "strict",
          "coloraxis": {
           "colorbar": {
            "outlinewidth": 0,
            "ticks": ""
           }
          },
          "colorscale": {
           "diverging": [
            [
             0,
             "#8e0152"
            ],
            [
             0.1,
             "#c51b7d"
            ],
            [
             0.2,
             "#de77ae"
            ],
            [
             0.3,
             "#f1b6da"
            ],
            [
             0.4,
             "#fde0ef"
            ],
            [
             0.5,
             "#f7f7f7"
            ],
            [
             0.6,
             "#e6f5d0"
            ],
            [
             0.7,
             "#b8e186"
            ],
            [
             0.8,
             "#7fbc41"
            ],
            [
             0.9,
             "#4d9221"
            ],
            [
             1,
             "#276419"
            ]
           ],
           "sequential": [
            [
             0,
             "#0d0887"
            ],
            [
             0.1111111111111111,
             "#46039f"
            ],
            [
             0.2222222222222222,
             "#7201a8"
            ],
            [
             0.3333333333333333,
             "#9c179e"
            ],
            [
             0.4444444444444444,
             "#bd3786"
            ],
            [
             0.5555555555555556,
             "#d8576b"
            ],
            [
             0.6666666666666666,
             "#ed7953"
            ],
            [
             0.7777777777777778,
             "#fb9f3a"
            ],
            [
             0.8888888888888888,
             "#fdca26"
            ],
            [
             1,
             "#f0f921"
            ]
           ],
           "sequentialminus": [
            [
             0,
             "#0d0887"
            ],
            [
             0.1111111111111111,
             "#46039f"
            ],
            [
             0.2222222222222222,
             "#7201a8"
            ],
            [
             0.3333333333333333,
             "#9c179e"
            ],
            [
             0.4444444444444444,
             "#bd3786"
            ],
            [
             0.5555555555555556,
             "#d8576b"
            ],
            [
             0.6666666666666666,
             "#ed7953"
            ],
            [
             0.7777777777777778,
             "#fb9f3a"
            ],
            [
             0.8888888888888888,
             "#fdca26"
            ],
            [
             1,
             "#f0f921"
            ]
           ]
          },
          "colorway": [
           "#636efa",
           "#EF553B",
           "#00cc96",
           "#ab63fa",
           "#FFA15A",
           "#19d3f3",
           "#FF6692",
           "#B6E880",
           "#FF97FF",
           "#FECB52"
          ],
          "font": {
           "color": "#2a3f5f"
          },
          "geo": {
           "bgcolor": "white",
           "lakecolor": "white",
           "landcolor": "#E5ECF6",
           "showlakes": true,
           "showland": true,
           "subunitcolor": "white"
          },
          "hoverlabel": {
           "align": "left"
          },
          "hovermode": "closest",
          "mapbox": {
           "style": "light"
          },
          "paper_bgcolor": "white",
          "plot_bgcolor": "#E5ECF6",
          "polar": {
           "angularaxis": {
            "gridcolor": "white",
            "linecolor": "white",
            "ticks": ""
           },
           "bgcolor": "#E5ECF6",
           "radialaxis": {
            "gridcolor": "white",
            "linecolor": "white",
            "ticks": ""
           }
          },
          "scene": {
           "xaxis": {
            "backgroundcolor": "#E5ECF6",
            "gridcolor": "white",
            "gridwidth": 2,
            "linecolor": "white",
            "showbackground": true,
            "ticks": "",
            "zerolinecolor": "white"
           },
           "yaxis": {
            "backgroundcolor": "#E5ECF6",
            "gridcolor": "white",
            "gridwidth": 2,
            "linecolor": "white",
            "showbackground": true,
            "ticks": "",
            "zerolinecolor": "white"
           },
           "zaxis": {
            "backgroundcolor": "#E5ECF6",
            "gridcolor": "white",
            "gridwidth": 2,
            "linecolor": "white",
            "showbackground": true,
            "ticks": "",
            "zerolinecolor": "white"
           }
          },
          "shapedefaults": {
           "line": {
            "color": "#2a3f5f"
           }
          },
          "ternary": {
           "aaxis": {
            "gridcolor": "white",
            "linecolor": "white",
            "ticks": ""
           },
           "baxis": {
            "gridcolor": "white",
            "linecolor": "white",
            "ticks": ""
           },
           "bgcolor": "#E5ECF6",
           "caxis": {
            "gridcolor": "white",
            "linecolor": "white",
            "ticks": ""
           }
          },
          "title": {
           "x": 0.05
          },
          "xaxis": {
           "automargin": true,
           "gridcolor": "white",
           "linecolor": "white",
           "ticks": "",
           "title": {
            "standoff": 15
           },
           "zerolinecolor": "white",
           "zerolinewidth": 2
          },
          "yaxis": {
           "automargin": true,
           "gridcolor": "white",
           "linecolor": "white",
           "ticks": "",
           "title": {
            "standoff": 15
           },
           "zerolinecolor": "white",
           "zerolinewidth": 2
          }
         }
        },
        "title": {
         "text": "Rochester Zip Codes by Food Insecurity Rate"
        },
        "width": 700
       }
      }
     },
     "metadata": {},
     "output_type": "display_data"
    }
   ],
   "source": [
    "# PLOTTING BOTH CONTINUOUS, NUMERIC VARS\n",
    "gun_plot = px.scatter_mapbox(\n",
    "                        data_frame = gun_data,\n",
    "                        lat = gun_data['Latitude'],\n",
    "                        lon = gun_data['Longitude'],\n",
    "                        color= gun_data['Crime_Type'],    # TODO: replace with our metric\n",
    "                        text = gun_data['Crime_Type'],    # TODO: replace with our metric\n",
    "                        hover_name = None,\n",
    "                        hover_data= [gun_data['Occurred_Date'],gun_data['Address']],\n",
    "                        zoom = 10,\n",
    "                        mapbox_style = 'open-street-map',\n",
    "                        title='Gun Violence Incidents by Zipcode',\n",
    "                        height = 400,\n",
    "                        width = 700\n",
    "                        )\n",
    "\n",
    "\n",
    "\n",
    "hunger_plot = px.scatter_mapbox(\n",
    "                        data_frame = hunger_data,\n",
    "                        lat = hunger_data['Latitude'],\n",
    "                        lon = hunger_data['Longitude'],\n",
    "                        color= hunger_data['Food Insecurity'],\n",
    "                        zoom = 10,\n",
    "                        hover_data = [hunger_data['Food Insecurity'],\n",
    "                                      hunger_data['Zip Code']],\n",
    "                                      \n",
    "                        size = hunger_data['Food Insecurity'],\n",
    "                        mapbox_style = 'open-street-map',\n",
    "                        title='Rochester Zip Codes by Food Insecurity Rate',\n",
    "                        height = 400,\n",
    "                        width = 700,\n",
    "                        color_continuous_scale='RdYlGn_r'\n",
    "                )\n",
    "\n",
    "gun_plot.show()\n",
    "hunger_plot.show()"
   ]
  },
  {
   "attachments": {},
   "cell_type": "markdown",
   "metadata": {},
   "source": [
    "#### SUMMARY STATS OF EACH DATASET"
   ]
  },
  {
   "cell_type": "code",
   "execution_count": 194,
   "metadata": {},
   "outputs": [
    {
     "name": "stdout",
     "output_type": "stream",
     "text": [
      "GUN VIOLENCE BASIC STATS:\n",
      "                X           Y  Occurred_Year    Latitude   Longitude\n",
      "count  137.000000  137.000000          137.0  137.000000  137.000000\n",
      "mean   -77.615400   43.167202         2022.0   43.167202  -77.615400\n",
      "std      0.024012    0.015374            0.0    0.015374    0.024012\n",
      "min    -77.659312   43.123608         2022.0   43.123608  -77.659312\n",
      "25%    -77.632012   43.159877         2022.0   43.159877  -77.632012\n",
      "50%    -77.621639   43.169126         2022.0   43.169126  -77.621639\n",
      "75%    -77.599577   43.177143         2022.0   43.177143  -77.599577\n",
      "max    -77.552548   43.220375         2022.0   43.220375  -77.552548 \n",
      "\n",
      "HUNGER BASIC STATS:\n",
      "                X           Y  Occurred_Year    Latitude   Longitude\n",
      "count  137.000000  137.000000          137.0  137.000000  137.000000\n",
      "mean   -77.615400   43.167202         2022.0   43.167202  -77.615400\n",
      "std      0.024012    0.015374            0.0    0.015374    0.024012\n",
      "min    -77.659312   43.123608         2022.0   43.123608  -77.659312\n",
      "25%    -77.632012   43.159877         2022.0   43.159877  -77.632012\n",
      "50%    -77.621639   43.169126         2022.0   43.169126  -77.621639\n",
      "75%    -77.599577   43.177143         2022.0   43.177143  -77.599577\n",
      "max    -77.552548   43.220375         2022.0   43.220375  -77.552548\n"
     ]
    }
   ],
   "source": [
    "# GET STATS\n",
    "gun_stats = gun_data.describe()\n",
    "hunger_stats = gun_data.describe()\n",
    "\n",
    "# PRINT STATS\n",
    "print(\"GUN VIOLENCE BASIC STATS:\")\n",
    "print(gun_stats, \"\\n\")\n",
    "print(\"HUNGER BASIC STATS:\")\n",
    "print(hunger_stats)"
   ]
  },
  {
   "attachments": {},
   "cell_type": "markdown",
   "metadata": {},
   "source": [
    "### COMPARING DATASETS AND VARIABLES"
   ]
  },
  {
   "cell_type": "code",
   "execution_count": 195,
   "metadata": {},
   "outputs": [
    {
     "data": {
      "image/png": "[encoded data removed]",
      "text/plain": [
       "<Figure size 750x350 with 1 Axes>"
      ]
     },
     "metadata": {},
     "output_type": "display_data"
    }
   ],
   "source": [
    "# COMPARE BY BOXPLOT\n",
    "\n",
    "# GET DATA\n",
    "gun_boxplot_data = gun_data['X'].quantile([0.25,0.5,0.75])   # TODO: change this to gun rate once done\n",
    "hunger_boxplot_data = hunger_data['Food Insecurity'].quantile([0.25,0.5,0.75])\n",
    "boxplots = pd.DataFrame({'Guns': gun_boxplot_data, 'Hunger': hunger_boxplot_data})\n",
    "\n",
    "# SET FIGURE \n",
    "plt.rcParams[\"figure.figsize\"] = [7.50, 3.50]\n",
    "plt.rcParams[\"figure.autolayout\"] = True\n",
    "\n",
    "# Plot the dataframe\n",
    "ax = boxplots[['Guns','Hunger']].plot(kind='box', title='boxplot')\n",
    "\n",
    "# Display the plot\n",
    "plt.show()"
   ]
  },
  {
   "cell_type": "code",
   "execution_count": 196,
   "metadata": {},
   "outputs": [
    {
     "data": {
      "text/plain": [
       "<AxesSubplot: title={'center': 'box'}>"
      ]
     },
     "execution_count": 196,
     "metadata": {},
     "output_type": "execute_result"
    },
    {
     "data": {
      "image/png": "[encoded data removed]",
      "text/plain": [
       "<Figure size 750x350 with 1 Axes>"
      ]
     },
     "metadata": {},
     "output_type": "display_data"
    }
   ],
   "source": [
    "hunger_boxplot_data = hunger_data['Food Insecurity'].quantile([0.25,0.5,0.75])\n",
    "\n",
    "hunger_boxplot_data.plot(kind=\"box\",title='box')"
   ]
  },
  {
   "attachments": {},
   "cell_type": "markdown",
   "metadata": {},
   "source": [
    "#### MAKING OUR GUN DATA METRIC"
   ]
  },
  {
   "cell_type": "code",
   "execution_count": 197,
   "metadata": {},
   "outputs": [
    {
     "data": {
      "text/html": [
       "<div>\n",
       "<style scoped>\n",
       "    .dataframe tbody tr th:only-of-type {\n",
       "        vertical-align: middle;\n",
       "    }\n",
       "\n",
       "    .dataframe tbody tr th {\n",
       "        vertical-align: top;\n",
       "    }\n",
       "\n",
       "    .dataframe thead th {\n",
       "        text-align: right;\n",
       "    }\n",
       "</style>\n",
       "<table border=\"1\" class=\"dataframe\">\n",
       "  <thead>\n",
       "    <tr style=\"text-align: right;\">\n",
       "      <th></th>\n",
       "      <th>X</th>\n",
       "      <th>Y</th>\n",
       "      <th>Address</th>\n",
       "      <th>Occurred_Date</th>\n",
       "      <th>Occurred_Year</th>\n",
       "      <th>Crime_Type</th>\n",
       "      <th>Multiple_Shooting</th>\n",
       "      <th>Latitude</th>\n",
       "      <th>Longitude</th>\n",
       "    </tr>\n",
       "  </thead>\n",
       "  <tbody>\n",
       "    <tr>\n",
       "      <th>0</th>\n",
       "      <td>-77.610890</td>\n",
       "      <td>43.184163</td>\n",
       "      <td>442 Remington St</td>\n",
       "      <td>2022/06/01 04:00:00+00</td>\n",
       "      <td>2022</td>\n",
       "      <td>Shooting</td>\n",
       "      <td>No</td>\n",
       "      <td>43.184163</td>\n",
       "      <td>-77.610890</td>\n",
       "    </tr>\n",
       "    <tr>\n",
       "      <th>1</th>\n",
       "      <td>-77.598893</td>\n",
       "      <td>43.181793</td>\n",
       "      <td>904 Hudson Ave</td>\n",
       "      <td>2022/05/29 04:00:00+00</td>\n",
       "      <td>2022</td>\n",
       "      <td>Homicide</td>\n",
       "      <td>No</td>\n",
       "      <td>43.181793</td>\n",
       "      <td>-77.598893</td>\n",
       "    </tr>\n",
       "    <tr>\n",
       "      <th>2</th>\n",
       "      <td>-77.630378</td>\n",
       "      <td>43.142970</td>\n",
       "      <td>168 Bartlett St</td>\n",
       "      <td>2022/05/29 04:00:00+00</td>\n",
       "      <td>2022</td>\n",
       "      <td>Shooting</td>\n",
       "      <td>No</td>\n",
       "      <td>43.142970</td>\n",
       "      <td>-77.630378</td>\n",
       "    </tr>\n",
       "    <tr>\n",
       "      <th>3</th>\n",
       "      <td>-77.580628</td>\n",
       "      <td>43.167216</td>\n",
       "      <td>720 N Goodman St</td>\n",
       "      <td>2022/05/28 04:00:00+00</td>\n",
       "      <td>2022</td>\n",
       "      <td>Shooting</td>\n",
       "      <td>No</td>\n",
       "      <td>43.167216</td>\n",
       "      <td>-77.580628</td>\n",
       "    </tr>\n",
       "    <tr>\n",
       "      <th>4</th>\n",
       "      <td>-77.641972</td>\n",
       "      <td>43.162394</td>\n",
       "      <td>138 Murray St</td>\n",
       "      <td>2022/05/26 04:00:00+00</td>\n",
       "      <td>2022</td>\n",
       "      <td>Shooting</td>\n",
       "      <td>No</td>\n",
       "      <td>43.162394</td>\n",
       "      <td>-77.641972</td>\n",
       "    </tr>\n",
       "  </tbody>\n",
       "</table>\n",
       "</div>"
      ],
      "text/plain": [
       "           X          Y           Address           Occurred_Date  \\\n",
       "0 -77.610890  43.184163  442 Remington St  2022/06/01 04:00:00+00   \n",
       "1 -77.598893  43.181793    904 Hudson Ave  2022/05/29 04:00:00+00   \n",
       "2 -77.630378  43.142970   168 Bartlett St  2022/05/29 04:00:00+00   \n",
       "3 -77.580628  43.167216  720 N Goodman St  2022/05/28 04:00:00+00   \n",
       "4 -77.641972  43.162394     138 Murray St  2022/05/26 04:00:00+00   \n",
       "\n",
       "   Occurred_Year Crime_Type Multiple_Shooting   Latitude  Longitude  \n",
       "0           2022   Shooting                No  43.184163 -77.610890  \n",
       "1           2022   Homicide                No  43.181793 -77.598893  \n",
       "2           2022   Shooting                No  43.142970 -77.630378  \n",
       "3           2022   Shooting                No  43.167216 -77.580628  \n",
       "4           2022   Shooting                No  43.162394 -77.641972  "
      ]
     },
     "execution_count": 197,
     "metadata": {},
     "output_type": "execute_result"
    }
   ],
   "source": [
    "gun_data.head()"
   ]
  },
  {
   "cell_type": "code",
   "execution_count": 199,
   "metadata": {},
   "outputs": [],
   "source": [
    "# PREPROCESSING TOOLS AND DATA\n",
    "geolocator = geopy.Nominatim(user_agent = 'check_1')\n",
    "gun_coords = gun_data[['Latitude','Longitude']]\n",
    "#print(gun_coords)\n",
    "\n",
    "# CREATE OUR CONVERTER \n",
    "def get_zip_code(x):\n",
    "    location = geolocator.reverse(\"{}, {}\".format(x['Latitude'],x['Longitude']))\n",
    "    return location.raw['address']['postcode']\n",
    "\n",
    "# APPEND THIS TO A COLUMN\n",
    "gun_data['Zip Code'] = gun_coords.apply(lambda x: get_zip_code(x), axis = 1)\n"
   ]
  },
  {
   "cell_type": "code",
   "execution_count": 200,
   "metadata": {},
   "outputs": [
    {
     "data": {
      "text/html": [
       "<div>\n",
       "<style scoped>\n",
       "    .dataframe tbody tr th:only-of-type {\n",
       "        vertical-align: middle;\n",
       "    }\n",
       "\n",
       "    .dataframe tbody tr th {\n",
       "        vertical-align: top;\n",
       "    }\n",
       "\n",
       "    .dataframe thead th {\n",
       "        text-align: right;\n",
       "    }\n",
       "</style>\n",
       "<table border=\"1\" class=\"dataframe\">\n",
       "  <thead>\n",
       "    <tr style=\"text-align: right;\">\n",
       "      <th></th>\n",
       "      <th>X</th>\n",
       "      <th>Y</th>\n",
       "      <th>Address</th>\n",
       "      <th>Occurred_Date</th>\n",
       "      <th>Occurred_Year</th>\n",
       "      <th>Crime_Type</th>\n",
       "      <th>Multiple_Shooting</th>\n",
       "      <th>Latitude</th>\n",
       "      <th>Longitude</th>\n",
       "      <th>Zip Code</th>\n",
       "    </tr>\n",
       "  </thead>\n",
       "  <tbody>\n",
       "    <tr>\n",
       "      <th>0</th>\n",
       "      <td>-77.610890</td>\n",
       "      <td>43.184163</td>\n",
       "      <td>442 Remington St</td>\n",
       "      <td>2022/06/01 04:00:00+00</td>\n",
       "      <td>2022</td>\n",
       "      <td>Shooting</td>\n",
       "      <td>No</td>\n",
       "      <td>43.184163</td>\n",
       "      <td>-77.610890</td>\n",
       "      <td>14621</td>\n",
       "    </tr>\n",
       "    <tr>\n",
       "      <th>1</th>\n",
       "      <td>-77.598893</td>\n",
       "      <td>43.181793</td>\n",
       "      <td>904 Hudson Ave</td>\n",
       "      <td>2022/05/29 04:00:00+00</td>\n",
       "      <td>2022</td>\n",
       "      <td>Homicide</td>\n",
       "      <td>No</td>\n",
       "      <td>43.181793</td>\n",
       "      <td>-77.598893</td>\n",
       "      <td>14621</td>\n",
       "    </tr>\n",
       "    <tr>\n",
       "      <th>2</th>\n",
       "      <td>-77.630378</td>\n",
       "      <td>43.142970</td>\n",
       "      <td>168 Bartlett St</td>\n",
       "      <td>2022/05/29 04:00:00+00</td>\n",
       "      <td>2022</td>\n",
       "      <td>Shooting</td>\n",
       "      <td>No</td>\n",
       "      <td>43.142970</td>\n",
       "      <td>-77.630378</td>\n",
       "      <td>14611</td>\n",
       "    </tr>\n",
       "    <tr>\n",
       "      <th>3</th>\n",
       "      <td>-77.580628</td>\n",
       "      <td>43.167216</td>\n",
       "      <td>720 N Goodman St</td>\n",
       "      <td>2022/05/28 04:00:00+00</td>\n",
       "      <td>2022</td>\n",
       "      <td>Shooting</td>\n",
       "      <td>No</td>\n",
       "      <td>43.167216</td>\n",
       "      <td>-77.580628</td>\n",
       "      <td>14609</td>\n",
       "    </tr>\n",
       "    <tr>\n",
       "      <th>4</th>\n",
       "      <td>-77.641972</td>\n",
       "      <td>43.162394</td>\n",
       "      <td>138 Murray St</td>\n",
       "      <td>2022/05/26 04:00:00+00</td>\n",
       "      <td>2022</td>\n",
       "      <td>Shooting</td>\n",
       "      <td>No</td>\n",
       "      <td>43.162394</td>\n",
       "      <td>-77.641972</td>\n",
       "      <td>14606</td>\n",
       "    </tr>\n",
       "  </tbody>\n",
       "</table>\n",
       "</div>"
      ],
      "text/plain": [
       "           X          Y           Address           Occurred_Date  \\\n",
       "0 -77.610890  43.184163  442 Remington St  2022/06/01 04:00:00+00   \n",
       "1 -77.598893  43.181793    904 Hudson Ave  2022/05/29 04:00:00+00   \n",
       "2 -77.630378  43.142970   168 Bartlett St  2022/05/29 04:00:00+00   \n",
       "3 -77.580628  43.167216  720 N Goodman St  2022/05/28 04:00:00+00   \n",
       "4 -77.641972  43.162394     138 Murray St  2022/05/26 04:00:00+00   \n",
       "\n",
       "   Occurred_Year Crime_Type Multiple_Shooting   Latitude  Longitude Zip Code  \n",
       "0           2022   Shooting                No  43.184163 -77.610890    14621  \n",
       "1           2022   Homicide                No  43.181793 -77.598893    14621  \n",
       "2           2022   Shooting                No  43.142970 -77.630378    14611  \n",
       "3           2022   Shooting                No  43.167216 -77.580628    14609  \n",
       "4           2022   Shooting                No  43.162394 -77.641972    14606  "
      ]
     },
     "execution_count": 200,
     "metadata": {},
     "output_type": "execute_result"
    }
   ],
   "source": [
    "gun_data.head()"
   ]
  },
  {
   "cell_type": "code",
   "execution_count": null,
   "metadata": {},
   "outputs": [],
   "source": []
  },
  {
   "attachments": {},
   "cell_type": "markdown",
   "metadata": {},
   "source": [
    "### SOURCING\n",
    "---\n",
    "[1] Dwyer, M. (2018), “New food insecurity data show level of need in Rochester, other communities,” Foodlink Inc, Available athttps://foodlinkny.org/new-food-insecurity-data-show-level-of-need-in-rochester-other-communities/.\n",
    "\n",
    "[2] “Overall (all ages) Hunger & Poverty in the United States | Map the Meal Gap” (n.d.). Available athttps://map.feedingamerica.org.\n",
    "\n",
    "[3] “Rochester NY Shooting Victims | Rochester NY Shooting Victims | Rochester, NY Police Department Open Data Portal” (n.d.). Available athttps://data-rpdny.opendata.arcgis.com/datasets/rochester-ny-shooting-victims/explore?location=43.180005%2C-77.596549%2C5.00.\n"
   ]
  },
  {
   "cell_type": "markdown",
   "metadata": {},
   "source": []
  }
 ],
 "metadata": {
  "kernelspec": {
   "display_name": "Python 3",
   "language": "python",
   "name": "python3"
  },
  "language_info": {
   "codemirror_mode": {
    "name": "ipython",
    "version": 3
   },
   "file_extension": ".py",
   "mimetype": "text/x-python",
   "name": "python",
   "nbconvert_exporter": "python",
   "pygments_lexer": "ipython3",
   "version": "3.11.1"
  },
  "orig_nbformat": 4
 },
 "nbformat": 4,
 "nbformat_minor": 2
}
