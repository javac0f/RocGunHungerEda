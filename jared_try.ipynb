{
 "cells": [
  {
   "cell_type": "code",
   "execution_count": 3,
   "metadata": {},
   "outputs": [],
   "source": [
    "# BASIC DS LIBS\n",
    "import openpyxl\n",
    "import numpy as np\n",
    "import pandas as pd\n",
    "import matplotlib.pyplot as plt\n",
    "\n",
    "# FILE IO LIBS\n",
    "import os \n",
    "from os.path import join \n",
    "\n",
    "# GEOSPATIAL LIBS\n",
    "from osgeo import gdal\n",
    "import geopandas as gpd\n",
    "from geopandas import GeoDataFrame\n",
    "\n",
    "# PLOT LIBS\n",
    "import plotly.express as px \n",
    "from plotly.offline import plot\n",
    "import plotly.graph_objects as go\n",
    "from shapely.geometry import Point\n",
    "from plotly.subplots import make_subplots\n"
   ]
  },
  {
   "cell_type": "code",
   "execution_count": 4,
   "metadata": {},
   "outputs": [],
   "source": [
    "# IMPORT DATA\n",
    "hunger_data = pd.read_csv(r'data/foodlink_data.csv')\n",
    "mealmap_data = pd.read_excel(r'data/MMG2022_2020-2019Data_ToShare.xlsx')\n",
    "gun_data = pd.read_csv(r'data/Rochester_NY_Shooting_Victims.csv')"
   ]
  },
  {
   "attachments": {},
   "cell_type": "markdown",
   "metadata": {},
   "source": [
    "### GUN VIOLENCE DATA EDA"
   ]
  },
  {
   "cell_type": "code",
   "execution_count": null,
   "metadata": {},
   "outputs": [],
   "source": []
  }
 ],
 "metadata": {
  "kernelspec": {
   "display_name": "Python 3",
   "language": "python",
   "name": "python3"
  },
  "language_info": {
   "codemirror_mode": {
    "name": "ipython",
    "version": 3
   },
   "file_extension": ".py",
   "mimetype": "text/x-python",
   "name": "python",
   "nbconvert_exporter": "python",
   "pygments_lexer": "ipython3",
   "version": "3.11.1"
  },
  "orig_nbformat": 4
 },
 "nbformat": 4,
 "nbformat_minor": 2
}
