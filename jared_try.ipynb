{
 "cells": [
  {
   "cell_type": "code",
   "execution_count": 69,
   "metadata": {},
   "outputs": [],
   "source": [
    "# BASIC DS LIBS\n",
    "import openpyxl\n",
    "import numpy as np\n",
    "import pandas as pd\n",
    "import matplotlib.pyplot as plt\n",
    "\n",
    "# FILE IO LIBS\n",
    "import os \n",
    "from os.path import join \n",
    "\n",
    "# GEOSPATIAL LIBS\n",
    "from osgeo import gdal\n",
    "import geopandas as gpd\n",
    "from geopandas import GeoDataFrame\n",
    "\n",
    "# PLOT LIBS\n",
    "import plotly.express as px \n",
    "from plotly.offline import plot\n",
    "import plotly.graph_objects as go\n",
    "from shapely.geometry import Point\n",
    "from plotly.subplots import make_subplots\n"
   ]
  },
  {
   "cell_type": "code",
   "execution_count": 70,
   "metadata": {},
   "outputs": [],
   "source": [
    "# IMPORT DATA\n",
    "hunger_data = pd.read_csv(r'data/foodlink_data.csv')\n",
    "mealmap_data = pd.read_excel(r'data/MMG2022_2020-2019Data_ToShare.xlsx')\n",
    "gun_data = pd.read_csv(r'data/Rochester_NY_Shooting_Victims.csv')"
   ]
  },
  {
   "attachments": {},
   "cell_type": "markdown",
   "metadata": {},
   "source": [
    "### EDA"
   ]
  },
  {
   "attachments": {},
   "cell_type": "markdown",
   "metadata": {},
   "source": [
    "#### DATA CLEANING"
   ]
  },
  {
   "cell_type": "code",
   "execution_count": 71,
   "metadata": {},
   "outputs": [
    {
     "name": "stdout",
     "output_type": "stream",
     "text": [
      "Index(['X', 'Y', 'ID', 'Case_Number', 'Address', 'Occurred_Date',\n",
      "       'Occurred_Month', 'Occurred_Year', 'Crime_Type', 'Multiple_Shooting',\n",
      "       'Gender', 'Race', 'Ethnicity', 'Victim_Age', 'Victim_Age_Band',\n",
      "       'Latitude', 'Longitude', 'ObjectId'],\n",
      "      dtype='object')\n"
     ]
    }
   ],
   "source": [
    "gun_data.head()\n",
    "print(gun_data.columns)"
   ]
  },
  {
   "cell_type": "code",
   "execution_count": 72,
   "metadata": {},
   "outputs": [
    {
     "name": "stdout",
     "output_type": "stream",
     "text": [
      "<class 'pandas.core.frame.DataFrame'>\n",
      "RangeIndex: 4679 entries, 0 to 4678\n",
      "Data columns (total 8 columns):\n",
      " #   Column             Non-Null Count  Dtype  \n",
      "---  ------             --------------  -----  \n",
      " 0   X                  4679 non-null   float64\n",
      " 1   Y                  4679 non-null   float64\n",
      " 2   Address            4679 non-null   object \n",
      " 3   Occurred_Date      4679 non-null   object \n",
      " 4   Crime_Type         4679 non-null   object \n",
      " 5   Multiple_Shooting  4679 non-null   object \n",
      " 6   Latitude           4679 non-null   float64\n",
      " 7   Longitude          4679 non-null   float64\n",
      "dtypes: float64(4), object(4)\n",
      "memory usage: 292.6+ KB\n",
      "None\n"
     ]
    },
    {
     "data": {
      "text/html": [
       "<div>\n",
       "<style scoped>\n",
       "    .dataframe tbody tr th:only-of-type {\n",
       "        vertical-align: middle;\n",
       "    }\n",
       "\n",
       "    .dataframe tbody tr th {\n",
       "        vertical-align: top;\n",
       "    }\n",
       "\n",
       "    .dataframe thead th {\n",
       "        text-align: right;\n",
       "    }\n",
       "</style>\n",
       "<table border=\"1\" class=\"dataframe\">\n",
       "  <thead>\n",
       "    <tr style=\"text-align: right;\">\n",
       "      <th></th>\n",
       "      <th>X</th>\n",
       "      <th>Y</th>\n",
       "      <th>Address</th>\n",
       "      <th>Occurred_Date</th>\n",
       "      <th>Crime_Type</th>\n",
       "      <th>Multiple_Shooting</th>\n",
       "      <th>Latitude</th>\n",
       "      <th>Longitude</th>\n",
       "    </tr>\n",
       "  </thead>\n",
       "  <tbody>\n",
       "    <tr>\n",
       "      <th>0</th>\n",
       "      <td>-77.610890</td>\n",
       "      <td>43.184163</td>\n",
       "      <td>442 Remington St</td>\n",
       "      <td>2022/06/01 04:00:00+00</td>\n",
       "      <td>Shooting</td>\n",
       "      <td>No</td>\n",
       "      <td>43.184163</td>\n",
       "      <td>-77.610890</td>\n",
       "    </tr>\n",
       "    <tr>\n",
       "      <th>1</th>\n",
       "      <td>-77.598893</td>\n",
       "      <td>43.181793</td>\n",
       "      <td>904 Hudson Ave</td>\n",
       "      <td>2022/05/29 04:00:00+00</td>\n",
       "      <td>Homicide</td>\n",
       "      <td>No</td>\n",
       "      <td>43.181793</td>\n",
       "      <td>-77.598893</td>\n",
       "    </tr>\n",
       "    <tr>\n",
       "      <th>2</th>\n",
       "      <td>-77.630378</td>\n",
       "      <td>43.142970</td>\n",
       "      <td>168 Bartlett St</td>\n",
       "      <td>2022/05/29 04:00:00+00</td>\n",
       "      <td>Shooting</td>\n",
       "      <td>No</td>\n",
       "      <td>43.142970</td>\n",
       "      <td>-77.630378</td>\n",
       "    </tr>\n",
       "    <tr>\n",
       "      <th>3</th>\n",
       "      <td>-77.580628</td>\n",
       "      <td>43.167216</td>\n",
       "      <td>720 N Goodman St</td>\n",
       "      <td>2022/05/28 04:00:00+00</td>\n",
       "      <td>Shooting</td>\n",
       "      <td>No</td>\n",
       "      <td>43.167216</td>\n",
       "      <td>-77.580628</td>\n",
       "    </tr>\n",
       "    <tr>\n",
       "      <th>4</th>\n",
       "      <td>-77.641972</td>\n",
       "      <td>43.162394</td>\n",
       "      <td>138 Murray St</td>\n",
       "      <td>2022/05/26 04:00:00+00</td>\n",
       "      <td>Shooting</td>\n",
       "      <td>No</td>\n",
       "      <td>43.162394</td>\n",
       "      <td>-77.641972</td>\n",
       "    </tr>\n",
       "  </tbody>\n",
       "</table>\n",
       "</div>"
      ],
      "text/plain": [
       "           X          Y           Address           Occurred_Date Crime_Type  \\\n",
       "0 -77.610890  43.184163  442 Remington St  2022/06/01 04:00:00+00   Shooting   \n",
       "1 -77.598893  43.181793    904 Hudson Ave  2022/05/29 04:00:00+00   Homicide   \n",
       "2 -77.630378  43.142970   168 Bartlett St  2022/05/29 04:00:00+00   Shooting   \n",
       "3 -77.580628  43.167216  720 N Goodman St  2022/05/28 04:00:00+00   Shooting   \n",
       "4 -77.641972  43.162394     138 Murray St  2022/05/26 04:00:00+00   Shooting   \n",
       "\n",
       "  Multiple_Shooting   Latitude  Longitude  \n",
       "0                No  43.184163 -77.610890  \n",
       "1                No  43.181793 -77.598893  \n",
       "2                No  43.142970 -77.630378  \n",
       "3                No  43.167216 -77.580628  \n",
       "4                No  43.162394 -77.641972  "
      ]
     },
     "execution_count": 72,
     "metadata": {},
     "output_type": "execute_result"
    }
   ],
   "source": [
    "# GUN DATA CLEANING\n",
    "gun_data = gun_data.drop(columns=[\n",
    "                        'ID',\n",
    "                        'Case_Number',\n",
    "                        'Occurred_Month',\n",
    "                        'Occurred_Year',\n",
    "                        'Gender',\n",
    "                        'Race',\n",
    "                        'Ethnicity',\n",
    "                        'Victim_Age',\n",
    "                        'Victim_Age_Band',\n",
    "                        'ObjectId'\n",
    "                        ])\n",
    "\n",
    "print(gun_data.info())  # to check for any missing values\n",
    "gun_data.head()"
   ]
  },
  {
   "cell_type": "code",
   "execution_count": 73,
   "metadata": {},
   "outputs": [
    {
     "name": "stdout",
     "output_type": "stream",
     "text": [
      "<class 'pandas.core.frame.DataFrame'>\n",
      "Int64Index: 20 entries, 124 to 145\n",
      "Data columns (total 4 columns):\n",
      " #   Column           Non-Null Count  Dtype  \n",
      "---  ------           --------------  -----  \n",
      " 0   Zip Code         20 non-null     int64  \n",
      " 1   Latitude         20 non-null     float64\n",
      " 2   Longitude        20 non-null     float64\n",
      " 3   Food Insecurity  20 non-null     float64\n",
      "dtypes: float64(3), int64(1)\n",
      "memory usage: 800.0 bytes\n",
      "None\n"
     ]
    },
    {
     "data": {
      "text/html": [
       "<div>\n",
       "<style scoped>\n",
       "    .dataframe tbody tr th:only-of-type {\n",
       "        vertical-align: middle;\n",
       "    }\n",
       "\n",
       "    .dataframe tbody tr th {\n",
       "        vertical-align: top;\n",
       "    }\n",
       "\n",
       "    .dataframe thead th {\n",
       "        text-align: right;\n",
       "    }\n",
       "</style>\n",
       "<table border=\"1\" class=\"dataframe\">\n",
       "  <thead>\n",
       "    <tr style=\"text-align: right;\">\n",
       "      <th></th>\n",
       "      <th>Zip Code</th>\n",
       "      <th>Latitude</th>\n",
       "      <th>Longitude</th>\n",
       "      <th>Food Insecurity</th>\n",
       "    </tr>\n",
       "  </thead>\n",
       "  <tbody>\n",
       "    <tr>\n",
       "      <th>124</th>\n",
       "      <td>14626</td>\n",
       "      <td>43.2141</td>\n",
       "      <td>-77.7135</td>\n",
       "      <td>0.094</td>\n",
       "    </tr>\n",
       "    <tr>\n",
       "      <th>127</th>\n",
       "      <td>14623</td>\n",
       "      <td>43.0881</td>\n",
       "      <td>-77.6425</td>\n",
       "      <td>0.167</td>\n",
       "    </tr>\n",
       "    <tr>\n",
       "      <th>128</th>\n",
       "      <td>14622</td>\n",
       "      <td>43.2138</td>\n",
       "      <td>-77.5569</td>\n",
       "      <td>0.080</td>\n",
       "    </tr>\n",
       "    <tr>\n",
       "      <th>129</th>\n",
       "      <td>14621</td>\n",
       "      <td>43.1863</td>\n",
       "      <td>-77.6018</td>\n",
       "      <td>0.298</td>\n",
       "    </tr>\n",
       "    <tr>\n",
       "      <th>130</th>\n",
       "      <td>14620</td>\n",
       "      <td>43.1291</td>\n",
       "      <td>-77.6065</td>\n",
       "      <td>0.187</td>\n",
       "    </tr>\n",
       "  </tbody>\n",
       "</table>\n",
       "</div>"
      ],
      "text/plain": [
       "     Zip Code  Latitude  Longitude  Food Insecurity\n",
       "124     14626   43.2141   -77.7135            0.094\n",
       "127     14623   43.0881   -77.6425            0.167\n",
       "128     14622   43.2138   -77.5569            0.080\n",
       "129     14621   43.1863   -77.6018            0.298\n",
       "130     14620   43.1291   -77.6065            0.187"
      ]
     },
     "execution_count": 73,
     "metadata": {},
     "output_type": "execute_result"
    }
   ],
   "source": [
    "# HUNGER DATA\n",
    "hunger_data.columns = ['Zip Code', 'Latitude', 'Longitude', 'Food Insecurity']\n",
    "\n",
    "# NARROW DOWN DATA TO JUST ROCHESTER AREAS\n",
    "roc_zip = list(range(14604, 14624))\n",
    "roc_zip.append(14626)\n",
    "roc_zip.append(14627)\n",
    "roc_zip.append(14642)\n",
    "hunger_data = hunger_data.loc[hunger_data['Zip Code'].isin(roc_zip)]\n",
    "\n",
    "print(hunger_data.info())   # to check for missing values\n",
    "hunger_data.head()"
   ]
  },
  {
   "cell_type": "code",
   "execution_count": 74,
   "metadata": {},
   "outputs": [
    {
     "data": {
      "application/vnd.plotly.v1+json": {
       "config": {
        "plotlyServerURL": "https://plot.ly"
       },
       "data": [
        {
         "customdata": [
          [
           "2022/06/01 04:00:00+00",
           "442 Remington St"
          ],
          [
           "2022/05/29 04:00:00+00",
           "168 Bartlett St"
          ],
          [
           "2022/05/28 04:00:00+00",
           "720 N Goodman St"
          ],
          [
           "2022/05/26 04:00:00+00",
           "138 Murray St"
          ],
          [
           "2022/05/26 04:00:00+00",
           "22 Jefferson Ave"
          ],
          [
           "2022/05/25 04:00:00+00",
           "1173 Culver Rd"
          ],
          [
           "2022/05/25 04:00:00+00",
           "1801 E Main St"
          ],
          [
           "2022/05/24 04:00:00+00",
           "58 Sheldon Ter"
          ],
          [
           "2022/05/22 04:00:00+00",
           "1865 Clifford Ave"
          ],
          [
           "2022/05/22 04:00:00+00",
           "405 Avenue D"
          ],
          [
           "2022/05/21 04:00:00+00",
           "121 Selye Ter"
          ],
          [
           "2022/05/21 04:00:00+00",
           "120 Cummings St"
          ],
          [
           "2022/05/21 04:00:00+00",
           "344 Clifford Ave"
          ],
          [
           "2022/05/20 04:00:00+00",
           "594 Smith St"
          ],
          [
           "2022/05/20 04:00:00+00",
           "1260 St Paul St"
          ],
          [
           "2022/05/20 04:00:00+00",
           "116 Garson Ave"
          ],
          [
           "2022/05/20 04:00:00+00",
           "74 Kosciusko St"
          ],
          [
           "2022/05/19 04:00:00+00",
           "78 Avenue D"
          ],
          [
           "2022/05/17 04:00:00+00",
           "40 Malvern St"
          ],
          [
           "2022/05/17 04:00:00+00",
           "111 Santee St"
          ],
          [
           "2022/05/14 04:00:00+00",
           "150 Van Auker St"
          ],
          [
           "2022/05/10 04:00:00+00",
           "46 Melrose St"
          ],
          [
           "2022/05/08 04:00:00+00",
           "232 Pierpont St"
          ],
          [
           "2022/05/08 04:00:00+00",
           "37 Ferncliffe Dr"
          ],
          [
           "2022/05/08 04:00:00+00",
           "24 Alphonse St"
          ],
          [
           "2022/05/08 04:00:00+00",
           "243 Fourth St"
          ],
          [
           "2022/05/08 04:00:00+00",
           "243 Fourth St"
          ],
          [
           "2022/05/07 04:00:00+00",
           "11 Silver St"
          ],
          [
           "2022/05/06 04:00:00+00",
           "512 Columbia Ave"
          ],
          [
           "2022/05/05 04:00:00+00",
           "443 Scio St"
          ],
          [
           "2022/05/02 04:00:00+00",
           "837 Lake Ave"
          ],
          [
           "2022/05/01 04:00:00+00",
           "827 Glide St"
          ],
          [
           "2022/05/01 04:00:00+00",
           "620 Dewey Ave"
          ],
          [
           "2022/05/01 04:00:00+00",
           "368 Parsells Ave"
          ],
          [
           "2022/05/01 04:00:00+00",
           "16 Joseph Pl"
          ],
          [
           "2022/04/30 04:00:00+00",
           "37 York St"
          ],
          [
           "2022/04/30 04:00:00+00",
           "34 Woodward St"
          ],
          [
           "2022/04/29 04:00:00+00",
           "130 Weyl St"
          ],
          [
           "2022/04/25 04:00:00+00",
           "1676 Clifford Ave"
          ],
          [
           "2022/04/25 04:00:00+00",
           "47 Glendale Pk"
          ],
          [
           "2022/04/23 04:00:00+00",
           "253 Moulson St"
          ],
          [
           "2022/04/23 04:00:00+00",
           "488 Joseph Ave"
          ],
          [
           "2022/04/20 04:00:00+00",
           "403 Columbia Ave"
          ],
          [
           "2022/04/19 04:00:00+00",
           "710 N Goodman St"
          ],
          [
           "2022/04/18 04:00:00+00",
           "1058 Clifford Ave"
          ],
          [
           "2022/04/18 04:00:00+00",
           "1058 Clifford Ave"
          ],
          [
           "2022/04/17 04:00:00+00",
           "100 Hawley St"
          ],
          [
           "2022/04/17 04:00:00+00",
           "44 Harris St"
          ],
          [
           "2022/04/17 04:00:00+00",
           "19 Lang St"
          ],
          [
           "2022/04/16 04:00:00+00",
           "571 Lake Ave"
          ],
          [
           "2022/04/16 04:00:00+00",
           "109 Cady St"
          ],
          [
           "2022/04/15 04:00:00+00",
           "15 Phelps Ave"
          ],
          [
           "2022/04/15 04:00:00+00",
           "370 Melville St"
          ],
          [
           "2022/04/15 04:00:00+00",
           "50 N Plymouth Ave"
          ],
          [
           "2022/04/15 04:00:00+00",
           "50 N Plymouth Ave"
          ],
          [
           "2022/04/14 04:00:00+00",
           "611 Jefferson Ave"
          ],
          [
           "2022/04/12 04:00:00+00",
           "30 Arklow St"
          ],
          [
           "2022/04/12 04:00:00+00",
           "238 Chamberlain St"
          ],
          [
           "2022/04/12 04:00:00+00",
           "130 Cedarwood Ter"
          ],
          [
           "2022/04/12 04:00:00+00",
           "1 S Plymouth Ave"
          ],
          [
           "2022/04/10 04:00:00+00",
           "836 N Goodman Ave"
          ],
          [
           "2022/04/05 04:00:00+00",
           "154 N Clinton Ave"
          ],
          [
           "2022/04/04 04:00:00+00",
           "11 Vinewood Pl"
          ],
          [
           "2022/04/04 04:00:00+00",
           "11 Vinewood Pl"
          ],
          [
           "2022/04/03 04:00:00+00",
           "57 Lime St"
          ],
          [
           "2022/03/31 04:00:00+00",
           "1042 Dewey Ave"
          ],
          [
           "2022/03/30 04:00:00+00",
           "43 Judson St"
          ],
          [
           "2022/03/25 04:00:00+00",
           "74 Kosciusko St"
          ],
          [
           "2022/03/22 04:00:00+00",
           "45 Varden St"
          ],
          [
           "2022/03/19 04:00:00+00",
           "601 Elmwood Ave"
          ],
          [
           "2022/03/19 04:00:00+00",
           "456 Thurston Rd"
          ],
          [
           "2022/03/17 04:00:00+00",
           "597 Norton St"
          ],
          [
           "2022/03/16 04:00:00+00",
           "83 Taylor St"
          ],
          [
           "2022/03/15 04:00:00+00",
           "41 Backus St"
          ],
          [
           "2022/03/14 04:00:00+00",
           "575 Smith St"
          ],
          [
           "2022/03/13 05:00:00+00",
           "471 State St"
          ],
          [
           "2022/03/13 05:00:00+00",
           "471 State St"
          ],
          [
           "2022/03/12 05:00:00+00",
           "18 Gladstone St"
          ],
          [
           "2022/03/12 05:00:00+00",
           "859 Bay St"
          ],
          [
           "2022/03/10 05:00:00+00",
           "1397 Clifford Ave"
          ],
          [
           "2022/03/05 05:00:00+00",
           "17 Fairfax Rd"
          ],
          [
           "2022/03/04 05:00:00+00",
           "171 Shelter St"
          ],
          [
           "2022/02/26 05:00:00+00",
           "799 N Clinton Ave"
          ],
          [
           "2021/11/04 04:00:00+00",
           "27 Diringer Pl"
          ],
          [
           "2021/11/04 04:00:00+00",
           "27 Diringer Pl"
          ],
          [
           "2021/11/03 04:00:00+00",
           "284 Jefferson Ave"
          ],
          [
           "2021/10/31 04:00:00+00",
           "1233 N Clinton Ave"
          ],
          [
           "2021/10/31 04:00:00+00",
           "17 Henion St"
          ],
          [
           "2021/10/27 04:00:00+00",
           "271 Alameda St"
          ],
          [
           "2021/10/25 04:00:00+00",
           "536 Jay St"
          ],
          [
           "2021/10/23 04:00:00+00",
           "368 Portland Ave"
          ],
          [
           "2021/10/22 04:00:00+00",
           "111 Harris St"
          ],
          [
           "2021/10/20 04:00:00+00",
           "1168 Dewey Ave"
          ],
          [
           "2021/10/20 04:00:00+00",
           "12 Rauber St"
          ],
          [
           "2021/10/20 04:00:00+00",
           "12 Rauber St"
          ],
          [
           "2021/10/20 04:00:00+00",
           "286 Magee Ave"
          ],
          [
           "2021/10/20 04:00:00+00",
           "286 Magee Ave"
          ],
          [
           "2021/10/17 04:00:00+00",
           "196 N Winton Rd"
          ],
          [
           "2021/10/17 04:00:00+00",
           "24 St Jacob St"
          ],
          [
           "2021/10/16 04:00:00+00",
           "991 North St"
          ],
          [
           "2021/10/14 04:00:00+00",
           "1249 Hudson Ave"
          ],
          [
           "2021/10/13 04:00:00+00",
           "1155 Hudson Ave"
          ],
          [
           "2021/10/10 04:00:00+00",
           "1340 Hudson Ave"
          ],
          [
           "2021/10/10 04:00:00+00",
           "18 Joseph Ave"
          ],
          [
           "2021/10/09 04:00:00+00",
           "425 Elmwood Ave"
          ],
          [
           "2021/10/09 04:00:00+00",
           "109 Avenue B"
          ],
          [
           "2021/10/09 04:00:00+00",
           "36 Dove St"
          ],
          [
           "2021/10/09 04:00:00+00",
           "191 Fulton Ave"
          ],
          [
           "2021/10/09 04:00:00+00",
           "900 E Main St"
          ],
          [
           "2021/10/04 04:00:00+00",
           "35 Boardman St"
          ],
          [
           "2021/10/03 04:00:00+00",
           "376 Hazelwood Ter"
          ],
          [
           "2021/09/29 04:00:00+00",
           "495 Emerson St"
          ],
          [
           "2021/09/29 04:00:00+00",
           "391 Frost Ave"
          ],
          [
           "2021/09/28 04:00:00+00",
           "196 Hudson Ave"
          ],
          [
           "2021/09/26 04:00:00+00",
           "25 Finch St"
          ],
          [
           "2021/09/25 04:00:00+00",
           "151 Green Knolls Dr"
          ],
          [
           "2021/09/25 04:00:00+00",
           "218 Conkey Ave"
          ],
          [
           "2021/09/24 04:00:00+00",
           "45 Maryland St"
          ],
          [
           "2021/09/24 04:00:00+00",
           "63 Scrantom St"
          ],
          [
           "2021/09/24 04:00:00+00",
           "84 Barton St"
          ],
          [
           "2021/09/21 04:00:00+00",
           "788 Lake Ave"
          ],
          [
           "2021/09/19 04:00:00+00",
           "333 Driving Park Ave"
          ],
          [
           "2021/09/19 04:00:00+00",
           "333 Driving Park Ave"
          ],
          [
           "2021/09/19 04:00:00+00",
           "560 Lyell Ave"
          ],
          [
           "2021/09/18 04:00:00+00",
           "135 Gothic St"
          ],
          [
           "2021/09/18 04:00:00+00",
           "733 Norton St"
          ],
          [
           "2021/09/17 04:00:00+00",
           "269 Seneca Parkway"
          ],
          [
           "2021/09/14 04:00:00+00",
           "340 Conkey Ave"
          ],
          [
           "2021/09/14 04:00:00+00",
           "562 Portland Ave"
          ],
          [
           "2021/09/13 04:00:00+00",
           "1115 Hudson Ave"
          ],
          [
           "2021/09/13 04:00:00+00",
           "1226 N Clinton Ave"
          ],
          [
           "2021/09/11 04:00:00+00",
           "1686 Norton St"
          ],
          [
           "2021/09/11 04:00:00+00",
           "39 Parkway Ave"
          ],
          [
           "2021/09/11 04:00:00+00",
           "39 Parkway Ave"
          ],
          [
           "2021/09/10 04:00:00+00",
           "144 Chamberlain St"
          ],
          [
           "2021/09/10 04:00:00+00",
           "144 Chamberlain St"
          ],
          [
           "2021/09/10 04:00:00+00",
           "27 Aebersold St"
          ],
          [
           "2021/09/09 04:00:00+00",
           "202 Lyell Ave"
          ],
          [
           "2021/09/09 04:00:00+00",
           "113 Koscuisko St"
          ],
          [
           "2021/09/07 04:00:00+00",
           "491 Jay St"
          ],
          [
           "2021/09/03 04:00:00+00",
           "1144 N Clinton Ave"
          ],
          [
           "2021/08/30 04:00:00+00",
           "108 Sherman St"
          ],
          [
           "2021/08/29 04:00:00+00",
           "165 Oneida St"
          ],
          [
           "2021/08/29 04:00:00+00",
           "58 Lincoln St"
          ],
          [
           "2021/08/29 04:00:00+00",
           "56 Bismark Ter"
          ],
          [
           "2021/08/28 04:00:00+00",
           "1271 Clifford Ave"
          ],
          [
           "2021/08/28 04:00:00+00",
           "8 Kay Ter"
          ],
          [
           "2021/08/28 04:00:00+00",
           "495 Emerson St"
          ],
          [
           "2021/08/26 04:00:00+00",
           "226 Remington St"
          ],
          [
           "2021/08/26 04:00:00+00",
           "489 Dewey Ave"
          ],
          [
           "2021/08/25 04:00:00+00",
           "351 Genesee St"
          ],
          [
           "2021/08/25 04:00:00+00",
           "351 Genesee St"
          ],
          [
           "2021/08/25 04:00:00+00",
           "280 Lexington Ave"
          ],
          [
           "2021/08/25 04:00:00+00",
           "280 Lexington Ave"
          ],
          [
           "2021/08/23 04:00:00+00",
           "42 Watkin Ter"
          ],
          [
           "2021/08/23 04:00:00+00",
           "42 Watkin Ter"
          ],
          [
           "2021/08/22 04:00:00+00",
           "34 S Union St"
          ],
          [
           "2021/08/22 04:00:00+00",
           "1100 N Clinton Ave"
          ],
          [
           "2021/08/22 04:00:00+00",
           "1100 N Clinton Ave"
          ],
          [
           "2021/08/22 04:00:00+00",
           "554 Garson Ave"
          ],
          [
           "2021/08/21 04:00:00+00",
           "565 Chili Ave"
          ],
          [
           "2021/08/21 04:00:00+00",
           "565 Chili Ave"
          ],
          [
           "2021/08/21 04:00:00+00",
           "296 Flint St"
          ],
          [
           "2021/08/19 04:00:00+00",
           "542 Driving Park Ave"
          ],
          [
           "2021/08/18 04:00:00+00",
           "209 Bernard St"
          ],
          [
           "2021/08/18 04:00:00+00",
           "209 Bernard St"
          ],
          [
           "2021/08/16 04:00:00+00",
           "147 Millbank St"
          ],
          [
           "2021/08/15 04:00:00+00",
           "404 Electric Ave"
          ],
          [
           "2021/08/13 04:00:00+00",
           "1930 Clifford Ave"
          ],
          [
           "2021/06/03 04:00:00+00",
           "255 Hazelwood Ter"
          ],
          [
           "2021/06/03 04:00:00+00",
           "556 Norton St"
          ],
          [
           "2021/06/03 04:00:00+00",
           "556 Norton St"
          ],
          [
           "2021/06/03 04:00:00+00",
           "210 Ave A"
          ],
          [
           "2021/06/03 04:00:00+00",
           "129 6th St"
          ],
          [
           "2021/06/02 04:00:00+00",
           "7 Bradford St"
          ],
          [
           "2021/06/01 04:00:00+00",
           "107 Harris St"
          ],
          [
           "2021/05/31 04:00:00+00",
           "18 3rd St"
          ],
          [
           "2021/05/31 04:00:00+00",
           "210 Troup St"
          ],
          [
           "2021/05/31 04:00:00+00",
           "15 Henion St"
          ],
          [
           "2021/05/31 04:00:00+00",
           "15 Ernst St"
          ],
          [
           "2021/05/29 04:00:00+00",
           "150 Salina St"
          ],
          [
           "2021/05/29 04:00:00+00",
           "150 Salina St"
          ],
          [
           "2021/05/29 04:00:00+00",
           "150 Salina St"
          ],
          [
           "2021/05/26 04:00:00+00",
           "909 Joseph Ave"
          ],
          [
           "2021/05/26 04:00:00+00",
           "26 Mazda Ter"
          ],
          [
           "2021/05/26 04:00:00+00",
           "26 Mazda Ter"
          ],
          [
           "2021/05/25 04:00:00+00",
           "270 Merrimac St"
          ],
          [
           "2021/05/24 04:00:00+00",
           "920 S Clinton Ave"
          ],
          [
           "2021/05/23 04:00:00+00",
           "568 Driving Park Ave"
          ],
          [
           "2021/05/23 04:00:00+00",
           "56 Pardee St"
          ],
          [
           "2021/05/23 04:00:00+00",
           "1 Beach Ave"
          ],
          [
           "2021/05/23 04:00:00+00",
           "1 Beach Ave"
          ],
          [
           "2021/05/23 04:00:00+00",
           "56 Pardee St"
          ],
          [
           "2021/05/23 04:00:00+00",
           "56 Pardee St"
          ],
          [
           "2021/05/22 04:00:00+00",
           "20 Kohlman St"
          ],
          [
           "2021/05/21 04:00:00+00",
           "28 St Clair St"
          ],
          [
           "2021/05/20 04:00:00+00",
           "154 Breck St"
          ],
          [
           "2021/05/20 04:00:00+00",
           "187 Delamaine Dr"
          ],
          [
           "2021/05/19 04:00:00+00",
           "801 N Goodman St"
          ],
          [
           "2021/05/18 04:00:00+00",
           "330 Grand Ave"
          ],
          [
           "2021/05/18 04:00:00+00",
           "249 Melville St"
          ],
          [
           "2021/05/16 04:00:00+00",
           "567 W Main St"
          ],
          [
           "2021/05/16 04:00:00+00",
           "567 W Main St"
          ],
          [
           "2021/05/16 04:00:00+00",
           "124 Evergreen St"
          ],
          [
           "2021/05/15 04:00:00+00",
           "398 W Main St"
          ],
          [
           "2021/05/14 04:00:00+00",
           "92 Chandler St"
          ],
          [
           "2021/05/14 04:00:00+00",
           "266 Epworth St"
          ],
          [
           "2021/05/14 04:00:00+00",
           "1226 N Clinton Ave"
          ],
          [
           "2021/05/14 04:00:00+00",
           "1226 N Clinton Ave"
          ],
          [
           "2021/05/14 04:00:00+00",
           "1226 N Clinton Ave"
          ],
          [
           "2021/05/14 04:00:00+00",
           "296 Ave A"
          ],
          [
           "2021/05/14 04:00:00+00",
           "36 Dove St"
          ],
          [
           "2021/05/13 04:00:00+00",
           "720 N Goodman St"
          ],
          [
           "2021/05/13 04:00:00+00",
           "720 N Goodman St"
          ],
          [
           "2021/05/13 04:00:00+00",
           "34 Ackerman St"
          ],
          [
           "2021/05/10 04:00:00+00",
           "2 Sumner Pk"
          ],
          [
           "2021/05/10 04:00:00+00",
           "2 Sumner Pk"
          ],
          [
           "2021/05/10 04:00:00+00",
           "2 Sumner Pk"
          ],
          [
           "2021/05/09 04:00:00+00",
           "73 Santee St"
          ],
          [
           "2021/05/06 04:00:00+00",
           "760 Genesee St"
          ],
          [
           "2021/05/06 04:00:00+00",
           "1070 Hudson Ave"
          ],
          [
           "2021/05/06 04:00:00+00",
           "700 North St"
          ],
          [
           "2021/05/03 04:00:00+00",
           "4 8th St"
          ],
          [
           "2021/05/01 04:00:00+00",
           "398 W Main St"
          ],
          [
           "2021/04/29 04:00:00+00",
           "52 Arch St"
          ],
          [
           "2021/04/28 04:00:00+00",
           "1287 N Clinton Ave"
          ],
          [
           "2021/04/27 04:00:00+00",
           "444 Hudson Ave"
          ],
          [
           "2021/04/27 04:00:00+00",
           "200 Warner St"
          ],
          [
           "2021/04/26 04:00:00+00",
           "179 Barton St"
          ],
          [
           "2021/04/25 04:00:00+00",
           "368 Portland Ave"
          ],
          [
           "2021/04/25 04:00:00+00",
           "168 Augustine St"
          ],
          [
           "2021/04/25 04:00:00+00",
           "1019 Norton St"
          ],
          [
           "2021/04/25 04:00:00+00",
           "1019 Norton St"
          ],
          [
           "2021/04/25 04:00:00+00",
           "300 Magnolia St"
          ],
          [
           "2021/04/24 04:00:00+00",
           "584 Jefferson Ave"
          ],
          [
           "2021/04/23 04:00:00+00",
           "1149 Portand Ave"
          ],
          [
           "2021/04/23 04:00:00+00",
           "1149 Portland Ave"
          ],
          [
           "2021/04/23 04:00:00+00",
           "46 Shelter St"
          ],
          [
           "2021/04/20 04:00:00+00",
           "831 Joseph Ave"
          ],
          [
           "2021/04/19 04:00:00+00",
           "107 N Clinton Ave"
          ],
          [
           "2021/04/18 04:00:00+00",
           "567 W Main St"
          ],
          [
           "2021/04/18 04:00:00+00",
           "473 Lyell Ave"
          ],
          [
           "2021/04/15 04:00:00+00",
           "752 Smith St"
          ],
          [
           "2021/04/15 04:00:00+00",
           "205 Bay St"
          ],
          [
           "2021/04/15 04:00:00+00",
           "204 Lyell Ave"
          ],
          [
           "2021/04/10 04:00:00+00",
           "462 Genesee St"
          ],
          [
           "2021/04/10 04:00:00+00",
           "452 Parsells Ave"
          ],
          [
           "2021/04/09 04:00:00+00",
           "487 Monroe Ave"
          ],
          [
           "2021/04/09 04:00:00+00",
           "487 Monroe Ave"
          ],
          [
           "2021/04/09 04:00:00+00",
           "79 Kohlman St"
          ],
          [
           "2021/04/08 04:00:00+00",
           "128 Genesee st"
          ],
          [
           "2021/04/05 04:00:00+00",
           "306 Wilkins St"
          ],
          [
           "2021/04/04 04:00:00+00",
           "410 Ames St"
          ],
          [
           "2021/04/02 04:00:00+00",
           "481 Cottage St"
          ],
          [
           "2021/03/30 04:00:00+00",
           "39 Mazda Ter"
          ],
          [
           "2021/03/30 04:00:00+00",
           "244 Lyell Ave"
          ],
          [
           "2021/03/25 04:00:00+00",
           "196 Hudson Ave"
          ],
          [
           "2021/03/24 04:00:00+00",
           "601 Elmwood Ave"
          ],
          [
           "2021/03/23 04:00:00+00",
           "22 Harvest St"
          ],
          [
           "2020/06/13 04:00:00+00",
           "18 Langham St"
          ],
          [
           "2020/06/11 04:00:00+00",
           "11 Coleman Ter"
          ],
          [
           "2020/06/11 04:00:00+00",
           "11 Coleman Ter"
          ],
          [
           "2020/06/09 04:00:00+00",
           "161 Rosewood Ter"
          ],
          [
           "2020/06/09 04:00:00+00",
           "161 Rosewood Ter"
          ],
          [
           "2020/06/09 04:00:00+00",
           "106 Huntington Pk"
          ],
          [
           "2020/06/09 04:00:00+00",
           "475 Sherman St"
          ],
          [
           "2020/06/08 04:00:00+00",
           "148 Milton St"
          ],
          [
           "2020/06/08 04:00:00+00",
           "837 Lake Ave"
          ],
          [
           "2020/06/07 04:00:00+00",
           "201 Clifford Ave"
          ],
          [
           "2020/06/06 04:00:00+00",
           "780 Dewey Ave"
          ],
          [
           "2020/06/04 04:00:00+00",
           "641 Brown St"
          ],
          [
           "2020/06/03 04:00:00+00",
           "190 McNaughton St"
          ],
          [
           "2020/06/03 04:00:00+00",
           "22 7th St"
          ],
          [
           "2020/06/03 04:00:00+00",
           "404 Genesee St"
          ],
          [
           "2020/05/31 04:00:00+00",
           "624 Lexington Ave"
          ],
          [
           "2020/05/30 04:00:00+00",
           "74 Marlborough Rd"
          ],
          [
           "2020/05/30 04:00:00+00",
           "812 Dewey Ave"
          ],
          [
           "2020/05/28 04:00:00+00",
           "237 Roycroft Dr"
          ],
          [
           "2020/05/27 04:00:00+00",
           "513 Frost Ave"
          ],
          [
           "2020/05/24 04:00:00+00",
           "555 Conkey Ave"
          ],
          [
           "2020/05/20 04:00:00+00",
           "19 Quincy St"
          ],
          [
           "2020/05/19 04:00:00+00",
           "211 Hazelwood Ter"
          ],
          [
           "2020/05/13 04:00:00+00",
           "780 N. Clinton Ave"
          ],
          [
           "2020/05/06 04:00:00+00",
           "539 Lyell Ave"
          ],
          [
           "2020/05/06 04:00:00+00",
           "539 Lyell Ave"
          ],
          [
           "2020/05/06 04:00:00+00",
           "539 Lyell Ave"
          ],
          [
           "2020/05/06 04:00:00+00",
           "468 Ave D"
          ],
          [
           "2020/05/05 04:00:00+00",
           "869 Clifford Ave"
          ],
          [
           "2020/05/05 04:00:00+00",
           "869 Clifford Ave"
          ],
          [
           "2020/05/03 04:00:00+00",
           "235 Berlin St"
          ],
          [
           "2020/05/03 04:00:00+00",
           "235 Berlin St"
          ],
          [
           "2020/04/29 04:00:00+00",
           "197 Genesee St"
          ],
          [
           "2020/04/28 04:00:00+00",
           "862 Hudson Ave"
          ],
          [
           "2020/04/27 04:00:00+00",
           "428 Magnolia St"
          ],
          [
           "2020/04/19 04:00:00+00",
           "62 Diringer Pl"
          ],
          [
           "2020/04/16 04:00:00+00",
           "584 Jefferson Ave"
          ],
          [
           "2020/04/13 04:00:00+00",
           "5 Conkey Ave"
          ],
          [
           "2020/04/12 04:00:00+00",
           "1271 Clifford Ave"
          ],
          [
           "2020/04/12 04:00:00+00",
           "1271 Clifford Ave"
          ],
          [
           "2020/04/11 04:00:00+00",
           "52 Clay Ave"
          ],
          [
           "2020/04/11 04:00:00+00",
           "198 Fulton Ave"
          ],
          [
           "2020/04/11 04:00:00+00",
           "746 Joseph Ave"
          ],
          [
           "2020/04/07 04:00:00+00",
           "428 Clifford Ave"
          ],
          [
           "2020/04/06 04:00:00+00",
           "98 Arvine Heights"
          ],
          [
           "2020/04/06 04:00:00+00",
           "98 Arvine Heights"
          ],
          [
           "2020/04/05 04:00:00+00",
           "413 Lyell Ave"
          ],
          [
           "2020/04/05 04:00:00+00",
           "413 Lyell Ave"
          ],
          [
           "2020/04/05 04:00:00+00",
           "413 Lyell Ave"
          ],
          [
           "2020/04/04 04:00:00+00",
           "516 Flint St"
          ],
          [
           "2020/04/04 04:00:00+00",
           "427 Champlain St"
          ],
          [
           "2020/04/02 04:00:00+00",
           "147 Campbell Pk"
          ],
          [
           "2020/04/01 04:00:00+00",
           "165 Emerson St"
          ],
          [
           "2020/03/30 04:00:00+00",
           "50 Nester St"
          ],
          [
           "2020/03/28 04:00:00+00",
           "400 Parsells Ave"
          ],
          [
           "2020/03/24 04:00:00+00",
           "660 Joseph Ave"
          ],
          [
           "2020/03/21 04:00:00+00",
           "1064 Clifford Ave"
          ],
          [
           "2020/03/15 04:00:00+00",
           "25 Cameron St"
          ],
          [
           "2020/03/15 04:00:00+00",
           "25 Cameron St"
          ],
          [
           "2020/03/15 04:00:00+00",
           "236 Fernwood Ave"
          ],
          [
           "2020/02/25 05:00:00+00",
           "12 Dana St"
          ],
          [
           "2020/02/24 05:00:00+00",
           "252 Weaver St"
          ],
          [
           "2020/02/23 05:00:00+00",
           "837 Lake Ave"
          ],
          [
           "2020/02/18 05:00:00+00",
           "45 Kohlman St"
          ],
          [
           "2020/02/17 05:00:00+00",
           "280 Lexington Ave"
          ],
          [
           "2020/02/13 05:00:00+00",
           "865 Hudson Ave"
          ],
          [
           "2020/02/12 05:00:00+00",
           "501 Genesee St"
          ],
          [
           "2020/02/12 05:00:00+00",
           "215 Colvin St"
          ],
          [
           "2020/02/08 05:00:00+00",
           "1036 N. Clinton Ave"
          ],
          [
           "2020/02/07 05:00:00+00",
           "54 Pulaski St"
          ],
          [
           "2020/02/07 05:00:00+00",
           "54 Pulaski St"
          ],
          [
           "2020/02/02 05:00:00+00",
           "123 Bauman St"
          ],
          [
           "2020/01/31 05:00:00+00",
           "101 Avenue E"
          ],
          [
           "2020/01/25 05:00:00+00",
           "199 Lewis St"
          ],
          [
           "2020/01/23 05:00:00+00",
           "80 Tacoma St"
          ],
          [
           "2020/01/20 05:00:00+00",
           "560 W. Ridge Rd"
          ],
          [
           "2020/01/14 05:00:00+00",
           "88 Saxton St"
          ],
          [
           "2020/01/12 05:00:00+00",
           "17 Mead St"
          ],
          [
           "2020/01/11 05:00:00+00",
           "567 W. Main St"
          ],
          [
           "2020/01/09 05:00:00+00",
           "599 W. Broad St"
          ],
          [
           "2020/01/07 05:00:00+00",
           "987 Glide St"
          ],
          [
           "2019/12/29 05:00:00+00",
           "1717 Clifford Ave"
          ],
          [
           "2019/12/27 05:00:00+00",
           "9 Copeland St"
          ],
          [
           "2019/12/27 05:00:00+00",
           "20 Terrace Pk"
          ],
          [
           "2019/12/24 05:00:00+00",
           "305 Conkey Ave"
          ],
          [
           "2019/12/23 05:00:00+00",
           "512 Columbia Ave"
          ],
          [
           "2019/12/23 05:00:00+00",
           "425 Champlain St"
          ],
          [
           "2019/12/23 05:00:00+00",
           "64 Pardee St"
          ],
          [
           "2022/02/26 05:00:00+00",
           "799 N Clinton Ave"
          ],
          [
           "2022/02/24 05:00:00+00",
           "236 Avenue D"
          ],
          [
           "2022/02/23 05:00:00+00",
           "196 Bernard St"
          ],
          [
           "2022/02/23 05:00:00+00",
           "153 N Union St"
          ],
          [
           "2022/02/23 05:00:00+00",
           "153 N Union St"
          ],
          [
           "2022/02/23 05:00:00+00",
           "202 Cottage St"
          ],
          [
           "2022/02/23 05:00:00+00",
           "116 Burrows St"
          ],
          [
           "2022/02/21 05:00:00+00",
           "337 Roycroft Dr"
          ],
          [
           "2022/02/21 05:00:00+00",
           "54 Wendell St"
          ],
          [
           "2022/02/20 05:00:00+00",
           "320 Kelly St"
          ],
          [
           "2022/02/20 05:00:00+00",
           "1 Twin Beeches"
          ],
          [
           "2022/02/20 05:00:00+00",
           "1894 Dewey Ave"
          ],
          [
           "2022/02/17 05:00:00+00",
           "61 Myrtle St"
          ],
          [
           "2022/02/15 05:00:00+00",
           "55 Pardee St"
          ],
          [
           "2022/02/13 05:00:00+00",
           "303 Roxborough Rd"
          ],
          [
           "2022/02/09 05:00:00+00",
           "230 Saxton St"
          ],
          [
           "2022/02/01 05:00:00+00",
           "452 Glenwood Ave"
          ],
          [
           "2022/01/20 05:00:00+00",
           "311 Frost Ave "
          ],
          [
           "2022/01/19 05:00:00+00",
           "1233 N Clinton Ave"
          ],
          [
           "2022/01/19 05:00:00+00",
           "1233 N Clinton Ave"
          ],
          [
           "2022/01/19 05:00:00+00",
           "719 S Plymouth Ave"
          ],
          [
           "2022/01/13 05:00:00+00",
           "45 Glendale Pk"
          ],
          [
           "2022/01/13 05:00:00+00",
           "45 Glendale Pk"
          ],
          [
           "2022/01/13 05:00:00+00",
           "45 Glendale Pk"
          ],
          [
           "2022/01/12 05:00:00+00",
           "353 Sherman St"
          ],
          [
           "2022/01/10 05:00:00+00",
           "19 Hollenbeck St"
          ],
          [
           "2022/01/09 05:00:00+00",
           "185 Burley Rd"
          ],
          [
           "2022/01/07 05:00:00+00",
           "493 West Ave"
          ],
          [
           "2022/01/05 05:00:00+00",
           "367 Alphonse St"
          ],
          [
           "2022/01/04 05:00:00+00",
           "211 Depew St"
          ],
          [
           "2022/01/04 05:00:00+00",
           "290 Saxton St"
          ],
          [
           "2022/01/01 05:00:00+00",
           "204 Hawley St"
          ],
          [
           "2021/12/29 05:00:00+00",
           "225 McNaughton St"
          ],
          [
           "2021/12/29 05:00:00+00",
           "35 Pardee St"
          ],
          [
           "2021/12/28 05:00:00+00",
           "265 Driving Park Ave  Apt 32"
          ],
          [
           "2021/12/26 05:00:00+00",
           "431 Hollenbeck St"
          ],
          [
           "2021/12/25 05:00:00+00",
           "180 Anthony St"
          ],
          [
           "2021/12/22 05:00:00+00",
           "429 Clifford Ave"
          ],
          [
           "2021/12/19 05:00:00+00",
           "195 Lewis St"
          ],
          [
           "2021/12/18 05:00:00+00",
           "1310 E Main St"
          ],
          [
           "2021/12/14 05:00:00+00",
           "366 Lyell Ave"
          ],
          [
           "2021/12/13 05:00:00+00",
           "1425 Portland Ave"
          ],
          [
           "2021/12/12 05:00:00+00",
           "487 Monroe Ave"
          ],
          [
           "2021/12/12 05:00:00+00",
           "487 Monroe Ave"
          ],
          [
           "2021/12/12 05:00:00+00",
           "487 Monroe Ave"
          ],
          [
           "2021/12/06 05:00:00+00",
           "130 Palm St"
          ],
          [
           "2021/12/04 05:00:00+00",
           "1059 S Plymouth Ave"
          ],
          [
           "2021/12/04 05:00:00+00",
           "110 Cady St"
          ],
          [
           "2021/12/04 05:00:00+00",
           "277 Wilkins St"
          ],
          [
           "2021/12/03 05:00:00+00",
           "4 Sullivan St"
          ],
          [
           "2021/12/03 05:00:00+00",
           "6 Dove St"
          ],
          [
           "2021/11/30 05:00:00+00",
           "1040 Portland Ave"
          ],
          [
           "2021/11/27 05:00:00+00",
           "291 Hawley St"
          ],
          [
           "2021/11/26 05:00:00+00",
           "205 Cummings St"
          ],
          [
           "2021/11/26 05:00:00+00",
           "489 Portland Ave"
          ],
          [
           "2021/11/26 05:00:00+00",
           "4 Helena St"
          ],
          [
           "2021/11/26 05:00:00+00",
           "4 Helena St"
          ],
          [
           "2021/11/26 05:00:00+00",
           "450 Jefferson Ave"
          ],
          [
           "2021/11/26 05:00:00+00",
           "19 Gerling St"
          ],
          [
           "2021/11/25 05:00:00+00",
           "659 Jay St"
          ],
          [
           "2021/11/25 05:00:00+00",
           "1174 Atlantic Ave"
          ],
          [
           "2021/11/24 05:00:00+00",
           "196 Hudson Ave"
          ],
          [
           "2021/11/24 05:00:00+00",
           "196 Hudson Ave"
          ],
          [
           "2021/11/24 05:00:00+00",
           "368 Grand Ave"
          ],
          [
           "2021/11/23 05:00:00+00",
           "998 Mt Read Blvd"
          ],
          [
           "2021/11/22 05:00:00+00",
           "256 Ave C"
          ],
          [
           "2021/11/15 05:00:00+00",
           "413 Lyell Ave"
          ],
          [
           "2021/11/15 05:00:00+00",
           "152 Wilkins St"
          ],
          [
           "2021/11/14 05:00:00+00",
           "320 Durnan St"
          ],
          [
           "2021/11/13 05:00:00+00",
           "76 Angle St"
          ],
          [
           "2021/11/13 05:00:00+00",
           "66 Pioneer St"
          ],
          [
           "2021/11/13 05:00:00+00",
           "265 Driving Park Ave"
          ],
          [
           "2021/11/12 05:00:00+00",
           "618 Upper Falls Blvd"
          ],
          [
           "2021/11/12 05:00:00+00",
           "493 West Ave"
          ],
          [
           "2021/11/11 05:00:00+00",
           "851 Fernwood Pk"
          ],
          [
           "2021/11/09 05:00:00+00",
           "1 Henion St"
          ],
          [
           "2021/11/09 05:00:00+00",
           "1 Henion St"
          ],
          [
           "2021/11/09 05:00:00+00",
           "1 Henion St"
          ],
          [
           "2021/11/09 05:00:00+00",
           "1 Henion St"
          ],
          [
           "2021/11/09 05:00:00+00",
           "1282 North St"
          ],
          [
           "2021/11/08 05:00:00+00",
           "23 Wentworth St"
          ],
          [
           "2021/11/05 04:00:00+00",
           "407 Seyle Ter"
          ],
          [
           "2021/11/04 04:00:00+00",
           "36 Hollenbeck St"
          ],
          [
           "2021/03/22 04:00:00+00",
           "411 Cottage St"
          ],
          [
           "2020/11/09 05:00:00+00",
           "218 4th St"
          ],
          [
           "2021/03/21 04:00:00+00",
           "23 7th St"
          ],
          [
           "2020/11/08 05:00:00+00",
           "439 Central Ave"
          ],
          [
           "2021/03/21 04:00:00+00",
           "23 7th St"
          ],
          [
           "2020/11/06 05:00:00+00",
           "36 Cunningham St"
          ],
          [
           "2020/11/06 05:00:00+00",
           "735 Norton St"
          ],
          [
           "2020/11/06 05:00:00+00",
           "735 Norton St"
          ],
          [
           "2020/11/05 05:00:00+00",
           "124 Maryland St"
          ],
          [
           "2020/11/05 05:00:00+00",
           "266 Garson Ave"
          ],
          [
           "2020/11/04 05:00:00+00",
           "201 Fernwood Ave"
          ],
          [
           "2020/11/02 05:00:00+00",
           "615 W Main St"
          ],
          [
           "2020/11/01 04:00:00+00",
           "429 State St"
          ],
          [
           "2020/11/01 04:00:00+00",
           "429 State St"
          ],
          [
           "2020/10/24 04:00:00+00",
           "73 Rauber St"
          ],
          [
           "2020/10/24 04:00:00+00",
           "28 Post Ave"
          ],
          [
           "2020/10/24 04:00:00+00",
           "124 Burlington Ave"
          ],
          [
           "2020/10/24 04:00:00+00",
           "91 Taylor St"
          ],
          [
           "2020/10/24 04:00:00+00",
           "799 W Main St"
          ],
          [
           "2020/10/24 04:00:00+00",
           "514 Magee Ave"
          ],
          [
           "2020/10/21 04:00:00+00",
           "227 Genesee St"
          ],
          [
           "2020/10/21 04:00:00+00",
           "86 Santee St"
          ],
          [
           "2020/10/21 04:00:00+00",
           "86 Santee St"
          ],
          [
           "2020/10/20 04:00:00+00",
           "799 N Clinton Ave"
          ],
          [
           "2020/10/19 04:00:00+00",
           "630 W Ridge Rd"
          ],
          [
           "2020/10/19 04:00:00+00",
           "1168 Dewey Ave"
          ],
          [
           "2020/10/18 04:00:00+00",
           "1053 Clifford Ave"
          ],
          [
           "2020/10/16 04:00:00+00",
           "24 Boston St"
          ],
          [
           "2020/10/16 04:00:00+00",
           "119 Iceland Pk"
          ],
          [
           "2020/10/14 04:00:00+00",
           "695 Clifford Ave"
          ],
          [
           "2020/10/14 04:00:00+00",
           "1390 Mt Read Blvd"
          ],
          [
           "2020/10/13 04:00:00+00",
           "36 Boardman St"
          ],
          [
           "2020/10/12 04:00:00+00",
           "157 Bartlett St"
          ],
          [
           "2020/10/11 04:00:00+00",
           "211 Genesee St"
          ],
          [
           "2020/10/10 04:00:00+00",
           "384 Hawley St"
          ],
          [
           "2020/10/10 04:00:00+00",
           "384 Hawley St"
          ],
          [
           "2020/10/09 04:00:00+00",
           "12 Parkway Ave"
          ],
          [
           "2020/10/07 04:00:00+00",
           "2 New York St"
          ],
          [
           "2020/10/07 04:00:00+00",
           "569 Jefferson Ave"
          ],
          [
           "2020/10/04 04:00:00+00",
           "70 Oakman St"
          ],
          [
           "2020/10/04 04:00:00+00",
           "14 Portland Ave"
          ],
          [
           "2020/10/04 04:00:00+00",
           "1228 N Clinton Ave"
          ],
          [
           "2020/09/30 04:00:00+00",
           "1128 Norton St"
          ],
          [
           "2020/09/29 04:00:00+00",
           "587 Jefferson Ave"
          ],
          [
           "2020/09/26 04:00:00+00",
           "63 Curlew St"
          ],
          [
           "2020/09/26 04:00:00+00",
           "511 Child St"
          ],
          [
           "2020/09/26 04:00:00+00",
           "572 Chili Ave"
          ],
          [
           "2020/09/25 04:00:00+00",
           "218 Emerson St"
          ],
          [
           "2020/09/22 04:00:00+00",
           "595 Jefferson Ave"
          ],
          [
           "2020/09/21 04:00:00+00",
           "415 Remington Ave"
          ],
          [
           "2020/09/20 04:00:00+00",
           "497 Frost Ave"
          ],
          [
           "2020/09/20 04:00:00+00",
           "94 Lill St"
          ],
          [
           "2020/09/19 04:00:00+00",
           "278 Pennsylvania Ave"
          ],
          [
           "2020/09/19 04:00:00+00",
           "278 Pennsylvania Ave"
          ],
          [
           "2020/09/19 04:00:00+00",
           "278 Pennsylvania Ave"
          ],
          [
           "2020/09/19 04:00:00+00",
           "278 Pennsylvania Ave"
          ],
          [
           "2020/09/19 04:00:00+00",
           "278 Pennsylvania Ave"
          ],
          [
           "2020/09/19 04:00:00+00",
           "278 Pennsylvania Ave"
          ],
          [
           "2020/09/19 04:00:00+00",
           "278 Pennsylvania Ave"
          ],
          [
           "2020/09/19 04:00:00+00",
           "278 Pennsylvania Ave"
          ],
          [
           "2020/09/19 04:00:00+00",
           "278 Pennsylvania Ave"
          ],
          [
           "2020/09/19 04:00:00+00",
           "278 Pennsylvania Ave"
          ],
          [
           "2020/09/19 04:00:00+00",
           "278 Pennsylvania Ave"
          ],
          [
           "2020/09/19 04:00:00+00",
           "278 Pennsylvania Ave"
          ],
          [
           "2020/09/19 04:00:00+00",
           "278 Pennsylvania Ave"
          ],
          [
           "2020/09/19 04:00:00+00",
           "278 Pennsylvania Ave"
          ],
          [
           "2020/09/19 04:00:00+00",
           "390 W Main St"
          ],
          [
           "2020/09/17 04:00:00+00",
           "337 Thurston Rd"
          ],
          [
           "2020/09/12 04:00:00+00",
           "1378 Dewey Ave"
          ],
          [
           "2020/09/12 04:00:00+00",
           "801 N Goodman St"
          ],
          [
           "2020/09/11 04:00:00+00",
           "1226 N Clinton Ave"
          ],
          [
           "2020/09/11 04:00:00+00",
           "1044 North St"
          ],
          [
           "2020/09/11 04:00:00+00",
           "103 Evergreen St"
          ],
          [
           "2020/09/07 04:00:00+00",
           "159 Cady St"
          ],
          [
           "2020/08/31 04:00:00+00",
           "79 Glendale Pk"
          ],
          [
           "2020/08/31 04:00:00+00",
           "72 Wilkins St"
          ],
          [
           "2020/08/26 04:00:00+00",
           "357 Chili Ave"
          ],
          [
           "2020/08/25 04:00:00+00",
           "47 Felix St"
          ],
          [
           "2020/08/25 04:00:00+00",
           "71 Flower St"
          ],
          [
           "2020/08/25 04:00:00+00",
           "71 Flower St"
          ],
          [
           "2020/08/25 04:00:00+00",
           "71 Flower St"
          ],
          [
           "2020/08/25 04:00:00+00",
           "71 Flower St"
          ],
          [
           "2020/08/24 04:00:00+00",
           "12 Violetta St"
          ],
          [
           "2020/08/23 04:00:00+00",
           "980 Hudson Ave"
          ],
          [
           "2020/08/23 04:00:00+00",
           "173 6th St"
          ],
          [
           "2020/08/23 04:00:00+00",
           "127 Evergreen St"
          ],
          [
           "2020/08/23 04:00:00+00",
           "127 Evergreen St"
          ],
          [
           "2020/08/20 04:00:00+00",
           "580 Jefferson Ave"
          ],
          [
           "2020/08/19 04:00:00+00",
           "89 Sidney St"
          ],
          [
           "2021/03/21 04:00:00+00",
           "23 7th St"
          ],
          [
           "2021/03/21 04:00:00+00",
           "98 Lyell Ave"
          ],
          [
           "2021/03/20 04:00:00+00",
           "9 Dudley St"
          ],
          [
           "2021/03/20 04:00:00+00",
           "192 Bay St"
          ],
          [
           "2021/03/20 04:00:00+00",
           "189 Bartlett St"
          ],
          [
           "2021/03/20 04:00:00+00",
           "548 W Main St"
          ],
          [
           "2021/03/16 04:00:00+00",
           "15 Ernst St"
          ],
          [
           "2021/03/13 05:00:00+00",
           "497 Flower City Park"
          ],
          [
           "2021/03/11 05:00:00+00",
           "709 Seward St"
          ],
          [
           "2021/03/11 05:00:00+00",
           "366 Thurston Rd"
          ],
          [
           "2021/03/11 05:00:00+00",
           "366 Thurston Rd"
          ],
          [
           "2021/03/10 05:00:00+00",
           "952 Hudson Ave"
          ],
          [
           "2021/03/09 05:00:00+00",
           "206 Rohr St"
          ],
          [
           "2021/03/09 05:00:00+00",
           "206 Rohr St"
          ],
          [
           "2021/03/08 05:00:00+00",
           "16 Post Ave"
          ],
          [
           "2021/03/06 05:00:00+00",
           "601 Elmwood Ave"
          ],
          [
           "2021/03/06 05:00:00+00",
           "228 Augustine St"
          ],
          [
           "2021/02/27 05:00:00+00",
           "355 Wilkins St"
          ],
          [
           "2021/02/27 05:00:00+00",
           "422 Magnolia St"
          ],
          [
           "2021/02/27 05:00:00+00",
           "312 Tremont St"
          ],
          [
           "2021/02/21 05:00:00+00",
           "98 Lyell Ave"
          ],
          [
           "2021/02/21 05:00:00+00",
           "1426 Lake Ave"
          ],
          [
           "2021/02/20 05:00:00+00",
           "1514 Dewey Ave"
          ],
          [
           "2021/02/13 05:00:00+00",
           "1688 Clifford Ave"
          ],
          [
           "2021/02/13 05:00:00+00",
           "1408 Lake Ave"
          ],
          [
           "2021/02/06 05:00:00+00",
           "822 Clifford Ave"
          ],
          [
           "2021/02/03 05:00:00+00",
           "84 Harris St"
          ],
          [
           "2021/02/01 05:00:00+00",
           "200 Lyell Ave"
          ],
          [
           "2021/02/01 05:00:00+00",
           "424 Lyell Ave"
          ],
          [
           "2021/02/01 05:00:00+00",
           "424 Lyell Ave"
          ],
          [
           "2021/02/01 05:00:00+00",
           "424 Lyell Ave"
          ],
          [
           "2021/01/31 05:00:00+00",
           "799 W Main St"
          ],
          [
           "2021/01/28 05:00:00+00",
           "226 Dr Samuel McCree Way"
          ],
          [
           "2021/01/28 05:00:00+00",
           "226 Dr Samuel McCree Way"
          ],
          [
           "2021/01/21 05:00:00+00",
           "61 Champlain St"
          ],
          [
           "2021/01/20 05:00:00+00",
           "311 Frost Ave #2"
          ],
          [
           "2021/01/18 05:00:00+00",
           "615 Thurston Rd"
          ],
          [
           "2021/01/18 05:00:00+00",
           "19 Dove St"
          ],
          [
           "2021/01/18 05:00:00+00",
           "19 Dove St"
          ],
          [
           "2021/01/16 05:00:00+00",
           "239 Parsells Ave"
          ],
          [
           "2021/01/16 05:00:00+00",
           "239 Parsells Ave"
          ],
          [
           "2021/01/16 05:00:00+00",
           "171 Masseth St"
          ],
          [
           "2021/01/11 05:00:00+00",
           "900 Joseph Ave"
          ],
          [
           "2021/01/09 05:00:00+00",
           "31 Wellington Ave"
          ],
          [
           "2021/01/02 05:00:00+00",
           "844 N Plymouth Ave"
          ],
          [
           "2021/01/01 05:00:00+00",
           "6 Stanley St"
          ],
          [
           "2021/01/01 05:00:00+00",
           "62 Danforth St"
          ],
          [
           "2020/12/25 05:00:00+00",
           "60 Ferndale Cres"
          ],
          [
           "2020/12/25 05:00:00+00",
           "88 Saxton St"
          ],
          [
           "2020/12/25 05:00:00+00",
           "88 Saxton St"
          ],
          [
           "2020/12/24 05:00:00+00",
           "307 Wilkins St"
          ],
          [
           "2020/12/22 05:00:00+00",
           "385 Hague St"
          ],
          [
           "2020/12/21 05:00:00+00",
           "720 N Goodman St"
          ],
          [
           "2020/12/19 05:00:00+00",
           "50 Resolute Cir"
          ],
          [
           "2020/12/17 05:00:00+00",
           "214 Ave C"
          ],
          [
           "2020/12/13 05:00:00+00",
           "24 DeJonge St"
          ],
          [
           "2020/12/12 05:00:00+00",
           "507 Maple St"
          ],
          [
           "2020/12/10 05:00:00+00",
           "312 Lake Ave  #1"
          ],
          [
           "2020/12/10 05:00:00+00",
           "312 Lake Ave  #1"
          ],
          [
           "2020/12/09 05:00:00+00",
           "886 N Clinton Ave"
          ],
          [
           "2020/12/09 05:00:00+00",
           "184 Cummings St"
          ],
          [
           "2020/12/09 05:00:00+00",
           "184 Cummings St"
          ],
          [
           "2020/12/09 05:00:00+00",
           "256 Weyl St"
          ],
          [
           "2020/12/09 05:00:00+00",
           "256 Weyl St"
          ],
          [
           "2020/12/07 05:00:00+00",
           "289 Roslyn St"
          ],
          [
           "2020/12/06 05:00:00+00",
           "1361 Lake Ave"
          ],
          [
           "2020/12/06 05:00:00+00",
           "1361 Lake Ave"
          ],
          [
           "2020/12/06 05:00:00+00",
           "174 Durnan St"
          ],
          [
           "2020/12/06 05:00:00+00",
           "1020 Portland Ave"
          ],
          [
           "2020/12/03 05:00:00+00",
           "1469 Lake Ave"
          ],
          [
           "2020/11/28 05:00:00+00",
           "86 Saranac St"
          ],
          [
           "2020/11/28 05:00:00+00",
           "86 Saranac St"
          ],
          [
           "2020/11/27 05:00:00+00",
           "1416 Culver Rd"
          ],
          [
           "2020/11/25 05:00:00+00",
           "210 Ave A"
          ],
          [
           "2020/11/25 05:00:00+00",
           "13 Henion St"
          ],
          [
           "2020/11/24 05:00:00+00",
           "886 N Clinton Ave"
          ],
          [
           "2020/11/24 05:00:00+00",
           "321 Post Ave"
          ],
          [
           "2020/11/20 05:00:00+00",
           "1625 St Paul St"
          ],
          [
           "2020/11/20 05:00:00+00",
           "734 Seward St"
          ],
          [
           "2020/11/18 05:00:00+00",
           "54 Ketchum St"
          ],
          [
           "2020/11/16 05:00:00+00",
           "272 Parkway Ave"
          ],
          [
           "2020/11/15 05:00:00+00",
           "322 Cottage St"
          ],
          [
           "2020/11/11 05:00:00+00",
           "4 New York St"
          ],
          [
           "2020/11/10 05:00:00+00",
           "1425 Portland Ave"
          ],
          [
           "2020/08/18 04:00:00+00",
           "845 Arnett Blvd"
          ],
          [
           "2020/08/15 04:00:00+00",
           "294 Rugby Ave"
          ],
          [
           "2020/08/15 04:00:00+00",
           "501 Thurston Rd"
          ],
          [
           "2020/08/15 04:00:00+00",
           "501 Thurston Rd"
          ],
          [
           "2020/08/15 04:00:00+00",
           "501 Thurston Rd"
          ],
          [
           "2020/08/15 04:00:00+00",
           "501 Thurston Rd"
          ],
          [
           "2020/08/15 04:00:00+00",
           "501 Thurston Rd"
          ],
          [
           "2020/08/14 04:00:00+00",
           "694 Genesee St"
          ],
          [
           "2020/08/14 04:00:00+00",
           "709 N Plymouth Ave"
          ],
          [
           "2020/08/13 04:00:00+00",
           "578 Potomac St"
          ],
          [
           "2020/08/13 04:00:00+00",
           "152 Santee St"
          ],
          [
           "2020/08/12 04:00:00+00",
           "93 Bartlett St"
          ],
          [
           "2020/08/11 04:00:00+00",
           "408 Glenwood Ave"
          ],
          [
           "2020/08/09 04:00:00+00",
           "1010 Joseph Ave"
          ],
          [
           "2020/08/09 04:00:00+00",
           "294 Rugby Ave"
          ],
          [
           "2020/08/08 04:00:00+00",
           "77 Ketchum St"
          ],
          [
           "2020/08/08 04:00:00+00",
           "123 Upper Falls Blvd"
          ],
          [
           "2020/08/06 04:00:00+00",
           "334 Roycroft Dr"
          ],
          [
           "2020/08/06 04:00:00+00",
           "334 Roycroft Dr"
          ],
          [
           "2020/08/06 04:00:00+00",
           "67 Langslow St"
          ],
          [
           "2020/08/05 04:00:00+00",
           "16 Sherwood Ave"
          ],
          [
           "2020/08/03 04:00:00+00",
           "681 Lexington Ave"
          ],
          [
           "2020/08/03 04:00:00+00",
           "681 Lexington Ave"
          ],
          [
           "2020/08/01 04:00:00+00",
           "112 Rauber St"
          ],
          [
           "2020/07/29 04:00:00+00",
           "1098 N Goodman St"
          ],
          [
           "2020/07/28 04:00:00+00",
           "100 Iceland Pk"
          ],
          [
           "2020/07/26 04:00:00+00",
           "14 Anson Pl"
          ],
          [
           "2020/07/26 04:00:00+00",
           "30 N Union St"
          ],
          [
           "2020/07/26 04:00:00+00",
           "216 Hudson Ave"
          ],
          [
           "2020/07/24 04:00:00+00",
           "757 N Clinton Ave"
          ],
          [
           "2020/07/24 04:00:00+00",
           "415 Orchard St"
          ],
          [
           "2020/07/24 04:00:00+00",
           "196 Hudson Ave"
          ],
          [
           "2020/07/23 04:00:00+00",
           "506 Jay St"
          ],
          [
           "2020/07/23 04:00:00+00",
           "70 Chili Ave"
          ],
          [
           "2020/07/23 04:00:00+00",
           "13 Iceland Pk"
          ],
          [
           "2020/07/22 04:00:00+00",
           "419 Flint St"
          ],
          [
           "2020/07/21 04:00:00+00",
           "168 Birr St"
          ],
          [
           "2020/07/21 04:00:00+00",
           "191 Hollenbeck St"
          ],
          [
           "2020/07/19 04:00:00+00",
           "33 Vose St"
          ],
          [
           "2020/07/17 04:00:00+00",
           "40 Kohlman St"
          ],
          [
           "2020/07/17 04:00:00+00",
           "1019 W Broad St"
          ],
          [
           "2020/07/16 04:00:00+00",
           "1149 Clifford Ave"
          ],
          [
           "2020/07/15 04:00:00+00",
           "155 N Union St"
          ],
          [
           "2020/07/15 04:00:00+00",
           "1425 Portland Ave"
          ],
          [
           "2020/07/15 04:00:00+00",
           "198 Ave C"
          ],
          [
           "2020/07/13 04:00:00+00",
           "573 S Goodman St"
          ],
          [
           "2020/07/12 04:00:00+00",
           "301 Wilkins St"
          ],
          [
           "2020/07/12 04:00:00+00",
           "301 Wilkins St"
          ],
          [
           "2020/07/11 04:00:00+00",
           "444 N Clinton Ave"
          ],
          [
           "2020/07/11 04:00:00+00",
           "444 N Clinton Ave"
          ],
          [
           "2020/07/11 04:00:00+00",
           "444 N Clinton Ave"
          ],
          [
           "2020/07/11 04:00:00+00",
           "444 N Clinton Ave"
          ],
          [
           "2020/07/11 04:00:00+00",
           "444 N Clinton Ave"
          ],
          [
           "2020/07/11 04:00:00+00",
           "444 N Clinton Ave"
          ],
          [
           "2020/07/06 04:00:00+00",
           "184 Flanders St"
          ],
          [
           "2020/07/06 04:00:00+00",
           "184 Flanders St"
          ],
          [
           "2020/07/05 04:00:00+00",
           "410 Chili Ave"
          ],
          [
           "2020/07/05 04:00:00+00",
           "410 Chili Ave"
          ],
          [
           "2020/07/05 04:00:00+00",
           "410 Chili Ave"
          ],
          [
           "2020/07/05 04:00:00+00",
           "1384 N Clinton Ave"
          ],
          [
           "2020/07/05 04:00:00+00",
           "42 Rugby Ave"
          ],
          [
           "2020/07/05 04:00:00+00",
           "287 Pennsylvania Av"
          ],
          [
           "2020/07/05 04:00:00+00",
           "199 Lyell Ave"
          ],
          [
           "2020/07/05 04:00:00+00",
           "448 Alphonse St"
          ],
          [
           "2020/07/04 04:00:00+00",
           "211 Saratoga Ave"
          ],
          [
           "2020/07/04 04:00:00+00",
           "318 Conkey Ave"
          ],
          [
           "2020/07/04 04:00:00+00",
           "397 Bernard St"
          ],
          [
           "2020/07/04 04:00:00+00",
           "428 Jefferson Ave"
          ],
          [
           "2020/07/04 04:00:00+00",
           "428 Jefferson Ave"
          ],
          [
           "2020/06/30 04:00:00+00",
           "28 Bremen St"
          ],
          [
           "2020/06/29 04:00:00+00",
           "78 Dewey Ave"
          ],
          [
           "2020/06/29 04:00:00+00",
           "81 Jones Ave"
          ],
          [
           "2020/06/28 04:00:00+00",
           "928 N Clinton Ave"
          ],
          [
           "2020/06/27 04:00:00+00",
           "220 Gregory St"
          ],
          [
           "2020/06/27 04:00:00+00",
           "53 Woodward St"
          ],
          [
           "2020/06/26 04:00:00+00",
           "142 Weld St"
          ],
          [
           "2020/06/26 04:00:00+00",
           "20 Canary St"
          ],
          [
           "2020/06/25 04:00:00+00",
           "890 N Plymouth Ave"
          ],
          [
           "2020/06/25 04:00:00+00",
           "124 Colvin St"
          ],
          [
           "2020/06/21 04:00:00+00",
           "45 Lorimer St"
          ],
          [
           "2020/06/19 04:00:00+00",
           "38 Violetta St"
          ],
          [
           "2020/06/19 04:00:00+00",
           "439 Magnolia St"
          ],
          [
           "2020/06/16 04:00:00+00",
           "928 N Clinton"
          ],
          [
           "2020/06/15 04:00:00+00",
           "85 Evangeline St"
          ],
          [
           "2020/06/15 04:00:00+00",
           "444 Lyell Ave"
          ],
          [
           "2020/06/14 04:00:00+00",
           "1140 Lyell Ave"
          ],
          [
           "2020/06/14 04:00:00+00",
           "975 Ave D"
          ],
          [
           "2020/06/13 04:00:00+00",
           "18 Langham St"
          ],
          [
           "2021/08/13 04:00:00+00",
           "1800 St Paul St"
          ],
          [
           "2019/12/21 05:00:00+00",
           "886 N. Clinton Ave"
          ],
          [
           "2019/12/19 05:00:00+00",
           "14 Forbes St"
          ],
          [
           "2021/08/12 04:00:00+00",
           "222 Bernard St"
          ],
          [
           "2021/08/11 04:00:00+00",
           "302 Webster Ave"
          ],
          [
           "2021/08/10 04:00:00+00",
           "462 Remington St"
          ],
          [
           "2019/12/14 05:00:00+00",
           "661 Garson Ave"
          ],
          [
           "2021/08/07 04:00:00+00",
           "81 Lake Ave"
          ],
          [
           "2019/12/08 05:00:00+00",
           "78 McKinster St"
          ],
          [
           "2021/08/07 04:00:00+00",
           "121 Lincoln Ave"
          ],
          [
           "2019/12/07 05:00:00+00",
           "886 N. Clinton Ave"
          ],
          [
           "2021/08/07 04:00:00+00",
           "121 Lincoln Ave"
          ],
          [
           "2019/11/29 05:00:00+00",
           "375 W. Ridge Rd"
          ],
          [
           "2019/11/28 05:00:00+00",
           "53 Clifton St"
          ],
          [
           "2019/11/27 05:00:00+00",
           "18 Knickerbocker Ave"
          ],
          [
           "2019/11/25 05:00:00+00",
           "265 Driving Park Ave"
          ],
          [
           "2019/11/25 05:00:00+00",
           "265 Driving Park Ave"
          ],
          [
           "2019/11/25 05:00:00+00",
           "1 Dewey Ave"
          ],
          [
           "2019/11/23 05:00:00+00",
           "1694 Clifford Ave"
          ],
          [
           "2019/11/23 05:00:00+00",
           "1228 N. Clinton Ave"
          ],
          [
           "2019/11/23 05:00:00+00",
           "1228 N. Clinton Ave"
          ],
          [
           "2019/11/21 05:00:00+00",
           "49 5th St"
          ],
          [
           "2019/11/21 05:00:00+00",
           "79 Cuba Pl"
          ],
          [
           "2019/11/18 05:00:00+00",
           "14 Costar St"
          ],
          [
           "2019/11/18 05:00:00+00",
           "14 Costar St"
          ],
          [
           "2019/11/18 05:00:00+00",
           "14 Costar St"
          ],
          [
           "2019/11/18 05:00:00+00",
           "422 Grand Ave"
          ],
          [
           "2019/11/14 05:00:00+00",
           "546 Hague St"
          ],
          [
           "2019/11/13 05:00:00+00",
           "384 Glenwood Ave"
          ],
          [
           "2019/11/10 05:00:00+00",
           "242 Hawley St"
          ],
          [
           "2019/11/10 05:00:00+00",
           "242 Hawley St"
          ],
          [
           "2019/11/09 05:00:00+00",
           "421 Lyell Ave"
          ],
          [
           "2019/11/03 04:00:00+00",
           "27 Finch St"
          ],
          [
           "2019/11/01 04:00:00+00",
           "173 Anderson Ave"
          ],
          [
           "2019/10/29 04:00:00+00",
           "291 Jefferson Ave"
          ],
          [
           "2019/10/26 04:00:00+00",
           "392 Aberdeen St"
          ],
          [
           "2019/10/21 04:00:00+00",
           "54 Aebersold St"
          ],
          [
           "2019/10/15 04:00:00+00",
           "149 Shelter St"
          ],
          [
           "2019/10/15 04:00:00+00",
           "1688 Clifford Ave"
          ],
          [
           "2019/10/11 04:00:00+00",
           "28 Caroline St"
          ],
          [
           "2019/10/08 04:00:00+00",
           "222 Earl St"
          ],
          [
           "2019/10/07 04:00:00+00",
           "296 Ave A"
          ],
          [
           "2019/10/01 04:00:00+00",
           "406 Champlain St"
          ],
          [
           "2019/09/29 04:00:00+00",
           "262 Birr St"
          ],
          [
           "2019/09/26 04:00:00+00",
           "34 Evergreen St"
          ],
          [
           "2019/09/26 04:00:00+00",
           "862 Hudson Ave"
          ],
          [
           "2019/09/25 04:00:00+00",
           "182 Ave D"
          ],
          [
           "2019/09/20 04:00:00+00",
           "720 Monroe Ave"
          ],
          [
           "2019/09/15 04:00:00+00",
           "627 Hudson Ave"
          ],
          [
           "2019/09/10 04:00:00+00",
           "666 Jefferson Ave"
          ],
          [
           "2019/09/04 04:00:00+00",
           "191 Bay St"
          ],
          [
           "2019/09/01 04:00:00+00",
           "339 Wilkins St"
          ],
          [
           "2019/08/14 04:00:00+00",
           "126 Chevalin St"
          ],
          [
           "2019/08/10 04:00:00+00",
           "252 Roycroft Dr"
          ],
          [
           "2019/08/05 04:00:00+00",
           "1625 St. Paul St"
          ],
          [
           "2019/08/03 04:00:00+00",
           "187 Orange St"
          ],
          [
           "2019/08/01 04:00:00+00",
           "391 Chili Ave"
          ],
          [
           "2019/07/30 04:00:00+00",
           "1787 Norton St"
          ],
          [
           "2019/07/21 04:00:00+00",
           "29 Pierpont St"
          ],
          [
           "2019/07/21 04:00:00+00",
           "266 Cottage St"
          ],
          [
           "2019/07/20 04:00:00+00",
           "1425 Portland Ave"
          ],
          [
           "2019/07/20 04:00:00+00",
           "1098 Genesee Park Blvd"
          ],
          [
           "2019/07/20 04:00:00+00",
           "904 Joseph Ave"
          ],
          [
           "2019/07/17 04:00:00+00",
           "239 Rugby Ave"
          ],
          [
           "2019/07/17 04:00:00+00",
           "239 Rugby Ave"
          ],
          [
           "2019/07/17 04:00:00+00",
           "239 Rugby Ave"
          ],
          [
           "2019/07/15 04:00:00+00",
           "9 Hoeltzer St"
          ],
          [
           "2019/07/15 04:00:00+00",
           "9 Laforce St"
          ],
          [
           "2019/07/12 04:00:00+00",
           "36 Kohlman St"
          ],
          [
           "2019/07/10 04:00:00+00",
           "398 West Main St"
          ],
          [
           "2019/07/10 04:00:00+00",
           "969 N. Plymouth Ave"
          ],
          [
           "2019/07/07 04:00:00+00",
           "205 Bay St"
          ],
          [
           "2019/07/07 04:00:00+00",
           "240 Ave C"
          ],
          [
           "2019/07/05 04:00:00+00",
           "256 Ave C"
          ],
          [
           "2019/07/01 04:00:00+00",
           "42 Ripley St"
          ],
          [
           "2019/07/01 04:00:00+00",
           "42 Ripley St"
          ],
          [
           "2019/07/01 04:00:00+00",
           "923 S. Clinton Ave"
          ],
          [
           "2019/07/01 04:00:00+00",
           "525 Arnett Blvd"
          ],
          [
           "2019/06/28 04:00:00+00",
           "146 Durnan St"
          ],
          [
           "2019/06/27 04:00:00+00",
           "544 Jay St"
          ],
          [
           "2019/06/27 04:00:00+00",
           "544 Jay St"
          ],
          [
           "2019/06/27 04:00:00+00",
           "634 Thurston Rd"
          ],
          [
           "2019/06/24 04:00:00+00",
           "308 Wilkins St"
          ],
          [
           "2019/06/22 04:00:00+00",
           "4 Lincoln St"
          ],
          [
           "2019/06/21 04:00:00+00",
           "172 Roycroft Dr"
          ],
          [
           "2019/06/18 04:00:00+00",
           "39 Niagara St"
          ],
          [
           "2019/06/18 04:00:00+00",
           "31 Columbia Ave"
          ],
          [
           "2019/06/15 04:00:00+00",
           "430 Thurston Rd"
          ],
          [
           "2019/06/15 04:00:00+00",
           "430 Thurston Rd"
          ],
          [
           "2019/06/15 04:00:00+00",
           "516 Columbia Ave"
          ],
          [
           "2019/06/15 04:00:00+00",
           "72 Midland Ave"
          ],
          [
           "2019/06/09 04:00:00+00",
           "518 Tremont St"
          ],
          [
           "2019/06/08 04:00:00+00",
           "21 Lorimer St"
          ],
          [
           "2019/06/08 04:00:00+00",
           "21 Richmond St"
          ],
          [
           "2021/08/07 04:00:00+00",
           "63 Lakeview Pk"
          ],
          [
           "2021/08/07 04:00:00+00",
           "42 Backus St"
          ],
          [
           "2021/08/07 04:00:00+00",
           "537 Hague St"
          ],
          [
           "2021/08/07 04:00:00+00",
           "1 Falls St"
          ],
          [
           "2021/08/06 04:00:00+00",
           "368 Portland Ave"
          ],
          [
           "2021/08/05 04:00:00+00",
           "364 Melville St"
          ],
          [
           "2021/08/03 04:00:00+00",
           "241 Hollenbeck St"
          ],
          [
           "2021/07/31 04:00:00+00",
           "1564 St Paul St"
          ],
          [
           "2021/07/30 04:00:00+00",
           "504 Lyell Ave"
          ],
          [
           "2021/07/30 04:00:00+00",
           "32 Violetta St"
          ],
          [
           "2021/07/29 04:00:00+00",
           "98 Lyell Ave"
          ],
          [
           "2021/07/28 04:00:00+00",
           "160 Dr. Samuel McCree Way"
          ],
          [
           "2021/07/28 04:00:00+00",
           "176 5th St"
          ],
          [
           "2021/07/28 04:00:00+00",
           "44 Wabash St"
          ],
          [
           "2021/07/27 04:00:00+00",
           "117 Dewey Ave"
          ],
          [
           "2021/07/26 04:00:00+00",
           "696 South Ave"
          ],
          [
           "2021/07/26 04:00:00+00",
           "106 Dewey Ave"
          ],
          [
           "2021/07/25 04:00:00+00",
           "6 Dove St"
          ],
          [
           "2021/07/25 04:00:00+00",
           "170 Lewis St"
          ],
          [
           "2021/07/20 04:00:00+00",
           "219 Sherman St"
          ],
          [
           "2021/07/20 04:00:00+00",
           "862 Hudson Ave"
          ],
          [
           "2021/07/18 04:00:00+00",
           "552 Driving Park Ave"
          ],
          [
           "2021/07/17 04:00:00+00",
           "173 Anderson Ave"
          ],
          [
           "2021/07/17 04:00:00+00",
           "173 Anderson Ave"
          ],
          [
           "2021/07/17 04:00:00+00",
           "173 Anderson Ave"
          ],
          [
           "2021/07/17 04:00:00+00",
           "320 Hollenbeck St"
          ],
          [
           "2021/07/11 04:00:00+00",
           "601 Elmwood Ave"
          ],
          [
           "2021/07/10 04:00:00+00",
           "321 Post Ave"
          ],
          [
           "2021/07/10 04:00:00+00",
           "24 Oriole St"
          ],
          [
           "2021/07/09 04:00:00+00",
           "480 Conkey Ave"
          ],
          [
           "2021/07/07 04:00:00+00",
           "1287 North St"
          ],
          [
           "2021/07/07 04:00:00+00",
           "9 Judson St"
          ],
          [
           "2021/07/06 04:00:00+00",
           "300 Bremen St"
          ],
          [
           "2021/07/05 04:00:00+00",
           "751 Dewey Ave"
          ],
          [
           "2021/07/05 04:00:00+00",
           "751 Dewey Ave"
          ],
          [
           "2021/07/05 04:00:00+00",
           "751 Dewey Ave"
          ],
          [
           "2021/07/02 04:00:00+00",
           "439 Magnolia St"
          ],
          [
           "2021/07/02 04:00:00+00",
           "439 Magnolia St"
          ],
          [
           "2021/07/02 04:00:00+00",
           "1360 Dewey Ave"
          ],
          [
           "2021/06/29 04:00:00+00",
           "155 E Main St"
          ],
          [
           "2021/06/28 04:00:00+00",
           "747 Joseph Ave"
          ],
          [
           "2021/06/28 04:00:00+00",
           "1490 Hudson Ave"
          ],
          [
           "2021/06/28 04:00:00+00",
           "1490 Hudson Ave"
          ],
          [
           "2021/06/28 04:00:00+00",
           "130 VanStallen St"
          ],
          [
           "2021/06/27 04:00:00+00",
           "330 East Ave"
          ],
          [
           "2021/06/27 04:00:00+00",
           "330 East Ave"
          ],
          [
           "2021/06/25 04:00:00+00",
           "119 Ambrose St"
          ],
          [
           "2021/06/25 04:00:00+00",
           "155 Fulton Ave"
          ],
          [
           "2021/06/25 04:00:00+00",
           "831 Genesee St"
          ],
          [
           "2021/06/24 04:00:00+00",
           "137 Weld St"
          ],
          [
           "2021/06/23 04:00:00+00",
           "536 Jay St"
          ],
          [
           "2021/06/23 04:00:00+00",
           "690 N Goodman St"
          ],
          [
           "2021/06/23 04:00:00+00",
           "690 N Goodman St"
          ],
          [
           "2021/06/22 04:00:00+00",
           "380 W Ridge Ave"
          ],
          [
           "2021/06/22 04:00:00+00",
           "1064 Clifford Ave"
          ],
          [
           "2021/06/21 04:00:00+00",
           "39 Clay Ave"
          ],
          [
           "2021/06/21 04:00:00+00",
           "772 N Clinton Ave"
          ],
          [
           "2021/06/21 04:00:00+00",
           "156 Dr Samuel McCree Way"
          ],
          [
           "2021/06/21 04:00:00+00",
           "436 Magnolia St"
          ],
          [
           "2021/06/20 04:00:00+00",
           "971 Jay St"
          ],
          [
           "2021/06/20 04:00:00+00",
           "238 Tremont St"
          ],
          [
           "2021/06/19 04:00:00+00",
           "73 Thomas St"
          ],
          [
           "2021/06/18 04:00:00+00",
           "380 W Ridge Ave"
          ],
          [
           "2021/06/17 04:00:00+00",
           "565 Chili Ave"
          ],
          [
           "2021/06/16 04:00:00+00",
           "293 Melville St"
          ],
          [
           "2021/06/15 04:00:00+00",
           "442 Genesee St"
          ],
          [
           "2021/06/14 04:00:00+00",
           "159 Selye Ter"
          ],
          [
           "2021/06/14 04:00:00+00",
           "204 Webster Ave"
          ],
          [
           "2021/06/13 04:00:00+00",
           "497 Ames St"
          ],
          [
           "2021/06/13 04:00:00+00",
           "409 Ave D"
          ],
          [
           "2021/06/12 04:00:00+00",
           "682 Genesee St"
          ],
          [
           "2021/06/12 04:00:00+00",
           "42 Bartlett St"
          ],
          [
           "2021/06/09 04:00:00+00",
           "991 North St"
          ],
          [
           "2021/06/09 04:00:00+00",
           "1 Twin Beeches"
          ],
          [
           "2021/06/07 04:00:00+00",
           "554 Chili Ave"
          ],
          [
           "2021/06/05 04:00:00+00",
           "85 Luther Cir"
          ],
          [
           "2021/06/05 04:00:00+00",
           "161 Dr Samuel McCree Way"
          ],
          [
           "2021/06/05 04:00:00+00",
           "161 Dr Samuel McCree Way"
          ],
          [
           "2016/12/08 05:00:00+00",
           "54 Miller St"
          ],
          [
           "2016/12/07 05:00:00+00",
           "280 Carter St"
          ],
          [
           "2016/12/03 05:00:00+00",
           "29 Stonewood Ave"
          ],
          [
           "2016/11/27 05:00:00+00",
           "76 Masseth St"
          ],
          [
           "2016/11/26 05:00:00+00",
           "628 Genesee St"
          ],
          [
           "2016/11/24 05:00:00+00",
           "61 Hazelwood Ter"
          ],
          [
           "2016/11/20 05:00:00+00",
           "397 West Ave"
          ],
          [
           "2016/11/18 05:00:00+00",
           "640 Chili Ave"
          ],
          [
           "2016/11/13 05:00:00+00",
           "18 Fourth St"
          ],
          [
           "2019/06/05 04:00:00+00",
           "90 Copeland St"
          ],
          [
           "2016/11/07 05:00:00+00",
           "581 Jefferson Ave"
          ],
          [
           "2016/11/04 04:00:00+00",
           "85 Kosciusko St"
          ],
          [
           "2016/10/29 04:00:00+00",
           "398 Aberdeen St"
          ],
          [
           "2016/10/26 04:00:00+00",
           "1160 Jay St"
          ],
          [
           "2016/10/25 04:00:00+00",
           "55 Pardee St"
          ],
          [
           "2016/10/25 04:00:00+00",
           "55 Pardee St"
          ],
          [
           "2016/10/23 04:00:00+00",
           "37 York St"
          ],
          [
           "2016/10/22 04:00:00+00",
           "584 Jefferson Ave"
          ],
          [
           "2016/10/21 04:00:00+00",
           "833 Bay St"
          ],
          [
           "2016/10/18 04:00:00+00",
           "898 Hudson Ave"
          ],
          [
           "2016/10/17 04:00:00+00",
           "176 Lincoln St"
          ],
          [
           "2016/10/15 04:00:00+00",
           "24 Boston St"
          ],
          [
           "2016/10/14 04:00:00+00",
           "19 Kensington St"
          ],
          [
           "2016/10/12 04:00:00+00",
           "146 Weld St"
          ],
          [
           "2016/10/10 04:00:00+00",
           "470 Lyell Ave"
          ],
          [
           "2016/10/04 04:00:00+00",
           "1271 Clifford Ave"
          ],
          [
           "2016/10/02 04:00:00+00",
           "134 Kenwood Ave"
          ],
          [
           "2016/10/01 04:00:00+00",
           "29 Ketchum St"
          ],
          [
           "2016/09/28 04:00:00+00",
           "45 Sander St"
          ],
          [
           "2016/09/27 04:00:00+00",
           "65 Elgin St"
          ],
          [
           "2016/09/21 04:00:00+00",
           "16 7th St"
          ],
          [
           "2016/09/21 04:00:00+00",
           "34 Mark St"
          ],
          [
           "2016/09/20 04:00:00+00",
           "84 Dodge St"
          ],
          [
           "2016/09/16 04:00:00+00",
           "404 Central Pk"
          ],
          [
           "2016/09/14 04:00:00+00",
           "1324 N. Clinton Ave"
          ],
          [
           "2016/09/12 04:00:00+00",
           "1264 N. Clinton Ave"
          ],
          [
           "2016/09/03 04:00:00+00",
           "595 Jefferson Ave"
          ],
          [
           "2016/08/31 04:00:00+00",
           "560 Jefferson Ave"
          ],
          [
           "2016/08/27 04:00:00+00",
           "707 N. Plymouth Ave"
          ],
          [
           "2016/08/26 04:00:00+00",
           "742 Bay St"
          ],
          [
           "2016/08/26 04:00:00+00",
           "60 Jefferson Ave"
          ],
          [
           "2016/08/26 04:00:00+00",
           "60 Jefferson Ave"
          ],
          [
           "2016/08/25 04:00:00+00",
           "208 Mill St"
          ],
          [
           "2016/08/23 04:00:00+00",
           "6 Sidney St"
          ],
          [
           "2016/08/22 04:00:00+00",
           "111 Dewey Ave"
          ],
          [
           "2016/08/22 04:00:00+00",
           "111 Dewey Ave"
          ],
          [
           "2016/08/17 04:00:00+00",
           "118 Cady St"
          ],
          [
           "2016/08/13 04:00:00+00",
           "291 Wilkins St"
          ],
          [
           "2016/08/10 04:00:00+00",
           "290 Saxton St"
          ],
          [
           "2016/08/10 04:00:00+00",
           "290 Saxton St"
          ],
          [
           "2016/08/10 04:00:00+00",
           "47 Garnet St"
          ],
          [
           "2016/08/06 04:00:00+00",
           "245 Roycroft Dr"
          ],
          [
           "2016/08/06 04:00:00+00",
           "304 Ames St"
          ],
          [
           "2016/07/30 04:00:00+00",
           "200 Norton St"
          ],
          [
           "2016/07/28 04:00:00+00",
           "742 N. Clinton Ave"
          ],
          [
           "2016/07/28 04:00:00+00",
           "742 N. Clinton Ave"
          ],
          [
           "2016/07/26 04:00:00+00",
           "170 Emerson St"
          ],
          [
           "2016/07/24 04:00:00+00",
           "875 E. Main St"
          ],
          [
           "2016/07/14 04:00:00+00",
           "448 Hawley St"
          ],
          [
           "2018/03/20 04:00:00+00",
           "565 Chili Ave"
          ],
          [
           "2016/07/14 04:00:00+00",
           "5 Lapey Pl"
          ],
          [
           "2016/07/13 04:00:00+00",
           "260 Averill Ave"
          ],
          [
           "2016/07/05 04:00:00+00",
           "850 Hudson Ave"
          ],
          [
           "2016/07/05 04:00:00+00",
           "850 Hudson Ave"
          ],
          [
           "2016/07/05 04:00:00+00",
           "69 Hazelwood Terr"
          ],
          [
           "2016/07/05 04:00:00+00",
           "2 Ludwig Pk"
          ],
          [
           "2016/07/03 04:00:00+00",
           "278 Ave A"
          ],
          [
           "2016/07/02 04:00:00+00",
           "819 N Clinton Ave"
          ],
          [
           "2016/07/02 04:00:00+00",
           "819 N Clinton Ave"
          ],
          [
           "2016/06/29 04:00:00+00",
           "593 W. Broad St"
          ],
          [
           "2016/06/27 04:00:00+00",
           "349 Weaver St"
          ],
          [
           "2016/06/27 04:00:00+00",
           "264 Electric Ave"
          ],
          [
           "2016/06/26 04:00:00+00",
           "27 Rand St"
          ],
          [
           "2016/06/25 04:00:00+00",
           "550 Campbell St"
          ],
          [
           "2016/06/24 04:00:00+00",
           "22 7Th St"
          ],
          [
           "2016/06/23 04:00:00+00",
           "158 Malling Dr"
          ],
          [
           "2016/06/21 04:00:00+00",
           "385 Hague St"
          ],
          [
           "2016/06/20 04:00:00+00",
           "31 Mazda Ter"
          ],
          [
           "2016/06/19 04:00:00+00",
           "395 Hague St"
          ],
          [
           "2016/06/19 04:00:00+00",
           "395 Hague St"
          ],
          [
           "2016/06/18 04:00:00+00",
           "1624 N. Clinton Ave"
          ],
          [
           "2016/06/18 04:00:00+00",
           "691 Jefferson Ave"
          ],
          [
           "2016/06/16 04:00:00+00",
           "223 Sherman St"
          ],
          [
           "2016/06/08 04:00:00+00",
           "886 N. Clinton Ave"
          ],
          [
           "2016/06/07 04:00:00+00",
           "25 Joseph Ave"
          ],
          [
           "2016/05/31 04:00:00+00",
           "1000 N. Clinton Ave"
          ],
          [
           "2016/05/31 04:00:00+00",
           "74 Bay St"
          ],
          [
           "2016/05/30 04:00:00+00",
           "54 Waverly Pl"
          ],
          [
           "2016/05/30 04:00:00+00",
           "54 Waverly Pl"
          ],
          [
           "2019/06/03 04:00:00+00",
           "316 Flint St"
          ],
          [
           "2018/03/08 05:00:00+00",
           "35 Wabash St"
          ],
          [
           "2019/06/02 04:00:00+00",
           "457 Colvin St"
          ],
          [
           "2019/06/01 04:00:00+00",
           "186 Marne St"
          ],
          [
           "2018/03/08 05:00:00+00",
           "35 Wabash St"
          ],
          [
           "2019/06/01 04:00:00+00",
           "14 Nielson St"
          ],
          [
           "2018/02/28 05:00:00+00",
           "257 Bay St"
          ],
          [
           "2019/05/31 04:00:00+00",
           "226 Norton St"
          ],
          [
           "2018/02/23 05:00:00+00",
           "575 Jefferson Ave"
          ],
          [
           "2019/05/28 04:00:00+00",
           "338 Champlain St"
          ],
          [
           "2018/02/23 05:00:00+00",
           "11 Cady St"
          ],
          [
           "2019/05/26 04:00:00+00",
           "46 Ave C"
          ],
          [
           "2018/02/21 05:00:00+00",
           "427 Cottage St"
          ],
          [
           "2019/05/26 04:00:00+00",
           "77 Aurora St"
          ],
          [
           "2018/02/13 05:00:00+00",
           "886 N. Clinton Ave"
          ],
          [
           "2019/05/25 04:00:00+00",
           "175 Milton St"
          ],
          [
           "2019/05/22 04:00:00+00",
           "199 Weyl St"
          ],
          [
           "2018/02/07 05:00:00+00",
           "1038 Dewey Ave"
          ],
          [
           "2019/05/22 04:00:00+00",
           "63 Roycroft Dr"
          ],
          [
           "2018/02/05 05:00:00+00",
           "581 Jefferson Ave"
          ],
          [
           "2019/05/22 04:00:00+00",
           "63 Roycroft Dr"
          ],
          [
           "2018/02/05 05:00:00+00",
           "581 Jefferson Ave"
          ],
          [
           "2019/05/22 04:00:00+00",
           "63 Roycroft Dr"
          ],
          [
           "2019/05/17 04:00:00+00",
           "964 Hudson Ave"
          ],
          [
           "2019/05/17 04:00:00+00",
           "409 Glenwood Ave"
          ],
          [
           "2019/05/16 04:00:00+00",
           "33 Hancock St"
          ],
          [
           "2019/05/14 04:00:00+00",
           "230 Hudson Ave"
          ],
          [
           "2019/05/13 04:00:00+00",
           "1115 Hudson Ave"
          ],
          [
           "2019/05/11 04:00:00+00",
           "24 Quincy St"
          ],
          [
           "2019/05/06 04:00:00+00",
           "934 Hudson Ave"
          ],
          [
           "2019/05/05 04:00:00+00",
           "266 Seneca Manor Dr"
          ],
          [
           "2019/04/27 04:00:00+00",
           "246 Lyell Ave"
          ],
          [
           "2019/04/23 04:00:00+00",
           "28 Electric Ave"
          ],
          [
           "2019/04/20 04:00:00+00",
           "291 Jay St"
          ],
          [
           "2019/04/17 04:00:00+00",
           "71 Carter St"
          ],
          [
           "2019/04/14 04:00:00+00",
           "552 Bay St"
          ],
          [
           "2019/04/13 04:00:00+00",
           "419 Raines Pk"
          ],
          [
           "2019/04/12 04:00:00+00",
           "1036 N. Clinton Ave"
          ],
          [
           "2019/04/12 04:00:00+00",
           "524 Hague St"
          ],
          [
           "2019/04/11 04:00:00+00",
           "32 Remington St"
          ],
          [
           "2019/04/08 04:00:00+00",
           "165 Weyl St"
          ],
          [
           "2019/04/08 04:00:00+00",
           "35 Potter St"
          ],
          [
           "2019/04/07 04:00:00+00",
           "269 Central Ave"
          ],
          [
           "2019/04/07 04:00:00+00",
           "12 Manitou St"
          ],
          [
           "2019/04/07 04:00:00+00",
           "189 Northlane Dr"
          ],
          [
           "2019/04/07 04:00:00+00",
           "22 Shelter St"
          ],
          [
           "2019/04/06 04:00:00+00",
           "90 Kosciusko St"
          ],
          [
           "2019/03/29 04:00:00+00",
           "22 Lang St"
          ],
          [
           "2019/03/28 04:00:00+00",
           "199 Ave D"
          ],
          [
           "2019/03/26 04:00:00+00",
           "4 Glasser St"
          ],
          [
           "2019/03/18 04:00:00+00",
           "519 Hudson Ave"
          ],
          [
           "2019/03/17 04:00:00+00",
           "330 Norton St"
          ],
          [
           "2019/03/11 04:00:00+00",
           "4775 Lake Ave"
          ],
          [
           "2019/02/21 05:00:00+00",
           "245 Roycroft Dr"
          ],
          [
           "2019/02/17 05:00:00+00",
           "27 Boston St"
          ],
          [
           "2019/02/17 05:00:00+00",
           "27 Boston St"
          ],
          [
           "2019/02/17 05:00:00+00",
           "428 Magnolia St"
          ],
          [
           "2019/02/10 05:00:00+00",
           "638 Bay St"
          ],
          [
           "2019/02/10 05:00:00+00",
           "451 Webster Ave"
          ],
          [
           "2019/01/31 05:00:00+00",
           "248 Ave A"
          ],
          [
           "2019/01/31 05:00:00+00",
           "49 Villa St"
          ],
          [
           "2019/01/28 05:00:00+00",
           "1425 Portland Ave"
          ],
          [
           "2019/01/24 05:00:00+00",
           "486 Jay St"
          ],
          [
           "2019/01/21 05:00:00+00",
           "1282 Dewey Ave"
          ],
          [
           "2019/01/01 05:00:00+00",
           "10 Stout St"
          ],
          [
           "2018/12/25 05:00:00+00",
           "1514 Dewey Ave"
          ],
          [
           "2018/12/23 05:00:00+00",
           "27 Brooklyn St"
          ],
          [
           "2018/12/21 05:00:00+00",
           "19 Weyl St"
          ],
          [
           "2018/12/20 05:00:00+00",
           "18 Silver St"
          ],
          [
           "2018/12/18 05:00:00+00",
           "527 Woodbine Ave"
          ],
          [
           "2018/12/16 05:00:00+00",
           "38 Turner St"
          ],
          [
           "2018/12/11 05:00:00+00",
           "1306 Dewey Ave"
          ],
          [
           "2018/12/11 05:00:00+00",
           "5 Grace St"
          ],
          [
           "2018/12/10 05:00:00+00",
           "77 Seneca Parkway"
          ],
          [
           "2018/12/02 05:00:00+00",
           "170 5th St"
          ],
          [
           "2018/12/02 05:00:00+00",
           "1250 North St"
          ],
          [
           "2018/11/24 05:00:00+00",
           "127 Clifton St"
          ],
          [
           "2018/11/23 05:00:00+00",
           "652 Magee Ave"
          ],
          [
           "2018/11/17 05:00:00+00",
           "124 Villa St"
          ],
          [
           "2018/11/17 05:00:00+00",
           "601 Elmwood Ave"
          ],
          [
           "2018/11/17 05:00:00+00",
           "400 Grand Ave"
          ],
          [
           "2018/11/16 05:00:00+00",
           "71 N. Clinton Ave"
          ],
          [
           "2018/11/15 05:00:00+00",
           "129 Frankfort St"
          ],
          [
           "2018/11/04 04:00:00+00",
           "1425 Portland Ave"
          ],
          [
           "2018/10/28 04:00:00+00",
           "447 Lyell Ave"
          ],
          [
           "2018/10/23 04:00:00+00",
           "89 Karnes St"
          ],
          [
           "2018/10/21 04:00:00+00",
           "1226 N. Clinton Ave"
          ],
          [
           "2018/10/20 04:00:00+00",
           "146 Rutgers St"
          ],
          [
           "2018/10/19 04:00:00+00",
           "351 Ellison St"
          ],
          [
           "2018/10/17 04:00:00+00",
           "30 Quincy St"
          ],
          [
           "2018/10/16 04:00:00+00",
           "424 Jefferson Ave"
          ],
          [
           "2018/10/15 04:00:00+00",
           "540 Portland Ave"
          ],
          [
           "2018/10/10 04:00:00+00",
           "264 Post Ave"
          ],
          [
           "2018/10/10 04:00:00+00",
           "73 Frances St"
          ],
          [
           "2018/10/09 04:00:00+00",
           "604 Portland Ave"
          ],
          [
           "2018/10/06 04:00:00+00",
           "328 North St"
          ],
          [
           "2018/10/05 04:00:00+00",
           "1287 North St"
          ],
          [
           "2018/10/05 04:00:00+00",
           "31 Burrows St"
          ],
          [
           "2018/10/03 04:00:00+00",
           "598 Jefferson Ave"
          ],
          [
           "2018/01/28 05:00:00+00",
           "573 Hudson Ave"
          ],
          [
           "2018/01/24 05:00:00+00",
           "551 Meigs St"
          ],
          [
           "2018/01/24 05:00:00+00",
           "160 2nd St"
          ],
          [
           "2018/01/24 05:00:00+00",
           "160 2nd St"
          ],
          [
           "2018/01/20 05:00:00+00",
           "351 Maple St"
          ],
          [
           "2018/01/19 05:00:00+00",
           "196 Hudson Ave"
          ],
          [
           "2017/12/29 05:00:00+00",
           "1305 Dewey Ave"
          ],
          [
           "2017/12/10 05:00:00+00",
           "252 Roycroft Dr"
          ],
          [
           "2017/12/10 05:00:00+00",
           "252 Roycroft Dr"
          ],
          [
           "2017/12/09 05:00:00+00",
           "89 Teralta St"
          ],
          [
           "2017/12/09 05:00:00+00",
           "89 Teralta St"
          ],
          [
           "2017/12/08 05:00:00+00",
           "184 Birr St"
          ],
          [
           "2017/12/08 05:00:00+00",
           "86 Arch St"
          ],
          [
           "2017/12/05 05:00:00+00",
           "111 Whitney St"
          ],
          [
           "2017/12/03 05:00:00+00",
           "7 Niagara St"
          ],
          [
           "2017/12/02 05:00:00+00",
           "480 Hague St"
          ],
          [
           "2017/12/01 05:00:00+00",
           "2 Chili Ave"
          ],
          [
           "2017/12/01 05:00:00+00",
           "256 Roycroft Dr"
          ],
          [
           "2017/11/27 05:00:00+00",
           "70 2nd St"
          ],
          [
           "2017/11/26 05:00:00+00",
           "11 Terry St"
          ],
          [
           "2017/11/19 05:00:00+00",
           "1340 N. Clinton Ave"
          ],
          [
           "2017/11/19 05:00:00+00",
           "1340 N. Clinton Ave"
          ],
          [
           "2017/11/17 05:00:00+00",
           "56 Frances St"
          ],
          [
           "2017/11/15 05:00:00+00",
           "55 Ontario St"
          ],
          [
           "2017/11/10 05:00:00+00",
           "480 Hawley St"
          ],
          [
           "2017/11/09 05:00:00+00",
           "255 Parsells Ave"
          ],
          [
           "2017/11/04 04:00:00+00",
           "161 Berlin St"
          ],
          [
           "2017/11/02 04:00:00+00",
           "305 Roycroft Dr"
          ],
          [
           "2017/11/01 04:00:00+00",
           "657 Joseph Ave"
          ],
          [
           "2017/10/27 04:00:00+00",
           "595 Joseph Ave"
          ],
          [
           "2017/10/24 04:00:00+00",
           "718 Joseph Ave"
          ],
          [
           "2017/10/23 04:00:00+00",
           "178 Genesee St"
          ],
          [
           "2017/10/19 04:00:00+00",
           "4 Borchard St"
          ],
          [
           "2017/10/17 04:00:00+00",
           "360 Thurston Rd"
          ],
          [
           "2017/10/17 04:00:00+00",
           "595 Jefferson Ave"
          ],
          [
           "2017/10/15 04:00:00+00",
           "519 Dewey Ave"
          ],
          [
           "2017/10/11 04:00:00+00",
           "571 Chili Ave"
          ],
          [
           "2017/09/30 04:00:00+00",
           "25 Mazda Ter"
          ],
          [
           "2017/09/27 04:00:00+00",
           "70 Oakman St"
          ],
          [
           "2017/09/27 04:00:00+00",
           "70 Oakman St"
          ],
          [
           "2017/09/23 04:00:00+00",
           "291 Marne St"
          ],
          [
           "2017/09/21 04:00:00+00",
           "565 Tremont St"
          ],
          [
           "2017/09/19 04:00:00+00",
           "706 Smith St"
          ],
          [
           "2017/09/16 04:00:00+00",
           "1013 Portland Ave"
          ],
          [
           "2017/09/10 04:00:00+00",
           "253 Troup St"
          ],
          [
           "2017/09/09 04:00:00+00",
           "582 Child St"
          ],
          [
           "2017/09/03 04:00:00+00",
           "90 Saratoga Ave"
          ],
          [
           "2017/09/03 04:00:00+00",
           "58 Trenaman St"
          ],
          [
           "2017/09/03 04:00:00+00",
           "32 Seabrook St."
          ],
          [
           "2017/09/02 04:00:00+00",
           "444 Central Ave"
          ],
          [
           "2017/08/31 04:00:00+00",
           "208 Otis St."
          ],
          [
           "2017/08/31 04:00:00+00",
           "410 Hawley St"
          ],
          [
           "2017/08/29 04:00:00+00",
           "718 S. Plymouth Ave"
          ],
          [
           "2017/08/27 04:00:00+00",
           "36 Ferndale Cres"
          ],
          [
           "2017/08/27 04:00:00+00",
           "935 Ave D"
          ],
          [
           "2017/08/25 04:00:00+00",
           "33 Laser St"
          ],
          [
           "2017/08/23 04:00:00+00",
           "19 Bloomingdale St"
          ],
          [
           "2017/08/22 04:00:00+00",
           "155 Seward St"
          ],
          [
           "2017/08/22 04:00:00+00",
           "375 Murray St"
          ],
          [
           "2017/08/21 04:00:00+00",
           "746 Joseph Ave"
          ],
          [
           "2017/08/21 04:00:00+00",
           "746 Joseph Ave"
          ],
          [
           "2017/08/21 04:00:00+00",
           "367 Campbell St"
          ],
          [
           "2017/08/20 04:00:00+00",
           "35 Kohlman St"
          ],
          [
           "2017/08/19 04:00:00+00",
           "168 N. Union St"
          ],
          [
           "2017/08/17 04:00:00+00",
           "198 Ave C"
          ],
          [
           "2017/08/17 04:00:00+00",
           "198 Ave C"
          ],
          [
           "2017/08/17 04:00:00+00",
           "441 Maple St"
          ],
          [
           "2017/08/14 04:00:00+00",
           "395 Hudson"
          ],
          [
           "2017/08/13 04:00:00+00",
           "525 Arnett Blvd"
          ],
          [
           "2017/08/12 04:00:00+00",
           "80 Coleman Ter"
          ],
          [
           "2017/08/12 04:00:00+00",
           "180 Berlin St"
          ],
          [
           "2017/08/12 04:00:00+00",
           "63 Owen St"
          ],
          [
           "2017/08/12 04:00:00+00",
           "63 Owen St"
          ],
          [
           "2017/08/09 04:00:00+00",
           "772 N. Clinton Ave"
          ],
          [
           "2017/08/08 04:00:00+00",
           "892 N. Clinton Ave"
          ],
          [
           "2017/08/05 04:00:00+00",
           "554 Chili Ave"
          ],
          [
           "2017/08/01 04:00:00+00",
           "8 Caffery Pl"
          ],
          [
           "2017/07/30 04:00:00+00",
           "24 Mazda Ter"
          ],
          [
           "2017/07/26 04:00:00+00",
           "17 Rauber St"
          ],
          [
           "2017/07/26 04:00:00+00",
           "22 Hoeltzer St"
          ],
          [
           "2017/07/24 04:00:00+00",
           "59 Pardee St"
          ],
          [
           "2017/07/21 04:00:00+00",
           "407 Thurston Rd"
          ],
          [
           "2017/07/19 04:00:00+00",
           "55 Murray St"
          ],
          [
           "2017/07/17 04:00:00+00",
           "374 Wellington Ave"
          ],
          [
           "2017/07/14 04:00:00+00",
           "11 Ludwig Pk"
          ],
          [
           "2017/07/11 04:00:00+00",
           "11 Stunz St"
          ],
          [
           "2017/07/10 04:00:00+00",
           "311 Frost Ave #3"
          ],
          [
           "2017/07/09 04:00:00+00",
           "28 Short St"
          ],
          [
           "2017/07/09 04:00:00+00",
           "28 Short St"
          ],
          [
           "2017/07/09 04:00:00+00",
           "28 Short St"
          ],
          [
           "2017/07/08 04:00:00+00",
           "485 N. Clinton Ave"
          ],
          [
           "2017/07/07 04:00:00+00",
           "44 Townsend St"
          ],
          [
           "2017/07/07 04:00:00+00",
           "44 Townsend St"
          ],
          [
           "2017/07/07 04:00:00+00",
           "355 Bay St"
          ],
          [
           "2017/07/04 04:00:00+00",
           "9 Edmonds St"
          ],
          [
           "2017/07/04 04:00:00+00",
           "77 Earl St"
          ],
          [
           "2017/07/04 04:00:00+00",
           "305 Wilkins St"
          ],
          [
           "2017/07/04 04:00:00+00",
           "670 Thurston Rd"
          ],
          [
           "2017/07/03 04:00:00+00",
           "8 Borchard St"
          ],
          [
           "2017/06/28 04:00:00+00",
           "28 Mohawk St"
          ],
          [
           "2017/06/28 04:00:00+00",
           "28 Mohawk St"
          ],
          [
           "2017/06/26 04:00:00+00",
           "398 Thurston Rd"
          ],
          [
           "2017/06/25 04:00:00+00",
           "282 Hollenbeck St"
          ],
          [
           "2017/06/19 04:00:00+00",
           "291 Hawley St"
          ],
          [
           "2017/06/17 04:00:00+00",
           "36 Judson St"
          ],
          [
           "2017/06/13 04:00:00+00",
           "519 Hudson Ave"
          ],
          [
           "2017/06/12 04:00:00+00",
           "1650 Norton St"
          ],
          [
           "2017/06/11 04:00:00+00",
           "294 Fernwood Ave"
          ],
          [
           "2017/06/11 04:00:00+00",
           "76 Arch St"
          ],
          [
           "2017/06/06 04:00:00+00",
           "560 Jefferson Ave"
          ],
          [
           "2017/06/03 04:00:00+00",
           "196 Hudson Ave"
          ],
          [
           "2017/06/01 04:00:00+00",
           "455 Raines Pk"
          ],
          [
           "2017/05/30 04:00:00+00",
           "1364 Dewey Ave"
          ],
          [
           "2017/05/30 04:00:00+00",
           "581 Jefferson Ave"
          ],
          [
           "2017/05/30 04:00:00+00",
           "581 Jefferson Ave"
          ],
          [
           "2017/05/29 04:00:00+00",
           "262 Norton St"
          ],
          [
           "2017/05/29 04:00:00+00",
           "262 Norton St"
          ],
          [
           "2017/05/29 04:00:00+00",
           "262 Norton St"
          ],
          [
           "2017/05/29 04:00:00+00",
           "67 Wilkins St"
          ],
          [
           "2017/05/17 04:00:00+00",
           "1306 Dewey Ave"
          ],
          [
           "2017/05/13 04:00:00+00",
           "215 Tremont St"
          ],
          [
           "2017/05/13 04:00:00+00",
           "215 Tremont St"
          ],
          [
           "2017/05/13 04:00:00+00",
           "215 Tremont St"
          ],
          [
           "2017/05/13 04:00:00+00",
           "200 Berlin St"
          ],
          [
           "2017/05/12 04:00:00+00",
           "49 Arch St"
          ],
          [
           "2017/05/10 04:00:00+00",
           "1532 E. Main St"
          ],
          [
           "2017/05/02 04:00:00+00",
           "8 Bay St"
          ],
          [
           "2017/04/29 04:00:00+00",
           "1384 N. Clinton Ave"
          ],
          [
           "2017/04/24 04:00:00+00",
           "351 Maple St"
          ],
          [
           "2017/04/21 04:00:00+00",
           "682 Emerson St"
          ],
          [
           "2017/04/17 04:00:00+00",
           "711 N Goodman St."
          ],
          [
           "2017/04/16 04:00:00+00",
           "201 Rugby Ave"
          ],
          [
           "2017/04/06 04:00:00+00",
           "435 Tremont St"
          ],
          [
           "2017/04/06 04:00:00+00",
           "137 Thurston Rd"
          ],
          [
           "2017/04/04 04:00:00+00",
           "131 Bartlett St"
          ],
          [
           "2017/03/27 04:00:00+00",
           "453 Lyell Ave"
          ],
          [
           "2017/03/26 04:00:00+00",
           "33 Melville St"
          ],
          [
           "2017/03/20 04:00:00+00",
           "86 Delamaine Dr"
          ],
          [
           "2017/03/19 04:00:00+00",
           "111 Saratoga Ave"
          ],
          [
           "2017/03/12 05:00:00+00",
           "185 Rand St"
          ],
          [
           "2017/03/10 05:00:00+00",
           "19 Morrill St"
          ],
          [
           "2017/03/10 05:00:00+00",
           "19 Morrill St"
          ],
          [
           "2017/03/06 05:00:00+00",
           "1550 Clifford Ave"
          ],
          [
           "2017/02/24 05:00:00+00",
           "219 Steko Ave"
          ],
          [
           "2017/02/23 05:00:00+00",
           "1399 North St"
          ],
          [
           "2017/02/22 05:00:00+00",
           "234 Fourth St"
          ],
          [
           "2017/02/22 05:00:00+00",
           "234 Fourth St"
          ],
          [
           "2017/02/22 05:00:00+00",
           "234 Fourth St"
          ],
          [
           "2017/02/22 05:00:00+00",
           "13 Kirkland Rd"
          ],
          [
           "2017/02/22 05:00:00+00",
           "13 Kirkland Rd"
          ],
          [
           "2017/02/22 05:00:00+00",
           "13 Kirkland Rd"
          ],
          [
           "2017/02/22 05:00:00+00",
           "13 Kirkland Rd"
          ],
          [
           "2017/02/17 05:00:00+00",
           "1348 Lake Ave"
          ],
          [
           "2017/02/14 05:00:00+00",
           "445 Sawyer St"
          ],
          [
           "2017/02/13 05:00:00+00",
           "1134 S. Plymouth Ave"
          ],
          [
           "2017/02/12 05:00:00+00",
           "33 Sylvester St"
          ],
          [
           "2017/02/05 05:00:00+00",
           "566 Lexington Ave"
          ],
          [
           "2017/02/04 05:00:00+00",
           "94 Carter St"
          ],
          [
           "2017/02/03 05:00:00+00",
           "168 Ave A"
          ],
          [
           "2017/01/29 05:00:00+00",
           "540 Portland Ave"
          ],
          [
           "2017/01/24 05:00:00+00",
           "1930 Clifford Ave"
          ],
          [
           "2017/01/22 05:00:00+00",
           "21 Blakeslee St"
          ],
          [
           "2017/01/22 05:00:00+00",
           "55 Jones Pk"
          ],
          [
           "2017/01/19 05:00:00+00",
           "771 N. Plymouth Ave"
          ],
          [
           "2017/01/14 05:00:00+00",
           "25 Baldwin St"
          ],
          [
           "2017/01/09 05:00:00+00",
           "53 Watkin Ter"
          ],
          [
           "2017/01/08 05:00:00+00",
           "132 Sherwood Ave"
          ],
          [
           "2017/01/04 05:00:00+00",
           "1306 Dewey Ave"
          ],
          [
           "2017/01/01 05:00:00+00",
           "858 North St"
          ],
          [
           "2017/01/01 05:00:00+00",
           "524 W. Main St"
          ],
          [
           "2016/12/30 05:00:00+00",
           "41 Wilder St"
          ],
          [
           "2016/12/21 05:00:00+00",
           "11 Iceland Pk"
          ],
          [
           "2016/12/16 05:00:00+00",
           "19 Manitou St"
          ],
          [
           "2016/12/11 05:00:00+00",
           "395 Hague St"
          ],
          [
           "2014/12/17 05:00:00+00",
           "26 Ketchum St"
          ],
          [
           "2016/05/30 04:00:00+00",
           "156 Keller St"
          ],
          [
           "2014/12/15 05:00:00+00",
           "46 Kohlman St"
          ],
          [
           "2016/05/25 04:00:00+00",
           "380 Carter St"
          ],
          [
           "2014/12/14 05:00:00+00",
           "915 E. Main St"
          ],
          [
           "2014/12/08 05:00:00+00",
           "8 Peckham St"
          ],
          [
           "2014/12/01 05:00:00+00",
           "17 Texas St"
          ],
          [
           "2014/11/29 05:00:00+00",
           "5 Lorimer St"
          ],
          [
           "2014/11/27 05:00:00+00",
           "627 Jefferson Ave"
          ],
          [
           "2014/11/16 05:00:00+00",
           "219 Ravine Ave"
          ],
          [
           "2014/11/08 05:00:00+00",
           "129 Fifth St"
          ],
          [
           "2014/11/08 05:00:00+00",
           "85 Arnett Blvd"
          ],
          [
           "2014/11/03 05:00:00+00",
           "656 Avenue D"
          ],
          [
           "2014/10/31 04:00:00+00",
           "62 Treyer St"
          ],
          [
           "2014/10/31 04:00:00+00",
           "239 Avenue D"
          ],
          [
           "2014/10/30 04:00:00+00",
           "381 Frost Ave"
          ],
          [
           "2014/10/26 04:00:00+00",
           "137 Melville St"
          ],
          [
           "2014/10/26 04:00:00+00",
           "209 Atkinson St"
          ],
          [
           "2014/10/24 04:00:00+00",
           "210 Troup St"
          ],
          [
           "2014/10/22 04:00:00+00",
           "11 St. Casimir St"
          ],
          [
           "2014/10/22 04:00:00+00",
           "1166 Portland Ave "
          ],
          [
           "2014/10/18 04:00:00+00",
           "329 Troup St"
          ],
          [
           "2014/10/18 04:00:00+00",
           "329 Troup St"
          ],
          [
           "2014/10/16 04:00:00+00",
           "146 Clifton St"
          ],
          [
           "2014/10/14 04:00:00+00",
           "569 Chili Ave"
          ],
          [
           "2014/10/13 04:00:00+00",
           "34 Cady St"
          ],
          [
           "2014/10/11 04:00:00+00",
           "360 Thurston Rd"
          ],
          [
           "2014/10/10 04:00:00+00",
           "21 Borchard St"
          ],
          [
           "2014/10/03 04:00:00+00",
           "95 Santee St"
          ],
          [
           "2014/10/01 04:00:00+00",
           "65 Felix St"
          ],
          [
           "2014/09/27 04:00:00+00",
           "219 Monroe Ave"
          ],
          [
           "2014/09/22 04:00:00+00",
           "1288 N. Clinton Ave"
          ],
          [
           "2014/09/21 04:00:00+00",
           "51 Austin St "
          ],
          [
           "2014/09/20 04:00:00+00",
           "170 Wilkins St "
          ],
          [
           "2014/09/19 04:00:00+00",
           "236 First St"
          ],
          [
           "2014/09/18 04:00:00+00",
           "49 Aurora St"
          ],
          [
           "2014/09/15 04:00:00+00",
           "512 Bay St"
          ],
          [
           "2014/09/15 04:00:00+00",
           "184 Flanders St"
          ],
          [
           "2014/09/13 04:00:00+00",
           "77 Jewel St "
          ],
          [
           "2014/09/12 04:00:00+00",
           "31 Mazda Terr"
          ],
          [
           "2014/09/12 04:00:00+00",
           "31 Mazda Terr"
          ],
          [
           "2014/09/09 04:00:00+00",
           "112 Grand Ave"
          ],
          [
           "2014/09/09 04:00:00+00",
           "573 Flint St"
          ],
          [
           "2014/09/03 04:00:00+00",
           "955 Hudson Ave"
          ],
          [
           "2014/09/01 04:00:00+00",
           "114 Scrantom St"
          ],
          [
           "2014/09/01 04:00:00+00",
           "381 Frost Ave"
          ],
          [
           "2014/08/31 04:00:00+00",
           "857 E. Main St"
          ],
          [
           "2014/08/31 04:00:00+00",
           "105 Mohawk St"
          ],
          [
           "2014/08/31 04:00:00+00",
           "670 Jay St"
          ],
          [
           "2014/08/30 04:00:00+00",
           "16 Seth Green Dr"
          ],
          [
           "2014/08/27 04:00:00+00",
           "862 Hudson Ave"
          ],
          [
           "2014/08/23 04:00:00+00",
           "836 N. Goodman St"
          ],
          [
           "2014/08/22 04:00:00+00",
           "849 Jefferson Ave"
          ],
          [
           "2014/08/17 04:00:00+00",
           "411 Genesee St "
          ],
          [
           "2014/08/17 04:00:00+00",
           "460 Magnolia St"
          ],
          [
           "2014/08/16 04:00:00+00",
           "213 Wilkins St"
          ],
          [
           "2014/08/15 04:00:00+00",
           "301 Champlain St"
          ],
          [
           "2014/08/12 04:00:00+00",
           "1340 Dewey Ave"
          ],
          [
           "2014/08/11 04:00:00+00",
           "41 Backus St"
          ],
          [
           "2014/08/08 04:00:00+00",
           "297 Mckee Rd"
          ],
          [
           "2014/08/03 04:00:00+00",
           "788 Lake Ave"
          ],
          [
           "2014/08/03 04:00:00+00",
           "155 Hazelwood Ter"
          ],
          [
           "2014/08/03 04:00:00+00",
           "12 Oscar St"
          ],
          [
           "2014/07/28 04:00:00+00",
           "1 Orpheum St "
          ],
          [
           "2014/07/26 04:00:00+00",
           "886 N. Clinton Ave"
          ],
          [
           "2014/07/24 04:00:00+00",
           "372 Avenue A"
          ],
          [
           "2014/07/22 04:00:00+00",
           "29 Clifton St "
          ],
          [
           "2014/07/19 04:00:00+00",
           "88 Alexander St"
          ],
          [
           "2014/07/17 04:00:00+00",
           "872 N Plymouth Ave"
          ],
          [
           "2014/07/15 04:00:00+00",
           "796 Dewey Ave"
          ],
          [
           "2014/07/15 04:00:00+00",
           "447 Thurston Rd "
          ],
          [
           "2014/07/14 04:00:00+00",
           "31 Maryland St"
          ],
          [
           "2014/07/14 04:00:00+00",
           "528 Genesee St "
          ],
          [
           "2014/07/13 04:00:00+00",
           "100 Locust St"
          ],
          [
           "2014/07/05 04:00:00+00",
           "111 Harris St "
          ],
          [
           "2014/07/05 04:00:00+00",
           "111 Harris St "
          ],
          [
           "2014/07/05 04:00:00+00",
           "111 Harris St "
          ],
          [
           "2014/07/03 04:00:00+00",
           "89 Genesee St"
          ],
          [
           "2014/07/01 04:00:00+00",
           "257 Bay St"
          ],
          [
           "2014/06/30 04:00:00+00",
           "208 Atkinson St"
          ],
          [
           "2014/06/29 04:00:00+00",
           "780 Dewey Ave "
          ],
          [
           "2014/06/28 04:00:00+00",
           "859 Bay St"
          ],
          [
           "2014/06/26 04:00:00+00",
           "24 Boston St"
          ],
          [
           "2015/06/14 04:00:00+00",
           "1108 Clifford Ave"
          ],
          [
           "2014/06/26 04:00:00+00",
           "14 Burbank St "
          ],
          [
           "2014/06/24 04:00:00+00",
           "246 Driving Park Ave"
          ],
          [
           "2014/06/23 04:00:00+00",
           "720 N Goodman St"
          ],
          [
           "2014/06/20 04:00:00+00",
           "1275 Mt Read Blvd"
          ],
          [
           "2014/06/20 04:00:00+00",
           "1275 Mt Read Blvd"
          ],
          [
           "2014/06/13 04:00:00+00",
           "964 Portland Ave"
          ],
          [
           "2014/06/13 04:00:00+00",
           "315 Hayward Ave"
          ],
          [
           "2014/06/13 04:00:00+00",
           "24 Lake Vista Ct"
          ],
          [
           "2014/06/11 04:00:00+00",
           "124 Norton St "
          ],
          [
           "2014/06/11 04:00:00+00",
           "124 Norton St "
          ],
          [
           "2014/06/11 04:00:00+00",
           "720 Ave D"
          ],
          [
           "2014/06/10 04:00:00+00",
           "122 Roycroft Dr"
          ],
          [
           "2016/05/20 04:00:00+00",
           "44 Short St"
          ],
          [
           "2015/06/14 04:00:00+00",
           "1108 Clifford Ave"
          ],
          [
           "2016/05/19 04:00:00+00",
           "1052 Ave D"
          ],
          [
           "2016/05/17 04:00:00+00",
           "48 Bock St"
          ],
          [
           "2016/05/17 04:00:00+00",
           "200 Genesee St"
          ],
          [
           "2016/05/17 04:00:00+00",
           "515 Portland Ave"
          ],
          [
           "2016/05/15 04:00:00+00",
           "374 Driving Park Ave"
          ],
          [
           "2016/05/11 04:00:00+00",
           "718 Joseph Ave"
          ],
          [
           "2015/06/13 04:00:00+00",
           "368 Portland Ave"
          ],
          [
           "2016/05/09 04:00:00+00",
           "39 5Th St"
          ],
          [
           "2016/05/04 04:00:00+00",
           "31 Harris St"
          ],
          [
           "2015/06/07 04:00:00+00",
           "561 Jefferson Ave"
          ],
          [
           "2016/05/04 04:00:00+00",
           "31 Harris St"
          ],
          [
           "2016/05/04 04:00:00+00",
           "31 Harris St"
          ],
          [
           "2016/04/23 04:00:00+00",
           "1425 Portland Ave"
          ],
          [
           "2016/04/23 04:00:00+00",
           "273 Weyl St"
          ],
          [
           "2016/04/23 04:00:00+00",
           "273 Weyl St"
          ],
          [
           "2016/04/20 04:00:00+00",
           "1139 Portland Ave"
          ],
          [
           "2016/04/20 04:00:00+00",
           "561 Jefferson Ave"
          ],
          [
           "2016/04/19 04:00:00+00",
           "22 Shelter St"
          ],
          [
           "2016/04/18 04:00:00+00",
           "375 Chili Ave"
          ],
          [
           "2016/04/18 04:00:00+00",
           "375 Chili Ave"
          ],
          [
           "2016/04/18 04:00:00+00",
           "149 Emerson St"
          ],
          [
           "2016/04/04 04:00:00+00",
           "133 Rosemary Dr"
          ],
          [
           "2016/04/03 04:00:00+00",
           "433 Ave A"
          ],
          [
           "2016/04/02 04:00:00+00",
           "102 Hempel St"
          ],
          [
           "2016/04/01 04:00:00+00",
           "718 Joseph Ave"
          ],
          [
           "2016/04/01 04:00:00+00",
           "1140 Lyell Ave"
          ],
          [
           "2016/03/31 04:00:00+00",
           "299 Conkey Ave"
          ],
          [
           "2016/03/30 04:00:00+00",
           "887 Portland Ave"
          ],
          [
           "2016/03/28 04:00:00+00",
           "745 Chili Ave"
          ],
          [
           "2016/03/24 04:00:00+00",
           "456 Thurston Rd"
          ],
          [
           "2016/03/20 04:00:00+00",
           "444 Thurston Rd"
          ],
          [
           "2016/03/17 04:00:00+00",
           "332 Arnett Blvd"
          ],
          [
           "2016/03/14 04:00:00+00",
           "345 Wilkins St"
          ],
          [
           "2016/03/14 04:00:00+00",
           "39 Hollister St"
          ],
          [
           "2016/03/10 05:00:00+00",
           "18 Herald St"
          ],
          [
           "2016/03/09 05:00:00+00",
           "31 Laser St"
          ],
          [
           "2016/03/05 05:00:00+00",
           "519 Webster Ave"
          ],
          [
           "2016/03/05 05:00:00+00",
           "149 Weyl St"
          ],
          [
           "2016/02/08 05:00:00+00",
           "121 Liberty Pole Way"
          ],
          [
           "2016/02/08 05:00:00+00",
           "121 Liberty Pole Way"
          ],
          [
           "2016/02/07 05:00:00+00",
           "547 State St"
          ],
          [
           "2016/02/07 05:00:00+00",
           "547 State St"
          ],
          [
           "2016/02/07 05:00:00+00",
           "547 State St"
          ],
          [
           "2016/02/07 05:00:00+00",
           "547 State St"
          ],
          [
           "2016/02/07 05:00:00+00",
           "547 State St"
          ],
          [
           "2016/02/07 05:00:00+00",
           "547 State St"
          ],
          [
           "2016/02/07 05:00:00+00",
           "547 State St"
          ],
          [
           "2016/02/06 05:00:00+00",
           "1930 Clifford Ave"
          ],
          [
           "2016/02/03 05:00:00+00",
           "90 Locust St"
          ],
          [
           "2016/02/02 05:00:00+00",
           "83 Sander St"
          ],
          [
           "2016/02/01 05:00:00+00",
           "253 Clay Ave"
          ],
          [
           "2016/01/31 05:00:00+00",
           "83 Delmar St"
          ],
          [
           "2016/01/24 05:00:00+00",
           "5 Fenwick St"
          ],
          [
           "2016/01/18 05:00:00+00",
           "117 Magee Ave"
          ],
          [
           "2016/01/17 05:00:00+00",
           "1218 Jay St"
          ],
          [
           "2016/01/16 05:00:00+00",
           "293 Ravine St"
          ],
          [
           "2016/01/14 05:00:00+00",
           "1149 St. Paul St"
          ],
          [
           "2016/01/14 05:00:00+00",
           "1149 St. Paul St"
          ],
          [
           "2016/01/11 05:00:00+00",
           "127 Evergreen St"
          ],
          [
           "2016/01/07 05:00:00+00",
           "239 Ave A"
          ],
          [
           "2016/01/02 05:00:00+00",
           "163 N Union St"
          ],
          [
           "2015/12/31 05:00:00+00",
           "65 Hoff St"
          ],
          [
           "2015/12/24 05:00:00+00",
           "100 Superior St"
          ],
          [
           "2015/12/23 05:00:00+00",
           "700 Ave D"
          ],
          [
           "2015/12/23 05:00:00+00",
           "125 Evergreen St"
          ],
          [
           "2015/12/22 05:00:00+00",
           "574 Frost Ave"
          ],
          [
           "2015/12/22 05:00:00+00",
           "882 N. Clinton Ave"
          ],
          [
           "2015/12/21 05:00:00+00",
           "21 Bauman St"
          ],
          [
           "2015/12/19 05:00:00+00",
           "28 Austin St"
          ],
          [
           "2015/12/17 05:00:00+00",
           "81 Ellison St"
          ],
          [
           "2015/12/17 05:00:00+00",
           "751 Smith St."
          ],
          [
           "2015/12/11 05:00:00+00",
           "6 Woodrow St"
          ],
          [
           "2015/12/11 05:00:00+00",
           "121 Wilkins St"
          ],
          [
           "2015/12/08 05:00:00+00",
           "410 Smith St"
          ],
          [
           "2015/12/07 05:00:00+00",
           "8 Bay St"
          ],
          [
           "2015/12/06 05:00:00+00",
           "90 Webster Ave"
          ],
          [
           "2015/11/26 05:00:00+00",
           "266 Bay St"
          ],
          [
           "2015/11/21 05:00:00+00",
           "109 Hebard St"
          ],
          [
           "2015/11/20 05:00:00+00",
           "857 Portland Ave"
          ],
          [
           "2015/11/18 05:00:00+00",
           "919 S. Clinton Ave"
          ],
          [
           "2015/11/17 05:00:00+00",
           "436 Magnolia St"
          ],
          [
           "2015/11/17 05:00:00+00",
           "436 Magnolia St"
          ],
          [
           "2015/11/17 05:00:00+00",
           "536 Jay St"
          ],
          [
           "2015/11/13 05:00:00+00",
           "601 Elmwood Ave"
          ],
          [
           "2015/11/09 05:00:00+00",
           "429 Clifford Ave"
          ],
          [
           "2015/11/07 05:00:00+00",
           "1264 E. Main St"
          ],
          [
           "2015/11/06 05:00:00+00",
           "969 Hudson Ave"
          ],
          [
           "2015/11/06 05:00:00+00",
           "969 Hudson Ave"
          ],
          [
           "2014/06/08 04:00:00+00",
           "97 Kenwood Ave"
          ],
          [
           "2015/06/07 04:00:00+00",
           "39 Mazda Terr"
          ],
          [
           "2015/06/01 04:00:00+00",
           "1099 Clifford Ave"
          ],
          [
           "2015/06/01 04:00:00+00",
           "679 Maple St"
          ],
          [
           "2015/06/01 04:00:00+00",
           "799 N Clinton Ave"
          ],
          [
           "2015/05/30 04:00:00+00",
           "685 Thurston Rd"
          ],
          [
           "2015/05/30 04:00:00+00",
           "685 Thurston Rd"
          ],
          [
           "2015/05/28 04:00:00+00",
           "92 Ravine Ave"
          ],
          [
           "2015/05/26 04:00:00+00",
           "601 Elmwood Av"
          ],
          [
           "2015/05/25 04:00:00+00",
           "128 Columbia Av"
          ],
          [
           "2015/05/24 04:00:00+00",
           "564 Chili Av"
          ],
          [
           "2015/05/21 04:00:00+00",
           "100 Garson Av"
          ],
          [
           "2015/05/17 04:00:00+00",
           "130 Rockview Ter"
          ],
          [
           "2015/05/16 04:00:00+00",
           "188 Lewis St"
          ],
          [
           "2015/05/16 04:00:00+00",
           "188 Lewis St"
          ],
          [
           "2015/05/16 04:00:00+00",
           "188 Lewis St"
          ],
          [
           "2015/05/16 04:00:00+00",
           "188 Lewis St"
          ],
          [
           "2015/05/13 04:00:00+00",
           "9 Judson Ter"
          ],
          [
           "2015/05/08 04:00:00+00",
           "398 Aberdeen St"
          ],
          [
           "2015/05/06 04:00:00+00",
           "90 Peck St"
          ],
          [
           "2015/04/30 04:00:00+00",
           "19 Hoeltzer St"
          ],
          [
           "2015/04/29 04:00:00+00",
           "1283 N. Clinton Ave"
          ],
          [
           "2015/04/29 04:00:00+00",
           "1283 N. Clinton Ave"
          ],
          [
           "2014/06/07 04:00:00+00",
           "1401 Lyell Ave"
          ],
          [
           "2015/04/27 04:00:00+00",
           "75 Council St"
          ],
          [
           "2014/06/07 04:00:00+00",
           "1401 Lyell Ave"
          ],
          [
           "2015/04/26 04:00:00+00",
           "262 Norton St"
          ],
          [
           "2014/06/07 04:00:00+00",
           "338 Thurston Rd"
          ],
          [
           "2015/04/23 04:00:00+00",
           "399 Woodbine Ave"
          ],
          [
           "2014/06/07 04:00:00+00",
           "338 Thurston Rd"
          ],
          [
           "2015/04/21 04:00:00+00",
           "111 Harris St "
          ],
          [
           "2015/11/06 05:00:00+00",
           "969 Hudson Ave"
          ],
          [
           "2014/06/06 04:00:00+00",
           "30 N Union St"
          ],
          [
           "2014/06/06 04:00:00+00",
           "30 N Union St"
          ],
          [
           "2015/11/04 05:00:00+00",
           "598 Jefferson Ave"
          ],
          [
           "2015/04/20 04:00:00+00",
           "352 Driving Park Ave"
          ],
          [
           "2014/06/06 04:00:00+00",
           "206 Saratoga Ave"
          ],
          [
           "2014/06/05 04:00:00+00",
           "284 Penhurst St"
          ],
          [
           "2014/06/04 04:00:00+00",
           "933 Hudson Ave"
          ],
          [
           "2014/06/02 04:00:00+00",
           "161 Pennsylvania Ave"
          ],
          [
           "2014/05/31 04:00:00+00",
           "347 Frost Ave"
          ],
          [
           "2014/05/28 04:00:00+00",
           "423 First St"
          ],
          [
           "2014/05/28 04:00:00+00",
           "423 First St"
          ],
          [
           "2014/05/28 04:00:00+00",
           "27 Thomas St"
          ],
          [
           "2014/05/27 04:00:00+00",
           "360 Thurston Rd"
          ],
          [
           "2014/05/27 04:00:00+00",
           "185 Arnett Blvd"
          ],
          [
           "2014/05/26 04:00:00+00",
           "380 N. Clinton Ave"
          ],
          [
           "2014/05/26 04:00:00+00",
           "193 Weaver St"
          ],
          [
           "2014/05/23 04:00:00+00",
           "48 Lake Ave"
          ],
          [
           "2014/05/23 04:00:00+00",
           "14 Locust St"
          ],
          [
           "2014/05/22 04:00:00+00",
           "19 Wentworth St"
          ],
          [
           "2014/05/17 04:00:00+00",
           "839 Seward St"
          ],
          [
           "2014/05/10 04:00:00+00",
           "1662 St. Paul St"
          ],
          [
           "2014/05/06 04:00:00+00",
           "117 Cleon St "
          ],
          [
           "2014/04/23 04:00:00+00",
           "31 Mazda Terr"
          ],
          [
           "2014/04/22 04:00:00+00",
           "197 Genesee St"
          ],
          [
           "2014/04/16 04:00:00+00",
           "619 Sawyer St"
          ],
          [
           "2014/04/13 04:00:00+00",
           "1258 Clifford Ave"
          ],
          [
           "2014/04/13 04:00:00+00",
           "799 W. Main St"
          ],
          [
           "2014/04/12 04:00:00+00",
           "1910 Clifford Ave"
          ],
          [
           "2014/04/12 04:00:00+00",
           "1910 Clifford Ave"
          ],
          [
           "2014/04/11 04:00:00+00",
           "659 Jay St"
          ],
          [
           "2014/04/09 04:00:00+00",
           "42 Avenue A "
          ],
          [
           "2014/04/04 04:00:00+00",
           "114 Glendale Pk"
          ],
          [
           "2014/04/03 04:00:00+00",
           "886 N. Clinton Ave"
          ],
          [
           "2014/03/31 04:00:00+00",
           "28 Delamaine Dr"
          ],
          [
           "2014/03/28 04:00:00+00",
           "57 Charlotte St"
          ],
          [
           "2014/03/28 04:00:00+00",
           "233 Glenwood Ave"
          ],
          [
           "2014/03/28 04:00:00+00",
           "409 Tremont St"
          ],
          [
           "2014/03/28 04:00:00+00",
           "1063 North St"
          ],
          [
           "2014/03/23 04:00:00+00",
           "1456 N Clinton Ave"
          ],
          [
           "2014/03/23 04:00:00+00",
           "1456 N Clinton Ave"
          ],
          [
           "2014/03/22 04:00:00+00",
           "1008 Hudson Ave"
          ],
          [
           "2014/03/21 04:00:00+00",
           "20 Portage St"
          ],
          [
           "2014/03/13 04:00:00+00",
           "1216 E. Main St"
          ],
          [
           "2014/03/10 04:00:00+00",
           "584 Jefferson Ave"
          ],
          [
           "2014/03/06 05:00:00+00",
           "52 Keeler St"
          ],
          [
           "2014/03/02 05:00:00+00",
           "1456 N Clinton Ave"
          ],
          [
           "2014/02/24 05:00:00+00",
           "436 South Ave"
          ],
          [
           "2014/02/22 05:00:00+00",
           "1017 Culver Rd"
          ],
          [
           "2014/02/21 05:00:00+00",
           "158 Palm St"
          ],
          [
           "2014/02/10 05:00:00+00",
           "115 Gothic St"
          ],
          [
           "2014/02/08 05:00:00+00",
           "475 Lyell Ave"
          ],
          [
           "2014/01/28 05:00:00+00",
           "21 Masseth St"
          ],
          [
           "2014/01/27 05:00:00+00",
           "359 Wilkins St"
          ],
          [
           "2014/01/26 05:00:00+00",
           "780 Brown St"
          ],
          [
           "2014/01/20 05:00:00+00",
           "108 Jefferson Ave"
          ],
          [
           "2014/01/18 05:00:00+00",
           "86 Grafton St"
          ],
          [
           "2014/01/16 05:00:00+00",
           "165 Durnan St"
          ],
          [
           "2014/01/16 05:00:00+00",
           "165 Durnan St"
          ],
          [
           "2014/01/13 05:00:00+00",
           "90 Hollister St"
          ],
          [
           "2014/01/08 05:00:00+00",
           "101 Roth St"
          ],
          [
           "2014/01/04 05:00:00+00",
           "20 Morgan St"
          ],
          [
           "2014/01/01 05:00:00+00",
           "55 Lois St"
          ],
          [
           "2014/01/01 05:00:00+00",
           "622 Lake Av"
          ],
          [
           "2013/12/29 05:00:00+00",
           "145 Canton St"
          ],
          [
           "2013/12/27 05:00:00+00",
           "186 Norton Village Ln"
          ],
          [
           "2013/12/27 05:00:00+00",
           "186 Norton Village Ln"
          ],
          [
           "2013/12/27 05:00:00+00",
           "186 Norton Village Ln"
          ],
          [
           "2013/12/21 05:00:00+00",
           "313 Genesee St"
          ],
          [
           "2013/12/14 05:00:00+00",
           "1145 E Main St"
          ],
          [
           "2013/12/13 05:00:00+00",
           "127 Emerson St"
          ],
          [
           "2013/12/09 05:00:00+00",
           "833 Norton St"
          ],
          [
           "2013/12/04 05:00:00+00",
           "296 Avenue A"
          ],
          [
           "2013/12/03 05:00:00+00",
           "380 Troup St"
          ],
          [
           "2013/11/28 05:00:00+00",
           "214 Andrews St"
          ],
          [
           "2013/11/28 05:00:00+00",
           "214 Andrews St"
          ],
          [
           "2013/11/28 05:00:00+00",
           "214 Andrews St"
          ],
          [
           "2013/11/28 05:00:00+00",
           "214 Andrews St"
          ],
          [
           "2013/11/27 05:00:00+00",
           "130 Norton St"
          ],
          [
           "2015/04/18 04:00:00+00",
           "703 Lake Ave"
          ],
          [
           "2015/10/26 04:00:00+00",
           "320 Pennsylvania Ave"
          ],
          [
           "2015/10/26 04:00:00+00",
           "196 Sixth St"
          ],
          [
           "2015/04/18 04:00:00+00",
           "44 Harris St"
          ],
          [
           "2015/10/22 04:00:00+00",
           "505 Lyell Ave"
          ],
          [
           "2015/10/17 04:00:00+00",
           "51 Saratoga St"
          ],
          [
           "2015/04/18 04:00:00+00",
           "84 Harris St"
          ],
          [
           "2015/04/16 04:00:00+00",
           "272 Lexington Ave"
          ],
          [
           "2015/10/06 04:00:00+00",
           "291 Sherman St"
          ],
          [
           "2015/04/14 04:00:00+00",
           "306 Wilkins St"
          ],
          [
           "2015/10/05 04:00:00+00",
           "50 Sobieski St"
          ],
          [
           "2015/10/05 04:00:00+00",
           "300 Champlain St"
          ],
          [
           "2015/04/13 04:00:00+00",
           "75 Texas St"
          ],
          [
           "2015/10/04 04:00:00+00",
           "1340 N. Clinton Ave"
          ],
          [
           "2015/04/13 04:00:00+00",
           "75 Texas St"
          ],
          [
           "2015/10/03 04:00:00+00",
           "551 Lexington Ave"
          ],
          [
           "2015/04/13 04:00:00+00",
           "475 Lyell Ave"
          ],
          [
           "2015/04/12 04:00:00+00",
           "5 Lorimer St"
          ],
          [
           "2015/04/11 04:00:00+00",
           "45 Maryland St"
          ],
          [
           "2015/04/09 04:00:00+00",
           "243 Driving Park Ave"
          ],
          [
           "2015/04/09 04:00:00+00",
           "64 York St"
          ],
          [
           "2015/03/31 04:00:00+00",
           "341 Wilkins St"
          ],
          [
           "2015/03/31 04:00:00+00",
           "389 Campbell St"
          ],
          [
           "2015/03/30 04:00:00+00",
           "751 Smith St."
          ],
          [
           "2015/03/24 04:00:00+00",
           "273 Upperfalls Blvd"
          ],
          [
           "2015/03/21 04:00:00+00",
           "2260 Clifford Ave"
          ],
          [
           "2015/03/19 04:00:00+00",
           "144 Second St."
          ],
          [
           "2015/03/18 04:00:00+00",
           "202 Otis Street"
          ],
          [
           "2015/03/14 04:00:00+00",
           "36 Woodward St"
          ],
          [
           "2015/03/14 04:00:00+00",
           "36 Woodward St"
          ],
          [
           "2015/03/07 05:00:00+00",
           "1680 N. Goodman St."
          ],
          [
           "2015/02/28 05:00:00+00",
           "324 Glenwood Ave"
          ],
          [
           "2015/02/28 05:00:00+00",
           "167 Reynolds St"
          ],
          [
           "2015/02/23 05:00:00+00",
           "420 Magnolia St"
          ],
          [
           "2015/02/22 05:00:00+00",
           "8 Rogers St"
          ],
          [
           "2015/02/14 05:00:00+00",
           "114 Copeland Ave"
          ],
          [
           "2015/02/10 05:00:00+00",
           "886 N Clinton Ave"
          ],
          [
           "2015/02/10 05:00:00+00",
           "25 Murray St"
          ],
          [
           "2015/02/09 05:00:00+00",
           "1310 N Clinton Ave"
          ],
          [
           "2015/02/09 05:00:00+00",
           "1310 N Clinton Ave"
          ],
          [
           "2015/02/07 05:00:00+00",
           "270 Avenue B"
          ],
          [
           "2015/02/07 05:00:00+00",
           "216 Norton St"
          ],
          [
           "2015/02/07 05:00:00+00",
           "460 Avenue D"
          ],
          [
           "2015/02/01 05:00:00+00",
           "554 Jefferson Ave"
          ],
          [
           "2015/01/31 05:00:00+00",
           "1612 N Clinton Ave"
          ],
          [
           "2015/01/30 05:00:00+00",
           "457 Lyell Ave"
          ],
          [
           "2015/01/28 05:00:00+00",
           "812 Norton St"
          ],
          [
           "2015/01/27 05:00:00+00",
           "277 First St"
          ],
          [
           "2015/01/25 05:00:00+00",
           "1717 Clifford Ave"
          ],
          [
           "2015/01/24 05:00:00+00",
           "550 Bernard St"
          ],
          [
           "2015/01/22 05:00:00+00",
           "296 Murray St"
          ],
          [
           "2015/01/16 05:00:00+00",
           "340 Magnolia St"
          ],
          [
           "2015/01/10 05:00:00+00",
           "373 S. Goodman St"
          ],
          [
           "2015/01/10 05:00:00+00",
           "373 S. Goodman St"
          ],
          [
           "2015/01/06 05:00:00+00",
           "615 Genesee St"
          ],
          [
           "2015/01/05 05:00:00+00",
           "383 Champlain St"
          ],
          [
           "2015/01/05 05:00:00+00",
           "383 Champlain St"
          ],
          [
           "2015/01/04 05:00:00+00",
           "615 W. Main St"
          ],
          [
           "2015/01/01 05:00:00+00",
           "402 W. Ridge Rd"
          ],
          [
           "2014/12/29 05:00:00+00",
           "198 Hillcrest St"
          ],
          [
           "2014/12/28 05:00:00+00",
           "105 Ave B"
          ],
          [
           "2014/12/28 05:00:00+00",
           "83 Warner St"
          ],
          [
           "2014/12/26 05:00:00+00",
           "1371 Clifford Ave"
          ],
          [
           "2014/12/19 05:00:00+00",
           "300 Hollenbeck St "
          ],
          [
           "2018/10/03 04:00:00+00",
           "292 Driving Park Ave"
          ],
          [
           "2015/09/28 04:00:00+00",
           "534 Flower City Park"
          ],
          [
           "2015/09/27 04:00:00+00",
           "458 Lyell Ave"
          ],
          [
           "2015/09/26 04:00:00+00",
           "421 Lyell Ave"
          ],
          [
           "2015/09/22 04:00:00+00",
           "1407 Clifford Ave"
          ],
          [
           "2015/09/21 04:00:00+00",
           "305 Roycroft Dr"
          ],
          [
           "2015/09/17 04:00:00+00",
           "26 Driving Park Ave"
          ],
          [
           "2015/09/15 04:00:00+00",
           "67 Wilkins St"
          ],
          [
           "2015/09/13 04:00:00+00",
           "225 Avenue D"
          ],
          [
           "2015/09/12 04:00:00+00",
           "464 State St"
          ],
          [
           "2015/09/12 04:00:00+00",
           "36 Woodward St"
          ],
          [
           "2015/09/12 04:00:00+00",
           "36 Woodward St"
          ],
          [
           "2015/09/12 04:00:00+00",
           "36 Woodward St"
          ],
          [
           "2015/09/12 04:00:00+00",
           "36 Woodward St"
          ],
          [
           "2015/09/09 04:00:00+00",
           "646 Joseph Ave"
          ],
          [
           "2015/09/06 04:00:00+00",
           "1226 Clifford Ave"
          ],
          [
           "2015/09/03 04:00:00+00",
           "89 Pullman Ave"
          ],
          [
           "2015/09/01 04:00:00+00",
           "442 Lyell Ave"
          ],
          [
           "2015/09/01 04:00:00+00",
           "618 Campbell St"
          ],
          [
           "2015/08/31 04:00:00+00",
           "540 Portland Ave"
          ],
          [
           "2015/08/31 04:00:00+00",
           "854 Portland Ave"
          ],
          [
           "2015/08/29 04:00:00+00",
           "202 Otis Street"
          ],
          [
           "2015/08/29 04:00:00+00",
           "202 Otis Street"
          ],
          [
           "2015/08/29 04:00:00+00",
           "62 Miller St"
          ],
          [
           "2015/08/27 04:00:00+00",
           "54 Danforth St"
          ],
          [
           "2015/08/27 04:00:00+00",
           "200 Warner St"
          ],
          [
           "2015/08/27 04:00:00+00",
           "393 Remington St"
          ],
          [
           "2015/08/19 04:00:00+00",
           "141 6Th St"
          ],
          [
           "2015/08/19 04:00:00+00",
           "4 Malvern St"
          ],
          [
           "2015/08/19 04:00:00+00",
           "500 Genesee St"
          ],
          [
           "2015/08/19 04:00:00+00",
           "500 Genesee St"
          ],
          [
           "2015/08/19 04:00:00+00",
           "500 Genesee St"
          ],
          [
           "2015/08/19 04:00:00+00",
           "500 Genesee St"
          ],
          [
           "2015/08/17 04:00:00+00",
           "22 Sobieski St"
          ],
          [
           "2015/08/16 04:00:00+00",
           "773 Genesee St"
          ],
          [
           "2015/08/14 04:00:00+00",
           "534 Flower City Park"
          ],
          [
           "2015/08/13 04:00:00+00",
           "857 Portland Ave"
          ],
          [
           "2015/08/13 04:00:00+00",
           "20 Ramona Pk"
          ],
          [
           "2015/08/07 04:00:00+00",
           "296 Scio St"
          ],
          [
           "2015/08/06 04:00:00+00",
           "464 Thurston Rd"
          ],
          [
           "2015/08/06 04:00:00+00",
           "464 Thurston Rd"
          ],
          [
           "2015/08/06 04:00:00+00",
           "464 Thurston Rd"
          ],
          [
           "2015/08/02 04:00:00+00",
           "30 Tacoma St"
          ],
          [
           "2015/08/02 04:00:00+00",
           "30 Tacoma St"
          ],
          [
           "2015/08/01 04:00:00+00",
           "58 Fair Pl"
          ],
          [
           "2015/07/31 04:00:00+00",
           "540 Portland Ave"
          ],
          [
           "2015/07/30 04:00:00+00",
           "70 Glendale Pk"
          ],
          [
           "2015/07/27 04:00:00+00",
           "904 Hudson Ave"
          ],
          [
           "2015/07/27 04:00:00+00",
           "904 Hudson Ave"
          ],
          [
           "2015/07/27 04:00:00+00",
           "1415 N. Clinton Ave"
          ],
          [
           "2015/07/26 04:00:00+00",
           "61 Kron St"
          ],
          [
           "2015/07/24 04:00:00+00",
           "233 Avenue C"
          ],
          [
           "2015/07/24 04:00:00+00",
           "18 4Th St"
          ],
          [
           "2015/07/24 04:00:00+00",
           "18 4Th St"
          ],
          [
           "2015/07/23 04:00:00+00",
           "920 Portland Ave"
          ],
          [
           "2015/07/23 04:00:00+00",
           "431 Tremont St"
          ],
          [
           "2015/07/22 04:00:00+00",
           "417 Parsells Ave"
          ],
          [
           "2015/07/22 04:00:00+00",
           "195 Lyell Ave"
          ],
          [
           "2015/07/22 04:00:00+00",
           "215 Saratoga Ave"
          ],
          [
           "2015/07/20 04:00:00+00",
           "102 Ellison St"
          ],
          [
           "2015/07/15 04:00:00+00",
           "16 Manitou St"
          ],
          [
           "2015/07/12 04:00:00+00",
           "61 Joseph Place"
          ],
          [
           "2015/07/12 04:00:00+00",
           "61 Joseph Place"
          ],
          [
           "2015/07/05 04:00:00+00",
           "206 Depew St"
          ],
          [
           "2015/07/05 04:00:00+00",
           "496 Bay St"
          ],
          [
           "2015/07/04 04:00:00+00",
           "485 N. Clinton Ave"
          ],
          [
           "2015/07/03 04:00:00+00",
           "413 Lyell Ave"
          ],
          [
           "2015/06/27 04:00:00+00",
           "398 Aberdeen St"
          ],
          [
           "2015/06/27 04:00:00+00",
           "398 Aberdeen St"
          ],
          [
           "2015/06/27 04:00:00+00",
           "28 Oscar St"
          ],
          [
           "2015/06/27 04:00:00+00",
           "12 Sigel St"
          ],
          [
           "2015/06/22 04:00:00+00",
           "644 Avenue D"
          ],
          [
           "2015/06/22 04:00:00+00",
           "7 Grace St"
          ],
          [
           "2015/06/21 04:00:00+00",
           "139 Mohawk St"
          ],
          [
           "2015/06/21 04:00:00+00",
           "25 Edgeland St"
          ],
          [
           "2015/06/20 04:00:00+00",
           "468 Campbell St"
          ],
          [
           "2015/06/14 04:00:00+00",
           "1108 Clifford Ave"
          ],
          [
           "2018/09/23 04:00:00+00",
           "479 Monroe Ave"
          ],
          [
           "2018/09/20 04:00:00+00",
           "46 Thomas St"
          ],
          [
           "2018/09/20 04:00:00+00",
           "462 Genesee St"
          ],
          [
           "2018/09/20 04:00:00+00",
           "462 Genesee St"
          ],
          [
           "2018/09/15 04:00:00+00",
           "443 Waring Rd"
          ],
          [
           "2018/09/14 04:00:00+00",
           "12 Manitou St"
          ],
          [
           "2018/09/08 04:00:00+00",
           "214 Parsells Ave"
          ],
          [
           "2018/09/08 04:00:00+00",
           "5 Kohlman St"
          ],
          [
           "2018/09/05 04:00:00+00",
           "297 Weaver St"
          ],
          [
           "2018/08/28 04:00:00+00",
           "14 Laser St"
          ],
          [
           "2018/08/27 04:00:00+00",
           "53 Rocket St"
          ],
          [
           "2018/08/26 04:00:00+00",
           "315 Conkey Ave"
          ],
          [
           "2018/08/26 04:00:00+00",
           "165 Bay st"
          ],
          [
           "2018/08/26 04:00:00+00",
           "196 Hudson Ave"
          ],
          [
           "2018/08/25 04:00:00+00",
           "14 Weld St"
          ],
          [
           "2018/08/25 04:00:00+00",
           "782 Ave D"
          ],
          [
           "2018/08/23 04:00:00+00",
           "1298 Dewey Ave"
          ],
          [
           "2018/08/22 04:00:00+00",
           "461 Hawley St"
          ],
          [
           "2018/08/14 04:00:00+00",
           "1101 Clifford Ave"
          ],
          [
           "2018/08/11 04:00:00+00",
           "29 Keller St"
          ],
          [
           "2018/08/11 04:00:00+00",
           "29 Keller St"
          ],
          [
           "2018/08/02 04:00:00+00",
           "442 Remington St"
          ],
          [
           "2018/07/31 04:00:00+00",
           "333 6th St"
          ],
          [
           "2018/07/31 04:00:00+00",
           "137 Warner St"
          ],
          [
           "2018/07/31 04:00:00+00",
           "53 Thomas St"
          ],
          [
           "2018/07/31 04:00:00+00",
           "1001 Portland Ave"
          ],
          [
           "2018/07/29 04:00:00+00",
           "695 Clifford Ave"
          ],
          [
           "2018/07/26 04:00:00+00",
           "1430 North St"
          ],
          [
           "2018/07/23 04:00:00+00",
           "231 Saratoga Ave"
          ],
          [
           "2018/07/21 04:00:00+00",
           "481 Garson Ave"
          ],
          [
           "2018/07/18 04:00:00+00",
           "2 Athens St"
          ],
          [
           "2018/07/18 04:00:00+00",
           "56 Del Monte St"
          ],
          [
           "2018/07/15 04:00:00+00",
           "330 Norton St"
          ],
          [
           "2018/07/15 04:00:00+00",
           "330 Norton St"
          ],
          [
           "2018/07/15 04:00:00+00",
           "330 Norton St"
          ],
          [
           "2018/07/15 04:00:00+00",
           "295 Ave D"
          ],
          [
           "2018/07/05 04:00:00+00",
           "100 Salina St"
          ],
          [
           "2018/07/04 04:00:00+00",
           "71 York St"
          ],
          [
           "2018/07/04 04:00:00+00",
           "431 Hawley St"
          ],
          [
           "2018/07/04 04:00:00+00",
           "5 Hoeltzer St"
          ],
          [
           "2018/07/03 04:00:00+00",
           "72 Masseth St"
          ],
          [
           "2018/07/01 04:00:00+00",
           "96 Kislingbury St"
          ],
          [
           "2018/07/01 04:00:00+00",
           "554 Jefferson Ave"
          ],
          [
           "2018/06/30 04:00:00+00",
           "45 Ridgeway Ave"
          ],
          [
           "2018/06/30 04:00:00+00",
           "45 Ridgeway Ave"
          ],
          [
           "2018/06/28 04:00:00+00",
           "27 Cedar St"
          ],
          [
           "2018/06/27 04:00:00+00",
           "75 Walnut St"
          ],
          [
           "2018/06/26 04:00:00+00",
           "574 Chili Ave"
          ],
          [
           "2018/06/25 04:00:00+00",
           "290 Melville St"
          ],
          [
           "2018/06/25 04:00:00+00",
           "544 Jay St"
          ],
          [
           "2018/06/23 04:00:00+00",
           "22 Siebert Pl"
          ],
          [
           "2018/06/22 04:00:00+00",
           "333 First St"
          ],
          [
           "2018/06/20 04:00:00+00",
           "670 Thurston Rd"
          ],
          [
           "2018/06/20 04:00:00+00",
           "301 Champlain St"
          ],
          [
           "2018/06/20 04:00:00+00",
           "233 4th St"
          ],
          [
           "2018/06/17 04:00:00+00",
           "103 Glendale Pk"
          ],
          [
           "2018/06/13 04:00:00+00",
           "32 Berlin St"
          ],
          [
           "2018/06/09 04:00:00+00",
           "804 N. Clinton Ave"
          ],
          [
           "2018/06/04 04:00:00+00",
           "366 Ellison St"
          ],
          [
           "2018/06/04 04:00:00+00",
           "210 Shelter St"
          ],
          [
           "2018/06/03 04:00:00+00",
           "1397 Clifford Ave"
          ],
          [
           "2018/05/28 04:00:00+00",
           "210 Troup St"
          ],
          [
           "2018/05/28 04:00:00+00",
           "210 Troup St"
          ],
          [
           "2018/05/28 04:00:00+00",
           "210 Troup St"
          ],
          [
           "2018/05/27 04:00:00+00",
           "100 Warsaw St"
          ],
          [
           "2018/05/27 04:00:00+00",
           "100 Warsaw St"
          ],
          [
           "2018/05/27 04:00:00+00",
           "63 Farbridge St"
          ],
          [
           "2018/05/22 04:00:00+00",
           "27 Garnet St"
          ],
          [
           "2018/05/19 04:00:00+00",
           "107 Bay St"
          ],
          [
           "2018/05/06 04:00:00+00",
           "721 Jay St"
          ],
          [
           "2018/05/02 04:00:00+00",
           "2 Harris St"
          ],
          [
           "2018/05/01 04:00:00+00",
           "375 Raines Pk"
          ],
          [
           "2018/04/24 04:00:00+00",
           "836 N. Goodman St"
          ],
          [
           "2018/04/24 04:00:00+00",
           "836 N. Goodman St"
          ],
          [
           "2018/04/23 04:00:00+00",
           "181 Durnan St"
          ],
          [
           "2018/04/22 04:00:00+00",
           "116 Greeley St"
          ],
          [
           "2018/04/21 04:00:00+00",
           "10 Norwood St"
          ],
          [
           "2018/04/20 04:00:00+00",
           "51 Watkin Ter"
          ],
          [
           "2018/04/13 04:00:00+00",
           "257 Bay St"
          ],
          [
           "2018/04/13 04:00:00+00",
           "17 Bay St"
          ],
          [
           "2018/04/12 04:00:00+00",
           "44 Ackerman St"
          ],
          [
           "2018/04/09 04:00:00+00",
           "60 Treyer St"
          ],
          [
           "2018/04/03 04:00:00+00",
           "452 Parsells Ave"
          ],
          [
           "2010/09/07 04:00:00+00",
           "19 Texas St"
          ],
          [
           "2010/09/07 04:00:00+00",
           "19 Texas St"
          ],
          [
           "2010/09/04 04:00:00+00",
           "118 Elba St"
          ],
          [
           "2010/09/03 04:00:00+00",
           "Andrews St & Bittner St"
          ],
          [
           "2010/09/01 04:00:00+00",
           "664 Clifford Ave"
          ],
          [
           "2010/08/29 04:00:00+00",
           "1162 Portland Av #8"
          ],
          [
           "2010/08/29 04:00:00+00",
           "293 Lyndhurst St"
          ],
          [
           "2010/08/29 04:00:00+00",
           "294 Carter St"
          ],
          [
           "2010/08/25 04:00:00+00",
           "44 Wellington Av"
          ],
          [
           "2009/08/28 04:00:00+00",
           "190 Hollenbeck St"
          ],
          [
           "2010/08/23 04:00:00+00",
           "195 Norran Dr"
          ],
          [
           "2010/08/23 04:00:00+00",
           "83 Tacoma St"
          ],
          [
           "2010/08/22 04:00:00+00",
           "1850 E Main St"
          ],
          [
           "2010/08/21 04:00:00+00",
           "211 Springfield Av"
          ],
          [
           "2010/08/20 04:00:00+00",
           "22 Mark St"
          ],
          [
           "2010/08/17 04:00:00+00",
           "112 Ave B"
          ],
          [
           "2012/08/12 04:00:00+00",
           "401 Champlain St"
          ],
          [
           "2010/08/17 04:00:00+00",
           "705 Woodbine Ave"
          ],
          [
           "2010/08/16 04:00:00+00",
           "52 Davis St"
          ],
          [
           "2010/08/13 04:00:00+00",
           "951 Norton St"
          ],
          [
           "2010/08/11 04:00:00+00",
           "431 Lake Ave"
          ],
          [
           "2010/08/11 04:00:00+00",
           "125 Scrantom St"
          ],
          [
           "2010/08/10 04:00:00+00",
           "1 Lake Ave"
          ],
          [
           "2010/08/08 04:00:00+00",
           "12 Iceland Park"
          ],
          [
           "2010/08/08 04:00:00+00",
           "292 Remington"
          ],
          [
           "2010/08/07 04:00:00+00",
           "278 First St"
          ],
          [
           "2010/08/06 04:00:00+00",
           "949 Hudson Ave"
          ],
          [
           "2010/07/31 04:00:00+00",
           "21 Evergreen St"
          ],
          [
           "2010/07/28 04:00:00+00",
           "111 Cady St"
          ],
          [
           "2010/07/28 04:00:00+00",
           "208 Avenue A"
          ],
          [
           "2010/07/25 04:00:00+00",
           "37 Angle St"
          ],
          [
           "2010/07/24 04:00:00+00",
           "331 Pullman Ave"
          ],
          [
           "2010/07/20 04:00:00+00",
           "149 Cady St"
          ],
          [
           "2010/07/19 04:00:00+00",
           "85 Michigan St"
          ],
          [
           "2010/07/16 04:00:00+00",
           "526 Tremont St"
          ],
          [
           "2010/07/16 04:00:00+00",
           "526 Tremont St"
          ],
          [
           "2010/07/16 04:00:00+00",
           "587 Maple St"
          ],
          [
           "2010/07/16 04:00:00+00",
           "587 Maple St"
          ],
          [
           "2010/07/12 04:00:00+00",
           "6 Bryan St"
          ],
          [
           "2010/07/05 04:00:00+00",
           "671 Brooks Ave"
          ],
          [
           "2010/07/05 04:00:00+00",
           "40 Lime St"
          ],
          [
           "2010/07/04 04:00:00+00",
           "310 Murray St"
          ],
          [
           "2010/07/04 04:00:00+00",
           "238 Troupe St"
          ],
          [
           "2010/07/03 04:00:00+00",
           "9 Helena St"
          ],
          [
           "2010/07/03 04:00:00+00",
           "9 Helena St"
          ],
          [
           "2010/07/01 04:00:00+00",
           "165 Weyl St"
          ],
          [
           "2010/06/28 04:00:00+00",
           "336 Lexington Av"
          ],
          [
           "2010/06/27 04:00:00+00",
           "335 Lexington Av"
          ],
          [
           "2010/06/25 04:00:00+00",
           "858 Hudson Ave"
          ],
          [
           "2010/06/22 04:00:00+00",
           "399 Lake Ave"
          ],
          [
           "2010/06/22 04:00:00+00",
           "399 Lake Ave"
          ],
          [
           "2010/06/21 04:00:00+00",
           "455 Wilkins St"
          ],
          [
           "2010/06/20 04:00:00+00",
           "848 Joseph Ave"
          ],
          [
           "2010/06/20 04:00:00+00",
           "251 Elmwood Ave"
          ],
          [
           "2010/06/19 04:00:00+00",
           "1151 S. Plymouth Ave"
          ],
          [
           "2010/06/19 04:00:00+00",
           "23 Helena St"
          ],
          [
           "2010/06/15 04:00:00+00",
           "159 Conkey Ave"
          ],
          [
           "2010/06/14 04:00:00+00",
           "Clifford Ave  &  Spiegel Pk"
          ],
          [
           "2010/06/13 04:00:00+00",
           "1271 Clifford Ave"
          ],
          [
           "2010/06/10 04:00:00+00",
           "245 Rugby Ave"
          ],
          [
           "2010/06/10 04:00:00+00",
           "366 Arnett Blvd"
          ],
          [
           "2010/06/08 04:00:00+00",
           "1264 N. Clinton Ave"
          ],
          [
           "2010/06/05 04:00:00+00",
           "819 N. Clinton Ave"
          ],
          [
           "2010/05/31 04:00:00+00",
           "85 Nichols St"
          ],
          [
           "2010/05/28 04:00:00+00",
           "340 Sixth St"
          ],
          [
           "2010/05/28 04:00:00+00",
           "850 Hudson Ave"
          ],
          [
           "2010/05/26 04:00:00+00",
           "81 Van Stallen St"
          ],
          [
           "2010/05/26 04:00:00+00",
           "24 Henion St"
          ],
          [
           "2010/05/25 04:00:00+00",
           "54 Maryland St"
          ],
          [
           "2010/05/22 04:00:00+00",
           "146 Kenwood St"
          ],
          [
           "2010/05/22 04:00:00+00",
           "407 Driving Park Ave"
          ],
          [
           "2010/05/17 04:00:00+00",
           "410 Alexander St"
          ],
          [
           "2010/05/15 04:00:00+00",
           "134 Wilkins St"
          ],
          [
           "2010/05/15 04:00:00+00",
           "11 Thorn St"
          ],
          [
           "2010/05/13 04:00:00+00",
           "67 Dale St"
          ],
          [
           "2010/05/04 04:00:00+00",
           "501 Lyell Ave"
          ],
          [
           "2010/05/04 04:00:00+00",
           "337 Genesee St"
          ],
          [
           "2010/05/03 04:00:00+00",
           "24 Oscar St"
          ],
          [
           "2010/05/02 04:00:00+00",
           "485 Child St"
          ],
          [
           "2010/04/28 04:00:00+00",
           "35 Leo St"
          ],
          [
           "2010/04/27 04:00:00+00",
           "28 Isabelle St"
          ],
          [
           "2010/04/22 04:00:00+00",
           "80 Huntington Pk"
          ],
          [
           "2010/04/20 04:00:00+00",
           "77 Santee St"
          ],
          [
           "2010/04/20 04:00:00+00",
           "77 Santee St"
          ],
          [
           "2010/04/20 04:00:00+00",
           "408 Parsells"
          ],
          [
           "2010/04/19 04:00:00+00",
           "229 Rugby Av"
          ],
          [
           "2013/06/29 04:00:00+00",
           "523 W Main St"
          ],
          [
           "2013/06/27 04:00:00+00",
           "1702 N Goodman St"
          ],
          [
           "2009/08/27 04:00:00+00",
           "144 Chili Ave"
          ],
          [
           "2013/06/27 04:00:00+00",
           "1702 N Goodman St"
          ],
          [
           "2013/06/27 04:00:00+00",
           "1702 N Goodman St"
          ],
          [
           "2009/08/27 04:00:00+00",
           "341 Garson Ave"
          ],
          [
           "2009/08/26 04:00:00+00",
           "314 Scio St"
          ],
          [
           "2013/06/24 04:00:00+00",
           "363 Flint St"
          ],
          [
           "2013/06/24 04:00:00+00",
           "157 Michigan St"
          ],
          [
           "2009/08/25 04:00:00+00",
           "26 Sobieski St"
          ],
          [
           "2013/06/23 04:00:00+00",
           "94 Friedrich Pk"
          ],
          [
           "2009/08/23 04:00:00+00",
           "36 Flower St"
          ],
          [
           "2013/06/22 04:00:00+00",
           "437 Lyell Av"
          ],
          [
           "2009/08/22 04:00:00+00",
           "296 Garson Ave"
          ],
          [
           "2013/06/22 04:00:00+00",
           "437 Lyell Av"
          ],
          [
           "2009/08/22 04:00:00+00",
           "296 Garson Ave"
          ],
          [
           "2013/06/22 04:00:00+00",
           "437 Lyell Av"
          ],
          [
           "2009/08/22 04:00:00+00",
           "296 Garson Ave"
          ],
          [
           "2013/06/18 04:00:00+00",
           "312 Pennsylvania Av"
          ],
          [
           "2009/08/21 04:00:00+00",
           "1049 Hudson Ave"
          ],
          [
           "2013/06/15 04:00:00+00",
           "299 Portland Av"
          ],
          [
           "2009/08/18 04:00:00+00",
           "125 Wilkins St"
          ],
          [
           "2013/06/15 04:00:00+00",
           "299 Portland Av"
          ],
          [
           "2009/08/18 04:00:00+00",
           "515 Garson Av"
          ],
          [
           "2013/06/14 04:00:00+00",
           "1687 Dewey Av"
          ],
          [
           "2013/06/11 04:00:00+00",
           "37 Linnet St"
          ],
          [
           "2013/06/11 04:00:00+00",
           "59 Miller St"
          ],
          [
           "2013/06/09 04:00:00+00",
           "645 Meigs St"
          ],
          [
           "2013/06/09 04:00:00+00",
           "32 Wadsworth St"
          ],
          [
           "2013/06/08 04:00:00+00",
           "1271 Clifford Ave"
          ],
          [
           "2013/06/04 04:00:00+00",
           "404 Parsells Av"
          ],
          [
           "2013/06/01 04:00:00+00",
           "38 Orange St"
          ],
          [
           "2013/05/30 04:00:00+00",
           "274 Pullman Av"
          ],
          [
           "2013/05/28 04:00:00+00",
           "421 Lyell Av"
          ],
          [
           "2013/05/26 04:00:00+00",
           "469 Maplewood Av"
          ],
          [
           "2013/05/25 04:00:00+00",
           "296 Flint St"
          ],
          [
           "2013/05/25 04:00:00+00",
           "90 Clifton St"
          ],
          [
           "2013/05/20 04:00:00+00",
           "195 Danforth St"
          ],
          [
           "2013/05/20 04:00:00+00",
           "391 Columbia Av"
          ],
          [
           "2013/05/19 04:00:00+00",
           "415 Child St"
          ],
          [
           "2013/05/19 04:00:00+00",
           "12 Lloyd St"
          ],
          [
           "2013/05/18 04:00:00+00",
           "776 N Clinton Av"
          ],
          [
           "2013/05/17 04:00:00+00",
           "415 Hague St"
          ],
          [
           "2013/05/17 04:00:00+00",
           "415 Hague St"
          ],
          [
           "2013/05/17 04:00:00+00",
           "415 Hague St"
          ],
          [
           "2013/05/17 04:00:00+00",
           "46 Kohlman St"
          ],
          [
           "2013/05/17 04:00:00+00",
           "724 Merchants Rd"
          ],
          [
           "2013/05/16 04:00:00+00",
           "139 Ravine Av"
          ],
          [
           "2013/05/16 04:00:00+00",
           "190 Reynolds St"
          ],
          [
           "2013/05/14 04:00:00+00",
           "284 Murray St"
          ],
          [
           "2013/05/14 04:00:00+00",
           "90 York St"
          ],
          [
           "2013/05/14 04:00:00+00",
           "90 York St"
          ],
          [
           "2013/05/13 04:00:00+00",
           "1430 N Clinton Av"
          ],
          [
           "2013/05/13 04:00:00+00",
           "666 Scio St"
          ],
          [
           "2013/05/12 04:00:00+00",
           "385 Weaver St"
          ],
          [
           "2013/05/11 04:00:00+00",
           "133 Scrantom St"
          ],
          [
           "2013/04/27 04:00:00+00",
           "100 Holbrooke St"
          ],
          [
           "2013/04/23 04:00:00+00",
           "343 Frost Av"
          ],
          [
           "2013/04/23 04:00:00+00",
           "9 Short St"
          ],
          [
           "2013/04/23 04:00:00+00",
           "304 Jay St"
          ],
          [
           "2013/04/23 04:00:00+00",
           "304 Jay St"
          ],
          [
           "2013/04/23 04:00:00+00",
           "304 Jay St"
          ],
          [
           "2013/04/22 04:00:00+00",
           "641 Frost Av"
          ],
          [
           "2013/04/21 04:00:00+00",
           "347 Campbell St"
          ],
          [
           "2013/04/20 04:00:00+00",
           "91 Myrtle St"
          ],
          [
           "2013/04/18 04:00:00+00",
           "11 Iceland Pk"
          ],
          [
           "2013/04/18 04:00:00+00",
           "8 Bay St"
          ],
          [
           "2013/04/18 04:00:00+00",
           "66 Ravine Av"
          ],
          [
           "2013/04/18 04:00:00+00",
           "94 Sherman St"
          ],
          [
           "2013/04/15 04:00:00+00",
           "892 Joseph Av"
          ],
          [
           "2013/04/15 04:00:00+00",
           "736 Smith St"
          ],
          [
           "2013/04/13 04:00:00+00",
           "33 Sobieski St"
          ],
          [
           "2013/04/13 04:00:00+00",
           "34 Reynolds St"
          ],
          [
           "2013/04/10 04:00:00+00",
           "34 Reynolds St"
          ],
          [
           "2013/04/09 04:00:00+00",
           "534 Genesee St"
          ],
          [
           "2013/04/08 04:00:00+00",
           "772 N Clinton Av"
          ],
          [
           "2013/03/30 04:00:00+00",
           "39 Seabrook St"
          ],
          [
           "2013/03/28 04:00:00+00",
           "1322 N Clinton Av"
          ],
          [
           "2013/03/27 04:00:00+00",
           "54 Ave D"
          ],
          [
           "2013/03/26 04:00:00+00",
           "160 Salina St"
          ],
          [
           "2013/03/25 04:00:00+00",
           "340 Conkey Av "
          ],
          [
           "2013/03/24 04:00:00+00",
           "228 Depew St"
          ],
          [
           "2013/03/24 04:00:00+00",
           "228 Depew St"
          ],
          [
           "2013/03/21 04:00:00+00",
           "1938 Clifford Av"
          ],
          [
           "2012/02/12 05:00:00+00",
           "293 Conkey Ave"
          ],
          [
           "2013/03/15 04:00:00+00",
           "29 Sterling St"
          ],
          [
           "2013/03/12 04:00:00+00",
           "20 Lundsford Ln"
          ],
          [
           "2013/03/10 05:00:00+00",
           "1005 Hudson Av "
          ],
          [
           "2013/03/03 05:00:00+00",
           "51 High St"
          ],
          [
           "2013/02/28 05:00:00+00",
           "24 Durnan St"
          ],
          [
           "2013/02/27 05:00:00+00",
           "469 Bay St"
          ],
          [
           "2013/02/22 05:00:00+00",
           "574 Chili Av"
          ],
          [
           "2013/02/08 05:00:00+00",
           "582 Jefferson Ave"
          ],
          [
           "2013/02/07 05:00:00+00",
           "19 Avenue C"
          ],
          [
           "2013/01/30 05:00:00+00",
           "119 Friederich Pk"
          ],
          [
           "2013/01/25 05:00:00+00",
           "353 Lexington Ave"
          ],
          [
           "2013/01/23 05:00:00+00",
           "44 Diringer Pl"
          ],
          [
           "2013/01/18 05:00:00+00",
           "580 N. Plymouth Ave"
          ],
          [
           "2013/01/17 05:00:00+00",
           "413 Lyell Ave"
          ],
          [
           "2013/01/12 05:00:00+00",
           "600 Monroe Ave"
          ],
          [
           "2013/01/10 05:00:00+00",
           "440 Parsells Ave"
          ],
          [
           "2013/01/09 05:00:00+00",
           "98 Bartlett St"
          ],
          [
           "2013/01/09 05:00:00+00",
           "116 Ave D"
          ],
          [
           "2009/08/16 04:00:00+00",
           "10 Phelps St"
          ],
          [
           "2013/01/08 05:00:00+00",
           "292 Carter St"
          ],
          [
           "2012/08/04 04:00:00+00",
           "63 Grafton St"
          ],
          [
           "2013/11/25 05:00:00+00",
           "121 Greeley St"
          ],
          [
           "2013/01/01 05:00:00+00",
           "761 Maple St"
          ],
          [
           "2013/11/21 05:00:00+00",
           "338 Thurston Rd"
          ],
          [
           "2009/08/15 04:00:00+00",
           "261 Reynolds St"
          ],
          [
           "2013/01/01 05:00:00+00",
           "336 Fourth St"
          ],
          [
           "2013/11/21 05:00:00+00",
           "356 Campbell St"
          ],
          [
           "2012/08/03 04:00:00+00",
           "233 Troup St"
          ],
          [
           "2009/08/14 04:00:00+00",
           "118 Mason St"
          ],
          [
           "2012/12/29 05:00:00+00",
           "1635 Clifford Ave"
          ],
          [
           "2012/02/03 05:00:00+00",
           "179 Child Street"
          ],
          [
           "2012/01/30 05:00:00+00",
           "202 Otis Street"
          ],
          [
           "2012/01/24 05:00:00+00",
           "256 Weyl Street"
          ],
          [
           "2012/01/23 05:00:00+00",
           "268 Bay Street"
          ],
          [
           "2012/01/22 05:00:00+00",
           "520 Parsells Ave"
          ],
          [
           "2012/01/22 05:00:00+00",
           "520 Parsells Ave"
          ],
          [
           "2012/12/28 05:00:00+00",
           "555 Child St"
          ],
          [
           "2012/01/22 05:00:00+00",
           "679 Frost Ave"
          ],
          [
           "2009/08/14 04:00:00+00",
           "118 Mason St"
          ],
          [
           "2013/11/18 05:00:00+00",
           "917 North St"
          ],
          [
           "2012/08/01 04:00:00+00",
           "109 Harris St"
          ],
          [
           "2012/12/26 05:00:00+00",
           "28 St. Clair St"
          ],
          [
           "2012/01/17 05:00:00+00",
           "10 Pennsylvania Ave"
          ],
          [
           "2009/08/13 04:00:00+00",
           "8 Thorndale Ter"
          ],
          [
           "2013/11/16 05:00:00+00",
           "16 Ellison St"
          ],
          [
           "2012/08/01 04:00:00+00",
           "1335 N Clinton Ave"
          ],
          [
           "2012/12/26 05:00:00+00",
           "Remington St. & Seabrook St."
          ],
          [
           "2012/01/13 05:00:00+00",
           "98 Pulaski St"
          ],
          [
           "2009/08/12 04:00:00+00",
           "54 Maryland St"
          ],
          [
           "2009/08/11 04:00:00+00",
           "247 Jefferson Ave"
          ],
          [
           "2009/08/11 04:00:00+00",
           "35 Treyer St"
          ],
          [
           "2009/08/10 04:00:00+00",
           "1233 N Clinton Ave"
          ],
          [
           "2009/08/08 04:00:00+00",
           "501 Colvin St"
          ],
          [
           "2009/08/08 04:00:00+00",
           "512 Lake Ave"
          ],
          [
           "2009/08/03 04:00:00+00",
           "1735 Clifford Ave"
          ],
          [
           "2009/08/02 04:00:00+00",
           "64 Bloss St"
          ],
          [
           "2009/08/01 04:00:00+00",
           "72 Herkimer St"
          ],
          [
           "2009/07/26 04:00:00+00",
           "322 Ellison St"
          ],
          [
           "2009/07/22 04:00:00+00",
           "8 Borchard St"
          ],
          [
           "2009/07/21 04:00:00+00",
           "73 Warwick St"
          ],
          [
           "2009/07/20 04:00:00+00",
           "437 Alphonse St"
          ],
          [
           "2009/07/20 04:00:00+00",
           "437 Alphonse St"
          ],
          [
           "2009/07/17 04:00:00+00",
           "246 Durnan St"
          ],
          [
           "2009/07/17 04:00:00+00",
           "Grand St & Denver St"
          ],
          [
           "2009/07/12 04:00:00+00",
           "215 Kislingbury St"
          ],
          [
           "2009/07/12 04:00:00+00",
           "215 Kislingbury St"
          ],
          [
           "2009/07/12 04:00:00+00",
           "215 Kislingbury St"
          ],
          [
           "2009/07/12 04:00:00+00",
           "215 Kislingbury St"
          ],
          [
           "2009/07/10 04:00:00+00",
           "338 Thurston Rd"
          ],
          [
           "2009/07/06 04:00:00+00",
           "924 N Clinton Ave"
          ],
          [
           "2009/07/06 04:00:00+00",
           "924 N Clinton Ave"
          ],
          [
           "2009/07/04 04:00:00+00",
           "113 Bartlett St"
          ],
          [
           "2009/07/04 04:00:00+00",
           "113 Bartlett St"
          ],
          [
           "2009/07/03 04:00:00+00",
           "475 Cottage St"
          ],
          [
           "2009/07/02 04:00:00+00",
           "176 Parkway"
          ],
          [
           "2009/06/25 04:00:00+00",
           "382 Ames St"
          ],
          [
           "2009/06/15 04:00:00+00",
           "42 Sander St"
          ],
          [
           "2009/06/15 04:00:00+00",
           "877 Portland Ave"
          ],
          [
           "2009/06/09 04:00:00+00",
           "122 Bartlett St"
          ],
          [
           "2009/06/09 04:00:00+00",
           "234 Orchard St"
          ],
          [
           "2009/05/31 04:00:00+00",
           "408 Parsells Av"
          ],
          [
           "2009/05/30 04:00:00+00",
           "56 Shelter St"
          ],
          [
           "2009/05/30 04:00:00+00",
           "56 Shelter St"
          ],
          [
           "2009/05/30 04:00:00+00",
           "56 Shelter St"
          ],
          [
           "2009/05/30 04:00:00+00",
           "230 Monroe Ave"
          ],
          [
           "2009/05/27 04:00:00+00",
           "23 Rauber St"
          ],
          [
           "2011/08/05 04:00:00+00",
           "395 Remington St"
          ],
          [
           "2009/05/19 04:00:00+00",
           "111 Superior St"
          ],
          [
           "2009/05/18 04:00:00+00",
           "245 Roycroft Dr"
          ],
          [
           "2009/05/18 04:00:00+00",
           "245 Roycroft Dr"
          ],
          [
           "2009/05/16 04:00:00+00",
           "852 N Clinton Ave"
          ],
          [
           "2009/05/16 04:00:00+00",
           "52 Carter St"
          ],
          [
           "2009/05/06 04:00:00+00",
           "14 Vetter St"
          ],
          [
           "2009/05/03 04:00:00+00",
           "1155 Hudson Ave"
          ],
          [
           "2009/04/29 04:00:00+00",
           "6 Lochner Pl"
          ],
          [
           "2009/04/28 04:00:00+00",
           "95 Friederich Park"
          ],
          [
           "2009/04/28 04:00:00+00",
           "126 Weld St"
          ],
          [
           "2009/04/19 04:00:00+00",
           "115 Thorndale Ter"
          ],
          [
           "2009/04/18 04:00:00+00",
           "540 Maple St"
          ],
          [
           "2009/04/13 04:00:00+00",
           "200 Avenue D"
          ],
          [
           "2009/04/11 04:00:00+00",
           "475 Carter St"
          ],
          [
           "2009/04/01 04:00:00+00",
           "202 Otis St"
          ],
          [
           "2009/03/27 04:00:00+00",
           "443 Hawley St"
          ],
          [
           "2009/03/18 04:00:00+00",
           "190 Avenue B"
          ],
          [
           "2009/03/14 04:00:00+00",
           "70 Lakeview Pk"
          ],
          [
           "2009/03/14 04:00:00+00",
           "70 Lakeview Pk"
          ],
          [
           "2009/03/08 05:00:00+00",
           "53 Locust St"
          ],
          [
           "2009/02/25 05:00:00+00",
           "1632 St Paul St"
          ],
          [
           "2009/02/16 05:00:00+00",
           "1199 S Plymouth St"
          ],
          [
           "2009/02/15 05:00:00+00",
           "264 Mcnaughton St"
          ],
          [
           "2009/02/11 05:00:00+00",
           "40 Ferndale Cres"
          ],
          [
           "2009/01/31 05:00:00+00",
           "21 Dayton St"
          ],
          [
           "2009/01/21 05:00:00+00",
           "1050 East Ave"
          ],
          [
           "2009/01/17 05:00:00+00",
           "91 Gregory St"
          ],
          [
           "2009/01/10 05:00:00+00",
           "167 Joseph Ave"
          ],
          [
           "2009/01/09 05:00:00+00",
           "1 Faxon Alley"
          ],
          [
           "2009/01/03 05:00:00+00",
           "467 Bay St"
          ],
          [
           "2009/01/03 05:00:00+00",
           "741 Portland Ave"
          ],
          [
           "2012/12/22 05:00:00+00",
           "156 Maryland St"
          ],
          [
           "2013/11/16 05:00:00+00",
           "3660 Lake Ave"
          ],
          [
           "2012/08/01 04:00:00+00",
           "1 Laser St"
          ],
          [
           "2012/01/09 05:00:00+00",
           "704 Bay St"
          ],
          [
           "2011/07/30 04:00:00+00",
           "645 Frost Ave"
          ],
          [
           "2008/12/31 05:00:00+00",
           "1598 St Paul St"
          ],
          [
           "2012/07/31 04:00:00+00",
           "674 Woodbine Ave"
          ],
          [
           "2012/07/22 04:00:00+00",
           "165 Hollenbeck St"
          ],
          [
           "2012/07/22 04:00:00+00",
           "561 State St"
          ],
          [
           "2012/07/18 04:00:00+00",
           "58 Nellis Pk"
          ],
          [
           "2012/07/13 04:00:00+00",
           "25 Delamaine Dr"
          ],
          [
           "2012/07/11 04:00:00+00",
           "59 Chamberlin St"
          ],
          [
           "2012/07/10 04:00:00+00",
           "644 Genesee St"
          ],
          [
           "2012/07/10 04:00:00+00",
           "644 Genesee St"
          ],
          [
           "2012/07/08 04:00:00+00",
           "1250 Lakeshore Blvd"
          ],
          [
           "2012/07/08 04:00:00+00",
           "224 Shelter St"
          ],
          [
           "2012/07/08 04:00:00+00",
           "153 Electric Ave"
          ],
          [
           "2012/07/05 04:00:00+00",
           "131 Champlain St"
          ],
          [
           "2012/07/04 04:00:00+00",
           "298 Arborwood Ln"
          ],
          [
           "2012/07/04 04:00:00+00",
           "810 North St"
          ],
          [
           "2012/07/02 04:00:00+00",
           "646 Joseph Ave"
          ],
          [
           "2012/07/02 04:00:00+00",
           "1271 Clifford Ave"
          ],
          [
           "2012/07/01 04:00:00+00",
           "282 First St"
          ],
          [
           "2012/06/30 04:00:00+00",
           "1 Edgerton Park"
          ],
          [
           "2012/06/26 04:00:00+00",
           "97 Dr. Samuel Mccree Way"
          ],
          [
           "2012/06/25 04:00:00+00",
           "142 Electric Ave"
          ],
          [
           "2012/06/25 04:00:00+00",
           "239 Spencer St."
          ],
          [
           "2012/06/25 04:00:00+00",
           "22 Agnes St."
          ],
          [
           "2012/06/24 04:00:00+00",
           "780 Dewey Ave"
          ],
          [
           "2012/06/22 04:00:00+00",
           "780 Dewey Ave"
          ],
          [
           "2012/06/22 04:00:00+00",
           "780 Dewey Ave"
          ],
          [
           "2012/06/22 04:00:00+00",
           "Agnes St"
          ],
          [
           "2012/06/19 04:00:00+00",
           "872 Joseph Ave"
          ],
          [
           "2012/06/18 04:00:00+00",
           "327 Reynolds St"
          ],
          [
           "2012/06/16 04:00:00+00",
           "35 Chestnut St"
          ],
          [
           "2012/06/11 04:00:00+00",
           "1200 Kings Highway North"
          ],
          [
           "2012/06/10 04:00:00+00",
           "1102 N. Clinton Ave"
          ],
          [
           "2012/06/10 04:00:00+00",
           "1102 N. Clinton Ave"
          ],
          [
           "2012/06/09 04:00:00+00",
           "1182 N. Goodman St"
          ],
          [
           "2012/06/08 04:00:00+00",
           "65 Trenaman St"
          ],
          [
           "2012/06/05 04:00:00+00",
           "18 Manitou St"
          ],
          [
           "2012/06/01 04:00:00+00",
           "206 Ave A"
          ],
          [
           "2012/05/29 04:00:00+00",
           "282 Saxton St"
          ],
          [
           "2012/05/27 04:00:00+00",
           "90 Pulaski St"
          ],
          [
           "2012/05/25 04:00:00+00",
           "1865 Clifford Ave"
          ],
          [
           "2012/05/21 04:00:00+00",
           "743 Jay St"
          ],
          [
           "2012/05/21 04:00:00+00",
           "743 Jay St"
          ],
          [
           "2012/05/20 04:00:00+00",
           "277 Saxton St"
          ],
          [
           "2012/05/18 04:00:00+00",
           "346 Wilkins St"
          ],
          [
           "2012/05/17 04:00:00+00",
           "166 Selye Ter"
          ],
          [
           "2012/05/15 04:00:00+00",
           "247 Hazelwood Ter"
          ],
          [
           "2012/05/12 04:00:00+00",
           "155 Ernst St"
          ],
          [
           "2012/05/11 04:00:00+00",
           "595 Jefferson Ave"
          ],
          [
           "2012/05/09 04:00:00+00",
           "211 Hudson Ave"
          ],
          [
           "2012/05/06 04:00:00+00",
           "362 Genesee St"
          ],
          [
           "2012/05/03 04:00:00+00",
           "24 Murray St"
          ],
          [
           "2012/05/03 04:00:00+00",
           "510 Clifford Ave"
          ],
          [
           "2012/05/02 04:00:00+00",
           "1425 Portland Ave"
          ],
          [
           "2012/05/01 04:00:00+00",
           "295 Roycroft Dr"
          ],
          [
           "2012/04/27 04:00:00+00",
           "936 Hudson Ave"
          ],
          [
           "2012/04/21 04:00:00+00",
           "587 Conkey Ave"
          ],
          [
           "2012/04/20 04:00:00+00",
           "852 Jefferson Ave"
          ],
          [
           "2012/04/20 04:00:00+00",
           "852 Jefferson Ave"
          ],
          [
           "2012/04/18 04:00:00+00",
           "21 Diamond Pl"
          ],
          [
           "2012/04/15 04:00:00+00",
           "40 Franklin St"
          ],
          [
           "2012/04/14 04:00:00+00",
           "404 Tremont St"
          ],
          [
           "2012/04/13 04:00:00+00",
           "20 Glasser St"
          ],
          [
           "2012/04/11 04:00:00+00",
           "506 Glenwood Ave"
          ],
          [
           "2012/04/09 04:00:00+00",
           "16 Dayton Street"
          ],
          [
           "2012/04/09 04:00:00+00",
           "16 Dayton Street"
          ],
          [
           "2012/04/06 04:00:00+00",
           "218 Dr Samuel Mccree Way"
          ],
          [
           "2012/04/06 04:00:00+00",
           "1106 Ave D"
          ],
          [
           "2012/03/23 04:00:00+00",
           "439 Fernwood Ave"
          ],
          [
           "2012/03/20 04:00:00+00",
           "301 Parkway"
          ],
          [
           "2012/03/14 04:00:00+00",
           "22 Stout St"
          ],
          [
           "2012/03/14 04:00:00+00",
           "22 Stout St"
          ],
          [
           "2012/03/14 04:00:00+00",
           "22 Stout St"
          ],
          [
           "2012/03/14 04:00:00+00",
           "356 Cottage St"
          ],
          [
           "2012/03/12 04:00:00+00",
           "1155 Hudson Ave"
          ],
          [
           "2012/03/11 05:00:00+00",
           "719 S. Plymouth Ave"
          ],
          [
           "2012/03/11 05:00:00+00",
           "719 S. Plymouth Ave"
          ],
          [
           "2012/03/11 05:00:00+00",
           "433 Garson Ave"
          ],
          [
           "2012/03/01 05:00:00+00",
           "1004 Hudson Ave"
          ],
          [
           "2012/02/24 05:00:00+00",
           "Andrews St & Franklin St"
          ],
          [
           "2012/02/13 05:00:00+00",
           "338 Wilkins Street"
          ],
          [
           "2012/02/12 05:00:00+00",
           "293 Conkey Ave"
          ],
          [
           "2011/07/20 04:00:00+00",
           "426 Lyell Ave"
          ],
          [
           "2012/12/21 05:00:00+00",
           "398 Thurston Rd"
          ],
          [
           "2008/12/29 05:00:00+00",
           "343 Weaver St"
          ],
          [
           "2012/01/07 05:00:00+00",
           "862 Hudson Ave"
          ],
          [
           "2011/07/20 04:00:00+00",
           "1500 Clifford Ave"
          ],
          [
           "2011/07/13 04:00:00+00",
           "235 Hudson Ave"
          ],
          [
           "2012/01/05 05:00:00+00",
           "467 Bay St"
          ],
          [
           "2012/12/14 05:00:00+00",
           "22 Bobrich Dr"
          ],
          [
           "2013/11/14 05:00:00+00",
           "720 Lexington Ave"
          ],
          [
           "2008/12/28 05:00:00+00",
           "984 Portland Av"
          ],
          [
           "2011/07/13 04:00:00+00",
           "235 Hudson Ave"
          ],
          [
           "2012/12/13 05:00:00+00",
           "71 Alberta St"
          ],
          [
           "2013/11/13 05:00:00+00",
           "92 Holland St"
          ],
          [
           "2011/07/09 04:00:00+00",
           "683 Lake Ave"
          ],
          [
           "2012/01/05 05:00:00+00",
           "16 Willow St"
          ],
          [
           "2012/12/12 05:00:00+00",
           "408 Glenwood Ave, #2"
          ],
          [
           "2011/07/08 04:00:00+00",
           "256 Norton St"
          ],
          [
           "2012/12/12 05:00:00+00",
           "1155 N. Clinton Ave"
          ],
          [
           "2012/12/09 05:00:00+00",
           "42 Weaver St"
          ],
          [
           "2012/12/02 05:00:00+00",
           "61 Saratgoa Ave"
          ],
          [
           "2012/12/01 05:00:00+00",
           "431 Chili Ave"
          ],
          [
           "2012/11/24 05:00:00+00",
           "109 Harris St"
          ],
          [
           "2012/11/24 05:00:00+00",
           "351 Jefferson Ave, #1"
          ],
          [
           "2012/11/22 05:00:00+00",
           "404 Emerson St"
          ],
          [
           "2012/11/21 05:00:00+00",
           "238 Lexington Ave"
          ],
          [
           "2012/11/19 05:00:00+00",
           "56 Concord St"
          ],
          [
           "2012/11/18 05:00:00+00",
           "259 Jefferson Ave"
          ],
          [
           "2012/11/18 05:00:00+00",
           "56 Concord St"
          ],
          [
           "2012/11/12 05:00:00+00",
           "251 Spencer St"
          ],
          [
           "2012/11/12 05:00:00+00",
           "118 Arnett Blvd"
          ],
          [
           "2012/11/10 05:00:00+00",
           "126 Glide St"
          ],
          [
           "2012/11/09 05:00:00+00",
           "238 Lexington Ave"
          ],
          [
           "2012/11/08 05:00:00+00",
           "222 Saratoga Ave"
          ],
          [
           "2012/11/07 05:00:00+00",
           "1289 Clifford Ave"
          ],
          [
           "2012/11/02 04:00:00+00",
           "241 Weyl St"
          ],
          [
           "2012/10/31 04:00:00+00",
           "761 Dewey Ave"
          ],
          [
           "2012/10/30 04:00:00+00",
           "263 Alphonse St"
          ],
          [
           "2012/10/24 04:00:00+00",
           "85 Winteroth St"
          ],
          [
           "2012/10/22 04:00:00+00",
           "524 Campbell St"
          ],
          [
           "2012/10/19 04:00:00+00",
           "529 Thursston Rd"
          ],
          [
           "2012/10/14 04:00:00+00",
           "600 Lake Ave"
          ],
          [
           "2012/10/14 04:00:00+00",
           "741 Joseph Ave"
          ],
          [
           "2012/10/12 04:00:00+00",
           "699 S. Plymouth Ave"
          ],
          [
           "2012/10/12 04:00:00+00",
           "699 S. Plymouth Ave"
          ],
          [
           "2012/10/08 04:00:00+00",
           "239 Spencer St"
          ],
          [
           "2012/10/08 04:00:00+00",
           "886 N. Clinton Ave"
          ],
          [
           "2012/10/07 04:00:00+00",
           "507 Post Ave"
          ],
          [
           "2012/10/07 04:00:00+00",
           "1425 Portland Ave"
          ],
          [
           "2012/10/06 04:00:00+00",
           "Prince St & College Ave"
          ],
          [
           "2012/10/01 04:00:00+00",
           "26 Parkway St"
          ],
          [
           "2012/09/30 04:00:00+00",
           "262 Colvin St"
          ],
          [
           "2012/09/30 04:00:00+00",
           "69 Ravine Ave"
          ],
          [
           "2012/09/28 04:00:00+00",
           "71 Weld St"
          ],
          [
           "2012/09/27 04:00:00+00",
           "57 Waverly Place"
          ],
          [
           "2012/09/27 04:00:00+00",
           "836 N. Goodman St"
          ],
          [
           "2012/09/23 04:00:00+00",
           "343 Weaver St"
          ],
          [
           "2012/09/21 04:00:00+00",
           "42 Dana St"
          ],
          [
           "2012/09/19 04:00:00+00",
           "1070 Hudson Ave"
          ],
          [
           "2012/09/17 04:00:00+00",
           "2 Judson St"
          ],
          [
           "2012/09/17 04:00:00+00",
           "2 Judson St"
          ],
          [
           "2012/09/16 04:00:00+00",
           "90 Cleon St"
          ],
          [
           "2012/09/16 04:00:00+00",
           "90 Cleon St"
          ],
          [
           "2012/09/16 04:00:00+00",
           "167 Lux St"
          ],
          [
           "2012/09/16 04:00:00+00",
           "32 Harris St"
          ],
          [
           "2012/09/15 04:00:00+00",
           "199 Lyell Ave"
          ],
          [
           "2012/09/10 04:00:00+00",
           "114 Dr Samuel Mccree Way"
          ],
          [
           "2012/09/09 04:00:00+00",
           "23 Lime St"
          ],
          [
           "2012/09/08 04:00:00+00",
           "55 Sherwood Ave"
          ],
          [
           "2012/09/07 04:00:00+00",
           "9 Miller St"
          ],
          [
           "2012/09/07 04:00:00+00",
           "9 Miller St"
          ],
          [
           "2012/09/05 04:00:00+00",
           "1096 Ave D"
          ],
          [
           "2012/09/04 04:00:00+00",
           "123 Flower St"
          ],
          [
           "2012/09/03 04:00:00+00",
           "620 Dewey Ave"
          ],
          [
           "2012/09/02 04:00:00+00",
           "46 Weaver St"
          ],
          [
           "2012/09/01 04:00:00+00",
           "495 Bernard St"
          ],
          [
           "2012/08/30 04:00:00+00",
           "173 Carter St"
          ],
          [
           "2012/08/28 04:00:00+00",
           "136 Epworth St"
          ],
          [
           "2012/08/28 04:00:00+00",
           "5 Lasalle St"
          ],
          [
           "2012/08/25 04:00:00+00",
           "2167 Clifford Ave"
          ],
          [
           "2012/08/25 04:00:00+00",
           "234 Bay St"
          ],
          [
           "2012/08/25 04:00:00+00",
           "42 Resolute St"
          ],
          [
           "2012/08/25 04:00:00+00",
           "219 Conkey Ave"
          ],
          [
           "2012/08/25 04:00:00+00",
           "939 S Plymouth Ave"
          ],
          [
           "2012/08/24 04:00:00+00",
           "37 Flanders St"
          ],
          [
           "2012/08/24 04:00:00+00",
           "1459 N Clinton Ave"
          ],
          [
           "2012/08/23 04:00:00+00",
           "353 Melville St"
          ],
          [
           "2012/08/22 04:00:00+00",
           "27 Ravenwood Ave"
          ],
          [
           "2012/08/21 04:00:00+00",
           "587 Sawyer St"
          ],
          [
           "2012/08/20 04:00:00+00",
           "21 Hoeltzer St"
          ],
          [
           "2012/08/20 04:00:00+00",
           "376 Thurston Rd"
          ],
          [
           "2012/08/19 04:00:00+00",
           "215 Genesee St"
          ],
          [
           "2012/08/18 04:00:00+00",
           "53 Fern St"
          ],
          [
           "2012/08/15 04:00:00+00",
           "85 Roth St"
          ],
          [
           "2013/11/08 05:00:00+00",
           "741 Jospeh Av"
          ],
          [
           "2013/11/08 05:00:00+00",
           "76 Masseth St"
          ],
          [
           "2013/11/08 05:00:00+00",
           "134 Saratoga Av"
          ],
          [
           "2013/11/07 05:00:00+00",
           "442 Lyell Av"
          ],
          [
           "2013/11/03 04:00:00+00",
           "74 Charles St"
          ],
          [
           "2011/07/08 04:00:00+00",
           "256 Norton St"
          ],
          [
           "2012/01/04 05:00:00+00",
           "453 Lyell Ave"
          ],
          [
           "2011/07/04 04:00:00+00",
           "82 Holland St"
          ],
          [
           "2011/07/04 04:00:00+00",
           "71 Mt Hope Ave"
          ],
          [
           "2012/01/02 05:00:00+00",
           "351 Genesee St"
          ],
          [
           "2013/11/01 04:00:00+00",
           "564 Chili Av"
          ],
          [
           "2011/06/30 04:00:00+00",
           "84 Resolute St"
          ],
          [
           "2012/01/02 05:00:00+00",
           "351 Genesee St"
          ],
          [
           "2013/11/01 04:00:00+00",
           "564 Chili Av"
          ],
          [
           "2011/06/29 04:00:00+00",
           "95 Post Ave"
          ],
          [
           "2012/01/01 05:00:00+00",
           "215 Andrews St"
          ],
          [
           "2013/11/01 04:00:00+00",
           "402 Meigs St"
          ],
          [
           "2011/06/29 04:00:00+00",
           "2033 Clifford Ave"
          ],
          [
           "2008/12/20 05:00:00+00",
           "886 N Clinton Av"
          ],
          [
           "2012/01/01 05:00:00+00",
           "568 E. Main St"
          ],
          [
           "2013/11/01 04:00:00+00",
           "386 Maple St"
          ],
          [
           "2010/04/18 04:00:00+00",
           "238 Spencer St"
          ],
          [
           "2011/06/20 04:00:00+00",
           "109 Avenue B"
          ],
          [
           "2008/12/19 05:00:00+00",
           "23 Lang St"
          ],
          [
           "2013/10/29 04:00:00+00",
           "273 Tremont St"
          ],
          [
           "2008/12/14 05:00:00+00",
           "114 Ave E"
          ],
          [
           "2011/06/19 04:00:00+00",
           "359 Thurston St"
          ],
          [
           "2011/12/28 05:00:00+00",
           "17 William Warfield Dr"
          ],
          [
           "2013/10/29 04:00:00+00",
           "418 Lyell Ave"
          ],
          [
           "2008/12/14 05:00:00+00",
           "114 Ave E"
          ],
          [
           "2011/12/28 05:00:00+00",
           "519 Hudson Ave"
          ],
          [
           "2010/04/08 04:00:00+00",
           "364 Weaver St"
          ],
          [
           "2013/10/27 04:00:00+00",
           "521 Chili Av"
          ],
          [
           "2011/06/17 04:00:00+00",
           "900 E Main St"
          ],
          [
           "2008/12/14 05:00:00+00",
           "114 Ave E"
          ],
          [
           "2011/12/28 05:00:00+00",
           "519 Hudson Ave"
          ],
          [
           "2010/04/07 04:00:00+00",
           "2 Arbutus St"
          ],
          [
           "2013/10/27 04:00:00+00",
           "521 Chili Av"
          ],
          [
           "2011/06/15 04:00:00+00",
           "941 Hudson Ave"
          ],
          [
           "2008/12/13 05:00:00+00",
           "69 Evergreen St"
          ],
          [
           "2011/12/28 05:00:00+00",
           "519 Hudson Ave"
          ],
          [
           "2010/04/03 04:00:00+00",
           "3 Grace St"
          ],
          [
           "2013/10/20 04:00:00+00",
           "39 Cummings St"
          ],
          [
           "2011/06/15 04:00:00+00",
           "54 Roycroft Dr"
          ],
          [
           "2008/12/10 05:00:00+00",
           "53 Quincy St"
          ],
          [
           "2011/12/28 05:00:00+00",
           "615 Thurston Rd"
          ],
          [
           "2010/04/03 04:00:00+00",
           "3 Grace St"
          ],
          [
           "2013/10/19 04:00:00+00",
           "410 Central Av"
          ],
          [
           "2011/06/11 04:00:00+00",
           "567 W Main St"
          ],
          [
           "2011/06/10 04:00:00+00",
           "3 Rainier St"
          ],
          [
           "2011/06/08 04:00:00+00",
           "27 Oscar St"
          ],
          [
           "2011/06/05 04:00:00+00",
           "527 Monroe Ave"
          ],
          [
           "2011/06/05 04:00:00+00",
           "382 Wilkins St"
          ],
          [
           "2011/06/03 04:00:00+00",
           "58 Sobieski St"
          ],
          [
           "2011/05/31 04:00:00+00",
           "38 Thorndale Park"
          ],
          [
           "2011/05/30 04:00:00+00",
           "20 Finch St"
          ],
          [
           "2011/05/30 04:00:00+00",
           "335 Remington St"
          ],
          [
           "2011/05/30 04:00:00+00",
           "335 Remington St"
          ],
          [
           "2011/05/25 04:00:00+00",
           "37 Mohawk St"
          ],
          [
           "2011/05/23 04:00:00+00",
           "501 Lyell Ave"
          ],
          [
           "2011/05/22 04:00:00+00",
           "10 Herbert St"
          ],
          [
           "2011/05/22 04:00:00+00",
           "10 Herbert St"
          ],
          [
           "2011/05/18 04:00:00+00",
           "321 Ravine Ave"
          ],
          [
           "2011/05/15 04:00:00+00",
           "157 Hobart St"
          ],
          [
           "2011/05/12 04:00:00+00",
           "127 Pennsylvania Ave"
          ],
          [
           "2011/05/06 04:00:00+00",
           "31 Alice St"
          ],
          [
           "2011/05/05 04:00:00+00",
           "340 Conkey Ave"
          ],
          [
           "2011/04/30 04:00:00+00",
           "1014 Hudson Ave"
          ],
          [
           "2011/04/26 04:00:00+00",
           "92 Sander St"
          ],
          [
           "2011/04/22 04:00:00+00",
           "213 Wilkins St"
          ],
          [
           "2011/04/20 04:00:00+00",
           "1133 Norton St"
          ],
          [
           "2011/04/17 04:00:00+00",
           "61 Hoeltzer St"
          ],
          [
           "2011/04/05 04:00:00+00",
           "80 Twin Beeches Dr"
          ],
          [
           "2011/03/30 04:00:00+00",
           "1009 Joseph Ave"
          ],
          [
           "2011/03/28 04:00:00+00",
           "1051 N Clinton Ave"
          ],
          [
           "2011/03/21 04:00:00+00",
           "75 Carter St"
          ],
          [
           "2011/02/18 05:00:00+00",
           "211 Avenue A"
          ],
          [
           "2011/02/05 05:00:00+00",
           "480 Genesee St"
          ],
          [
           "2011/02/02 05:00:00+00",
           "367 Orchard St"
          ],
          [
           "2011/01/31 05:00:00+00",
           "117 Myrtle St"
          ],
          [
           "2011/01/30 05:00:00+00",
           "237 Andrews St"
          ],
          [
           "2011/01/27 05:00:00+00",
           "616 Smith St"
          ],
          [
           "2011/01/26 05:00:00+00",
           "254 Fernwood Ave"
          ],
          [
           "2011/01/22 05:00:00+00",
           "401 Arnett Blvd"
          ],
          [
           "2011/01/22 05:00:00+00",
           "401 Arnett Blvd"
          ],
          [
           "2011/01/14 05:00:00+00",
           "80 Thorndale Ter"
          ],
          [
           "2011/01/09 05:00:00+00",
           "155 Lincoln St"
          ],
          [
           "2011/01/09 05:00:00+00",
           "8 Chaumont St"
          ],
          [
           "2011/01/04 05:00:00+00",
           "43 Sixth St"
          ],
          [
           "2010/12/31 05:00:00+00",
           "17 Evergreen St"
          ],
          [
           "2010/12/31 05:00:00+00",
           "17 Evergreen St"
          ],
          [
           "2010/12/27 05:00:00+00",
           "666 Cedarwood Ter"
          ],
          [
           "2010/12/27 05:00:00+00",
           "666 Cedarwood Ter"
          ],
          [
           "2010/12/24 05:00:00+00",
           "62 Warsaw St"
          ],
          [
           "2010/12/20 05:00:00+00",
           "185 Roycroft Dr"
          ],
          [
           "2010/12/20 05:00:00+00",
           "185 Roycroft Dr"
          ],
          [
           "2010/12/12 05:00:00+00",
           "342 Murray St"
          ],
          [
           "2010/12/07 05:00:00+00",
           "743 S Plymouth Av"
          ],
          [
           "2010/11/30 05:00:00+00",
           "2167 Clifford Av"
          ],
          [
           "2010/11/29 05:00:00+00",
           "784 Hudson Av"
          ],
          [
           "2010/11/28 05:00:00+00",
           "1226 N Clinton Av"
          ],
          [
           "2010/11/16 05:00:00+00",
           "76 Central Pk"
          ],
          [
           "2010/11/11 05:00:00+00",
           "37 Third St"
          ],
          [
           "2010/11/11 05:00:00+00",
           "37 Third St"
          ],
          [
           "2010/11/11 05:00:00+00",
           "352 Driving Park Ave"
          ],
          [
           "2010/11/06 04:00:00+00",
           "525 Joseph Ave"
          ],
          [
           "2010/11/03 04:00:00+00",
           "1 Orpheum St"
          ],
          [
           "2010/10/19 04:00:00+00",
           "56 Laser St"
          ],
          [
           "2010/10/17 04:00:00+00",
           "140 West Ave"
          ],
          [
           "2010/10/16 04:00:00+00",
           "266 Roycroft Dr"
          ],
          [
           "2010/10/16 04:00:00+00",
           "266 Roycroft Dr"
          ],
          [
           "2010/10/13 04:00:00+00",
           "554 Woodbine Av"
          ],
          [
           "2010/10/13 04:00:00+00",
           "1382 Dewey Av"
          ],
          [
           "2010/10/10 04:00:00+00",
           "327 West Ave"
          ],
          [
           "2010/10/10 04:00:00+00",
           "84 Cameron St"
          ],
          [
           "2010/10/10 04:00:00+00",
           "394 Hayward Av"
          ],
          [
           "2010/10/08 04:00:00+00",
           "249 Adams St"
          ],
          [
           "2010/10/03 04:00:00+00",
           "43 Sander St"
          ],
          [
           "2010/10/02 04:00:00+00",
           "166 Atkinson St"
          ],
          [
           "2010/09/28 04:00:00+00",
           "125 Lenox St"
          ],
          [
           "2010/03/31 04:00:00+00",
           "18 Epworth St"
          ],
          [
           "2013/10/19 04:00:00+00",
           "410 Central Av"
          ],
          [
           "2011/12/27 05:00:00+00",
           "118 Saratoga Ave"
          ],
          [
           "2008/12/08 05:00:00+00",
           "2179 Clifford Av"
          ],
          [
           "2010/03/31 04:00:00+00",
           "18 Epworth St"
          ],
          [
           "2013/10/16 04:00:00+00",
           "560 Jefferson Av"
          ],
          [
           "2010/03/30 04:00:00+00",
           "7 Grace St"
          ],
          [
           "2011/12/26 05:00:00+00",
           "556 Parsells Ave"
          ],
          [
           "2013/10/13 04:00:00+00",
           "523 Brown St"
          ],
          [
           "2010/03/29 04:00:00+00",
           "453 Arnett Blvd"
          ],
          [
           "2008/12/03 05:00:00+00",
           "211 Earl St"
          ],
          [
           "2010/03/25 04:00:00+00",
           "799 W. Main St"
          ],
          [
           "2011/12/23 05:00:00+00",
           "465 Seward St"
          ],
          [
           "2013/10/13 04:00:00+00",
           "161 Pierpont St"
          ],
          [
           "2008/12/01 05:00:00+00",
           "41 Radio St"
          ],
          [
           "2010/03/24 04:00:00+00",
           "633 Dewey Ave"
          ],
          [
           "2011/12/20 05:00:00+00",
           "334 Thurston Rd"
          ],
          [
           "2013/10/13 04:00:00+00",
           "161 Pierpont St"
          ],
          [
           "2008/11/30 05:00:00+00",
           "34 Del Monte St"
          ],
          [
           "2010/03/18 04:00:00+00",
           "51 Epworth St"
          ],
          [
           "2011/12/17 05:00:00+00",
           "43 Essex St"
          ],
          [
           "2011/12/15 05:00:00+00",
           "1340 N. Clinton Ave"
          ],
          [
           "2011/12/14 05:00:00+00",
           "170 Baycliffe Dr"
          ],
          [
           "2011/12/12 05:00:00+00",
           "546 Newbury St"
          ],
          [
           "2011/12/11 05:00:00+00",
           "27 Sixth St"
          ],
          [
           "2011/12/11 05:00:00+00",
           "110 Wilbur St"
          ],
          [
           "2011/12/09 05:00:00+00",
           "72 Sixth St"
          ],
          [
           "2011/12/07 05:00:00+00",
           "171 Conkey Ave"
          ],
          [
           "2011/11/25 05:00:00+00",
           "237 Andrews St"
          ],
          [
           "2011/11/25 05:00:00+00",
           "237 Andrews St"
          ],
          [
           "2011/11/25 05:00:00+00",
           "449 Webster Ave"
          ],
          [
           "2011/11/13 05:00:00+00",
           "530 Webster Ave"
          ],
          [
           "2011/11/08 05:00:00+00",
           "77 Santee St"
          ],
          [
           "2011/11/07 05:00:00+00",
           "38 Brooklyn St"
          ],
          [
           "2011/11/06 04:00:00+00",
           "1510 Dewey Ave"
          ],
          [
           "2011/11/02 04:00:00+00",
           "1619 St. Paul St"
          ],
          [
           "2011/10/30 04:00:00+00",
           "554 Chili Ave"
          ],
          [
           "2011/10/30 04:00:00+00",
           "554 Chili Ave"
          ],
          [
           "2011/10/27 04:00:00+00",
           "1415 N Clinton Ave"
          ],
          [
           "2011/10/25 04:00:00+00",
           "332 Carter St"
          ],
          [
           "2011/10/25 04:00:00+00",
           "230 York St"
          ],
          [
           "2011/10/23 04:00:00+00",
           "1548 Dewey Ave"
          ],
          [
           "2011/10/22 04:00:00+00",
           "574 Maple St"
          ],
          [
           "2011/10/21 04:00:00+00",
           "1548 Dewey Ave"
          ],
          [
           "2011/10/15 04:00:00+00",
           "84 Roth St"
          ],
          [
           "2011/10/14 04:00:00+00",
           "11 Kappel Pl"
          ],
          [
           "2011/10/10 04:00:00+00",
           "5 Boston St"
          ],
          [
           "2011/10/08 04:00:00+00",
           "29 Sander St"
          ],
          [
           "2011/10/06 04:00:00+00",
           "14 Eighth St"
          ],
          [
           "2011/10/04 04:00:00+00",
           "315 Remington St"
          ],
          [
           "2011/10/03 04:00:00+00",
           "54 Grafton St"
          ],
          [
           "2011/10/03 04:00:00+00",
           "40 Elgin St"
          ],
          [
           "2011/10/01 04:00:00+00",
           "239 Roycroft Dr"
          ],
          [
           "2011/09/30 04:00:00+00",
           "20 Glasser St"
          ],
          [
           "2011/09/28 04:00:00+00",
           "15 Frances St"
          ],
          [
           "2011/09/24 04:00:00+00",
           "1004 Hudson Ave"
          ],
          [
           "2011/09/23 04:00:00+00",
           "7 Seventh St"
          ],
          [
           "2011/09/23 04:00:00+00",
           "1520 E. Main St"
          ],
          [
           "2011/09/18 04:00:00+00",
           "348 Parsells Ave"
          ],
          [
           "2011/09/16 04:00:00+00",
           "514 Central Pk"
          ],
          [
           "2011/09/12 04:00:00+00",
           "137 First St"
          ],
          [
           "2011/09/11 04:00:00+00",
           "463 Pearl St"
          ],
          [
           "2011/09/08 04:00:00+00",
           "161 Friederich Pk"
          ],
          [
           "2011/09/06 04:00:00+00",
           "1670 Dewey Ave"
          ],
          [
           "2011/08/31 04:00:00+00",
           "165 Winbourne Rd"
          ],
          [
           "2011/08/28 04:00:00+00",
           "421 Central Pk"
          ],
          [
           "2011/08/28 04:00:00+00",
           "71 Post Ave"
          ],
          [
           "2011/08/28 04:00:00+00",
           "550 Jefferson Ave"
          ],
          [
           "2011/08/27 04:00:00+00",
           "41 Baldwin St"
          ],
          [
           "2011/08/26 04:00:00+00",
           "670 Thurston Rd"
          ],
          [
           "2011/08/26 04:00:00+00",
           "149 Melville St"
          ],
          [
           "2011/08/26 04:00:00+00",
           "149 Melville St"
          ],
          [
           "2011/08/26 04:00:00+00",
           "53 Carter St"
          ],
          [
           "2011/08/25 04:00:00+00",
           "36 Cunningham St"
          ],
          [
           "2011/08/25 04:00:00+00",
           "36 Cunningham St"
          ],
          [
           "2011/08/25 04:00:00+00",
           "36 Cunningham St"
          ],
          [
           "2011/08/23 04:00:00+00",
           "115 Parkside Ave"
          ],
          [
           "2011/08/13 04:00:00+00",
           "46 Shelter St"
          ],
          [
           "2011/08/13 04:00:00+00",
           "1625 St Paul St"
          ],
          [
           "2011/08/13 04:00:00+00",
           "168 Melville St"
          ],
          [
           "2011/08/08 04:00:00+00",
           "2515 Mt Read Blvd"
          ],
          [
           "2011/08/06 04:00:00+00",
           "6 Costar St"
          ],
          [
           "2013/10/13 04:00:00+00",
           "161 Pierpont St"
          ],
          [
           "2008/11/25 05:00:00+00",
           "109 Thorndale Ter"
          ],
          [
           "2013/10/05 04:00:00+00",
           "712 Dewey Av"
          ],
          [
           "2008/11/20 05:00:00+00",
           "49 Fifth St"
          ],
          [
           "2013/10/05 04:00:00+00",
           "872 Hudson Ave"
          ],
          [
           "2010/03/09 05:00:00+00",
           "160 Ave B"
          ],
          [
           "2008/11/20 05:00:00+00",
           "49 Fifth St"
          ],
          [
           "2013/10/01 04:00:00+00",
           "1930 Clifford Av"
          ],
          [
           "2010/03/06 05:00:00+00",
           "21 Agnes St"
          ],
          [
           "2008/11/20 05:00:00+00",
           "49 Fifth St"
          ],
          [
           "2013/10/01 04:00:00+00",
           "620 Dewey Av"
          ],
          [
           "2010/03/06 05:00:00+00",
           "21 Agnes St"
          ],
          [
           "2008/11/15 05:00:00+00",
           "45 Chestnut St"
          ],
          [
           "2013/09/29 04:00:00+00",
           "449 Lyell Av"
          ],
          [
           "2010/03/05 05:00:00+00",
           "1089 Joseph Ave"
          ],
          [
           "2008/11/08 05:00:00+00",
           "617 N Goodman St"
          ],
          [
           "2013/09/25 04:00:00+00",
           "156 Saranac St"
          ],
          [
           "2013/09/15 04:00:00+00",
           "147 Bartlett St"
          ],
          [
           "2013/09/11 04:00:00+00",
           "521 Chili Av"
          ],
          [
           "2013/09/10 04:00:00+00",
           "146 Burrows St"
          ],
          [
           "2013/09/09 04:00:00+00",
           "471 Cottage St"
          ],
          [
           "2013/09/09 04:00:00+00",
           "19 Salina St"
          ],
          [
           "2013/09/09 04:00:00+00",
           "30 Hart St"
          ],
          [
           "2013/09/06 04:00:00+00",
           "456 Chili Av"
          ],
          [
           "2013/09/05 04:00:00+00",
           "185 Lyell Av"
          ],
          [
           "2013/09/04 04:00:00+00",
           "274 Pullman Av"
          ],
          [
           "2013/09/01 04:00:00+00",
           "42 Resoulte St"
          ],
          [
           "2013/08/30 04:00:00+00",
           "583 Lake Av"
          ],
          [
           "2013/08/29 04:00:00+00",
           "558 Driving Park Ave"
          ],
          [
           "2013/08/25 04:00:00+00",
           "148 Gardiner Av"
          ],
          [
           "2013/08/25 04:00:00+00",
           "148 Gardiner Av"
          ],
          [
           "2013/08/23 04:00:00+00",
           "130 Jefferson Av"
          ],
          [
           "2013/08/23 04:00:00+00",
           "20 Cummings St"
          ],
          [
           "2013/08/18 04:00:00+00",
           "719 S Plymouth Av"
          ],
          [
           "2013/08/18 04:00:00+00",
           "719 S Plymouth Av"
          ],
          [
           "2013/08/18 04:00:00+00",
           "719 S Plymouth Av"
          ],
          [
           "2013/08/17 04:00:00+00",
           "550 Jefferson Av"
          ],
          [
           "2013/08/17 04:00:00+00",
           "550 Jefferson Av"
          ],
          [
           "2013/08/17 04:00:00+00",
           "651 Jefferson Av"
          ],
          [
           "2013/08/15 04:00:00+00",
           "199 Ave D"
          ],
          [
           "2013/08/15 04:00:00+00",
           "232 Alphonse St"
          ],
          [
           "2013/08/14 04:00:00+00",
           "46 Copeland St"
          ],
          [
           "2013/08/12 04:00:00+00",
           "154 Merrill St"
          ],
          [
           "2013/08/07 04:00:00+00",
           "480 W Main St"
          ],
          [
           "2013/08/05 04:00:00+00",
           "819 N Clinton Ave"
          ],
          [
           "2013/08/03 04:00:00+00",
           "6 Schley Pl"
          ],
          [
           "2013/08/03 04:00:00+00",
           "664 Genesee St"
          ],
          [
           "2013/07/30 04:00:00+00",
           "35 Shelter St"
          ],
          [
           "2013/07/28 04:00:00+00",
           "106 Cameron St"
          ],
          [
           "2013/07/28 04:00:00+00",
           "106 Cameron St"
          ],
          [
           "2013/07/24 04:00:00+00",
           "360 Thurston Rd"
          ],
          [
           "2013/07/21 04:00:00+00",
           "1354 Dewey Av"
          ],
          [
           "2013/07/16 04:00:00+00",
           "210 Troup St"
          ],
          [
           "2013/07/12 04:00:00+00",
           "19 Boston St"
          ],
          [
           "2013/07/12 04:00:00+00",
           "19 Boston St"
          ],
          [
           "2013/07/10 04:00:00+00",
           "204 Campbell Pk"
          ],
          [
           "2013/07/09 04:00:00+00",
           "343 Frost Av"
          ],
          [
           "2013/07/08 04:00:00+00",
           "676 Jefferson Av"
          ],
          [
           "2013/07/08 04:00:00+00",
           "44 Woodward St"
          ],
          [
           "2013/07/07 04:00:00+00",
           "28 Diringer Pl"
          ],
          [
           "2013/07/06 04:00:00+00",
           "20 Murray St"
          ],
          [
           "2013/07/06 04:00:00+00",
           "360 Thurston Rd"
          ],
          [
           "2013/07/05 04:00:00+00",
           "327 Conkey Av"
          ],
          [
           "2013/07/05 04:00:00+00",
           "719 S Plymouth Av"
          ],
          [
           "2013/07/04 04:00:00+00",
           "360 Thurston Rd"
          ],
          [
           "2013/07/04 04:00:00+00",
           "546 N Clinton Av"
          ],
          [
           "2013/07/02 04:00:00+00",
           "68 Trust St"
          ],
          [
           "2013/07/02 04:00:00+00",
           "68 Trust St"
          ],
          [
           "2013/06/29 04:00:00+00",
           "89 Coleman Terr"
          ],
          [
           "2010/02/27 05:00:00+00",
           "142 High St"
          ],
          [
           "2010/02/25 05:00:00+00",
           "68 Warner St"
          ],
          [
           "2010/02/24 05:00:00+00",
           "449 Wellington"
          ],
          [
           "2010/02/17 05:00:00+00",
           "145 Weyl St"
          ],
          [
           "2008/11/08 05:00:00+00",
           "491 Wilkins St"
          ],
          [
           "2010/02/14 05:00:00+00",
           "433 Avenue A"
          ],
          [
           "2008/11/07 05:00:00+00",
           "18 Radio St"
          ],
          [
           "2008/11/05 05:00:00+00",
           "26 Joseph Pl"
          ],
          [
           "2010/02/13 05:00:00+00",
           "419 Ridgeway Ave"
          ],
          [
           "2008/11/05 05:00:00+00",
           "153 Alphonse St"
          ],
          [
           "2010/01/27 05:00:00+00",
           "130 Masseth St"
          ],
          [
           "2008/11/05 05:00:00+00",
           "153 Alphonse St"
          ],
          [
           "2010/01/27 05:00:00+00",
           "96 Garson Ave"
          ],
          [
           "2008/11/05 05:00:00+00",
           "419 Birr St"
          ],
          [
           "2008/11/03 05:00:00+00",
           "145 Weaver St"
          ],
          [
           "2010/01/24 05:00:00+00",
           "310 Remington St"
          ],
          [
           "2008/10/31 04:00:00+00",
           "346 Avenue B"
          ],
          [
           "2010/01/22 05:00:00+00",
           "1029 Portland Ave"
          ],
          [
           "2008/10/30 04:00:00+00",
           "1195 N Clinton Av"
          ],
          [
           "2010/01/22 05:00:00+00",
           "580 Tremont St"
          ],
          [
           "2008/10/26 04:00:00+00",
           "143 Hawley St"
          ],
          [
           "2010/01/17 05:00:00+00",
           "576 Garson"
          ],
          [
           "2010/01/14 05:00:00+00",
           "27 Rand St"
          ],
          [
           "2010/01/14 05:00:00+00",
           "1148 Portland Ave"
          ],
          [
           "2010/01/14 05:00:00+00",
           "1148 Portland Ave"
          ],
          [
           "2010/01/14 05:00:00+00",
           "1148 Portland Ave"
          ],
          [
           "2010/01/11 05:00:00+00",
           "Dewey Av & Glenwood Av"
          ],
          [
           "2010/01/09 05:00:00+00",
           "30 Emmett St"
          ],
          [
           "2010/01/03 05:00:00+00",
           "337 Genesee St"
          ],
          [
           "2009/12/27 05:00:00+00",
           "46 Rauber St"
          ],
          [
           "2009/12/19 05:00:00+00",
           "4 Hawkins St"
          ],
          [
           "2009/12/19 05:00:00+00",
           "1571 Clifford Ave"
          ],
          [
           "2009/12/14 05:00:00+00",
           "223 Portland Ave"
          ],
          [
           "2009/12/12 05:00:00+00",
           "Bay St & Ackerman"
          ],
          [
           "2009/12/09 05:00:00+00",
           "1215 North St"
          ],
          [
           "2009/12/01 05:00:00+00",
           "265 Driving Park Ave"
          ],
          [
           "2009/12/01 05:00:00+00",
           "265 Driving Park Ave"
          ],
          [
           "2009/12/01 05:00:00+00",
           "295 Central Pk"
          ],
          [
           "2009/11/30 05:00:00+00",
           "William Warfield Dr"
          ],
          [
           "2009/11/29 05:00:00+00",
           "46 Garnet St"
          ],
          [
           "2009/11/23 05:00:00+00",
           "287 Durnan St"
          ],
          [
           "2009/11/15 05:00:00+00",
           "40 Dale St"
          ],
          [
           "2009/11/12 05:00:00+00",
           "158 Roycroft St"
          ],
          [
           "2009/11/09 05:00:00+00",
           "4 New York St"
          ],
          [
           "2009/11/05 05:00:00+00",
           "751 Jefferson Ave"
          ],
          [
           "2009/10/30 04:00:00+00",
           "14 Vetter St"
          ],
          [
           "2009/10/30 04:00:00+00",
           "271 Central Park"
          ],
          [
           "2009/10/29 04:00:00+00",
           "1046B University Ave"
          ],
          [
           "2009/10/26 04:00:00+00",
           "198 Magee Ave"
          ],
          [
           "2009/10/24 04:00:00+00",
           "529 Thurston Rd"
          ],
          [
           "2009/10/24 04:00:00+00",
           "529 Thurston Rd"
          ],
          [
           "2009/10/24 04:00:00+00",
           "42 Treyer St"
          ],
          [
           "2009/10/24 04:00:00+00",
           "42 Treyer St"
          ],
          [
           "2009/10/24 04:00:00+00",
           "1136 Dewey Ave"
          ],
          [
           "2009/10/18 04:00:00+00",
           "203 Dartmouth St"
          ],
          [
           "2009/10/18 04:00:00+00",
           "360 Thurston Rd"
          ],
          [
           "2009/10/17 04:00:00+00",
           "541 Lyell Ave"
          ],
          [
           "2009/10/16 04:00:00+00",
           "33 Thorndale Ter"
          ],
          [
           "2009/10/14 04:00:00+00",
           "49 Herald St"
          ],
          [
           "2009/10/12 04:00:00+00",
           "88 Jackson St"
          ],
          [
           "2009/10/12 04:00:00+00",
           "952 Hudson Ave"
          ],
          [
           "2009/10/11 04:00:00+00",
           "80 Franklin St"
          ],
          [
           "2009/10/11 04:00:00+00",
           "209 Atkinson St"
          ],
          [
           "2009/10/09 04:00:00+00",
           "Dewey & Magee"
          ],
          [
           "2009/10/08 04:00:00+00",
           "341 Fourth St"
          ],
          [
           "2009/10/06 04:00:00+00",
           "89 Genesee St"
          ],
          [
           "2009/10/05 04:00:00+00",
           "1055 S Plymouth Ave"
          ],
          [
           "2009/10/03 04:00:00+00",
           "4 Helena St"
          ],
          [
           "2009/09/25 04:00:00+00",
           "551 N Goodman St"
          ],
          [
           "2009/09/16 04:00:00+00",
           "351 Genesee St"
          ],
          [
           "2009/09/16 04:00:00+00",
           "351 Genesee St"
          ],
          [
           "2009/09/15 04:00:00+00",
           "32 Ferndale"
          ],
          [
           "2009/09/13 04:00:00+00",
           "954 Jay St"
          ],
          [
           "2009/09/13 04:00:00+00",
           "954 Jay St"
          ],
          [
           "2009/09/11 04:00:00+00",
           "1005 Hudson Ave"
          ],
          [
           "2009/09/11 04:00:00+00",
           "1005 Hudson Ave"
          ],
          [
           "2009/09/09 04:00:00+00",
           "26 Lisbon St"
          ],
          [
           "2009/09/08 04:00:00+00",
           "8 Bay St"
          ],
          [
           "2009/09/06 04:00:00+00",
           "681 Lexington Ave"
          ],
          [
           "2008/10/20 04:00:00+00",
           "59 Clifton St"
          ],
          [
           "2008/10/16 04:00:00+00",
           "1699 Clifford Ave"
          ],
          [
           "2008/10/15 04:00:00+00",
           "261 Parsells Av"
          ],
          [
           "2008/10/13 04:00:00+00",
           "357 Roxborough Rd"
          ],
          [
           "2008/10/12 04:00:00+00",
           "48 Wooden St"
          ],
          [
           "2008/10/12 04:00:00+00",
           "103 Weld St"
          ],
          [
           "2008/10/11 04:00:00+00",
           "321 Scio St"
          ],
          [
           "2008/10/10 04:00:00+00",
           "16 Phelps Av"
          ],
          [
           "2008/10/09 04:00:00+00",
           "365 Troup St"
          ],
          [
           "2008/10/07 04:00:00+00",
           "127 Woodward St"
          ],
          [
           "2008/10/04 04:00:00+00",
           "758 Ridgeway"
          ],
          [
           "2008/09/27 04:00:00+00",
           "575 North St"
          ],
          [
           "2008/09/25 04:00:00+00",
           "542 Hollenbeck St"
          ],
          [
           "2008/09/25 04:00:00+00",
           "461 Parsells Av"
          ],
          [
           "2008/09/21 04:00:00+00",
           "422 Jefferson Av"
          ],
          [
           "2008/09/21 04:00:00+00",
           "20 Warner St"
          ],
          [
           "2008/09/21 04:00:00+00",
           "20 Warner St"
          ],
          [
           "2008/09/20 04:00:00+00",
           "1 Morrill St"
          ],
          [
           "2008/09/17 04:00:00+00",
           "904 Joseph Ave"
          ],
          [
           "2008/09/15 04:00:00+00",
           "7 Welstead Pl"
          ],
          [
           "2008/09/10 04:00:00+00",
           "145 Merrimac St"
          ],
          [
           "2008/09/07 04:00:00+00",
           "112 Freiderich Pk"
          ],
          [
           "2008/09/03 04:00:00+00",
           "561 N Goodman St"
          ],
          [
           "2008/09/02 04:00:00+00",
           "51 Sixth St"
          ],
          [
           "2008/08/31 04:00:00+00",
           "479 Carter St"
          ],
          [
           "2008/08/30 04:00:00+00",
           "600 Monroe Av"
          ],
          [
           "2008/08/30 04:00:00+00",
           "168 Ellicott St"
          ],
          [
           "2008/08/28 04:00:00+00",
           "150 Hawley St"
          ],
          [
           "2008/08/27 04:00:00+00",
           "45 Lime St"
          ],
          [
           "2008/08/26 04:00:00+00",
           "73 Weld St"
          ],
          [
           "2008/08/25 04:00:00+00",
           "69 Herald St"
          ],
          [
           "2008/08/24 04:00:00+00",
           "892 N Clinton Av"
          ],
          [
           "2008/08/22 04:00:00+00",
           "71 Normandy St"
          ],
          [
           "2008/08/18 04:00:00+00",
           "125 W High Ter"
          ],
          [
           "2008/08/16 04:00:00+00",
           "3 Driving Park Av"
          ],
          [
           "2008/08/06 04:00:00+00",
           "155 Weld St"
          ],
          [
           "2008/08/03 04:00:00+00",
           "185 Westfield St"
          ],
          [
           "2008/08/03 04:00:00+00",
           "321 Driving Park Ave"
          ],
          [
           "2008/07/29 04:00:00+00",
           "267 Colvin St"
          ],
          [
           "2008/07/29 04:00:00+00",
           "267 Colvin St"
          ],
          [
           "2008/07/23 04:00:00+00",
           "299 Adams St"
          ],
          [
           "2008/07/21 04:00:00+00",
           "106 Pennsylvania Ave"
          ],
          [
           "2008/07/19 04:00:00+00",
           "60 Lakeview Pk"
          ],
          [
           "2008/07/19 04:00:00+00",
           "397 Ravine Ave"
          ],
          [
           "2008/07/18 04:00:00+00",
           "248 Glenwood Ave"
          ],
          [
           "2008/07/17 04:00:00+00",
           "386 Maple St"
          ],
          [
           "2008/07/17 04:00:00+00",
           "13 Arborwood Cr"
          ],
          [
           "2008/07/15 04:00:00+00",
           "266 Lexington Ave"
          ],
          [
           "2008/07/11 04:00:00+00",
           "166 Desmond St"
          ],
          [
           "2008/07/10 04:00:00+00",
           "82 Grape St"
          ],
          [
           "2008/07/10 04:00:00+00",
           "140 Pennsylvania Ave"
          ],
          [
           "2008/07/10 04:00:00+00",
           "140 Pennsylvania Ave"
          ],
          [
           "2004/11/29 05:00:00+00",
           "166 Durnan St"
          ],
          [
           "2004/11/27 05:00:00+00",
           "172 Alphonse St"
          ],
          [
           "2004/11/25 05:00:00+00",
           "467 Park Av"
          ],
          [
           "2004/11/23 05:00:00+00",
           "1870 Clifford Av"
          ],
          [
           "2004/11/23 05:00:00+00",
           "540 Portland Av"
          ],
          [
           "2004/11/23 05:00:00+00",
           "1271 Clifford Av"
          ],
          [
           "2004/11/20 05:00:00+00",
           "520 Seward St"
          ],
          [
           "2007/06/20 04:00:00+00",
           "700 North St"
          ],
          [
           "2008/07/08 04:00:00+00",
           "142 Rohr St"
          ],
          [
           "2007/11/21 05:00:00+00",
           "152 Fulton"
          ],
          [
           "2004/11/20 05:00:00+00",
           "520 Seward St"
          ],
          [
           "2004/11/17 05:00:00+00",
           "227 Orchard St"
          ],
          [
           "2004/11/16 05:00:00+00",
           "78 Aab St"
          ],
          [
           "2004/11/16 05:00:00+00",
           "791 S Plymouth Av"
          ],
          [
           "2004/11/11 05:00:00+00",
           "61 Harris St"
          ],
          [
           "2004/11/11 05:00:00+00",
           "61 Harris St"
          ],
          [
           "2004/11/10 05:00:00+00",
           "1 Edgerton Pk"
          ],
          [
           "2004/11/10 05:00:00+00",
           "31 Bryan St"
          ],
          [
           "2004/11/04 05:00:00+00",
           "432 Arnett Bl"
          ],
          [
           "2004/11/02 05:00:00+00",
           "488 E Main St"
          ],
          [
           "2004/11/01 05:00:00+00",
           "568 Hudson Av"
          ],
          [
           "2004/10/31 04:00:00+00",
           "478 Portland Av"
          ],
          [
           "2004/10/29 04:00:00+00",
           "546 Lyell Av"
          ],
          [
           "2004/10/23 04:00:00+00",
           "580 Jefferson Av"
          ],
          [
           "2004/10/21 04:00:00+00",
           "27 Hancock St"
          ],
          [
           "2004/10/20 04:00:00+00",
           "70 Chili Av"
          ],
          [
           "2004/10/20 04:00:00+00",
           "153 Longview Te"
          ],
          [
           "2004/10/19 04:00:00+00",
           "32 Angle St"
          ],
          [
           "2004/10/12 04:00:00+00",
           "62 Arch St"
          ],
          [
           "2004/10/10 04:00:00+00",
           "160 Fulton Av"
          ],
          [
           "2004/10/10 04:00:00+00",
           "160 Fulton Av"
          ],
          [
           "2004/10/09 04:00:00+00",
           "280 Central Pk"
          ],
          [
           "2004/10/06 04:00:00+00",
           "121 2Nd St"
          ],
          [
           "2004/10/06 04:00:00+00",
           "331 1St St"
          ],
          [
           "2004/10/01 04:00:00+00",
           "50 Clay Av"
          ],
          [
           "2004/10/01 04:00:00+00",
           "566 Conkey Av"
          ],
          [
           "2004/09/29 04:00:00+00",
           "323 Reynolds St"
          ],
          [
           "2004/09/26 04:00:00+00",
           "1254 St Paul St"
          ],
          [
           "2004/09/25 04:00:00+00",
           "142 Laurelton Rd"
          ],
          [
           "2004/09/24 04:00:00+00",
           "63 Niagara St"
          ],
          [
           "2004/09/18 04:00:00+00",
           "131 Elba St"
          ],
          [
           "2004/09/12 04:00:00+00",
           "74 St Paul St"
          ],
          [
           "2004/09/12 04:00:00+00",
           "706 Clifford Av"
          ],
          [
           "2004/09/08 04:00:00+00",
           "571 Lake Av"
          ],
          [
           "2004/09/06 04:00:00+00",
           "135 Ackerman St"
          ],
          [
           "2004/09/05 04:00:00+00",
           "189 Warner St"
          ],
          [
           "2004/09/05 04:00:00+00",
           "68 Ravine Av"
          ],
          [
           "2004/09/04 04:00:00+00",
           "25 Copeland St"
          ],
          [
           "2004/09/03 04:00:00+00",
           "340 Ave B"
          ],
          [
           "2004/09/01 04:00:00+00",
           "250 Spencer St"
          ],
          [
           "2004/08/31 04:00:00+00",
           "628 Dewey Av"
          ],
          [
           "2004/08/30 04:00:00+00",
           "10 Laurel St"
          ],
          [
           "2004/08/30 04:00:00+00",
           "228 Roycroft Dr"
          ],
          [
           "2004/08/29 04:00:00+00",
           "307 Adams St"
          ],
          [
           "2004/08/29 04:00:00+00",
           "35 Helena St"
          ],
          [
           "2004/08/26 04:00:00+00",
           "601 Elmwood Av"
          ],
          [
           "2004/08/26 04:00:00+00",
           "238 Webster Av"
          ],
          [
           "2004/08/24 04:00:00+00",
           "99 Ambrose St"
          ],
          [
           "2004/08/24 04:00:00+00",
           "467 Bay St"
          ],
          [
           "2004/08/20 04:00:00+00",
           "1 Morrill St"
          ],
          [
           "2004/08/20 04:00:00+00",
           "1 Morrill St"
          ],
          [
           "2004/08/15 04:00:00+00",
           "60 Mortimer St"
          ],
          [
           "2004/08/15 04:00:00+00",
           "60 Mortimer St"
          ],
          [
           "2004/08/15 04:00:00+00",
           "60 Mortimer St"
          ],
          [
           "2004/08/15 04:00:00+00",
           "7 Bay St"
          ],
          [
           "2004/08/15 04:00:00+00",
           "522 E Main St"
          ],
          [
           "2004/08/12 04:00:00+00",
           "264 Ave B"
          ],
          [
           "2004/08/06 04:00:00+00",
           "210 Hawley St"
          ],
          [
           "2004/08/04 04:00:00+00",
           "341 Central Pk"
          ],
          [
           "2004/08/04 04:00:00+00",
           "341 Central Pk"
          ],
          [
           "2004/08/02 04:00:00+00",
           "43 Dale St"
          ],
          [
           "2004/08/01 04:00:00+00",
           "555 Woodbine Av"
          ],
          [
           "2004/08/01 04:00:00+00",
           "63 Niagara St"
          ],
          [
           "2004/08/01 04:00:00+00",
           "6 Fulton Av"
          ],
          [
           "2004/07/29 04:00:00+00",
           "127 Berlin St"
          ],
          [
           "2004/07/26 04:00:00+00",
           "16 Twin Beeches Dr"
          ],
          [
           "2004/07/23 04:00:00+00",
           "125 Wilkins St"
          ],
          [
           "2004/07/22 04:00:00+00",
           "321 Post Av"
          ],
          [
           "2004/07/20 04:00:00+00",
           "1307 E Main St"
          ],
          [
           "2004/07/20 04:00:00+00",
           "196 Seneca Av"
          ],
          [
           "2004/07/16 04:00:00+00",
           "646 Joseph Av"
          ],
          [
           "2004/07/16 04:00:00+00",
           "945 Joseph Av"
          ],
          [
           "2004/07/16 04:00:00+00",
           "116 Garson Av"
          ],
          [
           "2004/07/15 04:00:00+00",
           "188 Bay St"
          ],
          [
           "2004/07/12 04:00:00+00",
           "371 Cottage St"
          ],
          [
           "2004/07/10 04:00:00+00",
           "940 W Broad St"
          ],
          [
           "2004/07/10 04:00:00+00",
           "605 Smith St"
          ],
          [
           "2004/07/10 04:00:00+00",
           "263 Emerson St"
          ],
          [
           "2004/07/04 04:00:00+00",
           "398 Ravine Av"
          ],
          [
           "2004/06/29 04:00:00+00",
           "414 Hayward Av"
          ],
          [
           "2006/11/26 05:00:00+00",
           "257 Hawley St"
          ],
          [
           "2006/07/24 04:00:00+00",
           "113 Normandy Av"
          ],
          [
           "2006/07/23 04:00:00+00",
           "1172 S Plymouth Av"
          ],
          [
           "2006/04/20 04:00:00+00",
           "214 Lake Av"
          ],
          [
           "2006/07/23 04:00:00+00",
           "12 Kensington St"
          ],
          [
           "2007/06/18 04:00:00+00",
           "201 Sawyer St"
          ],
          [
           "2006/11/26 05:00:00+00",
           "362 Hawley St"
          ],
          [
           "2008/07/05 04:00:00+00",
           "16 Penhurst St"
          ],
          [
           "2008/07/05 04:00:00+00",
           "2 Greenwood"
          ],
          [
           "2007/11/20 05:00:00+00",
           "1060 E Main St"
          ],
          [
           "2007/06/16 04:00:00+00",
           "63 Rohr St"
          ],
          [
           "2005/09/21 04:00:00+00",
           "600 W Main St"
          ],
          [
           "2006/04/13 04:00:00+00",
           "450 Lyell Av"
          ],
          [
           "2008/07/04 04:00:00+00",
           "398 Thurston Rd"
          ],
          [
           "2006/11/25 05:00:00+00",
           "55 Agnes St"
          ],
          [
           "2006/07/22 04:00:00+00",
           "54 Thurston Rd"
          ],
          [
           "2007/11/20 05:00:00+00",
           "51 Tacoma St"
          ],
          [
           "2005/09/21 04:00:00+00",
           "909 Jefferson Av"
          ],
          [
           "2006/04/13 04:00:00+00",
           "570 North St"
          ],
          [
           "2008/07/03 04:00:00+00",
           "229 Spencer St"
          ],
          [
           "2006/07/22 04:00:00+00",
           "440 Lake Av"
          ],
          [
           "2007/11/20 05:00:00+00",
           "51 Tacoma St"
          ],
          [
           "2007/11/18 05:00:00+00",
           "300 University Av"
          ],
          [
           "2007/11/18 05:00:00+00",
           "47 Wellington Av"
          ],
          [
           "2007/11/17 05:00:00+00",
           "191 Fernwood Av"
          ],
          [
           "2007/11/13 05:00:00+00",
           "1380 Lyell Ave"
          ],
          [
           "2007/11/09 05:00:00+00",
           "515 Thurston Rd"
          ],
          [
           "2007/11/08 05:00:00+00",
           "24 Mark St"
          ],
          [
           "2007/11/07 05:00:00+00",
           "142 Flanders St"
          ],
          [
           "2007/11/04 04:00:00+00",
           "209 Spencer St"
          ],
          [
           "2007/11/01 04:00:00+00",
           "32 Copeland St"
          ],
          [
           "2007/11/01 04:00:00+00",
           "32 Copeland St"
          ],
          [
           "2007/10/30 04:00:00+00",
           "720 N Goodman St"
          ],
          [
           "2007/10/29 04:00:00+00",
           "41 St Paul St"
          ],
          [
           "2007/10/28 04:00:00+00",
           "194 Roycroft Dr"
          ],
          [
           "2007/10/28 04:00:00+00",
           "409 Sixth St"
          ],
          [
           "2007/10/23 04:00:00+00",
           "164 Morrill St"
          ],
          [
           "2007/10/19 04:00:00+00",
           "186 Emerson St"
          ],
          [
           "2007/10/19 04:00:00+00",
           "186 Emerson St"
          ],
          [
           "2007/10/14 04:00:00+00",
           "229 Wilder St"
          ],
          [
           "2007/10/11 04:00:00+00",
           "74 Abersold St"
          ],
          [
           "2007/10/11 04:00:00+00",
           "1695 Clifford Av"
          ],
          [
           "2007/09/30 04:00:00+00",
           "97 Dr Samuel Mccree Way"
          ],
          [
           "2007/09/29 04:00:00+00",
           "191 Fernwood Ave"
          ],
          [
           "2007/09/25 04:00:00+00",
           "129 Weld St"
          ],
          [
           "2007/09/23 04:00:00+00",
           "1193 N Clinton Av"
          ],
          [
           "2007/09/23 04:00:00+00",
           "1193 N Clinton Av"
          ],
          [
           "2007/09/23 04:00:00+00",
           "560 Thurston Rd"
          ],
          [
           "2007/09/23 04:00:00+00",
           "36 Pardee St"
          ],
          [
           "2007/09/22 04:00:00+00",
           "163 Dr. Samuel Mccree Way"
          ],
          [
           "2007/09/21 04:00:00+00",
           "28 Angle St"
          ],
          [
           "2007/09/19 04:00:00+00",
           "24 Watkin Ter"
          ],
          [
           "2007/09/14 04:00:00+00",
           "74 Abersold St"
          ],
          [
           "2007/09/09 04:00:00+00",
           "60 Bittner St"
          ],
          [
           "2007/09/06 04:00:00+00",
           "362  Arnett Bl"
          ],
          [
           "2007/09/05 04:00:00+00",
           "41 Wilder St"
          ],
          [
           "2007/09/03 04:00:00+00",
           "487 Monroe Av"
          ],
          [
           "2007/09/03 04:00:00+00",
           "291 Parkway"
          ],
          [
           "2007/08/31 04:00:00+00",
           "501 Bernard St"
          ],
          [
           "2007/08/30 04:00:00+00",
           "295 Michigan St"
          ],
          [
           "2007/08/30 04:00:00+00",
           "104 Durnan St"
          ],
          [
           "2007/08/24 04:00:00+00",
           "414 Garson Av"
          ],
          [
           "2007/08/23 04:00:00+00",
           "563 Thurston Rd"
          ],
          [
           "2007/08/22 04:00:00+00",
           "77 Jackson St"
          ],
          [
           "2007/08/22 04:00:00+00",
           "872 Grand Av"
          ],
          [
           "2007/08/22 04:00:00+00",
           "83 Alberta St"
          ],
          [
           "2007/08/22 04:00:00+00",
           "872 Grand Av"
          ],
          [
           "2007/08/16 04:00:00+00",
           "299 Conkey Av"
          ],
          [
           "2007/08/11 04:00:00+00",
           "1038 N Clinton Av"
          ],
          [
           "2007/08/11 04:00:00+00",
           "20 Merle St"
          ],
          [
           "2007/08/09 04:00:00+00",
           "41 Radio St"
          ],
          [
           "2007/08/08 04:00:00+00",
           "89 Murray St"
          ],
          [
           "2007/08/06 04:00:00+00",
           "845 Maple St"
          ],
          [
           "2007/08/05 04:00:00+00",
           "540 Joseph Av"
          ],
          [
           "2007/08/03 04:00:00+00",
           "31 Weld St"
          ],
          [
           "2007/08/02 04:00:00+00",
           "164 Otis St"
          ],
          [
           "2007/07/29 04:00:00+00",
           "858 Hudson Ave"
          ],
          [
           "2007/07/29 04:00:00+00",
           "2 Trafalgar St"
          ],
          [
           "2007/07/28 04:00:00+00",
           "11 Mt Pleasant Pk"
          ],
          [
           "2007/07/27 04:00:00+00",
           "607 Avenue D"
          ],
          [
           "2007/07/26 04:00:00+00",
           "9 Lime St"
          ],
          [
           "2007/07/24 04:00:00+00",
           "1559 Clifford Ave"
          ],
          [
           "2007/07/24 04:00:00+00",
           "385 Murray St"
          ],
          [
           "2007/07/24 04:00:00+00",
           "982 S Clinton Ave"
          ],
          [
           "2007/07/24 04:00:00+00",
           "218 Magnolia St"
          ],
          [
           "2007/07/21 04:00:00+00",
           "548 Flower City Park"
          ],
          [
           "2007/07/16 04:00:00+00",
           "1391 Clifford Ave"
          ],
          [
           "2007/07/16 04:00:00+00",
           "151 Wilkins St"
          ],
          [
           "2007/07/16 04:00:00+00",
           "299 Webster Ave"
          ],
          [
           "2007/07/09 04:00:00+00",
           "178 Dickinson St"
          ],
          [
           "2007/07/09 04:00:00+00",
           "293 Remington St"
          ],
          [
           "2007/07/07 04:00:00+00",
           "600 Jay St"
          ],
          [
           "2007/07/07 04:00:00+00",
           "38 Second St"
          ],
          [
           "2007/07/06 04:00:00+00",
           "337 Genesee St"
          ],
          [
           "2007/07/05 04:00:00+00",
           "159 Lyell Ave"
          ],
          [
           "2007/07/02 04:00:00+00",
           "8 Conkey Ave"
          ],
          [
           "2007/07/01 04:00:00+00",
           "227 Saratoga Ave"
          ],
          [
           "2007/06/27 04:00:00+00",
           "486 Sawyer St"
          ],
          [
           "2007/06/27 04:00:00+00",
           "257 Grand Ave"
          ],
          [
           "2007/06/26 04:00:00+00",
           "44 Congress"
          ],
          [
           "2007/06/25 04:00:00+00",
           "73 Weld St"
          ],
          [
           "2007/06/24 04:00:00+00",
           "49 Reynolds St"
          ],
          [
           "2007/06/24 04:00:00+00",
           "134 York St"
          ],
          [
           "2007/06/23 04:00:00+00",
           "206 Martin St"
          ],
          [
           "2007/06/22 04:00:00+00",
           "16 Weld St"
          ],
          [
           "2007/06/21 04:00:00+00",
           "862 Hudson Av"
          ],
          [
           "2007/06/16 04:00:00+00",
           "63 Rohr St"
          ],
          [
           "2005/09/17 04:00:00+00",
           "8 Bay St"
          ],
          [
           "2008/06/30 04:00:00+00",
           "610 Scio St"
          ],
          [
           "2006/04/09 04:00:00+00",
           "238 Ave A"
          ],
          [
           "2006/11/23 05:00:00+00",
           "151 Seward St"
          ],
          [
           "2007/06/13 04:00:00+00",
           "215 Saratoga Av"
          ],
          [
           "2008/06/30 04:00:00+00",
           "610 Scio St"
          ],
          [
           "2008/06/25 04:00:00+00",
           "286 Reynolds St"
          ],
          [
           "2006/07/22 04:00:00+00",
           "53 Lime St"
          ],
          [
           "2006/04/09 04:00:00+00",
           "238 Ave A"
          ],
          [
           "2007/06/12 04:00:00+00",
           "32 Finch St"
          ],
          [
           "2008/06/23 04:00:00+00",
           "395 Clifford Av"
          ],
          [
           "2006/07/22 04:00:00+00",
           "2 Clifford Av"
          ],
          [
           "2006/11/21 05:00:00+00",
           "27 Walnut St"
          ],
          [
           "2006/04/06 04:00:00+00",
           "797 Maple St"
          ],
          [
           "2005/09/12 04:00:00+00",
           "494 W Main St"
          ],
          [
           "2008/06/15 04:00:00+00",
           "177 Fernwood Av"
          ],
          [
           "2006/07/19 04:00:00+00",
           "40 Backus St"
          ],
          [
           "2006/11/20 05:00:00+00",
           "355 Broadway"
          ],
          [
           "2006/11/16 05:00:00+00",
           "131 Emerson St"
          ],
          [
           "2006/11/13 05:00:00+00",
           "31 Ellison St"
          ],
          [
           "2006/11/10 05:00:00+00",
           "269 Sawyer St"
          ],
          [
           "2006/11/06 05:00:00+00",
           "125 Grand Av"
          ],
          [
           "2006/10/30 05:00:00+00",
           "140 Clifton St"
          ],
          [
           "2006/10/30 05:00:00+00",
           "2017 E Main St"
          ],
          [
           "2006/10/30 05:00:00+00",
           "594 Smith St"
          ],
          [
           "2006/10/29 04:00:00+00",
           "998 North St"
          ],
          [
           "2006/10/28 04:00:00+00",
           "123 Baycliff Dr"
          ],
          [
           "2006/10/24 04:00:00+00",
           "1540 Dewey Av"
          ],
          [
           "2006/10/20 04:00:00+00",
           "1243 Norton St"
          ],
          [
           "2006/10/19 04:00:00+00",
           "51 Friederich Pk"
          ],
          [
           "2006/10/17 04:00:00+00",
           "1000 N Clinton Av"
          ],
          [
           "2006/10/16 04:00:00+00",
           "89 Norton St"
          ],
          [
           "2006/10/15 04:00:00+00",
           "60 Almira St"
          ],
          [
           "2006/10/13 04:00:00+00",
           "478 N Clinton Av"
          ],
          [
           "2006/10/13 04:00:00+00",
           "310 Reynolds St"
          ],
          [
           "2006/10/09 04:00:00+00",
           "30 Congress Av"
          ],
          [
           "2006/10/09 04:00:00+00",
           "711 Jay St"
          ],
          [
           "2006/10/09 04:00:00+00",
           "59 Felix St"
          ],
          [
           "2006/10/08 04:00:00+00",
           "70 Enterprise St"
          ],
          [
           "2006/10/08 04:00:00+00",
           "66 Somerset St"
          ],
          [
           "2006/10/06 04:00:00+00",
           "64 Trust St"
          ],
          [
           "2006/10/06 04:00:00+00",
           "64 Trust St"
          ],
          [
           "2006/10/05 04:00:00+00",
           "122 Roycroft Dr"
          ],
          [
           "2006/10/02 04:00:00+00",
           "422 S Clinton Av"
          ],
          [
           "2006/10/01 04:00:00+00",
           "81 Miller St"
          ],
          [
           "2006/09/30 04:00:00+00",
           "127 Ambrose St"
          ],
          [
           "2006/09/28 04:00:00+00",
           "506 Chili Av"
          ],
          [
           "2006/09/26 04:00:00+00",
           "1064 Culver Rd"
          ],
          [
           "2006/09/26 04:00:00+00",
           "31 Aab St"
          ],
          [
           "2006/09/25 04:00:00+00",
           "148 Chamberlain St"
          ],
          [
           "2006/09/24 04:00:00+00",
           "140 Reynolds St"
          ],
          [
           "2006/09/22 04:00:00+00",
           "442 Arnett Bl"
          ],
          [
           "2006/09/21 04:00:00+00",
           "109 Weeger St"
          ],
          [
           "2006/09/18 04:00:00+00",
           "283 Hawley St"
          ],
          [
           "2006/09/16 04:00:00+00",
           "14 Locust St"
          ],
          [
           "2006/09/16 04:00:00+00",
           "183 Joseph Av"
          ],
          [
           "2006/09/14 04:00:00+00",
           "313 Genesee St"
          ],
          [
           "2006/09/14 04:00:00+00",
           "181 Shelter St"
          ],
          [
           "2006/09/13 04:00:00+00",
           "152 Wilkins St"
          ],
          [
           "2006/09/13 04:00:00+00",
           "73 Elgin St"
          ],
          [
           "2006/09/12 04:00:00+00",
           "193 Emerson St"
          ],
          [
           "2006/09/12 04:00:00+00",
           "193 Emerson St"
          ],
          [
           "2006/09/07 04:00:00+00",
           "807 Hudson Av"
          ],
          [
           "2006/09/06 04:00:00+00",
           "303 Sawyer St"
          ],
          [
           "2006/09/05 04:00:00+00",
           "1035 Culver Rd"
          ],
          [
           "2006/09/05 04:00:00+00",
           "375 Chili Av"
          ],
          [
           "2006/09/03 04:00:00+00",
           "513 W Broad St"
          ],
          [
           "2006/09/02 04:00:00+00",
           "313 Ames St"
          ],
          [
           "2006/09/01 04:00:00+00",
           "73 Superior St"
          ],
          [
           "2006/09/01 04:00:00+00",
           "73 Superior St"
          ],
          [
           "2006/08/26 04:00:00+00",
           "347 Frost Av"
          ],
          [
           "2006/08/26 04:00:00+00",
           "213 Conkey Av"
          ],
          [
           "2006/08/25 04:00:00+00",
           "238 Webster Av"
          ],
          [
           "2006/08/24 04:00:00+00",
           "23 Ritz St"
          ],
          [
           "2006/08/23 04:00:00+00",
           "291 Cottage St"
          ],
          [
           "2006/08/20 04:00:00+00",
           "50 Costar St"
          ],
          [
           "2006/08/18 04:00:00+00",
           "44 Rowley St"
          ],
          [
           "2006/08/16 04:00:00+00",
           "183 Lewis St"
          ],
          [
           "2006/08/16 04:00:00+00",
           "31 Lenox St"
          ],
          [
           "2006/08/09 04:00:00+00",
           "86 Norton Village Lane"
          ],
          [
           "2006/08/08 04:00:00+00",
           "68 Ridgeway Av"
          ],
          [
           "2006/08/06 04:00:00+00",
           "37 Canary St"
          ],
          [
           "2006/08/06 04:00:00+00",
           "444 Central Av"
          ],
          [
           "2006/08/06 04:00:00+00",
           "84 Harris St"
          ],
          [
           "2006/08/05 04:00:00+00",
           "99 Ambrose St"
          ],
          [
           "2006/08/05 04:00:00+00",
           "21 Lorimer St"
          ],
          [
           "2006/08/05 04:00:00+00",
           "169 N Union St"
          ],
          [
           "2006/08/05 04:00:00+00",
           "21 Lorimer St"
          ],
          [
           "2006/08/04 04:00:00+00",
           "416 N Clinton Av"
          ],
          [
           "2006/07/30 04:00:00+00",
           "153 Winterroth St"
          ],
          [
           "2006/07/30 04:00:00+00",
           "21 Radio St"
          ],
          [
           "2006/07/30 04:00:00+00",
           "19 Aab St"
          ],
          [
           "2006/07/29 04:00:00+00",
           "172 Mitchell St"
          ],
          [
           "2006/07/29 04:00:00+00",
           "181 Wilkins St"
          ],
          [
           "2006/07/28 04:00:00+00",
           "100 Orange St"
          ],
          [
           "2006/07/26 04:00:00+00",
           "21 Reed Pk"
          ],
          [
           "2006/07/25 04:00:00+00",
           "801 Portland Av"
          ],
          [
           "2006/07/25 04:00:00+00",
           "568 Lyell Av"
          ],
          [
           "2006/07/24 04:00:00+00",
           "310 Arnett Bl"
          ],
          [
           "2005/09/08 04:00:00+00",
           "29 Dengler St"
          ],
          [
           "2007/06/10 04:00:00+00",
           "527 Monroe Av"
          ],
          [
           "2008/06/15 04:00:00+00",
           "284 Adams St"
          ],
          [
           "2006/07/16 04:00:00+00",
           "329 Wilkins St"
          ],
          [
           "2005/09/02 04:00:00+00",
           "106 Thomas St"
          ],
          [
           "2008/06/15 04:00:00+00",
           "284 Adams St"
          ],
          [
           "2007/06/09 04:00:00+00",
           "143 Hawley St"
          ],
          [
           "2006/07/14 04:00:00+00",
           "681 Emerson St"
          ],
          [
           "2005/09/01 04:00:00+00",
           "225 Ave B"
          ],
          [
           "2006/04/06 04:00:00+00",
           "797 Maple St"
          ],
          [
           "2008/06/15 04:00:00+00",
           "284 Adams St"
          ],
          [
           "2007/06/08 04:00:00+00",
           "733 Genesee St"
          ],
          [
           "2006/07/14 04:00:00+00",
           "681 Emerson St"
          ],
          [
           "2006/04/03 04:00:00+00",
           "77 Hollister St"
          ],
          [
           "2005/08/30 04:00:00+00",
           "1623 Clifford Av"
          ],
          [
           "2005/06/04 04:00:00+00",
           "350 Glenwood Av"
          ],
          [
           "2006/07/14 04:00:00+00",
           "681 Emerson St"
          ],
          [
           "2006/03/31 05:00:00+00",
           "1151 S Plymouth Av"
          ],
          [
           "2005/08/29 04:00:00+00",
           "221 Saratoga Av"
          ],
          [
           "2005/06/03 04:00:00+00",
           "179 Jefferson Av"
          ],
          [
           "2008/06/15 04:00:00+00",
           "32 Sidney St"
          ],
          [
           "2007/06/06 04:00:00+00",
           "324 Glenwood Av"
          ],
          [
           "2007/06/02 04:00:00+00",
           "400 Lexington Av"
          ],
          [
           "2007/05/22 04:00:00+00",
           "25 Sidney St"
          ],
          [
           "2007/05/21 04:00:00+00",
           "243 Lyell Av"
          ],
          [
           "2007/05/20 04:00:00+00",
           "251 Arnett Blvd"
          ],
          [
           "2007/05/19 04:00:00+00",
           "161 Durnan St"
          ],
          [
           "2007/05/19 04:00:00+00",
           "161 Durnan St"
          ],
          [
           "2007/05/18 04:00:00+00",
           "80 Cleon St"
          ],
          [
           "2007/05/17 04:00:00+00",
           "17 Bay St"
          ],
          [
           "2007/05/12 04:00:00+00",
           "340 Clifford Av"
          ],
          [
           "2007/05/12 04:00:00+00",
           "340 Clifford Ave"
          ],
          [
           "2007/05/04 04:00:00+00",
           "384 Melville St"
          ],
          [
           "2007/05/02 04:00:00+00",
           "130 Cady St"
          ],
          [
           "2007/04/30 04:00:00+00",
           "309 Roycroft Dr"
          ],
          [
           "2007/04/28 04:00:00+00",
           "298 Avenue D"
          ],
          [
           "2007/04/26 04:00:00+00",
           "973 Portland Av"
          ],
          [
           "2007/04/24 04:00:00+00",
           "1156 N Goodman St"
          ],
          [
           "2007/04/23 04:00:00+00",
           "111 Rosewood Ter"
          ],
          [
           "2007/04/19 04:00:00+00",
           "249 Denver St"
          ],
          [
           "2007/04/19 04:00:00+00",
           "191 Melville St"
          ],
          [
           "2007/04/12 04:00:00+00",
           "577 Dewey Av"
          ],
          [
           "2007/04/11 04:00:00+00",
           "231 Earl St"
          ],
          [
           "2007/04/11 04:00:00+00",
           "231 Earl St"
          ],
          [
           "2007/04/09 04:00:00+00",
           "290 1St St"
          ],
          [
           "2007/04/08 04:00:00+00",
           "869 Portland Av"
          ],
          [
           "2007/04/07 04:00:00+00",
           "670 Thurston Rd"
          ],
          [
           "2007/04/06 04:00:00+00",
           "86 S Union St"
          ],
          [
           "2007/04/01 04:00:00+00",
           "255 Roycroft"
          ],
          [
           "2007/04/01 04:00:00+00",
           "941 Hudson Av"
          ],
          [
           "2007/03/26 04:00:00+00",
           "65 Mitchell St"
          ],
          [
           "2007/03/24 04:00:00+00",
           "1075 Dewey Av"
          ],
          [
           "2007/03/22 04:00:00+00",
           "73 Leo St"
          ],
          [
           "2007/03/12 04:00:00+00",
           "112 Rauber St"
          ],
          [
           "2007/03/12 04:00:00+00",
           "18 2Nd St"
          ],
          [
           "2007/03/12 04:00:00+00",
           "18 2Nd St"
          ],
          [
           "2007/03/07 05:00:00+00",
           "511 Dewey Av"
          ],
          [
           "2007/03/07 05:00:00+00",
           "511 Dewey Av"
          ],
          [
           "2007/03/07 05:00:00+00",
           "511 Dewey Av"
          ],
          [
           "2007/02/25 05:00:00+00",
           "522 Garson Av"
          ],
          [
           "2007/02/18 05:00:00+00",
           "410 Garson Av"
          ],
          [
           "2007/02/10 05:00:00+00",
           "1459 Lake Av"
          ],
          [
           "2007/02/03 05:00:00+00",
           "826 Joseph Av"
          ],
          [
           "2007/02/02 05:00:00+00",
           "1259 North St"
          ],
          [
           "2007/02/01 05:00:00+00",
           "235 Nichols St"
          ],
          [
           "2007/01/28 05:00:00+00",
           "11 Cornell St"
          ],
          [
           "2007/01/26 05:00:00+00",
           "1057 Genesee St"
          ],
          [
           "2007/01/25 05:00:00+00",
           ". Hudson Av"
          ],
          [
           "2007/01/16 05:00:00+00",
           "503 Portland Av"
          ],
          [
           "2007/01/16 05:00:00+00",
           "503 Portland Av"
          ],
          [
           "2007/01/12 05:00:00+00",
           "192 Bay St"
          ],
          [
           "2007/01/10 05:00:00+00",
           "448 Portland Av"
          ],
          [
           "2007/01/10 05:00:00+00",
           "100 Ave B"
          ],
          [
           "2007/01/09 05:00:00+00",
           "333 Weaver St"
          ],
          [
           "2007/01/08 05:00:00+00",
           "579 Thurston Rd"
          ],
          [
           "2007/01/07 05:00:00+00",
           "217 Emerson St"
          ],
          [
           "2007/01/07 05:00:00+00",
           "217 Emerson St"
          ],
          [
           "2007/01/06 05:00:00+00",
           "173 Anderson Av"
          ],
          [
           "2007/01/06 05:00:00+00",
           "771 W Broad St"
          ],
          [
           "2007/01/04 05:00:00+00",
           "165 Ave D"
          ],
          [
           "2007/01/04 05:00:00+00",
           "198 Emerson St"
          ],
          [
           "2006/12/28 05:00:00+00",
           "241 Saratoga Av"
          ],
          [
           "2006/12/28 05:00:00+00",
           "349 Rosewood Te"
          ],
          [
           "2006/12/28 05:00:00+00",
           "349 Rosewood Te"
          ],
          [
           "2006/12/22 05:00:00+00",
           "12 Radio St"
          ],
          [
           "2006/12/22 05:00:00+00",
           "475 Norris Dr"
          ],
          [
           "2006/12/20 05:00:00+00",
           "338 Waring Rd"
          ],
          [
           "2006/12/18 05:00:00+00",
           "313 Genesee St"
          ],
          [
           "2006/12/08 05:00:00+00",
           "1321 North St"
          ],
          [
           "2006/12/07 05:00:00+00",
           "118 Petten St"
          ],
          [
           "2006/11/30 05:00:00+00",
           "375 Bernard St"
          ],
          [
           "2006/11/27 05:00:00+00",
           "71 Bartlett St"
          ],
          [
           "2006/11/27 05:00:00+00",
           "71 Bartlett St"
          ],
          [
           "2004/06/27 04:00:00+00",
           "316 Wilkins St"
          ],
          [
           "2006/03/30 05:00:00+00",
           "695 North St"
          ],
          [
           "2005/05/31 04:00:00+00",
           "42 Lincoln St"
          ],
          [
           "2004/06/25 04:00:00+00",
           "223 Ave A"
          ],
          [
           "2005/05/30 04:00:00+00",
           "813 Arnett Bl"
          ],
          [
           "2005/08/28 04:00:00+00",
           "619 Dewey Av"
          ],
          [
           "2006/07/11 04:00:00+00",
           "3 Hixson St"
          ],
          [
           "2006/03/29 05:00:00+00",
           "462 Lake Av"
          ],
          [
           "2004/06/24 04:00:00+00",
           "858 N Plymouth Av"
          ],
          [
           "2005/05/29 04:00:00+00",
           "21 Lorimer St"
          ],
          [
           "2005/08/28 04:00:00+00",
           "359 Webster Av"
          ],
          [
           "2004/06/24 04:00:00+00",
           "858 N Plymouth Av"
          ],
          [
           "2006/07/10 04:00:00+00",
           "515 Jefferson Av"
          ],
          [
           "2005/05/28 04:00:00+00",
           "57 Montrose St"
          ],
          [
           "2005/08/27 04:00:00+00",
           "509 Portland Av"
          ],
          [
           "2008/05/29 04:00:00+00",
           "40 Rowley St"
          ],
          [
           "2006/03/25 05:00:00+00",
           "567 W Main St"
          ],
          [
           "2004/06/20 04:00:00+00",
           "275 Merrimac St"
          ],
          [
           "2005/05/27 04:00:00+00",
           "524 Campbell St"
          ],
          [
           "2005/08/27 04:00:00+00",
           "40 Oneida St"
          ],
          [
           "2008/05/28 04:00:00+00",
           "8 Finch St"
          ],
          [
           "2008/05/26 04:00:00+00",
           "165 N Water St"
          ],
          [
           "2008/05/26 04:00:00+00",
           "434 Clay St"
          ],
          [
           "2008/05/26 04:00:00+00",
           "165 N Water St"
          ],
          [
           "2008/05/24 04:00:00+00",
           "500 Lyell Ave"
          ],
          [
           "2008/05/18 04:00:00+00",
           "787 Lake Ave"
          ],
          [
           "2008/05/17 04:00:00+00",
           "233 Parkway"
          ],
          [
           "2008/05/10 04:00:00+00",
           "144 Lyell Av"
          ],
          [
           "2008/05/10 04:00:00+00",
           "330 Wellington Av"
          ],
          [
           "2008/05/09 04:00:00+00",
           "120 Laburnam Cres"
          ],
          [
           "2008/05/09 04:00:00+00",
           "120 Laburnam Cres"
          ],
          [
           "2008/05/08 04:00:00+00",
           "165 Parkway"
          ],
          [
           "2008/05/06 04:00:00+00",
           "625 Maple St"
          ],
          [
           "2008/05/06 04:00:00+00",
           "625 Maple St"
          ],
          [
           "2008/05/04 04:00:00+00",
           "371 Murray St"
          ],
          [
           "2008/04/29 04:00:00+00",
           "105 Lux St"
          ],
          [
           "2008/04/29 04:00:00+00",
           "105 Lux St"
          ],
          [
           "2008/04/27 04:00:00+00",
           "449 Lyell Av"
          ],
          [
           "2008/04/25 04:00:00+00",
           "232 Alameda St"
          ],
          [
           "2008/04/21 04:00:00+00",
           "89 Grape St"
          ],
          [
           "2008/04/18 04:00:00+00",
           "299 Conkey Av"
          ],
          [
           "2008/04/13 04:00:00+00",
           "331 Rutgers St"
          ],
          [
           "2008/04/13 04:00:00+00",
           "726 Genesee St"
          ],
          [
           "2008/04/12 04:00:00+00",
           "560 Jefferson Av"
          ],
          [
           "2008/04/11 04:00:00+00",
           "72 York St"
          ],
          [
           "2008/04/10 04:00:00+00",
           "261 Birr St"
          ],
          [
           "2008/04/01 04:00:00+00",
           "1226 N Clinton Av"
          ],
          [
           "2008/03/31 04:00:00+00",
           "162 Roycroft Dr"
          ],
          [
           "2008/03/31 04:00:00+00",
           "41 Backus St"
          ],
          [
           "2008/03/29 04:00:00+00",
           "222 Andrews St"
          ],
          [
           "2008/03/28 04:00:00+00",
           "1155 S Plymouth Av"
          ],
          [
           "2008/03/28 04:00:00+00",
           "1155 S Plymouth Av"
          ],
          [
           "2008/03/26 04:00:00+00",
           "123 Reynold St"
          ],
          [
           "2008/03/23 04:00:00+00",
           "299 Roycroft Dr"
          ],
          [
           "2008/03/23 04:00:00+00",
           "299 Roycroft Dr"
          ],
          [
           "2008/03/20 04:00:00+00",
           "425 Hollenbeck St"
          ],
          [
           "2008/03/16 04:00:00+00",
           "65 Edith St"
          ],
          [
           "2008/03/16 04:00:00+00",
           "65 Edith St"
          ],
          [
           "2008/03/15 04:00:00+00",
           "1550 Clifford Av"
          ],
          [
           "2008/03/14 04:00:00+00",
           "85 Ravine Av"
          ],
          [
           "2008/03/05 05:00:00+00",
           "5 Laforce St"
          ],
          [
           "2008/03/04 05:00:00+00",
           "79 Hollister St"
          ],
          [
           "2008/03/03 05:00:00+00",
           "134 Mason St"
          ],
          [
           "2008/03/02 05:00:00+00",
           "1962 Norton St"
          ],
          [
           "2008/03/02 05:00:00+00",
           "263 Emerson St"
          ],
          [
           "2008/02/28 05:00:00+00",
           "1013 S Plymouth Ave"
          ],
          [
           "2008/02/17 05:00:00+00",
           "312 Conkey Av"
          ],
          [
           "2008/02/03 05:00:00+00",
           "137 Magnolia St"
          ],
          [
           "2008/02/03 05:00:00+00",
           "137 Magnolia St"
          ],
          [
           "2008/01/27 05:00:00+00",
           "292 Reynolds St"
          ],
          [
           "2008/01/27 05:00:00+00",
           "711 N Goodman St"
          ],
          [
           "2008/01/27 05:00:00+00",
           "720 N Goodman St"
          ],
          [
           "2008/01/23 05:00:00+00",
           "100 Orpheum St"
          ],
          [
           "2008/01/23 05:00:00+00",
           "1 Ellicott St"
          ],
          [
           "2008/01/21 05:00:00+00",
           "641 Brown St"
          ],
          [
           "2008/01/21 05:00:00+00",
           "138 Second St"
          ],
          [
           "2008/01/13 05:00:00+00",
           "857 Portland Av"
          ],
          [
           "2008/01/13 05:00:00+00",
           "857 Portland Av"
          ],
          [
           "2008/01/13 05:00:00+00",
           "857 Portland Av"
          ],
          [
           "2008/01/08 05:00:00+00",
           "410 Thurston Rd"
          ],
          [
           "2008/01/07 05:00:00+00",
           "836 N Goodman St"
          ],
          [
           "2007/12/21 05:00:00+00",
           "20 Delano St"
          ],
          [
           "2007/12/08 05:00:00+00",
           "300 Magnolia St"
          ],
          [
           "2007/12/04 05:00:00+00",
           "729 Smith St"
          ],
          [
           "2007/12/01 05:00:00+00",
           "599 Joseph Av"
          ],
          [
           "2007/11/27 05:00:00+00",
           "51 Tacoma St"
          ],
          [
           "2007/11/27 05:00:00+00",
           "245 Adams St"
          ],
          [
           "2005/08/26 04:00:00+00",
           "109 Clifford Av"
          ],
          [
           "2004/06/19 04:00:00+00",
           "33 Laser St"
          ],
          [
           "2006/07/10 04:00:00+00",
           "60 Wilkins St"
          ],
          [
           "2006/07/10 04:00:00+00",
           "60 Wilkins St"
          ],
          [
           "2005/05/27 04:00:00+00",
           "176 Van Auker St"
          ],
          [
           "2006/03/12 05:00:00+00",
           "560 Jefferson Av"
          ],
          [
           "2004/06/19 04:00:00+00",
           "33 Laser St"
          ],
          [
           "2006/03/11 05:00:00+00",
           "1558 Clifford Av"
          ],
          [
           "2006/03/11 05:00:00+00",
           "395 Portland Av"
          ],
          [
           "2004/06/14 04:00:00+00",
           "645 Hudson Av"
          ],
          [
           "2005/08/26 04:00:00+00",
           "29 West High Te"
          ],
          [
           "2004/06/14 04:00:00+00",
           "465 Central Pk"
          ],
          [
           "2006/07/07 04:00:00+00",
           "47 Danforth St"
          ],
          [
           "2005/05/26 04:00:00+00",
           "63 Avery St"
          ],
          [
           "2005/08/25 04:00:00+00",
           "62 Villa St"
          ],
          [
           "2006/03/11 05:00:00+00",
           "385 Sherman St"
          ],
          [
           "2004/06/14 04:00:00+00",
           "465 Central Pk"
          ],
          [
           "2006/07/07 04:00:00+00",
           "47 Danforth St"
          ],
          [
           "2005/05/26 04:00:00+00",
           "17 Bay St"
          ],
          [
           "2005/08/24 04:00:00+00",
           "910 N Goodman St"
          ],
          [
           "2006/03/11 05:00:00+00",
           "34 Maria St"
          ],
          [
           "2004/06/12 04:00:00+00",
           "56 Scrantom St"
          ],
          [
           "2006/07/06 04:00:00+00",
           "1343 Dewey Av"
          ],
          [
           "2005/05/26 04:00:00+00",
           "19 Leavenworth St"
          ],
          [
           "2005/08/22 04:00:00+00",
           "503 Child St"
          ],
          [
           "2006/03/10 05:00:00+00",
           "74 Ravine Av"
          ],
          [
           "2004/06/06 04:00:00+00",
           "277 Hazelwood Te"
          ],
          [
           "2006/07/05 04:00:00+00",
           "670 Thurston Rd"
          ],
          [
           "2005/05/26 04:00:00+00",
           "313 Clifford Av"
          ],
          [
           "2005/08/22 04:00:00+00",
           "42 Elgin St"
          ],
          [
           "2004/06/05 04:00:00+00",
           "383 Jay St"
          ],
          [
           "2006/07/05 04:00:00+00",
           "150 Van Auker St"
          ],
          [
           "2006/07/05 04:00:00+00",
           "1683 N Goodman St"
          ],
          [
           "2006/07/04 04:00:00+00",
           "1425 Portland Av"
          ],
          [
           "2006/07/04 04:00:00+00",
           "428 Ames St"
          ],
          [
           "2006/07/01 04:00:00+00",
           "780 Joseph Av"
          ],
          [
           "2006/07/01 04:00:00+00",
           "20 Woodbine Av"
          ],
          [
           "2006/07/01 04:00:00+00",
           "20 Woodbine Av"
          ],
          [
           "2006/07/01 04:00:00+00",
           "881 Dewey Av"
          ],
          [
           "2006/06/30 04:00:00+00",
           "119 Rosewood Te"
          ],
          [
           "2006/06/29 04:00:00+00",
           "279 6Th St"
          ],
          [
           "2006/06/28 04:00:00+00",
           "238 Parkway"
          ],
          [
           "2006/06/26 04:00:00+00",
           "348 Parsells Av"
          ],
          [
           "2006/06/26 04:00:00+00",
           "488 Joseph Av"
          ],
          [
           "2006/06/26 04:00:00+00",
           "566 N Goodman St"
          ],
          [
           "2006/06/25 04:00:00+00",
           "970 N Clinton Av"
          ],
          [
           "2006/06/24 04:00:00+00",
           "68 Ward St"
          ],
          [
           "2006/06/23 04:00:00+00",
           "150 Child St"
          ],
          [
           "2006/06/23 04:00:00+00",
           "21 Sawyer St"
          ],
          [
           "2006/06/23 04:00:00+00",
           "21 Sawyer St"
          ],
          [
           "2006/06/18 04:00:00+00",
           "135 Cady St"
          ],
          [
           "2006/06/17 04:00:00+00",
           "228 Parkway"
          ],
          [
           "2006/06/17 04:00:00+00",
           "14 Locust St"
          ],
          [
           "2006/06/13 04:00:00+00",
           "726 Genesee St"
          ],
          [
           "2006/06/13 04:00:00+00",
           "726 Genesee St"
          ],
          [
           "2006/06/11 04:00:00+00",
           "80 Dodge St"
          ],
          [
           "2006/06/10 04:00:00+00",
           "662 N Plymouth Av"
          ],
          [
           "2006/06/09 04:00:00+00",
           "29 Wilbur St"
          ],
          [
           "2006/06/09 04:00:00+00",
           "161 Murray St"
          ],
          [
           "2006/06/04 04:00:00+00",
           "152 Ave B"
          ],
          [
           "2006/06/04 04:00:00+00",
           "392 Roycroft Dr"
          ],
          [
           "2006/06/03 04:00:00+00",
           "9 Henry St"
          ],
          [
           "2006/06/03 04:00:00+00",
           "417 Melville St"
          ],
          [
           "2006/06/03 04:00:00+00",
           "519 Hudson Av"
          ],
          [
           "2006/06/01 04:00:00+00",
           "158 Barberry Te"
          ],
          [
           "2006/05/29 04:00:00+00",
           "620 Dewey Av"
          ],
          [
           "2006/05/29 04:00:00+00",
           "24 Hawkins St"
          ],
          [
           "2006/05/29 04:00:00+00",
           "1030 Dewey Av"
          ],
          [
           "2006/05/29 04:00:00+00",
           "1030 Dewey Av"
          ],
          [
           "2006/05/24 04:00:00+00",
           "242 Roycroft Dr"
          ],
          [
           "2006/05/24 04:00:00+00",
           "338 Tremont St"
          ],
          [
           "2006/05/21 04:00:00+00",
           "31 Geneva St"
          ],
          [
           "2006/05/20 04:00:00+00",
           "39 Kelly St"
          ],
          [
           "2006/05/20 04:00:00+00",
           "198 Morton St"
          ],
          [
           "2006/05/16 04:00:00+00",
           "190 Lewis St"
          ],
          [
           "2006/05/16 04:00:00+00",
           "56 Shelter St"
          ],
          [
           "2006/05/16 04:00:00+00",
           "427 N Clinton Av"
          ],
          [
           "2006/05/15 04:00:00+00",
           "255 Ave A"
          ],
          [
           "2006/05/15 04:00:00+00",
           "960 Dewey Av"
          ],
          [
           "2006/05/14 04:00:00+00",
           "1363 Clifford Av"
          ],
          [
           "2006/05/13 04:00:00+00",
           "263 Garson Av"
          ],
          [
           "2006/05/13 04:00:00+00",
           "263 Garson Av"
          ],
          [
           "2006/05/11 04:00:00+00",
           "100 Sawyer St"
          ],
          [
           "2006/05/10 04:00:00+00",
           "1250 N Goodman St"
          ],
          [
           "2006/05/08 04:00:00+00",
           "9 Durgin St"
          ],
          [
           "2006/05/07 04:00:00+00",
           "1425 Portland Av"
          ],
          [
           "2006/05/05 04:00:00+00",
           "431 Chili Av"
          ],
          [
           "2006/05/04 04:00:00+00",
           "191 Genesee St"
          ],
          [
           "2006/04/30 04:00:00+00",
           "578 Upper Falls Bl"
          ],
          [
           "2006/04/30 04:00:00+00",
           "0 Mt Read Bl"
          ],
          [
           "2006/04/30 04:00:00+00",
           "580 Joseph Av"
          ],
          [
           "2006/04/26 04:00:00+00",
           "572 Hayward Av"
          ],
          [
           "2006/04/25 04:00:00+00",
           "527 Garson Av"
          ],
          [
           "2006/04/21 04:00:00+00",
           "168 Fulton Av"
          ],
          [
           "2006/04/21 04:00:00+00",
           "822 Dewey Av"
          ],
          [
           "2006/04/21 04:00:00+00",
           "780 Dewey Av"
          ],
          [
           "2006/04/21 04:00:00+00",
           "822 Dewey Av"
          ],
          [
           "2006/04/20 04:00:00+00",
           "83 High St"
          ],
          [
           "2005/05/26 04:00:00+00",
           "313 Clifford Av"
          ],
          [
           "2005/08/18 04:00:00+00",
           "72 Taylor St"
          ],
          [
           "2006/03/09 05:00:00+00",
           "353 Magnolia St"
          ],
          [
           "2004/06/05 04:00:00+00",
           "1271 North St"
          ],
          [
           "2005/05/20 04:00:00+00",
           "158 Orchard St"
          ],
          [
           "2006/03/06 05:00:00+00",
           "583 Dewey Av"
          ],
          [
           "2005/08/15 04:00:00+00",
           "501 Dewey Av"
          ],
          [
           "2004/05/30 04:00:00+00",
           "595 Joseph Av"
          ],
          [
           "2005/08/14 04:00:00+00",
           "354 1St St"
          ],
          [
           "2004/05/22 04:00:00+00",
           "243 Melville St"
          ],
          [
           "2004/05/18 04:00:00+00",
           "8 Iroquois St"
          ],
          [
           "2004/05/16 04:00:00+00",
           "619 Portland Av"
          ],
          [
           "2004/05/13 04:00:00+00",
           "845 Portland Av"
          ],
          [
           "2004/05/08 04:00:00+00",
           "30 Hollenbeck St"
          ],
          [
           "2004/05/03 04:00:00+00",
           "1630 Clifford Av"
          ],
          [
           "2004/04/26 04:00:00+00",
           "56 Friederich Pk"
          ],
          [
           "2004/04/23 04:00:00+00",
           "330 4Th St"
          ],
          [
           "2004/04/19 04:00:00+00",
           "109 Fairbanks St"
          ],
          [
           "2004/04/19 04:00:00+00",
           "337 Remington St"
          ],
          [
           "2004/04/17 04:00:00+00",
           "298 Ave D"
          ],
          [
           "2004/04/16 04:00:00+00",
           "37 Treyer St"
          ],
          [
           "2004/04/14 04:00:00+00",
           "729 Smith St"
          ],
          [
           "2004/04/14 04:00:00+00",
           "729 Smith St"
          ],
          [
           "2004/04/12 04:00:00+00",
           "757 N Goodman St"
          ],
          [
           "2004/04/02 05:00:00+00",
           "41 Green Knolls Dr"
          ],
          [
           "2004/04/01 05:00:00+00",
           "77 Lime St"
          ],
          [
           "2004/03/29 05:00:00+00",
           "147 Lyell Av"
          ],
          [
           "2004/03/28 05:00:00+00",
           "167 Reynolds St"
          ],
          [
           "2004/03/27 05:00:00+00",
           "8 Reed Pk"
          ],
          [
           "2004/03/24 05:00:00+00",
           "927 N Clinton Av"
          ],
          [
           "2004/03/20 05:00:00+00",
           "151 Wilkins St"
          ],
          [
           "2004/03/18 05:00:00+00",
           "1276 N Clinton Av"
          ],
          [
           "2004/03/15 05:00:00+00",
           "79 Aab St"
          ],
          [
           "2004/03/13 05:00:00+00",
           "360 Thurston Rd"
          ],
          [
           "2004/03/11 05:00:00+00",
           "27 La Force St"
          ],
          [
           "2004/03/08 05:00:00+00",
           "215 Durnan St"
          ],
          [
           "2004/03/06 05:00:00+00",
           "224 Roycroft Dr"
          ],
          [
           "2004/02/25 05:00:00+00",
           "1371 Clifford Av"
          ],
          [
           "2004/02/24 05:00:00+00",
           "335 Ellicott St"
          ],
          [
           "2004/02/24 05:00:00+00",
           "335 Ellicott St"
          ],
          [
           "2004/02/21 05:00:00+00",
           "570 Brooks Av"
          ],
          [
           "2004/02/18 05:00:00+00",
           "1027 Joseph Av"
          ],
          [
           "2004/02/15 05:00:00+00",
           "131 York St"
          ],
          [
           "2004/02/14 05:00:00+00",
           "177 Campbell St"
          ],
          [
           "2004/02/13 05:00:00+00",
           "1254 St Paul St"
          ],
          [
           "2004/02/13 05:00:00+00",
           "870 Portland Av"
          ],
          [
           "2004/02/07 05:00:00+00",
           "248 Conkey Av"
          ],
          [
           "2004/02/06 05:00:00+00",
           "159 Conkey Av"
          ],
          [
           "2004/02/03 05:00:00+00",
           "105 Ambrose St"
          ],
          [
           "2004/02/02 05:00:00+00",
           "291 Carter St"
          ],
          [
           "2004/01/31 05:00:00+00",
           "917 North St"
          ],
          [
           "2004/01/30 05:00:00+00",
           "161 Pennsylvania Av"
          ],
          [
           "2004/01/27 05:00:00+00",
           "128 Morrill St"
          ],
          [
           "2004/01/24 05:00:00+00",
           "409 Bernard St"
          ],
          [
           "2004/01/24 05:00:00+00",
           "409 Bernard St"
          ],
          [
           "2004/01/23 05:00:00+00",
           "443 Webster Av"
          ],
          [
           "2004/01/19 05:00:00+00",
           "131 Carter St"
          ],
          [
           "2004/01/11 05:00:00+00",
           "162 Melville St"
          ],
          [
           "2004/01/10 05:00:00+00",
           "41 Sullivan St"
          ],
          [
           "2004/01/10 05:00:00+00",
           "1360 Norton St"
          ],
          [
           "2004/01/03 05:00:00+00",
           "787 North St"
          ],
          [
           "2004/01/02 05:00:00+00",
           "19 Sumner Pk"
          ],
          [
           "2003/12/30 05:00:00+00",
           "1 Weigel Al"
          ],
          [
           "2003/12/27 05:00:00+00",
           "411 Genesee St"
          ],
          [
           "2003/12/19 05:00:00+00",
           "205 Bergen St"
          ],
          [
           "2003/12/17 05:00:00+00",
           "71 Miller St"
          ],
          [
           "2003/12/15 05:00:00+00",
           "752 Ave D"
          ],
          [
           "2003/12/13 05:00:00+00",
           "1159 N Goodman St"
          ],
          [
           "2003/12/12 05:00:00+00",
           "250 Jefferson Av"
          ],
          [
           "2003/12/10 05:00:00+00",
           "934 Hudson Av"
          ],
          [
           "2003/12/09 05:00:00+00",
           "1458 Dewey Av"
          ],
          [
           "2003/12/06 05:00:00+00",
           "446 Jay St"
          ],
          [
           "2003/12/06 05:00:00+00",
           "1218 Jay St"
          ],
          [
           "2003/12/04 05:00:00+00",
           "162 Ave B"
          ],
          [
           "2003/11/25 05:00:00+00",
           "107 Ambrose St"
          ],
          [
           "2003/11/25 05:00:00+00",
           "107 Ambrose St"
          ],
          [
           "2003/11/23 05:00:00+00",
           "145 Jefferson Av"
          ],
          [
           "2006/03/05 05:00:00+00",
           "68 Aurora St"
          ],
          [
           "2006/03/04 05:00:00+00",
           "700 North St"
          ],
          [
           "2006/02/28 05:00:00+00",
           "55 Maria St"
          ],
          [
           "2006/02/25 05:00:00+00",
           "38 Ok Te"
          ],
          [
           "2005/05/17 04:00:00+00",
           "72 Klein St"
          ],
          [
           "2006/02/24 05:00:00+00",
           "44 Cunningham St"
          ],
          [
           "2005/08/14 04:00:00+00",
           "537 Hazelwood Te"
          ],
          [
           "2005/05/17 04:00:00+00",
           "500 Genesee St"
          ],
          [
           "2005/08/11 04:00:00+00",
           "27 Mark St"
          ],
          [
           "2006/02/24 05:00:00+00",
           "44 Cunningham St"
          ],
          [
           "2005/05/17 04:00:00+00",
           "620 Dewey Av"
          ],
          [
           "2006/02/20 05:00:00+00",
           "6 West Av"
          ],
          [
           "2005/05/16 04:00:00+00",
           "57 Davis St"
          ],
          [
           "2005/08/10 04:00:00+00",
           "104 Woodbine Av"
          ],
          [
           "2006/02/20 05:00:00+00",
           "6 West Av"
          ],
          [
           "2005/05/16 04:00:00+00",
           "93 Thomas St"
          ],
          [
           "2005/08/08 04:00:00+00",
           "334 Arnett Bl"
          ],
          [
           "2006/02/19 05:00:00+00",
           "465 W Ridge Rd"
          ],
          [
           "2005/05/15 04:00:00+00",
           "860 Joseph Av"
          ],
          [
           "2005/08/03 04:00:00+00",
           "204 Fernwood Av"
          ],
          [
           "2006/02/13 05:00:00+00",
           "901 Jefferson Av"
          ],
          [
           "2005/05/12 04:00:00+00",
           "125 St Paul St"
          ],
          [
           "2005/08/03 04:00:00+00",
           "885 Portland Av"
          ],
          [
           "2006/02/11 05:00:00+00",
           "323 Webster Av"
          ],
          [
           "2005/05/10 04:00:00+00",
           "19 Ave C"
          ],
          [
           "2005/07/30 04:00:00+00",
           "213 Norman St"
          ],
          [
           "2006/02/11 05:00:00+00",
           "438 Garson Av"
          ],
          [
           "2005/05/10 04:00:00+00",
           "21 Ave C"
          ],
          [
           "2005/07/30 04:00:00+00",
           "3 Ariel Pk"
          ],
          [
           "2005/07/29 04:00:00+00",
           "505 Child St"
          ],
          [
           "2005/07/27 04:00:00+00",
           "215 Pennsylvania Av"
          ],
          [
           "2005/07/25 04:00:00+00",
           "240 Carter St"
          ],
          [
           "2005/07/24 04:00:00+00",
           "951 Hudson Av"
          ],
          [
           "2005/07/23 04:00:00+00",
           "68 Karnes St"
          ],
          [
           "2005/07/23 04:00:00+00",
           "68 Karnes St"
          ],
          [
           "2005/07/23 04:00:00+00",
           "35 Danforth St"
          ],
          [
           "2005/07/20 04:00:00+00",
           "112 Bernard St"
          ],
          [
           "2005/07/20 04:00:00+00",
           "112 Bernard St"
          ],
          [
           "2005/07/20 04:00:00+00",
           "111 Bartlett St"
          ],
          [
           "2005/07/16 04:00:00+00",
           "141 Ackerman St"
          ],
          [
           "2005/07/16 04:00:00+00",
           "141 Ackerman St"
          ],
          [
           "2005/07/16 04:00:00+00",
           "645 Frost Av"
          ],
          [
           "2005/07/16 04:00:00+00",
           "645 Frost Av"
          ],
          [
           "2005/07/16 04:00:00+00",
           "645 Frost Av"
          ],
          [
           "2005/07/15 04:00:00+00",
           "226 Fairgate St"
          ],
          [
           "2005/07/11 04:00:00+00",
           "573 Thurston Rd"
          ],
          [
           "2005/07/11 04:00:00+00",
           "573 Thurston Rd"
          ],
          [
           "2005/07/11 04:00:00+00",
           "41 Webster Av"
          ],
          [
           "2005/07/10 04:00:00+00",
           "83 Kirkland Rd"
          ],
          [
           "2005/07/09 04:00:00+00",
           "1222 St Paul St"
          ],
          [
           "2005/07/09 04:00:00+00",
           "604 Dewey Av"
          ],
          [
           "2005/07/09 04:00:00+00",
           "38 Taylor St"
          ],
          [
           "2005/07/08 04:00:00+00",
           "707 North St"
          ],
          [
           "2005/07/08 04:00:00+00",
           "774 W Main St"
          ],
          [
           "2005/07/05 04:00:00+00",
           "278 Ellicott St"
          ],
          [
           "2005/07/04 04:00:00+00",
           "161 Remington St"
          ],
          [
           "2005/07/04 04:00:00+00",
           "556 Chili Av"
          ],
          [
           "2005/07/02 04:00:00+00",
           "1164 N Goodman St"
          ],
          [
           "2005/07/02 04:00:00+00",
           "129 Orchard St"
          ],
          [
           "2005/07/02 04:00:00+00",
           "1 Walter Pk"
          ],
          [
           "2005/07/02 04:00:00+00",
           "4 West Av"
          ],
          [
           "2005/06/29 04:00:00+00",
           "7 Finch St"
          ],
          [
           "2005/06/29 04:00:00+00",
           "953 Dewey Av"
          ],
          [
           "2005/06/25 04:00:00+00",
           "73 York St"
          ],
          [
           "2005/06/25 04:00:00+00",
           "180 Wilkins St"
          ],
          [
           "2005/06/25 04:00:00+00",
           "292 Ames St"
          ],
          [
           "2005/06/22 04:00:00+00",
           "445 Lexington Av"
          ],
          [
           "2005/06/21 04:00:00+00",
           "393 Post Av"
          ],
          [
           "2005/06/21 04:00:00+00",
           "1004 St Paul St"
          ],
          [
           "2005/06/21 04:00:00+00",
           "1004 St Paul St"
          ],
          [
           "2005/06/21 04:00:00+00",
           "1004 St Paul St"
          ],
          [
           "2005/06/20 04:00:00+00",
           "16 Harris St"
          ],
          [
           "2005/06/18 04:00:00+00",
           "1415 N Clinton Av"
          ],
          [
           "2005/06/18 04:00:00+00",
           "249 Lexington Av"
          ],
          [
           "2005/06/14 04:00:00+00",
           "336 Scio St"
          ],
          [
           "2005/06/14 04:00:00+00",
           "336 Scio St"
          ],
          [
           "2005/06/14 04:00:00+00",
           "336 Scio St"
          ],
          [
           "2005/06/13 04:00:00+00",
           "390 Ravine Av"
          ],
          [
           "2005/06/11 04:00:00+00",
           "281 Sherwood Av"
          ],
          [
           "2005/06/11 04:00:00+00",
           "199 Saratoga Av"
          ],
          [
           "2005/06/11 04:00:00+00",
           "199 Saratoga Av"
          ],
          [
           "2005/06/10 04:00:00+00",
           "142 Rohr St"
          ],
          [
           "2005/06/10 04:00:00+00",
           "142 Rohr St"
          ],
          [
           "2005/06/05 04:00:00+00",
           "1120 Jay St"
          ],
          [
           "2005/06/05 04:00:00+00",
           "101 Fillmore St"
          ],
          [
           "2005/05/09 04:00:00+00",
           "759 N Clinton Av"
          ],
          [
           "2005/05/09 04:00:00+00",
           "759 N Clinton Av"
          ],
          [
           "2005/05/08 04:00:00+00",
           "419 Driving Park Av"
          ],
          [
           "2005/05/08 04:00:00+00",
           "419 Driving Park Av"
          ],
          [
           "2005/05/03 04:00:00+00",
           "325 Lexington Av"
          ],
          [
           "2005/05/02 04:00:00+00",
           "250 Mill St"
          ],
          [
           "2005/05/01 04:00:00+00",
           "41 Niagara St"
          ],
          [
           "2005/04/30 04:00:00+00",
           "48 Hollister St"
          ],
          [
           "2005/04/30 04:00:00+00",
           "231 Saratoga Av"
          ],
          [
           "2005/04/29 04:00:00+00",
           "376 Troup St"
          ],
          [
           "2005/04/28 04:00:00+00",
           "990 S Plymouth Av"
          ],
          [
           "2005/04/28 04:00:00+00",
           "378 Weaver St"
          ],
          [
           "2005/04/25 04:00:00+00",
           "52 Bleile Te"
          ],
          [
           "2005/04/21 04:00:00+00",
           "377 Cottage St"
          ],
          [
           "2006/02/03 05:00:00+00",
           "54 Prospect St"
          ],
          [
           "2005/04/21 04:00:00+00",
           "377 Cottage St"
          ],
          [
           "2006/01/31 05:00:00+00",
           "259 Jefferson Av"
          ],
          [
           "2005/04/18 04:00:00+00",
           "236 Depew St"
          ],
          [
           "2006/01/25 05:00:00+00",
           "764 Ave D"
          ],
          [
           "2006/01/22 05:00:00+00",
           "115 Parkway"
          ],
          [
           "2006/01/20 05:00:00+00",
           "25 Franklin St"
          ],
          [
           "2006/01/16 05:00:00+00",
           "140 Oriole St"
          ],
          [
           "2006/01/16 05:00:00+00",
           "140 Oriole St"
          ],
          [
           "2006/01/11 05:00:00+00",
           "69 Ries St"
          ],
          [
           "2006/01/11 05:00:00+00",
           "652 Frost Av"
          ],
          [
           "2006/01/09 05:00:00+00",
           "15 Kappel Pl"
          ],
          [
           "2006/01/05 05:00:00+00",
           "438 Garson Av"
          ],
          [
           "2006/01/03 05:00:00+00",
           "653 Bay St"
          ],
          [
           "2006/01/03 05:00:00+00",
           "691 Bay St"
          ],
          [
           "2006/01/01 05:00:00+00",
           "368 Portland Av"
          ],
          [
           "2005/12/31 05:00:00+00",
           "305 Chili Av"
          ],
          [
           "2005/12/30 05:00:00+00",
           "170 Baycliff Dr"
          ],
          [
           "2005/12/29 05:00:00+00",
           "1133 S Plymouth Av"
          ],
          [
           "2005/12/27 05:00:00+00",
           "211 Remington St"
          ],
          [
           "2005/12/23 05:00:00+00",
           "5 Reed Pk"
          ],
          [
           "2005/12/23 05:00:00+00",
           "70 Lakeview Pk"
          ],
          [
           "2005/12/17 05:00:00+00",
           "101 4Th St"
          ],
          [
           "2005/12/13 05:00:00+00",
           "645 Hudson Av"
          ],
          [
           "2005/12/13 05:00:00+00",
           "645 Hudson Av"
          ],
          [
           "2005/12/10 05:00:00+00",
           "13 Straub St"
          ],
          [
           "2005/12/03 05:00:00+00",
           "579 Thurston Rd"
          ],
          [
           "2005/12/01 05:00:00+00",
           "1002 Joseph Av"
          ],
          [
           "2005/11/27 05:00:00+00",
           "119 Thorndale Te"
          ],
          [
           "2005/11/23 05:00:00+00",
           "161 Durnan St"
          ],
          [
           "2005/11/20 05:00:00+00",
           "1064 Clifford Av"
          ],
          [
           "2005/11/19 05:00:00+00",
           "19 Champlain St"
          ],
          [
           "2005/11/12 05:00:00+00",
           "104 Ambrose St"
          ],
          [
           "2005/11/12 05:00:00+00",
           "1624 Clifford Av"
          ],
          [
           "2005/11/10 05:00:00+00",
           "667 Frost Av"
          ],
          [
           "2005/11/09 05:00:00+00",
           "767 Genesee St"
          ],
          [
           "2005/11/03 05:00:00+00",
           "58 Joseph Pl"
          ],
          [
           "2005/10/30 04:00:00+00",
           "743 S Plymouth Av"
          ],
          [
           "2005/10/30 04:00:00+00",
           "743 S Plymouth Av"
          ],
          [
           "2005/10/29 04:00:00+00",
           "35 Dana St"
          ],
          [
           "2005/10/26 04:00:00+00",
           "226 E Main St"
          ],
          [
           "2005/10/21 04:00:00+00",
           "245 Andrews St"
          ],
          [
           "2005/10/13 04:00:00+00",
           "35 Cummings St"
          ],
          [
           "2005/10/11 04:00:00+00",
           "19 Cummings St"
          ],
          [
           "2005/10/11 04:00:00+00",
           "152 Wilkins St"
          ],
          [
           "2005/10/11 04:00:00+00",
           "303 E Henrietta Rd"
          ],
          [
           "2005/10/06 04:00:00+00",
           "560 Jefferson Av"
          ],
          [
           "2005/10/04 04:00:00+00",
           "109 Weyl St"
          ],
          [
           "2005/10/04 04:00:00+00",
           "109 Weyl St"
          ],
          [
           "2005/10/02 04:00:00+00",
           "177 Conkey Av"
          ],
          [
           "2005/04/17 04:00:00+00",
           "42 Essex St"
          ],
          [
           "2005/04/17 04:00:00+00",
           "799 N Clinton Av"
          ],
          [
           "2005/04/16 04:00:00+00",
           "70 Pardee St"
          ],
          [
           "2005/04/15 04:00:00+00",
           "61 York St"
          ],
          [
           "2005/04/11 04:00:00+00",
           "135 Roth St"
          ],
          [
           "2005/04/09 04:00:00+00",
           "626 Lake Av"
          ],
          [
           "2005/04/06 04:00:00+00",
           "711 Jay St"
          ],
          [
           "2005/04/05 04:00:00+00",
           "25 De Jonge St"
          ],
          [
           "2005/04/05 04:00:00+00",
           "620 Thurston Rd"
          ],
          [
           "2005/03/31 05:00:00+00",
           "98 Weyl St"
          ],
          [
           "2005/03/25 05:00:00+00",
           "224 Weaver St"
          ],
          [
           "2005/03/23 05:00:00+00",
           "25 Cummings St"
          ],
          [
           "2005/03/21 05:00:00+00",
           "933 Jefferson Av"
          ],
          [
           "2005/03/19 05:00:00+00",
           "233 Mill St"
          ],
          [
           "2005/03/04 05:00:00+00",
           "909 Ave D"
          ],
          [
           "2005/03/01 05:00:00+00",
           "495 Child St"
          ],
          [
           "2005/02/25 05:00:00+00",
           "36 W High Te"
          ],
          [
           "2005/02/23 05:00:00+00",
           "405 Woodbine Av"
          ],
          [
           "2005/02/22 05:00:00+00",
           "1 Clifton St"
          ],
          [
           "2005/02/22 05:00:00+00",
           "9 Riley Pk"
          ],
          [
           "2005/02/19 05:00:00+00",
           "882 Portland Av"
          ],
          [
           "2005/02/18 05:00:00+00",
           "554 Jefferson Av"
          ],
          [
           "2005/02/17 05:00:00+00",
           "179 Jefferson Av"
          ],
          [
           "2005/02/17 05:00:00+00",
           "401 Joseph Av"
          ],
          [
           "2005/02/15 05:00:00+00",
           "371 Cottage St"
          ],
          [
           "2005/01/31 05:00:00+00",
           "1619 St Paul St"
          ],
          [
           "2005/01/27 05:00:00+00",
           "134 Kenwood Av"
          ],
          [
           "2005/01/19 05:00:00+00",
           "1370 Dewey Av"
          ],
          [
           "2005/01/12 05:00:00+00",
           "1340 Dewey Av"
          ],
          [
           "2005/01/11 05:00:00+00",
           "181 Anthony St"
          ],
          [
           "2005/01/09 05:00:00+00",
           "575 North St"
          ],
          [
           "2005/01/09 05:00:00+00",
           "7 Salina St"
          ],
          [
           "2005/01/08 05:00:00+00",
           "383 Thurston Rd"
          ],
          [
           "2005/01/02 05:00:00+00",
           "101 Oriole St"
          ],
          [
           "2004/12/31 05:00:00+00",
           "11 Stunz St"
          ],
          [
           "2004/12/31 05:00:00+00",
           "212 Webster Av"
          ],
          [
           "2004/12/30 05:00:00+00",
           "135 Rohr St"
          ],
          [
           "2004/12/25 05:00:00+00",
           "504 Thurston Rd"
          ],
          [
           "2004/12/22 05:00:00+00",
           "319 Orange St"
          ],
          [
           "2004/12/16 05:00:00+00",
           "81 Durnan St"
          ],
          [
           "2004/12/13 05:00:00+00",
           "2035 I-490"
          ],
          [
           "2004/12/10 05:00:00+00",
           "56 Melrose St"
          ],
          [
           "2004/12/06 05:00:00+00",
           "210 Joseph Av"
          ],
          [
           "2004/12/05 05:00:00+00",
           "1155 Hudson Av"
          ],
          [
           "2004/12/04 05:00:00+00",
           "1011 S Plymouth Av"
          ],
          [
           "2004/12/02 05:00:00+00",
           "1 Grape St"
          ],
          [
           "2002/12/07 05:00:00+00",
           "189 Portland Av"
          ],
          [
           "2002/12/06 05:00:00+00",
           "41 Clifford Av"
          ],
          [
           "2002/12/05 05:00:00+00",
           "1070 Hudson Av"
          ],
          [
           "2002/12/02 05:00:00+00",
           "15 Ernst St"
          ],
          [
           "2002/12/01 05:00:00+00",
           "719 S Plymouth Av"
          ],
          [
           "2002/11/30 05:00:00+00",
           "658 Maple St"
          ],
          [
           "2002/11/27 05:00:00+00",
           "359 Magnolia St"
          ],
          [
           "2002/11/20 05:00:00+00",
           "1064 Clifford Av"
          ],
          [
           "2002/11/12 05:00:00+00",
           "208 Glenwood Av"
          ],
          [
           "2002/11/11 05:00:00+00",
           "1062 S Plymouth Av"
          ],
          [
           "2002/11/08 05:00:00+00",
           "1077 Bay St"
          ],
          [
           "2002/11/08 05:00:00+00",
           "270 Whitney St"
          ],
          [
           "2002/10/26 04:00:00+00",
           "480 Ave A"
          ],
          [
           "2002/10/26 04:00:00+00",
           "42 Mitchell St"
          ],
          [
           "2002/10/24 04:00:00+00",
           "413 Emerson St"
          ],
          [
           "2002/10/22 04:00:00+00",
           "81 Conkey Av"
          ],
          [
           "2002/10/22 04:00:00+00",
           "537 Flint St"
          ],
          [
           "2002/10/14 04:00:00+00",
           "55 Reynolds St"
          ],
          [
           "2002/05/21 04:00:00+00",
           "141 Conkey Av"
          ],
          [
           "2003/11/23 05:00:00+00",
           "74 Nye Pk"
          ],
          [
           "2002/10/14 04:00:00+00",
           "180 Remington St"
          ],
          [
           "2002/10/13 04:00:00+00",
           "183 Pearl St"
          ],
          [
           "2002/10/12 04:00:00+00",
           "448 Lyell Av"
          ],
          [
           "2002/10/11 04:00:00+00",
           "187 Wilkins St"
          ],
          [
           "2002/10/09 04:00:00+00",
           "43 Weld St"
          ],
          [
           "2002/10/06 04:00:00+00",
           "1083 Dewey Av"
          ],
          [
           "2002/10/06 04:00:00+00",
           "7 Judson St"
          ],
          [
           "2002/10/05 04:00:00+00",
           "424 Ames St"
          ],
          [
           "2002/10/01 04:00:00+00",
           "21 Bradford St"
          ],
          [
           "2002/09/26 04:00:00+00",
           "54 Aebersold St"
          ],
          [
           "2002/09/26 04:00:00+00",
           "358 Jay St"
          ],
          [
           "2002/09/23 04:00:00+00",
           "116 Cady St"
          ],
          [
           "2002/09/21 04:00:00+00",
           "535 Bay St"
          ],
          [
           "2002/09/20 04:00:00+00",
           "432 Verona St"
          ],
          [
           "2002/09/19 04:00:00+00",
           "536 Jay St"
          ],
          [
           "2002/09/18 04:00:00+00",
           "993 North St"
          ],
          [
           "2002/09/16 04:00:00+00",
           "17 Bay St"
          ],
          [
           "2002/09/16 04:00:00+00",
           "17 Bay St"
          ],
          [
           "2002/09/16 04:00:00+00",
           "17 Bay St"
          ],
          [
           "2002/09/15 04:00:00+00",
           "717 Joseph Av"
          ],
          [
           "2002/09/13 04:00:00+00",
           "561 E Main St"
          ],
          [
           "2002/09/12 04:00:00+00",
           "11 Merrimac St"
          ],
          [
           "2002/09/08 04:00:00+00",
           "535 Jay St"
          ],
          [
           "2002/09/06 04:00:00+00",
           "93 Hollister St"
          ],
          [
           "2001/08/20 04:00:00+00",
           "318 Troup St"
          ],
          [
           "2002/09/06 04:00:00+00",
           "511 Norton St"
          ],
          [
           "2002/09/02 04:00:00+00",
           "646 Joseph Av"
          ],
          [
           "2002/09/01 04:00:00+00",
           "84 Superior St"
          ],
          [
           "2002/09/01 04:00:00+00",
           "66 Salina St"
          ],
          [
           "2002/08/31 04:00:00+00",
           "768 Ave D"
          ],
          [
           "2002/08/31 04:00:00+00",
           "849 Jefferson Av"
          ],
          [
           "2002/08/30 04:00:00+00",
           "1259 North St"
          ],
          [
           "2002/08/29 04:00:00+00",
           "100 Joseph Av"
          ],
          [
           "2002/08/25 04:00:00+00",
           "658 Hudson Av"
          ],
          [
           "2002/08/24 04:00:00+00",
           "360 St Paul St"
          ],
          [
           "2002/08/17 04:00:00+00",
           "330 Webster Av"
          ],
          [
           "2002/08/16 04:00:00+00",
           "140 Weld St"
          ],
          [
           "2002/08/14 04:00:00+00",
           "19 Miller St"
          ],
          [
           "2002/08/13 04:00:00+00",
           "144 Ravine Av"
          ],
          [
           "2002/08/13 04:00:00+00",
           "149 Devonshire Ct"
          ],
          [
           "2002/08/12 04:00:00+00",
           "583 Lake Av"
          ],
          [
           "2002/08/12 04:00:00+00",
           "497 State St"
          ],
          [
           "2002/08/08 04:00:00+00",
           "116 Ravine Av"
          ],
          [
           "2002/08/06 04:00:00+00",
           "120 Orange St"
          ],
          [
           "2002/08/06 04:00:00+00",
           "526 Thurston Rd"
          ],
          [
           "2002/08/06 04:00:00+00",
           "526 Thurston Rd"
          ],
          [
           "2002/08/06 04:00:00+00",
           "877 Hudson Av"
          ],
          [
           "2002/08/06 04:00:00+00",
           "877 Hudson Av"
          ],
          [
           "2002/08/05 04:00:00+00",
           "234 Pershing Dr"
          ],
          [
           "2002/07/26 04:00:00+00",
           "5 Council St"
          ],
          [
           "2002/07/21 04:00:00+00",
           "196 Hudson Av"
          ],
          [
           "2002/07/21 04:00:00+00",
           "131 Lewis St"
          ],
          [
           "2002/07/19 04:00:00+00",
           "38 Dale St"
          ],
          [
           "2002/07/15 04:00:00+00",
           "1270 Clifford Av"
          ],
          [
           "2002/07/07 04:00:00+00",
           "90 Peck St"
          ],
          [
           "2002/07/03 04:00:00+00",
           "781 North St"
          ],
          [
           "2002/07/03 04:00:00+00",
           "781 North St"
          ],
          [
           "2002/06/28 04:00:00+00",
           "300 Sherman St"
          ],
          [
           "2002/06/27 04:00:00+00",
           "1338 N Clinton Av"
          ],
          [
           "2002/06/25 04:00:00+00",
           "225 Ave B"
          ],
          [
           "2002/06/24 04:00:00+00",
           "149 Ave D"
          ],
          [
           "2002/06/23 04:00:00+00",
           "147 Sixth St"
          ],
          [
           "2002/06/22 04:00:00+00",
           "51 Treyer St"
          ],
          [
           "2002/06/20 04:00:00+00",
           "836 N Goodman St"
          ],
          [
           "2002/06/20 04:00:00+00",
           "741 Joseph Av"
          ],
          [
           "2002/06/20 04:00:00+00",
           "741 Joseph Av"
          ],
          [
           "2002/06/20 04:00:00+00",
           "984 Portland Av"
          ],
          [
           "2002/06/20 04:00:00+00",
           "984 Portland Av"
          ],
          [
           "2002/06/20 04:00:00+00",
           "984 Portland Av"
          ],
          [
           "2002/06/17 04:00:00+00",
           "45 Quamina Dr"
          ],
          [
           "2002/06/16 04:00:00+00",
           "5 Athens St"
          ],
          [
           "2002/06/14 04:00:00+00",
           "900 Joseph Av"
          ],
          [
           "2002/06/14 04:00:00+00",
           "580 Jay St"
          ],
          [
           "2002/06/13 04:00:00+00",
           "296 Scio St"
          ],
          [
           "2002/06/05 04:00:00+00",
           "109 Chamberlain St"
          ],
          [
           "2002/06/04 04:00:00+00",
           "1270 Clifford Av"
          ],
          [
           "2002/06/04 04:00:00+00",
           "26 Locust St"
          ],
          [
           "2002/06/03 04:00:00+00",
           "217 Ellison St"
          ],
          [
           "2002/06/02 04:00:00+00",
           "2 Palm St"
          ],
          [
           "2002/06/01 04:00:00+00",
           "581 Jefferson Av"
          ],
          [
           "2002/05/31 04:00:00+00",
           "540 Portland Av"
          ],
          [
           "2002/05/29 04:00:00+00",
           "191 Genesee St"
          ],
          [
           "2002/05/28 04:00:00+00",
           "123 Reynolds St"
          ],
          [
           "2002/05/18 04:00:00+00",
           "133 Seventh St"
          ],
          [
           "2003/11/22 05:00:00+00",
           "41 Sullivan St"
          ],
          [
           "2001/08/18 04:00:00+00",
           "291 Saxton St"
          ],
          [
           "2003/11/19 05:00:00+00",
           "109 Fairbanks St"
          ],
          [
           "2000/11/02 05:00:00+00",
           "11 Iceland Pk"
          ],
          [
           "2003/11/18 05:00:00+00",
           "42 Murray St"
          ],
          [
           "2002/05/11 04:00:00+00",
           "31 Grafton St"
          ],
          [
           "2003/11/17 05:00:00+00",
           "137 Ave B"
          ],
          [
           "2001/08/18 04:00:00+00",
           "27 Alexis St"
          ],
          [
           "2002/05/10 04:00:00+00",
           "54 Joseph Pl"
          ],
          [
           "2000/10/27 04:00:00+00",
           "11 Lamberton Pk"
          ],
          [
           "2003/11/17 05:00:00+00",
           "137 Ave B"
          ],
          [
           "2002/05/05 04:00:00+00",
           "302 Epworth St"
          ],
          [
           "2000/10/23 04:00:00+00",
           "278 Emerson St"
          ],
          [
           "2003/11/17 05:00:00+00",
           "273 Weaver St"
          ],
          [
           "2001/08/14 04:00:00+00",
           "35 Post Av"
          ],
          [
           "2002/04/18 04:00:00+00",
           "144 Ave C"
          ],
          [
           "2000/10/20 04:00:00+00",
           "407 South Av"
          ],
          [
           "2003/11/16 05:00:00+00",
           "42 Seward St"
          ],
          [
           "2003/11/08 05:00:00+00",
           "73 Grape St"
          ],
          [
           "2003/11/08 05:00:00+00",
           "317 Conkey Av"
          ],
          [
           "2003/11/06 05:00:00+00",
           "74 Woodlawn St"
          ],
          [
           "2003/11/03 05:00:00+00",
           "371 Murray St"
          ],
          [
           "2003/11/02 05:00:00+00",
           "540 Portland Av"
          ],
          [
           "2003/11/02 05:00:00+00",
           "88 Dayton St"
          ],
          [
           "2003/11/01 05:00:00+00",
           "927 N Clinton Av"
          ],
          [
           "2003/10/29 05:00:00+00",
           "862 Hudson Av"
          ],
          [
           "2003/10/28 05:00:00+00",
           "515 Jefferson Av"
          ],
          [
           "2003/10/27 05:00:00+00",
           "584 Hudson Av"
          ],
          [
           "2003/10/27 05:00:00+00",
           "584 Hudson Av"
          ],
          [
           "2003/10/27 05:00:00+00",
           "554 Jefferson Av"
          ],
          [
           "2003/10/25 04:00:00+00",
           "560 Jefferson Av"
          ],
          [
           "2003/10/25 04:00:00+00",
           "560 Jefferson Av"
          ],
          [
           "2003/10/25 04:00:00+00",
           "560 Jefferson Av"
          ],
          [
           "2003/10/23 04:00:00+00",
           "297 Magnolia St"
          ],
          [
           "2003/10/19 04:00:00+00",
           "709 Joseph Av"
          ],
          [
           "2003/10/18 04:00:00+00",
           "45 Chamberlain St"
          ],
          [
           "2003/10/18 04:00:00+00",
           "587 Bay St"
          ],
          [
           "2003/10/14 04:00:00+00",
           "680 N Goodman St"
          ],
          [
           "2003/10/12 04:00:00+00",
           "7 Terry St"
          ],
          [
           "2003/10/10 04:00:00+00",
           "199 Lewis St"
          ],
          [
           "2003/10/09 04:00:00+00",
           "128 1St St"
          ],
          [
           "2003/10/09 04:00:00+00",
           "2 De Jonge St"
          ],
          [
           "2003/10/08 04:00:00+00",
           "146 Clifford Av"
          ],
          [
           "2003/10/08 04:00:00+00",
           "20 La Salle St"
          ],
          [
           "2003/10/08 04:00:00+00",
           "20 La Salle St"
          ],
          [
           "2003/10/06 04:00:00+00",
           "21 Diringer Pl"
          ],
          [
           "2003/10/04 04:00:00+00",
           "21 Barons St"
          ],
          [
           "2003/09/30 04:00:00+00",
           "108 Barton St"
          ],
          [
           "2003/09/28 04:00:00+00",
           "3 Weyl St"
          ],
          [
           "2003/09/28 04:00:00+00",
           "1441 N Clinton Av"
          ],
          [
           "2003/09/25 04:00:00+00",
           "1105 Lyell Av"
          ],
          [
           "2003/09/25 04:00:00+00",
           "900 South Av"
          ],
          [
           "2003/09/24 04:00:00+00",
           "1002 Joseph Av"
          ],
          [
           "2003/09/24 04:00:00+00",
           "1105 Lyell Av"
          ],
          [
           "2003/09/23 04:00:00+00",
           "126 Garson Av"
          ],
          [
           "2003/09/23 04:00:00+00",
           "35 Arnett Bl"
          ],
          [
           "2003/09/22 04:00:00+00",
           "51 Portland Av"
          ],
          [
           "2003/09/21 04:00:00+00",
           "287 Clifford Av"
          ],
          [
           "2003/09/21 04:00:00+00",
           "28 Mark St"
          ],
          [
           "2003/09/21 04:00:00+00",
           "51 Portland Av"
          ],
          [
           "2003/09/18 04:00:00+00",
           "1343 N Clinton Av"
          ],
          [
           "2003/09/16 04:00:00+00",
           "50 Romeyn St"
          ],
          [
           "2003/09/12 04:00:00+00",
           "9 Lorimer St"
          ],
          [
           "2003/09/12 04:00:00+00",
           "726 Genesee St"
          ],
          [
           "2003/09/10 04:00:00+00",
           "519 Hudson Av"
          ],
          [
           "2003/09/09 04:00:00+00",
           "336 Emerson St"
          ],
          [
           "2003/09/07 04:00:00+00",
           "75 Walnut St"
          ],
          [
           "2003/09/04 04:00:00+00",
           "521 Chili Av"
          ],
          [
           "2003/09/03 04:00:00+00",
           "268 Dr Samuel Mccree Way"
          ],
          [
           "2003/09/03 04:00:00+00",
           "338 Tremont St"
          ],
          [
           "2003/08/31 04:00:00+00",
           "526 Thurston Rd"
          ],
          [
           "2003/08/31 04:00:00+00",
           "320 Driving Park Av"
          ],
          [
           "2003/08/31 04:00:00+00",
           "320 Driving Park Av"
          ],
          [
           "2003/08/29 04:00:00+00",
           "413 Tremont St"
          ],
          [
           "2003/08/28 04:00:00+00",
           "509 Lake Av"
          ],
          [
           "2003/08/25 04:00:00+00",
           "1350 St Paul St"
          ],
          [
           "2003/08/25 04:00:00+00",
           "1350 St Paul St"
          ],
          [
           "2003/08/25 04:00:00+00",
           "1350 St Paul St"
          ],
          [
           "2003/08/24 04:00:00+00",
           "521 Clifford Av"
          ],
          [
           "2003/08/22 04:00:00+00",
           "127 Thomas St"
          ],
          [
           "2003/08/21 04:00:00+00",
           "351 Genesee St"
          ],
          [
           "2003/08/16 04:00:00+00",
           "325 Conkey Av"
          ],
          [
           "2003/08/15 04:00:00+00",
           "183 Jefferson Av"
          ],
          [
           "2003/08/15 04:00:00+00",
           "27 Phelps Av"
          ],
          [
           "2003/08/14 04:00:00+00",
           "410 Remington St"
          ],
          [
           "2003/08/12 04:00:00+00",
           "462 Lake Av"
          ],
          [
           "2003/08/11 04:00:00+00",
           "125 Herald St"
          ],
          [
           "2003/08/11 04:00:00+00",
           "125 Herald St"
          ],
          [
           "2003/08/11 04:00:00+00",
           "125 Herald St"
          ],
          [
           "2003/08/09 04:00:00+00",
           "220 Smith St"
          ],
          [
           "2003/08/09 04:00:00+00",
           "389 Flint St"
          ],
          [
           "2003/08/07 04:00:00+00",
           "406 Cottage St"
          ],
          [
           "2003/08/06 04:00:00+00",
           "74 Aebersold St"
          ],
          [
           "2003/08/06 04:00:00+00",
           "225 Ave E"
          ],
          [
           "2003/07/29 04:00:00+00",
           "974 Clifford Av"
          ],
          [
           "2003/07/29 04:00:00+00",
           "535 Smith St"
          ],
          [
           "2003/07/26 04:00:00+00",
           "104 Glendale Pk"
          ],
          [
           "2003/07/26 04:00:00+00",
           "25 Driving Park Av"
          ],
          [
           "2003/07/26 04:00:00+00",
           "25 Driving Park Av"
          ],
          [
           "2003/07/26 04:00:00+00",
           "298 Hawley St"
          ],
          [
           "2003/07/26 04:00:00+00",
           "245 Roycroft Dr"
          ],
          [
           "2003/07/26 04:00:00+00",
           "208 Emerson St"
          ],
          [
           "2003/07/25 04:00:00+00",
           "844 Joseph Av"
          ],
          [
           "2003/07/22 04:00:00+00",
           "44 Phelps Av"
          ],
          [
           "2003/07/22 04:00:00+00",
           "71 Orange St"
          ],
          [
           "2003/07/20 04:00:00+00",
           "371 Flint St"
          ],
          [
           "2002/04/18 04:00:00+00",
           "9 Henry St"
          ],
          [
           "2002/04/16 04:00:00+00",
           "58 Oakman St"
          ],
          [
           "2002/04/14 04:00:00+00",
           "40 Austin St"
          ],
          [
           "2002/04/12 04:00:00+00",
           "298 Arnett Bl"
          ],
          [
           "2002/04/10 04:00:00+00",
           "165 E Ridge Rd"
          ],
          [
           "2002/04/07 05:00:00+00",
           "245 Bay St"
          ],
          [
           "2002/04/06 05:00:00+00",
           "1264 N Clinton Av"
          ],
          [
           "2000/10/16 04:00:00+00",
           "791 S Plymouth Av"
          ],
          [
           "2002/04/03 05:00:00+00",
           "245 Magnolia St"
          ],
          [
           "2002/03/30 05:00:00+00",
           "117 Weld St"
          ],
          [
           "2002/03/29 05:00:00+00",
           "53 Hoeltzer St"
          ],
          [
           "2002/03/13 05:00:00+00",
           "202 Grand Av"
          ],
          [
           "2002/03/12 05:00:00+00",
           "62 Clifton St"
          ],
          [
           "2002/03/01 05:00:00+00",
           "80 Glendale Pk"
          ],
          [
           "2002/03/01 05:00:00+00",
           "21 Hamilton St"
          ],
          [
           "2002/03/01 05:00:00+00",
           "33 Watkin Te"
          ],
          [
           "2002/02/27 05:00:00+00",
           "768 Ave D"
          ],
          [
           "2002/02/25 05:00:00+00",
           "396 Murray St"
          ],
          [
           "2002/02/23 05:00:00+00",
           "632 Clifford Av"
          ],
          [
           "2002/02/16 05:00:00+00",
           "120 E Main St"
          ],
          [
           "2002/02/16 05:00:00+00",
           "120 E Main St"
          ],
          [
           "2002/02/12 05:00:00+00",
           "53 Kohlman St"
          ],
          [
           "2002/02/11 05:00:00+00",
           "866 Smith St"
          ],
          [
           "2002/02/07 05:00:00+00",
           "35 Gilmore St"
          ],
          [
           "2002/02/03 05:00:00+00",
           "858 Hudson Av"
          ],
          [
           "2002/01/30 05:00:00+00",
           "115 Ambrose St"
          ],
          [
           "2002/01/28 05:00:00+00",
           "399 Child St"
          ],
          [
           "2002/01/22 05:00:00+00",
           "516 Jefferson Av"
          ],
          [
           "2001/08/14 04:00:00+00",
           "993 North St"
          ],
          [
           "2002/01/15 05:00:00+00",
           "385 Frost Av"
          ],
          [
           "2002/01/14 05:00:00+00",
           "524 W Main St"
          ],
          [
           "2002/01/09 05:00:00+00",
           "20 Langham St"
          ],
          [
           "2002/01/05 05:00:00+00",
           "120 Friederich Pk"
          ],
          [
           "2002/01/05 05:00:00+00",
           "354 Ravine Av"
          ],
          [
           "2002/01/04 05:00:00+00",
           "34 Alphonse St"
          ],
          [
           "2002/01/01 05:00:00+00",
           "516 Jefferson Av"
          ],
          [
           "2001/12/30 05:00:00+00",
           "32 Quincy St"
          ],
          [
           "2001/12/28 05:00:00+00",
           "18 Wadsworth St"
          ],
          [
           "2001/12/23 05:00:00+00",
           "151 Saratoga Av"
          ],
          [
           "2001/12/18 05:00:00+00",
           "179 Jefferson Av"
          ],
          [
           "2001/12/08 05:00:00+00",
           "340 Troup St"
          ],
          [
           "2001/12/04 05:00:00+00",
           "788 Jefferson Av"
          ],
          [
           "2001/12/02 05:00:00+00",
           "700 S Plymouth Av"
          ],
          [
           "2001/12/02 05:00:00+00",
           "270 Berlin St"
          ],
          [
           "2001/11/30 05:00:00+00",
           "448 Conkey Av"
          ],
          [
           "2001/11/26 05:00:00+00",
           "1165 Portland Av"
          ],
          [
           "2001/11/23 05:00:00+00",
           "55 Mortimer St"
          ],
          [
           "2001/11/22 05:00:00+00",
           "340 Conkey Av"
          ],
          [
           "2001/11/17 05:00:00+00",
           "245 Champlain St"
          ],
          [
           "2001/11/15 05:00:00+00",
           "25 Rugraff St"
          ],
          [
           "2001/11/15 05:00:00+00",
           "753 Ave D"
          ],
          [
           "2001/11/15 05:00:00+00",
           "753 Ave D"
          ],
          [
           "2001/11/10 05:00:00+00",
           "125 Evergreen St"
          ],
          [
           "2001/11/09 05:00:00+00",
           "138 Remington St"
          ],
          [
           "2001/11/07 05:00:00+00",
           "701 Jefferson Av"
          ],
          [
           "2001/11/03 05:00:00+00",
           "751 Jefferson Av"
          ],
          [
           "2001/10/30 05:00:00+00",
           "198 Emerson St"
          ],
          [
           "2001/10/26 04:00:00+00",
           "197 Emerson St"
          ],
          [
           "2001/10/24 04:00:00+00",
           "151 Bartlett St"
          ],
          [
           "2001/10/19 04:00:00+00",
           "904 Hudson Av"
          ],
          [
           "2001/10/17 04:00:00+00",
           "32 Quincy St"
          ],
          [
           "2001/10/15 04:00:00+00",
           "27 Alexander St"
          ],
          [
           "2001/10/14 04:00:00+00",
           "15 Warsaw St"
          ],
          [
           "2001/10/14 04:00:00+00",
           "200 Ferrano St"
          ],
          [
           "2001/10/13 04:00:00+00",
           "88 Berlin St"
          ],
          [
           "2001/10/07 04:00:00+00",
           "751 Jefferson Av"
          ],
          [
           "2001/10/06 04:00:00+00",
           "464 Clifford Av"
          ],
          [
           "2001/10/05 04:00:00+00",
           "107 Joseph Av"
          ],
          [
           "2001/10/04 04:00:00+00",
           "170 East Av"
          ],
          [
           "2001/10/04 04:00:00+00",
           "380 6Th St"
          ],
          [
           "2001/09/29 04:00:00+00",
           "341 Genesee St"
          ],
          [
           "2001/09/28 04:00:00+00",
           "114 Ernst St"
          ],
          [
           "2001/09/28 04:00:00+00",
           "356 6Th St"
          ],
          [
           "2001/09/28 04:00:00+00",
           "356 6Th St"
          ],
          [
           "2001/09/19 04:00:00+00",
           "142 Conkey Av"
          ],
          [
           "2001/09/17 04:00:00+00",
           "398 Thurston Rd"
          ],
          [
           "2001/09/16 04:00:00+00",
           "119 Ambrose St"
          ],
          [
           "2001/09/13 04:00:00+00",
           "120 Orange St"
          ],
          [
           "2001/09/10 04:00:00+00",
           "259 Dr Samuel Mccree Way"
          ],
          [
           "2001/09/09 04:00:00+00",
           "124 3Rd St"
          ],
          [
           "2001/09/01 04:00:00+00",
           "38 Dale St"
          ],
          [
           "2001/09/01 04:00:00+00",
           "495 Lake Av"
          ],
          [
           "2001/09/01 04:00:00+00",
           "385 Ave D"
          ],
          [
           "2001/08/28 04:00:00+00",
           "1262 N Clinton Av"
          ],
          [
           "2001/08/28 04:00:00+00",
           "1262 N Clinton Av"
          ],
          [
           "2001/08/27 04:00:00+00",
           "198 Conkey Av"
          ],
          [
           "2001/08/25 04:00:00+00",
           "23 Copley St"
          ],
          [
           "2001/08/25 04:00:00+00",
           "488 E Main St"
          ],
          [
           "2001/08/25 04:00:00+00",
           "488 E Main St"
          ],
          [
           "2000/10/14 04:00:00+00",
           "923 N Plymouth Av"
          ],
          [
           "2000/10/14 04:00:00+00",
           "545 Jefferson Av"
          ],
          [
           "2001/08/10 04:00:00+00",
           "7 Jewel St"
          ],
          [
           "2001/08/10 04:00:00+00",
           "9 Evergreen St"
          ],
          [
           "2000/10/07 04:00:00+00",
           "2 Oscar St"
          ],
          [
           "2001/08/10 04:00:00+00",
           "26 Northaven Te"
          ],
          [
           "2000/10/07 04:00:00+00",
           "105 Ambrose St"
          ],
          [
           "2000/10/03 04:00:00+00",
           "265 Wilkins St"
          ],
          [
           "2000/09/24 04:00:00+00",
           "443 Flint St"
          ],
          [
           "2000/09/21 04:00:00+00",
           "33 Mark St"
          ],
          [
           "2000/09/19 04:00:00+00",
           "844 N Clinton Av"
          ],
          [
           "2000/09/19 04:00:00+00",
           "183 Otis St"
          ],
          [
           "2000/09/17 04:00:00+00",
           "275 Reynolds St"
          ],
          [
           "2000/09/12 04:00:00+00",
           "391 Jay St"
          ],
          [
           "2000/09/11 04:00:00+00",
           "165 Post Av"
          ],
          [
           "2000/09/07 04:00:00+00",
           "49 Trust St"
          ],
          [
           "2000/09/05 04:00:00+00",
           "1050 N Clinton Av"
          ],
          [
           "2000/09/03 04:00:00+00",
           "48 Clifford Av"
          ],
          [
           "2000/09/03 04:00:00+00",
           "374 Thurston Rd"
          ],
          [
           "2000/09/03 04:00:00+00",
           "127 Milton St"
          ],
          [
           "2000/09/01 04:00:00+00",
           "554 Jefferson Av"
          ],
          [
           "2000/09/01 04:00:00+00",
           "554 Jefferson Av"
          ],
          [
           "2000/08/31 04:00:00+00",
           "25 Mark St"
          ],
          [
           "2000/08/27 04:00:00+00",
           "562 Portland Av"
          ],
          [
           "2000/08/27 04:00:00+00",
           "123 Upper Falls Bl"
          ],
          [
           "2000/08/24 04:00:00+00",
           "465 Meigs St"
          ],
          [
           "2000/08/22 04:00:00+00",
           "215 Ave C"
          ],
          [
           "2000/08/17 04:00:00+00",
           "729 Smith St"
          ],
          [
           "2000/08/13 04:00:00+00",
           "34 Glide St"
          ],
          [
           "2000/08/13 04:00:00+00",
           "721 Jefferson Av"
          ],
          [
           "2000/08/07 04:00:00+00",
           "699 N Goodman St"
          ],
          [
           "2000/08/02 04:00:00+00",
           "23 5Th St"
          ],
          [
           "2000/07/31 04:00:00+00",
           "97 Rauber St"
          ],
          [
           "2000/07/30 04:00:00+00",
           "586 Thurston Rd"
          ],
          [
           "2000/07/17 04:00:00+00",
           "143 Hollenbeck St"
          ],
          [
           "2000/07/16 04:00:00+00",
           "20 Lake Av"
          ],
          [
           "2000/07/14 04:00:00+00",
           "762 Genesee St"
          ],
          [
           "2000/07/12 04:00:00+00",
           "873 Portland Av"
          ],
          [
           "2000/07/12 04:00:00+00",
           "873 Portland Av"
          ],
          [
           "2000/07/10 04:00:00+00",
           "216 Frost Av"
          ],
          [
           "2000/07/09 04:00:00+00",
           "228 Durnan St"
          ],
          [
           "2000/07/08 04:00:00+00",
           "966 N Clinton Av"
          ],
          [
           "2000/07/04 04:00:00+00",
           "138 Monroe Av"
          ],
          [
           "2000/06/28 04:00:00+00",
           "222 Alphonse St"
          ],
          [
           "2000/06/25 04:00:00+00",
           "2 King St"
          ],
          [
           "2000/06/24 04:00:00+00",
           "340 Troup St"
          ],
          [
           "2000/06/24 04:00:00+00",
           "214 Roycroft Dr"
          ],
          [
           "2000/06/18 04:00:00+00",
           "468 Bay St"
          ],
          [
           "2000/06/11 04:00:00+00",
           "47 Troup St"
          ],
          [
           "2000/06/11 04:00:00+00",
           "328 North St"
          ],
          [
           "2000/06/08 04:00:00+00",
           "197 Conkey Av"
          ],
          [
           "2000/06/02 04:00:00+00",
           "170 Spencer St"
          ],
          [
           "2000/05/31 04:00:00+00",
           "101 Woodward St"
          ],
          [
           "2000/05/30 04:00:00+00",
           "72 Alexander St"
          ],
          [
           "2000/05/28 04:00:00+00",
           "133 Ontario St"
          ],
          [
           "2000/05/26 04:00:00+00",
           "31 Carl St"
          ],
          [
           "2000/05/18 04:00:00+00",
           "44 Emerson St"
          ],
          [
           "2000/05/18 04:00:00+00",
           "57 Rauber St"
          ],
          [
           "2000/05/13 04:00:00+00",
           "1621 St Paul St"
          ],
          [
           "2000/05/09 04:00:00+00",
           "131 Strong St"
          ],
          [
           "2000/05/08 04:00:00+00",
           "58 William Warfield Dr"
          ],
          [
           "2000/05/01 04:00:00+00",
           "260 Lincoln Av"
          ],
          [
           "2000/04/30 04:00:00+00",
           "600 Monroe Av"
          ],
          [
           "2000/04/16 04:00:00+00",
           "733 Portland Av"
          ],
          [
           "2000/04/08 04:00:00+00",
           "154 Breck St"
          ],
          [
           "2000/03/23 05:00:00+00",
           "752 Ave D"
          ],
          [
           "2000/03/20 05:00:00+00",
           "214 Parkway"
          ],
          [
           "2000/03/02 05:00:00+00",
           "217 Remington St"
          ],
          [
           "2000/02/29 05:00:00+00",
           "208 Chamberlain St"
          ],
          [
           "2000/02/27 05:00:00+00",
           "63 Salina St"
          ],
          [
           "2000/02/23 05:00:00+00",
           "707 Brown St"
          ],
          [
           "2000/02/23 05:00:00+00",
           "543 Thurston Rd"
          ],
          [
           "2000/02/21 05:00:00+00",
           "238 Webster Av"
          ],
          [
           "2000/02/03 05:00:00+00",
           "10 Dudley St"
          ],
          [
           "2000/01/30 05:00:00+00",
           "600 Monroe Av"
          ],
          [
           "2000/01/27 05:00:00+00",
           "7 Oscar St"
          ],
          [
           "2000/01/13 05:00:00+00",
           "30 Terrace Pk"
          ],
          [
           "2000/01/10 05:00:00+00",
           "24 Weaver St"
          ],
          [
           "2000/01/07 05:00:00+00",
           "1407 Clifford Av"
          ],
          [
           "2000/01/02 05:00:00+00",
           "395 Genesee St"
          ],
          [
           "2001/07/30 04:00:00+00",
           "135 Conkey Av"
          ],
          [
           "2001/07/23 04:00:00+00",
           "10 Laser St"
          ],
          [
           "2001/07/23 04:00:00+00",
           "48 Lake Av"
          ],
          [
           "2001/07/21 04:00:00+00",
           "174 Cedarwood Te"
          ],
          [
           "2001/07/20 04:00:00+00",
           "286 Kenwood Av"
          ],
          [
           "2001/07/15 04:00:00+00",
           "1732 St Paul St"
          ],
          [
           "2001/07/01 04:00:00+00",
           "11 Frederick St"
          ],
          [
           "2001/06/30 04:00:00+00",
           "138 Adams St"
          ],
          [
           "2001/06/30 04:00:00+00",
           "121 Ambrose St"
          ],
          [
           "2001/06/24 04:00:00+00",
           "751 Dewey Av"
          ],
          [
           "2001/06/22 04:00:00+00",
           "356 Clay Av"
          ],
          [
           "2001/06/19 04:00:00+00",
           "47 Locust St"
          ],
          [
           "2001/06/18 04:00:00+00",
           "540 Portland Av"
          ],
          [
           "2001/06/13 04:00:00+00",
           "152 York St"
          ],
          [
           "2001/06/03 04:00:00+00",
           "381 Frost Av"
          ],
          [
           "2001/06/02 04:00:00+00",
           "34 Evergreen St"
          ],
          [
           "2001/06/01 04:00:00+00",
           "1340 N Clinton Av"
          ],
          [
           "2001/05/31 04:00:00+00",
           "552 Brooks Av"
          ],
          [
           "2001/05/28 04:00:00+00",
           "746 Ave D"
          ],
          [
           "2001/05/22 04:00:00+00",
           "599 Chili Av"
          ],
          [
           "2001/05/12 04:00:00+00",
           "106 Emerson St"
          ],
          [
           "2001/05/12 04:00:00+00",
           "55 Niagara St"
          ],
          [
           "2001/05/11 04:00:00+00",
           "968 N Plymouth Av"
          ],
          [
           "2001/05/03 04:00:00+00",
           "11 Frederick St"
          ],
          [
           "2001/05/02 04:00:00+00",
           "63 Chili Av"
          ],
          [
           "2001/05/02 04:00:00+00",
           "124 Flower St"
          ],
          [
           "2001/04/27 04:00:00+00",
           "191 Genesee St"
          ],
          [
           "2001/04/25 04:00:00+00",
           "76 Delamaine Dr"
          ],
          [
           "2001/04/23 04:00:00+00",
           "400 Ames St"
          ],
          [
           "2001/04/21 04:00:00+00",
           "672 W Main St"
          ],
          [
           "2001/04/18 04:00:00+00",
           "515 Jefferson Av"
          ],
          [
           "2001/04/17 04:00:00+00",
           "900 Joseph Av"
          ],
          [
           "2001/04/17 04:00:00+00",
           "6 Peckham St"
          ],
          [
           "2001/04/15 04:00:00+00",
           "892 Joseph Av"
          ],
          [
           "2001/04/09 04:00:00+00",
           "14 Rohr St"
          ],
          [
           "2001/04/04 04:00:00+00",
           "184 Jefferson Av"
          ],
          [
           "2001/03/31 05:00:00+00",
           "21 Reed Pk"
          ],
          [
           "2001/03/30 05:00:00+00",
           "1376 Lake Av"
          ],
          [
           "2001/03/30 05:00:00+00",
           "710 Clifford Av"
          ],
          [
           "2001/03/27 05:00:00+00",
           "3 Pool St"
          ],
          [
           "2001/03/26 05:00:00+00",
           "352 Conkey Av"
          ],
          [
           "2001/03/25 05:00:00+00",
           "916 N Goodman St"
          ],
          [
           "2001/03/25 05:00:00+00",
           "916 N Goodman St"
          ],
          [
           "2001/03/10 05:00:00+00",
           "373 Meigs St"
          ],
          [
           "2001/03/10 05:00:00+00",
           "104 Bernard St"
          ],
          [
           "2001/03/10 05:00:00+00",
           "753 N Plymouth Av"
          ],
          [
           "2001/03/07 05:00:00+00",
           "244 Weyl St"
          ],
          [
           "2001/03/04 05:00:00+00",
           "732 Maple St"
          ],
          [
           "2001/03/02 05:00:00+00",
           "852 Jefferson Av"
          ],
          [
           "2001/02/25 05:00:00+00",
           "862 Hudson Av"
          ],
          [
           "2001/02/15 05:00:00+00",
           "504 Hudson Av"
          ],
          [
           "2001/02/13 05:00:00+00",
           "266 Seward St"
          ],
          [
           "2001/02/13 05:00:00+00",
           "266 Seward St"
          ],
          [
           "2001/02/12 05:00:00+00",
           "18 Wadsworth St"
          ],
          [
           "2001/02/12 05:00:00+00",
           "448 Maple St"
          ],
          [
           "2001/02/11 05:00:00+00",
           "465 Chili Av"
          ],
          [
           "2001/02/10 05:00:00+00",
           "70 Mortimer St"
          ],
          [
           "2001/01/25 05:00:00+00",
           "496 Hudson Av"
          ],
          [
           "2001/01/21 05:00:00+00",
           "1054 North St"
          ],
          [
           "2001/01/17 05:00:00+00",
           "762 N Plymouth Av"
          ],
          [
           "2001/01/17 05:00:00+00",
           "228 Dr Samuel Mccree Way"
          ],
          [
           "2001/01/14 05:00:00+00",
           "52 Jay St"
          ],
          [
           "2001/01/04 05:00:00+00",
           "179 Jefferson Av"
          ],
          [
           "2000/12/30 05:00:00+00",
           "2 Ward Te"
          ],
          [
           "2000/12/26 05:00:00+00",
           "255 Cedarwood Te"
          ],
          [
           "2000/12/23 05:00:00+00",
           "456 Sawyer St"
          ],
          [
           "2000/12/21 05:00:00+00",
           "25 Locust St"
          ],
          [
           "2000/12/20 05:00:00+00",
           "900 Genesee St"
          ],
          [
           "2000/12/16 05:00:00+00",
           "215 Colvin St"
          ],
          [
           "2000/12/16 05:00:00+00",
           "34 St Jacob St"
          ],
          [
           "2000/12/12 05:00:00+00",
           "25 Locust St"
          ],
          [
           "2000/12/11 05:00:00+00",
           "548 Hudson Av"
          ],
          [
           "2000/12/10 05:00:00+00",
           "160 Lyell Av"
          ],
          [
           "2000/12/08 05:00:00+00",
           "487 Jay St"
          ],
          [
           "2000/11/30 05:00:00+00",
           "104 Chatham Gardens"
          ],
          [
           "2000/11/30 05:00:00+00",
           "99 Dayton St"
          ],
          [
           "2000/11/27 05:00:00+00",
           "305 Frost Av"
          ],
          [
           "2000/11/26 05:00:00+00",
           "33 Barnum St"
          ],
          [
           "2000/11/18 05:00:00+00",
           "359 Webster Av"
          ],
          [
           "2000/11/18 05:00:00+00",
           "188 Bay St"
          ],
          [
           "2000/11/18 05:00:00+00",
           "359 Webster Av"
          ],
          [
           "2000/11/16 05:00:00+00",
           "60 Aurora St"
          ],
          [
           "2000/11/13 05:00:00+00",
           "1331 Clifford Av"
          ],
          [
           "2000/11/05 05:00:00+00",
           "227 Sawyer St"
          ],
          [
           "2000/11/04 05:00:00+00",
           "224 Tremont St"
          ],
          [
           "2003/07/18 04:00:00+00",
           "56 Shelter St"
          ],
          [
           "2003/07/18 04:00:00+00",
           "200 Conkey Av"
          ],
          [
           "2003/07/18 04:00:00+00",
           "210 Pleasant St"
          ],
          [
           "2003/07/17 04:00:00+00",
           "322 Orange St"
          ],
          [
           "2003/07/17 04:00:00+00",
           "172 Remington St"
          ],
          [
           "2003/07/14 04:00:00+00",
           "670 Brown St"
          ],
          [
           "2003/07/13 04:00:00+00",
           "710 Clifford Av"
          ],
          [
           "2003/07/13 04:00:00+00",
           "150 Flanders St"
          ],
          [
           "2003/07/12 04:00:00+00",
           "570 Portland Av"
          ],
          [
           "2003/07/11 04:00:00+00",
           "245 Saratoga Av"
          ],
          [
           "2003/07/10 04:00:00+00",
           "448 Ames St"
          ],
          [
           "2003/07/09 04:00:00+00",
           "578 Portland Av"
          ],
          [
           "2003/07/01 04:00:00+00",
           "1143 S Plymouth Av"
          ],
          [
           "2003/06/29 04:00:00+00",
           "29 Arnett Bl"
          ],
          [
           "2003/06/29 04:00:00+00",
           "85 Meigs St"
          ],
          [
           "2003/06/28 04:00:00+00",
           "61 Reynolds St"
          ],
          [
           "2003/06/28 04:00:00+00",
           "498 Hudson Av"
          ],
          [
           "2003/06/28 04:00:00+00",
           "85 Harris St"
          ],
          [
           "2003/06/27 04:00:00+00",
           "52 Love St"
          ],
          [
           "2003/06/25 04:00:00+00",
           "152 Bartlett St"
          ],
          [
           "2003/06/23 04:00:00+00",
           "12 Sigel St"
          ],
          [
           "2003/06/19 04:00:00+00",
           "542 Ames St"
          ],
          [
           "2003/06/18 04:00:00+00",
           "515 Smith St"
          ],
          [
           "2003/06/13 04:00:00+00",
           "78 Linnet St"
          ],
          [
           "2003/06/12 04:00:00+00",
           "528 Jefferson Av"
          ],
          [
           "2003/06/12 04:00:00+00",
           "528 Jefferson Av"
          ],
          [
           "2003/06/09 04:00:00+00",
           "774 North St"
          ],
          [
           "2003/06/08 04:00:00+00",
           "64 Trust St"
          ],
          [
           "2003/05/31 04:00:00+00",
           "833 Lake Av"
          ],
          [
           "2003/05/29 04:00:00+00",
           "469 Maplewood Av"
          ],
          [
           "2003/05/26 04:00:00+00",
           "524 W Main St"
          ],
          [
           "2003/05/24 04:00:00+00",
           "108 Ambrose St"
          ],
          [
           "2003/05/24 04:00:00+00",
           "117 Salina St"
          ],
          [
           "2003/05/24 04:00:00+00",
           "570 Portland Av"
          ],
          [
           "2003/05/15 04:00:00+00",
           "460 S Goodman St"
          ],
          [
           "2003/05/11 04:00:00+00",
           "490 Maple St"
          ],
          [
           "2003/05/11 04:00:00+00",
           "150 Buffalo Rd"
          ],
          [
           "2003/05/08 04:00:00+00",
           "104 Bernard St"
          ],
          [
           "2003/05/06 04:00:00+00",
           "2109 E Main St"
          ],
          [
           "2003/05/05 04:00:00+00",
           "658 Hudson Av"
          ],
          [
           "2003/05/04 04:00:00+00",
           "5 Portage St"
          ],
          [
           "2003/05/03 04:00:00+00",
           "134 Martin St"
          ],
          [
           "2003/04/29 04:00:00+00",
           "902 Hudson Av"
          ],
          [
           "2003/04/29 04:00:00+00",
           "902 Hudson Av"
          ],
          [
           "2003/04/22 04:00:00+00",
           "1554 St Paul St"
          ],
          [
           "2003/04/18 04:00:00+00",
           "53 Gardiner Av"
          ],
          [
           "2003/04/18 04:00:00+00",
           "343 Remington St"
          ],
          [
           "2003/04/17 04:00:00+00",
           "140 Andrews St"
          ],
          [
           "2003/04/16 04:00:00+00",
           "14 Woodford St"
          ],
          [
           "2003/04/16 04:00:00+00",
           "200 Arnett Bl"
          ],
          [
           "2003/04/15 04:00:00+00",
           "485 Ave D"
          ],
          [
           "2003/04/15 04:00:00+00",
           "118 Glendale Pk"
          ],
          [
           "2003/04/14 04:00:00+00",
           "149 Wilkins St"
          ],
          [
           "2003/04/12 04:00:00+00",
           "86 Bay St"
          ],
          [
           "2003/04/05 05:00:00+00",
           "125 Bartlett St"
          ],
          [
           "2003/04/05 05:00:00+00",
           "281 Pennsylvania Av"
          ],
          [
           "2003/04/01 05:00:00+00",
           "658 Hudson Av"
          ],
          [
           "2003/03/30 05:00:00+00",
           "775 Genesee St"
          ],
          [
           "2003/03/28 05:00:00+00",
           "25 Broezel St"
          ],
          [
           "2003/03/28 05:00:00+00",
           "119 Thomas St"
          ],
          [
           "2003/03/22 05:00:00+00",
           "166 Dewey Av"
          ],
          [
           "2003/03/20 05:00:00+00",
           "52 Jefferson Av"
          ],
          [
           "2003/03/11 05:00:00+00",
           "136 3Rd St"
          ],
          [
           "2003/03/02 05:00:00+00",
           "67 Ries St"
          ],
          [
           "2003/03/01 05:00:00+00",
           "497 State St"
          ],
          [
           "2003/03/01 05:00:00+00",
           "497 State St"
          ],
          [
           "2003/02/20 05:00:00+00",
           "45 East Av"
          ],
          [
           "2003/02/09 05:00:00+00",
           "407 West Av"
          ],
          [
           "2003/02/08 05:00:00+00",
           "18 Carl St"
          ],
          [
           "2003/02/05 05:00:00+00",
           "248 Van Auker St"
          ],
          [
           "2003/01/31 05:00:00+00",
           "184 Bartlett St"
          ],
          [
           "2003/01/29 05:00:00+00",
           "752 Ave D"
          ],
          [
           "2003/01/25 05:00:00+00",
           "1 Denning St"
          ],
          [
           "2003/01/24 05:00:00+00",
           "371 Weaver St"
          ],
          [
           "2003/01/24 05:00:00+00",
           "161 Weld St"
          ],
          [
           "2003/01/08 05:00:00+00",
           "41 Wilder St"
          ],
          [
           "2003/01/07 05:00:00+00",
           "116 Whitney St"
          ],
          [
           "2003/01/06 05:00:00+00",
           "892 N Clinton Av"
          ],
          [
           "2003/01/02 05:00:00+00",
           "54 Locust St"
          ],
          [
           "2003/01/01 05:00:00+00",
           "50 Liberty Pole Wy"
          ],
          [
           "2003/01/01 05:00:00+00",
           "50 Liberty Pole Wy"
          ],
          [
           "2003/01/01 05:00:00+00",
           "50 Liberty Pole Wy"
          ],
          [
           "2003/01/01 05:00:00+00",
           "50 Liberty Pole Wy"
          ],
          [
           "2002/12/31 05:00:00+00",
           "142 Woodbine Av"
          ],
          [
           "2002/12/20 05:00:00+00",
           "495 Maple St"
          ],
          [
           "2002/12/13 05:00:00+00",
           "140 Chamberlain St"
          ],
          [
           "2002/12/12 05:00:00+00",
           "225 Hague St"
          ],
          [
           "2002/12/10 05:00:00+00",
           "48 Riverferry Wy"
          ],
          [
           "2002/12/07 05:00:00+00",
           "189 Portland Av"
          ]
         ],
         "hovertemplate": "Crime_Type=%{text}<br>Latitude=%{lat}<br>Longitude=%{lon}<br>Occurred_Date=%{customdata[0]}<br>Address=%{customdata[1]}<extra></extra>",
         "lat": [
          43.18416269,
          43.14297014,
          43.16721571,
          43.16239428,
          43.15486861,
          43.16669846,
          43.1589162,
          43.13223858,
          43.17580088,
          43.18028037,
          43.18146688,
          43.17340684,
          43.17505997,
          43.16071036,
          43.17884696,
          43.16447594,
          43.18538057,
          43.18035945,
          43.17677499,
          43.17141551,
          43.15016761,
          43.13866208,
          43.18429203,
          43.17651614,
          43.17637242,
          43.16791436,
          43.16791436,
          43.1550101,
          43.14174903,
          43.16507779,
          43.18056851,
          43.16803433,
          43.17619911,
          43.16599649,
          43.18172423,
          43.15088207,
          43.16440965,
          43.18333186,
          43.17600856,
          43.1763417,
          43.18992499,
          43.17291283,
          43.14156061,
          43.16695964,
          43.17556893,
          43.17556893,
          43.14097303,
          43.17718279,
          43.18490445,
          43.17523297,
          43.14568724,
          43.17142989,
          43.16685145,
          43.15573163,
          43.15573163,
          43.14265696,
          43.15268903,
          43.16605423,
          43.16295368,
          43.1528848,
          43.16924356,
          43.16030924,
          43.14733655,
          43.14733655,
          43.16173444,
          43.18493299,
          43.14529486,
          43.18538057,
          43.17088875,
          43.12360795,
          43.13580404,
          43.18639775,
          43.15351426,
          43.17144967,
          43.16045551,
          43.16301446,
          43.16301446,
          43.14838457,
          43.17116924,
          43.17541558,
          43.16251264,
          43.13871776,
          43.17296273,
          43.16703792,
          43.16703792,
          43.1493774,
          43.18199882,
          43.14947211,
          43.18703964,
          43.15953969,
          43.1724909,
          43.17995451,
          43.18748605,
          43.17255227,
          43.17255227,
          43.1902216,
          43.1902216,
          43.14922445,
          43.1782512,
          43.17653673,
          43.1886746,
          43.18687945,
          43.19055296,
          43.18178154,
          43.12289589,
          43.17831607,
          43.18174365,
          43.17511977,
          43.16190956,
          43.14419243,
          43.16769064,
          43.17369524,
          43.14339468,
          43.16695658,
          43.17642058,
          43.11525286,
          43.17764123,
          43.17621728,
          43.17303547,
          43.13361691,
          43.17959755,
          43.18079751,
          43.18079751,
          43.16489326,
          43.18004061,
          43.186528,
          43.18870199,
          43.18014565,
          43.1761195,
          43.18561576,
          43.18187753,
          43.18788989,
          43.16531922,
          43.16531922,
          43.16408535,
          43.16408535,
          43.17585297,
          43.16479278,
          43.18512782,
          43.15926431,
          43.18019687,
          43.16668765,
          43.18267158,
          43.17242031,
          43.18098903,
          43.17538615,
          43.17859078,
          43.17369524,
          43.17975306,
          43.17361759,
          43.14320118,
          43.14320118,
          43.17946053,
          43.17946053,
          43.174815,
          43.174815,
          43.15412247,
          43.17922313,
          43.17922313,
          43.16393737,
          43.14495258,
          43.14495258,
          43.14007546,
          43.1810516,
          43.17712172,
          43.17712172,
          43.13188652,
          43.19102701,
          43.17617103,
          43.16724362,
          43.18685115,
          43.18685115,
          43.17797928,
          43.16921518,
          43.17977869,
          43.17983329,
          43.16683299,
          43.15160194,
          43.14956118,
          43.1825934,
          43.14375352,
          43.14375352,
          43.14375352,
          43.18157093,
          43.18317373,
          43.18317373,
          43.17145489,
          43.14030283,
          43.18104818,
          43.18139786,
          43.25985415,
          43.25985415,
          43.18139786,
          43.18139786,
          43.18193532,
          43.14816232,
          43.16013427,
          43.18366087,
          43.16895417,
          43.16487927,
          43.16650712,
          43.15201149,
          43.15201149,
          43.17434076,
          43.15333695,
          43.13150697,
          43.14340454,
          43.18187753,
          43.18187753,
          43.18187753,
          43.17797416,
          43.18174365,
          43.16721571,
          43.16721571,
          43.16828408,
          43.14377727,
          43.14377727,
          43.14377727,
          43.17048268,
          43.13518103,
          43.18499935,
          43.17051765,
          43.16996919,
          43.15333695,
          43.16123473,
          43.18313584,
          43.17200619,
          43.16888873,
          43.13266515,
          43.1724909,
          43.18641066,
          43.18669995,
          43.18669995,
          43.13807917,
          43.14323394,
          43.18676854,
          43.18676854,
          43.13900413,
          43.18000757,
          43.15941442,
          43.15201149,
          43.16443941,
          43.16077194,
          43.17064258,
          43.16478719,
          43.14114406,
          43.1660652,
          43.1465942,
          43.1465942,
          43.18170339,
          43.14768016,
          43.17864181,
          43.15852235,
          43.13576614,
          43.18277258,
          43.16481687,
          43.16695658,
          43.12360795,
          43.17141833,
          43.17736567,
          43.1735242,
          43.1735242,
          43.16793129,
          43.16793129,
          43.17573407,
          43.17354838,
          43.13812075,
          43.18056851,
          43.174635,
          43.17961742,
          43.15285541,
          43.16858856,
          43.16774999,
          43.14220395,
          43.17940571,
          43.1397203,
          43.18017009,
          43.18148116,
          43.14363189,
          43.18450573,
          43.16079388,
          43.16721227,
          43.17272728,
          43.16444758,
          43.16444758,
          43.16444758,
          43.18063821,
          43.17521774,
          43.17521774,
          43.1791085,
          43.1791085,
          43.14634692,
          43.18071181,
          43.13809694,
          43.1673169,
          43.14323394,
          43.17330658,
          43.17538615,
          43.17538615,
          43.19157024,
          43.17554868,
          43.1782618,
          43.17514004,
          43.12608975,
          43.12608975,
          43.16453222,
          43.16453222,
          43.16453222,
          43.14009502,
          43.14458898,
          43.16250142,
          43.17342375,
          43.18916087,
          43.16600716,
          43.17642797,
          43.17579703,
          43.16527702,
          43.16527702,
          43.17796644,
          43.16857684,
          43.18413748,
          43.18056851,
          43.18161952,
          43.17946053,
          43.18062787,
          43.14027589,
          43.15475641,
          43.17796247,
          43.18481191,
          43.18481191,
          43.18336993,
          43.1809727,
          43.1638506,
          43.1799754,
          43.20208117,
          43.15597065,
          43.1762238,
          43.15201149,
          43.15819854,
          43.1713254,
          43.17558544,
          43.16816432,
          43.13032171,
          43.17952158,
          43.14174903,
          43.1445891,
          43.18150629,
          43.17296273,
          43.18046288,
          43.17737966,
          43.16137543,
          43.16137543,
          43.13489226,
          43.16709225,
          43.18149375,
          43.17068166,
          43.16730939,
          43.17309351,
          43.20239746,
          43.1660195,
          43.18107053,
          43.14054928,
          43.1588689,
          43.17714268,
          43.1436132,
          43.18199882,
          43.18199882,
          43.16517331,
          43.17631463,
          43.17631463,
          43.17631463,
          43.17112429,
          43.17834727,
          43.22037523,
          43.14976604,
          43.17626459,
          43.14552109,
          43.16008046,
          43.14103651,
          43.16941223,
          43.18112833,
          43.18068574,
          43.18684453,
          43.13712848,
          43.17479946,
          43.16383368,
          43.16151704,
          43.16489962,
          43.1915462,
          43.1465942,
          43.1465942,
          43.1465942,
          43.19754737,
          43.13668581,
          43.14603656,
          43.17833164,
          43.17418884,
          43.18118561,
          43.18460894,
          43.14072475,
          43.17518552,
          43.17485964,
          43.16973542,
          43.16973542,
          43.14605751,
          43.1541734,
          43.15902477,
          43.15712697,
          43.16695658,
          43.16695658,
          43.16490722,
          43.17087773,
          43.17969713,
          43.16453222,
          43.17859123,
          43.18250881,
          43.16593855,
          43.12960234,
          43.18068574,
          43.17116107,
          43.14976604,
          43.17883817,
          43.15062699,
          43.15062699,
          43.15062699,
          43.15062699,
          43.18247238,
          43.15259019,
          43.18152031,
          43.17870092,
          43.1357602,
          43.16741097,
          43.16779578,
          43.1621961,
          43.16779578,
          43.15253992,
          43.18652745,
          43.18652745,
          43.17784687,
          43.16379722,
          43.17754684,
          43.15177375,
          43.16197607,
          43.16197607,
          43.17238698,
          43.14576945,
          43.13244868,
          43.15369362,
          43.15043443,
          43.1902196,
          43.14568021,
          43.17085064,
          43.17085064,
          43.17296273,
          43.20244038,
          43.18748605,
          43.1751478,
          43.17689256,
          43.14321539,
          43.17514408,
          43.17861735,
          43.14396886,
          43.14260653,
          43.1460288,
          43.14104891,
          43.14104891,
          43.16500088,
          43.15305482,
          43.14356421,
          43.1715892,
          43.16713975,
          43.18189752,
          43.1872402,
          43.14315143,
          43.17278419,
          43.16238442,
          43.14525584,
          43.173711,
          43.14309435,
          43.18338304,
          43.14363653,
          43.17683693,
          43.16661735,
          43.16661735,
          43.16661735,
          43.16661735,
          43.16661735,
          43.16661735,
          43.16661735,
          43.16661735,
          43.16661735,
          43.16661735,
          43.16661735,
          43.16661735,
          43.16661735,
          43.16661735,
          43.15346983,
          43.13829251,
          43.19182172,
          43.16895417,
          43.18187753,
          43.17754728,
          43.17385505,
          43.14576071,
          43.17588108,
          43.17847231,
          43.14670886,
          43.16937128,
          43.17630746,
          43.17630746,
          43.17630746,
          43.17630746,
          43.14077858,
          43.18313234,
          43.17009993,
          43.17393238,
          43.17393238,
          43.14336531,
          43.16233979,
          43.16779578,
          43.16489994,
          43.17463745,
          43.17090352,
          43.14262404,
          43.15928066,
          43.1825934,
          43.1925887,
          43.13510198,
          43.13769305,
          43.13769305,
          43.18257241,
          43.17465352,
          43.17465352,
          43.14588465,
          43.12360795,
          43.18639183,
          43.17846067,
          43.13808894,
          43.14806295,
          43.16489994,
          43.19246993,
          43.19462148,
          43.17595075,
          43.19213295,
          43.17546156,
          43.17926464,
          43.16479348,
          43.16469451,
          43.16469451,
          43.16469451,
          43.15043443,
          43.14678031,
          43.14678031,
          43.14454386,
          43.1436132,
          43.13257617,
          43.18142638,
          43.18142638,
          43.16551806,
          43.16551806,
          43.16153201,
          43.1815188,
          43.14800507,
          43.16761037,
          43.13982151,
          43.15191806,
          43.16649478,
          43.15597065,
          43.15597065,
          43.17835251,
          43.15803402,
          43.16721571,
          43.1899819,
          43.1796461,
          43.17626564,
          43.15504223,
          43.17037631,
          43.17037631,
          43.17460614,
          43.17464241,
          43.17464241,
          43.18346565,
          43.18346565,
          43.13738039,
          43.19138581,
          43.19138581,
          43.18229617,
          43.18412672,
          43.19340979,
          43.18415644,
          43.18415644,
          43.17124166,
          43.17797928,
          43.14963703,
          43.17460614,
          43.13963075,
          43.18617717,
          43.1342543,
          43.1787276,
          43.16971403,
          43.13600556,
          43.15300984,
          43.1915462,
          43.14188427,
          43.1417234,
          43.13494298,
          43.13494298,
          43.13494298,
          43.13494298,
          43.13494298,
          43.13644594,
          43.16502717,
          43.15445056,
          43.17217795,
          43.14269648,
          43.17705801,
          43.18367954,
          43.1417234,
          43.17844812,
          43.16827618,
          43.18177517,
          43.18177517,
          43.12659087,
          43.14616824,
          43.17913314,
          43.17913314,
          43.17269339,
          43.17435306,
          43.1433883,
          43.15446425,
          43.1567618,
          43.1674965,
          43.14269862,
          43.16345689,
          43.16695658,
          43.15965787,
          43.14955525,
          43.14323019,
          43.13972689,
          43.18551606,
          43.18190684,
          43.17287647,
          43.18197231,
          43.16264708,
          43.17508468,
          43.16139822,
          43.1915462,
          43.17956243,
          43.14249518,
          43.17834556,
          43.17834556,
          43.16589325,
          43.16589325,
          43.16589325,
          43.16589325,
          43.16589325,
          43.16589325,
          43.1361394,
          43.1361394,
          43.14650373,
          43.14650373,
          43.14650373,
          43.18514671,
          43.14701525,
          43.16629608,
          43.16447042,
          43.17665476,
          43.16868485,
          43.17964571,
          43.17720297,
          43.14646422,
          43.14646422,
          43.18632025,
          43.16608371,
          43.16619411,
          43.17570978,
          43.1420065,
          43.16372524,
          43.16168025,
          43.18008661,
          43.16842119,
          43.15279422,
          43.16820439,
          43.14047704,
          43.13773639,
          43.17570978,
          43.13164295,
          43.16482166,
          43.16499927,
          43.18074497,
          43.17736567,
          43.18874843,
          43.17460614,
          43.14701347,
          43.17738538,
          43.16735887,
          43.18456096,
          43.16362403,
          43.16582938,
          43.17063223,
          43.14769709,
          43.17460614,
          43.14769709,
          43.19935824,
          43.14984993,
          43.19494061,
          43.18068574,
          43.18068574,
          43.16461823,
          43.17595969,
          43.18189752,
          43.18189752,
          43.16754976,
          43.17304728,
          43.16970884,
          43.16970884,
          43.16970884,
          43.16496949,
          43.16134068,
          43.17708666,
          43.14101573,
          43.14101573,
          43.16435049,
          43.17669196,
          43.15727568,
          43.14915887,
          43.13975862,
          43.17616642,
          43.13870178,
          43.17595075,
          43.14050875,
          43.13714246,
          43.17797416,
          43.14495403,
          43.18543676,
          43.17411144,
          43.18071181,
          43.18043187,
          43.14391549,
          43.17579919,
          43.14151141,
          43.17061708,
          43.17836875,
          43.18422767,
          43.18178964,
          43.18617717,
          43.15820354,
          43.14647847,
          43.18749373,
          43.17974259,
          43.13588207,
          43.1915462,
          43.13850013,
          43.18151532,
          43.14285918,
          43.14285918,
          43.14285918,
          43.17303927,
          43.17569731,
          43.18196948,
          43.15333695,
          43.16972688,
          43.17064258,
          43.17962487,
          43.17969713,
          43.16577283,
          43.16577283,
          43.13980863,
          43.14199326,
          43.18229385,
          43.15959216,
          43.15959216,
          43.13217064,
          43.17864567,
          43.17152147,
          43.1817377,
          43.16901671,
          43.14153624,
          43.1364039,
          43.1364039,
          43.14179568,
          43.18369095,
          43.14798807,
          43.16862608,
          43.15866404,
          43.18238758,
          43.17296556,
          43.16116334,
          43.16513946,
          43.1724909,
          43.16690568,
          43.18291486,
          43.18483639,
          43.16484921,
          43.14052343,
          43.16489994,
          43.14674631,
          43.17019957,
          43.16965864,
          43.16673329,
          43.14209575,
          43.16664373,
          43.18118561,
          43.16433992,
          43.16853379,
          43.18071181,
          43.1810985,
          43.15727568,
          43.15727568,
          43.15727568,
          43.1848348,
          43.12360795,
          43.13963075,
          43.17643312,
          43.18306681,
          43.18264909,
          43.14619209,
          43.19091212,
          43.17893383,
          43.17893383,
          43.17893383,
          43.13773639,
          43.13773639,
          43.19139337,
          43.15651537,
          43.17824271,
          43.19438661,
          43.19438661,
          43.18484105,
          43.15549988,
          43.15549988,
          43.16545205,
          43.17374347,
          43.13409661,
          43.1615287,
          43.15953969,
          43.16658589,
          43.16658589,
          43.19994393,
          43.17579703,
          43.19128295,
          43.17252824,
          43.14671605,
          43.13810167,
          43.15920703,
          43.14809946,
          43.17492589,
          43.19994393,
          43.14495258,
          43.16653273,
          43.14148719,
          43.18154234,
          43.16604791,
          43.16034716,
          43.18029428,
          43.13664246,
          43.14299131,
          43.17653673,
          43.17309351,
          43.14545648,
          43.13363564,
          43.14648523,
          43.14648523,
          43.17350396,
          43.18148332,
          43.23074323,
          43.16181653,
          43.13765116,
          43.16693919,
          43.14968235,
          43.14463457,
          43.16292812,
          43.16983695,
          43.14322643,
          43.18508608,
          43.13979257,
          43.15952408,
          43.18107053,
          43.18107053,
          43.15088207,
          43.14323394,
          43.17109612,
          43.18139544,
          43.17454615,
          43.17689256,
          43.15152717,
          43.16162676,
          43.16483153,
          43.17538615,
          43.14641094,
          43.17839848,
          43.17186023,
          43.13454683,
          43.16758522,
          43.17392349,
          43.16211988,
          43.16877513,
          43.18393437,
          43.18266479,
          43.14309435,
          43.14365514,
          43.16498911,
          43.1714302,
          43.15407292,
          43.15407292,
          43.16061283,
          43.16066428,
          43.16663426,
          43.16663426,
          43.14603984,
          43.17841526,
          43.16008046,
          43.16008046,
          43.17532805,
          43.18153422,
          43.15632616,
          43.18655901,
          43.1720502,
          43.1720502,
          43.1737454,
          43.16054105,
          43.14102079,
          43.14495258,
          43.15162413,
          43.14419935,
          43.18029907,
          43.18029907,
          43.1669528,
          43.18117475,
          43.17797006,
          43.17346222,
          43.17346222,
          43.15816185,
          43.18390134,
          43.19105842,
          43.19779197,
          43.15757078,
          43.16774999,
          43.18210518,
          43.15803402,
          43.18274939,
          43.15823737,
          43.15823737,
          43.19011646,
          43.14101187,
          43.16860889,
          43.17460614,
          43.18149795,
          43.17710937,
          43.17079281,
          43.15065365,
          43.15065365,
          43.14005659,
          43.16931474,
          43.15989626,
          43.18278282,
          43.16931474,
          43.17630289,
          43.17069933,
          43.18656678,
          43.14337148,
          43.14493247,
          43.14568836,
          43.1795092,
          43.1357507,
          43.17927227,
          43.17460614,
          43.13779452,
          43.18307201,
          43.18481596,
          43.18140294,
          43.14322643,
          43.18140294,
          43.14322643,
          43.18140294,
          43.18277193,
          43.17674146,
          43.14924668,
          43.16776729,
          43.18561576,
          43.16083928,
          43.18220135,
          43.19398735,
          43.16481563,
          43.1910491,
          43.15921508,
          43.17717333,
          43.17112753,
          43.19155194,
          43.17796247,
          43.16089946,
          43.17570043,
          43.18300642,
          43.16087045,
          43.16211851,
          43.17664831,
          43.19095911,
          43.13902676,
          43.18547145,
          43.18522144,
          43.18015979,
          43.15991018,
          43.17370632,
          43.18660893,
          43.25792176,
          43.18153422,
          43.17661034,
          43.17661034,
          43.13809694,
          43.17129024,
          43.16951592,
          43.17801435,
          43.17146124,
          43.1915462,
          43.15961752,
          43.18985666,
          43.16409251,
          43.19462148,
          43.17843504,
          43.18290602,
          43.15163751,
          43.1361461,
          43.14353035,
          43.19042663,
          43.16941176,
          43.18869513,
          43.16996891,
          43.18182993,
          43.14891874,
          43.19022295,
          43.17176779,
          43.12360795,
          43.16497337,
          43.15846531,
          43.16416209,
          43.1915462,
          43.1645215,
          43.17093489,
          43.18187753,
          43.14650295,
          43.1752247,
          43.16093996,
          43.14651434,
          43.1757512,
          43.14083004,
          43.17256024,
          43.17679791,
          43.16373623,
          43.18264909,
          43.1653662,
          43.14301431,
          43.17477549,
          43.14344664,
          43.1697788,
          43.1697788,
          43.15505648,
          43.16695658,
          43.19026055,
          43.18178964,
          43.18178964,
          43.1869139,
          43.1869139,
          43.18548115,
          43.16192078,
          43.15848077,
          43.16704664,
          43.15984592,
          43.15007011,
          43.18180925,
          43.16789973,
          43.15388374,
          43.18421359,
          43.18421359,
          43.17229051,
          43.16456086,
          43.14096225,
          43.16552838,
          43.17912138,
          43.18148124,
          43.17640105,
          43.17521211,
          43.17765899,
          43.14672341,
          43.18424976,
          43.13780812,
          43.14309435,
          43.17414766,
          43.14490175,
          43.1827677,
          43.1715892,
          43.1715892,
          43.18255799,
          43.14770107,
          43.16076811,
          43.18422584,
          43.15092532,
          43.16386194,
          43.1641784,
          43.18464894,
          43.17901082,
          43.16313823,
          43.16915893,
          43.14102587,
          43.14169373,
          43.16667774,
          43.18071019,
          43.18227208,
          43.17968663,
          43.14337329,
          43.16737114,
          43.1782618,
          43.1782618,
          43.15721016,
          43.18163149,
          43.16183021,
          43.17956243,
          43.17956243,
          43.15505411,
          43.17128342,
          43.14199326,
          43.17485737,
          43.17933733,
          43.1942278,
          43.1942278,
          43.17252824,
          43.17531808,
          43.14545648,
          43.14969142,
          43.18312651,
          43.17235445,
          43.17331295,
          43.18110177,
          43.1368401,
          43.16057503,
          43.14104028,
          43.18097874,
          43.16929444,
          43.1436132,
          43.16741248,
          43.16741248,
          43.16741248,
          43.16698786,
          43.18562978,
          43.18562978,
          43.17084931,
          43.14569519,
          43.13675555,
          43.17834556,
          43.13159226,
          43.18425547,
          43.18478397,
          43.18478397,
          43.13709864,
          43.18375773,
          43.14072475,
          43.1454192,
          43.17370632,
          43.18778151,
          43.17818089,
          43.16180955,
          43.14365514,
          43.16695658,
          43.19233375,
          43.19144388,
          43.14322643,
          43.14322643,
          43.18659893,
          43.18659893,
          43.18659893,
          43.17818404,
          43.19042663,
          43.14781214,
          43.14781214,
          43.14781214,
          43.17931458,
          43.16126949,
          43.16051661,
          43.17089357,
          43.18514671,
          43.15505648,
          43.17402279,
          43.16711114,
          43.14377184,
          43.14767473,
          43.14243074,
          43.14266394,
          43.16452956,
          43.1662948,
          43.18403204,
          43.16479958,
          43.19767604,
          43.17893983,
          43.17893983,
          43.17588083,
          43.19695873,
          43.18495636,
          43.16773804,
          43.16773804,
          43.16773804,
          43.14639355,
          43.14639355,
          43.14639355,
          43.14639355,
          43.1906377,
          43.13484377,
          43.13538198,
          43.18647518,
          43.17946282,
          43.17767709,
          43.17796796,
          43.1757512,
          43.17617103,
          43.18680729,
          43.16676074,
          43.16622257,
          43.16202882,
          43.17443487,
          43.14389475,
          43.19042663,
          43.1738312,
          43.15268011,
          43.15611495,
          43.14323189,
          43.17697885,
          43.15823737,
          43.17870566,
          43.17450269,
          43.18197938,
          43.1836259,
          43.16128627,
          43.18550615,
          43.16336413,
          43.16900783,
          43.14237047,
          43.17504383,
          43.16919945,
          43.14214468,
          43.18079524,
          43.1772575,
          43.1801471,
          43.14365435,
          43.16643722,
          43.14970945,
          43.15160194,
          43.18434967,
          43.18707399,
          43.15070167,
          43.15070167,
          43.14895032,
          43.14490855,
          43.14596506,
          43.13780812,
          43.18396942,
          43.17100532,
          43.1691319,
          43.15006428,
          43.18309264,
          43.16782905,
          43.17852395,
          43.1712222,
          43.17875021,
          43.17117549,
          43.1361394,
          43.18557618,
          43.18274939,
          43.18274939,
          43.16475784,
          43.13977427,
          43.18270309,
          43.17356614,
          43.14365435,
          43.1607419,
          43.18440465,
          43.15955772,
          43.1870433,
          43.18071181,
          43.16924356,
          43.13779251,
          43.14196619,
          43.13808671,
          43.17829454,
          43.14459035,
          43.19101572,
          43.17144967,
          43.15520699,
          43.17959755,
          43.16702466,
          43.18338051,
          43.17586254,
          43.17460614,
          43.17811414,
          43.15020658,
          43.14601374,
          43.16808278,
          43.17987015,
          43.1361649,
          43.17590656,
          43.13975637,
          43.17452634,
          43.17995451,
          43.17995451,
          43.17995451,
          43.1484335,
          43.17069933,
          43.14998133,
          43.17961742,
          43.17116924,
          43.17689256,
          43.17560852,
          43.18272852,
          43.18118815,
          43.16721571,
          43.17667432,
          43.17667432,
          43.18322214,
          43.16286425,
          43.23989144,
          43.18656648,
          43.18656648,
          43.18084019,
          43.18173432,
          43.1674089,
          43.17560852,
          43.18116813,
          43.17104059,
          43.1453408,
          43.17524136,
          43.18114339,
          43.17765899,
          43.1724909,
          43.16731827,
          43.17641614,
          43.14365453,
          43.17641614,
          43.17641614,
          43.1915462,
          43.18314797,
          43.18314797,
          43.18654368,
          43.14365453,
          43.13902676,
          43.14658165,
          43.14658165,
          43.17343913,
          43.18058602,
          43.17752184,
          43.17330587,
          43.17765899,
          43.16499927,
          43.17929827,
          43.18210267,
          43.14336255,
          43.13580404,
          43.1361484,
          43.14236853,
          43.17838021,
          43.17304267,
          43.17935946,
          43.18227564,
          43.1703469,
          43.1830169,
          43.15990196,
          43.15990196,
          43.16405904,
          43.16405904,
          43.16405904,
          43.16405904,
          43.16405904,
          43.16405904,
          43.16405904,
          43.17617103,
          43.17454206,
          43.17253212,
          43.19152474,
          43.17078497,
          43.13951805,
          43.19004157,
          43.15973953,
          43.17500617,
          43.17652635,
          43.17652635,
          43.17393238,
          43.17766528,
          43.16157594,
          43.18206232,
          43.14495639,
          43.18101974,
          43.17386687,
          43.1439908,
          43.17474436,
          43.18120817,
          43.16640254,
          43.170269,
          43.16048735,
          43.16804984,
          43.17825563,
          43.16249943,
          43.17089357,
          43.16484165,
          43.17100427,
          43.1681991,
          43.18158026,
          43.14043804,
          43.13810167,
          43.13810167,
          43.15953969,
          43.12360795,
          43.17479946,
          43.16157242,
          43.18291864,
          43.18291864,
          43.14716247,
          43.18277258,
          43.17531542,
          43.15513428,
          43.17296273,
          43.1311333,
          43.1311333,
          43.17545389,
          43.12360795,
          43.14181448,
          43.14529827,
          43.16459948,
          43.16745634,
          43.16413264,
          43.16413264,
          43.16413264,
          43.16413264,
          43.14579216,
          43.13979257,
          43.16543027,
          43.17307465,
          43.1829694,
          43.1829694,
          43.16441451,
          43.17219052,
          43.16441451,
          43.18659893,
          43.13829984,
          43.13888865,
          43.13829984,
          43.17995451,
          43.18291864,
          43.1567618,
          43.1567618,
          43.14301431,
          43.18113473,
          43.16874296,
          43.1377434,
          43.18217059,
          43.16617324,
          43.14364548,
          43.17485183,
          43.17485183,
          43.1728104,
          43.13780812,
          43.14197779,
          43.16526567,
          43.18372534,
          43.16561691,
          43.17453647,
          43.15245318,
          43.13359199,
          43.18665966,
          43.18325603,
          43.18274939,
          43.14634692,
          43.13483624,
          43.17566415,
          43.15043443,
          43.17612904,
          43.17612904,
          43.15902477,
          43.17778956,
          43.17624512,
          43.17460614,
          43.18409426,
          43.1577822,
          43.17680117,
          43.14772163,
          43.17799123,
          43.18659734,
          43.18659734,
          43.18367263,
          43.17612571,
          43.16180803,
          43.14323394,
          43.19173946,
          43.18659734,
          43.14746542,
          43.16373102,
          43.19751703,
          43.18003035,
          43.16444869,
          43.16148473,
          43.17844008,
          43.15111987,
          43.15307726,
          43.18376451,
          43.18201329,
          43.18201329,
          43.17488755,
          43.1769556,
          43.14839066,
          43.16544512,
          43.17637893,
          43.16858928,
          43.18704675,
          43.18704675,
          43.18704675,
          43.14404388,
          43.16183431,
          43.17343456,
          43.18664007,
          43.17797416,
          43.15037655,
          43.15993078,
          43.15993078,
          43.15993078,
          43.15993078,
          43.1864944,
          43.17789872,
          43.16662852,
          43.17054481,
          43.17718279,
          43.16454579,
          43.1627353,
          43.17926464,
          43.1794991,
          43.1700011,
          43.17864181,
          43.18458753,
          43.14510544,
          43.16345427,
          43.18421359,
          43.16345427,
          43.17909237,
          43.16444869,
          43.16900783,
          43.17621728,
          43.18077903,
          43.1513848,
          43.17841276,
          43.1572355,
          43.16048735,
          43.17037887,
          43.17653276,
          43.1694504,
          43.1691779,
          43.16438493,
          43.16438493,
          43.18621468,
          43.17712908,
          43.14598881,
          43.13808676,
          43.16655783,
          43.1703469,
          43.17460614,
          43.15985914,
          43.18361297,
          43.18361297,
          43.17885632,
          43.18657061,
          43.18062268,
          43.14390576,
          43.18990649,
          43.1645299,
          43.18689991,
          43.1721519,
          43.17558544,
          43.17754232,
          43.16567842,
          43.13809399,
          43.14637054,
          43.14637054,
          43.13797999,
          43.14465333,
          43.14465333,
          43.15177375,
          43.20030134,
          43.18632009,
          43.17828771,
          43.1664523,
          43.17543067,
          43.18448384,
          43.18110055,
          43.19297287,
          43.16478454,
          43.16435049,
          43.1754307,
          43.18148124,
          43.18104533,
          43.17818404,
          43.18018434,
          43.16313982,
          43.16438493,
          43.16438493,
          43.16438493,
          43.16438493,
          43.1761674,
          43.17561899,
          43.19530493,
          43.16478088,
          43.15754583,
          43.1757512,
          43.18130232,
          43.1691779,
          43.1691779,
          43.17390851,
          43.15192849,
          43.16888873,
          43.18315253,
          43.16944027,
          43.17494417,
          43.14048058,
          43.14048058,
          43.14048058,
          43.14048058,
          43.18455043,
          43.13468201,
          43.19297287,
          43.18158026,
          43.19714991,
          43.16222295,
          43.13573514,
          43.13573514,
          43.13573514,
          43.17703158,
          43.17703158,
          43.16592549,
          43.1757512,
          43.17630096,
          43.18179326,
          43.18179326,
          43.18569387,
          43.13209752,
          43.17939615,
          43.16292812,
          43.16292812,
          43.18254348,
          43.14768335,
          43.16566649,
          43.16422459,
          43.16876591,
          43.17067223,
          43.17685135,
          43.18158163,
          43.18158163,
          43.14565172,
          43.17115927,
          43.16698786,
          43.16453222,
          43.13979257,
          43.13979257,
          43.18340471,
          43.16995381,
          43.18079107,
          43.16939281,
          43.18441491,
          43.17198003,
          43.157552,
          43.17560852,
          43.14680468,
          43.17369665,
          43.14114406,
          43.14114406,
          43.18627954,
          43.17664831,
          43.16588423,
          43.18169114,
          43.18385029,
          43.18253636,
          43.17384036,
          43.17956939,
          43.17048841,
          43.16695658,
          43.1637885,
          43.18091204,
          43.19023225,
          43.14072151,
          43.17529617,
          43.17411274,
          43.17411274,
          43.18416269,
          43.17337706,
          43.1675351,
          43.17401971,
          43.18410573,
          43.17514408,
          43.18559508,
          43.16933478,
          43.16358725,
          43.17721676,
          43.18491311,
          43.18660893,
          43.18660893,
          43.18660893,
          43.18025147,
          43.14475495,
          43.15159247,
          43.14072342,
          43.17303987,
          43.1618235,
          43.18377513,
          43.14390576,
          43.19364101,
          43.19364101,
          43.15594132,
          43.16016091,
          43.14525262,
          43.16692985,
          43.15959216,
          43.17221556,
          43.17324621,
          43.13159226,
          43.14459035,
          43.16773542,
          43.1758623,
          43.17926082,
          43.17319539,
          43.17564963,
          43.13905415,
          43.17541558,
          43.15160194,
          43.15160194,
          43.15160194,
          43.1828832,
          43.1828832,
          43.18182741,
          43.17490703,
          43.17048889,
          43.15919772,
          43.17490157,
          43.19062852,
          43.16924356,
          43.16924356,
          43.18201329,
          43.16634083,
          43.15707142,
          43.17443098,
          43.17069933,
          43.17059414,
          43.16847987,
          43.17725124,
          43.1660652,
          43.16343111,
          43.16343111,
          43.13468632,
          43.15999353,
          43.17538365,
          43.18692779,
          43.16054794,
          43.1817288,
          43.14786319,
          43.18177736,
          43.18629406,
          43.18029566,
          43.16002869,
          43.17677579,
          43.17389879,
          43.17864702,
          43.14459694,
          43.1323141,
          43.1657408,
          43.18671633,
          43.17253208,
          43.17315756,
          43.16461475,
          43.14338512,
          43.18109286,
          43.17194556,
          43.1825681,
          43.17356214,
          43.14568028,
          43.17798291,
          43.16549555,
          43.19601099,
          43.14549553,
          43.17216559,
          43.14799518,
          43.14799518,
          43.1551891,
          43.1551891,
          43.18455462,
          43.13063164,
          43.16206702,
          43.16601486,
          43.15169285,
          43.16940418,
          43.16940418,
          43.18300642,
          43.17940578,
          43.17911002,
          43.18061301,
          43.17189799,
          43.17189799,
          43.1786395,
          43.18029731,
          43.12255933,
          43.1354242,
          43.16939613,
          43.17641886,
          43.17554261,
          43.17538615,
          43.142731,
          43.14237608,
          43.18266479,
          43.17346222,
          43.17752829,
          43.17352895,
          43.18029907,
          43.18448715,
          43.14924013,
          43.17633793,
          43.14615151,
          43.18077953,
          43.1591926,
          43.17859167,
          43.17965634,
          43.17948345,
          43.16454035,
          43.14351145,
          43.18338304,
          43.16185126,
          43.18244879,
          43.17064104,
          43.17576842,
          43.17070396,
          43.17070396,
          43.16602363,
          43.14297721,
          43.15876568,
          43.18659538,
          43.14898869,
          43.18659538,
          43.18659538,
          43.16348237,
          43.16256235,
          43.13975914,
          43.17219267,
          43.18458753,
          43.17799839,
          43.17652946,
          43.16441277,
          43.16380887,
          43.16441277,
          43.16380887,
          43.16441277,
          43.16380887,
          43.16663284,
          43.18455043,
          43.17126264,
          43.17821373,
          43.17126264,
          43.16353523,
          43.19842199,
          43.1774185,
          43.17383974,
          43.14195302,
          43.17253157,
          43.17538615,
          43.16600336,
          43.15850872,
          43.19638121,
          43.16435049,
          43.19020999,
          43.14007546,
          43.14976464,
          43.1515968,
          43.14152183,
          43.16039524,
          43.13957726,
          43.17262793,
          43.15864421,
          43.15864421,
          43.15864421,
          43.18197938,
          43.16724656,
          43.17487235,
          43.14524975,
          43.16541624,
          43.15194049,
          43.15194049,
          43.18607316,
          43.16913302,
          43.18383533,
          43.17316915,
          43.18062826,
          43.14358507,
          43.167056,
          43.15956799,
          43.15956799,
          43.15956799,
          43.14369182,
          43.15724885,
          43.16661999,
          43.14323189,
          43.17089357,
          43.1756791,
          43.16642478,
          43.18125172,
          43.16081243,
          43.18431798,
          43.15081966,
          43.15081966,
          43.13953321,
          43.17252824,
          43.17876993,
          43.18385511,
          43.18032108,
          43.14352611,
          43.18014565,
          43.14522169,
          43.14522169,
          43.17616619,
          43.17918422,
          43.16969728,
          43.14558782,
          43.18362614,
          43.17334591,
          43.18225213,
          43.1708525,
          43.14525262,
          43.14331857,
          43.1791248,
          43.17778126,
          43.17907891,
          43.16726125,
          43.16324265,
          43.16453222,
          43.14538729,
          43.16602443,
          43.14288669,
          43.1803792,
          43.17192923,
          43.1816849,
          43.18339063,
          43.16634546,
          43.15511418,
          43.13829984,
          43.14254148,
          43.16984698,
          43.15756574,
          43.15110779,
          43.18036753,
          43.17559066,
          43.15561121,
          43.1691779,
          43.18346565,
          43.17092098,
          43.16609739,
          43.16609739,
          43.16325603,
          43.14368935,
          43.18036753,
          43.17503449,
          43.17988236,
          43.14816232,
          43.1663377,
          43.14969937,
          43.16897707,
          43.18411311,
          43.17884658,
          43.18488435,
          43.17633793,
          43.15013802,
          43.17701856,
          43.18199882,
          43.1608595,
          43.17413021,
          43.17572863,
          43.17043825,
          43.15865666,
          43.17485472,
          43.18425547,
          43.14677161,
          43.17630657,
          43.17630657,
          43.18235181,
          43.16475956,
          43.18333531,
          43.18333531,
          43.18333531,
          43.18333531,
          43.13829984,
          43.17565671,
          43.17565671,
          43.14262413,
          43.14262413,
          43.13575664,
          43.16793762,
          43.15793243,
          43.17161501,
          43.1819026,
          43.14297605,
          43.1601549,
          43.16602363,
          43.13900668,
          43.13900668,
          43.13900668,
          43.15015505,
          43.17239554,
          43.18318149,
          43.14452451,
          43.18153422,
          43.18153422,
          43.17427721,
          43.17680107,
          43.16837703,
          43.18687945,
          43.17466858,
          43.17779669,
          43.16204985,
          43.14751223,
          43.15547835,
          43.18055992,
          43.18536666,
          43.1691779,
          43.14071687,
          43.17873236,
          43.18273947,
          43.18273947,
          43.17416717,
          43.18601016,
          43.13481809,
          43.17015918,
          43.16665031,
          43.18128105,
          43.15101389,
          43.14165198,
          43.16636175,
          43.14525059,
          43.17082849,
          43.17950126,
          43.17852201,
          43.23713588,
          43.18221108,
          43.17130763,
          43.14369182,
          43.18549589,
          43.13301252,
          43.18136183,
          43.16454021,
          43.1388392,
          43.18372155,
          43.16236546,
          43.13740196,
          43.13740196,
          43.24234647,
          43.13904864,
          43.19079114,
          43.14464188,
          43.18822931,
          43.17288266,
          43.1761674,
          43.17538615,
          43.17208457,
          43.17113245,
          43.14648986,
          43.19107683,
          43.16498003,
          43.18388492,
          43.17961742,
          43.17961742,
          43.17961742,
          43.18380372,
          43.18083842,
          43.13939959,
          43.15640787,
          43.23193832,
          43.1792567,
          43.1792567,
          43.17596603,
          43.18432221,
          43.17696494,
          43.177961,
          43.1598269,
          43.18486811,
          43.17580088,
          43.15917684,
          43.15917684,
          43.15981085,
          43.17870732,
          43.18184728,
          43.16722938,
          43.18256745,
          43.14309435,
          43.1678287,
          43.14308345,
          43.15992642,
          43.17520624,
          43.1915462,
          43.18149858,
          43.18216902,
          43.18502643,
          43.13779491,
          43.13779491,
          43.16779636,
          43.15853,
          43.14794234,
          43.16079418,
          43.1771486,
          43.18165347,
          43.18165347,
          43.14672,
          43.18121219,
          43.17839552,
          43.17011756,
          43.1642798,
          43.1642798,
          43.1642798,
          43.13610107,
          43.18687945,
          43.16517331,
          43.16517331,
          43.16355469,
          43.18356346,
          43.1605256,
          43.17871428,
          43.17918422,
          43.16514791,
          43.13709864,
          43.18389792,
          43.18071181,
          43.17576275,
          43.16834145,
          43.17082849,
          43.14814672,
          43.17936041,
          43.18362906,
          43.16834145,
          43.14389122,
          43.16850203,
          43.17714491,
          43.17140392,
          43.17705801,
          43.1865955,
          43.18008791,
          43.18396118,
          43.16299462,
          43.14613664,
          43.17988236,
          43.14796693,
          43.17405546,
          43.17951774,
          43.17002217,
          43.14990574,
          43.17002217,
          43.1650429,
          43.1423727,
          43.15389286,
          43.17951774,
          43.1691497,
          43.17481092,
          43.18311111,
          43.17916332,
          43.1762249,
          43.17282599,
          43.15768648,
          43.13425301,
          43.17600405,
          43.17810383,
          43.14219069,
          43.14219069,
          43.16498003,
          43.17460614,
          43.13582626,
          43.1915462,
          43.16002754,
          43.1652128,
          43.15570665,
          43.17546172,
          43.16259594,
          43.1504138,
          43.16924356,
          43.18389792,
          43.16885673,
          43.18499935,
          43.14705481,
          43.14705481,
          43.18342843,
          43.18342843,
          43.18106186,
          43.1764382,
          43.16447042,
          43.14675594,
          43.16164057,
          43.14547638,
          43.17162623,
          43.17162623,
          43.18115263,
          43.176327,
          43.17619911,
          43.18396582,
          43.17725236,
          43.17934205,
          43.14605886,
          43.16356581,
          43.17602332,
          43.1709579,
          43.1908128,
          43.17765229,
          43.13840954,
          43.1358248,
          43.18625722,
          43.1665553,
          43.13856206,
          43.13484411,
          43.17305202,
          43.13752686,
          43.14599448,
          43.16550413,
          43.17660859,
          43.17810383,
          43.16181653,
          43.16588548,
          43.16478088,
          43.15950327,
          43.1865955,
          43.16452956,
          43.1693192,
          43.14818694,
          43.14320118,
          43.14529827,
          43.19083998,
          43.14320118,
          43.14529827,
          43.14422943,
          43.15949322,
          43.14633202,
          43.17586392,
          43.17460614,
          43.15943423,
          43.15539732,
          43.16533657,
          43.17831607,
          43.18487842,
          43.14767581,
          43.18133351,
          43.1374381,
          43.17137135,
          43.16484418,
          43.18133351,
          43.17370632,
          43.18428366,
          43.14528963,
          43.16190956,
          43.18133351,
          43.17370632,
          43.1759562,
          43.14528963,
          43.18237548,
          43.17387888,
          43.17370632,
          43.16952123,
          43.17204871,
          43.18166564,
          43.1614738,
          43.13257617,
          43.16952123,
          43.16296871,
          43.15201149,
          43.17742802,
          43.18312088,
          43.1460128,
          43.17880385,
          43.18458058,
          43.1491435,
          43.17618707,
          43.18196297,
          43.18196297,
          43.18447801,
          43.16454035,
          43.18147659,
          43.18147659,
          43.17499558,
          43.14665402,
          43.16615173,
          43.15346624,
          43.18014565,
          43.18381221,
          43.1725669,
          43.17829454,
          43.18681356,
          43.17315129,
          43.17299756,
          43.18365157,
          43.17827089,
          43.17728574,
          43.17760419,
          43.14068439,
          43.16293845,
          43.16716068,
          43.15977488,
          43.16070226,
          43.17800332,
          43.14197811,
          43.14197811,
          43.14822599,
          43.17436601,
          43.19127755,
          43.16744214,
          43.1734352,
          43.1734352,
          43.16125168,
          43.16125168,
          43.18288358,
          43.18146493,
          43.18146493,
          43.16681378,
          43.14148845,
          43.17602332,
          43.17903222,
          43.18187753,
          43.16966369,
          43.16724741,
          43.16724741,
          43.18113473,
          43.17369829,
          43.17586254,
          43.18262049,
          43.15086189,
          43.18180461,
          43.18180461,
          43.13555344,
          43.19192538,
          43.14981887,
          43.16640521,
          43.16294877,
          43.14858696,
          43.1717307,
          43.15001357,
          43.14290508,
          43.14857356,
          43.16296871,
          43.16510477,
          43.17596269,
          43.14857356,
          43.14365514,
          43.16939281,
          43.16608734,
          43.15455158,
          43.14196428,
          43.13673073,
          43.15043443,
          43.13867061,
          43.18276013,
          43.1754619,
          43.17652701,
          43.13838272,
          43.18276013,
          43.18488965,
          43.14783017,
          43.15192923,
          43.18421359,
          43.17432912,
          43.19363376,
          43.16712642,
          43.14593402,
          43.16798716,
          43.1766979,
          43.15977488,
          43.15977488,
          43.1694487,
          43.16980027,
          43.17070396,
          43.17913426,
          43.19457456,
          43.18604402,
          43.14545648,
          43.14545648,
          43.18569387,
          43.18252919,
          43.15484037,
          43.19520982,
          43.15542176,
          43.19520982,
          43.17658506,
          43.17267383,
          43.17656975,
          43.17153815,
          43.17049915,
          43.18154567,
          43.18371915,
          43.13506904,
          43.1815314,
          43.16079418,
          43.17143428,
          43.18356346,
          43.1674459,
          43.1605646,
          43.16602594,
          43.16885247,
          43.16934798,
          43.14335448,
          43.17786892,
          43.1977561,
          43.12530078,
          43.16830221,
          43.14477248,
          43.14395606,
          43.16233249,
          43.13159226,
          43.16638027,
          43.16638027,
          43.1768483,
          43.15253992,
          43.15253992,
          43.15253992,
          43.16922861,
          43.13900413,
          43.18617717,
          43.16667702,
          43.20217795,
          43.16990812,
          43.18276013,
          43.14760361,
          43.17806682,
          43.16754976,
          43.18100577,
          43.17877227,
          43.16754976,
          43.17617103,
          43.18364387,
          43.16754976,
          43.17619911,
          43.18364387,
          43.15618819,
          43.16451979,
          43.18548637,
          43.16535295,
          43.18388878,
          43.14272225,
          43.14528963,
          43.1677691,
          43.13575664,
          43.14646267,
          43.17127484,
          43.14624995,
          43.16452561,
          43.19638121,
          43.1908128,
          43.17536307,
          43.1810955,
          43.14688249,
          43.14688249,
          43.15265938,
          43.17145439,
          43.16517331,
          43.16517331,
          43.16517331,
          43.14395606,
          43.14395606,
          43.14181823,
          43.18015979,
          43.1766021,
          43.16891905,
          43.20496891,
          43.15291561,
          43.17346222,
          43.15803897,
          43.13709583,
          43.1386982,
          43.16692415,
          43.16692415,
          43.13780812,
          43.19132579,
          43.15160194,
          43.17659005,
          43.17659005,
          43.16361595,
          43.14358507,
          43.14134547,
          43.16423124,
          43.16728233,
          43.15981041,
          43.13780812,
          43.17990846,
          43.16517331,
          43.13780812,
          43.16800334,
          43.17676044,
          43.17676044,
          43.17503666,
          43.17369191,
          43.16617472,
          43.13952575,
          43.1830169,
          43.17867892,
          43.17752184,
          43.17569274,
          43.18180864,
          43.19371182,
          43.17619692,
          43.16181044,
          43.17619692,
          43.16462563,
          43.18511312,
          43.18367245,
          43.18142978,
          43.17890967,
          43.18448433,
          43.18125156,
          43.1479389,
          43.14068569,
          43.16393529,
          43.19779197,
          43.18671862,
          43.18671862,
          43.18671862,
          43.17692362,
          43.16511261,
          43.14351145,
          43.17265424,
          43.17105841,
          43.17553939,
          43.17018736,
          43.1711346,
          43.18110092,
          43.18068574,
          43.18068574,
          43.16813431,
          43.17129389,
          43.17523304,
          43.18210702,
          43.17966182,
          43.1816989,
          43.15300984,
          43.13955833,
          43.16837703,
          43.16818969,
          43.15291208,
          43.19025237,
          43.13425301,
          43.13425301,
          43.17730822,
          43.17730822,
          43.18683685,
          43.14529843,
          43.13780812,
          43.16447251,
          43.14926237,
          43.17916587,
          43.18531834,
          43.18257241,
          43.15918596,
          43.14970945,
          43.19007356,
          43.16993684,
          43.1484335,
          43.13676166,
          43.16973542,
          43.1640907,
          43.14320118,
          43.14320118,
          43.16666019,
          43.15948217,
          43.15948217,
          43.18362614,
          43.18362614,
          43.15992937,
          43.17089357,
          43.17913314,
          43.14965738,
          43.17573386,
          43.16553015,
          43.14009855,
          43.14751419,
          43.16211158,
          43.16288237,
          43.17195085,
          43.15032913,
          43.16282724,
          43.1940531,
          43.16855999,
          43.1889017,
          43.1656281,
          43.1466426,
          43.16509269,
          43.16509269,
          43.17897607,
          43.18151532,
          43.1783373,
          43.17131611,
          43.17800888,
          43.16419065,
          43.16754733,
          43.18542036,
          43.14538729,
          43.13362781,
          43.14106892,
          43.16170197,
          43.16256481,
          43.17918674,
          43.17531808,
          43.1460046,
          43.1355671,
          43.18103903,
          43.16149599,
          43.13787335,
          43.18081046,
          43.15585684,
          43.15585684,
          43.14865827,
          43.16650414,
          43.18308502,
          43.17499656,
          43.17714514,
          43.15539732,
          43.19014268,
          43.17949188,
          43.19751554,
          43.15983928,
          43.16644663,
          43.16644663,
          43.18228257,
          43.17657303,
          43.1489862,
          43.17610522,
          43.1757512,
          43.17538615,
          43.13721411,
          43.17051765,
          43.17342109,
          43.17383159,
          43.13721411,
          43.16000936,
          43.17067618,
          43.14087283,
          43.17799571,
          43.17799571,
          43.17113245,
          43.18393983,
          43.14242185,
          43.15888498,
          43.17465035,
          43.17450584,
          43.16486533,
          43.14336531,
          43.14936425,
          43.14955525,
          43.17465748,
          43.16535852,
          43.16143637,
          43.17388983,
          43.17388983,
          43.16859674,
          43.16902757,
          43.17314883,
          43.19172242,
          43.18448666,
          43.13959073,
          43.17871602,
          43.17247869,
          43.17030625,
          43.13472692,
          43.15826641,
          43.17537735,
          43.17523297,
          43.17020129,
          43.16868102,
          43.17567693,
          43.16851632,
          43.17889156,
          43.1652237,
          43.17633793,
          43.16706622,
          43.18178374,
          43.14866632,
          43.1694691,
          43.12360795,
          43.16656637,
          43.16605565,
          43.17082849,
          43.17897607,
          43.17897607,
          43.1580897,
          43.1580897,
          43.1580897,
          43.17057459,
          43.15903635,
          43.17882849,
          43.14101625,
          43.16824969,
          43.16824969,
          43.17947186,
          43.13559209,
          43.17030625,
          43.1678212,
          43.17899951,
          43.17345225,
          43.17821373,
          43.13963075,
          43.161076,
          43.19064957,
          43.1761674,
          43.18233619,
          43.16447594,
          43.17085578,
          43.13574232,
          43.16372436,
          43.16049629,
          43.1734461,
          43.17532056,
          43.16293858,
          43.14066345,
          43.145121,
          43.13494218,
          43.16811648,
          43.15155376,
          43.1348516,
          43.14103004,
          43.1380602,
          43.1510328,
          43.16231535,
          43.172128,
          43.15226177,
          43.1651051,
          43.13709864,
          43.18367137,
          43.14414085,
          43.17830846,
          43.13651823,
          43.16833087,
          43.16510632,
          43.17294542,
          43.17830846,
          43.15896981,
          43.14771828,
          43.17748424,
          43.16516178,
          43.13474462,
          43.17387657,
          43.13615516,
          43.16527567,
          43.16850794,
          43.16850794,
          43.16721571,
          43.15741138,
          43.18176261,
          43.17476232,
          43.17933874,
          43.17380543,
          43.17380543,
          43.15613699,
          43.17613137,
          43.17575097,
          43.14648986,
          43.17748424,
          43.16163304,
          43.1811653,
          43.1811653,
          43.13373755,
          43.18138327,
          43.14653958,
          43.16528906,
          43.17477457,
          43.17613137,
          43.16111086,
          43.14237689,
          43.15611495,
          43.1465942,
          43.16976127,
          43.17723754,
          43.17215378,
          43.18225566,
          43.1638801,
          43.13366117,
          43.18498353,
          43.1647623,
          43.14388914,
          43.1647623,
          43.17929827,
          43.1779881,
          43.1689921,
          43.1754619,
          43.16144529,
          43.15485143,
          43.17394962,
          43.16317425,
          43.1691104,
          43.18061301,
          43.14045408,
          43.13679955,
          43.18048763,
          43.16157605,
          43.17554481,
          43.16758135,
          43.13916823,
          43.13810685,
          43.19300732,
          43.17542032,
          43.17826121,
          43.16757434,
          43.18666649,
          43.18102382,
          43.15959762,
          43.16723928,
          43.14351145,
          43.16444175,
          43.17333536,
          43.16914866,
          43.13518261,
          43.16445006,
          43.12942746,
          43.16256481,
          43.15018419,
          43.15285244,
          43.16970042,
          43.16371349,
          43.18071181,
          43.172128,
          43.17089357,
          43.16795904,
          43.17796796,
          43.14345877,
          43.16876591,
          43.16795904,
          43.14128341,
          43.16171515,
          43.17796796,
          43.17735632,
          43.17483377,
          43.17397309,
          43.15787557,
          43.1551206,
          43.15279479,
          43.17747658,
          43.17284775,
          43.14943381,
          43.17345735,
          43.16927048,
          43.13485248,
          43.16436023,
          43.14917775,
          43.15989504,
          43.16071036,
          43.17668192,
          43.17355124,
          43.19518114,
          43.18701548,
          43.17776702,
          43.17710937,
          43.18617045,
          43.17035776,
          43.16679854,
          43.14005025,
          43.12937738,
          43.15915595,
          43.1692137,
          43.13436285,
          43.14856385,
          43.17675005,
          43.17675005,
          43.18173432,
          43.14813385,
          43.17487615,
          43.16604983,
          43.14584413,
          43.16447074,
          43.16972661,
          43.16420414,
          43.14699138,
          43.14246069,
          43.17393214,
          43.1407976,
          43.17453647,
          43.16655486,
          43.14404388,
          43.13871188,
          43.17859123,
          43.13431417,
          43.17345805,
          43.17345805,
          43.17952152,
          43.1348548,
          43.16408003,
          43.14658165,
          43.15718296,
          43.15655485,
          43.14453439,
          43.14453439,
          43.14364548,
          43.17759504,
          43.16656637,
          43.16694905,
          43.13579447,
          43.16875912,
          43.14791571,
          43.16397209,
          43.14293848,
          43.18724819,
          43.19400784,
          43.18052494,
          43.16313823,
          43.17926464,
          43.16605565,
          43.16862608,
          43.16184336,
          43.16862608,
          43.16547262,
          43.17412961,
          43.17549669,
          43.16947108,
          43.18678131,
          43.17823181,
          43.15842244,
          43.17298246,
          43.18052623,
          43.1647142,
          43.14242874,
          43.15467011,
          43.1460128,
          43.14898125,
          43.17834712,
          43.17650298,
          43.14898125,
          43.14068569,
          43.17369243,
          43.17842026,
          43.1551206,
          43.14898125,
          43.13564465,
          43.17369243,
          43.17453657,
          43.17558274,
          43.17715261,
          43.17369243,
          43.1354242,
          43.16892828,
          43.15153501,
          43.16108303,
          43.17712908,
          43.17956515,
          43.16104923,
          43.16437706,
          43.14205614,
          43.18201793,
          43.18201793,
          43.18342851,
          43.17059414,
          43.17503894,
          43.17503894,
          43.16690383,
          43.14601432,
          43.18148124,
          43.18052653,
          43.18363502,
          43.17549587,
          43.16788785,
          43.16899924,
          43.16642197,
          43.17534701,
          43.13676904,
          43.13676904,
          43.17223613,
          43.18182312,
          43.13159226,
          43.15201798,
          43.18148579,
          43.18237548,
          43.18467284,
          43.1857213,
          43.18252532,
          43.17269339,
          43.16669527,
          43.16669527,
          43.17400937,
          43.17400937,
          43.17400937,
          43.16390807,
          43.16379485,
          43.19321831,
          43.17987771,
          43.18204237,
          43.18068832,
          43.14563236,
          43.12938372,
          43.16691661,
          43.1749877,
          43.1749877,
          43.17090352,
          43.17385287,
          43.17871374,
          43.18387921,
          43.13327588,
          43.17345313,
          43.17345313,
          43.15727568,
          43.16098232,
          43.18015693,
          43.17383766,
          43.16988016,
          43.16805173,
          43.16805173,
          43.17569844,
          43.14233269,
          43.18498674,
          43.14404388,
          43.1837515,
          43.24532802,
          43.17725607,
          43.14261516,
          43.14261516,
          43.17874688,
          43.17084858,
          43.17215157,
          43.17757346,
          43.1418997,
          43.17620336,
          43.1736726,
          43.17326987,
          43.16784179,
          43.16862608,
          43.16831174,
          43.16784179,
          43.14463549,
          43.16844611,
          43.17510102,
          43.14829855,
          43.15201149,
          43.17113062,
          43.15768648,
          43.18292768,
          43.17585398,
          43.15958699,
          43.19180842,
          43.15958699,
          43.16481132,
          43.17957613,
          43.16881388,
          43.16477475,
          43.14166786,
          43.14040488,
          43.14040488,
          43.16761242,
          43.15504638,
          43.15504638,
          43.16730046,
          43.18094153,
          43.18094153,
          43.16451979,
          43.18729928,
          43.16024853,
          43.17929827,
          43.14312876,
          43.13582308,
          43.14365514,
          43.15156,
          43.18516334,
          43.18187753,
          43.1817363,
          43.17144967,
          43.1599461,
          43.1353581,
          43.1353581,
          43.14764482,
          43.18147499,
          43.18147499,
          43.18676081,
          43.14171572,
          43.14171572,
          43.17588083,
          43.17521969,
          43.17571576,
          43.17461766,
          43.18035367,
          43.18810091,
          43.1734461,
          43.1374097,
          43.17953694,
          43.13771129,
          43.13771129,
          43.14111078,
          43.16711114,
          43.16721571,
          43.17586254,
          43.13332428,
          43.15285541,
          43.169322,
          43.18158026,
          43.18158026,
          43.18158026,
          43.13682943,
          43.16924356,
          43.15259466,
          43.13807917,
          43.16043287,
          43.1752871,
          43.17830846,
          43.14867529,
          43.17455622,
          43.18227208,
          43.17848663,
          43.17848663,
          43.14939871,
          43.14365514,
          43.18227208,
          43.17588488,
          43.17316762,
          43.17620858,
          43.13558446,
          43.1621961,
          43.15157176,
          43.16601274,
          43.17180419,
          43.1718697,
          43.1621961,
          43.15157176,
          43.17059414,
          43.1708778,
          43.17498159,
          43.17328125,
          43.19113958,
          43.17592899,
          43.16219432,
          43.17562896,
          43.16724852,
          43.13159226,
          43.17471255,
          43.13497362,
          43.15927536,
          43.15016761,
          43.18604243,
          43.1915462,
          43.158852,
          43.17894984,
          43.14662454,
          43.14662454,
          43.18161991,
          43.16790879,
          43.17230366,
          43.16909889,
          43.16602594,
          43.17291283,
          43.16425555,
          43.13949065,
          43.16486222,
          43.15489499,
          43.13484357,
          43.13484357,
          43.145707,
          43.16894008,
          43.17453647,
          43.13582308,
          43.13582308,
          43.16171687,
          43.16435492,
          43.14559675,
          43.16266706,
          43.17873658,
          43.18178107,
          43.17205891,
          43.16659456,
          43.17370632,
          43.1832969,
          43.17619911,
          43.17196901,
          43.18465275,
          43.18465275,
          43.18179997,
          43.14797269,
          43.18559455,
          43.16715452,
          43.17495256,
          43.16445328,
          43.13900668,
          43.16540832,
          43.17764292,
          43.18332941,
          43.17543067,
          43.16349353,
          43.16349353,
          43.13521876,
          43.17745126,
          43.17285387,
          43.1915462,
          43.14613664,
          43.14643872,
          43.17134379,
          43.15182244,
          43.17481135,
          43.16302118,
          43.16355348,
          43.17422477,
          43.18040011,
          43.17961742,
          43.18040011,
          43.17319602,
          43.17471255,
          43.15325365,
          43.13772586,
          43.18225675,
          43.15856529,
          43.1754094,
          43.17371796,
          43.17521211,
          43.17341314,
          43.16648541,
          43.168344,
          43.17727025,
          43.18137393,
          43.17852973,
          43.17605321,
          43.17800527,
          43.16969979,
          43.18209721,
          43.18200042,
          43.18052653,
          43.17707121,
          43.16043287,
          43.16043287,
          43.16801219,
          43.11622773,
          43.16169154,
          43.16452249,
          43.14598881,
          43.17322212,
          43.17571249,
          43.17826121,
          43.18281182,
          43.17070755,
          43.13780812,
          43.17572051,
          43.18204111,
          43.18178143,
          43.17543067,
          43.13331118,
          43.13331118,
          43.13103218,
          43.18404004,
          43.152773,
          43.15725824,
          43.17871602,
          43.18176236,
          43.17826541,
          43.17641886,
          43.1659159,
          43.18164337,
          43.17503449,
          43.16617324,
          43.17931787,
          43.17725337,
          43.17725337,
          43.16937916,
          43.17843062,
          43.1666816,
          43.17408014,
          43.1875338,
          43.17258994,
          43.14326205,
          43.17578077,
          43.14196619,
          43.16977194,
          43.17437763,
          43.18087933,
          43.17567123,
          43.19179369,
          43.18220135,
          43.19354167,
          43.15958092,
          43.15973953,
          43.17877321,
          43.16586464,
          43.16586464,
          43.15232414,
          43.17912819,
          43.17051765,
          43.17602148,
          43.18191929,
          43.18547486,
          43.15208657,
          43.1675328,
          43.14048058,
          43.17365449,
          43.15208657,
          43.17619911,
          43.1504242,
          43.16548294,
          43.14490248,
          43.1504242,
          43.17599876,
          43.14236988,
          43.20041814,
          43.1805788,
          43.17788378,
          43.13672888,
          43.1591708,
          43.1820853,
          43.16784193,
          43.1791248,
          43.1785561,
          43.16390448,
          43.17921565,
          43.17640006,
          43.16226503,
          43.16631534,
          43.18066583,
          43.1826171,
          43.17048515,
          43.17048515,
          43.1515773,
          43.17731007,
          43.17731007,
          43.1427223,
          43.17038659,
          43.17038659,
          43.14369182,
          43.14369182,
          43.14369182,
          43.1641252,
          43.13341943,
          43.13341943,
          43.16411546,
          43.14637412,
          43.17814445,
          43.17579138,
          43.15256963,
          43.17109992,
          43.15159909,
          43.13359703,
          43.17842307,
          43.14544412,
          43.17555687,
          43.15797602,
          43.13949577,
          43.15042579,
          43.1757967,
          43.18308766,
          43.15161334,
          43.1786121,
          43.15611403,
          43.17913888,
          43.13819242,
          43.17383374,
          43.17383374,
          43.17383374,
          43.1755791,
          43.18569387,
          43.17918218,
          43.16292003,
          43.16292003,
          43.16292003,
          43.17533161,
          43.14083004,
          43.16838211,
          43.16838211,
          43.17342109,
          43.17342109,
          43.15945652,
          43.14777248,
          43.17225518,
          43.17225518,
          43.18077849,
          43.18077849,
          43.17911492,
          43.16142234,
          43.16917473,
          43.17312704,
          43.16933478,
          43.15041758,
          43.13740972,
          43.18420029,
          43.18126464,
          43.13584491,
          43.15068223,
          43.13584491,
          43.14990574,
          43.14550779,
          43.18082759,
          43.16670624,
          43.15807196,
          43.17881192,
          43.17881192,
          43.15890041,
          43.14397258,
          43.17262798,
          43.16390448,
          43.17105228,
          43.17103575,
          43.1724909,
          43.14720688,
          43.17432912,
          43.13569198,
          43.17942455,
          43.17294553,
          43.18273947,
          43.16506683,
          43.17620858,
          43.17620858,
          43.1801701,
          43.13327588,
          43.18353502,
          43.14804036,
          43.18201793,
          43.17579703,
          43.1445866,
          43.16612051,
          43.17590259,
          43.1437189,
          43.13501382,
          43.18181907,
          43.14148845,
          43.14148845,
          43.16861306,
          43.15727121,
          43.15973032,
          43.17194805,
          43.17160553,
          43.17859123,
          43.11558664,
          43.14365514,
          43.18298044,
          43.18298044,
          43.17682274,
          43.1520924,
          43.17296273,
          43.18141455,
          43.15135976,
          43.17761685,
          43.17643592,
          43.15915595,
          43.17594442,
          43.13254655,
          43.1832754,
          43.18405785,
          43.17171657,
          43.13604476,
          43.16070328,
          43.18077251,
          43.16207279,
          43.13593713,
          43.13865102,
          43.15054549,
          43.16229388,
          43.18195032,
          43.14390576,
          43.15153501,
          43.17113277,
          43.13574232,
          43.18604402,
          43.14641094,
          43.19154794,
          43.19101572,
          43.13687739,
          43.16855999,
          43.14663041,
          43.13733792,
          43.17798831,
          43.16929444,
          43.16596891,
          43.17341712,
          43.13485712,
          43.15822842,
          43.18195335,
          43.1577551,
          43.13867136,
          43.16755813,
          43.18687945,
          43.13744062,
          43.15628095,
          43.16965789,
          43.17431756,
          43.18499935,
          43.1825934,
          43.16517331,
          43.15537511,
          43.13775959,
          43.17579703,
          43.17715922,
          43.13638113,
          43.17122542,
          43.16198097,
          43.178134,
          43.18413813,
          43.17371064,
          43.17480915,
          43.13976381,
          43.149997,
          43.17608071,
          43.18791644,
          43.17884312,
          43.14647416,
          43.16513514,
          43.17826207,
          43.16298453,
          43.18584518,
          43.14652136,
          43.15875939,
          43.18034451,
          43.17616642,
          43.15954203,
          43.14601432,
          43.17087975,
          43.16425504,
          43.15953969,
          43.17654542,
          43.17059414,
          43.17059414,
          43.17059414,
          43.17757302,
          43.15902152,
          43.17189881,
          43.15918956,
          43.17521755,
          43.15114801,
          43.18634556,
          43.1761674,
          43.14479349,
          43.14543918,
          43.18100138,
          43.13779251,
          43.18204237,
          43.16481257,
          43.17644793,
          43.16364234,
          43.1676683,
          43.16177494,
          43.17205446,
          43.17516652,
          43.14280738,
          43.17536307,
          43.16333514,
          43.17526246,
          43.1585021,
          43.13442783,
          43.13442783,
          43.18099991,
          43.18099991,
          43.1758483,
          43.17291359,
          43.16695658,
          43.16434115,
          43.17971305,
          43.17559644,
          43.16543027,
          43.17246902,
          43.17246902,
          43.17013926,
          43.18413303,
          43.17842026,
          43.18014407,
          43.16954308,
          43.17704732,
          43.16924356,
          43.17810383,
          43.17810383,
          43.18362906,
          43.18362906,
          43.18362906,
          43.17219457,
          43.17723056,
          43.1815188,
          43.15956087,
          43.16222295,
          43.16334129,
          43.17559644,
          43.17446756,
          43.17300028,
          43.19753618,
          43.14322643,
          43.1757512,
          43.14643872,
          43.14764482,
          43.17010812,
          43.17408014,
          43.16014378,
          43.18209721,
          43.14323189,
          43.16023733,
          43.18335741,
          43.17838449,
          43.16880974,
          43.1818149,
          43.14986738,
          43.17838449,
          43.14265058,
          43.17377623,
          43.18379419,
          43.14556646,
          43.1795475,
          43.1480059,
          43.14566826,
          43.15937023,
          43.17968131,
          43.14524886,
          43.16730046,
          43.1757512,
          43.18169483,
          43.17571249,
          43.18071181,
          43.14463549,
          43.17493008,
          43.17493008,
          43.14390576,
          43.14365514,
          43.14365514,
          43.14365514,
          43.13775801,
          43.17744558,
          43.16214186,
          43.17093093,
          43.16651132,
          43.15375744,
          43.1638506,
          43.16917592,
          43.17609397,
          43.1748157,
          43.16384365,
          43.16384365,
          43.1670157,
          43.17462749,
          43.13346207,
          43.18295696,
          43.18622724,
          43.16448094,
          43.13760784,
          43.18353502,
          43.16448094,
          43.16438212,
          43.14215456,
          43.16780348,
          43.1745887,
          43.17381023,
          43.16780348,
          43.18429639,
          43.15802851,
          43.16887496,
          43.13582308,
          43.17370632,
          43.17377017,
          43.16016091,
          43.14528963,
          43.1466809,
          43.14797269,
          43.13442783,
          43.1811735,
          43.1811735,
          43.14777712,
          43.17403735,
          43.18069769,
          43.18069769,
          43.18069769,
          43.17486763,
          43.17766613,
          43.14320118,
          43.1797771,
          43.14705703,
          43.17164593,
          43.18342632,
          43.17326987,
          43.17937721,
          43.17937721,
          43.17937721,
          43.16497409,
          43.13973775,
          43.13609611,
          43.17613137,
          43.18118544,
          43.17541549,
          43.16041316,
          43.17628149,
          43.1803179,
          43.1803179,
          43.14099437,
          43.18153422,
          43.17376569,
          43.18022557,
          43.17191191,
          43.15818303,
          43.13975373,
          43.17205891,
          43.17113515,
          43.16715972,
          43.14239749,
          43.19670585,
          43.17055916,
          43.18266479,
          43.14087283,
          43.1377518,
          43.16183007,
          43.17311474,
          43.16492381,
          43.15004988,
          43.17621585,
          43.14474876,
          43.17435813,
          43.18100138,
          43.16782789,
          43.17526668,
          43.15702405,
          43.15702405,
          43.1817303,
          43.16071862,
          43.1721181,
          43.18061301,
          43.16564597,
          43.16009322,
          43.14465089,
          43.17654542,
          43.14373096,
          43.15268011,
          43.17735622,
          43.17805685,
          43.17534134,
          43.17641633,
          43.14465089,
          43.1609831,
          43.1725239,
          43.16636233,
          43.15153501,
          43.15077009,
          43.13903914,
          43.14195075,
          43.17936476,
          43.18242597,
          43.18702922,
          43.1579585,
          43.18014565,
          43.14461955,
          43.16090323,
          43.18059268,
          43.18059268,
          43.17386687,
          43.17791028,
          43.14085035,
          43.13955833,
          43.17383766,
          43.17349413,
          43.14272224,
          43.18179326,
          43.1609831,
          43.14619968,
          43.18255472,
          43.16877298,
          43.1793033,
          43.13955833,
          43.17516679,
          43.16549405,
          43.15669591,
          43.17437378,
          43.14343238,
          43.18290123,
          43.17375914,
          43.17375914,
          43.17606053,
          43.13709864,
          43.16545205,
          43.1585021,
          43.14651628,
          43.16904292,
          43.17971305,
          43.1737088,
          43.1803811,
          43.1825503,
          43.1825503,
          43.17723462,
          43.14656693,
          43.15888498,
          43.15888498,
          43.16888736,
          43.14410978,
          43.18430138,
          43.17312591,
          43.18332501,
          43.18785853,
          43.1659159,
          43.17831077,
          43.13975233,
          43.17365105,
          43.17401801,
          43.16886164,
          43.14185705,
          43.15930866,
          43.14289332,
          43.1764295,
          43.17822326,
          43.17468361,
          43.13746022,
          43.13775622,
          43.14390576,
          43.14390576,
          43.17355552,
          43.1761195,
          43.16827618,
          43.1452673,
          43.1793143,
          43.16043287,
          43.15206157,
          43.1404773,
          43.16689077,
          43.166982,
          43.17241939,
          43.13311845,
          43.18092103,
          43.16499139,
          43.13514025,
          43.1818879,
          43.1818879,
          43.14391703,
          43.18235181,
          43.17648935,
          43.15092517,
          43.17644935,
          43.15249814,
          43.15077009,
          43.18177447,
          43.17120996,
          43.15115163,
          43.16373623,
          43.17722194,
          43.16596056,
          43.16289272,
          43.14593011,
          43.16311033,
          43.17688968,
          43.17380438,
          43.17242453,
          43.18603892,
          43.18858106,
          43.17215805,
          43.14456263,
          43.14538729,
          43.17928034,
          43.16013427,
          43.18087933,
          43.16866161,
          43.1795326,
          43.16575849,
          43.14549911,
          43.15196114,
          43.13402138,
          43.16656637,
          43.17457661,
          43.14538729,
          43.18313964,
          43.13033092,
          43.18393406,
          43.1754307,
          43.14236672,
          43.1759085,
          43.18243918,
          43.16561691,
          43.16298316,
          43.14330941,
          43.18765422,
          43.16996735,
          43.14900293,
          43.16539002,
          43.17893383,
          43.1918774,
          43.17411095,
          43.1757512,
          43.15323728,
          43.14365435,
          43.17411144,
          43.18421359,
          43.13103937,
          43.18081018,
          43.14460032,
          43.17373161,
          43.16996282,
          43.16974841,
          43.16996735,
          43.14925158,
          43.17659836,
          43.14643872,
          43.18404627,
          43.15829165,
          43.15173986,
          43.14463549,
          43.1815188,
          43.18550849,
          43.18125172,
          43.17103149,
          43.15142908,
          43.17298246,
          43.19145273,
          43.17536159,
          43.15944942,
          43.18026443,
          43.17093865,
          43.17093865,
          43.14692346,
          43.17730874,
          43.16577188,
          43.18343997,
          43.15544089,
          43.13779491,
          43.18071181,
          43.17331575,
          43.14109635,
          43.14109635,
          43.1725239,
          43.15531001,
          43.14543918,
          43.15816271,
          43.17315551,
          43.17780056,
          43.16611085,
          43.14668531,
          43.16243781,
          43.15153501,
          43.14582809,
          43.16271355,
          43.13517286,
          43.1741879,
          43.13248359,
          43.15475641,
          43.17827753,
          43.1741879,
          43.17414213,
          43.16476472,
          43.15924869,
          43.16805859,
          43.18141684,
          43.14363154,
          43.15996852,
          43.16831174,
          43.17085578,
          43.16831174,
          43.17898814,
          43.17538105,
          43.13486872,
          43.14821255,
          43.13900668,
          43.17730139,
          43.15898828,
          43.15852829,
          43.17852319,
          43.1526981,
          43.17536159,
          43.13616819,
          43.17620953,
          43.17002873,
          43.15928132,
          43.17643144,
          43.1355524,
          43.14215785,
          43.15258265,
          43.14985375,
          43.17323473,
          43.17904614,
          43.15404239,
          43.14288686,
          43.16995381,
          43.16124342,
          43.16097172,
          43.17827765,
          43.14437647,
          43.14437647,
          43.17218444,
          43.17675005,
          43.1803508,
          43.19020999,
          43.15268011,
          43.16612128,
          43.14457997,
          43.17620953,
          43.14449548,
          43.15556071,
          43.15215042,
          43.17730874,
          43.15998482,
          43.17644793,
          43.1757753,
          43.16854453,
          43.18171564,
          43.18171564,
          43.18470854,
          43.14873783,
          43.18214316,
          43.15935044,
          43.17556231,
          43.14306876,
          43.18044027,
          43.17616261,
          43.17821952,
          43.17086984,
          43.14262833,
          43.16633909,
          43.17644793,
          43.13486131,
          43.18065385,
          43.17727446,
          43.16776052,
          43.15430069,
          43.16926201,
          43.15886273,
          43.16333514,
          43.16333514,
          43.15712412,
          43.14974459,
          43.17710976,
          43.14840019,
          43.14296541,
          43.18087933,
          43.14926512,
          43.18389652,
          43.16147784,
          43.15611495,
          43.15879739,
          43.17531808,
          43.17446764,
          43.15848311,
          43.15848311,
          43.15848311,
          43.15848311,
          43.14409065,
          43.15512754,
          43.16398216,
          43.15472445,
          43.14360014,
          43.16965789
         ],
         "legendgroup": "Shooting",
         "lon": [
          -77.61088985,
          -77.6303776,
          -77.5806279,
          -77.64197227,
          -77.62870378,
          -77.56282563,
          -77.56468747,
          -77.6503256,
          -77.5718866,
          -77.61295886,
          -77.63527439,
          -77.573786,
          -77.61456707,
          -77.63035142,
          -77.62483201,
          -77.5839085,
          -77.59731041,
          -77.62267792,
          -77.63311154,
          -77.64319234,
          -77.62126264,
          -77.637393,
          -77.63674091,
          -77.58225061,
          -77.60390502,
          -77.58483019,
          -77.58483019,
          -77.63045052,
          -77.63472609,
          -77.59559558,
          -77.6321989,
          -77.65437725,
          -77.6393238,
          -77.56866868,
          -77.60755079,
          -77.63775661,
          -77.59957657,
          -77.60436298,
          -77.57695712,
          -77.63152004,
          -77.6055469,
          -77.60713741,
          -77.63159645,
          -77.58072841,
          -77.59440059,
          -77.59440059,
          -77.62476874,
          -77.62138515,
          -77.61183111,
          -77.63018914,
          -77.62711511,
          -77.62905386,
          -77.56722612,
          -77.61578995,
          -77.61578995,
          -77.62924572,
          -77.63121245,
          -77.57498418,
          -77.57096812,
          -77.6128988,
          -77.57957943,
          -77.6074545,
          -77.62538552,
          -77.62538552,
          -77.6360566,
          -77.63853129,
          -77.63780085,
          -77.59731041,
          -77.56418022,
          -77.62435793,
          -77.65070369,
          -77.60738513,
          -77.63640405,
          -77.63282365,
          -77.62989965,
          -77.62163933,
          -77.62163933,
          -77.63165143,
          -77.57026846,
          -77.58483403,
          -77.55254829,
          -77.63390522,
          -77.61310545,
          -77.5800121,
          -77.5800121,
          -77.62884683,
          -77.61387505,
          -77.63395553,
          -77.63869424,
          -77.63465208,
          -77.59299057,
          -77.62194398,
          -77.63855091,
          -77.61213668,
          -77.61213668,
          -77.63808962,
          -77.63808962,
          -77.55295789,
          -77.59668348,
          -77.59540863,
          -77.59995944,
          -77.59965829,
          -77.59953197,
          -77.60750041,
          -77.62806921,
          -77.62341089,
          -77.64531356,
          -77.63177193,
          -77.5879962,
          -77.59137525,
          -77.56570253,
          -77.64322937,
          -77.62962725,
          -77.60165687,
          -77.64089938,
          -77.61380308,
          -77.61948554,
          -77.63846915,
          -77.61774303,
          -77.63269454,
          -77.63091146,
          -77.63899374,
          -77.63899374,
          -77.64661986,
          -77.59156005,
          -77.6035935,
          -77.63516337,
          -77.61980023,
          -77.59039809,
          -77.60032182,
          -77.61349983,
          -77.5767452,
          -77.63173711,
          -77.63173711,
          -77.57517971,
          -77.57517971,
          -77.59005401,
          -77.62986257,
          -77.59614646,
          -77.63345258,
          -77.61330236,
          -77.63671479,
          -77.5814168,
          -77.59543939,
          -77.61143597,
          -77.58835688,
          -77.63347085,
          -77.64322937,
          -77.61054171,
          -77.63945116,
          -77.63624684,
          -77.63624684,
          -77.63709497,
          -77.63709497,
          -77.59786891,
          -77.59786891,
          -77.59736376,
          -77.61339518,
          -77.61339518,
          -77.57220817,
          -77.65157572,
          -77.65157572,
          -77.6275171,
          -77.64491732,
          -77.60007235,
          -77.60007235,
          -77.63993514,
          -77.64543368,
          -77.56994471,
          -77.56913185,
          -77.60875286,
          -77.60875286,
          -77.61880993,
          -77.58265303,
          -77.60374082,
          -77.62195952,
          -77.58542168,
          -77.62290672,
          -77.63400043,
          -77.59877885,
          -77.65184076,
          -77.65184076,
          -77.65184076,
          -77.60831826,
          -77.61550307,
          -77.61550307,
          -77.59496273,
          -77.59623829,
          -77.64562001,
          -77.60927908,
          -77.60947553,
          -77.60947553,
          -77.60927908,
          -77.60927908,
          -77.61300087,
          -77.62972617,
          -77.57422495,
          -77.58997787,
          -77.58032476,
          -77.57203326,
          -77.57059031,
          -77.62788189,
          -77.62788189,
          -77.61444248,
          -77.62355831,
          -77.64282405,
          -77.63261276,
          -77.61349983,
          -77.61349983,
          -77.61349983,
          -77.6164783,
          -77.64531356,
          -77.5806279,
          -77.5806279,
          -77.57595333,
          -77.58997546,
          -77.58997546,
          -77.58997546,
          -77.64325353,
          -77.6358268,
          -77.59923139,
          -77.59684449,
          -77.58002755,
          -77.62355831,
          -77.5684987,
          -77.61411203,
          -77.59988162,
          -77.64431312,
          -77.63499753,
          -77.59299057,
          -77.63570293,
          -77.59547619,
          -77.59547619,
          -77.63090805,
          -77.62881896,
          -77.58423328,
          -77.58423328,
          -77.63038552,
          -77.60828082,
          -77.60750841,
          -77.62788189,
          -77.64019032,
          -77.63475869,
          -77.58860842,
          -77.62991395,
          -77.63567666,
          -77.56636674,
          -77.59406406,
          -77.59406406,
          -77.61134055,
          -77.63584744,
          -77.6020129,
          -77.64384068,
          -77.63542289,
          -77.61503969,
          -77.63120453,
          -77.60165687,
          -77.62435793,
          -77.58387113,
          -77.60958743,
          -77.58480149,
          -77.58480149,
          -77.57059553,
          -77.57059553,
          -77.62221956,
          -77.64043243,
          -77.64969238,
          -77.6321989,
          -77.61856372,
          -77.63910938,
          -77.6322358,
          -77.65119013,
          -77.5810748,
          -77.63574849,
          -77.64677205,
          -77.65312109,
          -77.63909519,
          -77.59243324,
          -77.63308333,
          -77.61926215,
          -77.57011134,
          -77.57024448,
          -77.61212553,
          -77.64494293,
          -77.64494293,
          -77.64494293,
          -77.6111856,
          -77.59972625,
          -77.59972625,
          -77.60116494,
          -77.60116494,
          -77.63627107,
          -77.59895156,
          -77.63452378,
          -77.5790271,
          -77.62881896,
          -77.61968754,
          -77.58835688,
          -77.58835688,
          -77.63115526,
          -77.63158146,
          -77.60764409,
          -77.61220407,
          -77.635864,
          -77.635864,
          -77.63655393,
          -77.63655393,
          -77.63655393,
          -77.63368418,
          -77.63201643,
          -77.6558341,
          -77.63397585,
          -77.60606339,
          -77.56781572,
          -77.60743936,
          -77.59425956,
          -77.63988493,
          -77.63988493,
          -77.58347484,
          -77.63797341,
          -77.60374359,
          -77.6321989,
          -77.61232773,
          -77.63709497,
          -77.59961901,
          -77.63720046,
          -77.64134617,
          -77.61331313,
          -77.60142366,
          -77.60142366,
          -77.60343951,
          -77.62404565,
          -77.59269867,
          -77.63465159,
          -77.64171868,
          -77.63213826,
          -77.61276421,
          -77.62788189,
          -77.62624278,
          -77.65439643,
          -77.57572092,
          -77.57542553,
          -77.63713281,
          -77.6200639,
          -77.63472609,
          -77.6320022,
          -77.60899884,
          -77.61310545,
          -77.61796637,
          -77.6004679,
          -77.59367806,
          -77.59367806,
          -77.62830566,
          -77.64842316,
          -77.58957659,
          -77.57233491,
          -77.60889454,
          -77.62911978,
          -77.63846678,
          -77.64159001,
          -77.60928241,
          -77.6593118,
          -77.6321527,
          -77.6420558,
          -77.62735723,
          -77.61387505,
          -77.61387505,
          -77.62687918,
          -77.63162018,
          -77.63162018,
          -77.63162018,
          -77.63949889,
          -77.61650099,
          -77.62325107,
          -77.65145257,
          -77.59420801,
          -77.65364718,
          -77.63201202,
          -77.62682131,
          -77.6516932,
          -77.60983214,
          -77.6370688,
          -77.61658246,
          -77.65051029,
          -77.61216226,
          -77.59288037,
          -77.5768691,
          -77.63512649,
          -77.58560848,
          -77.59406406,
          -77.59406406,
          -77.59406406,
          -77.6371756,
          -77.62663749,
          -77.62703228,
          -77.60276771,
          -77.61288203,
          -77.64535522,
          -77.58356528,
          -77.6294087,
          -77.57332085,
          -77.59199177,
          -77.60077859,
          -77.60077859,
          -77.6288595,
          -77.64485368,
          -77.63805831,
          -77.55154667,
          -77.60165687,
          -77.60165687,
          -77.57083397,
          -77.65874309,
          -77.61777532,
          -77.63655393,
          -77.60632445,
          -77.59018203,
          -77.63791267,
          -77.6425644,
          -77.6370688,
          -77.60146174,
          -77.65145257,
          -77.56647893,
          -77.63435327,
          -77.63435327,
          -77.63435327,
          -77.63435327,
          -77.59528712,
          -77.63198576,
          -77.64336706,
          -77.61614041,
          -77.63336936,
          -77.5844503,
          -77.58157879,
          -77.60597887,
          -77.58157879,
          -77.62552128,
          -77.603529,
          -77.603529,
          -77.63801066,
          -77.58038653,
          -77.58429981,
          -77.62913894,
          -77.62127358,
          -77.62127358,
          -77.61036775,
          -77.64781607,
          -77.64642082,
          -77.63640053,
          -77.63378159,
          -77.64443323,
          -77.63638191,
          -77.64285524,
          -77.64285524,
          -77.61310545,
          -77.64325626,
          -77.63855091,
          -77.59472181,
          -77.60863601,
          -77.63125602,
          -77.60470162,
          -77.65829028,
          -77.59107022,
          -77.6297021,
          -77.63628254,
          -77.63203966,
          -77.63203966,
          -77.63087137,
          -77.62904091,
          -77.62911556,
          -77.61295909,
          -77.59924466,
          -77.61350068,
          -77.59249007,
          -77.62911822,
          -77.6485609,
          -77.63910407,
          -77.65186915,
          -77.63545885,
          -77.62930758,
          -77.61128344,
          -77.63266364,
          -77.61634623,
          -77.58281763,
          -77.58281763,
          -77.58281763,
          -77.58281763,
          -77.58281763,
          -77.58281763,
          -77.58281763,
          -77.58281763,
          -77.58281763,
          -77.58281763,
          -77.58281763,
          -77.58281763,
          -77.58281763,
          -77.58281763,
          -77.62278768,
          -77.65126217,
          -77.6385974,
          -77.58032476,
          -77.61349983,
          -77.59488661,
          -77.61544678,
          -77.63013479,
          -77.63566266,
          -77.6085558,
          -77.64622903,
          -77.63752356,
          -77.61574553,
          -77.61574553,
          -77.61574553,
          -77.61574553,
          -77.62064145,
          -77.59902474,
          -77.58269561,
          -77.6134368,
          -77.6134368,
          -77.62877148,
          -77.57076067,
          -77.58157879,
          -77.62667194,
          -77.60048338,
          -77.58904664,
          -77.63241302,
          -77.59789733,
          -77.59877885,
          -77.63861779,
          -77.63130083,
          -77.65078042,
          -77.65078042,
          -77.5990805,
          -77.58684997,
          -77.58684997,
          -77.64776398,
          -77.62435793,
          -77.63735227,
          -77.59980155,
          -77.63438305,
          -77.62378752,
          -77.62667194,
          -77.6289169,
          -77.63863438,
          -77.57662337,
          -77.62900952,
          -77.60111644,
          -77.62145241,
          -77.62981676,
          -77.63717045,
          -77.63717045,
          -77.63717045,
          -77.63378159,
          -77.63257615,
          -77.63257615,
          -77.62169023,
          -77.62735723,
          -77.65114262,
          -77.64568006,
          -77.64568006,
          -77.57247715,
          -77.57247715,
          -77.6441552,
          -77.60777494,
          -77.64103332,
          -77.62819859,
          -77.62065436,
          -77.63934548,
          -77.57951791,
          -77.63213826,
          -77.63213826,
          -77.60190909,
          -77.64708079,
          -77.5806279,
          -77.61079521,
          -77.6189522,
          -77.60858907,
          -77.63868969,
          -77.62708052,
          -77.62708052,
          -77.61277643,
          -77.57315836,
          -77.57315836,
          -77.60093169,
          -77.60093169,
          -77.64426841,
          -77.63060774,
          -77.63060774,
          -77.59430138,
          -77.58406446,
          -77.62986468,
          -77.62206991,
          -77.62206991,
          -77.55955148,
          -77.61880993,
          -77.63404389,
          -77.61277643,
          -77.64899286,
          -77.62332031,
          -77.63196373,
          -77.61189021,
          -77.63436506,
          -77.63075869,
          -77.62951607,
          -77.58560848,
          -77.65675771,
          -77.6431471,
          -77.65120231,
          -77.65120231,
          -77.65120231,
          -77.65120231,
          -77.65120231,
          -77.63567942,
          -77.62667653,
          -77.65200334,
          -77.6427821,
          -77.62538736,
          -77.64090988,
          -77.60799046,
          -77.6431471,
          -77.61120003,
          -77.61335654,
          -77.58972524,
          -77.58972524,
          -77.6143448,
          -77.64677184,
          -77.64842443,
          -77.64842443,
          -77.60930016,
          -77.5767149,
          -77.6318338,
          -77.5957709,
          -77.59558842,
          -77.60174148,
          -77.59942248,
          -77.63480384,
          -77.60165687,
          -77.63381348,
          -77.63906822,
          -77.62932455,
          -77.63098838,
          -77.63583245,
          -77.61650282,
          -77.60083568,
          -77.6124735,
          -77.63231108,
          -77.59224788,
          -77.59366222,
          -77.58560848,
          -77.61947365,
          -77.59469155,
          -77.60214759,
          -77.60214759,
          -77.60969636,
          -77.60969636,
          -77.60969636,
          -77.60969636,
          -77.60969636,
          -77.60969636,
          -77.65060828,
          -77.65060828,
          -77.64767466,
          -77.64767466,
          -77.64767466,
          -77.6136058,
          -77.64308825,
          -77.58242801,
          -77.62980978,
          -77.59192229,
          -77.63260437,
          -77.61984798,
          -77.59469224,
          -77.62884073,
          -77.62884073,
          -77.60703081,
          -77.63336971,
          -77.63023216,
          -77.61316527,
          -77.60636775,
          -77.5985935,
          -77.59383512,
          -77.64556121,
          -77.62874538,
          -77.64091534,
          -77.62951767,
          -77.62006925,
          -77.63486222,
          -77.61316527,
          -77.64212662,
          -77.63838878,
          -77.65532542,
          -77.596587,
          -77.60958743,
          -77.62009554,
          -77.61277643,
          -77.6514429,
          -77.59968083,
          -77.57588252,
          -77.61087409,
          -77.56916157,
          -77.62497821,
          -77.5647939,
          -77.65754898,
          -77.61277643,
          -77.65754898,
          -77.63768479,
          -77.62821359,
          -77.63753947,
          -77.6370688,
          -77.6370688,
          -77.63254157,
          -77.57645162,
          -77.61350068,
          -77.61350068,
          -77.58367545,
          -77.60580514,
          -77.63136873,
          -77.63136873,
          -77.63136873,
          -77.56933316,
          -77.6464473,
          -77.64042588,
          -77.62805919,
          -77.62805919,
          -77.636945,
          -77.64087236,
          -77.58091698,
          -77.62913652,
          -77.64713763,
          -77.58931044,
          -77.63317998,
          -77.57662337,
          -77.60422927,
          -77.63517698,
          -77.6164783,
          -77.63141161,
          -77.63847036,
          -77.62071324,
          -77.59895156,
          -77.61954041,
          -77.58891253,
          -77.59905516,
          -77.62877138,
          -77.58906937,
          -77.60100276,
          -77.59188387,
          -77.59202666,
          -77.62332031,
          -77.63135565,
          -77.64716271,
          -77.57369859,
          -77.63710949,
          -77.62945724,
          -77.58560848,
          -77.65801342,
          -77.60796057,
          -77.64365573,
          -77.64365573,
          -77.64365573,
          -77.6117618,
          -77.61229669,
          -77.61260913,
          -77.62355831,
          -77.63031012,
          -77.58860842,
          -77.61824838,
          -77.61777532,
          -77.58028673,
          -77.58028673,
          -77.59739491,
          -77.64780985,
          -77.59506135,
          -77.63495515,
          -77.63495515,
          -77.65073935,
          -77.60186649,
          -77.59607105,
          -77.5943086,
          -77.58955681,
          -77.62115214,
          -77.65071289,
          -77.65071289,
          -77.63484304,
          -77.57868758,
          -77.62957508,
          -77.62842529,
          -77.59790508,
          -77.6376721,
          -77.63195342,
          -77.64691924,
          -77.62148547,
          -77.59299057,
          -77.56738071,
          -77.61654914,
          -77.62427841,
          -77.64238865,
          -77.62017097,
          -77.62667194,
          -77.62855288,
          -77.58347325,
          -77.58007328,
          -77.63411453,
          -77.60429118,
          -77.63371123,
          -77.64535522,
          -77.59337075,
          -77.63867969,
          -77.59895156,
          -77.64520643,
          -77.58091698,
          -77.58091698,
          -77.58091698,
          -77.61619119,
          -77.62435793,
          -77.64899286,
          -77.64168577,
          -77.61980286,
          -77.59572384,
          -77.63779818,
          -77.60694744,
          -77.63988911,
          -77.63988911,
          -77.63988911,
          -77.63486222,
          -77.63486222,
          -77.63858664,
          -77.60778385,
          -77.60806285,
          -77.59717565,
          -77.59717565,
          -77.60452932,
          -77.59568929,
          -77.59568929,
          -77.62947391,
          -77.63107761,
          -77.63658078,
          -77.5942342,
          -77.63465208,
          -77.58077432,
          -77.58077432,
          -77.63710614,
          -77.59425956,
          -77.63088463,
          -77.61239804,
          -77.62824459,
          -77.63478266,
          -77.64707635,
          -77.6217696,
          -77.60465062,
          -77.63710614,
          -77.65157572,
          -77.56936614,
          -77.63585479,
          -77.63635999,
          -77.57818087,
          -77.64420051,
          -77.61281574,
          -77.63570765,
          -77.62201226,
          -77.59540863,
          -77.62911978,
          -77.65130402,
          -77.62788338,
          -77.62855855,
          -77.62855855,
          -77.58956625,
          -77.59121736,
          -77.62706318,
          -77.64128837,
          -77.63563699,
          -77.57466627,
          -77.64893883,
          -77.65362173,
          -77.58546721,
          -77.57510972,
          -77.629118,
          -77.59695741,
          -77.64731263,
          -77.65250193,
          -77.60928241,
          -77.60928241,
          -77.63775661,
          -77.62881896,
          -77.57105524,
          -77.59898168,
          -77.59391957,
          -77.60863601,
          -77.63666787,
          -77.59367401,
          -77.64008852,
          -77.58835688,
          -77.63934258,
          -77.61259904,
          -77.58690594,
          -77.63265713,
          -77.58113354,
          -77.59723567,
          -77.66291163,
          -77.58418271,
          -77.61358995,
          -77.61354996,
          -77.62930758,
          -77.62881845,
          -77.62677686,
          -77.5735155,
          -77.62870807,
          -77.62870807,
          -77.61635784,
          -77.57085937,
          -77.63404027,
          -77.63404027,
          -77.62760791,
          -77.60226745,
          -77.63201202,
          -77.63201202,
          -77.5798757,
          -77.592192,
          -77.64375025,
          -77.61851119,
          -77.61195999,
          -77.61195999,
          -77.63413908,
          -77.58902182,
          -77.63383831,
          -77.65157572,
          -77.6274661,
          -77.60393164,
          -77.59866295,
          -77.59866295,
          -77.57445919,
          -77.60736029,
          -77.61697631,
          -77.61304833,
          -77.61304833,
          -77.62618868,
          -77.60082171,
          -77.64156089,
          -77.63972407,
          -77.64314679,
          -77.5810748,
          -77.62062058,
          -77.64708079,
          -77.61533868,
          -77.64706579,
          -77.64706579,
          -77.61286463,
          -77.62914911,
          -77.63874547,
          -77.61277643,
          -77.6071973,
          -77.61302939,
          -77.59238824,
          -77.62224684,
          -77.62224684,
          -77.62804979,
          -77.58028189,
          -77.64153863,
          -77.57069954,
          -77.58028189,
          -77.62042766,
          -77.58715262,
          -77.61775418,
          -77.62918213,
          -77.62938213,
          -77.62131799,
          -77.62368376,
          -77.63378267,
          -77.58504324,
          -77.61277643,
          -77.6503291,
          -77.60244219,
          -77.63854336,
          -77.59733496,
          -77.629118,
          -77.59733496,
          -77.629118,
          -77.59733496,
          -77.59919911,
          -77.64090524,
          -77.64296632,
          -77.60191351,
          -77.60032182,
          -77.56968564,
          -77.59898483,
          -77.60414008,
          -77.63140609,
          -77.63488457,
          -77.62784779,
          -77.59140758,
          -77.57910224,
          -77.63417838,
          -77.61331313,
          -77.6464004,
          -77.61030156,
          -77.60341645,
          -77.6477653,
          -77.60979121,
          -77.5849822,
          -77.59569003,
          -77.62975038,
          -77.59687572,
          -77.61168584,
          -77.61903275,
          -77.63963969,
          -77.5997218,
          -77.61492352,
          -77.60922798,
          -77.592192,
          -77.60837164,
          -77.60837164,
          -77.63452378,
          -77.5765033,
          -77.5727261,
          -77.61781667,
          -77.64454447,
          -77.58560848,
          -77.6333699,
          -77.63853913,
          -77.57271339,
          -77.63863438,
          -77.63729846,
          -77.60752167,
          -77.63631846,
          -77.64565863,
          -77.65361626,
          -77.6385549,
          -77.59787188,
          -77.62978971,
          -77.58332688,
          -77.59536476,
          -77.63207875,
          -77.64845325,
          -77.64665522,
          -77.62435793,
          -77.56998631,
          -77.60746879,
          -77.62470405,
          -77.58560848,
          -77.63860653,
          -77.64186264,
          -77.61349983,
          -77.58648777,
          -77.57202379,
          -77.56961474,
          -77.62884306,
          -77.59061732,
          -77.64778918,
          -77.58024734,
          -77.5899825,
          -77.60145596,
          -77.59572384,
          -77.6490612,
          -77.62881502,
          -77.59929117,
          -77.59708824,
          -77.58673497,
          -77.58673497,
          -77.63421664,
          -77.60165687,
          -77.63918423,
          -77.59202666,
          -77.59202666,
          -77.61943692,
          -77.61943692,
          -77.63627359,
          -77.56833188,
          -77.63695082,
          -77.58931066,
          -77.64647519,
          -77.63724536,
          -77.59191335,
          -77.58663002,
          -77.63000163,
          -77.61341652,
          -77.61341652,
          -77.57975495,
          -77.59790634,
          -77.63347586,
          -77.57199641,
          -77.60301269,
          -77.59047424,
          -77.60796985,
          -77.60773529,
          -77.60732499,
          -77.63591386,
          -77.61296018,
          -77.65073044,
          -77.62930758,
          -77.63970575,
          -77.65171313,
          -77.61550307,
          -77.61295909,
          -77.61295909,
          -77.56771792,
          -77.63095351,
          -77.6335423,
          -77.5845653,
          -77.62393517,
          -77.63866922,
          -77.62813154,
          -77.61466017,
          -77.6097352,
          -77.60512197,
          -77.64470232,
          -77.63278448,
          -77.62000321,
          -77.58022308,
          -77.59765862,
          -77.60517987,
          -77.61206195,
          -77.62326852,
          -77.64246936,
          -77.60764409,
          -77.60764409,
          -77.63769307,
          -77.61258738,
          -77.59300952,
          -77.61947365,
          -77.61947365,
          -77.63685359,
          -77.60084357,
          -77.64780985,
          -77.58450165,
          -77.60277594,
          -77.63075979,
          -77.63075979,
          -77.61239804,
          -77.61291384,
          -77.65130402,
          -77.6274989,
          -77.6155013,
          -77.61190767,
          -77.61096038,
          -77.60915611,
          -77.65121961,
          -77.64233091,
          -77.64047896,
          -77.60660822,
          -77.57328661,
          -77.62735723,
          -77.58160026,
          -77.58160026,
          -77.58160026,
          -77.6112225,
          -77.60585721,
          -77.60585721,
          -77.58447817,
          -77.59397303,
          -77.63109576,
          -77.60199495,
          -77.650594,
          -77.61267921,
          -77.58481164,
          -77.58481164,
          -77.65074632,
          -77.61545607,
          -77.6294087,
          -77.63730565,
          -77.5997218,
          -77.57784865,
          -77.58178456,
          -77.56843077,
          -77.62881845,
          -77.60165687,
          -77.63398528,
          -77.63858621,
          -77.629118,
          -77.629118,
          -77.6168746,
          -77.6168746,
          -77.6168746,
          -77.60867442,
          -77.6385549,
          -77.62115546,
          -77.62115546,
          -77.62115546,
          -77.60191717,
          -77.56891495,
          -77.57055524,
          -77.59417354,
          -77.6136058,
          -77.63421664,
          -77.6485609,
          -77.58114345,
          -77.64366434,
          -77.62725329,
          -77.65132319,
          -77.62772382,
          -77.63901906,
          -77.57675921,
          -77.58709379,
          -77.62956708,
          -77.64426349,
          -77.61574918,
          -77.61574918,
          -77.58055103,
          -77.6451432,
          -77.59581927,
          -77.58446693,
          -77.58446693,
          -77.58446693,
          -77.63651253,
          -77.63651253,
          -77.63651253,
          -77.63651253,
          -77.62937991,
          -77.64524708,
          -77.62797106,
          -77.58300568,
          -77.6451427,
          -77.59103509,
          -77.62004002,
          -77.59061732,
          -77.56994471,
          -77.57552315,
          -77.62893344,
          -77.62766918,
          -77.5780197,
          -77.59748175,
          -77.64678648,
          -77.6385549,
          -77.5957011,
          -77.6264503,
          -77.62950593,
          -77.62928264,
          -77.58457003,
          -77.64706579,
          -77.61271036,
          -77.57766219,
          -77.61231702,
          -77.59138391,
          -77.58745077,
          -77.59979222,
          -77.63949272,
          -77.62749118,
          -77.62933565,
          -77.63511732,
          -77.58376756,
          -77.63536494,
          -77.60575321,
          -77.61773987,
          -77.6178453,
          -77.62925728,
          -77.57370803,
          -77.62596726,
          -77.62290672,
          -77.60307081,
          -77.58397622,
          -77.62875957,
          -77.62875957,
          -77.63342802,
          -77.65169867,
          -77.62258017,
          -77.65073044,
          -77.61163974,
          -77.64322812,
          -77.63806295,
          -77.60005817,
          -77.61348752,
          -77.64360884,
          -77.60589626,
          -77.58771194,
          -77.58505272,
          -77.58006645,
          -77.65060828,
          -77.62193759,
          -77.61533868,
          -77.61533868,
          -77.57811406,
          -77.63537682,
          -77.59953281,
          -77.61485887,
          -77.62925728,
          -77.58992586,
          -77.58699126,
          -77.63853959,
          -77.62260344,
          -77.59895156,
          -77.57957943,
          -77.62907684,
          -77.63642804,
          -77.63542815,
          -77.60454856,
          -77.62843384,
          -77.63857868,
          -77.63282365,
          -77.6677916,
          -77.63091146,
          -77.57194856,
          -77.61253254,
          -77.59674703,
          -77.61277643,
          -77.61419609,
          -77.62653978,
          -77.60349558,
          -77.6285278,
          -77.63931237,
          -77.65145001,
          -77.63843633,
          -77.63573967,
          -77.63874401,
          -77.62194398,
          -77.62194398,
          -77.62194398,
          -77.63718554,
          -77.58715262,
          -77.62577078,
          -77.63910938,
          -77.57026846,
          -77.60863601,
          -77.59300296,
          -77.61234883,
          -77.63652726,
          -77.5806279,
          -77.65977106,
          -77.65977106,
          -77.58510095,
          -77.58287165,
          -77.62275468,
          -77.62062463,
          -77.62062463,
          -77.60383907,
          -77.59566457,
          -77.5810551,
          -77.59300296,
          -77.59441108,
          -77.57151104,
          -77.63521489,
          -77.59170123,
          -77.64011351,
          -77.60732499,
          -77.59299057,
          -77.58366679,
          -77.62183086,
          -77.62912269,
          -77.62183086,
          -77.62183086,
          -77.58560848,
          -77.60032996,
          -77.60032996,
          -77.58431148,
          -77.62912269,
          -77.62975038,
          -77.64669771,
          -77.64669771,
          -77.63353811,
          -77.5840894,
          -77.6123318,
          -77.58386431,
          -77.60732499,
          -77.65532542,
          -77.62012578,
          -77.58688962,
          -77.65614891,
          -77.65070369,
          -77.65069141,
          -77.6423173,
          -77.60057154,
          -77.59444062,
          -77.59850308,
          -77.60532127,
          -77.57131182,
          -77.6038025,
          -77.60399365,
          -77.60399365,
          -77.62291568,
          -77.62291568,
          -77.62291568,
          -77.62291568,
          -77.62291568,
          -77.62291568,
          -77.62291568,
          -77.56994471,
          -77.63802861,
          -77.58639903,
          -77.63676115,
          -77.6445529,
          -77.62152582,
          -77.63357636,
          -77.65382796,
          -77.63722519,
          -77.62532196,
          -77.62532196,
          -77.6134368,
          -77.61806406,
          -77.59350192,
          -77.60446071,
          -77.63811321,
          -77.6044534,
          -77.61373508,
          -77.63477161,
          -77.61313556,
          -77.6033515,
          -77.64310428,
          -77.57435971,
          -77.63490283,
          -77.63728968,
          -77.6074827,
          -77.62633204,
          -77.59417354,
          -77.58027352,
          -77.58691402,
          -77.5913205,
          -77.58752397,
          -77.59794844,
          -77.63478266,
          -77.63478266,
          -77.63465208,
          -77.62435793,
          -77.61216226,
          -77.57824186,
          -77.59961516,
          -77.59961516,
          -77.63978949,
          -77.61503969,
          -77.59372902,
          -77.6435439,
          -77.61310545,
          -77.65116581,
          -77.65116581,
          -77.63155324,
          -77.62435793,
          -77.62388417,
          -77.65174983,
          -77.58429106,
          -77.65300349,
          -77.59293985,
          -77.59293985,
          -77.59293985,
          -77.59293985,
          -77.63828583,
          -77.64731263,
          -77.58439654,
          -77.61111993,
          -77.61382536,
          -77.61382536,
          -77.66248077,
          -77.59099803,
          -77.66248077,
          -77.6168746,
          -77.65082687,
          -77.64571038,
          -77.65082687,
          -77.62194398,
          -77.59961516,
          -77.59558842,
          -77.59558842,
          -77.62881502,
          -77.63959914,
          -77.63215091,
          -77.65872647,
          -77.59952652,
          -77.58603491,
          -77.62843861,
          -77.58596679,
          -77.58596679,
          -77.60468106,
          -77.65073044,
          -77.63819268,
          -77.60946775,
          -77.60534648,
          -77.62373256,
          -77.63225652,
          -77.63185318,
          -77.63479566,
          -77.62201911,
          -77.59590707,
          -77.61533868,
          -77.63627107,
          -77.64999077,
          -77.58873801,
          -77.63378159,
          -77.57057772,
          -77.57057772,
          -77.63805831,
          -77.62384144,
          -77.63887002,
          -77.61277643,
          -77.58552703,
          -77.59773625,
          -77.63601753,
          -77.62656448,
          -77.59551019,
          -77.61354615,
          -77.61354615,
          -77.59917818,
          -77.5836322,
          -77.57957319,
          -77.62881896,
          -77.61628129,
          -77.61354615,
          -77.60571926,
          -77.5641921,
          -77.6381015,
          -77.59205097,
          -77.6403112,
          -77.63965654,
          -77.59952997,
          -77.63531764,
          -77.62864807,
          -77.58282503,
          -77.59442539,
          -77.59442539,
          -77.59254686,
          -77.61810305,
          -77.63081526,
          -77.64631687,
          -77.63011289,
          -77.65261158,
          -77.5652908,
          -77.5652908,
          -77.5652908,
          -77.636307,
          -77.58149768,
          -77.63292061,
          -77.60077702,
          -77.6164783,
          -77.63155108,
          -77.60927891,
          -77.60927891,
          -77.60927891,
          -77.60927891,
          -77.62048792,
          -77.63148201,
          -77.58161723,
          -77.58233156,
          -77.62138515,
          -77.64235203,
          -77.62668165,
          -77.62145241,
          -77.63675317,
          -77.63906837,
          -77.6020129,
          -77.59793372,
          -77.62836929,
          -77.64117847,
          -77.61341652,
          -77.64117847,
          -77.64476329,
          -77.6403112,
          -77.62749118,
          -77.63846915,
          -77.63645323,
          -77.63722335,
          -77.60086752,
          -77.63831463,
          -77.63490283,
          -77.61002455,
          -77.56079875,
          -77.58667741,
          -77.6444784,
          -77.59940805,
          -77.59940805,
          -77.57581299,
          -77.63843415,
          -77.62628211,
          -77.63431792,
          -77.64562935,
          -77.57516057,
          -77.61277643,
          -77.64222887,
          -77.61344067,
          -77.61344067,
          -77.61891085,
          -77.61804355,
          -77.61141278,
          -77.62883638,
          -77.61259805,
          -77.6392375,
          -77.6014265,
          -77.58764519,
          -77.57572092,
          -77.59058048,
          -77.64210853,
          -77.63209988,
          -77.59239512,
          -77.59239512,
          -77.63631201,
          -77.63082219,
          -77.63082219,
          -77.62913894,
          -77.63749087,
          -77.57705172,
          -77.62354885,
          -77.64486003,
          -77.58563437,
          -77.61618298,
          -77.63781694,
          -77.63956447,
          -77.63924243,
          -77.636945,
          -77.58448542,
          -77.59047424,
          -77.6296899,
          -77.60867442,
          -77.61826216,
          -77.62113634,
          -77.59940805,
          -77.59940805,
          -77.59940805,
          -77.59940805,
          -77.60752066,
          -77.58969946,
          -77.63206594,
          -77.63831973,
          -77.64517605,
          -77.59061732,
          -77.58686865,
          -77.6444784,
          -77.6444784,
          -77.58938356,
          -77.63921394,
          -77.64431312,
          -77.61119988,
          -77.58265195,
          -77.63224447,
          -77.6350332,
          -77.6350332,
          -77.6350332,
          -77.6350332,
          -77.5987224,
          -77.63636993,
          -77.63956447,
          -77.58752397,
          -77.65077571,
          -77.59700909,
          -77.65070532,
          -77.65070532,
          -77.65070532,
          -77.63471336,
          -77.63471336,
          -77.58337062,
          -77.59061732,
          -77.63376814,
          -77.59889263,
          -77.59889263,
          -77.61544418,
          -77.64103298,
          -77.61844483,
          -77.58546721,
          -77.58546721,
          -77.58588724,
          -77.62710203,
          -77.56719154,
          -77.62959631,
          -77.63259706,
          -77.57396024,
          -77.58498966,
          -77.60621821,
          -77.60621821,
          -77.65313655,
          -77.58047965,
          -77.6112225,
          -77.63655393,
          -77.64731263,
          -77.64731263,
          -77.61149609,
          -77.59362324,
          -77.60605632,
          -77.5977495,
          -77.58795895,
          -77.56562919,
          -77.64068019,
          -77.59300296,
          -77.59431756,
          -77.60441412,
          -77.63567666,
          -77.63567666,
          -77.56944439,
          -77.5849822,
          -77.57320178,
          -77.61348232,
          -77.60233014,
          -77.60661394,
          -77.57547445,
          -77.62022208,
          -77.58993882,
          -77.60165687,
          -77.60051719,
          -77.60216511,
          -77.63858422,
          -77.63423575,
          -77.59340199,
          -77.5811504,
          -77.5811504,
          -77.61088985,
          -77.5822633,
          -77.64484828,
          -77.60477254,
          -77.58471897,
          -77.60470162,
          -77.59542742,
          -77.63321321,
          -77.57426539,
          -77.62200055,
          -77.59396952,
          -77.61492352,
          -77.61492352,
          -77.61492352,
          -77.61600205,
          -77.65193065,
          -77.63785765,
          -77.63337048,
          -77.61236458,
          -77.64115243,
          -77.63988129,
          -77.62883638,
          -77.63041049,
          -77.63041049,
          -77.64327675,
          -77.63098844,
          -77.65188608,
          -77.56936857,
          -77.63495515,
          -77.61414988,
          -77.58693899,
          -77.650594,
          -77.62843384,
          -77.58482217,
          -77.6378074,
          -77.60692748,
          -77.61258775,
          -77.57149625,
          -77.63497031,
          -77.58483403,
          -77.62290672,
          -77.62290672,
          -77.62290672,
          -77.60039,
          -77.60039,
          -77.60904459,
          -77.57986712,
          -77.59133735,
          -77.63993551,
          -77.62140453,
          -77.63414912,
          -77.57957943,
          -77.57957943,
          -77.59402156,
          -77.56630395,
          -77.57968001,
          -77.59760572,
          -77.58715262,
          -77.59406661,
          -77.57594316,
          -77.61751507,
          -77.56636674,
          -77.63962503,
          -77.63962503,
          -77.62717714,
          -77.60796776,
          -77.6055513,
          -77.58389107,
          -77.59429459,
          -77.59128868,
          -77.6404743,
          -77.61611159,
          -77.57838529,
          -77.63506038,
          -77.56156962,
          -77.56962749,
          -77.59801114,
          -77.62340686,
          -77.63126785,
          -77.64563866,
          -77.59914492,
          -77.59749988,
          -77.62893828,
          -77.61387188,
          -77.62335914,
          -77.62928004,
          -77.61074601,
          -77.58734954,
          -77.59952337,
          -77.62129642,
          -77.62722638,
          -77.61886027,
          -77.63807738,
          -77.63816575,
          -77.62964355,
          -77.64209763,
          -77.62982853,
          -77.62982853,
          -77.64086074,
          -77.64086074,
          -77.6373975,
          -77.6541359,
          -77.6348946,
          -77.64211489,
          -77.62337304,
          -77.6005894,
          -77.6005894,
          -77.60341645,
          -77.63863301,
          -77.63859279,
          -77.59891666,
          -77.62845598,
          -77.62845598,
          -77.59771903,
          -77.60778033,
          -77.63204292,
          -77.62860706,
          -77.59970991,
          -77.61990068,
          -77.58732074,
          -77.58835688,
          -77.64364355,
          -77.6431617,
          -77.61354996,
          -77.61304833,
          -77.58141799,
          -77.58185329,
          -77.59866295,
          -77.60585474,
          -77.63349138,
          -77.63803647,
          -77.63928648,
          -77.64110786,
          -77.59177069,
          -77.60688821,
          -77.6330409,
          -77.6087339,
          -77.64197534,
          -77.63633445,
          -77.6117549,
          -77.63906765,
          -77.60990247,
          -77.6525339,
          -77.62298866,
          -77.64328234,
          -77.64328234,
          -77.56764279,
          -77.64364182,
          -77.59852005,
          -77.57605694,
          -77.64089958,
          -77.57605694,
          -77.57605694,
          -77.57819403,
          -77.5966755,
          -77.6294046,
          -77.6441595,
          -77.59856658,
          -77.60200692,
          -77.61667995,
          -77.63792915,
          -77.5794991,
          -77.63792915,
          -77.5794991,
          -77.63792915,
          -77.5794991,
          -77.58191746,
          -77.5996844,
          -77.59445505,
          -77.60705228,
          -77.59445505,
          -77.57326498,
          -77.63887356,
          -77.64397408,
          -77.5897239,
          -77.59800299,
          -77.59760328,
          -77.58835688,
          -77.56775502,
          -77.62738211,
          -77.63650446,
          -77.636945,
          -77.62862579,
          -77.6275171,
          -77.63022333,
          -77.64314859,
          -77.63129294,
          -77.63908466,
          -77.63111644,
          -77.61240834,
          -77.64705149,
          -77.64705149,
          -77.64705149,
          -77.61231702,
          -77.55748401,
          -77.63265533,
          -77.62532979,
          -77.64213716,
          -77.63733587,
          -77.63733587,
          -77.61349844,
          -77.59285648,
          -77.59971664,
          -77.61331534,
          -77.58855327,
          -77.62829091,
          -77.58203326,
          -77.62814481,
          -77.62814481,
          -77.62814481,
          -77.63669003,
          -77.63709957,
          -77.64160181,
          -77.62928264,
          -77.59417354,
          -77.63090708,
          -77.63660068,
          -77.60782308,
          -77.6343106,
          -77.59840145,
          -77.62683057,
          -77.62683057,
          -77.63574701,
          -77.61239804,
          -77.60947197,
          -77.61353961,
          -77.62348004,
          -77.65181788,
          -77.61980023,
          -77.65314333,
          -77.65314333,
          -77.56976818,
          -77.62012728,
          -77.64568545,
          -77.61981522,
          -77.59961781,
          -77.58054217,
          -77.59842479,
          -77.58124509,
          -77.65188608,
          -77.62886649,
          -77.62441794,
          -77.6012944,
          -77.6390789,
          -77.57960966,
          -77.62427176,
          -77.63655393,
          -77.5912952,
          -77.56670327,
          -77.62538048,
          -77.62155383,
          -77.62884104,
          -77.5912846,
          -77.58330444,
          -77.56674557,
          -77.64581689,
          -77.65082687,
          -77.62629781,
          -77.58447963,
          -77.63730729,
          -77.62308119,
          -77.63630554,
          -77.57816948,
          -77.63906911,
          -77.6444784,
          -77.60093169,
          -77.58681852,
          -77.56442237,
          -77.56442237,
          -77.63902896,
          -77.63783803,
          -77.63630554,
          -77.59567099,
          -77.62196154,
          -77.62972617,
          -77.59051495,
          -77.64620656,
          -77.57392307,
          -77.61430569,
          -77.61068882,
          -77.60006284,
          -77.63803647,
          -77.62931188,
          -77.61587902,
          -77.61387505,
          -77.64150561,
          -77.62901447,
          -77.57531633,
          -77.63076249,
          -77.5699204,
          -77.57191601,
          -77.61267921,
          -77.64245342,
          -77.59223044,
          -77.59223044,
          -77.59219953,
          -77.56970276,
          -77.6432246,
          -77.6432246,
          -77.6432246,
          -77.6432246,
          -77.65082687,
          -77.61316443,
          -77.61316443,
          -77.62663647,
          -77.62663647,
          -77.63529597,
          -77.6330572,
          -77.64380181,
          -77.58653324,
          -77.58693221,
          -77.62698459,
          -77.63433301,
          -77.56764279,
          -77.6306554,
          -77.6306554,
          -77.6306554,
          -77.59946933,
          -77.61184913,
          -77.6112002,
          -77.63849161,
          -77.592192,
          -77.592192,
          -77.61264748,
          -77.59103304,
          -77.5918802,
          -77.59965829,
          -77.59112144,
          -77.60197146,
          -77.59472687,
          -77.64670402,
          -77.63956807,
          -77.61914185,
          -77.59184564,
          -77.6444784,
          -77.63374293,
          -77.62151071,
          -77.6385059,
          -77.6385059,
          -77.63529365,
          -77.62279246,
          -77.62974027,
          -77.65118043,
          -77.58002903,
          -77.6025397,
          -77.57602708,
          -77.61002981,
          -77.60822893,
          -77.62391831,
          -77.5813127,
          -77.58878397,
          -77.63799357,
          -77.62287529,
          -77.6074518,
          -77.57467837,
          -77.63681871,
          -77.62354714,
          -77.64515855,
          -77.61649465,
          -77.62347058,
          -77.62760942,
          -77.58547674,
          -77.57553267,
          -77.63573988,
          -77.63573988,
          -77.57823221,
          -77.63534451,
          -77.63897524,
          -77.62363376,
          -77.65032044,
          -77.59626963,
          -77.60752066,
          -77.58835688,
          -77.58724814,
          -77.63431457,
          -77.62445714,
          -77.63798899,
          -77.62839345,
          -77.59869537,
          -77.63910938,
          -77.63910938,
          -77.63910938,
          -77.59747114,
          -77.60781822,
          -77.62622154,
          -77.60326086,
          -77.5706579,
          -77.61339359,
          -77.61339359,
          -77.57574341,
          -77.61441361,
          -77.58498966,
          -77.61899991,
          -77.63201239,
          -77.60030454,
          -77.5718866,
          -77.64057485,
          -77.64057485,
          -77.63255678,
          -77.60082468,
          -77.63650655,
          -77.56936719,
          -77.59482605,
          -77.62930758,
          -77.60243845,
          -77.63592147,
          -77.64201257,
          -77.60992433,
          -77.58560848,
          -77.59107872,
          -77.59897608,
          -77.61877483,
          -77.62877021,
          -77.62877021,
          -77.57806534,
          -77.6050525,
          -77.62630756,
          -77.63963333,
          -77.64358236,
          -77.60263966,
          -77.60263966,
          -77.63203722,
          -77.59291657,
          -77.57771165,
          -77.63516578,
          -77.57273632,
          -77.57273632,
          -77.57273632,
          -77.63188392,
          -77.59965829,
          -77.62687918,
          -77.62687918,
          -77.57565523,
          -77.59909703,
          -77.60536081,
          -77.60106636,
          -77.62012728,
          -77.63760567,
          -77.65074632,
          -77.60094041,
          -77.59895156,
          -77.58195916,
          -77.60252745,
          -77.5813127,
          -77.54513468,
          -77.64926593,
          -77.58471602,
          -77.60252745,
          -77.6489241,
          -77.60306757,
          -77.63135329,
          -77.64180399,
          -77.64090988,
          -77.61702487,
          -77.61442581,
          -77.60977652,
          -77.6270237,
          -77.64814995,
          -77.62196154,
          -77.62935472,
          -77.6406833,
          -77.63581498,
          -77.59646834,
          -77.62916561,
          -77.59646834,
          -77.6282894,
          -77.63667002,
          -77.65381409,
          -77.63581498,
          -77.63238542,
          -77.58794153,
          -77.60124765,
          -77.63969081,
          -77.59714827,
          -77.57684659,
          -77.64248434,
          -77.65114998,
          -77.62996736,
          -77.60818266,
          -77.62006315,
          -77.62006315,
          -77.62839345,
          -77.61277643,
          -77.64824111,
          -77.58560848,
          -77.5892928,
          -77.63109555,
          -77.64094267,
          -77.6307266,
          -77.59784503,
          -77.62255466,
          -77.57957943,
          -77.60094041,
          -77.63730085,
          -77.59923139,
          -77.63744337,
          -77.63744337,
          -77.59670912,
          -77.59670912,
          -77.58622289,
          -77.62135016,
          -77.62980978,
          -77.62534137,
          -77.63370916,
          -77.64721277,
          -77.591101,
          -77.591101,
          -77.59331211,
          -77.61431306,
          -77.6393238,
          -77.60966202,
          -77.59196293,
          -77.5915367,
          -77.63268112,
          -77.63750991,
          -77.56327858,
          -77.58788997,
          -77.61176224,
          -77.61997966,
          -77.62438654,
          -77.6465174,
          -77.61384965,
          -77.56766646,
          -77.64673083,
          -77.64931349,
          -77.61098039,
          -77.65063768,
          -77.63616289,
          -77.63707094,
          -77.61791844,
          -77.60818266,
          -77.64128837,
          -77.63000366,
          -77.63831973,
          -77.62619895,
          -77.61702487,
          -77.63901906,
          -77.60215642,
          -77.60793749,
          -77.63624684,
          -77.65174983,
          -77.61061296,
          -77.63624684,
          -77.65174983,
          -77.64830449,
          -77.60907487,
          -77.59496551,
          -77.56714782,
          -77.61277643,
          -77.59735573,
          -77.63520944,
          -77.62854958,
          -77.62341089,
          -77.61166799,
          -77.62263224,
          -77.62371387,
          -77.65114412,
          -77.60786277,
          -77.63679831,
          -77.62371387,
          -77.5997218,
          -77.60039329,
          -77.65061713,
          -77.5879962,
          -77.62371387,
          -77.5997218,
          -77.57666658,
          -77.65061713,
          -77.59953738,
          -77.61795593,
          -77.5997218,
          -77.59804043,
          -77.57501236,
          -77.597598,
          -77.56991593,
          -77.65114262,
          -77.59804043,
          -77.60612081,
          -77.62788189,
          -77.6362088,
          -77.61295708,
          -77.59295008,
          -77.59988721,
          -77.59771429,
          -77.64630432,
          -77.64047395,
          -77.61110789,
          -77.61110789,
          -77.58512221,
          -77.64197534,
          -77.60527007,
          -77.60527007,
          -77.63801289,
          -77.64896495,
          -77.58700079,
          -77.65296162,
          -77.61980023,
          -77.59919258,
          -77.58587767,
          -77.60454856,
          -77.59259183,
          -77.60848532,
          -77.62972038,
          -77.60845974,
          -77.61366577,
          -77.59152108,
          -77.61879188,
          -77.63576511,
          -77.63539578,
          -77.6416271,
          -77.60844406,
          -77.63099784,
          -77.58297833,
          -77.64415298,
          -77.64415298,
          -77.64620864,
          -77.59467051,
          -77.64229733,
          -77.58258566,
          -77.62154732,
          -77.62154732,
          -77.55607935,
          -77.55607935,
          -77.60140855,
          -77.59387052,
          -77.59387052,
          -77.64214921,
          -77.62100685,
          -77.56327858,
          -77.59877762,
          -77.61349983,
          -77.59310266,
          -77.58593105,
          -77.58593105,
          -77.63959914,
          -77.60773616,
          -77.59674703,
          -77.60377325,
          -77.64174612,
          -77.59164942,
          -77.59164942,
          -77.64523261,
          -77.63858954,
          -77.64693725,
          -77.63948368,
          -77.58045329,
          -77.62495982,
          -77.58687339,
          -77.62340968,
          -77.63660813,
          -77.63270932,
          -77.60612081,
          -77.62946891,
          -77.56288077,
          -77.63270932,
          -77.62881845,
          -77.5977495,
          -77.56334245,
          -77.62982472,
          -77.64571041,
          -77.63501405,
          -77.63378159,
          -77.62655834,
          -77.63733372,
          -77.61457385,
          -77.63971549,
          -77.65072874,
          -77.63733372,
          -77.59457792,
          -77.63301617,
          -77.63574958,
          -77.61341652,
          -77.57446515,
          -77.65200186,
          -77.58254838,
          -77.65899157,
          -77.58221904,
          -77.61994936,
          -77.60844406,
          -77.60844406,
          -77.57287547,
          -77.57170277,
          -77.64328234,
          -77.6369133,
          -77.63863057,
          -77.62345852,
          -77.65130402,
          -77.65130402,
          -77.61544418,
          -77.59129488,
          -77.63729308,
          -77.63852544,
          -77.64051217,
          -77.63852544,
          -77.61764382,
          -77.61384946,
          -77.60980658,
          -77.58705614,
          -77.58004562,
          -77.61113381,
          -77.58363084,
          -77.63238531,
          -77.59232282,
          -77.63963333,
          -77.580177,
          -77.59909703,
          -77.58144438,
          -77.57089498,
          -77.56938928,
          -77.58113741,
          -77.58820342,
          -77.59291777,
          -77.60007679,
          -77.63841069,
          -77.64481425,
          -77.58363502,
          -77.64832392,
          -77.62887045,
          -77.577918,
          -77.650594,
          -77.5734613,
          -77.5734613,
          -77.59143052,
          -77.62552128,
          -77.62552128,
          -77.62552128,
          -77.56747308,
          -77.63038552,
          -77.62332031,
          -77.57298251,
          -77.65987751,
          -77.6306886,
          -77.63733372,
          -77.64670585,
          -77.63927918,
          -77.58367545,
          -77.59889893,
          -77.62189931,
          -77.58367545,
          -77.56994471,
          -77.59871895,
          -77.58367545,
          -77.6393238,
          -77.59871895,
          -77.60301752,
          -77.63867459,
          -77.60886336,
          -77.58206995,
          -77.62025901,
          -77.62861044,
          -77.65061713,
          -77.64843859,
          -77.63518532,
          -77.65232928,
          -77.6183073,
          -77.64902916,
          -77.62942284,
          -77.63650446,
          -77.61176224,
          -77.63045607,
          -77.64531172,
          -77.6507214,
          -77.6507214,
          -77.62875939,
          -77.57492629,
          -77.62687918,
          -77.62687918,
          -77.62687918,
          -77.62887045,
          -77.62887045,
          -77.62911857,
          -77.61903275,
          -77.59802418,
          -77.57504298,
          -77.63323416,
          -77.62560924,
          -77.61304833,
          -77.64475333,
          -77.63574261,
          -77.63007352,
          -77.63945007,
          -77.63945007,
          -77.65073044,
          -77.63858552,
          -77.62290672,
          -77.60890039,
          -77.60890039,
          -77.65552437,
          -77.62829091,
          -77.62873833,
          -77.59887635,
          -77.58001549,
          -77.64200303,
          -77.65073044,
          -77.62018145,
          -77.62687918,
          -77.65073044,
          -77.61024031,
          -77.58853495,
          -77.58853495,
          -77.58486093,
          -77.57792655,
          -77.64442884,
          -77.64105075,
          -77.60392683,
          -77.59671101,
          -77.6123318,
          -77.61391026,
          -77.60722589,
          -77.64101514,
          -77.60024837,
          -77.64273014,
          -77.60024837,
          -77.58448792,
          -77.64295912,
          -77.60671359,
          -77.61071378,
          -77.61682746,
          -77.58424935,
          -77.61390273,
          -77.63132609,
          -77.62535017,
          -77.57161672,
          -77.63972407,
          -77.58377142,
          -77.58377142,
          -77.58377142,
          -77.63946376,
          -77.6112294,
          -77.63633445,
          -77.61114956,
          -77.61712891,
          -77.58000254,
          -77.59497576,
          -77.57628277,
          -77.59553323,
          -77.6370688,
          -77.6370688,
          -77.5871717,
          -77.61047316,
          -77.57946065,
          -77.5912508,
          -77.60960656,
          -77.59469348,
          -77.62951607,
          -77.62912693,
          -77.5918802,
          -77.5878856,
          -77.57477972,
          -77.63563399,
          -77.65114998,
          -77.65114998,
          -77.61632344,
          -77.61632344,
          -77.63862319,
          -77.58620634,
          -77.65073044,
          -77.6450848,
          -77.64672102,
          -77.59755686,
          -77.58141275,
          -77.5990805,
          -77.60516318,
          -77.62596726,
          -77.63887584,
          -77.58490754,
          -77.63718554,
          -77.62679971,
          -77.60077859,
          -77.58272938,
          -77.63624684,
          -77.63624684,
          -77.58030659,
          -77.6465249,
          -77.6465249,
          -77.59961781,
          -77.59961781,
          -77.64525393,
          -77.59417354,
          -77.64842443,
          -77.62851263,
          -77.5763348,
          -77.57181703,
          -77.66061298,
          -77.63430389,
          -77.59617969,
          -77.59698133,
          -77.62923685,
          -77.63073069,
          -77.59512667,
          -77.65044616,
          -77.59923914,
          -77.61562115,
          -77.5663266,
          -77.62893938,
          -77.64435713,
          -77.64435713,
          -77.61627904,
          -77.60796057,
          -77.64270892,
          -77.59869814,
          -77.60151617,
          -77.5825738,
          -77.582563,
          -77.59199899,
          -77.5912952,
          -77.64445501,
          -77.62541006,
          -77.63528068,
          -77.59774432,
          -77.59704808,
          -77.61291384,
          -77.64492358,
          -77.63964337,
          -77.62794466,
          -77.5939229,
          -77.66036043,
          -77.63876242,
          -77.64138015,
          -77.64138015,
          -77.62802342,
          -77.58757931,
          -77.63680987,
          -77.64012134,
          -77.63635699,
          -77.63520944,
          -77.65090077,
          -77.63658041,
          -77.63474901,
          -77.62883801,
          -77.58667344,
          -77.58667344,
          -77.59452961,
          -77.59971812,
          -77.58339339,
          -77.57172802,
          -77.59061732,
          -77.58835688,
          -77.6275476,
          -77.59684449,
          -77.58762047,
          -77.63080323,
          -77.6275476,
          -77.63472637,
          -77.6403668,
          -77.62150908,
          -77.62191521,
          -77.62191521,
          -77.63431457,
          -77.63793052,
          -77.64512552,
          -77.59955274,
          -77.59898454,
          -77.59157483,
          -77.64478885,
          -77.62877148,
          -77.6430005,
          -77.63906822,
          -77.56439673,
          -77.63769648,
          -77.56845263,
          -77.6307112,
          -77.6307112,
          -77.58767511,
          -77.5870578,
          -77.58701846,
          -77.63113236,
          -77.61867252,
          -77.62623293,
          -77.62494959,
          -77.56019004,
          -77.58954504,
          -77.62768893,
          -77.60930568,
          -77.60441278,
          -77.63018914,
          -77.57641753,
          -77.64478944,
          -77.63088321,
          -77.57544357,
          -77.61703042,
          -77.6288386,
          -77.63925179,
          -77.63983473,
          -77.59270194,
          -77.62855756,
          -77.59893525,
          -77.62435793,
          -77.57718233,
          -77.62824387,
          -77.5813127,
          -77.61627904,
          -77.61627904,
          -77.6081631,
          -77.6081631,
          -77.6081631,
          -77.59430452,
          -77.59866877,
          -77.61909533,
          -77.62701088,
          -77.58594029,
          -77.58594029,
          -77.60942403,
          -77.64568399,
          -77.58954504,
          -77.62692965,
          -77.60410812,
          -77.62933142,
          -77.60705228,
          -77.64899286,
          -77.57703518,
          -77.60832053,
          -77.60752066,
          -77.6083926,
          -77.5839085,
          -77.58928926,
          -77.63236983,
          -77.63311251,
          -77.63061583,
          -77.63665627,
          -77.64010396,
          -77.57979827,
          -77.6283991,
          -77.64491544,
          -77.62882907,
          -77.62513201,
          -77.63606105,
          -77.63823634,
          -77.63139523,
          -77.65150263,
          -77.6163414,
          -77.58394309,
          -77.58884097,
          -77.62869095,
          -77.6389421,
          -77.65074632,
          -77.59781894,
          -77.65090337,
          -77.63518991,
          -77.62913712,
          -77.59887755,
          -77.6281014,
          -77.62836475,
          -77.63518991,
          -77.59475124,
          -77.6411389,
          -77.5846495,
          -77.6616674,
          -77.65120327,
          -77.59786552,
          -77.64945602,
          -77.6276806,
          -77.57509838,
          -77.57509838,
          -77.5806279,
          -77.60935323,
          -77.59365033,
          -77.58219099,
          -77.61162622,
          -77.63454918,
          -77.63454918,
          -77.63484098,
          -77.58878886,
          -77.57642005,
          -77.62445714,
          -77.5846495,
          -77.59464106,
          -77.61393917,
          -77.61393917,
          -77.65077707,
          -77.60982526,
          -77.62870564,
          -77.63769391,
          -77.59841148,
          -77.58878886,
          -77.60948092,
          -77.6432184,
          -77.62950593,
          -77.59406406,
          -77.6353115,
          -77.5918207,
          -77.64800137,
          -77.59630565,
          -77.57609814,
          -77.6510551,
          -77.58177019,
          -77.55705822,
          -77.64863529,
          -77.55705822,
          -77.62012578,
          -77.61331449,
          -77.59240892,
          -77.61457385,
          -77.64243192,
          -77.64802808,
          -77.60741441,
          -77.59971953,
          -77.64344217,
          -77.59891666,
          -77.63856061,
          -77.62409849,
          -77.60706741,
          -77.63298176,
          -77.58027296,
          -77.64245719,
          -77.59524526,
          -77.62864095,
          -77.64009631,
          -77.58501626,
          -77.606284,
          -77.5762377,
          -77.58914309,
          -77.61107337,
          -77.63643616,
          -77.58666845,
          -77.63633445,
          -77.62840768,
          -77.61935079,
          -77.63295697,
          -77.64633836,
          -77.57396823,
          -77.63800275,
          -77.59774432,
          -77.62698331,
          -77.63725443,
          -77.61764729,
          -77.60048595,
          -77.59895156,
          -77.58884097,
          -77.59417354,
          -77.59344181,
          -77.61811248,
          -77.62323597,
          -77.63259706,
          -77.59344181,
          -77.62591642,
          -77.63578185,
          -77.61811248,
          -77.64043962,
          -77.61343707,
          -77.62404748,
          -77.63096667,
          -77.64669277,
          -77.62580094,
          -77.5850891,
          -77.63195312,
          -77.60269065,
          -77.63305635,
          -77.57428049,
          -77.64019659,
          -77.57767436,
          -77.63308316,
          -77.55689742,
          -77.63035142,
          -77.59496992,
          -77.57534517,
          -77.63878329,
          -77.5891576,
          -77.60315959,
          -77.61302939,
          -77.62171737,
          -77.61504648,
          -77.6099878,
          -77.62587173,
          -77.63770531,
          -77.63965241,
          -77.63787656,
          -77.64921488,
          -77.64496074,
          -77.58859078,
          -77.58859078,
          -77.59566457,
          -77.60334537,
          -77.58907172,
          -77.62834696,
          -77.65014871,
          -77.56331978,
          -77.64072493,
          -77.57519399,
          -77.62598537,
          -77.64538982,
          -77.60144183,
          -77.62960157,
          -77.63225652,
          -77.60754854,
          -77.636307,
          -77.6341553,
          -77.60632445,
          -77.63264981,
          -77.63474453,
          -77.63474453,
          -77.59928531,
          -77.64125217,
          -77.56422683,
          -77.64669771,
          -77.62473667,
          -77.64422655,
          -77.63744182,
          -77.63744182,
          -77.62843861,
          -77.61997263,
          -77.57718233,
          -77.592444,
          -77.6302004,
          -77.63319515,
          -77.5926004,
          -77.59321025,
          -77.63384913,
          -77.56758059,
          -77.63104986,
          -77.64599227,
          -77.60512197,
          -77.62145241,
          -77.62824387,
          -77.62842529,
          -77.5934282,
          -77.62842529,
          -77.60945472,
          -77.57616746,
          -77.61391233,
          -77.64072595,
          -77.58744401,
          -77.60549906,
          -77.62910873,
          -77.59819884,
          -77.58788767,
          -77.64710383,
          -77.64179604,
          -77.63107384,
          -77.59295008,
          -77.62694858,
          -77.60134819,
          -77.60449035,
          -77.62694858,
          -77.62535017,
          -77.6484618,
          -77.62005593,
          -77.64669277,
          -77.62694858,
          -77.63648111,
          -77.6484618,
          -77.59347503,
          -77.57850285,
          -77.63926167,
          -77.6484618,
          -77.62860706,
          -77.63262851,
          -77.62922511,
          -77.57068523,
          -77.63843415,
          -77.64037089,
          -77.57108487,
          -77.63121469,
          -77.64009967,
          -77.59467342,
          -77.59467342,
          -77.59697411,
          -77.59406661,
          -77.61470313,
          -77.61470313,
          -77.56677544,
          -77.62836143,
          -77.59034274,
          -77.61609094,
          -77.58546721,
          -77.57614624,
          -77.57197575,
          -77.5699118,
          -77.57225596,
          -77.63957121,
          -77.63561251,
          -77.63561251,
          -77.58719122,
          -77.58726096,
          -77.650594,
          -77.59856441,
          -77.59189904,
          -77.59953738,
          -77.58776105,
          -77.63922408,
          -77.60886002,
          -77.60930016,
          -77.58675723,
          -77.58675723,
          -77.63964,
          -77.63964,
          -77.63964,
          -77.57316587,
          -77.57631387,
          -77.62951627,
          -77.60764623,
          -77.59566376,
          -77.58162077,
          -77.59161533,
          -77.63701988,
          -77.60206132,
          -77.59182934,
          -77.59182934,
          -77.58904664,
          -77.59165805,
          -77.62366114,
          -77.60126865,
          -77.65132309,
          -77.63547228,
          -77.63547228,
          -77.58091698,
          -77.62935635,
          -77.62021481,
          -77.63477012,
          -77.63346805,
          -77.56523299,
          -77.56523299,
          -77.61372338,
          -77.56761881,
          -77.56615607,
          -77.636307,
          -77.59575828,
          -77.61346168,
          -77.59552036,
          -77.62363922,
          -77.62363922,
          -77.60133535,
          -77.59779807,
          -77.59569654,
          -77.61849475,
          -77.65581647,
          -77.63970357,
          -77.60565905,
          -77.62854017,
          -77.62842516,
          -77.62842529,
          -77.57480144,
          -77.62842516,
          -77.62912665,
          -77.63108973,
          -77.59176271,
          -77.59242054,
          -77.62788189,
          -77.59495296,
          -77.64248434,
          -77.58496077,
          -77.64049026,
          -77.6117429,
          -77.6420491,
          -77.6117429,
          -77.64207004,
          -77.63204285,
          -77.63436448,
          -77.62822277,
          -77.640392,
          -77.58578471,
          -77.58578471,
          -77.63338067,
          -77.64198673,
          -77.64198673,
          -77.64250025,
          -77.58809437,
          -77.58809437,
          -77.63867459,
          -77.63733376,
          -77.62922002,
          -77.62012578,
          -77.5887837,
          -77.63580947,
          -77.62881845,
          -77.63741295,
          -77.63846518,
          -77.61349983,
          -77.5945598,
          -77.63282365,
          -77.60902016,
          -77.62868472,
          -77.62868472,
          -77.62636403,
          -77.59063148,
          -77.59063148,
          -77.61651657,
          -77.61861294,
          -77.61861294,
          -77.58055103,
          -77.63129646,
          -77.61312277,
          -77.59329902,
          -77.63673791,
          -77.56906269,
          -77.63665627,
          -77.62568922,
          -77.61983979,
          -77.62666247,
          -77.62666247,
          -77.62586299,
          -77.58114345,
          -77.5806279,
          -77.59674703,
          -77.63985786,
          -77.6322358,
          -77.58660632,
          -77.58752397,
          -77.58752397,
          -77.58752397,
          -77.65077785,
          -77.57957943,
          -77.63818551,
          -77.63090805,
          -77.63416455,
          -77.60806287,
          -77.63518991,
          -77.62473339,
          -77.62114281,
          -77.60517987,
          -77.60897146,
          -77.60897146,
          -77.6207959,
          -77.62881845,
          -77.60517987,
          -77.5802901,
          -77.5930916,
          -77.59920627,
          -77.63693294,
          -77.60597887,
          -77.6389766,
          -77.650358,
          -77.64485913,
          -77.63980584,
          -77.60597887,
          -77.6389766,
          -77.59406661,
          -77.57863768,
          -77.60566078,
          -77.61820092,
          -77.63921796,
          -77.63129907,
          -77.63903529,
          -77.63113419,
          -77.56848232,
          -77.650594,
          -77.61542451,
          -77.63232477,
          -77.63042969,
          -77.62126264,
          -77.57631511,
          -77.58560848,
          -77.64376519,
          -77.60764625,
          -77.64542492,
          -77.64542492,
          -77.63920676,
          -77.57149075,
          -77.58234154,
          -77.63393132,
          -77.56938928,
          -77.60713741,
          -77.58219388,
          -77.59548227,
          -77.61084849,
          -77.63866364,
          -77.63314329,
          -77.63314329,
          -77.62872145,
          -77.63379981,
          -77.63225652,
          -77.63580947,
          -77.63580947,
          -77.66291364,
          -77.62566528,
          -77.65683963,
          -77.64344834,
          -77.62217885,
          -77.58808115,
          -77.60378635,
          -77.56593329,
          -77.5997218,
          -77.58999826,
          -77.6393238,
          -77.61717833,
          -77.63864254,
          -77.63864254,
          -77.59230764,
          -77.62450276,
          -77.61279983,
          -77.60902713,
          -77.57069921,
          -77.59391955,
          -77.6306554,
          -77.61065002,
          -77.61759759,
          -77.63860545,
          -77.5858496,
          -77.58043849,
          -77.58043849,
          -77.63540645,
          -77.57558304,
          -77.62154426,
          -77.58560848,
          -77.64814995,
          -77.63627576,
          -77.60261402,
          -77.65994226,
          -77.60712356,
          -77.57549125,
          -77.57291232,
          -77.63089104,
          -77.63906095,
          -77.63910938,
          -77.63906095,
          -77.57960522,
          -77.61542451,
          -77.63593619,
          -77.63241138,
          -77.59571321,
          -77.6340436,
          -77.63965706,
          -77.63954093,
          -77.60773529,
          -77.58640489,
          -77.57072782,
          -77.56759076,
          -77.59027724,
          -77.58754141,
          -77.61617921,
          -77.57826515,
          -77.603092,
          -77.58457787,
          -77.60001831,
          -77.61110588,
          -77.61609094,
          -77.61596196,
          -77.63416455,
          -77.63416455,
          -77.58066281,
          -77.61439663,
          -77.63727112,
          -77.62828446,
          -77.62628211,
          -77.59911847,
          -77.61351418,
          -77.606284,
          -77.61355538,
          -77.64072079,
          -77.65073044,
          -77.61107543,
          -77.59310895,
          -77.59283231,
          -77.58563437,
          -77.64919887,
          -77.64919887,
          -77.65082811,
          -77.60846293,
          -77.63778407,
          -77.63216148,
          -77.62494959,
          -77.586744,
          -77.6196223,
          -77.61990068,
          -77.62857262,
          -77.59160998,
          -77.59567099,
          -77.58603491,
          -77.61263445,
          -77.59443682,
          -77.59443682,
          -77.57298671,
          -77.59148788,
          -77.5731276,
          -77.61015102,
          -77.5859473,
          -77.59688147,
          -77.59100321,
          -77.59891946,
          -77.63642804,
          -77.65726187,
          -77.58936148,
          -77.60295353,
          -77.57658353,
          -77.6312463,
          -77.59898483,
          -77.63866448,
          -77.63215665,
          -77.65382796,
          -77.62185834,
          -77.62868964,
          -77.62868964,
          -77.62905722,
          -77.58469307,
          -77.59684449,
          -77.60616486,
          -77.61752194,
          -77.60374798,
          -77.62525171,
          -77.56104301,
          -77.6350332,
          -77.5976346,
          -77.62525171,
          -77.6393238,
          -77.63792391,
          -77.59934243,
          -77.6455763,
          -77.63792391,
          -77.60490485,
          -77.6423588,
          -77.63952247,
          -77.60786117,
          -77.58432343,
          -77.62918133,
          -77.61115445,
          -77.5868993,
          -77.57571871,
          -77.62441794,
          -77.65161934,
          -77.57553264,
          -77.6244735,
          -77.62238033,
          -77.63901789,
          -77.58459739,
          -77.59117065,
          -77.5995303,
          -77.64144249,
          -77.64144249,
          -77.63873791,
          -77.60281455,
          -77.60281455,
          -77.62614522,
          -77.57648944,
          -77.57648944,
          -77.63681871,
          -77.63681871,
          -77.63681871,
          -77.6579419,
          -77.65119713,
          -77.65119713,
          -77.58206019,
          -77.63849937,
          -77.62492387,
          -77.63930961,
          -77.63597242,
          -77.59782344,
          -77.63412185,
          -77.64752671,
          -77.6108837,
          -77.65147677,
          -77.57616778,
          -77.63472806,
          -77.63533468,
          -77.63790585,
          -77.64086804,
          -77.63926602,
          -77.63785612,
          -77.60559683,
          -77.64373996,
          -77.64172915,
          -77.64830716,
          -77.62340291,
          -77.62340291,
          -77.62340291,
          -77.62150324,
          -77.61544418,
          -77.63616714,
          -77.59639691,
          -77.59639691,
          -77.59639691,
          -77.63992604,
          -77.64726741,
          -77.6324226,
          -77.6324226,
          -77.58762047,
          -77.58762047,
          -77.65127638,
          -77.65003808,
          -77.61269166,
          -77.61269166,
          -77.64140524,
          -77.64140524,
          -77.63841748,
          -77.61767743,
          -77.58943983,
          -77.59370891,
          -77.63321321,
          -77.63141328,
          -77.62494918,
          -77.60002468,
          -77.61777164,
          -77.63241572,
          -77.62439153,
          -77.63241572,
          -77.62916561,
          -77.65331761,
          -77.60264208,
          -77.63267093,
          -77.60546989,
          -77.64166563,
          -77.64166563,
          -77.64029519,
          -77.63678956,
          -77.61411544,
          -77.57553264,
          -77.5762812,
          -77.57490523,
          -77.59299057,
          -77.64482864,
          -77.57446515,
          -77.62832284,
          -77.61099329,
          -77.59926408,
          -77.6385059,
          -77.58489643,
          -77.59920627,
          -77.59920627,
          -77.63776779,
          -77.65132309,
          -77.60801558,
          -77.64654013,
          -77.59467342,
          -77.59425956,
          -77.62049919,
          -77.62884424,
          -77.57849037,
          -77.63742412,
          -77.63611808,
          -77.6063194,
          -77.62100685,
          -77.62100685,
          -77.63724963,
          -77.60662932,
          -77.60821246,
          -77.57505073,
          -77.57522153,
          -77.60632445,
          -77.61676,
          -77.62881845,
          -77.60497244,
          -77.60497244,
          -77.61996184,
          -77.63541389,
          -77.61310545,
          -77.60888445,
          -77.63786955,
          -77.61803026,
          -77.63015373,
          -77.63965241,
          -77.60864471,
          -77.65074801,
          -77.60536191,
          -77.60448121,
          -77.57514706,
          -77.62911997,
          -77.61732766,
          -77.59881936,
          -77.63910429,
          -77.63710054,
          -77.64549795,
          -77.62495343,
          -77.63545298,
          -77.58657096,
          -77.62883638,
          -77.62922511,
          -77.60759981,
          -77.63236983,
          -77.62345852,
          -77.63934258,
          -77.63846692,
          -77.63857868,
          -77.65036468,
          -77.59923914,
          -77.65246248,
          -77.65132107,
          -77.64211375,
          -77.57328661,
          -77.57792362,
          -77.58803614,
          -77.65075077,
          -77.6350743,
          -77.59694897,
          -77.6728108,
          -77.63770458,
          -77.60713273,
          -77.59965829,
          -77.62563583,
          -77.62919447,
          -77.59562803,
          -77.62285345,
          -77.59923139,
          -77.59877885,
          -77.62687918,
          -77.64293412,
          -77.63260423,
          -77.59425956,
          -77.63521179,
          -77.62660233,
          -77.56426767,
          -77.63654258,
          -77.6110321,
          -77.58742985,
          -77.64094814,
          -77.61975047,
          -77.63433187,
          -77.62695053,
          -77.61990484,
          -77.61743179,
          -77.61057602,
          -77.59914431,
          -77.6386204,
          -77.6052132,
          -77.59901212,
          -77.63918101,
          -77.63766629,
          -77.64382732,
          -77.60373446,
          -77.58931044,
          -77.62968805,
          -77.62743305,
          -77.57939064,
          -77.62685005,
          -77.63465208,
          -77.59558792,
          -77.59406661,
          -77.59406661,
          -77.59406661,
          -77.60789364,
          -77.59737222,
          -77.60239827,
          -77.63470921,
          -77.5929551,
          -77.62824915,
          -77.60979297,
          -77.60752066,
          -77.63730853,
          -77.65196455,
          -77.60259028,
          -77.62907684,
          -77.59566376,
          -77.60695097,
          -77.59869071,
          -77.61213968,
          -77.57523254,
          -77.59401194,
          -77.59080461,
          -77.6329654,
          -77.65563127,
          -77.63045607,
          -77.6224086,
          -77.63212288,
          -77.62968219,
          -77.65073169,
          -77.65073169,
          -77.59941602,
          -77.59941602,
          -77.56732071,
          -77.59269525,
          -77.60165687,
          -77.59457831,
          -77.60960054,
          -77.58848928,
          -77.58439654,
          -77.59693579,
          -77.59693579,
          -77.63858955,
          -77.61363386,
          -77.62005593,
          -77.62064322,
          -77.58267066,
          -77.61673112,
          -77.57957943,
          -77.60818266,
          -77.60818266,
          -77.58471602,
          -77.58471602,
          -77.58471602,
          -77.60594851,
          -77.62226366,
          -77.60777494,
          -77.63594174,
          -77.59700909,
          -77.57557126,
          -77.58848928,
          -77.63317376,
          -77.57339702,
          -77.63335713,
          -77.629118,
          -77.59061732,
          -77.63627576,
          -77.62636403,
          -77.5817038,
          -77.61015102,
          -77.63269522,
          -77.60001831,
          -77.62928264,
          -77.64199031,
          -77.58425477,
          -77.62262971,
          -77.56894746,
          -77.6064538,
          -77.63358858,
          -77.62262971,
          -77.63262548,
          -77.63708672,
          -77.6030057,
          -77.64829095,
          -77.62094306,
          -77.60643929,
          -77.62281774,
          -77.62916251,
          -77.6202266,
          -77.59474202,
          -77.64250025,
          -77.59061732,
          -77.60070166,
          -77.61351418,
          -77.59895156,
          -77.62912665,
          -77.59862176,
          -77.59862176,
          -77.62883638,
          -77.62881845,
          -77.62881845,
          -77.62881845,
          -77.63095652,
          -77.60810726,
          -77.57559482,
          -77.57792729,
          -77.58107854,
          -77.62983433,
          -77.59269867,
          -77.58796962,
          -77.61042557,
          -77.62018605,
          -77.63826268,
          -77.63826268,
          -77.58015427,
          -77.60176632,
          -77.63332375,
          -77.60793397,
          -77.6140298,
          -77.65396598,
          -77.60639264,
          -77.60801558,
          -77.65396598,
          -77.58365042,
          -77.63393001,
          -77.59844606,
          -77.61616018,
          -77.59852415,
          -77.59844606,
          -77.614045,
          -77.6272023,
          -77.62780342,
          -77.63580947,
          -77.5997218,
          -77.63876743,
          -77.63098844,
          -77.65061713,
          -77.63500787,
          -77.62450276,
          -77.65073169,
          -77.63838858,
          -77.63838858,
          -77.62652941,
          -77.62967028,
          -77.62492769,
          -77.62492769,
          -77.62492769,
          -77.60961374,
          -77.60492062,
          -77.63624684,
          -77.62019367,
          -77.63139091,
          -77.62978282,
          -77.61091247,
          -77.62854017,
          -77.59521449,
          -77.59521449,
          -77.59521449,
          -77.62240188,
          -77.63012724,
          -77.63338261,
          -77.58878886,
          -77.62162648,
          -77.59684194,
          -77.62867013,
          -77.63779688,
          -77.63014472,
          -77.63014472,
          -77.6296312,
          -77.592192,
          -77.6351728,
          -77.60770666,
          -77.63069039,
          -77.62806708,
          -77.62972855,
          -77.60378635,
          -77.61357443,
          -77.64310588,
          -77.64105263,
          -77.63247672,
          -77.58752251,
          -77.61354996,
          -77.62150908,
          -77.62935478,
          -77.59541093,
          -77.60894054,
          -77.57561496,
          -77.62875879,
          -77.63564867,
          -77.60961092,
          -77.59806193,
          -77.60259028,
          -77.64211095,
          -77.60647559,
          -77.61011353,
          -77.61011353,
          -77.61221113,
          -77.63808483,
          -77.6015441,
          -77.59891666,
          -77.62920097,
          -77.63917139,
          -77.62884568,
          -77.59558792,
          -77.62948358,
          -77.6264503,
          -77.60971485,
          -77.60129274,
          -77.63892824,
          -77.6035909,
          -77.62884568,
          -77.56959582,
          -77.59858696,
          -77.63115961,
          -77.62922511,
          -77.62947562,
          -77.62883106,
          -77.61939254,
          -77.59998603,
          -77.61980888,
          -77.58419855,
          -77.60816415,
          -77.61980023,
          -77.62684738,
          -77.64072117,
          -77.60286827,
          -77.60286827,
          -77.61373508,
          -77.61034181,
          -77.62906996,
          -77.62912693,
          -77.63477012,
          -77.63489953,
          -77.62888436,
          -77.59889263,
          -77.56959582,
          -77.60753796,
          -77.60266647,
          -77.66550162,
          -77.60537221,
          -77.62912693,
          -77.61118651,
          -77.60741513,
          -77.59971055,
          -77.58187607,
          -77.63631752,
          -77.59605538,
          -77.58189233,
          -77.58189233,
          -77.61947021,
          -77.65074632,
          -77.62947391,
          -77.62968219,
          -77.6346735,
          -77.5855563,
          -77.60960054,
          -77.6295402,
          -77.61403282,
          -77.61358768,
          -77.61358768,
          -77.61949135,
          -77.65669483,
          -77.59955274,
          -77.59955274,
          -77.62962385,
          -77.6294492,
          -77.62294936,
          -77.62193113,
          -77.61316405,
          -77.58790627,
          -77.62857262,
          -77.60308254,
          -77.63162057,
          -77.59833278,
          -77.61272859,
          -77.643989,
          -77.62626389,
          -77.63061607,
          -77.64835794,
          -77.58899081,
          -77.6133178,
          -77.62305618,
          -77.650901,
          -77.6490675,
          -77.62883638,
          -77.62883638,
          -77.59776055,
          -77.59039809,
          -77.61335654,
          -77.59616464,
          -77.61895236,
          -77.63416455,
          -77.65365074,
          -77.62947,
          -77.58124979,
          -77.58364579,
          -77.60970131,
          -77.65075619,
          -77.61650221,
          -77.62340777,
          -77.63582658,
          -77.58689667,
          -77.58689667,
          -77.62475529,
          -77.59272738,
          -77.61311405,
          -77.60116152,
          -77.59816338,
          -77.6265668,
          -77.62947562,
          -77.59309941,
          -77.58131849,
          -77.61276951,
          -77.60145596,
          -77.62000362,
          -77.62679045,
          -77.59555745,
          -77.60455309,
          -77.59333386,
          -77.6107424,
          -77.63072127,
          -77.61104339,
          -77.62342532,
          -77.61637808,
          -77.60937755,
          -77.65552698,
          -77.5912952,
          -77.58948315,
          -77.57422495,
          -77.60295353,
          -77.63362376,
          -77.61118386,
          -77.57499463,
          -77.65244938,
          -77.63359645,
          -77.65120398,
          -77.57718233,
          -77.60014525,
          -77.5912952,
          -77.61276023,
          -77.63734255,
          -77.61029748,
          -77.58448542,
          -77.63650125,
          -77.61996345,
          -77.60735025,
          -77.62373256,
          -77.56971448,
          -77.63934102,
          -77.62115793,
          -77.59919077,
          -77.6194515,
          -77.6296219,
          -77.63988911,
          -77.63976215,
          -77.63472248,
          -77.59061732,
          -77.63722634,
          -77.62925728,
          -77.62071324,
          -77.61341652,
          -77.6503501,
          -77.60316468,
          -77.65238014,
          -77.63228707,
          -77.58945552,
          -77.62996085,
          -77.59919077,
          -77.63877774,
          -77.61429715,
          -77.63627576,
          -77.58683177,
          -77.64376679,
          -77.63079135,
          -77.62912665,
          -77.60777494,
          -77.59972535,
          -77.60782308,
          -77.58917639,
          -77.62883317,
          -77.59819884,
          -77.62906634,
          -77.60426803,
          -77.65176088,
          -77.61989417,
          -77.57860688,
          -77.57860688,
          -77.59499173,
          -77.60310887,
          -77.6272309,
          -77.60126822,
          -77.64504571,
          -77.62877021,
          -77.59895156,
          -77.59961849,
          -77.62282533,
          -77.62282533,
          -77.59858696,
          -77.63691163,
          -77.64922421,
          -77.60785751,
          -77.59964532,
          -77.59503426,
          -77.62710766,
          -77.63269187,
          -77.6229015,
          -77.62922511,
          -77.62672302,
          -77.56740912,
          -77.64576893,
          -77.63319027,
          -77.63562944,
          -77.64134617,
          -77.59595694,
          -77.63319027,
          -77.59913854,
          -77.62869507,
          -77.63334546,
          -77.60696492,
          -77.6002464,
          -77.62718469,
          -77.57363352,
          -77.57480144,
          -77.58928926,
          -77.57480144,
          -77.58466315,
          -77.58677124,
          -77.63901702,
          -77.62125771,
          -77.6306554,
          -77.61968092,
          -77.60897862,
          -77.63525828,
          -77.61038934,
          -77.6331113,
          -77.60426803,
          -77.64969307,
          -77.59042504,
          -77.63365109,
          -77.64388019,
          -77.59025115,
          -77.62848185,
          -77.63379915,
          -77.59211319,
          -77.62675972,
          -77.59940999,
          -77.62193006,
          -77.63526491,
          -77.62888437,
          -77.59362324,
          -77.64378224,
          -77.62803124,
          -77.64357556,
          -77.628747,
          -77.628747,
          -77.59662277,
          -77.58859078,
          -77.63185922,
          -77.62862579,
          -77.6264503,
          -77.62910525,
          -77.65221458,
          -77.59042504,
          -77.59303339,
          -77.63816287,
          -77.65438255,
          -77.60310887,
          -77.55430883,
          -77.59869071,
          -77.58396,
          -77.61634532,
          -77.59888055,
          -77.59888055,
          -77.62434118,
          -77.65126263,
          -77.61127986,
          -77.61119855,
          -77.62052408,
          -77.63824355,
          -77.61055429,
          -77.63949693,
          -77.60644089,
          -77.59203379,
          -77.62724438,
          -77.58270444,
          -77.59869071,
          -77.63611736,
          -77.63875676,
          -77.60486203,
          -77.63446744,
          -77.62882463,
          -77.58557627,
          -77.64028392,
          -77.6224086,
          -77.6224086,
          -77.60329287,
          -77.64920937,
          -77.61168924,
          -77.62119833,
          -77.63099312,
          -77.60295353,
          -77.6027839,
          -77.60021549,
          -77.59385974,
          -77.62950593,
          -77.63645077,
          -77.61291384,
          -77.63536907,
          -77.6044882,
          -77.6044882,
          -77.6044882,
          -77.6044882,
          -77.64560569,
          -77.638366,
          -77.57523764,
          -77.64678708,
          -77.61533545,
          -77.59562803
         ],
         "marker": {
          "color": "#636efa"
         },
         "mode": "markers+text",
         "name": "Shooting",
         "showlegend": true,
         "subplot": "mapbox",
         "text": [
          "Shooting",
          "Shooting",
          "Shooting",
          "Shooting",
          "Shooting",
          "Shooting",
          "Shooting",
          "Shooting",
          "Shooting",
          "Shooting",
          "Shooting",
          "Shooting",
          "Shooting",
          "Shooting",
          "Shooting",
          "Shooting",
          "Shooting",
          "Shooting",
          "Shooting",
          "Shooting",
          "Shooting",
          "Shooting",
          "Shooting",
          "Shooting",
          "Shooting",
          "Shooting",
          "Shooting",
          "Shooting",
          "Shooting",
          "Shooting",
          "Shooting",
          "Shooting",
          "Shooting",
          "Shooting",
          "Shooting",
          "Shooting",
          "Shooting",
          "Shooting",
          "Shooting",
          "Shooting",
          "Shooting",
          "Shooting",
          "Shooting",
          "Shooting",
          "Shooting",
          "Shooting",
          "Shooting",
          "Shooting",
          "Shooting",
          "Shooting",
          "Shooting",
          "Shooting",
          "Shooting",
          "Shooting",
          "Shooting",
          "Shooting",
          "Shooting",
          "Shooting",
          "Shooting",
          "Shooting",
          "Shooting",
          "Shooting",
          "Shooting",
          "Shooting",
          "Shooting",
          "Shooting",
          "Shooting",
          "Shooting",
          "Shooting",
          "Shooting",
          "Shooting",
          "Shooting",
          "Shooting",
          "Shooting",
          "Shooting",
          "Shooting",
          "Shooting",
          "Shooting",
          "Shooting",
          "Shooting",
          "Shooting",
          "Shooting",
          "Shooting",
          "Shooting",
          "Shooting",
          "Shooting",
          "Shooting",
          "Shooting",
          "Shooting",
          "Shooting",
          "Shooting",
          "Shooting",
          "Shooting",
          "Shooting",
          "Shooting",
          "Shooting",
          "Shooting",
          "Shooting",
          "Shooting",
          "Shooting",
          "Shooting",
          "Shooting",
          "Shooting",
          "Shooting",
          "Shooting",
          "Shooting",
          "Shooting",
          "Shooting",
          "Shooting",
          "Shooting",
          "Shooting",
          "Shooting",
          "Shooting",
          "Shooting",
          "Shooting",
          "Shooting",
          "Shooting",
          "Shooting",
          "Shooting",
          "Shooting",
          "Shooting",
          "Shooting",
          "Shooting",
          "Shooting",
          "Shooting",
          "Shooting",
          "Shooting",
          "Shooting",
          "Shooting",
          "Shooting",
          "Shooting",
          "Shooting",
          "Shooting",
          "Shooting",
          "Shooting",
          "Shooting",
          "Shooting",
          "Shooting",
          "Shooting",
          "Shooting",
          "Shooting",
          "Shooting",
          "Shooting",
          "Shooting",
          "Shooting",
          "Shooting",
          "Shooting",
          "Shooting",
          "Shooting",
          "Shooting",
          "Shooting",
          "Shooting",
          "Shooting",
          "Shooting",
          "Shooting",
          "Shooting",
          "Shooting",
          "Shooting",
          "Shooting",
          "Shooting",
          "Shooting",
          "Shooting",
          "Shooting",
          "Shooting",
          "Shooting",
          "Shooting",
          "Shooting",
          "Shooting",
          "Shooting",
          "Shooting",
          "Shooting",
          "Shooting",
          "Shooting",
          "Shooting",
          "Shooting",
          "Shooting",
          "Shooting",
          "Shooting",
          "Shooting",
          "Shooting",
          "Shooting",
          "Shooting",
          "Shooting",
          "Shooting",
          "Shooting",
          "Shooting",
          "Shooting",
          "Shooting",
          "Shooting",
          "Shooting",
          "Shooting",
          "Shooting",
          "Shooting",
          "Shooting",
          "Shooting",
          "Shooting",
          "Shooting",
          "Shooting",
          "Shooting",
          "Shooting",
          "Shooting",
          "Shooting",
          "Shooting",
          "Shooting",
          "Shooting",
          "Shooting",
          "Shooting",
          "Shooting",
          "Shooting",
          "Shooting",
          "Shooting",
          "Shooting",
          "Shooting",
          "Shooting",
          "Shooting",
          "Shooting",
          "Shooting",
          "Shooting",
          "Shooting",
          "Shooting",
          "Shooting",
          "Shooting",
          "Shooting",
          "Shooting",
          "Shooting",
          "Shooting",
          "Shooting",
          "Shooting",
          "Shooting",
          "Shooting",
          "Shooting",
          "Shooting",
          "Shooting",
          "Shooting",
          "Shooting",
          "Shooting",
          "Shooting",
          "Shooting",
          "Shooting",
          "Shooting",
          "Shooting",
          "Shooting",
          "Shooting",
          "Shooting",
          "Shooting",
          "Shooting",
          "Shooting",
          "Shooting",
          "Shooting",
          "Shooting",
          "Shooting",
          "Shooting",
          "Shooting",
          "Shooting",
          "Shooting",
          "Shooting",
          "Shooting",
          "Shooting",
          "Shooting",
          "Shooting",
          "Shooting",
          "Shooting",
          "Shooting",
          "Shooting",
          "Shooting",
          "Shooting",
          "Shooting",
          "Shooting",
          "Shooting",
          "Shooting",
          "Shooting",
          "Shooting",
          "Shooting",
          "Shooting",
          "Shooting",
          "Shooting",
          "Shooting",
          "Shooting",
          "Shooting",
          "Shooting",
          "Shooting",
          "Shooting",
          "Shooting",
          "Shooting",
          "Shooting",
          "Shooting",
          "Shooting",
          "Shooting",
          "Shooting",
          "Shooting",
          "Shooting",
          "Shooting",
          "Shooting",
          "Shooting",
          "Shooting",
          "Shooting",
          "Shooting",
          "Shooting",
          "Shooting",
          "Shooting",
          "Shooting",
          "Shooting",
          "Shooting",
          "Shooting",
          "Shooting",
          "Shooting",
          "Shooting",
          "Shooting",
          "Shooting",
          "Shooting",
          "Shooting",
          "Shooting",
          "Shooting",
          "Shooting",
          "Shooting",
          "Shooting",
          "Shooting",
          "Shooting",
          "Shooting",
          "Shooting",
          "Shooting",
          "Shooting",
          "Shooting",
          "Shooting",
          "Shooting",
          "Shooting",
          "Shooting",
          "Shooting",
          "Shooting",
          "Shooting",
          "Shooting",
          "Shooting",
          "Shooting",
          "Shooting",
          "Shooting",
          "Shooting",
          "Shooting",
          "Shooting",
          "Shooting",
          "Shooting",
          "Shooting",
          "Shooting",
          "Shooting",
          "Shooting",
          "Shooting",
          "Shooting",
          "Shooting",
          "Shooting",
          "Shooting",
          "Shooting",
          "Shooting",
          "Shooting",
          "Shooting",
          "Shooting",
          "Shooting",
          "Shooting",
          "Shooting",
          "Shooting",
          "Shooting",
          "Shooting",
          "Shooting",
          "Shooting",
          "Shooting",
          "Shooting",
          "Shooting",
          "Shooting",
          "Shooting",
          "Shooting",
          "Shooting",
          "Shooting",
          "Shooting",
          "Shooting",
          "Shooting",
          "Shooting",
          "Shooting",
          "Shooting",
          "Shooting",
          "Shooting",
          "Shooting",
          "Shooting",
          "Shooting",
          "Shooting",
          "Shooting",
          "Shooting",
          "Shooting",
          "Shooting",
          "Shooting",
          "Shooting",
          "Shooting",
          "Shooting",
          "Shooting",
          "Shooting",
          "Shooting",
          "Shooting",
          "Shooting",
          "Shooting",
          "Shooting",
          "Shooting",
          "Shooting",
          "Shooting",
          "Shooting",
          "Shooting",
          "Shooting",
          "Shooting",
          "Shooting",
          "Shooting",
          "Shooting",
          "Shooting",
          "Shooting",
          "Shooting",
          "Shooting",
          "Shooting",
          "Shooting",
          "Shooting",
          "Shooting",
          "Shooting",
          "Shooting",
          "Shooting",
          "Shooting",
          "Shooting",
          "Shooting",
          "Shooting",
          "Shooting",
          "Shooting",
          "Shooting",
          "Shooting",
          "Shooting",
          "Shooting",
          "Shooting",
          "Shooting",
          "Shooting",
          "Shooting",
          "Shooting",
          "Shooting",
          "Shooting",
          "Shooting",
          "Shooting",
          "Shooting",
          "Shooting",
          "Shooting",
          "Shooting",
          "Shooting",
          "Shooting",
          "Shooting",
          "Shooting",
          "Shooting",
          "Shooting",
          "Shooting",
          "Shooting",
          "Shooting",
          "Shooting",
          "Shooting",
          "Shooting",
          "Shooting",
          "Shooting",
          "Shooting",
          "Shooting",
          "Shooting",
          "Shooting",
          "Shooting",
          "Shooting",
          "Shooting",
          "Shooting",
          "Shooting",
          "Shooting",
          "Shooting",
          "Shooting",
          "Shooting",
          "Shooting",
          "Shooting",
          "Shooting",
          "Shooting",
          "Shooting",
          "Shooting",
          "Shooting",
          "Shooting",
          "Shooting",
          "Shooting",
          "Shooting",
          "Shooting",
          "Shooting",
          "Shooting",
          "Shooting",
          "Shooting",
          "Shooting",
          "Shooting",
          "Shooting",
          "Shooting",
          "Shooting",
          "Shooting",
          "Shooting",
          "Shooting",
          "Shooting",
          "Shooting",
          "Shooting",
          "Shooting",
          "Shooting",
          "Shooting",
          "Shooting",
          "Shooting",
          "Shooting",
          "Shooting",
          "Shooting",
          "Shooting",
          "Shooting",
          "Shooting",
          "Shooting",
          "Shooting",
          "Shooting",
          "Shooting",
          "Shooting",
          "Shooting",
          "Shooting",
          "Shooting",
          "Shooting",
          "Shooting",
          "Shooting",
          "Shooting",
          "Shooting",
          "Shooting",
          "Shooting",
          "Shooting",
          "Shooting",
          "Shooting",
          "Shooting",
          "Shooting",
          "Shooting",
          "Shooting",
          "Shooting",
          "Shooting",
          "Shooting",
          "Shooting",
          "Shooting",
          "Shooting",
          "Shooting",
          "Shooting",
          "Shooting",
          "Shooting",
          "Shooting",
          "Shooting",
          "Shooting",
          "Shooting",
          "Shooting",
          "Shooting",
          "Shooting",
          "Shooting",
          "Shooting",
          "Shooting",
          "Shooting",
          "Shooting",
          "Shooting",
          "Shooting",
          "Shooting",
          "Shooting",
          "Shooting",
          "Shooting",
          "Shooting",
          "Shooting",
          "Shooting",
          "Shooting",
          "Shooting",
          "Shooting",
          "Shooting",
          "Shooting",
          "Shooting",
          "Shooting",
          "Shooting",
          "Shooting",
          "Shooting",
          "Shooting",
          "Shooting",
          "Shooting",
          "Shooting",
          "Shooting",
          "Shooting",
          "Shooting",
          "Shooting",
          "Shooting",
          "Shooting",
          "Shooting",
          "Shooting",
          "Shooting",
          "Shooting",
          "Shooting",
          "Shooting",
          "Shooting",
          "Shooting",
          "Shooting",
          "Shooting",
          "Shooting",
          "Shooting",
          "Shooting",
          "Shooting",
          "Shooting",
          "Shooting",
          "Shooting",
          "Shooting",
          "Shooting",
          "Shooting",
          "Shooting",
          "Shooting",
          "Shooting",
          "Shooting",
          "Shooting",
          "Shooting",
          "Shooting",
          "Shooting",
          "Shooting",
          "Shooting",
          "Shooting",
          "Shooting",
          "Shooting",
          "Shooting",
          "Shooting",
          "Shooting",
          "Shooting",
          "Shooting",
          "Shooting",
          "Shooting",
          "Shooting",
          "Shooting",
          "Shooting",
          "Shooting",
          "Shooting",
          "Shooting",
          "Shooting",
          "Shooting",
          "Shooting",
          "Shooting",
          "Shooting",
          "Shooting",
          "Shooting",
          "Shooting",
          "Shooting",
          "Shooting",
          "Shooting",
          "Shooting",
          "Shooting",
          "Shooting",
          "Shooting",
          "Shooting",
          "Shooting",
          "Shooting",
          "Shooting",
          "Shooting",
          "Shooting",
          "Shooting",
          "Shooting",
          "Shooting",
          "Shooting",
          "Shooting",
          "Shooting",
          "Shooting",
          "Shooting",
          "Shooting",
          "Shooting",
          "Shooting",
          "Shooting",
          "Shooting",
          "Shooting",
          "Shooting",
          "Shooting",
          "Shooting",
          "Shooting",
          "Shooting",
          "Shooting",
          "Shooting",
          "Shooting",
          "Shooting",
          "Shooting",
          "Shooting",
          "Shooting",
          "Shooting",
          "Shooting",
          "Shooting",
          "Shooting",
          "Shooting",
          "Shooting",
          "Shooting",
          "Shooting",
          "Shooting",
          "Shooting",
          "Shooting",
          "Shooting",
          "Shooting",
          "Shooting",
          "Shooting",
          "Shooting",
          "Shooting",
          "Shooting",
          "Shooting",
          "Shooting",
          "Shooting",
          "Shooting",
          "Shooting",
          "Shooting",
          "Shooting",
          "Shooting",
          "Shooting",
          "Shooting",
          "Shooting",
          "Shooting",
          "Shooting",
          "Shooting",
          "Shooting",
          "Shooting",
          "Shooting",
          "Shooting",
          "Shooting",
          "Shooting",
          "Shooting",
          "Shooting",
          "Shooting",
          "Shooting",
          "Shooting",
          "Shooting",
          "Shooting",
          "Shooting",
          "Shooting",
          "Shooting",
          "Shooting",
          "Shooting",
          "Shooting",
          "Shooting",
          "Shooting",
          "Shooting",
          "Shooting",
          "Shooting",
          "Shooting",
          "Shooting",
          "Shooting",
          "Shooting",
          "Shooting",
          "Shooting",
          "Shooting",
          "Shooting",
          "Shooting",
          "Shooting",
          "Shooting",
          "Shooting",
          "Shooting",
          "Shooting",
          "Shooting",
          "Shooting",
          "Shooting",
          "Shooting",
          "Shooting",
          "Shooting",
          "Shooting",
          "Shooting",
          "Shooting",
          "Shooting",
          "Shooting",
          "Shooting",
          "Shooting",
          "Shooting",
          "Shooting",
          "Shooting",
          "Shooting",
          "Shooting",
          "Shooting",
          "Shooting",
          "Shooting",
          "Shooting",
          "Shooting",
          "Shooting",
          "Shooting",
          "Shooting",
          "Shooting",
          "Shooting",
          "Shooting",
          "Shooting",
          "Shooting",
          "Shooting",
          "Shooting",
          "Shooting",
          "Shooting",
          "Shooting",
          "Shooting",
          "Shooting",
          "Shooting",
          "Shooting",
          "Shooting",
          "Shooting",
          "Shooting",
          "Shooting",
          "Shooting",
          "Shooting",
          "Shooting",
          "Shooting",
          "Shooting",
          "Shooting",
          "Shooting",
          "Shooting",
          "Shooting",
          "Shooting",
          "Shooting",
          "Shooting",
          "Shooting",
          "Shooting",
          "Shooting",
          "Shooting",
          "Shooting",
          "Shooting",
          "Shooting",
          "Shooting",
          "Shooting",
          "Shooting",
          "Shooting",
          "Shooting",
          "Shooting",
          "Shooting",
          "Shooting",
          "Shooting",
          "Shooting",
          "Shooting",
          "Shooting",
          "Shooting",
          "Shooting",
          "Shooting",
          "Shooting",
          "Shooting",
          "Shooting",
          "Shooting",
          "Shooting",
          "Shooting",
          "Shooting",
          "Shooting",
          "Shooting",
          "Shooting",
          "Shooting",
          "Shooting",
          "Shooting",
          "Shooting",
          "Shooting",
          "Shooting",
          "Shooting",
          "Shooting",
          "Shooting",
          "Shooting",
          "Shooting",
          "Shooting",
          "Shooting",
          "Shooting",
          "Shooting",
          "Shooting",
          "Shooting",
          "Shooting",
          "Shooting",
          "Shooting",
          "Shooting",
          "Shooting",
          "Shooting",
          "Shooting",
          "Shooting",
          "Shooting",
          "Shooting",
          "Shooting",
          "Shooting",
          "Shooting",
          "Shooting",
          "Shooting",
          "Shooting",
          "Shooting",
          "Shooting",
          "Shooting",
          "Shooting",
          "Shooting",
          "Shooting",
          "Shooting",
          "Shooting",
          "Shooting",
          "Shooting",
          "Shooting",
          "Shooting",
          "Shooting",
          "Shooting",
          "Shooting",
          "Shooting",
          "Shooting",
          "Shooting",
          "Shooting",
          "Shooting",
          "Shooting",
          "Shooting",
          "Shooting",
          "Shooting",
          "Shooting",
          "Shooting",
          "Shooting",
          "Shooting",
          "Shooting",
          "Shooting",
          "Shooting",
          "Shooting",
          "Shooting",
          "Shooting",
          "Shooting",
          "Shooting",
          "Shooting",
          "Shooting",
          "Shooting",
          "Shooting",
          "Shooting",
          "Shooting",
          "Shooting",
          "Shooting",
          "Shooting",
          "Shooting",
          "Shooting",
          "Shooting",
          "Shooting",
          "Shooting",
          "Shooting",
          "Shooting",
          "Shooting",
          "Shooting",
          "Shooting",
          "Shooting",
          "Shooting",
          "Shooting",
          "Shooting",
          "Shooting",
          "Shooting",
          "Shooting",
          "Shooting",
          "Shooting",
          "Shooting",
          "Shooting",
          "Shooting",
          "Shooting",
          "Shooting",
          "Shooting",
          "Shooting",
          "Shooting",
          "Shooting",
          "Shooting",
          "Shooting",
          "Shooting",
          "Shooting",
          "Shooting",
          "Shooting",
          "Shooting",
          "Shooting",
          "Shooting",
          "Shooting",
          "Shooting",
          "Shooting",
          "Shooting",
          "Shooting",
          "Shooting",
          "Shooting",
          "Shooting",
          "Shooting",
          "Shooting",
          "Shooting",
          "Shooting",
          "Shooting",
          "Shooting",
          "Shooting",
          "Shooting",
          "Shooting",
          "Shooting",
          "Shooting",
          "Shooting",
          "Shooting",
          "Shooting",
          "Shooting",
          "Shooting",
          "Shooting",
          "Shooting",
          "Shooting",
          "Shooting",
          "Shooting",
          "Shooting",
          "Shooting",
          "Shooting",
          "Shooting",
          "Shooting",
          "Shooting",
          "Shooting",
          "Shooting",
          "Shooting",
          "Shooting",
          "Shooting",
          "Shooting",
          "Shooting",
          "Shooting",
          "Shooting",
          "Shooting",
          "Shooting",
          "Shooting",
          "Shooting",
          "Shooting",
          "Shooting",
          "Shooting",
          "Shooting",
          "Shooting",
          "Shooting",
          "Shooting",
          "Shooting",
          "Shooting",
          "Shooting",
          "Shooting",
          "Shooting",
          "Shooting",
          "Shooting",
          "Shooting",
          "Shooting",
          "Shooting",
          "Shooting",
          "Shooting",
          "Shooting",
          "Shooting",
          "Shooting",
          "Shooting",
          "Shooting",
          "Shooting",
          "Shooting",
          "Shooting",
          "Shooting",
          "Shooting",
          "Shooting",
          "Shooting",
          "Shooting",
          "Shooting",
          "Shooting",
          "Shooting",
          "Shooting",
          "Shooting",
          "Shooting",
          "Shooting",
          "Shooting",
          "Shooting",
          "Shooting",
          "Shooting",
          "Shooting",
          "Shooting",
          "Shooting",
          "Shooting",
          "Shooting",
          "Shooting",
          "Shooting",
          "Shooting",
          "Shooting",
          "Shooting",
          "Shooting",
          "Shooting",
          "Shooting",
          "Shooting",
          "Shooting",
          "Shooting",
          "Shooting",
          "Shooting",
          "Shooting",
          "Shooting",
          "Shooting",
          "Shooting",
          "Shooting",
          "Shooting",
          "Shooting",
          "Shooting",
          "Shooting",
          "Shooting",
          "Shooting",
          "Shooting",
          "Shooting",
          "Shooting",
          "Shooting",
          "Shooting",
          "Shooting",
          "Shooting",
          "Shooting",
          "Shooting",
          "Shooting",
          "Shooting",
          "Shooting",
          "Shooting",
          "Shooting",
          "Shooting",
          "Shooting",
          "Shooting",
          "Shooting",
          "Shooting",
          "Shooting",
          "Shooting",
          "Shooting",
          "Shooting",
          "Shooting",
          "Shooting",
          "Shooting",
          "Shooting",
          "Shooting",
          "Shooting",
          "Shooting",
          "Shooting",
          "Shooting",
          "Shooting",
          "Shooting",
          "Shooting",
          "Shooting",
          "Shooting",
          "Shooting",
          "Shooting",
          "Shooting",
          "Shooting",
          "Shooting",
          "Shooting",
          "Shooting",
          "Shooting",
          "Shooting",
          "Shooting",
          "Shooting",
          "Shooting",
          "Shooting",
          "Shooting",
          "Shooting",
          "Shooting",
          "Shooting",
          "Shooting",
          "Shooting",
          "Shooting",
          "Shooting",
          "Shooting",
          "Shooting",
          "Shooting",
          "Shooting",
          "Shooting",
          "Shooting",
          "Shooting",
          "Shooting",
          "Shooting",
          "Shooting",
          "Shooting",
          "Shooting",
          "Shooting",
          "Shooting",
          "Shooting",
          "Shooting",
          "Shooting",
          "Shooting",
          "Shooting",
          "Shooting",
          "Shooting",
          "Shooting",
          "Shooting",
          "Shooting",
          "Shooting",
          "Shooting",
          "Shooting",
          "Shooting",
          "Shooting",
          "Shooting",
          "Shooting",
          "Shooting",
          "Shooting",
          "Shooting",
          "Shooting",
          "Shooting",
          "Shooting",
          "Shooting",
          "Shooting",
          "Shooting",
          "Shooting",
          "Shooting",
          "Shooting",
          "Shooting",
          "Shooting",
          "Shooting",
          "Shooting",
          "Shooting",
          "Shooting",
          "Shooting",
          "Shooting",
          "Shooting",
          "Shooting",
          "Shooting",
          "Shooting",
          "Shooting",
          "Shooting",
          "Shooting",
          "Shooting",
          "Shooting",
          "Shooting",
          "Shooting",
          "Shooting",
          "Shooting",
          "Shooting",
          "Shooting",
          "Shooting",
          "Shooting",
          "Shooting",
          "Shooting",
          "Shooting",
          "Shooting",
          "Shooting",
          "Shooting",
          "Shooting",
          "Shooting",
          "Shooting",
          "Shooting",
          "Shooting",
          "Shooting",
          "Shooting",
          "Shooting",
          "Shooting",
          "Shooting",
          "Shooting",
          "Shooting",
          "Shooting",
          "Shooting",
          "Shooting",
          "Shooting",
          "Shooting",
          "Shooting",
          "Shooting",
          "Shooting",
          "Shooting",
          "Shooting",
          "Shooting",
          "Shooting",
          "Shooting",
          "Shooting",
          "Shooting",
          "Shooting",
          "Shooting",
          "Shooting",
          "Shooting",
          "Shooting",
          "Shooting",
          "Shooting",
          "Shooting",
          "Shooting",
          "Shooting",
          "Shooting",
          "Shooting",
          "Shooting",
          "Shooting",
          "Shooting",
          "Shooting",
          "Shooting",
          "Shooting",
          "Shooting",
          "Shooting",
          "Shooting",
          "Shooting",
          "Shooting",
          "Shooting",
          "Shooting",
          "Shooting",
          "Shooting",
          "Shooting",
          "Shooting",
          "Shooting",
          "Shooting",
          "Shooting",
          "Shooting",
          "Shooting",
          "Shooting",
          "Shooting",
          "Shooting",
          "Shooting",
          "Shooting",
          "Shooting",
          "Shooting",
          "Shooting",
          "Shooting",
          "Shooting",
          "Shooting",
          "Shooting",
          "Shooting",
          "Shooting",
          "Shooting",
          "Shooting",
          "Shooting",
          "Shooting",
          "Shooting",
          "Shooting",
          "Shooting",
          "Shooting",
          "Shooting",
          "Shooting",
          "Shooting",
          "Shooting",
          "Shooting",
          "Shooting",
          "Shooting",
          "Shooting",
          "Shooting",
          "Shooting",
          "Shooting",
          "Shooting",
          "Shooting",
          "Shooting",
          "Shooting",
          "Shooting",
          "Shooting",
          "Shooting",
          "Shooting",
          "Shooting",
          "Shooting",
          "Shooting",
          "Shooting",
          "Shooting",
          "Shooting",
          "Shooting",
          "Shooting",
          "Shooting",
          "Shooting",
          "Shooting",
          "Shooting",
          "Shooting",
          "Shooting",
          "Shooting",
          "Shooting",
          "Shooting",
          "Shooting",
          "Shooting",
          "Shooting",
          "Shooting",
          "Shooting",
          "Shooting",
          "Shooting",
          "Shooting",
          "Shooting",
          "Shooting",
          "Shooting",
          "Shooting",
          "Shooting",
          "Shooting",
          "Shooting",
          "Shooting",
          "Shooting",
          "Shooting",
          "Shooting",
          "Shooting",
          "Shooting",
          "Shooting",
          "Shooting",
          "Shooting",
          "Shooting",
          "Shooting",
          "Shooting",
          "Shooting",
          "Shooting",
          "Shooting",
          "Shooting",
          "Shooting",
          "Shooting",
          "Shooting",
          "Shooting",
          "Shooting",
          "Shooting",
          "Shooting",
          "Shooting",
          "Shooting",
          "Shooting",
          "Shooting",
          "Shooting",
          "Shooting",
          "Shooting",
          "Shooting",
          "Shooting",
          "Shooting",
          "Shooting",
          "Shooting",
          "Shooting",
          "Shooting",
          "Shooting",
          "Shooting",
          "Shooting",
          "Shooting",
          "Shooting",
          "Shooting",
          "Shooting",
          "Shooting",
          "Shooting",
          "Shooting",
          "Shooting",
          "Shooting",
          "Shooting",
          "Shooting",
          "Shooting",
          "Shooting",
          "Shooting",
          "Shooting",
          "Shooting",
          "Shooting",
          "Shooting",
          "Shooting",
          "Shooting",
          "Shooting",
          "Shooting",
          "Shooting",
          "Shooting",
          "Shooting",
          "Shooting",
          "Shooting",
          "Shooting",
          "Shooting",
          "Shooting",
          "Shooting",
          "Shooting",
          "Shooting",
          "Shooting",
          "Shooting",
          "Shooting",
          "Shooting",
          "Shooting",
          "Shooting",
          "Shooting",
          "Shooting",
          "Shooting",
          "Shooting",
          "Shooting",
          "Shooting",
          "Shooting",
          "Shooting",
          "Shooting",
          "Shooting",
          "Shooting",
          "Shooting",
          "Shooting",
          "Shooting",
          "Shooting",
          "Shooting",
          "Shooting",
          "Shooting",
          "Shooting",
          "Shooting",
          "Shooting",
          "Shooting",
          "Shooting",
          "Shooting",
          "Shooting",
          "Shooting",
          "Shooting",
          "Shooting",
          "Shooting",
          "Shooting",
          "Shooting",
          "Shooting",
          "Shooting",
          "Shooting",
          "Shooting",
          "Shooting",
          "Shooting",
          "Shooting",
          "Shooting",
          "Shooting",
          "Shooting",
          "Shooting",
          "Shooting",
          "Shooting",
          "Shooting",
          "Shooting",
          "Shooting",
          "Shooting",
          "Shooting",
          "Shooting",
          "Shooting",
          "Shooting",
          "Shooting",
          "Shooting",
          "Shooting",
          "Shooting",
          "Shooting",
          "Shooting",
          "Shooting",
          "Shooting",
          "Shooting",
          "Shooting",
          "Shooting",
          "Shooting",
          "Shooting",
          "Shooting",
          "Shooting",
          "Shooting",
          "Shooting",
          "Shooting",
          "Shooting",
          "Shooting",
          "Shooting",
          "Shooting",
          "Shooting",
          "Shooting",
          "Shooting",
          "Shooting",
          "Shooting",
          "Shooting",
          "Shooting",
          "Shooting",
          "Shooting",
          "Shooting",
          "Shooting",
          "Shooting",
          "Shooting",
          "Shooting",
          "Shooting",
          "Shooting",
          "Shooting",
          "Shooting",
          "Shooting",
          "Shooting",
          "Shooting",
          "Shooting",
          "Shooting",
          "Shooting",
          "Shooting",
          "Shooting",
          "Shooting",
          "Shooting",
          "Shooting",
          "Shooting",
          "Shooting",
          "Shooting",
          "Shooting",
          "Shooting",
          "Shooting",
          "Shooting",
          "Shooting",
          "Shooting",
          "Shooting",
          "Shooting",
          "Shooting",
          "Shooting",
          "Shooting",
          "Shooting",
          "Shooting",
          "Shooting",
          "Shooting",
          "Shooting",
          "Shooting",
          "Shooting",
          "Shooting",
          "Shooting",
          "Shooting",
          "Shooting",
          "Shooting",
          "Shooting",
          "Shooting",
          "Shooting",
          "Shooting",
          "Shooting",
          "Shooting",
          "Shooting",
          "Shooting",
          "Shooting",
          "Shooting",
          "Shooting",
          "Shooting",
          "Shooting",
          "Shooting",
          "Shooting",
          "Shooting",
          "Shooting",
          "Shooting",
          "Shooting",
          "Shooting",
          "Shooting",
          "Shooting",
          "Shooting",
          "Shooting",
          "Shooting",
          "Shooting",
          "Shooting",
          "Shooting",
          "Shooting",
          "Shooting",
          "Shooting",
          "Shooting",
          "Shooting",
          "Shooting",
          "Shooting",
          "Shooting",
          "Shooting",
          "Shooting",
          "Shooting",
          "Shooting",
          "Shooting",
          "Shooting",
          "Shooting",
          "Shooting",
          "Shooting",
          "Shooting",
          "Shooting",
          "Shooting",
          "Shooting",
          "Shooting",
          "Shooting",
          "Shooting",
          "Shooting",
          "Shooting",
          "Shooting",
          "Shooting",
          "Shooting",
          "Shooting",
          "Shooting",
          "Shooting",
          "Shooting",
          "Shooting",
          "Shooting",
          "Shooting",
          "Shooting",
          "Shooting",
          "Shooting",
          "Shooting",
          "Shooting",
          "Shooting",
          "Shooting",
          "Shooting",
          "Shooting",
          "Shooting",
          "Shooting",
          "Shooting",
          "Shooting",
          "Shooting",
          "Shooting",
          "Shooting",
          "Shooting",
          "Shooting",
          "Shooting",
          "Shooting",
          "Shooting",
          "Shooting",
          "Shooting",
          "Shooting",
          "Shooting",
          "Shooting",
          "Shooting",
          "Shooting",
          "Shooting",
          "Shooting",
          "Shooting",
          "Shooting",
          "Shooting",
          "Shooting",
          "Shooting",
          "Shooting",
          "Shooting",
          "Shooting",
          "Shooting",
          "Shooting",
          "Shooting",
          "Shooting",
          "Shooting",
          "Shooting",
          "Shooting",
          "Shooting",
          "Shooting",
          "Shooting",
          "Shooting",
          "Shooting",
          "Shooting",
          "Shooting",
          "Shooting",
          "Shooting",
          "Shooting",
          "Shooting",
          "Shooting",
          "Shooting",
          "Shooting",
          "Shooting",
          "Shooting",
          "Shooting",
          "Shooting",
          "Shooting",
          "Shooting",
          "Shooting",
          "Shooting",
          "Shooting",
          "Shooting",
          "Shooting",
          "Shooting",
          "Shooting",
          "Shooting",
          "Shooting",
          "Shooting",
          "Shooting",
          "Shooting",
          "Shooting",
          "Shooting",
          "Shooting",
          "Shooting",
          "Shooting",
          "Shooting",
          "Shooting",
          "Shooting",
          "Shooting",
          "Shooting",
          "Shooting",
          "Shooting",
          "Shooting",
          "Shooting",
          "Shooting",
          "Shooting",
          "Shooting",
          "Shooting",
          "Shooting",
          "Shooting",
          "Shooting",
          "Shooting",
          "Shooting",
          "Shooting",
          "Shooting",
          "Shooting",
          "Shooting",
          "Shooting",
          "Shooting",
          "Shooting",
          "Shooting",
          "Shooting",
          "Shooting",
          "Shooting",
          "Shooting",
          "Shooting",
          "Shooting",
          "Shooting",
          "Shooting",
          "Shooting",
          "Shooting",
          "Shooting",
          "Shooting",
          "Shooting",
          "Shooting",
          "Shooting",
          "Shooting",
          "Shooting",
          "Shooting",
          "Shooting",
          "Shooting",
          "Shooting",
          "Shooting",
          "Shooting",
          "Shooting",
          "Shooting",
          "Shooting",
          "Shooting",
          "Shooting",
          "Shooting",
          "Shooting",
          "Shooting",
          "Shooting",
          "Shooting",
          "Shooting",
          "Shooting",
          "Shooting",
          "Shooting",
          "Shooting",
          "Shooting",
          "Shooting",
          "Shooting",
          "Shooting",
          "Shooting",
          "Shooting",
          "Shooting",
          "Shooting",
          "Shooting",
          "Shooting",
          "Shooting",
          "Shooting",
          "Shooting",
          "Shooting",
          "Shooting",
          "Shooting",
          "Shooting",
          "Shooting",
          "Shooting",
          "Shooting",
          "Shooting",
          "Shooting",
          "Shooting",
          "Shooting",
          "Shooting",
          "Shooting",
          "Shooting",
          "Shooting",
          "Shooting",
          "Shooting",
          "Shooting",
          "Shooting",
          "Shooting",
          "Shooting",
          "Shooting",
          "Shooting",
          "Shooting",
          "Shooting",
          "Shooting",
          "Shooting",
          "Shooting",
          "Shooting",
          "Shooting",
          "Shooting",
          "Shooting",
          "Shooting",
          "Shooting",
          "Shooting",
          "Shooting",
          "Shooting",
          "Shooting",
          "Shooting",
          "Shooting",
          "Shooting",
          "Shooting",
          "Shooting",
          "Shooting",
          "Shooting",
          "Shooting",
          "Shooting",
          "Shooting",
          "Shooting",
          "Shooting",
          "Shooting",
          "Shooting",
          "Shooting",
          "Shooting",
          "Shooting",
          "Shooting",
          "Shooting",
          "Shooting",
          "Shooting",
          "Shooting",
          "Shooting",
          "Shooting",
          "Shooting",
          "Shooting",
          "Shooting",
          "Shooting",
          "Shooting",
          "Shooting",
          "Shooting",
          "Shooting",
          "Shooting",
          "Shooting",
          "Shooting",
          "Shooting",
          "Shooting",
          "Shooting",
          "Shooting",
          "Shooting",
          "Shooting",
          "Shooting",
          "Shooting",
          "Shooting",
          "Shooting",
          "Shooting",
          "Shooting",
          "Shooting",
          "Shooting",
          "Shooting",
          "Shooting",
          "Shooting",
          "Shooting",
          "Shooting",
          "Shooting",
          "Shooting",
          "Shooting",
          "Shooting",
          "Shooting",
          "Shooting",
          "Shooting",
          "Shooting",
          "Shooting",
          "Shooting",
          "Shooting",
          "Shooting",
          "Shooting",
          "Shooting",
          "Shooting",
          "Shooting",
          "Shooting",
          "Shooting",
          "Shooting",
          "Shooting",
          "Shooting",
          "Shooting",
          "Shooting",
          "Shooting",
          "Shooting",
          "Shooting",
          "Shooting",
          "Shooting",
          "Shooting",
          "Shooting",
          "Shooting",
          "Shooting",
          "Shooting",
          "Shooting",
          "Shooting",
          "Shooting",
          "Shooting",
          "Shooting",
          "Shooting",
          "Shooting",
          "Shooting",
          "Shooting",
          "Shooting",
          "Shooting",
          "Shooting",
          "Shooting",
          "Shooting",
          "Shooting",
          "Shooting",
          "Shooting",
          "Shooting",
          "Shooting",
          "Shooting",
          "Shooting",
          "Shooting",
          "Shooting",
          "Shooting",
          "Shooting",
          "Shooting",
          "Shooting",
          "Shooting",
          "Shooting",
          "Shooting",
          "Shooting",
          "Shooting",
          "Shooting",
          "Shooting",
          "Shooting",
          "Shooting",
          "Shooting",
          "Shooting",
          "Shooting",
          "Shooting",
          "Shooting",
          "Shooting",
          "Shooting",
          "Shooting",
          "Shooting",
          "Shooting",
          "Shooting",
          "Shooting",
          "Shooting",
          "Shooting",
          "Shooting",
          "Shooting",
          "Shooting",
          "Shooting",
          "Shooting",
          "Shooting",
          "Shooting",
          "Shooting",
          "Shooting",
          "Shooting",
          "Shooting",
          "Shooting",
          "Shooting",
          "Shooting",
          "Shooting",
          "Shooting",
          "Shooting",
          "Shooting",
          "Shooting",
          "Shooting",
          "Shooting",
          "Shooting",
          "Shooting",
          "Shooting",
          "Shooting",
          "Shooting",
          "Shooting",
          "Shooting",
          "Shooting",
          "Shooting",
          "Shooting",
          "Shooting",
          "Shooting",
          "Shooting",
          "Shooting",
          "Shooting",
          "Shooting",
          "Shooting",
          "Shooting",
          "Shooting",
          "Shooting",
          "Shooting",
          "Shooting",
          "Shooting",
          "Shooting",
          "Shooting",
          "Shooting",
          "Shooting",
          "Shooting",
          "Shooting",
          "Shooting",
          "Shooting",
          "Shooting",
          "Shooting",
          "Shooting",
          "Shooting",
          "Shooting",
          "Shooting",
          "Shooting",
          "Shooting",
          "Shooting",
          "Shooting",
          "Shooting",
          "Shooting",
          "Shooting",
          "Shooting",
          "Shooting",
          "Shooting",
          "Shooting",
          "Shooting",
          "Shooting",
          "Shooting",
          "Shooting",
          "Shooting",
          "Shooting",
          "Shooting",
          "Shooting",
          "Shooting",
          "Shooting",
          "Shooting",
          "Shooting",
          "Shooting",
          "Shooting",
          "Shooting",
          "Shooting",
          "Shooting",
          "Shooting",
          "Shooting",
          "Shooting",
          "Shooting",
          "Shooting",
          "Shooting",
          "Shooting",
          "Shooting",
          "Shooting",
          "Shooting",
          "Shooting",
          "Shooting",
          "Shooting",
          "Shooting",
          "Shooting",
          "Shooting",
          "Shooting",
          "Shooting",
          "Shooting",
          "Shooting",
          "Shooting",
          "Shooting",
          "Shooting",
          "Shooting",
          "Shooting",
          "Shooting",
          "Shooting",
          "Shooting",
          "Shooting",
          "Shooting",
          "Shooting",
          "Shooting",
          "Shooting",
          "Shooting",
          "Shooting",
          "Shooting",
          "Shooting",
          "Shooting",
          "Shooting",
          "Shooting",
          "Shooting",
          "Shooting",
          "Shooting",
          "Shooting",
          "Shooting",
          "Shooting",
          "Shooting",
          "Shooting",
          "Shooting",
          "Shooting",
          "Shooting",
          "Shooting",
          "Shooting",
          "Shooting",
          "Shooting",
          "Shooting",
          "Shooting",
          "Shooting",
          "Shooting",
          "Shooting",
          "Shooting",
          "Shooting",
          "Shooting",
          "Shooting",
          "Shooting",
          "Shooting",
          "Shooting",
          "Shooting",
          "Shooting",
          "Shooting",
          "Shooting",
          "Shooting",
          "Shooting",
          "Shooting",
          "Shooting",
          "Shooting",
          "Shooting",
          "Shooting",
          "Shooting",
          "Shooting",
          "Shooting",
          "Shooting",
          "Shooting",
          "Shooting",
          "Shooting",
          "Shooting",
          "Shooting",
          "Shooting",
          "Shooting",
          "Shooting",
          "Shooting",
          "Shooting",
          "Shooting",
          "Shooting",
          "Shooting",
          "Shooting",
          "Shooting",
          "Shooting",
          "Shooting",
          "Shooting",
          "Shooting",
          "Shooting",
          "Shooting",
          "Shooting",
          "Shooting",
          "Shooting",
          "Shooting",
          "Shooting",
          "Shooting",
          "Shooting",
          "Shooting",
          "Shooting",
          "Shooting",
          "Shooting",
          "Shooting",
          "Shooting",
          "Shooting",
          "Shooting",
          "Shooting",
          "Shooting",
          "Shooting",
          "Shooting",
          "Shooting",
          "Shooting",
          "Shooting",
          "Shooting",
          "Shooting",
          "Shooting",
          "Shooting",
          "Shooting",
          "Shooting",
          "Shooting",
          "Shooting",
          "Shooting",
          "Shooting",
          "Shooting",
          "Shooting",
          "Shooting",
          "Shooting",
          "Shooting",
          "Shooting",
          "Shooting",
          "Shooting",
          "Shooting",
          "Shooting",
          "Shooting",
          "Shooting",
          "Shooting",
          "Shooting",
          "Shooting",
          "Shooting",
          "Shooting",
          "Shooting",
          "Shooting",
          "Shooting",
          "Shooting",
          "Shooting",
          "Shooting",
          "Shooting",
          "Shooting",
          "Shooting",
          "Shooting",
          "Shooting",
          "Shooting",
          "Shooting",
          "Shooting",
          "Shooting",
          "Shooting",
          "Shooting",
          "Shooting",
          "Shooting",
          "Shooting",
          "Shooting",
          "Shooting",
          "Shooting",
          "Shooting",
          "Shooting",
          "Shooting",
          "Shooting",
          "Shooting",
          "Shooting",
          "Shooting",
          "Shooting",
          "Shooting",
          "Shooting",
          "Shooting",
          "Shooting",
          "Shooting",
          "Shooting",
          "Shooting",
          "Shooting",
          "Shooting",
          "Shooting",
          "Shooting",
          "Shooting",
          "Shooting",
          "Shooting",
          "Shooting",
          "Shooting",
          "Shooting",
          "Shooting",
          "Shooting",
          "Shooting",
          "Shooting",
          "Shooting",
          "Shooting",
          "Shooting",
          "Shooting",
          "Shooting",
          "Shooting",
          "Shooting",
          "Shooting",
          "Shooting",
          "Shooting",
          "Shooting",
          "Shooting",
          "Shooting",
          "Shooting",
          "Shooting",
          "Shooting",
          "Shooting",
          "Shooting",
          "Shooting",
          "Shooting",
          "Shooting",
          "Shooting",
          "Shooting",
          "Shooting",
          "Shooting",
          "Shooting",
          "Shooting",
          "Shooting",
          "Shooting",
          "Shooting",
          "Shooting",
          "Shooting",
          "Shooting",
          "Shooting",
          "Shooting",
          "Shooting",
          "Shooting",
          "Shooting",
          "Shooting",
          "Shooting",
          "Shooting",
          "Shooting",
          "Shooting",
          "Shooting",
          "Shooting",
          "Shooting",
          "Shooting",
          "Shooting",
          "Shooting",
          "Shooting",
          "Shooting",
          "Shooting",
          "Shooting",
          "Shooting",
          "Shooting",
          "Shooting",
          "Shooting",
          "Shooting",
          "Shooting",
          "Shooting",
          "Shooting",
          "Shooting",
          "Shooting",
          "Shooting",
          "Shooting",
          "Shooting",
          "Shooting",
          "Shooting",
          "Shooting",
          "Shooting",
          "Shooting",
          "Shooting",
          "Shooting",
          "Shooting",
          "Shooting",
          "Shooting",
          "Shooting",
          "Shooting",
          "Shooting",
          "Shooting",
          "Shooting",
          "Shooting",
          "Shooting",
          "Shooting",
          "Shooting",
          "Shooting",
          "Shooting",
          "Shooting",
          "Shooting",
          "Shooting",
          "Shooting",
          "Shooting",
          "Shooting",
          "Shooting",
          "Shooting",
          "Shooting",
          "Shooting",
          "Shooting",
          "Shooting",
          "Shooting",
          "Shooting",
          "Shooting",
          "Shooting",
          "Shooting",
          "Shooting",
          "Shooting",
          "Shooting",
          "Shooting",
          "Shooting",
          "Shooting",
          "Shooting",
          "Shooting",
          "Shooting",
          "Shooting",
          "Shooting",
          "Shooting",
          "Shooting",
          "Shooting",
          "Shooting",
          "Shooting",
          "Shooting",
          "Shooting",
          "Shooting",
          "Shooting",
          "Shooting",
          "Shooting",
          "Shooting",
          "Shooting",
          "Shooting",
          "Shooting",
          "Shooting",
          "Shooting",
          "Shooting",
          "Shooting",
          "Shooting",
          "Shooting",
          "Shooting",
          "Shooting",
          "Shooting",
          "Shooting",
          "Shooting",
          "Shooting",
          "Shooting",
          "Shooting",
          "Shooting",
          "Shooting",
          "Shooting",
          "Shooting",
          "Shooting",
          "Shooting",
          "Shooting",
          "Shooting",
          "Shooting",
          "Shooting",
          "Shooting",
          "Shooting",
          "Shooting",
          "Shooting",
          "Shooting",
          "Shooting",
          "Shooting",
          "Shooting",
          "Shooting",
          "Shooting",
          "Shooting",
          "Shooting",
          "Shooting",
          "Shooting",
          "Shooting",
          "Shooting",
          "Shooting",
          "Shooting",
          "Shooting",
          "Shooting",
          "Shooting",
          "Shooting",
          "Shooting",
          "Shooting",
          "Shooting",
          "Shooting",
          "Shooting",
          "Shooting",
          "Shooting",
          "Shooting",
          "Shooting",
          "Shooting",
          "Shooting",
          "Shooting",
          "Shooting",
          "Shooting",
          "Shooting",
          "Shooting",
          "Shooting",
          "Shooting",
          "Shooting",
          "Shooting",
          "Shooting",
          "Shooting",
          "Shooting",
          "Shooting",
          "Shooting",
          "Shooting",
          "Shooting",
          "Shooting",
          "Shooting",
          "Shooting",
          "Shooting",
          "Shooting",
          "Shooting",
          "Shooting",
          "Shooting",
          "Shooting",
          "Shooting",
          "Shooting",
          "Shooting",
          "Shooting",
          "Shooting",
          "Shooting",
          "Shooting",
          "Shooting",
          "Shooting",
          "Shooting",
          "Shooting",
          "Shooting",
          "Shooting",
          "Shooting",
          "Shooting",
          "Shooting",
          "Shooting",
          "Shooting",
          "Shooting",
          "Shooting",
          "Shooting",
          "Shooting",
          "Shooting",
          "Shooting",
          "Shooting",
          "Shooting",
          "Shooting",
          "Shooting",
          "Shooting",
          "Shooting",
          "Shooting",
          "Shooting",
          "Shooting",
          "Shooting",
          "Shooting",
          "Shooting",
          "Shooting",
          "Shooting",
          "Shooting",
          "Shooting",
          "Shooting",
          "Shooting",
          "Shooting",
          "Shooting",
          "Shooting",
          "Shooting",
          "Shooting",
          "Shooting",
          "Shooting",
          "Shooting",
          "Shooting",
          "Shooting",
          "Shooting",
          "Shooting",
          "Shooting",
          "Shooting",
          "Shooting",
          "Shooting",
          "Shooting",
          "Shooting",
          "Shooting",
          "Shooting",
          "Shooting",
          "Shooting",
          "Shooting",
          "Shooting",
          "Shooting",
          "Shooting",
          "Shooting",
          "Shooting",
          "Shooting",
          "Shooting",
          "Shooting",
          "Shooting",
          "Shooting",
          "Shooting",
          "Shooting",
          "Shooting",
          "Shooting",
          "Shooting",
          "Shooting",
          "Shooting",
          "Shooting",
          "Shooting",
          "Shooting",
          "Shooting",
          "Shooting",
          "Shooting",
          "Shooting",
          "Shooting",
          "Shooting",
          "Shooting",
          "Shooting",
          "Shooting",
          "Shooting",
          "Shooting",
          "Shooting",
          "Shooting",
          "Shooting",
          "Shooting",
          "Shooting",
          "Shooting",
          "Shooting",
          "Shooting",
          "Shooting",
          "Shooting",
          "Shooting",
          "Shooting",
          "Shooting",
          "Shooting",
          "Shooting",
          "Shooting",
          "Shooting",
          "Shooting",
          "Shooting",
          "Shooting",
          "Shooting",
          "Shooting",
          "Shooting",
          "Shooting",
          "Shooting",
          "Shooting",
          "Shooting",
          "Shooting",
          "Shooting",
          "Shooting",
          "Shooting",
          "Shooting",
          "Shooting",
          "Shooting",
          "Shooting",
          "Shooting",
          "Shooting",
          "Shooting",
          "Shooting",
          "Shooting",
          "Shooting",
          "Shooting",
          "Shooting",
          "Shooting",
          "Shooting",
          "Shooting",
          "Shooting",
          "Shooting",
          "Shooting",
          "Shooting",
          "Shooting",
          "Shooting",
          "Shooting",
          "Shooting",
          "Shooting",
          "Shooting",
          "Shooting",
          "Shooting",
          "Shooting",
          "Shooting",
          "Shooting",
          "Shooting",
          "Shooting",
          "Shooting",
          "Shooting",
          "Shooting",
          "Shooting",
          "Shooting",
          "Shooting",
          "Shooting",
          "Shooting",
          "Shooting",
          "Shooting",
          "Shooting",
          "Shooting",
          "Shooting",
          "Shooting",
          "Shooting",
          "Shooting",
          "Shooting",
          "Shooting",
          "Shooting",
          "Shooting",
          "Shooting",
          "Shooting",
          "Shooting",
          "Shooting",
          "Shooting",
          "Shooting",
          "Shooting",
          "Shooting",
          "Shooting",
          "Shooting",
          "Shooting",
          "Shooting",
          "Shooting",
          "Shooting",
          "Shooting",
          "Shooting",
          "Shooting",
          "Shooting",
          "Shooting",
          "Shooting",
          "Shooting",
          "Shooting",
          "Shooting",
          "Shooting",
          "Shooting",
          "Shooting",
          "Shooting",
          "Shooting",
          "Shooting",
          "Shooting",
          "Shooting",
          "Shooting",
          "Shooting",
          "Shooting",
          "Shooting",
          "Shooting",
          "Shooting",
          "Shooting",
          "Shooting",
          "Shooting",
          "Shooting",
          "Shooting",
          "Shooting",
          "Shooting",
          "Shooting",
          "Shooting",
          "Shooting",
          "Shooting",
          "Shooting",
          "Shooting",
          "Shooting",
          "Shooting",
          "Shooting",
          "Shooting",
          "Shooting",
          "Shooting",
          "Shooting",
          "Shooting",
          "Shooting",
          "Shooting",
          "Shooting",
          "Shooting",
          "Shooting",
          "Shooting",
          "Shooting",
          "Shooting",
          "Shooting",
          "Shooting",
          "Shooting",
          "Shooting",
          "Shooting",
          "Shooting",
          "Shooting",
          "Shooting",
          "Shooting",
          "Shooting",
          "Shooting",
          "Shooting",
          "Shooting",
          "Shooting",
          "Shooting",
          "Shooting",
          "Shooting",
          "Shooting",
          "Shooting",
          "Shooting",
          "Shooting",
          "Shooting",
          "Shooting",
          "Shooting",
          "Shooting",
          "Shooting",
          "Shooting",
          "Shooting",
          "Shooting",
          "Shooting",
          "Shooting",
          "Shooting",
          "Shooting",
          "Shooting",
          "Shooting",
          "Shooting",
          "Shooting",
          "Shooting",
          "Shooting",
          "Shooting",
          "Shooting",
          "Shooting",
          "Shooting",
          "Shooting",
          "Shooting",
          "Shooting",
          "Shooting",
          "Shooting",
          "Shooting",
          "Shooting",
          "Shooting",
          "Shooting",
          "Shooting",
          "Shooting",
          "Shooting",
          "Shooting",
          "Shooting",
          "Shooting",
          "Shooting",
          "Shooting",
          "Shooting",
          "Shooting",
          "Shooting",
          "Shooting",
          "Shooting",
          "Shooting",
          "Shooting",
          "Shooting",
          "Shooting",
          "Shooting",
          "Shooting",
          "Shooting",
          "Shooting",
          "Shooting",
          "Shooting",
          "Shooting",
          "Shooting",
          "Shooting",
          "Shooting",
          "Shooting",
          "Shooting",
          "Shooting",
          "Shooting",
          "Shooting",
          "Shooting",
          "Shooting",
          "Shooting",
          "Shooting",
          "Shooting",
          "Shooting",
          "Shooting",
          "Shooting",
          "Shooting",
          "Shooting",
          "Shooting",
          "Shooting",
          "Shooting",
          "Shooting",
          "Shooting",
          "Shooting",
          "Shooting",
          "Shooting",
          "Shooting",
          "Shooting",
          "Shooting",
          "Shooting",
          "Shooting",
          "Shooting",
          "Shooting",
          "Shooting",
          "Shooting",
          "Shooting",
          "Shooting",
          "Shooting",
          "Shooting",
          "Shooting",
          "Shooting",
          "Shooting",
          "Shooting",
          "Shooting",
          "Shooting",
          "Shooting",
          "Shooting",
          "Shooting",
          "Shooting",
          "Shooting",
          "Shooting",
          "Shooting",
          "Shooting",
          "Shooting",
          "Shooting",
          "Shooting",
          "Shooting",
          "Shooting",
          "Shooting",
          "Shooting",
          "Shooting",
          "Shooting",
          "Shooting",
          "Shooting",
          "Shooting",
          "Shooting",
          "Shooting",
          "Shooting",
          "Shooting",
          "Shooting",
          "Shooting",
          "Shooting",
          "Shooting",
          "Shooting",
          "Shooting",
          "Shooting",
          "Shooting",
          "Shooting",
          "Shooting",
          "Shooting",
          "Shooting",
          "Shooting",
          "Shooting",
          "Shooting",
          "Shooting",
          "Shooting",
          "Shooting",
          "Shooting",
          "Shooting",
          "Shooting",
          "Shooting",
          "Shooting",
          "Shooting",
          "Shooting",
          "Shooting",
          "Shooting",
          "Shooting",
          "Shooting",
          "Shooting",
          "Shooting",
          "Shooting",
          "Shooting",
          "Shooting",
          "Shooting",
          "Shooting",
          "Shooting",
          "Shooting",
          "Shooting",
          "Shooting",
          "Shooting",
          "Shooting",
          "Shooting",
          "Shooting",
          "Shooting",
          "Shooting",
          "Shooting",
          "Shooting",
          "Shooting",
          "Shooting",
          "Shooting",
          "Shooting",
          "Shooting",
          "Shooting",
          "Shooting",
          "Shooting",
          "Shooting",
          "Shooting",
          "Shooting",
          "Shooting",
          "Shooting",
          "Shooting",
          "Shooting",
          "Shooting",
          "Shooting",
          "Shooting",
          "Shooting",
          "Shooting",
          "Shooting",
          "Shooting",
          "Shooting",
          "Shooting",
          "Shooting",
          "Shooting",
          "Shooting",
          "Shooting",
          "Shooting",
          "Shooting",
          "Shooting",
          "Shooting",
          "Shooting",
          "Shooting",
          "Shooting",
          "Shooting",
          "Shooting",
          "Shooting",
          "Shooting",
          "Shooting",
          "Shooting",
          "Shooting",
          "Shooting",
          "Shooting",
          "Shooting",
          "Shooting",
          "Shooting",
          "Shooting",
          "Shooting",
          "Shooting",
          "Shooting",
          "Shooting",
          "Shooting",
          "Shooting",
          "Shooting",
          "Shooting",
          "Shooting",
          "Shooting",
          "Shooting",
          "Shooting",
          "Shooting",
          "Shooting",
          "Shooting",
          "Shooting",
          "Shooting",
          "Shooting",
          "Shooting",
          "Shooting",
          "Shooting",
          "Shooting",
          "Shooting",
          "Shooting",
          "Shooting",
          "Shooting",
          "Shooting",
          "Shooting",
          "Shooting",
          "Shooting",
          "Shooting",
          "Shooting",
          "Shooting",
          "Shooting",
          "Shooting",
          "Shooting",
          "Shooting",
          "Shooting",
          "Shooting",
          "Shooting",
          "Shooting",
          "Shooting",
          "Shooting",
          "Shooting",
          "Shooting",
          "Shooting",
          "Shooting",
          "Shooting",
          "Shooting",
          "Shooting",
          "Shooting",
          "Shooting",
          "Shooting",
          "Shooting",
          "Shooting",
          "Shooting",
          "Shooting",
          "Shooting",
          "Shooting",
          "Shooting",
          "Shooting",
          "Shooting",
          "Shooting",
          "Shooting",
          "Shooting",
          "Shooting",
          "Shooting",
          "Shooting",
          "Shooting",
          "Shooting",
          "Shooting",
          "Shooting",
          "Shooting",
          "Shooting",
          "Shooting",
          "Shooting",
          "Shooting",
          "Shooting",
          "Shooting",
          "Shooting",
          "Shooting",
          "Shooting",
          "Shooting",
          "Shooting",
          "Shooting",
          "Shooting",
          "Shooting",
          "Shooting",
          "Shooting",
          "Shooting",
          "Shooting",
          "Shooting",
          "Shooting",
          "Shooting",
          "Shooting",
          "Shooting",
          "Shooting",
          "Shooting",
          "Shooting",
          "Shooting",
          "Shooting",
          "Shooting",
          "Shooting",
          "Shooting",
          "Shooting",
          "Shooting",
          "Shooting",
          "Shooting",
          "Shooting",
          "Shooting",
          "Shooting",
          "Shooting",
          "Shooting",
          "Shooting",
          "Shooting",
          "Shooting",
          "Shooting",
          "Shooting",
          "Shooting",
          "Shooting",
          "Shooting",
          "Shooting",
          "Shooting",
          "Shooting",
          "Shooting",
          "Shooting",
          "Shooting",
          "Shooting",
          "Shooting",
          "Shooting",
          "Shooting",
          "Shooting",
          "Shooting",
          "Shooting",
          "Shooting",
          "Shooting",
          "Shooting",
          "Shooting",
          "Shooting",
          "Shooting",
          "Shooting",
          "Shooting",
          "Shooting",
          "Shooting",
          "Shooting",
          "Shooting",
          "Shooting",
          "Shooting",
          "Shooting",
          "Shooting",
          "Shooting",
          "Shooting",
          "Shooting",
          "Shooting",
          "Shooting",
          "Shooting",
          "Shooting",
          "Shooting",
          "Shooting",
          "Shooting",
          "Shooting",
          "Shooting",
          "Shooting",
          "Shooting",
          "Shooting",
          "Shooting",
          "Shooting",
          "Shooting",
          "Shooting",
          "Shooting",
          "Shooting",
          "Shooting",
          "Shooting",
          "Shooting",
          "Shooting",
          "Shooting",
          "Shooting",
          "Shooting",
          "Shooting",
          "Shooting",
          "Shooting",
          "Shooting",
          "Shooting",
          "Shooting",
          "Shooting",
          "Shooting",
          "Shooting",
          "Shooting",
          "Shooting",
          "Shooting",
          "Shooting",
          "Shooting",
          "Shooting",
          "Shooting",
          "Shooting",
          "Shooting",
          "Shooting",
          "Shooting",
          "Shooting",
          "Shooting",
          "Shooting",
          "Shooting",
          "Shooting",
          "Shooting",
          "Shooting",
          "Shooting",
          "Shooting",
          "Shooting",
          "Shooting",
          "Shooting",
          "Shooting",
          "Shooting",
          "Shooting",
          "Shooting",
          "Shooting",
          "Shooting",
          "Shooting",
          "Shooting",
          "Shooting",
          "Shooting",
          "Shooting",
          "Shooting",
          "Shooting",
          "Shooting",
          "Shooting",
          "Shooting",
          "Shooting",
          "Shooting",
          "Shooting",
          "Shooting",
          "Shooting",
          "Shooting",
          "Shooting",
          "Shooting",
          "Shooting",
          "Shooting",
          "Shooting",
          "Shooting",
          "Shooting",
          "Shooting",
          "Shooting",
          "Shooting",
          "Shooting",
          "Shooting",
          "Shooting",
          "Shooting",
          "Shooting",
          "Shooting",
          "Shooting",
          "Shooting",
          "Shooting",
          "Shooting",
          "Shooting",
          "Shooting",
          "Shooting",
          "Shooting",
          "Shooting",
          "Shooting",
          "Shooting",
          "Shooting",
          "Shooting",
          "Shooting",
          "Shooting",
          "Shooting",
          "Shooting",
          "Shooting",
          "Shooting",
          "Shooting",
          "Shooting",
          "Shooting",
          "Shooting",
          "Shooting",
          "Shooting",
          "Shooting",
          "Shooting",
          "Shooting",
          "Shooting",
          "Shooting",
          "Shooting",
          "Shooting",
          "Shooting",
          "Shooting",
          "Shooting",
          "Shooting",
          "Shooting",
          "Shooting",
          "Shooting",
          "Shooting",
          "Shooting",
          "Shooting",
          "Shooting",
          "Shooting",
          "Shooting",
          "Shooting",
          "Shooting",
          "Shooting",
          "Shooting",
          "Shooting",
          "Shooting",
          "Shooting",
          "Shooting",
          "Shooting",
          "Shooting",
          "Shooting",
          "Shooting",
          "Shooting",
          "Shooting",
          "Shooting",
          "Shooting",
          "Shooting",
          "Shooting",
          "Shooting",
          "Shooting",
          "Shooting",
          "Shooting",
          "Shooting",
          "Shooting",
          "Shooting",
          "Shooting",
          "Shooting",
          "Shooting",
          "Shooting",
          "Shooting",
          "Shooting",
          "Shooting",
          "Shooting",
          "Shooting",
          "Shooting",
          "Shooting",
          "Shooting",
          "Shooting",
          "Shooting",
          "Shooting",
          "Shooting",
          "Shooting",
          "Shooting",
          "Shooting",
          "Shooting",
          "Shooting",
          "Shooting",
          "Shooting",
          "Shooting",
          "Shooting",
          "Shooting",
          "Shooting",
          "Shooting",
          "Shooting",
          "Shooting",
          "Shooting",
          "Shooting",
          "Shooting",
          "Shooting",
          "Shooting",
          "Shooting",
          "Shooting",
          "Shooting",
          "Shooting",
          "Shooting",
          "Shooting",
          "Shooting",
          "Shooting",
          "Shooting",
          "Shooting",
          "Shooting",
          "Shooting",
          "Shooting",
          "Shooting",
          "Shooting",
          "Shooting",
          "Shooting",
          "Shooting",
          "Shooting",
          "Shooting",
          "Shooting",
          "Shooting",
          "Shooting",
          "Shooting",
          "Shooting",
          "Shooting",
          "Shooting",
          "Shooting",
          "Shooting",
          "Shooting",
          "Shooting",
          "Shooting",
          "Shooting",
          "Shooting",
          "Shooting",
          "Shooting",
          "Shooting",
          "Shooting",
          "Shooting",
          "Shooting",
          "Shooting",
          "Shooting",
          "Shooting",
          "Shooting",
          "Shooting",
          "Shooting",
          "Shooting",
          "Shooting",
          "Shooting",
          "Shooting",
          "Shooting",
          "Shooting",
          "Shooting",
          "Shooting",
          "Shooting",
          "Shooting",
          "Shooting",
          "Shooting",
          "Shooting",
          "Shooting",
          "Shooting",
          "Shooting",
          "Shooting",
          "Shooting",
          "Shooting",
          "Shooting",
          "Shooting",
          "Shooting",
          "Shooting",
          "Shooting",
          "Shooting",
          "Shooting",
          "Shooting",
          "Shooting",
          "Shooting",
          "Shooting",
          "Shooting",
          "Shooting",
          "Shooting",
          "Shooting",
          "Shooting",
          "Shooting",
          "Shooting",
          "Shooting",
          "Shooting",
          "Shooting",
          "Shooting",
          "Shooting",
          "Shooting",
          "Shooting",
          "Shooting",
          "Shooting",
          "Shooting",
          "Shooting",
          "Shooting",
          "Shooting",
          "Shooting",
          "Shooting",
          "Shooting",
          "Shooting",
          "Shooting",
          "Shooting",
          "Shooting",
          "Shooting",
          "Shooting",
          "Shooting",
          "Shooting",
          "Shooting",
          "Shooting",
          "Shooting",
          "Shooting",
          "Shooting",
          "Shooting",
          "Shooting",
          "Shooting",
          "Shooting",
          "Shooting",
          "Shooting",
          "Shooting",
          "Shooting",
          "Shooting",
          "Shooting",
          "Shooting",
          "Shooting",
          "Shooting",
          "Shooting",
          "Shooting",
          "Shooting",
          "Shooting",
          "Shooting",
          "Shooting",
          "Shooting",
          "Shooting",
          "Shooting",
          "Shooting",
          "Shooting",
          "Shooting",
          "Shooting",
          "Shooting",
          "Shooting",
          "Shooting",
          "Shooting",
          "Shooting",
          "Shooting",
          "Shooting",
          "Shooting",
          "Shooting",
          "Shooting",
          "Shooting",
          "Shooting",
          "Shooting",
          "Shooting",
          "Shooting",
          "Shooting",
          "Shooting",
          "Shooting",
          "Shooting",
          "Shooting",
          "Shooting",
          "Shooting",
          "Shooting",
          "Shooting",
          "Shooting",
          "Shooting",
          "Shooting",
          "Shooting",
          "Shooting",
          "Shooting",
          "Shooting",
          "Shooting",
          "Shooting",
          "Shooting",
          "Shooting",
          "Shooting",
          "Shooting",
          "Shooting",
          "Shooting",
          "Shooting",
          "Shooting",
          "Shooting",
          "Shooting",
          "Shooting",
          "Shooting",
          "Shooting",
          "Shooting",
          "Shooting",
          "Shooting",
          "Shooting",
          "Shooting",
          "Shooting",
          "Shooting",
          "Shooting",
          "Shooting",
          "Shooting",
          "Shooting",
          "Shooting",
          "Shooting",
          "Shooting",
          "Shooting",
          "Shooting",
          "Shooting",
          "Shooting",
          "Shooting",
          "Shooting",
          "Shooting",
          "Shooting",
          "Shooting",
          "Shooting",
          "Shooting",
          "Shooting",
          "Shooting",
          "Shooting",
          "Shooting",
          "Shooting",
          "Shooting",
          "Shooting",
          "Shooting",
          "Shooting",
          "Shooting",
          "Shooting",
          "Shooting",
          "Shooting",
          "Shooting",
          "Shooting",
          "Shooting",
          "Shooting",
          "Shooting",
          "Shooting",
          "Shooting",
          "Shooting",
          "Shooting",
          "Shooting",
          "Shooting",
          "Shooting",
          "Shooting",
          "Shooting",
          "Shooting",
          "Shooting",
          "Shooting",
          "Shooting",
          "Shooting",
          "Shooting",
          "Shooting",
          "Shooting",
          "Shooting",
          "Shooting",
          "Shooting",
          "Shooting",
          "Shooting",
          "Shooting",
          "Shooting",
          "Shooting",
          "Shooting",
          "Shooting",
          "Shooting",
          "Shooting",
          "Shooting",
          "Shooting",
          "Shooting",
          "Shooting",
          "Shooting",
          "Shooting",
          "Shooting",
          "Shooting",
          "Shooting",
          "Shooting",
          "Shooting",
          "Shooting",
          "Shooting",
          "Shooting",
          "Shooting",
          "Shooting",
          "Shooting",
          "Shooting",
          "Shooting",
          "Shooting",
          "Shooting",
          "Shooting",
          "Shooting",
          "Shooting",
          "Shooting",
          "Shooting",
          "Shooting",
          "Shooting",
          "Shooting",
          "Shooting",
          "Shooting",
          "Shooting",
          "Shooting",
          "Shooting",
          "Shooting",
          "Shooting",
          "Shooting",
          "Shooting",
          "Shooting",
          "Shooting",
          "Shooting",
          "Shooting",
          "Shooting",
          "Shooting",
          "Shooting",
          "Shooting",
          "Shooting",
          "Shooting",
          "Shooting",
          "Shooting",
          "Shooting",
          "Shooting",
          "Shooting",
          "Shooting",
          "Shooting",
          "Shooting",
          "Shooting",
          "Shooting",
          "Shooting",
          "Shooting",
          "Shooting",
          "Shooting",
          "Shooting",
          "Shooting",
          "Shooting",
          "Shooting",
          "Shooting",
          "Shooting",
          "Shooting",
          "Shooting",
          "Shooting",
          "Shooting",
          "Shooting",
          "Shooting",
          "Shooting",
          "Shooting",
          "Shooting",
          "Shooting",
          "Shooting",
          "Shooting",
          "Shooting",
          "Shooting",
          "Shooting",
          "Shooting",
          "Shooting",
          "Shooting",
          "Shooting",
          "Shooting",
          "Shooting",
          "Shooting",
          "Shooting",
          "Shooting",
          "Shooting",
          "Shooting",
          "Shooting",
          "Shooting",
          "Shooting",
          "Shooting",
          "Shooting",
          "Shooting",
          "Shooting",
          "Shooting",
          "Shooting",
          "Shooting",
          "Shooting",
          "Shooting",
          "Shooting",
          "Shooting",
          "Shooting",
          "Shooting",
          "Shooting",
          "Shooting",
          "Shooting",
          "Shooting",
          "Shooting",
          "Shooting",
          "Shooting",
          "Shooting",
          "Shooting",
          "Shooting",
          "Shooting",
          "Shooting",
          "Shooting",
          "Shooting",
          "Shooting",
          "Shooting",
          "Shooting",
          "Shooting",
          "Shooting",
          "Shooting",
          "Shooting",
          "Shooting",
          "Shooting",
          "Shooting",
          "Shooting",
          "Shooting",
          "Shooting",
          "Shooting",
          "Shooting",
          "Shooting",
          "Shooting",
          "Shooting",
          "Shooting",
          "Shooting",
          "Shooting",
          "Shooting",
          "Shooting",
          "Shooting",
          "Shooting",
          "Shooting",
          "Shooting",
          "Shooting",
          "Shooting",
          "Shooting",
          "Shooting",
          "Shooting",
          "Shooting",
          "Shooting",
          "Shooting",
          "Shooting",
          "Shooting",
          "Shooting",
          "Shooting",
          "Shooting",
          "Shooting",
          "Shooting",
          "Shooting",
          "Shooting",
          "Shooting",
          "Shooting",
          "Shooting",
          "Shooting",
          "Shooting",
          "Shooting",
          "Shooting",
          "Shooting",
          "Shooting",
          "Shooting",
          "Shooting",
          "Shooting",
          "Shooting",
          "Shooting",
          "Shooting",
          "Shooting",
          "Shooting",
          "Shooting",
          "Shooting",
          "Shooting",
          "Shooting",
          "Shooting",
          "Shooting",
          "Shooting",
          "Shooting",
          "Shooting",
          "Shooting",
          "Shooting",
          "Shooting",
          "Shooting",
          "Shooting",
          "Shooting",
          "Shooting",
          "Shooting",
          "Shooting",
          "Shooting",
          "Shooting",
          "Shooting",
          "Shooting",
          "Shooting",
          "Shooting",
          "Shooting",
          "Shooting",
          "Shooting",
          "Shooting",
          "Shooting",
          "Shooting",
          "Shooting",
          "Shooting",
          "Shooting",
          "Shooting",
          "Shooting",
          "Shooting",
          "Shooting",
          "Shooting",
          "Shooting",
          "Shooting",
          "Shooting",
          "Shooting",
          "Shooting",
          "Shooting",
          "Shooting",
          "Shooting",
          "Shooting",
          "Shooting",
          "Shooting",
          "Shooting",
          "Shooting",
          "Shooting",
          "Shooting",
          "Shooting",
          "Shooting",
          "Shooting",
          "Shooting",
          "Shooting",
          "Shooting",
          "Shooting",
          "Shooting",
          "Shooting",
          "Shooting",
          "Shooting",
          "Shooting",
          "Shooting",
          "Shooting",
          "Shooting",
          "Shooting",
          "Shooting",
          "Shooting",
          "Shooting",
          "Shooting",
          "Shooting",
          "Shooting",
          "Shooting",
          "Shooting",
          "Shooting",
          "Shooting",
          "Shooting",
          "Shooting",
          "Shooting",
          "Shooting",
          "Shooting",
          "Shooting",
          "Shooting",
          "Shooting",
          "Shooting",
          "Shooting",
          "Shooting",
          "Shooting",
          "Shooting",
          "Shooting",
          "Shooting",
          "Shooting",
          "Shooting",
          "Shooting",
          "Shooting",
          "Shooting",
          "Shooting",
          "Shooting",
          "Shooting",
          "Shooting",
          "Shooting",
          "Shooting",
          "Shooting",
          "Shooting",
          "Shooting",
          "Shooting",
          "Shooting",
          "Shooting",
          "Shooting",
          "Shooting",
          "Shooting",
          "Shooting",
          "Shooting",
          "Shooting",
          "Shooting",
          "Shooting",
          "Shooting",
          "Shooting",
          "Shooting",
          "Shooting",
          "Shooting",
          "Shooting",
          "Shooting",
          "Shooting",
          "Shooting",
          "Shooting",
          "Shooting",
          "Shooting",
          "Shooting",
          "Shooting",
          "Shooting",
          "Shooting",
          "Shooting",
          "Shooting",
          "Shooting",
          "Shooting",
          "Shooting",
          "Shooting",
          "Shooting",
          "Shooting",
          "Shooting",
          "Shooting",
          "Shooting",
          "Shooting",
          "Shooting",
          "Shooting",
          "Shooting",
          "Shooting",
          "Shooting",
          "Shooting",
          "Shooting",
          "Shooting",
          "Shooting",
          "Shooting",
          "Shooting",
          "Shooting",
          "Shooting",
          "Shooting",
          "Shooting",
          "Shooting",
          "Shooting",
          "Shooting",
          "Shooting",
          "Shooting",
          "Shooting",
          "Shooting",
          "Shooting",
          "Shooting",
          "Shooting",
          "Shooting",
          "Shooting",
          "Shooting",
          "Shooting",
          "Shooting",
          "Shooting",
          "Shooting",
          "Shooting",
          "Shooting",
          "Shooting",
          "Shooting",
          "Shooting",
          "Shooting",
          "Shooting",
          "Shooting",
          "Shooting",
          "Shooting",
          "Shooting",
          "Shooting",
          "Shooting",
          "Shooting",
          "Shooting",
          "Shooting",
          "Shooting",
          "Shooting",
          "Shooting",
          "Shooting",
          "Shooting",
          "Shooting",
          "Shooting",
          "Shooting",
          "Shooting",
          "Shooting",
          "Shooting",
          "Shooting",
          "Shooting",
          "Shooting",
          "Shooting",
          "Shooting",
          "Shooting",
          "Shooting",
          "Shooting",
          "Shooting",
          "Shooting",
          "Shooting",
          "Shooting",
          "Shooting",
          "Shooting",
          "Shooting",
          "Shooting",
          "Shooting",
          "Shooting",
          "Shooting",
          "Shooting",
          "Shooting",
          "Shooting",
          "Shooting",
          "Shooting",
          "Shooting",
          "Shooting",
          "Shooting",
          "Shooting",
          "Shooting",
          "Shooting",
          "Shooting",
          "Shooting",
          "Shooting",
          "Shooting",
          "Shooting",
          "Shooting",
          "Shooting",
          "Shooting",
          "Shooting",
          "Shooting",
          "Shooting",
          "Shooting",
          "Shooting",
          "Shooting",
          "Shooting",
          "Shooting",
          "Shooting",
          "Shooting",
          "Shooting",
          "Shooting",
          "Shooting",
          "Shooting",
          "Shooting",
          "Shooting",
          "Shooting",
          "Shooting",
          "Shooting",
          "Shooting",
          "Shooting",
          "Shooting",
          "Shooting",
          "Shooting",
          "Shooting",
          "Shooting",
          "Shooting",
          "Shooting",
          "Shooting",
          "Shooting",
          "Shooting",
          "Shooting",
          "Shooting",
          "Shooting",
          "Shooting",
          "Shooting",
          "Shooting",
          "Shooting",
          "Shooting",
          "Shooting",
          "Shooting",
          "Shooting",
          "Shooting",
          "Shooting",
          "Shooting",
          "Shooting",
          "Shooting",
          "Shooting",
          "Shooting",
          "Shooting",
          "Shooting"
         ],
         "type": "scattermapbox"
        },
        {
         "customdata": [
          [
           "2022/05/29 04:00:00+00",
           "904 Hudson Ave"
          ],
          [
           "2022/05/08 04:00:00+00",
           "610 N Plymouth Ave"
          ],
          [
           "2022/05/01 04:00:00+00",
           "256 Driving Park Ave"
          ],
          [
           "2022/04/24 04:00:00+00",
           "398 W Main St"
          ],
          [
           "2022/04/15 04:00:00+00",
           "15 Phelps Ave"
          ],
          [
           "2022/04/10 04:00:00+00",
           "836 N Goodman Ave"
          ],
          [
           "2022/04/09 04:00:00+00",
           "572 Chili Ave"
          ],
          [
           "2022/04/09 04:00:00+00",
           "100 Ave A"
          ],
          [
           "2022/03/21 04:00:00+00",
           "165 E Ridge Rd"
          ],
          [
           "2022/03/19 04:00:00+00",
           "215 E Ridge Rd"
          ],
          [
           "2022/03/14 04:00:00+00",
           "219 Wetmore Pk"
          ],
          [
           "2022/03/13 05:00:00+00",
           "471 State St"
          ],
          [
           "2022/03/13 05:00:00+00",
           "471 State St"
          ],
          [
           "2022/03/12 05:00:00+00",
           "859 Bay St"
          ],
          [
           "2022/03/11 05:00:00+00",
           "184 Otis St"
          ],
          [
           "2022/03/08 05:00:00+00",
           "25 Peckham St"
          ],
          [
           "2022/02/26 05:00:00+00",
           "57 Rialto St"
          ],
          [
           "2021/11/02 04:00:00+00",
           "24 Peckham St"
          ],
          [
           "2021/10/31 04:00:00+00",
           "1514 Dewey Ave"
          ],
          [
           "2021/10/20 04:00:00+00",
           "7 Lamont Pl"
          ],
          [
           "2021/10/07 04:00:00+00",
           "5 Thomas St"
          ],
          [
           "2021/09/19 04:00:00+00",
           "333 Driving Park Ave"
          ],
          [
           "2021/09/19 04:00:00+00",
           "333 Driving Park Ave"
          ],
          [
           "2021/09/16 04:00:00+00",
           "633 Lake Ave  #2"
          ],
          [
           "2021/09/11 04:00:00+00",
           "3 Upton Pk"
          ],
          [
           "2021/09/11 04:00:00+00",
           "102 Handy St"
          ],
          [
           "2021/09/05 04:00:00+00",
           "272 Avenue A"
          ],
          [
           "2021/08/30 04:00:00+00",
           "105 Harris St"
          ],
          [
           "2021/08/30 04:00:00+00",
           "108 Sherman St"
          ],
          [
           "2021/08/29 04:00:00+00",
           "250 Monroe Ave"
          ],
          [
           "2021/08/28 04:00:00+00",
           "320 Flower City Park"
          ],
          [
           "2021/05/12 04:00:00+00",
           "5 Gladys St"
          ],
          [
           "2021/05/03 04:00:00+00",
           "9 Cameron St"
          ],
          [
           "2021/04/18 04:00:00+00",
           "213 Hayward Ave"
          ],
          [
           "2021/04/09 04:00:00+00",
           "487 Monroe Ave"
          ],
          [
           "2021/04/08 04:00:00+00",
           "55 Mead St"
          ],
          [
           "2021/03/30 04:00:00+00",
           "366 1st St"
          ],
          [
           "2021/03/29 04:00:00+00",
           "799 N Clinton Ave"
          ],
          [
           "2021/03/29 04:00:00+00",
           "1688 Clifford Ave"
          ],
          [
           "2021/03/24 04:00:00+00",
           "1298 Dewey Ave"
          ],
          [
           "2021/03/23 04:00:00+00",
           "34 Forbes St"
          ],
          [
           "2020/06/08 04:00:00+00",
           "837 Lake Ave"
          ],
          [
           "2020/05/27 04:00:00+00",
           "1298 Dewey Ave"
          ],
          [
           "2020/04/29 04:00:00+00",
           "197 Genesee St"
          ],
          [
           "2020/04/28 04:00:00+00",
           "202 Grand Ave"
          ],
          [
           "2020/04/12 04:00:00+00",
           "1271 Clifford Ave"
          ],
          [
           "2020/04/01 04:00:00+00",
           "33 Suter Ter"
          ],
          [
           "2020/03/28 04:00:00+00",
           "412 Ave D"
          ],
          [
           "2020/03/21 04:00:00+00",
           "17 Roycroft Dr"
          ],
          [
           "2020/03/08 05:00:00+00",
           "51 Sander St"
          ],
          [
           "2020/01/31 05:00:00+00",
           "101 Avenue E"
          ],
          [
           "2019/12/27 05:00:00+00",
           "112 Lyell Ave"
          ],
          [
           "2019/12/27 05:00:00+00",
           "9 Copeland St"
          ],
          [
           "2022/02/14 05:00:00+00",
           "56 Pardee St"
          ],
          [
           "2022/02/09 05:00:00+00",
           "540 Portland Ave"
          ],
          [
           "2022/01/23 05:00:00+00",
           "453 Lyell Ave"
          ],
          [
           "2022/01/19 05:00:00+00",
           "1233 N Clinton Ave"
          ],
          [
           "2022/01/02 05:00:00+00",
           "125 North St"
          ],
          [
           "2021/12/17 05:00:00+00",
           "29 Bennington Dr"
          ],
          [
           "2021/12/12 05:00:00+00",
           "158 Orchard St"
          ],
          [
           "2021/12/04 05:00:00+00",
           "72 Watkin Ter"
          ],
          [
           "2021/11/26 05:00:00+00",
           "205 Cummings St"
          ],
          [
           "2021/11/26 05:00:00+00",
           "1441 N Clinton Ave"
          ],
          [
           "2021/11/13 05:00:00+00",
           "380 W Ridge Rd"
          ],
          [
           "2021/11/13 05:00:00+00",
           "66 Pioneer St"
          ],
          [
           "2021/11/13 05:00:00+00",
           "8 Athens St"
          ],
          [
           "2021/11/12 05:00:00+00",
           "493 West Ave"
          ],
          [
           "2021/11/11 05:00:00+00",
           "35 Chestnut St"
          ],
          [
           "2021/11/11 05:00:00+00",
           "35 Chestnut St"
          ],
          [
           "2021/11/11 05:00:00+00",
           "60 St Paul St"
          ],
          [
           "2020/11/08 05:00:00+00",
           "439 Central Ave"
          ],
          [
           "2020/11/01 04:00:00+00",
           "429 State St"
          ],
          [
           "2020/11/01 04:00:00+00",
           "429 State St"
          ],
          [
           "2020/10/31 04:00:00+00",
           "714 N Clinton Ave"
          ],
          [
           "2020/10/27 04:00:00+00",
           "420 Frost Ave"
          ],
          [
           "2020/10/25 04:00:00+00",
           "105 Colvin St"
          ],
          [
           "2020/10/02 04:00:00+00",
           "40 Trenaman St"
          ],
          [
           "2020/09/25 04:00:00+00",
           "218 Emerson St"
          ],
          [
           "2020/09/19 04:00:00+00",
           "278 Pennsylvania Ave"
          ],
          [
           "2020/09/19 04:00:00+00",
           "278 Pennsylvania Ave"
          ],
          [
           "2020/09/13 04:00:00+00",
           "357 Bernard St"
          ],
          [
           "2020/09/11 04:00:00+00",
           "100 Culver Rd "
          ],
          [
           "2020/09/06 04:00:00+00",
           "6 Fulton Ave"
          ],
          [
           "2020/08/24 04:00:00+00",
           "1 Moore Rd"
          ],
          [
           "2021/03/20 04:00:00+00",
           "548 W Main St"
          ],
          [
           "2021/03/18 04:00:00+00",
           "198 Emerson St"
          ],
          [
           "2021/03/14 05:00:00+00",
           "426 Glenwood Ave"
          ],
          [
           "2021/02/25 05:00:00+00",
           "39 Lapham St"
          ],
          [
           "2021/02/14 05:00:00+00",
           "809 S Clinton Ave"
          ],
          [
           "2021/02/01 05:00:00+00",
           "424 Lyell Ave"
          ],
          [
           "2020/12/31 05:00:00+00",
           "1 Bardin St"
          ],
          [
           "2020/12/29 05:00:00+00",
           "886 N Clinton Ave"
          ],
          [
           "2020/12/23 05:00:00+00",
           "23 Elgin St"
          ],
          [
           "2020/12/19 05:00:00+00",
           "50 Resolute Cir"
          ],
          [
           "2020/12/11 05:00:00+00",
           "917 N Clinton Ave"
          ],
          [
           "2020/11/19 05:00:00+00",
           "36 Clairmount St"
          ],
          [
           "2020/11/11 05:00:00+00",
           "67 Ketchum St"
          ],
          [
           "2020/08/13 04:00:00+00",
           "567 W Main St"
          ],
          [
           "2020/08/13 04:00:00+00",
           "567 W Main St"
          ],
          [
           "2020/08/04 04:00:00+00",
           "19 Wabash St"
          ],
          [
           "2020/07/31 04:00:00+00",
           "66 OK Ter"
          ],
          [
           "2020/07/22 04:00:00+00",
           "207 Orchard St"
          ],
          [
           "2020/07/07 04:00:00+00",
           "103 Coleman Ter"
          ],
          [
           "2020/07/06 04:00:00+00",
           "184 Flanders St"
          ],
          [
           "2020/06/30 04:00:00+00",
           "8 Ernst St"
          ],
          [
           "2020/06/19 04:00:00+00",
           "421 Bernard St"
          ],
          [
           "2020/06/19 04:00:00+00",
           "1226 N Clinton "
          ],
          [
           "2020/06/19 04:00:00+00",
           "31 Bardin St"
          ],
          [
           "2020/06/14 04:00:00+00",
           "1616 N Clinton Ave"
          ],
          [
           "2021/08/12 04:00:00+00",
           "124 Maryland St"
          ],
          [
           "2019/12/15 05:00:00+00",
           "201 Hayward Ave"
          ],
          [
           "2019/09/29 04:00:00+00",
           "238 Orchard St"
          ],
          [
           "2019/09/07 04:00:00+00",
           "184 McKinley St"
          ],
          [
           "2019/08/29 04:00:00+00",
           "75 Bay St"
          ],
          [
           "2019/08/15 04:00:00+00",
           "215 4th St"
          ],
          [
           "2019/08/03 04:00:00+00",
           "25 Fulton Ave"
          ],
          [
           "2019/07/10 04:00:00+00",
           "50 Brookdale Ave"
          ],
          [
           "2019/07/10 04:00:00+00",
           "15 Ernst St"
          ],
          [
           "2019/07/08 04:00:00+00",
           "34 Backus St"
          ],
          [
           "2019/07/07 04:00:00+00",
           "201 Clairmount St"
          ],
          [
           "2019/06/30 04:00:00+00",
           "18 Mohawk St"
          ],
          [
           "2019/06/26 04:00:00+00",
           "27 Fifth St"
          ],
          [
           "2019/06/10 04:00:00+00",
           "103 4th St"
          ],
          [
           "2021/08/07 04:00:00+00",
           "537 Hague St"
          ],
          [
           "2021/07/29 04:00:00+00",
           "98 Lyell Ave"
          ],
          [
           "2021/07/14 04:00:00+00",
           "86 Karnes St"
          ],
          [
           "2021/07/04 04:00:00+00",
           "530 Lexington Ave"
          ],
          [
           "2021/07/02 04:00:00+00",
           "151 Seward St"
          ],
          [
           "2021/06/28 04:00:00+00",
           "1490 Hudson Ave"
          ],
          [
           "2021/06/28 04:00:00+00",
           "1490 Hudson Ave"
          ],
          [
           "2021/06/23 04:00:00+00",
           "536 Jay St"
          ],
          [
           "2021/06/21 04:00:00+00",
           "156 Dr Samuel McCree Way"
          ],
          [
           "2021/06/18 04:00:00+00",
           "24 Garden St"
          ],
          [
           "2021/06/17 04:00:00+00",
           "750 Genesee St"
          ],
          [
           "2021/06/16 04:00:00+00",
           "595 Jefferson Ave"
          ],
          [
           "2021/06/12 04:00:00+00",
           "682 Genesee St"
          ],
          [
           "2021/06/04 04:00:00+00",
           "142 Weld St"
          ],
          [
           "2016/11/07 05:00:00+00",
           "581 Jefferson Ave"
          ],
          [
           "2016/10/08 04:00:00+00",
           "8 Bay St"
          ],
          [
           "2016/09/30 04:00:00+00",
           "19 Sander St"
          ],
          [
           "2016/09/12 04:00:00+00",
           "1264 N. Clinton Ave"
          ],
          [
           "2016/08/16 04:00:00+00",
           "162 Sherman St"
          ],
          [
           "2016/08/11 04:00:00+00",
           "293 Melville St"
          ],
          [
           "2016/07/26 04:00:00+00",
           "349 Weaver St"
          ],
          [
           "2016/07/22 04:00:00+00",
           "31 Lyceum St"
          ],
          [
           "2016/07/12 04:00:00+00",
           "1326 N. Clinton Ave"
          ],
          [
           "2016/07/11 04:00:00+00",
           "886 N. Clinton Ave"
          ],
          [
           "2016/06/17 04:00:00+00",
           "15 Otis St"
          ],
          [
           "2016/06/12 04:00:00+00",
           "120 E. Main St"
          ],
          [
           "2016/06/04 04:00:00+00",
           "475 Sherman St"
          ],
          [
           "2019/05/29 04:00:00+00",
           "100 Wellington Ave"
          ],
          [
           "2019/05/05 04:00:00+00",
           "1 Maryland St"
          ],
          [
           "2019/05/04 04:00:00+00",
           "290 Magee Ave"
          ],
          [
           "2019/03/25 04:00:00+00",
           "10 Pennsylvania Ave"
          ],
          [
           "2019/02/09 05:00:00+00",
           "444 Webster Ave"
          ],
          [
           "2019/01/04 05:00:00+00",
           "700 S. Plymouth Ave"
          ],
          [
           "2019/01/01 05:00:00+00",
           "10 Stout St"
          ],
          [
           "2018/11/18 05:00:00+00",
           "343 Murray St"
          ],
          [
           "2018/10/20 04:00:00+00",
           "28 2nd St"
          ],
          [
           "2018/10/10 04:00:00+00",
           "264 Post Ave"
          ],
          [
           "2017/12/25 05:00:00+00",
           "193 Genesee St"
          ],
          [
           "2017/11/26 05:00:00+00",
           "11 Terry St"
          ],
          [
           "2017/11/07 05:00:00+00",
           "51 Cuba Pl"
          ],
          [
           "2017/10/20 04:00:00+00",
           "24 Walnut St"
          ],
          [
           "2017/10/01 04:00:00+00",
           "4791 Lake Ave"
          ],
          [
           "2017/09/20 04:00:00+00",
           "210 Bernard St"
          ],
          [
           "2017/09/03 04:00:00+00",
           "90 Saratoga Ave"
          ],
          [
           "2017/07/19 04:00:00+00",
           "91 Reynolds St"
          ],
          [
           "2017/06/30 04:00:00+00",
           "583 W. Broad St"
          ],
          [
           "2017/05/27 04:00:00+00",
           "115 Elmwood Ave"
          ],
          [
           "2017/05/08 04:00:00+00",
           "116 Glendale Pk"
          ],
          [
           "2017/04/25 04:00:00+00",
           "184 Flanders St"
          ],
          [
           "2017/04/17 04:00:00+00",
           "283 Central Ave"
          ],
          [
           "2017/04/03 04:00:00+00",
           "109 Woodward St"
          ],
          [
           "2016/12/15 05:00:00+00",
           "196 Pershing Dr"
          ],
          [
           "2016/05/22 04:00:00+00",
           "414 W. Ridge Rd"
          ],
          [
           "2014/11/24 05:00:00+00",
           "26 Ludwig Pk"
          ],
          [
           "2014/11/06 05:00:00+00",
           "589 Seward St "
          ],
          [
           "2014/10/18 04:00:00+00",
           "699 S. Plymouth Ave"
          ],
          [
           "2014/10/07 04:00:00+00",
           "187 Pearl St "
          ],
          [
           "2014/09/28 04:00:00+00",
           "48 Lake Ave"
          ],
          [
           "2014/09/03 04:00:00+00",
           "955 Hudson Ave"
          ],
          [
           "2014/08/21 04:00:00+00",
           "14 Straub St"
          ],
          [
           "2016/05/19 04:00:00+00",
           "590 Frost Ave"
          ],
          [
           "2015/06/07 04:00:00+00",
           "561 Jefferson Ave"
          ],
          [
           "2016/03/31 04:00:00+00",
           "1254 N. Clinton Ave"
          ],
          [
           "2016/03/31 04:00:00+00",
           "427 Wilder St"
          ],
          [
           "2016/02/07 05:00:00+00",
           "547 State St"
          ],
          [
           "2016/01/27 05:00:00+00",
           "1063 St. Paul St"
          ],
          [
           "2016/01/20 05:00:00+00",
           "15 Leo St"
          ],
          [
           "2016/01/10 05:00:00+00",
           "195 Leighton"
          ],
          [
           "2016/01/10 05:00:00+00",
           "195 Leighton"
          ],
          [
           "2016/01/10 05:00:00+00",
           "195 Leighton"
          ],
          [
           "2016/01/10 05:00:00+00",
           "195 Leighton"
          ],
          [
           "2015/05/26 04:00:00+00",
           "441 Bay Street"
          ],
          [
           "2015/05/18 04:00:00+00",
           "806 Ridgeway Ave"
          ],
          [
           "2015/05/14 04:00:00+00",
           "53 Ernst St"
          ],
          [
           "2015/04/29 04:00:00+00",
           "570 Post Ave"
          ],
          [
           "2015/04/25 04:00:00+00",
           "941 Hudson Ave"
          ],
          [
           "2015/04/21 04:00:00+00",
           "74 Pardee St"
          ],
          [
           "2014/05/05 04:00:00+00",
           "556 Chili Ave"
          ],
          [
           "2014/04/30 04:00:00+00",
           "85 Lyell Ave"
          ],
          [
           "2014/04/30 04:00:00+00",
           "2052 E. Main St"
          ],
          [
           "2014/04/22 04:00:00+00",
           "197 Genesee St"
          ],
          [
           "2014/03/31 04:00:00+00",
           "334 Wilkins St"
          ],
          [
           "2014/03/10 04:00:00+00",
           "107 Grafton St"
          ],
          [
           "2014/02/24 05:00:00+00",
           "809 Chili Ave"
          ],
          [
           "2014/02/24 05:00:00+00",
           "809 Chili Ave"
          ],
          [
           "2014/02/24 05:00:00+00",
           "809 Chili Ave"
          ],
          [
           "2014/02/06 05:00:00+00",
           "30 Cleveland St"
          ],
          [
           "2014/02/01 05:00:00+00",
           "56 Clay Ave"
          ],
          [
           "2014/01/31 05:00:00+00",
           "199 Lyell Ave"
          ],
          [
           "2014/01/24 05:00:00+00",
           "337 Genesee St"
          ],
          [
           "2014/01/01 05:00:00+00",
           "55 Lois St"
          ],
          [
           "2013/12/29 05:00:00+00",
           "20 Woodman Pk"
          ],
          [
           "2013/12/19 05:00:00+00",
           "31 Peck St"
          ],
          [
           "2013/12/19 05:00:00+00",
           "31 Peck St"
          ],
          [
           "2013/12/18 05:00:00+00",
           "536 Jay St"
          ],
          [
           "2013/12/02 05:00:00+00",
           "480 Genesee St"
          ],
          [
           "2015/11/02 05:00:00+00",
           "12 Devonshire Ct"
          ],
          [
           "2015/11/02 05:00:00+00",
           "1149 Portland Ave"
          ],
          [
           "2015/04/18 04:00:00+00",
           "84 Harris St"
          ],
          [
           "2015/10/07 04:00:00+00",
           "698 Frost Ave"
          ],
          [
           "2015/04/05 04:00:00+00",
           "15 Lloyd St"
          ],
          [
           "2015/02/13 05:00:00+00",
           "455 Post Ave"
          ],
          [
           "2015/01/09 05:00:00+00",
           "360 Thurston Rd"
          ],
          [
           "2015/01/08 05:00:00+00",
           "100 Mckinster St"
          ],
          [
           "2014/12/27 05:00:00+00",
           "241 Herald St"
          ],
          [
           "2014/12/21 05:00:00+00",
           "405 Driving Park Ave"
          ],
          [
           "2018/09/27 04:00:00+00",
           "387 Glenwood Ave"
          ],
          [
           "2015/09/12 04:00:00+00",
           "36 Woodward St"
          ],
          [
           "2015/09/12 04:00:00+00",
           "36 Woodward St"
          ],
          [
           "2015/08/24 04:00:00+00",
           "404 Portland Ave"
          ],
          [
           "2015/08/19 04:00:00+00",
           "500 Genesee St"
          ],
          [
           "2015/08/19 04:00:00+00",
           "500 Genesee St"
          ],
          [
           "2015/08/19 04:00:00+00",
           "500 Genesee St"
          ],
          [
           "2015/08/10 04:00:00+00",
           "700 North St"
          ],
          [
           "2015/07/19 04:00:00+00",
           "379 Lake Ave"
          ],
          [
           "2015/07/05 04:00:00+00",
           "184 Flanders St"
          ],
          [
           "2015/06/30 04:00:00+00",
           "1662 St Paul St"
          ],
          [
           "2018/09/24 04:00:00+00",
           "445 Lyell Ave"
          ],
          [
           "2018/09/20 04:00:00+00",
           "370 Wilkins St"
          ],
          [
           "2018/09/20 04:00:00+00",
           "370 Wilkins St"
          ],
          [
           "2018/09/14 04:00:00+00",
           "413 Lyell Ave"
          ],
          [
           "2018/07/07 04:00:00+00",
           "860 Hudson Ave"
          ],
          [
           "2018/07/04 04:00:00+00",
           "71 York St"
          ],
          [
           "2018/06/28 04:00:00+00",
           "86 Isabelle St"
          ],
          [
           "2018/06/20 04:00:00+00",
           "670 Thurston Rd"
          ],
          [
           "2018/06/20 04:00:00+00",
           "670 Thurston Rd"
          ],
          [
           "2018/06/09 04:00:00+00",
           "27 Skuse St"
          ],
          [
           "2018/06/07 04:00:00+00",
           "266 Roycroft Dr"
          ],
          [
           "2018/05/09 04:00:00+00",
           "204 Delamaine Dr"
          ],
          [
           "2018/04/28 04:00:00+00",
           "51 Sherwood Ave"
          ],
          [
           "2018/04/21 04:00:00+00",
           "61 Sidney St"
          ],
          [
           "2018/04/10 04:00:00+00",
           "826 Seward St"
          ],
          [
           "2010/09/21 04:00:00+00",
           "160 Dr. Samuel Mccree Way"
          ],
          [
           "2010/09/08 04:00:00+00",
           "41 Iceland Pk"
          ],
          [
           "2010/09/01 04:00:00+00",
           "592 N Clinton Ave"
          ],
          [
           "2010/08/28 04:00:00+00",
           "22 Wren St"
          ],
          [
           "2013/06/29 04:00:00+00",
           "144 Michigan St"
          ],
          [
           "2010/08/21 04:00:00+00",
           "54 Klueh St"
          ],
          [
           "2010/08/15 04:00:00+00",
           "62 Karnes St"
          ],
          [
           "2010/08/13 04:00:00+00",
           "381 Lexington Ave"
          ],
          [
           "2010/08/12 04:00:00+00",
           "91 Fillmore St"
          ],
          [
           "2010/08/10 04:00:00+00",
           "7 Mark St"
          ],
          [
           "2010/07/20 04:00:00+00",
           "46 Fernwood Ave"
          ],
          [
           "2010/06/22 04:00:00+00",
           "399 Lake Ave"
          ],
          [
           "2010/06/17 04:00:00+00",
           "293 Seward St"
          ],
          [
           "2010/06/03 04:00:00+00",
           "53 Grafton St"
          ],
          [
           "2010/05/29 04:00:00+00",
           "526 Thurston Rd"
          ],
          [
           "2010/05/26 04:00:00+00",
           "24 Henion St"
          ],
          [
           "2010/05/12 04:00:00+00",
           "1582 St Paul #2"
          ],
          [
           "2013/06/24 04:00:00+00",
           "395 Central Av"
          ],
          [
           "2013/06/24 04:00:00+00",
           "395 Central Av"
          ],
          [
           "2012/08/10 04:00:00+00",
           "142 Electric Ave"
          ],
          [
           "2013/11/27 05:00:00+00",
           "219 Colvin St"
          ],
          [
           "2013/06/12 04:00:00+00",
           "104 Weyl St"
          ],
          [
           "2013/05/14 04:00:00+00",
           "90 York St"
          ],
          [
           "2013/03/23 04:00:00+00",
           "228 Depew St"
          ],
          [
           "2013/02/25 05:00:00+00",
           "17 2Nd St"
          ],
          [
           "2013/02/06 05:00:00+00",
           "225 Tryon Pk"
          ],
          [
           "2013/01/29 05:00:00+00",
           "52 Bartlett St"
          ],
          [
           "2013/01/14 05:00:00+00",
           "229 Roycroft Dr"
          ],
          [
           "2012/01/22 05:00:00+00",
           "534 Columbia Ave"
          ],
          [
           "2009/07/29 04:00:00+00",
           "84 Remington St"
          ],
          [
           "2009/07/27 04:00:00+00",
           "137 Cameron St"
          ],
          [
           "2009/07/27 04:00:00+00",
           "29 1St St"
          ],
          [
           "2009/07/06 04:00:00+00",
           "120 Superior St"
          ],
          [
           "2009/06/13 04:00:00+00",
           "Conkey & Nielson St"
          ],
          [
           "2009/05/14 04:00:00+00",
           "14 Locust St"
          ],
          [
           "2009/05/06 04:00:00+00",
           "10 Beach St"
          ],
          [
           "2009/04/13 04:00:00+00",
           "1173 Culver Rd"
          ],
          [
           "2009/03/24 04:00:00+00",
           "20 Rosalind St"
          ],
          [
           "2009/03/10 04:00:00+00",
           "4 Renwood St"
          ],
          [
           "2009/02/20 05:00:00+00",
           "369 Melville St"
          ],
          [
           "2009/02/02 05:00:00+00",
           "16 Cliffmor St"
          ],
          [
           "2009/01/03 05:00:00+00",
           "250 Glenwood Ave"
          ],
          [
           "2009/01/01 05:00:00+00",
           "157 Dorbeth St"
          ],
          [
           "2012/07/13 04:00:00+00",
           "25 Delamaine Dr"
          ],
          [
           "2012/07/11 04:00:00+00",
           "3 Renwood St"
          ],
          [
           "2012/07/01 04:00:00+00",
           "591 Bay St"
          ],
          [
           "2012/06/28 04:00:00+00",
           "27 Carl St "
          ],
          [
           "2012/06/23 04:00:00+00",
           "2 Grace St"
          ],
          [
           "2012/06/18 04:00:00+00",
           "327 Reynolds St"
          ],
          [
           "2012/06/17 04:00:00+00",
           "131 S. Union St"
          ],
          [
           "2012/06/09 04:00:00+00",
           "524 W. Main St"
          ],
          [
           "2012/06/07 04:00:00+00",
           "121 Wilkins St"
          ],
          [
           "2012/05/29 04:00:00+00",
           "282 Saxton St"
          ],
          [
           "2012/05/15 04:00:00+00",
           "560 Smith St"
          ],
          [
           "2012/05/12 04:00:00+00",
           "1008 Ave D"
          ],
          [
           "2012/04/09 04:00:00+00",
           "16 Dayton Street"
          ],
          [
           "2011/07/23 04:00:00+00",
           "1350  Genesee St"
          ],
          [
           "2012/01/05 05:00:00+00",
           "16 Willow St"
          ],
          [
           "2008/12/27 05:00:00+00",
           "339 Bernice Rd"
          ],
          [
           "2013/11/12 05:00:00+00",
           "227 Hazelwood Te"
          ],
          [
           "2008/12/27 05:00:00+00",
           "339 Bernice Rd"
          ],
          [
           "2012/01/04 05:00:00+00",
           "20 Epworth St"
          ],
          [
           "2012/11/27 05:00:00+00",
           "444 Tremont St"
          ],
          [
           "2012/10/31 04:00:00+00",
           "25 Lincoln St"
          ],
          [
           "2012/10/16 04:00:00+00",
           "9 Quincy St"
          ],
          [
           "2012/10/16 04:00:00+00",
           "32 Quincy St"
          ],
          [
           "2012/10/06 04:00:00+00",
           "40 Veterans Pl"
          ],
          [
           "2012/10/06 04:00:00+00",
           "49 Copley St"
          ],
          [
           "2012/09/30 04:00:00+00",
           "277 N. Clinton Ave"
          ],
          [
           "2012/09/18 04:00:00+00",
           "58 Flower St"
          ],
          [
           "2012/09/01 04:00:00+00",
           "495 Bernard St"
          ],
          [
           "2012/08/25 04:00:00+00",
           "377 Whitney St"
          ],
          [
           "2012/08/22 04:00:00+00",
           "735 N. Goodman St"
          ],
          [
           "2013/11/06 05:00:00+00",
           "154 Adams St"
          ],
          [
           "2008/12/27 05:00:00+00",
           "339 Bernice Rd"
          ],
          [
           "2008/12/27 05:00:00+00",
           "1438 Dewey Av"
          ],
          [
           "2008/12/24 05:00:00+00",
           "13 Skuse St"
          ],
          [
           "2011/12/31 05:00:00+00",
           "227 Orchard St"
          ],
          [
           "2010/04/11 04:00:00+00",
           "57 Rohr St"
          ],
          [
           "2010/04/08 04:00:00+00",
           "50 Massey Dr"
          ],
          [
           "2011/05/19 04:00:00+00",
           "1438 Clifford Ave"
          ],
          [
           "2011/05/15 04:00:00+00",
           "357 Alexander St"
          ],
          [
           "2011/03/31 04:00:00+00",
           "312 Remington St"
          ],
          [
           "2011/03/27 04:00:00+00",
           "385 Weaver St"
          ],
          [
           "2011/03/15 04:00:00+00",
           "294 Columbia Ave"
          ],
          [
           "2011/01/23 05:00:00+00",
           "Baldwin St & Hayward Ave"
          ],
          [
           "2010/12/23 05:00:00+00",
           "148 Danforth St"
          ],
          [
           "2010/10/24 04:00:00+00",
           "798 Post Ave"
          ],
          [
           "2011/12/26 05:00:00+00",
           "738 Avenue D"
          ],
          [
           "2011/11/21 05:00:00+00",
           "169 Herald St"
          ],
          [
           "2011/10/31 04:00:00+00",
           "22 Morgan St"
          ],
          [
           "2011/10/14 04:00:00+00",
           "69 Otis St"
          ],
          [
           "2011/10/01 04:00:00+00",
           "1067 Hudson Ave"
          ],
          [
           "2011/09/08 04:00:00+00",
           "387 First St"
          ],
          [
           "2008/11/26 05:00:00+00",
           "112 Herald St"
          ],
          [
           "2013/10/09 04:00:00+00",
           "185 Santee St"
          ],
          [
           "2010/03/16 04:00:00+00",
           "430 Central Park"
          ],
          [
           "2013/09/05 04:00:00+00",
           "185 Lyell Av"
          ],
          [
           "2013/09/04 04:00:00+00",
           "274 Pullman Av"
          ],
          [
           "2013/09/01 04:00:00+00",
           "211 Genesee St"
          ],
          [
           "2013/08/25 04:00:00+00",
           "148 Gardiner Av"
          ],
          [
           "2013/08/24 04:00:00+00",
           "10 Elba St"
          ],
          [
           "2013/08/18 04:00:00+00",
           "719 S Plymouth Av"
          ],
          [
           "2013/08/03 04:00:00+00",
           "99 Fernwood Av"
          ],
          [
           "2013/07/14 04:00:00+00",
           "56 Linnet St"
          ],
          [
           "2013/07/12 04:00:00+00",
           "19 Boston St"
          ],
          [
           "2010/02/14 05:00:00+00",
           "1 Bauer Aly"
          ],
          [
           "2010/01/24 05:00:00+00",
           "48 Stratford Pk"
          ],
          [
           "2010/01/14 05:00:00+00",
           "510 Augustine St"
          ],
          [
           "2010/01/10 05:00:00+00",
           "164 Sixth St"
          ],
          [
           "2009/12/19 05:00:00+00",
           "238 Roycroft Dr"
          ],
          [
           "2009/12/19 05:00:00+00",
           "238 Roycroft Dr"
          ],
          [
           "2009/12/09 05:00:00+00",
           "45 Watkin Terrace"
          ],
          [
           "2009/12/01 05:00:00+00",
           "295 Central Pk"
          ],
          [
           "2009/11/05 05:00:00+00",
           "435 Tremont St"
          ],
          [
           "2009/11/01 04:00:00+00",
           "163 Augustine St"
          ],
          [
           "2009/11/01 04:00:00+00",
           "14 Woodlawn St"
          ],
          [
           "2009/09/11 04:00:00+00",
           "1005 Hudson Ave"
          ],
          [
           "2008/09/27 04:00:00+00",
           "658 Hudson Av"
          ],
          [
           "2008/09/18 04:00:00+00",
           "969 Hudson Ave"
          ],
          [
           "2008/09/13 04:00:00+00",
           "300 Aberdeen St"
          ],
          [
           "2008/09/02 04:00:00+00",
           "117 Ave B"
          ],
          [
           "2008/08/30 04:00:00+00",
           "168 Ellicott St"
          ],
          [
           "2008/08/27 04:00:00+00",
           "724 Seward St"
          ],
          [
           "2008/08/23 04:00:00+00",
           "1609 St Paul St"
          ],
          [
           "2008/07/27 04:00:00+00",
           "448 N Clinton Av"
          ],
          [
           "2008/07/25 04:00:00+00",
           "21 Warsaw St"
          ],
          [
           "2008/07/25 04:00:00+00",
           "21 Warsaw St"
          ],
          [
           "2008/07/25 04:00:00+00",
           "101 Taylor St"
          ],
          [
           "2008/07/10 04:00:00+00",
           "120 Shelter St"
          ],
          [
           "2004/11/25 05:00:00+00",
           "765 N Clinton Av"
          ],
          [
           "2004/11/10 05:00:00+00",
           "1616 N Clinton Av"
          ],
          [
           "2004/09/28 04:00:00+00",
           "286 Kenwood Av"
          ],
          [
           "2004/09/23 04:00:00+00",
           "86 Delmar St"
          ],
          [
           "2004/09/14 04:00:00+00",
           "1 Langham St"
          ],
          [
           "2004/08/16 04:00:00+00",
           "83 Barons St"
          ],
          [
           "2004/08/16 04:00:00+00",
           "828 Jay St"
          ],
          [
           "2004/08/07 04:00:00+00",
           "412 Magee Av"
          ],
          [
           "2004/08/07 04:00:00+00",
           "338 Remington St"
          ],
          [
           "2004/07/30 04:00:00+00",
           "519 Hudson Av"
          ],
          [
           "2004/07/24 04:00:00+00",
           "22 Bloomingdale St"
          ],
          [
           "2004/07/10 04:00:00+00",
           "627 Smith St"
          ],
          [
           "2004/06/30 04:00:00+00",
           "62 Trust St"
          ],
          [
           "2005/09/27 04:00:00+00",
           "382 Smith St"
          ],
          [
           "2005/09/24 04:00:00+00",
           "4791 Lake Av"
          ],
          [
           "2006/04/15 04:00:00+00",
           "331 Orange St"
          ],
          [
           "2007/06/16 04:00:00+00",
           "63 Rohr St"
          ],
          [
           "2006/11/23 05:00:00+00",
           "247 Cedarwood Te"
          ],
          [
           "2007/11/18 05:00:00+00",
           "300 University Av"
          ],
          [
           "2007/11/17 05:00:00+00",
           "2 Pierpont St"
          ],
          [
           "2007/10/04 04:00:00+00",
           "134 Barons St"
          ],
          [
           "2007/09/14 04:00:00+00",
           "1 Flint St"
          ],
          [
           "2007/09/10 04:00:00+00",
           "270 Weaver St"
          ],
          [
           "2007/09/09 04:00:00+00",
           "136 Roycroft Dr"
          ],
          [
           "2007/08/23 04:00:00+00",
           "88 Kirkland Rd"
          ],
          [
           "2007/08/19 04:00:00+00",
           "560 Jefferson Av"
          ],
          [
           "2007/08/16 04:00:00+00",
           "14 8Th St"
          ],
          [
           "2007/07/30 04:00:00+00",
           "505 Hudson Ave"
          ],
          [
           "2007/07/20 04:00:00+00",
           "366 Hague St"
          ],
          [
           "2007/07/14 04:00:00+00",
           "487 Monroe Ave"
          ],
          [
           "2005/09/16 04:00:00+00",
           "1321 Emerson St"
          ],
          [
           "2007/06/11 04:00:00+00",
           "150 Van Auker St"
          ],
          [
           "2006/11/18 05:00:00+00",
           "238 Avis St"
          ],
          [
           "2006/11/10 05:00:00+00",
           "8 Finch St"
          ],
          [
           "2006/11/09 05:00:00+00",
           "51 Hamilton St"
          ],
          [
           "2006/11/09 05:00:00+00",
           "51 Hamilton St"
          ],
          [
           "2006/11/08 05:00:00+00",
           "257 Bay St"
          ],
          [
           "2006/11/06 05:00:00+00",
           "125 Grand Av"
          ],
          [
           "2006/11/05 05:00:00+00",
           "300 Genesee St"
          ],
          [
           "2006/10/04 04:00:00+00",
           "112 Bobrich Dr"
          ],
          [
           "2006/09/14 04:00:00+00",
           "59 Kelly St"
          ],
          [
           "2006/09/08 04:00:00+00",
           "1099 Genesee St"
          ],
          [
           "2006/08/25 04:00:00+00",
           "85 Adelaide St"
          ],
          [
           "2006/08/18 04:00:00+00",
           "1126 Dewey Av"
          ],
          [
           "2008/06/15 04:00:00+00",
           "1042 Clifford Ave"
          ],
          [
           "2007/06/07 04:00:00+00",
           "554 Thurston Av"
          ],
          [
           "2007/05/31 04:00:00+00",
           "391 Jay St"
          ],
          [
           "2007/05/25 04:00:00+00",
           "53 Watkin Ter"
          ],
          [
           "2007/05/21 04:00:00+00",
           "581 Jefferson Av"
          ],
          [
           "2007/05/11 04:00:00+00",
           "160 Salina St"
          ],
          [
           "2007/04/28 04:00:00+00",
           "5 Silver St"
          ],
          [
           "2007/04/28 04:00:00+00",
           "298 Avenue D"
          ],
          [
           "2007/04/07 04:00:00+00",
           "287 Pennsylvania Av"
          ],
          [
           "2007/04/04 04:00:00+00",
           "35 Malling Rd"
          ],
          [
           "2007/03/25 04:00:00+00",
           "3 Borchard"
          ],
          [
           "2007/03/02 05:00:00+00",
           "1618 E Main St"
          ],
          [
           "2007/02/18 05:00:00+00",
           "51 Ferndale Cr"
          ],
          [
           "2007/01/26 05:00:00+00",
           "1057 Genesee St"
          ],
          [
           "2007/01/22 05:00:00+00",
           "1460 Dewey Ave"
          ],
          [
           "2007/01/14 05:00:00+00",
           "831 Norton St"
          ],
          [
           "2007/01/05 05:00:00+00",
           "38 Treyer"
          ],
          [
           "2007/01/03 05:00:00+00",
           "537 Thurston Rd"
          ],
          [
           "2004/06/27 04:00:00+00",
           "314 Wilkins St"
          ],
          [
           "2006/07/11 04:00:00+00",
           "3 Hixson St"
          ],
          [
           "2005/08/28 04:00:00+00",
           "247 Pierpont St"
          ],
          [
           "2008/06/10 04:00:00+00",
           "281 Whitney St"
          ],
          [
           "2006/07/11 04:00:00+00",
           "3 Hixson St"
          ],
          [
           "2008/06/06 04:00:00+00",
           "510 State St"
          ],
          [
           "2008/06/04 04:00:00+00",
           "381 Hague St"
          ],
          [
           "2006/03/29 05:00:00+00",
           "365 Glenwood Av"
          ],
          [
           "2006/07/10 04:00:00+00",
           "3 Driving Park Av"
          ],
          [
           "2008/05/12 04:00:00+00",
           "21 Fairbanks St"
          ],
          [
           "2008/04/24 04:00:00+00",
           "6 Walter Pk"
          ],
          [
           "2008/04/11 04:00:00+00",
           "612 Woodbine"
          ],
          [
           "2008/04/05 04:00:00+00",
           "299 Adams St"
          ],
          [
           "2008/03/31 04:00:00+00",
           "162 Roycroft Dr"
          ],
          [
           "2008/03/31 04:00:00+00",
           "285 Reynolds St"
          ],
          [
           "2008/02/19 05:00:00+00",
           "314 Wilkins St"
          ],
          [
           "2008/02/19 05:00:00+00",
           "314 Wilkins St"
          ],
          [
           "2008/02/16 05:00:00+00",
           "69 Walnut St"
          ],
          [
           "2008/01/26 05:00:00+00",
           "178 Ellison St"
          ],
          [
           "2007/12/30 05:00:00+00",
           "411 Jay St"
          ],
          [
           "2007/12/26 05:00:00+00",
           "820 E Main St"
          ],
          [
           "2007/12/03 05:00:00+00",
           "1037 North St"
          ],
          [
           "2007/11/21 05:00:00+00",
           "152 Fulton"
          ],
          [
           "2005/08/26 04:00:00+00",
           "33 Sterling St"
          ],
          [
           "2006/07/09 04:00:00+00",
           "566 N Goodman St"
          ],
          [
           "2005/05/27 04:00:00+00",
           "9 Randolph St"
          ],
          [
           "2006/03/09 05:00:00+00",
           "353 Magnolia St"
          ],
          [
           "2006/07/04 04:00:00+00",
           "15 Lawn St"
          ],
          [
           "2006/07/03 04:00:00+00",
           "3 Elsdon St"
          ],
          [
           "2006/07/03 04:00:00+00",
           "149 7Th St"
          ],
          [
           "2006/06/27 04:00:00+00",
           "115 Murray St"
          ],
          [
           "2006/06/25 04:00:00+00",
           "7 S Madison Pk"
          ],
          [
           "2006/06/04 04:00:00+00",
           "5 De Jonge St"
          ],
          [
           "2006/05/24 04:00:00+00",
           "242 Durnan St"
          ],
          [
           "2006/05/06 04:00:00+00",
           "1564 St Paul St"
          ],
          [
           "2006/04/29 04:00:00+00",
           "301 Lexington Av"
          ],
          [
           "2006/03/06 05:00:00+00",
           "720 N Goodman St"
          ],
          [
           "2005/05/19 04:00:00+00",
           "31 Strong St"
          ],
          [
           "2004/05/28 04:00:00+00",
           "38 Emerson St"
          ],
          [
           "2004/05/27 04:00:00+00",
           "111 Bauman St"
          ],
          [
           "2004/05/03 04:00:00+00",
           "509 N Goodman St"
          ],
          [
           "2004/04/23 04:00:00+00",
           "330 4Th St"
          ],
          [
           "2004/03/20 05:00:00+00",
           "133 Glide St"
          ],
          [
           "2004/03/07 05:00:00+00",
           "6 Empire Blvd"
          ],
          [
           "2004/02/23 05:00:00+00",
           "330 Norton St"
          ],
          [
           "2004/02/12 05:00:00+00",
           "169 Ave E"
          ],
          [
           "2004/01/06 05:00:00+00",
           "174 Midland Av"
          ],
          [
           "2003/12/28 05:00:00+00",
           "192 N Union St"
          ],
          [
           "2003/12/26 05:00:00+00",
           "128 Perinton St"
          ],
          [
           "2003/12/22 05:00:00+00",
           "22 Locust St"
          ],
          [
           "2003/12/12 05:00:00+00",
           "39 Madison St"
          ],
          [
           "2003/12/07 05:00:00+00",
           "945 Genesee St"
          ],
          [
           "2003/11/25 05:00:00+00",
           "323 Arnett Bl"
          ],
          [
           "2003/11/25 05:00:00+00",
           "323 Arnett Bl"
          ],
          [
           "2005/05/19 04:00:00+00",
           "1564 St Paul St"
          ],
          [
           "2005/08/10 04:00:00+00",
           "104 Woodbine Av"
          ],
          [
           "2005/07/23 04:00:00+00",
           "35 Danforth St"
          ],
          [
           "2005/07/18 04:00:00+00",
           "162 Normandy Av"
          ],
          [
           "2005/07/08 04:00:00+00",
           "18 Langham St"
          ],
          [
           "2005/07/03 04:00:00+00",
           "79 Kelly St"
          ],
          [
           "2005/07/02 04:00:00+00",
           "1358 N Clinton Av"
          ],
          [
           "2005/06/26 04:00:00+00",
           "683 Thurston Rd"
          ],
          [
           "2005/06/25 04:00:00+00",
           "44 Evergreen St"
          ],
          [
           "2005/06/21 04:00:00+00",
           "463 Wilkins St"
          ],
          [
           "2005/04/30 04:00:00+00",
           "231 Saratoga Av"
          ],
          [
           "2006/02/03 05:00:00+00",
           "77 Frost Av"
          ],
          [
           "2006/01/18 05:00:00+00",
           "60 Lill St"
          ],
          [
           "2006/01/16 05:00:00+00",
           "140 Oriole St"
          ],
          [
           "2006/01/16 05:00:00+00",
           "1018 Lyell Av"
          ],
          [
           "2005/12/19 05:00:00+00",
           "1210 Dewey Av"
          ],
          [
           "2005/12/01 05:00:00+00",
           "6 Sobieski St"
          ],
          [
           "2005/11/28 05:00:00+00",
           "458 W Main St"
          ],
          [
           "2005/10/21 04:00:00+00",
           "700 W Main St"
          ],
          [
           "2005/10/13 04:00:00+00",
           "524 Campbell St"
          ],
          [
           "2005/10/12 04:00:00+00",
           "165 E Ridge Rd"
          ],
          [
           "2005/10/12 04:00:00+00",
           "165 E Ridge Rd"
          ],
          [
           "2005/10/12 04:00:00+00",
           "205 Roycroft Dr"
          ],
          [
           "2005/10/05 04:00:00+00",
           "206 Lincoln St"
          ],
          [
           "2005/10/02 04:00:00+00",
           "1271 Clifford Av"
          ],
          [
           "2005/09/30 04:00:00+00",
           "592 Campbell St"
          ],
          [
           "2005/09/28 04:00:00+00",
           "28 Bismark Te"
          ],
          [
           "2005/04/06 04:00:00+00",
           "108 Newbury St"
          ],
          [
           "2005/03/30 05:00:00+00",
           "84 Wilson St"
          ],
          [
           "2005/03/06 05:00:00+00",
           "72 Shelter St"
          ],
          [
           "2005/02/26 05:00:00+00",
           "25 Weld St"
          ],
          [
           "2005/01/13 05:00:00+00",
           "136 Salina St"
          ],
          [
           "2005/01/10 05:00:00+00",
           "137 Weld St"
          ],
          [
           "2005/01/01 05:00:00+00",
           "67 Aurora St"
          ],
          [
           "2004/12/31 05:00:00+00",
           "24 Sanford St"
          ],
          [
           "2004/12/27 05:00:00+00",
           "328 North St"
          ],
          [
           "2004/12/24 05:00:00+00",
           "229 Bay St"
          ],
          [
           "2004/12/14 05:00:00+00",
           "717 S Plymouth Av"
          ],
          [
           "2002/12/07 05:00:00+00",
           "1939 Clifford Av"
          ],
          [
           "2002/11/24 05:00:00+00",
           "120 Arnett Bl"
          ],
          [
           "2002/11/09 05:00:00+00",
           "20 Lake Av"
          ],
          [
           "2002/11/03 05:00:00+00",
           "15 Marne St"
          ],
          [
           "2002/10/13 04:00:00+00",
           "183 Pearl St"
          ],
          [
           "2002/09/25 04:00:00+00",
           "58 Aebersold St"
          ],
          [
           "2002/09/22 04:00:00+00",
           "700 S Plymouth Av"
          ],
          [
           "2002/09/12 04:00:00+00",
           "381 Sixth St"
          ],
          [
           "2000/11/04 05:00:00+00",
           "566 Jay St"
          ],
          [
           "2002/08/27 04:00:00+00",
           "1425 Portland Av"
          ],
          [
           "2002/08/24 04:00:00+00",
           "199 Saratoga Av"
          ],
          [
           "2002/07/15 04:00:00+00",
           "126 Seneca Av"
          ],
          [
           "2002/07/02 04:00:00+00",
           "410 Thurston Rd"
          ],
          [
           "2002/06/25 04:00:00+00",
           "156 Avenue D"
          ],
          [
           "2002/06/25 04:00:00+00",
           "156 Ave D"
          ],
          [
           "2002/05/13 04:00:00+00",
           "30 Cutler St"
          ],
          [
           "2002/05/13 04:00:00+00",
           "30 Cutler St"
          ],
          [
           "2001/08/18 04:00:00+00",
           "291 Saxton St"
          ],
          [
           "2000/10/28 04:00:00+00",
           "245 Parsells Av"
          ],
          [
           "2001/08/14 04:00:00+00",
           "35 Post Av"
          ],
          [
           "2003/11/11 05:00:00+00",
           "144 Ravine Av"
          ],
          [
           "2003/10/30 05:00:00+00",
           "1311 E Main St"
          ],
          [
           "2003/10/29 05:00:00+00",
           "862 Hudson Av"
          ],
          [
           "2003/10/29 05:00:00+00",
           "452 W Main St"
          ],
          [
           "2003/10/05 04:00:00+00",
           "110 Trafalgar St"
          ],
          [
           "2003/10/04 04:00:00+00",
           "139 Winton Rd South"
          ],
          [
           "2003/09/21 04:00:00+00",
           "55 Lois St"
          ],
          [
           "2003/09/17 04:00:00+00",
           "67 Scrantom St"
          ],
          [
           "2003/09/17 04:00:00+00",
           "161 Reynolds St"
          ],
          [
           "2003/09/07 04:00:00+00",
           "1259 North St"
          ],
          [
           "2003/09/06 04:00:00+00",
           "320 Central Av"
          ],
          [
           "2003/08/31 04:00:00+00",
           "173 Leighton Av"
          ],
          [
           "2003/08/19 04:00:00+00",
           "69 Harris St"
          ],
          [
           "2003/07/30 04:00:00+00",
           "826 Joseph Av"
          ],
          [
           "2003/07/28 04:00:00+00",
           "439 Verona St"
          ],
          [
           "2003/07/26 04:00:00+00",
           "33 Thorndale Te"
          ],
          [
           "2003/07/22 04:00:00+00",
           "145 Jefferson Av"
          ],
          [
           "2003/07/19 04:00:00+00",
           "328 North St"
          ],
          [
           "2002/03/28 05:00:00+00",
           "20 Rohr St"
          ],
          [
           "2002/03/01 05:00:00+00",
           "33 Watkin Te"
          ],
          [
           "2002/02/24 05:00:00+00",
           "81 Clifford Av"
          ],
          [
           "2002/02/23 05:00:00+00",
           "632 Clifford Av"
          ],
          [
           "2002/01/30 05:00:00+00",
           "115 Ambrose St"
          ],
          [
           "2002/01/26 05:00:00+00",
           "80 Turner St"
          ],
          [
           "2002/01/02 05:00:00+00",
           "16 Weaver St"
          ],
          [
           "2001/12/29 05:00:00+00",
           "1260 Clifford Av"
          ],
          [
           "2001/11/30 05:00:00+00",
           "160 Bartlett St"
          ],
          [
           "2001/11/28 05:00:00+00",
           "46 Council St"
          ],
          [
           "2001/10/08 04:00:00+00",
           "586 Thurston Rd"
          ],
          [
           "2001/10/08 04:00:00+00",
           "584 Thurston Rd"
          ],
          [
           "2001/10/04 04:00:00+00",
           "170 East Av"
          ],
          [
           "2001/09/28 04:00:00+00",
           "165 Reynolds St"
          ],
          [
           "2001/09/23 04:00:00+00",
           "33 Mead St"
          ],
          [
           "2001/09/09 04:00:00+00",
           "234 Selye Te"
          ],
          [
           "2001/09/01 04:00:00+00",
           "38 Dale St"
          ],
          [
           "2001/09/01 04:00:00+00",
           "840 N Clinton Av"
          ],
          [
           "2001/08/23 04:00:00+00",
           "567 W Main St"
          ],
          [
           "2000/10/14 04:00:00+00",
           "545 Jefferson Av"
          ],
          [
           "2000/10/13 04:00:00+00",
           "488 Hague St"
          ],
          [
           "2001/08/13 04:00:00+00",
           "124 Fulton Av"
          ],
          [
           "2000/10/12 04:00:00+00",
           "15 Pardee St"
          ],
          [
           "2001/08/08 04:00:00+00",
           "111 Herald St"
          ],
          [
           "2000/10/06 04:00:00+00",
           "4 Tacoma St"
          ],
          [
           "2000/08/29 04:00:00+00",
           "133 Thomas St"
          ],
          [
           "2000/08/19 04:00:00+00",
           "43 6Th St"
          ],
          [
           "2000/08/17 04:00:00+00",
           "417 Lake Av"
          ],
          [
           "2000/08/06 04:00:00+00",
           "286 Bernard St"
          ],
          [
           "2000/07/17 04:00:00+00",
           "24 Eddy St"
          ],
          [
           "2000/07/04 04:00:00+00",
           "15 Parkside Av"
          ],
          [
           "2000/06/11 04:00:00+00",
           "53 Romeyn St"
          ],
          [
           "2000/06/11 04:00:00+00",
           "53 Romeyn St"
          ],
          [
           "2000/06/11 04:00:00+00",
           "53 Romeyn St"
          ],
          [
           "2000/04/28 04:00:00+00",
           "113 Columbia Av"
          ],
          [
           "2000/04/28 04:00:00+00",
           "113 Columbia Av"
          ],
          [
           "2000/04/14 04:00:00+00",
           "2 Jones Av"
          ],
          [
           "2000/03/26 05:00:00+00",
           "613 Smith St"
          ],
          [
           "2000/03/24 05:00:00+00",
           "402 Augustine St"
          ],
          [
           "2000/03/09 05:00:00+00",
           "111 Whitney St"
          ],
          [
           "2000/03/09 05:00:00+00",
           "111 Whitney St"
          ],
          [
           "2000/02/27 05:00:00+00",
           "30 Salina St"
          ],
          [
           "2000/02/15 05:00:00+00",
           "42 Lincoln St"
          ],
          [
           "2000/01/25 05:00:00+00",
           "1046 N Clinton Av"
          ],
          [
           "2000/01/22 05:00:00+00",
           "411 Driving Park Ave"
          ],
          [
           "2000/01/13 05:00:00+00",
           "1228 Jay St"
          ],
          [
           "2001/07/08 04:00:00+00",
           "1218 St Paul St"
          ],
          [
           "2001/07/04 04:00:00+00",
           "20 Hollister St"
          ],
          [
           "2001/06/29 04:00:00+00",
           "185 Whitney St"
          ],
          [
           "2001/06/18 04:00:00+00",
           "540 Portland Av"
          ],
          [
           "2001/06/13 04:00:00+00",
           "565 Jay St"
          ],
          [
           "2001/06/03 04:00:00+00",
           "10 King St"
          ],
          [
           "2001/06/03 04:00:00+00",
           "540 Jefferson Av"
          ],
          [
           "2001/06/01 04:00:00+00",
           "1340 N Clinton Av"
          ],
          [
           "2001/04/28 04:00:00+00",
           "535 Grand Av"
          ],
          [
           "2001/04/23 04:00:00+00",
           "25 Driving Park Ave"
          ],
          [
           "2001/04/18 04:00:00+00",
           "515 Jefferson Av"
          ],
          [
           "2001/04/18 04:00:00+00",
           "18 Burbank St"
          ],
          [
           "2001/04/16 04:00:00+00",
           "26 Joseph Pl"
          ],
          [
           "2001/03/12 05:00:00+00",
           "675 S Plymouth Av"
          ],
          [
           "2001/01/02 05:00:00+00",
           "336 Ave A"
          ],
          [
           "2000/12/14 05:00:00+00",
           "77 Warsaw St"
          ],
          [
           "2000/11/17 05:00:00+00",
           "134 Myrtle St"
          ],
          [
           "2003/07/17 04:00:00+00",
           "637 Rocket St"
          ],
          [
           "2003/07/03 04:00:00+00",
           "795 Joseph Av"
          ],
          [
           "2003/06/29 04:00:00+00",
           "727 E Main St"
          ],
          [
           "2003/06/15 04:00:00+00",
           "1010 Joseph Av"
          ],
          [
           "2003/06/11 04:00:00+00",
           "573 Maple St"
          ],
          [
           "2003/05/28 04:00:00+00",
           "421 Upper Falls Bl"
          ],
          [
           "2003/05/28 04:00:00+00",
           "885 Portland Av"
          ],
          [
           "2003/05/16 04:00:00+00",
           "1516 St Paul St"
          ],
          [
           "2003/04/25 04:00:00+00",
           "719 S Plymouth Av"
          ],
          [
           "2003/04/22 04:00:00+00",
           "40 Wadsworth St"
          ],
          [
           "2003/04/20 04:00:00+00",
           "200 Genesee St"
          ],
          [
           "2003/04/18 04:00:00+00",
           "53 Gardiner Av"
          ],
          [
           "2003/04/16 04:00:00+00",
           "355 Child St"
          ],
          [
           "2003/03/23 05:00:00+00",
           "110 Ardmore St"
          ],
          [
           "2003/03/21 05:00:00+00",
           "671 Brooks Av"
          ],
          [
           "2003/03/19 05:00:00+00",
           "213 Conkey Av"
          ],
          [
           "2003/03/18 05:00:00+00",
           "163 Dr Samuel Mccree Way"
          ],
          [
           "2003/03/18 05:00:00+00",
           "706 W Main St"
          ],
          [
           "2003/01/31 05:00:00+00",
           "30 Ave D"
          ],
          [
           "2003/01/24 05:00:00+00",
           "519 Smith St"
          ],
          [
           "2003/01/24 05:00:00+00",
           "519 Smith St"
          ],
          [
           "2003/01/09 05:00:00+00",
           "672 Emerson St"
          ],
          [
           "2002/12/30 05:00:00+00",
           "23 Ave C"
          ],
          [
           "2002/12/10 05:00:00+00",
           "567 W Main St"
          ],
          [
           "2002/12/09 05:00:00+00",
           "130 Thomas St"
          ]
         ],
         "hovertemplate": "Crime_Type=%{text}<br>Latitude=%{lat}<br>Longitude=%{lon}<br>Occurred_Date=%{customdata[0]}<br>Address=%{customdata[1]}<extra></extra>",
         "lat": [
          43.18179326,
          43.1635691,
          43.18107974,
          43.15333695,
          43.17142989,
          43.16924356,
          43.14525584,
          43.17787281,
          43.19670585,
          43.19398996,
          43.16394473,
          43.16301446,
          43.16301446,
          43.17116924,
          43.16912625,
          43.18526405,
          43.1819789,
          43.18559237,
          43.19462148,
          43.16683301,
          43.17193799,
          43.18079751,
          43.18079751,
          43.17650751,
          43.15425429,
          43.15294601,
          43.17800971,
          43.17975532,
          43.16668765,
          43.14988797,
          43.19294942,
          43.17654406,
          43.16483959,
          43.16352955,
          43.1465942,
          43.17625627,
          43.17362644,
          43.17296273,
          43.17595075,
          43.19023225,
          43.14694986,
          43.18056851,
          43.19023225,
          43.14634692,
          43.16492381,
          43.17538615,
          43.14197203,
          43.18060166,
          43.18136124,
          43.17191977,
          43.1809727,
          43.16477575,
          43.16816432,
          43.18139786,
          43.1757512,
          43.16452956,
          43.18199882,
          43.15987723,
          43.21550451,
          43.15856529,
          43.17477811,
          43.17518552,
          43.18622724,
          43.19994393,
          43.12960234,
          43.17695547,
          43.14976604,
          43.15640787,
          43.15640787,
          43.15801995,
          43.1621961,
          43.16197607,
          43.16197607,
          43.17160323,
          43.14397755,
          43.15235197,
          43.18465886,
          43.173711,
          43.16661735,
          43.16661735,
          43.17722139,
          43.14135584,
          43.1678212,
          43.121144,
          43.15928066,
          43.17383766,
          43.17712132,
          43.1949023,
          43.14179772,
          43.16469451,
          43.19458151,
          43.17460614,
          43.13534393,
          43.1899819,
          43.17526165,
          43.1764165,
          43.1784458,
          43.15201149,
          43.15201149,
          43.16930014,
          43.1819006,
          43.15970518,
          43.17525421,
          43.1361394,
          43.18276535,
          43.17720791,
          43.18187753,
          43.19456115,
          43.18989974,
          43.17784687,
          43.16365475,
          43.16038149,
          43.16560934,
          43.17062331,
          43.16735754,
          43.16858065,
          43.12984511,
          43.1825934,
          43.17259196,
          43.17991285,
          43.18479557,
          43.16709311,
          43.16510124,
          43.16116334,
          43.16489994,
          43.17082122,
          43.1800517,
          43.14345877,
          43.19438661,
          43.19438661,
          43.15953969,
          43.14671605,
          43.15072192,
          43.13567587,
          43.14309435,
          43.13664246,
          43.16168025,
          43.14322643,
          43.17089357,
          43.17133503,
          43.18266479,
          43.16769565,
          43.16653273,
          43.18390134,
          43.17680782,
          43.18395635,
          43.17460614,
          43.16883417,
          43.15702405,
          43.17354838,
          43.14665149,
          43.17537276,
          43.19022682,
          43.1663377,
          43.16913909,
          43.14195075,
          43.16409251,
          43.16682782,
          43.16701651,
          43.14083004,
          43.14641185,
          43.15388374,
          43.17338848,
          43.1577963,
          43.25816433,
          43.17743271,
          43.1641784,
          43.14865435,
          43.15810673,
          43.1232159,
          43.17625208,
          43.1361394,
          43.16217118,
          43.16273737,
          43.17508662,
          43.20028656,
          43.18124166,
          43.13642646,
          43.14219069,
          43.14637707,
          43.16561691,
          43.18270309,
          43.18025145,
          43.14395991,
          43.14365453,
          43.18242145,
          43.15614594,
          43.16405904,
          43.17452796,
          43.18248545,
          43.15802979,
          43.15802979,
          43.15802979,
          43.15802979,
          43.17079595,
          43.19412494,
          43.18258715,
          43.13454165,
          43.18237548,
          43.18142912,
          43.14544412,
          43.16457637,
          43.1604785,
          43.14634692,
          43.17870732,
          43.18343691,
          43.1427903,
          43.1427903,
          43.1427903,
          43.17098462,
          43.1917218,
          43.16447042,
          43.14351145,
          43.16544512,
          43.17686414,
          43.16483691,
          43.16483691,
          43.15953969,
          43.14068439,
          43.14316438,
          43.18676854,
          43.17926464,
          43.14409952,
          43.13972617,
          43.13680983,
          43.13780812,
          43.1710576,
          43.17943665,
          43.18077494,
          43.17671983,
          43.16438493,
          43.16438493,
          43.17310485,
          43.14048058,
          43.14048058,
          43.14048058,
          43.17051765,
          43.17151908,
          43.1361394,
          43.18665966,
          43.16450882,
          43.17874848,
          43.17874848,
          43.16453222,
          43.18065279,
          43.15159247,
          43.17179141,
          43.13159226,
          43.13159226,
          43.16615324,
          43.18180461,
          43.1840534,
          43.14551434,
          43.16180688,
          43.13337855,
          43.14674631,
          43.14321909,
          43.16824549,
          43.17981121,
          43.17250167,
          43.15471791,
          43.17034032,
          43.17915545,
          43.14801231,
          43.17361638,
          43.17739874,
          43.17189799,
          43.1407635,
          43.18338589,
          43.13442783,
          43.14924013,
          43.1852099,
          43.1621961,
          43.1621961,
          43.19107683,
          43.15501295,
          43.18328512,
          43.15194049,
          43.14522169,
          43.16676514,
          43.16579556,
          43.14296726,
          43.18154714,
          43.14179567,
          43.17680735,
          43.16759479,
          43.16697576,
          43.14502083,
          43.17620857,
          43.17453647,
          43.18541449,
          43.16669846,
          43.13332304,
          43.17614585,
          43.16656738,
          43.17448644,
          43.17714467,
          43.18244704,
          43.18372155,
          43.17604459,
          43.17093788,
          43.17684305,
          43.16973587,
          43.13939959,
          43.15033159,
          43.15268011,
          43.17825563,
          43.1598269,
          43.16063291,
          43.18120871,
          43.18165347,
          43.12401941,
          43.17140392,
          43.20927049,
          43.16722133,
          43.20927049,
          43.14855551,
          43.14799472,
          43.17197596,
          43.16052853,
          43.1609831,
          43.14677083,
          43.14650506,
          43.16272655,
          43.17652114,
          43.17725236,
          43.16420219,
          43.1675593,
          43.14903172,
          43.20927049,
          43.19305421,
          43.16616947,
          43.16000936,
          43.17195425,
          43.15812265,
          43.17575912,
          43.15716427,
          43.18150242,
          43.18383533,
          43.14181175,
          43.16278354,
          43.15195769,
          43.12983595,
          43.18087575,
          43.17936341,
          43.1482708,
          43.16885064,
          43.18488086,
          43.17411901,
          43.17941607,
          43.17286247,
          43.16867707,
          43.16452561,
          43.19638121,
          43.1460288,
          43.14688249,
          43.13612504,
          43.16517331,
          43.17728811,
          43.17771655,
          43.17659005,
          43.17110245,
          43.13454307,
          43.18636514,
          43.16989182,
          43.18179534,
          43.18179534,
          43.17441212,
          43.16813431,
          43.14767473,
          43.18603247,
          43.14638039,
          43.18362614,
          43.17644793,
          43.18291864,
          43.13943644,
          43.17835475,
          43.13362781,
          43.13439631,
          43.18590347,
          43.16590009,
          43.18256006,
          43.18256006,
          43.1538714,
          43.13906003,
          43.17236998,
          43.18989974,
          43.14330941,
          43.17083605,
          43.1776342,
          43.17580534,
          43.15948276,
          43.19020253,
          43.18207973,
          43.17370632,
          43.18000437,
          43.16042247,
          43.17675015,
          43.16297214,
          43.25816433,
          43.1581714,
          43.172128,
          43.16270228,
          43.15896981,
          43.17954646,
          43.17688278,
          43.13736432,
          43.18404982,
          43.18172114,
          43.14694579,
          43.14365514,
          43.17049915,
          43.17343931,
          43.15762302,
          43.1465942,
          43.17381281,
          43.15016761,
          43.19563606,
          43.17585398,
          43.14473801,
          43.14473801,
          43.17069933,
          43.16436023,
          43.14422381,
          43.14632365,
          43.16659711,
          43.12860925,
          43.1665311,
          43.18653322,
          43.17549348,
          43.13385697,
          43.15930866,
          43.17443487,
          43.14322643,
          43.14352611,
          43.15165992,
          43.18052653,
          43.16629608,
          43.18179652,
          43.18393263,
          43.16016082,
          43.16623061,
          43.12938372,
          43.19355361,
          43.18663656,
          43.17731297,
          43.13414893,
          43.17865613,
          43.1736726,
          43.18460046,
          43.16225424,
          43.1736726,
          43.16398604,
          43.15793179,
          43.17672076,
          43.18103903,
          43.18200366,
          43.13930007,
          43.13424425,
          43.14865827,
          43.1817363,
          43.14122122,
          43.17865613,
          43.17865613,
          43.15983995,
          43.17210679,
          43.15928508,
          43.16131965,
          43.177468,
          43.17383159,
          43.16978777,
          43.16425555,
          43.18196156,
          43.13772586,
          43.15579082,
          43.16710069,
          43.17044752,
          43.16180238,
          43.15375241,
          43.1757976,
          43.18230268,
          43.18483639,
          43.17917208,
          43.16721571,
          43.18849314,
          43.17377802,
          43.18297133,
          43.16334608,
          43.16969979,
          43.15437318,
          43.17670689,
          43.18660893,
          43.18108361,
          43.18580657,
          43.1628274,
          43.19658922,
          43.17451605,
          43.15440808,
          43.13146662,
          43.14206359,
          43.14206359,
          43.18483639,
          43.14490248,
          43.1515773,
          43.14413206,
          43.17736567,
          43.16684194,
          43.18458718,
          43.13123286,
          43.17403335,
          43.17864413,
          43.16933478,
          43.14356624,
          43.17611327,
          43.17881192,
          43.16477649,
          43.18842816,
          43.18454728,
          43.15301693,
          43.1516336,
          43.15768648,
          43.19670585,
          43.19670585,
          43.18147652,
          43.17513132,
          43.17538615,
          43.15749955,
          43.18095424,
          43.18362257,
          43.16905104,
          43.13900646,
          43.16333186,
          43.14399286,
          43.1615287,
          43.17909186,
          43.14065245,
          43.16373623,
          43.17070301,
          43.14184788,
          43.17573889,
          43.14240912,
          43.16499139,
          43.1823025,
          43.14647416,
          43.17608725,
          43.14195075,
          43.17449225,
          43.15961293,
          43.1915462,
          43.16838211,
          43.18923811,
          43.13682943,
          43.18034789,
          43.18034789,
          43.18452686,
          43.18452686,
          43.16014378,
          43.16553385,
          43.14556646,
          43.17516652,
          43.1611204,
          43.18071181,
          43.15303328,
          43.14045825,
          43.14233467,
          43.16544512,
          43.17306466,
          43.14629269,
          43.18204237,
          43.16275758,
          43.15817666,
          43.17843821,
          43.17987771,
          43.16416457,
          43.14926237,
          43.15232414,
          43.16373623,
          43.17126644,
          43.17435813,
          43.17451363,
          43.17526668,
          43.16564597,
          43.14291972,
          43.18391712,
          43.17559156,
          43.14295482,
          43.17274292,
          43.13311845,
          43.13323249,
          43.15669591,
          43.14608391,
          43.17623544,
          43.18181965,
          43.17971305,
          43.17387654,
          43.15201149,
          43.14410978,
          43.16006289,
          43.17272268,
          43.18104338,
          43.17927792,
          43.17545919,
          43.17799322,
          43.16744214,
          43.17233726,
          43.17745386,
          43.15228906,
          43.16912974,
          43.15765482,
          43.15765482,
          43.15765482,
          43.14152779,
          43.14152779,
          43.16765776,
          43.16047093,
          43.18626413,
          43.15848077,
          43.15848077,
          43.14621521,
          43.17215157,
          43.17811587,
          43.18081615,
          43.15953135,
          43.17800143,
          43.17223813,
          43.1602686,
          43.1757512,
          43.1592828,
          43.15312621,
          43.14410696,
          43.18421359,
          43.16464816,
          43.1803179,
          43.14463549,
          43.18274475,
          43.18180864,
          43.14253706,
          43.17797438,
          43.18261338,
          43.16752748,
          43.1739558,
          43.17922843,
          43.15981669,
          43.18367954,
          43.1550735,
          43.17101055,
          43.1820853,
          43.18409333,
          43.16517331,
          43.17244187,
          43.1453408,
          43.14873783,
          43.15914402,
          43.14738369,
          43.13063164,
          43.17759504,
          43.14653958,
          43.1515606,
          43.18028729,
          43.16081533,
          43.16081533,
          43.17412036,
          43.17913241,
          43.15201149,
          43.17775752
         ],
         "legendgroup": "Homicide",
         "lon": [
          -77.59889263,
          -77.62477846,
          -77.63684465,
          -77.62355831,
          -77.62905386,
          -77.57957943,
          -77.65186915,
          -77.62206122,
          -77.63247672,
          -77.61265378,
          -77.65723819,
          -77.62163933,
          -77.62163933,
          -77.57026846,
          -77.64408081,
          -77.60160923,
          -77.61453847,
          -77.60149959,
          -77.63863438,
          -77.5787123,
          -77.60467887,
          -77.63899374,
          -77.63899374,
          -77.63074518,
          -77.58727401,
          -77.65703929,
          -77.61706601,
          -77.62194572,
          -77.63671479,
          -77.5990861,
          -77.63341886,
          -77.62095051,
          -77.63976312,
          -77.58542472,
          -77.59406406,
          -77.61174012,
          -77.58628727,
          -77.61310545,
          -77.57662337,
          -77.63858422,
          -77.65202743,
          -77.6321989,
          -77.63858422,
          -77.63627107,
          -77.57561496,
          -77.58835688,
          -77.58368707,
          -77.61277426,
          -77.5986559,
          -77.58675115,
          -77.62404565,
          -77.62715882,
          -77.57542553,
          -77.60927908,
          -77.59061732,
          -77.63901906,
          -77.61387505,
          -77.60391714,
          -77.63983376,
          -77.6340436,
          -77.59705665,
          -77.57332085,
          -77.6140298,
          -77.63710614,
          -77.6425644,
          -77.62244436,
          -77.65145257,
          -77.60326086,
          -77.60326086,
          -77.60881052,
          -77.60597887,
          -77.62127358,
          -77.62127358,
          -77.61199389,
          -77.63040622,
          -77.64141289,
          -77.61517829,
          -77.63545885,
          -77.58281763,
          -77.58281763,
          -77.59585317,
          -77.57608008,
          -77.62692965,
          -77.634127,
          -77.59789733,
          -77.63477012,
          -77.64138772,
          -77.62741421,
          -77.59857707,
          -77.63717045,
          -77.63154015,
          -77.61277643,
          -77.63267852,
          -77.61079521,
          -77.6136782,
          -77.58281794,
          -77.61148946,
          -77.62788189,
          -77.62788189,
          -77.58069826,
          -77.6181375,
          -77.63462947,
          -77.58483403,
          -77.65060828,
          -77.59816914,
          -77.59410981,
          -77.61349983,
          -77.63272536,
          -77.61290646,
          -77.63801066,
          -77.58567901,
          -77.63440516,
          -77.5578218,
          -77.59227389,
          -77.58482869,
          -77.62798731,
          -77.65214281,
          -77.59877885,
          -77.63195262,
          -77.58335979,
          -77.58451595,
          -77.58365225,
          -77.58487222,
          -77.64691924,
          -77.62667194,
          -77.64143571,
          -77.64409467,
          -77.62323597,
          -77.59717565,
          -77.59717565,
          -77.63465208,
          -77.62824459,
          -77.6182437,
          -77.63583467,
          -77.62930758,
          -77.63570765,
          -77.59383512,
          -77.629118,
          -77.59417354,
          -77.58705029,
          -77.61354996,
          -77.63752737,
          -77.56936614,
          -77.60082171,
          -77.56804432,
          -77.61359011,
          -77.61277643,
          -77.63935181,
          -77.61011353,
          -77.64043243,
          -77.64047789,
          -77.63845642,
          -77.63825246,
          -77.59051495,
          -77.57283607,
          -77.61939254,
          -77.57271339,
          -77.64245157,
          -77.58658121,
          -77.64778918,
          -77.63627581,
          -77.63000163,
          -77.60643475,
          -77.6305492,
          -77.60909289,
          -77.60009268,
          -77.62813154,
          -77.62640707,
          -77.6261068,
          -77.64066536,
          -77.63906727,
          -77.65060828,
          -77.60941711,
          -77.59519701,
          -77.56769934,
          -77.63781151,
          -77.60563103,
          -77.62928575,
          -77.62006315,
          -77.59904158,
          -77.62373256,
          -77.59953281,
          -77.63744452,
          -77.63521015,
          -77.62912269,
          -77.61351528,
          -77.64039711,
          -77.62291568,
          -77.62528413,
          -77.61047378,
          -77.56822831,
          -77.56822831,
          -77.56822831,
          -77.56822831,
          -77.58205958,
          -77.65176353,
          -77.59768664,
          -77.64772726,
          -77.59953738,
          -77.60876684,
          -77.65147677,
          -77.62603698,
          -77.5560634,
          -77.63627107,
          -77.60119674,
          -77.58223532,
          -77.65784587,
          -77.65784587,
          -77.65784587,
          -77.59986733,
          -77.63124278,
          -77.62980978,
          -77.63633445,
          -77.64631687,
          -77.56013501,
          -77.58317278,
          -77.58317278,
          -77.63465208,
          -77.63576511,
          -77.65136225,
          -77.58423328,
          -77.62145241,
          -77.63832906,
          -77.63132666,
          -77.64827137,
          -77.65073044,
          -77.56480278,
          -77.5927229,
          -77.64104644,
          -77.64030853,
          -77.59940805,
          -77.59940805,
          -77.59261428,
          -77.6350332,
          -77.6350332,
          -77.6350332,
          -77.59684449,
          -77.62828064,
          -77.65060828,
          -77.62201911,
          -77.63850003,
          -77.60021364,
          -77.60021364,
          -77.63655393,
          -77.59891674,
          -77.63785765,
          -77.65252775,
          -77.650594,
          -77.650594,
          -77.60115474,
          -77.59164942,
          -77.5904545,
          -77.64720768,
          -77.57088947,
          -77.63439828,
          -77.62855288,
          -77.629827,
          -77.61086063,
          -77.64670282,
          -77.6437783,
          -77.64555433,
          -77.64142959,
          -77.6400219,
          -77.65005526,
          -77.59873956,
          -77.58882853,
          -77.62845598,
          -77.62340328,
          -77.58361037,
          -77.65073169,
          -77.63349138,
          -77.62378365,
          -77.60597887,
          -77.60597887,
          -77.63798899,
          -77.64126016,
          -77.60513617,
          -77.63733587,
          -77.65314333,
          -77.58718216,
          -77.53834482,
          -77.62265998,
          -77.59285765,
          -77.63534859,
          -77.6103844,
          -77.6399212,
          -77.58817896,
          -77.63870731,
          -77.61972185,
          -77.63225652,
          -77.62344014,
          -77.56282563,
          -77.65159574,
          -77.58595225,
          -77.56720677,
          -77.56899954,
          -77.63639915,
          -77.62050678,
          -77.58547674,
          -77.58629231,
          -77.57779061,
          -77.61097047,
          -77.59824207,
          -77.62622154,
          -77.5998449,
          -77.6264503,
          -77.6074827,
          -77.63201239,
          -77.62936909,
          -77.59570685,
          -77.60263966,
          -77.64081751,
          -77.64180399,
          -77.64249379,
          -77.56992559,
          -77.64249379,
          -77.632682,
          -77.62740313,
          -77.59626258,
          -77.57013537,
          -77.56959582,
          -77.6061518,
          -77.6573877,
          -77.60882063,
          -77.6161232,
          -77.59196293,
          -77.63721008,
          -77.58087669,
          -77.62026126,
          -77.64249379,
          -77.63865571,
          -77.60150446,
          -77.63472637,
          -77.588956,
          -77.65772464,
          -77.5836471,
          -77.5939455,
          -77.61070378,
          -77.59971664,
          -77.62863887,
          -77.57780077,
          -77.64181322,
          -77.64729476,
          -77.60343195,
          -77.59430658,
          -77.63075973,
          -77.64079179,
          -77.59968545,
          -77.58642622,
          -77.59572533,
          -77.64331408,
          -77.58339018,
          -77.62942284,
          -77.63650446,
          -77.63628254,
          -77.6507214,
          -77.62499615,
          -77.62687918,
          -77.58720889,
          -77.64362094,
          -77.60890039,
          -77.63913709,
          -77.63458488,
          -77.64536773,
          -77.58232434,
          -77.59243483,
          -77.59243483,
          -77.59774575,
          -77.5871717,
          -77.62725329,
          -77.63555019,
          -77.59412943,
          -77.59961781,
          -77.59869071,
          -77.59961516,
          -77.64440742,
          -77.62321348,
          -77.64445501,
          -77.6319023,
          -77.62363422,
          -77.60953999,
          -77.6025202,
          -77.6025202,
          -77.63637828,
          -77.63248249,
          -77.61282352,
          -77.61290646,
          -77.63934102,
          -77.64414804,
          -77.60786585,
          -77.60140401,
          -77.64307679,
          -77.64174227,
          -77.61076741,
          -77.5997218,
          -77.61157851,
          -77.63135082,
          -77.58864648,
          -77.62578927,
          -77.60909289,
          -77.63547184,
          -77.58884097,
          -77.56761517,
          -77.59475124,
          -77.63675955,
          -77.60112838,
          -77.62060171,
          -77.60313124,
          -77.59529984,
          -77.63858447,
          -77.62881845,
          -77.58004562,
          -77.59986506,
          -77.64665179,
          -77.59406406,
          -77.66598252,
          -77.62126264,
          -77.64050913,
          -77.64049026,
          -77.60882387,
          -77.60882387,
          -77.58715262,
          -77.57767436,
          -77.6359046,
          -77.54665515,
          -77.60881323,
          -77.63772094,
          -77.66825106,
          -77.63854269,
          -77.59457716,
          -77.65072851,
          -77.63061607,
          -77.59748175,
          -77.629118,
          -77.65181788,
          -77.63705972,
          -77.61609094,
          -77.58242801,
          -77.62405566,
          -77.61294485,
          -77.56813089,
          -77.57991564,
          -77.63701988,
          -77.63866337,
          -77.60082236,
          -77.61603692,
          -77.65118976,
          -77.60147022,
          -77.60565905,
          -77.63727761,
          -77.63697155,
          -77.60565905,
          -77.62198473,
          -77.64708078,
          -77.63969388,
          -77.62794466,
          -77.60254946,
          -77.63493534,
          -77.64514014,
          -77.62802342,
          -77.5945598,
          -77.62623209,
          -77.60147022,
          -77.60147022,
          -77.63098072,
          -77.57338519,
          -77.6312278,
          -77.59060276,
          -77.59549666,
          -77.63080323,
          -77.64568863,
          -77.58219388,
          -77.58635697,
          -77.63241138,
          -77.60156395,
          -77.63821349,
          -77.58167394,
          -77.64243701,
          -77.62724194,
          -77.60991183,
          -77.59237248,
          -77.62427841,
          -77.63771728,
          -77.5806279,
          -77.61913732,
          -77.63047265,
          -77.60334056,
          -77.58316288,
          -77.58457787,
          -77.65539286,
          -77.55705393,
          -77.61492352,
          -77.62216211,
          -77.57877827,
          -77.59240761,
          -77.6562882,
          -77.63287496,
          -77.62800091,
          -77.63626375,
          -77.64212307,
          -77.64212307,
          -77.62427841,
          -77.6455763,
          -77.63873791,
          -77.64435841,
          -77.60958743,
          -77.60813708,
          -77.61351601,
          -77.65103113,
          -77.62002776,
          -77.59755368,
          -77.63321321,
          -77.62073295,
          -77.61642019,
          -77.64166563,
          -77.65160166,
          -77.63863456,
          -77.59927638,
          -77.62487683,
          -77.63146977,
          -77.64248434,
          -77.63247672,
          -77.63247672,
          -77.59334585,
          -77.59360371,
          -77.58835688,
          -77.64425749,
          -77.61237109,
          -77.65214163,
          -77.59926754,
          -77.63112891,
          -77.60003619,
          -77.65183904,
          -77.5942342,
          -77.5850312,
          -77.61288588,
          -77.60145596,
          -77.58796356,
          -77.62035853,
          -77.56977395,
          -77.63664444,
          -77.62340777,
          -77.57544816,
          -77.59914431,
          -77.58948321,
          -77.61939254,
          -77.58217878,
          -77.63547623,
          -77.58560848,
          -77.6324226,
          -77.60825005,
          -77.65077785,
          -77.62036429,
          -77.62036429,
          -77.62116948,
          -77.62116948,
          -77.63269522,
          -77.57232484,
          -77.64829095,
          -77.6329654,
          -77.57689023,
          -77.59895156,
          -77.6247776,
          -77.64148532,
          -77.55791882,
          -77.64631687,
          -77.61749996,
          -77.62627257,
          -77.59566376,
          -77.61019751,
          -77.56881706,
          -77.62180637,
          -77.60764623,
          -77.627378,
          -77.64672102,
          -77.62905722,
          -77.60145596,
          -77.58863875,
          -77.59806193,
          -77.62190566,
          -77.60647559,
          -77.62920097,
          -77.65377527,
          -77.61054305,
          -77.58869133,
          -77.62991156,
          -77.59153846,
          -77.65075619,
          -77.65077767,
          -77.59971055,
          -77.62628211,
          -77.61235055,
          -77.63842154,
          -77.60960054,
          -77.61269678,
          -77.62788189,
          -77.6294492,
          -77.64649235,
          -77.63004639,
          -77.61036572,
          -77.59557795,
          -77.63461485,
          -77.60492354,
          -77.58258566,
          -77.62874363,
          -77.59798295,
          -77.63448765,
          -77.5702457,
          -77.62694393,
          -77.62694393,
          -77.62694393,
          -77.62351196,
          -77.62351196,
          -77.6259938,
          -77.63100469,
          -77.64242811,
          -77.63695082,
          -77.63695082,
          -77.65197132,
          -77.59569654,
          -77.61332275,
          -77.64127785,
          -77.65426639,
          -77.6249541,
          -77.59434277,
          -77.63703719,
          -77.59061732,
          -77.63558307,
          -77.6263771,
          -77.62867407,
          -77.61341652,
          -77.56612512,
          -77.63014472,
          -77.62912665,
          -77.61208483,
          -77.60722589,
          -77.61966968,
          -77.61520027,
          -77.60094048,
          -77.64114131,
          -77.55949835,
          -77.60876421,
          -77.5929598,
          -77.60799046,
          -77.64055406,
          -77.60693165,
          -77.5868993,
          -77.62456343,
          -77.62687918,
          -77.59752832,
          -77.63521489,
          -77.65126263,
          -77.63907172,
          -77.63790743,
          -77.6541359,
          -77.61997263,
          -77.62870564,
          -77.63164704,
          -77.6241135,
          -77.62824831,
          -77.62824831,
          -77.64804631,
          -77.6242631,
          -77.62788189,
          -77.60440631
         ],
         "marker": {
          "color": "#EF553B"
         },
         "mode": "markers+text",
         "name": "Homicide",
         "showlegend": true,
         "subplot": "mapbox",
         "text": [
          "Homicide",
          "Homicide",
          "Homicide",
          "Homicide",
          "Homicide",
          "Homicide",
          "Homicide",
          "Homicide",
          "Homicide",
          "Homicide",
          "Homicide",
          "Homicide",
          "Homicide",
          "Homicide",
          "Homicide",
          "Homicide",
          "Homicide",
          "Homicide",
          "Homicide",
          "Homicide",
          "Homicide",
          "Homicide",
          "Homicide",
          "Homicide",
          "Homicide",
          "Homicide",
          "Homicide",
          "Homicide",
          "Homicide",
          "Homicide",
          "Homicide",
          "Homicide",
          "Homicide",
          "Homicide",
          "Homicide",
          "Homicide",
          "Homicide",
          "Homicide",
          "Homicide",
          "Homicide",
          "Homicide",
          "Homicide",
          "Homicide",
          "Homicide",
          "Homicide",
          "Homicide",
          "Homicide",
          "Homicide",
          "Homicide",
          "Homicide",
          "Homicide",
          "Homicide",
          "Homicide",
          "Homicide",
          "Homicide",
          "Homicide",
          "Homicide",
          "Homicide",
          "Homicide",
          "Homicide",
          "Homicide",
          "Homicide",
          "Homicide",
          "Homicide",
          "Homicide",
          "Homicide",
          "Homicide",
          "Homicide",
          "Homicide",
          "Homicide",
          "Homicide",
          "Homicide",
          "Homicide",
          "Homicide",
          "Homicide",
          "Homicide",
          "Homicide",
          "Homicide",
          "Homicide",
          "Homicide",
          "Homicide",
          "Homicide",
          "Homicide",
          "Homicide",
          "Homicide",
          "Homicide",
          "Homicide",
          "Homicide",
          "Homicide",
          "Homicide",
          "Homicide",
          "Homicide",
          "Homicide",
          "Homicide",
          "Homicide",
          "Homicide",
          "Homicide",
          "Homicide",
          "Homicide",
          "Homicide",
          "Homicide",
          "Homicide",
          "Homicide",
          "Homicide",
          "Homicide",
          "Homicide",
          "Homicide",
          "Homicide",
          "Homicide",
          "Homicide",
          "Homicide",
          "Homicide",
          "Homicide",
          "Homicide",
          "Homicide",
          "Homicide",
          "Homicide",
          "Homicide",
          "Homicide",
          "Homicide",
          "Homicide",
          "Homicide",
          "Homicide",
          "Homicide",
          "Homicide",
          "Homicide",
          "Homicide",
          "Homicide",
          "Homicide",
          "Homicide",
          "Homicide",
          "Homicide",
          "Homicide",
          "Homicide",
          "Homicide",
          "Homicide",
          "Homicide",
          "Homicide",
          "Homicide",
          "Homicide",
          "Homicide",
          "Homicide",
          "Homicide",
          "Homicide",
          "Homicide",
          "Homicide",
          "Homicide",
          "Homicide",
          "Homicide",
          "Homicide",
          "Homicide",
          "Homicide",
          "Homicide",
          "Homicide",
          "Homicide",
          "Homicide",
          "Homicide",
          "Homicide",
          "Homicide",
          "Homicide",
          "Homicide",
          "Homicide",
          "Homicide",
          "Homicide",
          "Homicide",
          "Homicide",
          "Homicide",
          "Homicide",
          "Homicide",
          "Homicide",
          "Homicide",
          "Homicide",
          "Homicide",
          "Homicide",
          "Homicide",
          "Homicide",
          "Homicide",
          "Homicide",
          "Homicide",
          "Homicide",
          "Homicide",
          "Homicide",
          "Homicide",
          "Homicide",
          "Homicide",
          "Homicide",
          "Homicide",
          "Homicide",
          "Homicide",
          "Homicide",
          "Homicide",
          "Homicide",
          "Homicide",
          "Homicide",
          "Homicide",
          "Homicide",
          "Homicide",
          "Homicide",
          "Homicide",
          "Homicide",
          "Homicide",
          "Homicide",
          "Homicide",
          "Homicide",
          "Homicide",
          "Homicide",
          "Homicide",
          "Homicide",
          "Homicide",
          "Homicide",
          "Homicide",
          "Homicide",
          "Homicide",
          "Homicide",
          "Homicide",
          "Homicide",
          "Homicide",
          "Homicide",
          "Homicide",
          "Homicide",
          "Homicide",
          "Homicide",
          "Homicide",
          "Homicide",
          "Homicide",
          "Homicide",
          "Homicide",
          "Homicide",
          "Homicide",
          "Homicide",
          "Homicide",
          "Homicide",
          "Homicide",
          "Homicide",
          "Homicide",
          "Homicide",
          "Homicide",
          "Homicide",
          "Homicide",
          "Homicide",
          "Homicide",
          "Homicide",
          "Homicide",
          "Homicide",
          "Homicide",
          "Homicide",
          "Homicide",
          "Homicide",
          "Homicide",
          "Homicide",
          "Homicide",
          "Homicide",
          "Homicide",
          "Homicide",
          "Homicide",
          "Homicide",
          "Homicide",
          "Homicide",
          "Homicide",
          "Homicide",
          "Homicide",
          "Homicide",
          "Homicide",
          "Homicide",
          "Homicide",
          "Homicide",
          "Homicide",
          "Homicide",
          "Homicide",
          "Homicide",
          "Homicide",
          "Homicide",
          "Homicide",
          "Homicide",
          "Homicide",
          "Homicide",
          "Homicide",
          "Homicide",
          "Homicide",
          "Homicide",
          "Homicide",
          "Homicide",
          "Homicide",
          "Homicide",
          "Homicide",
          "Homicide",
          "Homicide",
          "Homicide",
          "Homicide",
          "Homicide",
          "Homicide",
          "Homicide",
          "Homicide",
          "Homicide",
          "Homicide",
          "Homicide",
          "Homicide",
          "Homicide",
          "Homicide",
          "Homicide",
          "Homicide",
          "Homicide",
          "Homicide",
          "Homicide",
          "Homicide",
          "Homicide",
          "Homicide",
          "Homicide",
          "Homicide",
          "Homicide",
          "Homicide",
          "Homicide",
          "Homicide",
          "Homicide",
          "Homicide",
          "Homicide",
          "Homicide",
          "Homicide",
          "Homicide",
          "Homicide",
          "Homicide",
          "Homicide",
          "Homicide",
          "Homicide",
          "Homicide",
          "Homicide",
          "Homicide",
          "Homicide",
          "Homicide",
          "Homicide",
          "Homicide",
          "Homicide",
          "Homicide",
          "Homicide",
          "Homicide",
          "Homicide",
          "Homicide",
          "Homicide",
          "Homicide",
          "Homicide",
          "Homicide",
          "Homicide",
          "Homicide",
          "Homicide",
          "Homicide",
          "Homicide",
          "Homicide",
          "Homicide",
          "Homicide",
          "Homicide",
          "Homicide",
          "Homicide",
          "Homicide",
          "Homicide",
          "Homicide",
          "Homicide",
          "Homicide",
          "Homicide",
          "Homicide",
          "Homicide",
          "Homicide",
          "Homicide",
          "Homicide",
          "Homicide",
          "Homicide",
          "Homicide",
          "Homicide",
          "Homicide",
          "Homicide",
          "Homicide",
          "Homicide",
          "Homicide",
          "Homicide",
          "Homicide",
          "Homicide",
          "Homicide",
          "Homicide",
          "Homicide",
          "Homicide",
          "Homicide",
          "Homicide",
          "Homicide",
          "Homicide",
          "Homicide",
          "Homicide",
          "Homicide",
          "Homicide",
          "Homicide",
          "Homicide",
          "Homicide",
          "Homicide",
          "Homicide",
          "Homicide",
          "Homicide",
          "Homicide",
          "Homicide",
          "Homicide",
          "Homicide",
          "Homicide",
          "Homicide",
          "Homicide",
          "Homicide",
          "Homicide",
          "Homicide",
          "Homicide",
          "Homicide",
          "Homicide",
          "Homicide",
          "Homicide",
          "Homicide",
          "Homicide",
          "Homicide",
          "Homicide",
          "Homicide",
          "Homicide",
          "Homicide",
          "Homicide",
          "Homicide",
          "Homicide",
          "Homicide",
          "Homicide",
          "Homicide",
          "Homicide",
          "Homicide",
          "Homicide",
          "Homicide",
          "Homicide",
          "Homicide",
          "Homicide",
          "Homicide",
          "Homicide",
          "Homicide",
          "Homicide",
          "Homicide",
          "Homicide",
          "Homicide",
          "Homicide",
          "Homicide",
          "Homicide",
          "Homicide",
          "Homicide",
          "Homicide",
          "Homicide",
          "Homicide",
          "Homicide",
          "Homicide",
          "Homicide",
          "Homicide",
          "Homicide",
          "Homicide",
          "Homicide",
          "Homicide",
          "Homicide",
          "Homicide",
          "Homicide",
          "Homicide",
          "Homicide",
          "Homicide",
          "Homicide",
          "Homicide",
          "Homicide",
          "Homicide",
          "Homicide",
          "Homicide",
          "Homicide",
          "Homicide",
          "Homicide",
          "Homicide",
          "Homicide",
          "Homicide",
          "Homicide",
          "Homicide",
          "Homicide",
          "Homicide",
          "Homicide",
          "Homicide",
          "Homicide",
          "Homicide",
          "Homicide",
          "Homicide",
          "Homicide",
          "Homicide",
          "Homicide",
          "Homicide",
          "Homicide",
          "Homicide",
          "Homicide",
          "Homicide",
          "Homicide",
          "Homicide",
          "Homicide",
          "Homicide",
          "Homicide",
          "Homicide",
          "Homicide",
          "Homicide",
          "Homicide",
          "Homicide",
          "Homicide",
          "Homicide",
          "Homicide",
          "Homicide",
          "Homicide",
          "Homicide",
          "Homicide",
          "Homicide",
          "Homicide",
          "Homicide",
          "Homicide",
          "Homicide",
          "Homicide",
          "Homicide",
          "Homicide",
          "Homicide",
          "Homicide",
          "Homicide",
          "Homicide",
          "Homicide",
          "Homicide",
          "Homicide",
          "Homicide",
          "Homicide",
          "Homicide",
          "Homicide",
          "Homicide",
          "Homicide",
          "Homicide",
          "Homicide",
          "Homicide",
          "Homicide",
          "Homicide",
          "Homicide",
          "Homicide",
          "Homicide",
          "Homicide",
          "Homicide",
          "Homicide",
          "Homicide",
          "Homicide",
          "Homicide",
          "Homicide",
          "Homicide",
          "Homicide",
          "Homicide",
          "Homicide",
          "Homicide",
          "Homicide",
          "Homicide",
          "Homicide",
          "Homicide",
          "Homicide",
          "Homicide",
          "Homicide",
          "Homicide",
          "Homicide",
          "Homicide",
          "Homicide",
          "Homicide",
          "Homicide",
          "Homicide",
          "Homicide",
          "Homicide",
          "Homicide",
          "Homicide",
          "Homicide",
          "Homicide",
          "Homicide",
          "Homicide",
          "Homicide",
          "Homicide",
          "Homicide",
          "Homicide",
          "Homicide",
          "Homicide",
          "Homicide",
          "Homicide",
          "Homicide",
          "Homicide",
          "Homicide",
          "Homicide",
          "Homicide",
          "Homicide",
          "Homicide",
          "Homicide",
          "Homicide",
          "Homicide",
          "Homicide",
          "Homicide",
          "Homicide",
          "Homicide",
          "Homicide",
          "Homicide",
          "Homicide",
          "Homicide",
          "Homicide",
          "Homicide",
          "Homicide",
          "Homicide",
          "Homicide",
          "Homicide",
          "Homicide",
          "Homicide",
          "Homicide",
          "Homicide",
          "Homicide",
          "Homicide",
          "Homicide",
          "Homicide",
          "Homicide",
          "Homicide",
          "Homicide",
          "Homicide",
          "Homicide",
          "Homicide",
          "Homicide",
          "Homicide",
          "Homicide",
          "Homicide",
          "Homicide",
          "Homicide",
          "Homicide",
          "Homicide",
          "Homicide",
          "Homicide",
          "Homicide",
          "Homicide",
          "Homicide",
          "Homicide",
          "Homicide",
          "Homicide",
          "Homicide",
          "Homicide",
          "Homicide",
          "Homicide",
          "Homicide",
          "Homicide",
          "Homicide",
          "Homicide",
          "Homicide",
          "Homicide",
          "Homicide",
          "Homicide",
          "Homicide",
          "Homicide",
          "Homicide",
          "Homicide",
          "Homicide",
          "Homicide",
          "Homicide",
          "Homicide",
          "Homicide",
          "Homicide",
          "Homicide",
          "Homicide",
          "Homicide",
          "Homicide",
          "Homicide",
          "Homicide",
          "Homicide",
          "Homicide",
          "Homicide",
          "Homicide",
          "Homicide",
          "Homicide",
          "Homicide"
         ],
         "type": "scattermapbox"
        }
       ],
       "layout": {
        "height": 400,
        "legend": {
         "title": {
          "text": "Crime_Type"
         },
         "tracegroupgap": 0
        },
        "mapbox": {
         "center": {
          "lat": 43.16635272295149,
          "lon": -77.61562864254968
         },
         "domain": {
          "x": [
           0,
           1
          ],
          "y": [
           0,
           1
          ]
         },
         "style": "open-street-map",
         "zoom": 10
        },
        "template": {
         "data": {
          "bar": [
           {
            "error_x": {
             "color": "#2a3f5f"
            },
            "error_y": {
             "color": "#2a3f5f"
            },
            "marker": {
             "line": {
              "color": "#E5ECF6",
              "width": 0.5
             },
             "pattern": {
              "fillmode": "overlay",
              "size": 10,
              "solidity": 0.2
             }
            },
            "type": "bar"
           }
          ],
          "barpolar": [
           {
            "marker": {
             "line": {
              "color": "#E5ECF6",
              "width": 0.5
             },
             "pattern": {
              "fillmode": "overlay",
              "size": 10,
              "solidity": 0.2
             }
            },
            "type": "barpolar"
           }
          ],
          "carpet": [
           {
            "aaxis": {
             "endlinecolor": "#2a3f5f",
             "gridcolor": "white",
             "linecolor": "white",
             "minorgridcolor": "white",
             "startlinecolor": "#2a3f5f"
            },
            "baxis": {
             "endlinecolor": "#2a3f5f",
             "gridcolor": "white",
             "linecolor": "white",
             "minorgridcolor": "white",
             "startlinecolor": "#2a3f5f"
            },
            "type": "carpet"
           }
          ],
          "choropleth": [
           {
            "colorbar": {
             "outlinewidth": 0,
             "ticks": ""
            },
            "type": "choropleth"
           }
          ],
          "contour": [
           {
            "colorbar": {
             "outlinewidth": 0,
             "ticks": ""
            },
            "colorscale": [
             [
              0,
              "#0d0887"
             ],
             [
              0.1111111111111111,
              "#46039f"
             ],
             [
              0.2222222222222222,
              "#7201a8"
             ],
             [
              0.3333333333333333,
              "#9c179e"
             ],
             [
              0.4444444444444444,
              "#bd3786"
             ],
             [
              0.5555555555555556,
              "#d8576b"
             ],
             [
              0.6666666666666666,
              "#ed7953"
             ],
             [
              0.7777777777777778,
              "#fb9f3a"
             ],
             [
              0.8888888888888888,
              "#fdca26"
             ],
             [
              1,
              "#f0f921"
             ]
            ],
            "type": "contour"
           }
          ],
          "contourcarpet": [
           {
            "colorbar": {
             "outlinewidth": 0,
             "ticks": ""
            },
            "type": "contourcarpet"
           }
          ],
          "heatmap": [
           {
            "colorbar": {
             "outlinewidth": 0,
             "ticks": ""
            },
            "colorscale": [
             [
              0,
              "#0d0887"
             ],
             [
              0.1111111111111111,
              "#46039f"
             ],
             [
              0.2222222222222222,
              "#7201a8"
             ],
             [
              0.3333333333333333,
              "#9c179e"
             ],
             [
              0.4444444444444444,
              "#bd3786"
             ],
             [
              0.5555555555555556,
              "#d8576b"
             ],
             [
              0.6666666666666666,
              "#ed7953"
             ],
             [
              0.7777777777777778,
              "#fb9f3a"
             ],
             [
              0.8888888888888888,
              "#fdca26"
             ],
             [
              1,
              "#f0f921"
             ]
            ],
            "type": "heatmap"
           }
          ],
          "heatmapgl": [
           {
            "colorbar": {
             "outlinewidth": 0,
             "ticks": ""
            },
            "colorscale": [
             [
              0,
              "#0d0887"
             ],
             [
              0.1111111111111111,
              "#46039f"
             ],
             [
              0.2222222222222222,
              "#7201a8"
             ],
             [
              0.3333333333333333,
              "#9c179e"
             ],
             [
              0.4444444444444444,
              "#bd3786"
             ],
             [
              0.5555555555555556,
              "#d8576b"
             ],
             [
              0.6666666666666666,
              "#ed7953"
             ],
             [
              0.7777777777777778,
              "#fb9f3a"
             ],
             [
              0.8888888888888888,
              "#fdca26"
             ],
             [
              1,
              "#f0f921"
             ]
            ],
            "type": "heatmapgl"
           }
          ],
          "histogram": [
           {
            "marker": {
             "pattern": {
              "fillmode": "overlay",
              "size": 10,
              "solidity": 0.2
             }
            },
            "type": "histogram"
           }
          ],
          "histogram2d": [
           {
            "colorbar": {
             "outlinewidth": 0,
             "ticks": ""
            },
            "colorscale": [
             [
              0,
              "#0d0887"
             ],
             [
              0.1111111111111111,
              "#46039f"
             ],
             [
              0.2222222222222222,
              "#7201a8"
             ],
             [
              0.3333333333333333,
              "#9c179e"
             ],
             [
              0.4444444444444444,
              "#bd3786"
             ],
             [
              0.5555555555555556,
              "#d8576b"
             ],
             [
              0.6666666666666666,
              "#ed7953"
             ],
             [
              0.7777777777777778,
              "#fb9f3a"
             ],
             [
              0.8888888888888888,
              "#fdca26"
             ],
             [
              1,
              "#f0f921"
             ]
            ],
            "type": "histogram2d"
           }
          ],
          "histogram2dcontour": [
           {
            "colorbar": {
             "outlinewidth": 0,
             "ticks": ""
            },
            "colorscale": [
             [
              0,
              "#0d0887"
             ],
             [
              0.1111111111111111,
              "#46039f"
             ],
             [
              0.2222222222222222,
              "#7201a8"
             ],
             [
              0.3333333333333333,
              "#9c179e"
             ],
             [
              0.4444444444444444,
              "#bd3786"
             ],
             [
              0.5555555555555556,
              "#d8576b"
             ],
             [
              0.6666666666666666,
              "#ed7953"
             ],
             [
              0.7777777777777778,
              "#fb9f3a"
             ],
             [
              0.8888888888888888,
              "#fdca26"
             ],
             [
              1,
              "#f0f921"
             ]
            ],
            "type": "histogram2dcontour"
           }
          ],
          "mesh3d": [
           {
            "colorbar": {
             "outlinewidth": 0,
             "ticks": ""
            },
            "type": "mesh3d"
           }
          ],
          "parcoords": [
           {
            "line": {
             "colorbar": {
              "outlinewidth": 0,
              "ticks": ""
             }
            },
            "type": "parcoords"
           }
          ],
          "pie": [
           {
            "automargin": true,
            "type": "pie"
           }
          ],
          "scatter": [
           {
            "fillpattern": {
             "fillmode": "overlay",
             "size": 10,
             "solidity": 0.2
            },
            "type": "scatter"
           }
          ],
          "scatter3d": [
           {
            "line": {
             "colorbar": {
              "outlinewidth": 0,
              "ticks": ""
             }
            },
            "marker": {
             "colorbar": {
              "outlinewidth": 0,
              "ticks": ""
             }
            },
            "type": "scatter3d"
           }
          ],
          "scattercarpet": [
           {
            "marker": {
             "colorbar": {
              "outlinewidth": 0,
              "ticks": ""
             }
            },
            "type": "scattercarpet"
           }
          ],
          "scattergeo": [
           {
            "marker": {
             "colorbar": {
              "outlinewidth": 0,
              "ticks": ""
             }
            },
            "type": "scattergeo"
           }
          ],
          "scattergl": [
           {
            "marker": {
             "colorbar": {
              "outlinewidth": 0,
              "ticks": ""
             }
            },
            "type": "scattergl"
           }
          ],
          "scattermapbox": [
           {
            "marker": {
             "colorbar": {
              "outlinewidth": 0,
              "ticks": ""
             }
            },
            "type": "scattermapbox"
           }
          ],
          "scatterpolar": [
           {
            "marker": {
             "colorbar": {
              "outlinewidth": 0,
              "ticks": ""
             }
            },
            "type": "scatterpolar"
           }
          ],
          "scatterpolargl": [
           {
            "marker": {
             "colorbar": {
              "outlinewidth": 0,
              "ticks": ""
             }
            },
            "type": "scatterpolargl"
           }
          ],
          "scatterternary": [
           {
            "marker": {
             "colorbar": {
              "outlinewidth": 0,
              "ticks": ""
             }
            },
            "type": "scatterternary"
           }
          ],
          "surface": [
           {
            "colorbar": {
             "outlinewidth": 0,
             "ticks": ""
            },
            "colorscale": [
             [
              0,
              "#0d0887"
             ],
             [
              0.1111111111111111,
              "#46039f"
             ],
             [
              0.2222222222222222,
              "#7201a8"
             ],
             [
              0.3333333333333333,
              "#9c179e"
             ],
             [
              0.4444444444444444,
              "#bd3786"
             ],
             [
              0.5555555555555556,
              "#d8576b"
             ],
             [
              0.6666666666666666,
              "#ed7953"
             ],
             [
              0.7777777777777778,
              "#fb9f3a"
             ],
             [
              0.8888888888888888,
              "#fdca26"
             ],
             [
              1,
              "#f0f921"
             ]
            ],
            "type": "surface"
           }
          ],
          "table": [
           {
            "cells": {
             "fill": {
              "color": "#EBF0F8"
             },
             "line": {
              "color": "white"
             }
            },
            "header": {
             "fill": {
              "color": "#C8D4E3"
             },
             "line": {
              "color": "white"
             }
            },
            "type": "table"
           }
          ]
         },
         "layout": {
          "annotationdefaults": {
           "arrowcolor": "#2a3f5f",
           "arrowhead": 0,
           "arrowwidth": 1
          },
          "autotypenumbers": "strict",
          "coloraxis": {
           "colorbar": {
            "outlinewidth": 0,
            "ticks": ""
           }
          },
          "colorscale": {
           "diverging": [
            [
             0,
             "#8e0152"
            ],
            [
             0.1,
             "#c51b7d"
            ],
            [
             0.2,
             "#de77ae"
            ],
            [
             0.3,
             "#f1b6da"
            ],
            [
             0.4,
             "#fde0ef"
            ],
            [
             0.5,
             "#f7f7f7"
            ],
            [
             0.6,
             "#e6f5d0"
            ],
            [
             0.7,
             "#b8e186"
            ],
            [
             0.8,
             "#7fbc41"
            ],
            [
             0.9,
             "#4d9221"
            ],
            [
             1,
             "#276419"
            ]
           ],
           "sequential": [
            [
             0,
             "#0d0887"
            ],
            [
             0.1111111111111111,
             "#46039f"
            ],
            [
             0.2222222222222222,
             "#7201a8"
            ],
            [
             0.3333333333333333,
             "#9c179e"
            ],
            [
             0.4444444444444444,
             "#bd3786"
            ],
            [
             0.5555555555555556,
             "#d8576b"
            ],
            [
             0.6666666666666666,
             "#ed7953"
            ],
            [
             0.7777777777777778,
             "#fb9f3a"
            ],
            [
             0.8888888888888888,
             "#fdca26"
            ],
            [
             1,
             "#f0f921"
            ]
           ],
           "sequentialminus": [
            [
             0,
             "#0d0887"
            ],
            [
             0.1111111111111111,
             "#46039f"
            ],
            [
             0.2222222222222222,
             "#7201a8"
            ],
            [
             0.3333333333333333,
             "#9c179e"
            ],
            [
             0.4444444444444444,
             "#bd3786"
            ],
            [
             0.5555555555555556,
             "#d8576b"
            ],
            [
             0.6666666666666666,
             "#ed7953"
            ],
            [
             0.7777777777777778,
             "#fb9f3a"
            ],
            [
             0.8888888888888888,
             "#fdca26"
            ],
            [
             1,
             "#f0f921"
            ]
           ]
          },
          "colorway": [
           "#636efa",
           "#EF553B",
           "#00cc96",
           "#ab63fa",
           "#FFA15A",
           "#19d3f3",
           "#FF6692",
           "#B6E880",
           "#FF97FF",
           "#FECB52"
          ],
          "font": {
           "color": "#2a3f5f"
          },
          "geo": {
           "bgcolor": "white",
           "lakecolor": "white",
           "landcolor": "#E5ECF6",
           "showlakes": true,
           "showland": true,
           "subunitcolor": "white"
          },
          "hoverlabel": {
           "align": "left"
          },
          "hovermode": "closest",
          "mapbox": {
           "style": "light"
          },
          "paper_bgcolor": "white",
          "plot_bgcolor": "#E5ECF6",
          "polar": {
           "angularaxis": {
            "gridcolor": "white",
            "linecolor": "white",
            "ticks": ""
           },
           "bgcolor": "#E5ECF6",
           "radialaxis": {
            "gridcolor": "white",
            "linecolor": "white",
            "ticks": ""
           }
          },
          "scene": {
           "xaxis": {
            "backgroundcolor": "#E5ECF6",
            "gridcolor": "white",
            "gridwidth": 2,
            "linecolor": "white",
            "showbackground": true,
            "ticks": "",
            "zerolinecolor": "white"
           },
           "yaxis": {
            "backgroundcolor": "#E5ECF6",
            "gridcolor": "white",
            "gridwidth": 2,
            "linecolor": "white",
            "showbackground": true,
            "ticks": "",
            "zerolinecolor": "white"
           },
           "zaxis": {
            "backgroundcolor": "#E5ECF6",
            "gridcolor": "white",
            "gridwidth": 2,
            "linecolor": "white",
            "showbackground": true,
            "ticks": "",
            "zerolinecolor": "white"
           }
          },
          "shapedefaults": {
           "line": {
            "color": "#2a3f5f"
           }
          },
          "ternary": {
           "aaxis": {
            "gridcolor": "white",
            "linecolor": "white",
            "ticks": ""
           },
           "baxis": {
            "gridcolor": "white",
            "linecolor": "white",
            "ticks": ""
           },
           "bgcolor": "#E5ECF6",
           "caxis": {
            "gridcolor": "white",
            "linecolor": "white",
            "ticks": ""
           }
          },
          "title": {
           "x": 0.05
          },
          "xaxis": {
           "automargin": true,
           "gridcolor": "white",
           "linecolor": "white",
           "ticks": "",
           "title": {
            "standoff": 15
           },
           "zerolinecolor": "white",
           "zerolinewidth": 2
          },
          "yaxis": {
           "automargin": true,
           "gridcolor": "white",
           "linecolor": "white",
           "ticks": "",
           "title": {
            "standoff": 15
           },
           "zerolinecolor": "white",
           "zerolinewidth": 2
          }
         }
        },
        "title": {
         "text": "Gun Violence Incidents by Zipcode"
        },
        "width": 700
       }
      }
     },
     "metadata": {},
     "output_type": "display_data"
    },
    {
     "data": {
      "application/vnd.plotly.v1+json": {
       "config": {
        "plotlyServerURL": "https://plot.ly"
       },
       "data": [
        {
         "customdata": [
          [
           0.094,
           14626
          ],
          [
           0.167,
           14623
          ],
          [
           0.08,
           14622
          ],
          [
           0.298,
           14621
          ],
          [
           0.187,
           14620
          ],
          [
           0.281,
           14619
          ],
          [
           0.077,
           14618
          ],
          [
           0.073,
           14617
          ],
          [
           0.106,
           14616
          ],
          [
           0.19,
           14615
          ],
          [
           0.265,
           14613
          ],
          [
           0.094,
           14612
          ],
          [
           0.343,
           14611
          ],
          [
           0.105,
           14610
          ],
          [
           0.187,
           14609
          ],
          [
           0.406,
           14608
          ],
          [
           0.192,
           14607
          ],
          [
           0.177,
           14606
          ],
          [
           0.348,
           14605
          ],
          [
           0.269,
           14604
          ]
         ],
         "hovertemplate": "Food Insecurity=%{marker.color}<br>Latitude=%{lat}<br>Longitude=%{lon}<br>Zip Code=%{customdata[1]}<extra></extra>",
         "lat": [
          43.2141,
          43.0881,
          43.2138,
          43.1863,
          43.1291,
          43.1363,
          43.1126,
          43.2242,
          43.234,
          43.2049,
          43.1828,
          43.2648,
          43.1372,
          43.1432,
          43.1767,
          43.1539,
          43.1512,
          43.1711,
          43.1681,
          43.1567
         ],
         "legendgroup": "",
         "lon": [
          -77.7135,
          -77.6425,
          -77.5569,
          -77.6018,
          -77.6065,
          -77.6493,
          -77.5555,
          -77.5951,
          -77.655,
          -77.655,
          -77.6402,
          -77.6753,
          -77.6325,
          -77.5468,
          -77.5545,
          -77.6239,
          -77.5874,
          -77.6983,
          -77.6016,
          -77.6056
         ],
         "marker": {
          "color": [
           0.094,
           0.167,
           0.08,
           0.298,
           0.187,
           0.281,
           0.077,
           0.073,
           0.106,
           0.19,
           0.265,
           0.094,
           0.343,
           0.105,
           0.187,
           0.406,
           0.192,
           0.177,
           0.348,
           0.269
          ],
          "coloraxis": "coloraxis",
          "size": [
           0.094,
           0.167,
           0.08,
           0.298,
           0.187,
           0.281,
           0.077,
           0.073,
           0.106,
           0.19,
           0.265,
           0.094,
           0.343,
           0.105,
           0.187,
           0.406,
           0.192,
           0.177,
           0.348,
           0.269
          ],
          "sizemode": "area",
          "sizeref": 0.001015
         },
         "mode": "markers",
         "name": "",
         "showlegend": false,
         "subplot": "mapbox",
         "type": "scattermapbox"
        }
       ],
       "layout": {
        "coloraxis": {
         "colorbar": {
          "title": {
           "text": "Food Insecurity"
          }
         },
         "colorscale": [
          [
           0,
           "rgb(0,104,55)"
          ],
          [
           0.1,
           "rgb(26,152,80)"
          ],
          [
           0.2,
           "rgb(102,189,99)"
          ],
          [
           0.3,
           "rgb(166,217,106)"
          ],
          [
           0.4,
           "rgb(217,239,139)"
          ],
          [
           0.5,
           "rgb(255,255,191)"
          ],
          [
           0.6,
           "rgb(254,224,139)"
          ],
          [
           0.7,
           "rgb(253,174,97)"
          ],
          [
           0.8,
           "rgb(244,109,67)"
          ],
          [
           0.9,
           "rgb(215,48,39)"
          ],
          [
           1,
           "rgb(165,0,38)"
          ]
         ]
        },
        "height": 400,
        "legend": {
         "itemsizing": "constant",
         "tracegroupgap": 0
        },
        "mapbox": {
         "center": {
          "lat": 43.172455,
          "lon": -77.61986
         },
         "domain": {
          "x": [
           0,
           1
          ],
          "y": [
           0,
           1
          ]
         },
         "style": "open-street-map",
         "zoom": 10
        },
        "template": {
         "data": {
          "bar": [
           {
            "error_x": {
             "color": "#2a3f5f"
            },
            "error_y": {
             "color": "#2a3f5f"
            },
            "marker": {
             "line": {
              "color": "#E5ECF6",
              "width": 0.5
             },
             "pattern": {
              "fillmode": "overlay",
              "size": 10,
              "solidity": 0.2
             }
            },
            "type": "bar"
           }
          ],
          "barpolar": [
           {
            "marker": {
             "line": {
              "color": "#E5ECF6",
              "width": 0.5
             },
             "pattern": {
              "fillmode": "overlay",
              "size": 10,
              "solidity": 0.2
             }
            },
            "type": "barpolar"
           }
          ],
          "carpet": [
           {
            "aaxis": {
             "endlinecolor": "#2a3f5f",
             "gridcolor": "white",
             "linecolor": "white",
             "minorgridcolor": "white",
             "startlinecolor": "#2a3f5f"
            },
            "baxis": {
             "endlinecolor": "#2a3f5f",
             "gridcolor": "white",
             "linecolor": "white",
             "minorgridcolor": "white",
             "startlinecolor": "#2a3f5f"
            },
            "type": "carpet"
           }
          ],
          "choropleth": [
           {
            "colorbar": {
             "outlinewidth": 0,
             "ticks": ""
            },
            "type": "choropleth"
           }
          ],
          "contour": [
           {
            "colorbar": {
             "outlinewidth": 0,
             "ticks": ""
            },
            "colorscale": [
             [
              0,
              "#0d0887"
             ],
             [
              0.1111111111111111,
              "#46039f"
             ],
             [
              0.2222222222222222,
              "#7201a8"
             ],
             [
              0.3333333333333333,
              "#9c179e"
             ],
             [
              0.4444444444444444,
              "#bd3786"
             ],
             [
              0.5555555555555556,
              "#d8576b"
             ],
             [
              0.6666666666666666,
              "#ed7953"
             ],
             [
              0.7777777777777778,
              "#fb9f3a"
             ],
             [
              0.8888888888888888,
              "#fdca26"
             ],
             [
              1,
              "#f0f921"
             ]
            ],
            "type": "contour"
           }
          ],
          "contourcarpet": [
           {
            "colorbar": {
             "outlinewidth": 0,
             "ticks": ""
            },
            "type": "contourcarpet"
           }
          ],
          "heatmap": [
           {
            "colorbar": {
             "outlinewidth": 0,
             "ticks": ""
            },
            "colorscale": [
             [
              0,
              "#0d0887"
             ],
             [
              0.1111111111111111,
              "#46039f"
             ],
             [
              0.2222222222222222,
              "#7201a8"
             ],
             [
              0.3333333333333333,
              "#9c179e"
             ],
             [
              0.4444444444444444,
              "#bd3786"
             ],
             [
              0.5555555555555556,
              "#d8576b"
             ],
             [
              0.6666666666666666,
              "#ed7953"
             ],
             [
              0.7777777777777778,
              "#fb9f3a"
             ],
             [
              0.8888888888888888,
              "#fdca26"
             ],
             [
              1,
              "#f0f921"
             ]
            ],
            "type": "heatmap"
           }
          ],
          "heatmapgl": [
           {
            "colorbar": {
             "outlinewidth": 0,
             "ticks": ""
            },
            "colorscale": [
             [
              0,
              "#0d0887"
             ],
             [
              0.1111111111111111,
              "#46039f"
             ],
             [
              0.2222222222222222,
              "#7201a8"
             ],
             [
              0.3333333333333333,
              "#9c179e"
             ],
             [
              0.4444444444444444,
              "#bd3786"
             ],
             [
              0.5555555555555556,
              "#d8576b"
             ],
             [
              0.6666666666666666,
              "#ed7953"
             ],
             [
              0.7777777777777778,
              "#fb9f3a"
             ],
             [
              0.8888888888888888,
              "#fdca26"
             ],
             [
              1,
              "#f0f921"
             ]
            ],
            "type": "heatmapgl"
           }
          ],
          "histogram": [
           {
            "marker": {
             "pattern": {
              "fillmode": "overlay",
              "size": 10,
              "solidity": 0.2
             }
            },
            "type": "histogram"
           }
          ],
          "histogram2d": [
           {
            "colorbar": {
             "outlinewidth": 0,
             "ticks": ""
            },
            "colorscale": [
             [
              0,
              "#0d0887"
             ],
             [
              0.1111111111111111,
              "#46039f"
             ],
             [
              0.2222222222222222,
              "#7201a8"
             ],
             [
              0.3333333333333333,
              "#9c179e"
             ],
             [
              0.4444444444444444,
              "#bd3786"
             ],
             [
              0.5555555555555556,
              "#d8576b"
             ],
             [
              0.6666666666666666,
              "#ed7953"
             ],
             [
              0.7777777777777778,
              "#fb9f3a"
             ],
             [
              0.8888888888888888,
              "#fdca26"
             ],
             [
              1,
              "#f0f921"
             ]
            ],
            "type": "histogram2d"
           }
          ],
          "histogram2dcontour": [
           {
            "colorbar": {
             "outlinewidth": 0,
             "ticks": ""
            },
            "colorscale": [
             [
              0,
              "#0d0887"
             ],
             [
              0.1111111111111111,
              "#46039f"
             ],
             [
              0.2222222222222222,
              "#7201a8"
             ],
             [
              0.3333333333333333,
              "#9c179e"
             ],
             [
              0.4444444444444444,
              "#bd3786"
             ],
             [
              0.5555555555555556,
              "#d8576b"
             ],
             [
              0.6666666666666666,
              "#ed7953"
             ],
             [
              0.7777777777777778,
              "#fb9f3a"
             ],
             [
              0.8888888888888888,
              "#fdca26"
             ],
             [
              1,
              "#f0f921"
             ]
            ],
            "type": "histogram2dcontour"
           }
          ],
          "mesh3d": [
           {
            "colorbar": {
             "outlinewidth": 0,
             "ticks": ""
            },
            "type": "mesh3d"
           }
          ],
          "parcoords": [
           {
            "line": {
             "colorbar": {
              "outlinewidth": 0,
              "ticks": ""
             }
            },
            "type": "parcoords"
           }
          ],
          "pie": [
           {
            "automargin": true,
            "type": "pie"
           }
          ],
          "scatter": [
           {
            "fillpattern": {
             "fillmode": "overlay",
             "size": 10,
             "solidity": 0.2
            },
            "type": "scatter"
           }
          ],
          "scatter3d": [
           {
            "line": {
             "colorbar": {
              "outlinewidth": 0,
              "ticks": ""
             }
            },
            "marker": {
             "colorbar": {
              "outlinewidth": 0,
              "ticks": ""
             }
            },
            "type": "scatter3d"
           }
          ],
          "scattercarpet": [
           {
            "marker": {
             "colorbar": {
              "outlinewidth": 0,
              "ticks": ""
             }
            },
            "type": "scattercarpet"
           }
          ],
          "scattergeo": [
           {
            "marker": {
             "colorbar": {
              "outlinewidth": 0,
              "ticks": ""
             }
            },
            "type": "scattergeo"
           }
          ],
          "scattergl": [
           {
            "marker": {
             "colorbar": {
              "outlinewidth": 0,
              "ticks": ""
             }
            },
            "type": "scattergl"
           }
          ],
          "scattermapbox": [
           {
            "marker": {
             "colorbar": {
              "outlinewidth": 0,
              "ticks": ""
             }
            },
            "type": "scattermapbox"
           }
          ],
          "scatterpolar": [
           {
            "marker": {
             "colorbar": {
              "outlinewidth": 0,
              "ticks": ""
             }
            },
            "type": "scatterpolar"
           }
          ],
          "scatterpolargl": [
           {
            "marker": {
             "colorbar": {
              "outlinewidth": 0,
              "ticks": ""
             }
            },
            "type": "scatterpolargl"
           }
          ],
          "scatterternary": [
           {
            "marker": {
             "colorbar": {
              "outlinewidth": 0,
              "ticks": ""
             }
            },
            "type": "scatterternary"
           }
          ],
          "surface": [
           {
            "colorbar": {
             "outlinewidth": 0,
             "ticks": ""
            },
            "colorscale": [
             [
              0,
              "#0d0887"
             ],
             [
              0.1111111111111111,
              "#46039f"
             ],
             [
              0.2222222222222222,
              "#7201a8"
             ],
             [
              0.3333333333333333,
              "#9c179e"
             ],
             [
              0.4444444444444444,
              "#bd3786"
             ],
             [
              0.5555555555555556,
              "#d8576b"
             ],
             [
              0.6666666666666666,
              "#ed7953"
             ],
             [
              0.7777777777777778,
              "#fb9f3a"
             ],
             [
              0.8888888888888888,
              "#fdca26"
             ],
             [
              1,
              "#f0f921"
             ]
            ],
            "type": "surface"
           }
          ],
          "table": [
           {
            "cells": {
             "fill": {
              "color": "#EBF0F8"
             },
             "line": {
              "color": "white"
             }
            },
            "header": {
             "fill": {
              "color": "#C8D4E3"
             },
             "line": {
              "color": "white"
             }
            },
            "type": "table"
           }
          ]
         },
         "layout": {
          "annotationdefaults": {
           "arrowcolor": "#2a3f5f",
           "arrowhead": 0,
           "arrowwidth": 1
          },
          "autotypenumbers": "strict",
          "coloraxis": {
           "colorbar": {
            "outlinewidth": 0,
            "ticks": ""
           }
          },
          "colorscale": {
           "diverging": [
            [
             0,
             "#8e0152"
            ],
            [
             0.1,
             "#c51b7d"
            ],
            [
             0.2,
             "#de77ae"
            ],
            [
             0.3,
             "#f1b6da"
            ],
            [
             0.4,
             "#fde0ef"
            ],
            [
             0.5,
             "#f7f7f7"
            ],
            [
             0.6,
             "#e6f5d0"
            ],
            [
             0.7,
             "#b8e186"
            ],
            [
             0.8,
             "#7fbc41"
            ],
            [
             0.9,
             "#4d9221"
            ],
            [
             1,
             "#276419"
            ]
           ],
           "sequential": [
            [
             0,
             "#0d0887"
            ],
            [
             0.1111111111111111,
             "#46039f"
            ],
            [
             0.2222222222222222,
             "#7201a8"
            ],
            [
             0.3333333333333333,
             "#9c179e"
            ],
            [
             0.4444444444444444,
             "#bd3786"
            ],
            [
             0.5555555555555556,
             "#d8576b"
            ],
            [
             0.6666666666666666,
             "#ed7953"
            ],
            [
             0.7777777777777778,
             "#fb9f3a"
            ],
            [
             0.8888888888888888,
             "#fdca26"
            ],
            [
             1,
             "#f0f921"
            ]
           ],
           "sequentialminus": [
            [
             0,
             "#0d0887"
            ],
            [
             0.1111111111111111,
             "#46039f"
            ],
            [
             0.2222222222222222,
             "#7201a8"
            ],
            [
             0.3333333333333333,
             "#9c179e"
            ],
            [
             0.4444444444444444,
             "#bd3786"
            ],
            [
             0.5555555555555556,
             "#d8576b"
            ],
            [
             0.6666666666666666,
             "#ed7953"
            ],
            [
             0.7777777777777778,
             "#fb9f3a"
            ],
            [
             0.8888888888888888,
             "#fdca26"
            ],
            [
             1,
             "#f0f921"
            ]
           ]
          },
          "colorway": [
           "#636efa",
           "#EF553B",
           "#00cc96",
           "#ab63fa",
           "#FFA15A",
           "#19d3f3",
           "#FF6692",
           "#B6E880",
           "#FF97FF",
           "#FECB52"
          ],
          "font": {
           "color": "#2a3f5f"
          },
          "geo": {
           "bgcolor": "white",
           "lakecolor": "white",
           "landcolor": "#E5ECF6",
           "showlakes": true,
           "showland": true,
           "subunitcolor": "white"
          },
          "hoverlabel": {
           "align": "left"
          },
          "hovermode": "closest",
          "mapbox": {
           "style": "light"
          },
          "paper_bgcolor": "white",
          "plot_bgcolor": "#E5ECF6",
          "polar": {
           "angularaxis": {
            "gridcolor": "white",
            "linecolor": "white",
            "ticks": ""
           },
           "bgcolor": "#E5ECF6",
           "radialaxis": {
            "gridcolor": "white",
            "linecolor": "white",
            "ticks": ""
           }
          },
          "scene": {
           "xaxis": {
            "backgroundcolor": "#E5ECF6",
            "gridcolor": "white",
            "gridwidth": 2,
            "linecolor": "white",
            "showbackground": true,
            "ticks": "",
            "zerolinecolor": "white"
           },
           "yaxis": {
            "backgroundcolor": "#E5ECF6",
            "gridcolor": "white",
            "gridwidth": 2,
            "linecolor": "white",
            "showbackground": true,
            "ticks": "",
            "zerolinecolor": "white"
           },
           "zaxis": {
            "backgroundcolor": "#E5ECF6",
            "gridcolor": "white",
            "gridwidth": 2,
            "linecolor": "white",
            "showbackground": true,
            "ticks": "",
            "zerolinecolor": "white"
           }
          },
          "shapedefaults": {
           "line": {
            "color": "#2a3f5f"
           }
          },
          "ternary": {
           "aaxis": {
            "gridcolor": "white",
            "linecolor": "white",
            "ticks": ""
           },
           "baxis": {
            "gridcolor": "white",
            "linecolor": "white",
            "ticks": ""
           },
           "bgcolor": "#E5ECF6",
           "caxis": {
            "gridcolor": "white",
            "linecolor": "white",
            "ticks": ""
           }
          },
          "title": {
           "x": 0.05
          },
          "xaxis": {
           "automargin": true,
           "gridcolor": "white",
           "linecolor": "white",
           "ticks": "",
           "title": {
            "standoff": 15
           },
           "zerolinecolor": "white",
           "zerolinewidth": 2
          },
          "yaxis": {
           "automargin": true,
           "gridcolor": "white",
           "linecolor": "white",
           "ticks": "",
           "title": {
            "standoff": 15
           },
           "zerolinecolor": "white",
           "zerolinewidth": 2
          }
         }
        },
        "title": {
         "text": "Rochester Zip Codes by Food Insecurity Rate"
        },
        "width": 700
       }
      }
     },
     "metadata": {},
     "output_type": "display_data"
    }
   ],
   "source": [
    "# PLOTTING BOTH CONTINUOUS, NUMERIC VARS\n",
    "gun_plot = px.scatter_mapbox(\n",
    "                        data_frame = gun_data,\n",
    "                        lat = gun_data['Latitude'],\n",
    "                        lon = gun_data['Longitude'],\n",
    "                        color= gun_data['Crime_Type'],    # TODO: replace with our metric\n",
    "                        text = gun_data['Crime_Type'],    # TODO: replace with our metric\n",
    "                        hover_name = None,\n",
    "                        hover_data= [gun_data['Occurred_Date'],gun_data['Address']],\n",
    "                        zoom = 10,\n",
    "                        mapbox_style = 'open-street-map',\n",
    "                        title='Gun Violence Incidents by Zipcode',\n",
    "                        height = 400,\n",
    "                        width = 700\n",
    "                        )\n",
    "\n",
    "\n",
    "\n",
    "hunger_plot = px.scatter_mapbox(\n",
    "                        data_frame = hunger_data,\n",
    "                        lat = hunger_data['Latitude'],\n",
    "                        lon = hunger_data['Longitude'],\n",
    "                        color= hunger_data['Food Insecurity'],\n",
    "                        zoom = 10,\n",
    "                        hover_data = [hunger_data['Food Insecurity'],\n",
    "                                      hunger_data['Zip Code']],\n",
    "                                      \n",
    "                        size = hunger_data['Food Insecurity'],\n",
    "                        mapbox_style = 'open-street-map',\n",
    "                        title='Rochester Zip Codes by Food Insecurity Rate',\n",
    "                        height = 400,\n",
    "                        width = 700,\n",
    "                        color_continuous_scale='RdYlGn_r'\n",
    "                )\n",
    "\n",
    "gun_plot.show()\n",
    "hunger_plot.show()"
   ]
  },
  {
   "attachments": {},
   "cell_type": "markdown",
   "metadata": {},
   "source": [
    "#### SUMMARY STATS OF EACH DATASET"
   ]
  },
  {
   "cell_type": "code",
   "execution_count": 75,
   "metadata": {},
   "outputs": [
    {
     "name": "stdout",
     "output_type": "stream",
     "text": [
      "GUN VIOLENCE BASIC STATS:\n",
      "                 X            Y     Latitude    Longitude\n",
      "count  4679.000000  4679.000000  4679.000000  4679.000000\n",
      "mean    -77.615629    43.166353    43.166353   -77.615629\n",
      "std       0.023427     0.016363     0.016363     0.023427\n",
      "min     -77.672811    43.115253    43.115253   -77.672811\n",
      "25%     -77.635262    43.154277    43.154277   -77.635262\n",
      "50%     -77.619800    43.169335    43.169335   -77.619800\n",
      "75%     -77.597176    43.178504    43.178504   -77.597176\n",
      "max     -77.538345    43.259854    43.259854   -77.538345 \n",
      "\n",
      "HUNGER BASIC STATS:\n",
      "                 X            Y     Latitude    Longitude\n",
      "count  4679.000000  4679.000000  4679.000000  4679.000000\n",
      "mean    -77.615629    43.166353    43.166353   -77.615629\n",
      "std       0.023427     0.016363     0.016363     0.023427\n",
      "min     -77.672811    43.115253    43.115253   -77.672811\n",
      "25%     -77.635262    43.154277    43.154277   -77.635262\n",
      "50%     -77.619800    43.169335    43.169335   -77.619800\n",
      "75%     -77.597176    43.178504    43.178504   -77.597176\n",
      "max     -77.538345    43.259854    43.259854   -77.538345\n"
     ]
    }
   ],
   "source": [
    "# GET STATS\n",
    "gun_stats = gun_data.describe()\n",
    "hunger_stats = gun_data.describe()\n",
    "\n",
    "# PRINT STATS\n",
    "print(\"GUN VIOLENCE BASIC STATS:\")\n",
    "print(gun_stats, \"\\n\")\n",
    "print(\"HUNGER BASIC STATS:\")\n",
    "print(hunger_stats)"
   ]
  },
  {
   "attachments": {},
   "cell_type": "markdown",
   "metadata": {},
   "source": [
    "### COMPARING DATASETS AND VARIABLES"
   ]
  },
  {
   "cell_type": "code",
   "execution_count": 86,
   "metadata": {},
   "outputs": [
    {
     "data": {
      "image/png": "[encoded data removed]",
      "text/plain": [
       "<Figure size 750x350 with 1 Axes>"
      ]
     },
     "metadata": {},
     "output_type": "display_data"
    }
   ],
   "source": [
    "# COMPARE BY BOXPLOT\n",
    "\n",
    "# GET DATA\n",
    "gun_boxplot_data = gun_data['X'].quantile([0.25,0.5,0.75])   # TODO: change this to gun rate once done\n",
    "hunger_boxplot_data = hunger_data['Food Insecurity'].quantile([0.25,0.5,0.75])\n",
    "boxplots = pd.DataFrame({'Guns': gun_boxplot_data, 'Hunger': hunger_boxplot_data})\n",
    "\n",
    "# SET FIGURE \n",
    "plt.rcParams[\"figure.figsize\"] = [7.50, 3.50]\n",
    "plt.rcParams[\"figure.autolayout\"] = True\n",
    "\n",
    "# Plot the dataframe\n",
    "ax = boxplots[['Guns','Hunger']].plot(kind='box', title='boxplot')\n",
    "\n",
    "# Display the plot\n",
    "plt.show()"
   ]
  },
  {
   "cell_type": "code",
   "execution_count": 88,
   "metadata": {},
   "outputs": [
    {
     "data": {
      "text/plain": [
       "<AxesSubplot: title={'center': 'box'}>"
      ]
     },
     "execution_count": 88,
     "metadata": {},
     "output_type": "execute_result"
    },
    {
     "data": {
      "image/png": "[encoded data removed]",
      "text/plain": [
       "<Figure size 750x350 with 1 Axes>"
      ]
     },
     "metadata": {},
     "output_type": "display_data"
    }
   ],
   "source": [
    "hunger_boxplot_data = hunger_data['Food Insecurity'].quantile([0.25,0.5,0.75])\n",
    "\n",
    "hunger_boxplot_data.plot(kind=\"box\",title='box')"
   ]
  },
  {
   "attachments": {},
   "cell_type": "markdown",
   "metadata": {},
   "source": [
    "#### MAKING OUR GUN DATA METRIC"
   ]
  },
  {
   "cell_type": "code",
   "execution_count": 89,
   "metadata": {},
   "outputs": [
    {
     "data": {
      "text/html": [
       "<div>\n",
       "<style scoped>\n",
       "    .dataframe tbody tr th:only-of-type {\n",
       "        vertical-align: middle;\n",
       "    }\n",
       "\n",
       "    .dataframe tbody tr th {\n",
       "        vertical-align: top;\n",
       "    }\n",
       "\n",
       "    .dataframe thead th {\n",
       "        text-align: right;\n",
       "    }\n",
       "</style>\n",
       "<table border=\"1\" class=\"dataframe\">\n",
       "  <thead>\n",
       "    <tr style=\"text-align: right;\">\n",
       "      <th></th>\n",
       "      <th>X</th>\n",
       "      <th>Y</th>\n",
       "      <th>Address</th>\n",
       "      <th>Occurred_Date</th>\n",
       "      <th>Crime_Type</th>\n",
       "      <th>Multiple_Shooting</th>\n",
       "      <th>Latitude</th>\n",
       "      <th>Longitude</th>\n",
       "    </tr>\n",
       "  </thead>\n",
       "  <tbody>\n",
       "    <tr>\n",
       "      <th>0</th>\n",
       "      <td>-77.610890</td>\n",
       "      <td>43.184163</td>\n",
       "      <td>442 Remington St</td>\n",
       "      <td>2022/06/01 04:00:00+00</td>\n",
       "      <td>Shooting</td>\n",
       "      <td>No</td>\n",
       "      <td>43.184163</td>\n",
       "      <td>-77.610890</td>\n",
       "    </tr>\n",
       "    <tr>\n",
       "      <th>1</th>\n",
       "      <td>-77.598893</td>\n",
       "      <td>43.181793</td>\n",
       "      <td>904 Hudson Ave</td>\n",
       "      <td>2022/05/29 04:00:00+00</td>\n",
       "      <td>Homicide</td>\n",
       "      <td>No</td>\n",
       "      <td>43.181793</td>\n",
       "      <td>-77.598893</td>\n",
       "    </tr>\n",
       "    <tr>\n",
       "      <th>2</th>\n",
       "      <td>-77.630378</td>\n",
       "      <td>43.142970</td>\n",
       "      <td>168 Bartlett St</td>\n",
       "      <td>2022/05/29 04:00:00+00</td>\n",
       "      <td>Shooting</td>\n",
       "      <td>No</td>\n",
       "      <td>43.142970</td>\n",
       "      <td>-77.630378</td>\n",
       "    </tr>\n",
       "    <tr>\n",
       "      <th>3</th>\n",
       "      <td>-77.580628</td>\n",
       "      <td>43.167216</td>\n",
       "      <td>720 N Goodman St</td>\n",
       "      <td>2022/05/28 04:00:00+00</td>\n",
       "      <td>Shooting</td>\n",
       "      <td>No</td>\n",
       "      <td>43.167216</td>\n",
       "      <td>-77.580628</td>\n",
       "    </tr>\n",
       "    <tr>\n",
       "      <th>4</th>\n",
       "      <td>-77.641972</td>\n",
       "      <td>43.162394</td>\n",
       "      <td>138 Murray St</td>\n",
       "      <td>2022/05/26 04:00:00+00</td>\n",
       "      <td>Shooting</td>\n",
       "      <td>No</td>\n",
       "      <td>43.162394</td>\n",
       "      <td>-77.641972</td>\n",
       "    </tr>\n",
       "  </tbody>\n",
       "</table>\n",
       "</div>"
      ],
      "text/plain": [
       "           X          Y           Address           Occurred_Date Crime_Type  \\\n",
       "0 -77.610890  43.184163  442 Remington St  2022/06/01 04:00:00+00   Shooting   \n",
       "1 -77.598893  43.181793    904 Hudson Ave  2022/05/29 04:00:00+00   Homicide   \n",
       "2 -77.630378  43.142970   168 Bartlett St  2022/05/29 04:00:00+00   Shooting   \n",
       "3 -77.580628  43.167216  720 N Goodman St  2022/05/28 04:00:00+00   Shooting   \n",
       "4 -77.641972  43.162394     138 Murray St  2022/05/26 04:00:00+00   Shooting   \n",
       "\n",
       "  Multiple_Shooting   Latitude  Longitude  \n",
       "0                No  43.184163 -77.610890  \n",
       "1                No  43.181793 -77.598893  \n",
       "2                No  43.142970 -77.630378  \n",
       "3                No  43.167216 -77.580628  \n",
       "4                No  43.162394 -77.641972  "
      ]
     },
     "execution_count": 89,
     "metadata": {},
     "output_type": "execute_result"
    }
   ],
   "source": [
    "gun_data.head()"
   ]
  },
  {
   "cell_type": "code",
   "execution_count": null,
   "metadata": {},
   "outputs": [],
   "source": []
  }
 ],
 "metadata": {
  "kernelspec": {
   "display_name": "Python 3",
   "language": "python",
   "name": "python3"
  },
  "language_info": {
   "codemirror_mode": {
    "name": "ipython",
    "version": 3
   },
   "file_extension": ".py",
   "mimetype": "text/x-python",
   "name": "python",
   "nbconvert_exporter": "python",
   "pygments_lexer": "ipython3",
   "version": "3.11.1"
  },
  "orig_nbformat": 4
 },
 "nbformat": 4,
 "nbformat_minor": 2
}
