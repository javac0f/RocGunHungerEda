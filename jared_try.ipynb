{
 "cells": [
  {
   "cell_type": "code",
   "execution_count": 8,
   "metadata": {},
   "outputs": [],
   "source": [
    "# BASIC DS LIBS\n",
    "import openpyxl\n",
    "import numpy as np\n",
    "import pandas as pd\n",
    "import matplotlib.pyplot as plt\n",
    "\n",
    "# FILE IO LIBS\n",
    "import os \n",
    "from os.path import join \n",
    "\n",
    "# GEOSPATIAL LIBS\n",
    "from osgeo import gdal\n",
    "import geopandas as gpd\n",
    "import geopy\n",
    "from geopandas import GeoDataFrame\n",
    "\n",
    "# PLOT LIBS\n",
    "import plotly.express as px \n",
    "from plotly.offline import plot\n",
    "import plotly.graph_objects as go\n",
    "from shapely.geometry import Point\n",
    "from plotly.subplots import make_subplots\n"
   ]
  },
  {
   "cell_type": "code",
   "execution_count": 9,
   "metadata": {},
   "outputs": [],
   "source": [
    "# IMPORT DATA\n",
    "hunger_data = pd.read_csv(r'data/foodlink_data.csv')\n",
    "mealmap_data = pd.read_excel(r'data/MMG2022_2020-2019Data_ToShare.xlsx')\n",
    "gun_data = pd.read_csv(r'data/Rochester_NY_Shooting_Victims.csv')"
   ]
  },
  {
   "attachments": {},
   "cell_type": "markdown",
   "metadata": {},
   "source": [
    "## EDA"
   ]
  },
  {
   "attachments": {},
   "cell_type": "markdown",
   "metadata": {},
   "source": [
    "### DATA CLEANING"
   ]
  },
  {
   "attachments": {},
   "cell_type": "markdown",
   "metadata": {},
   "source": [
    "##### REMOVING EXCESS VARIABLES AND OBJECTS"
   ]
  },
  {
   "cell_type": "code",
   "execution_count": 10,
   "metadata": {},
   "outputs": [
    {
     "name": "stdout",
     "output_type": "stream",
     "text": [
      "Index(['X', 'Y', 'ID', 'Case_Number', 'Address', 'Occurred_Date',\n",
      "       'Occurred_Month', 'Occurred_Year', 'Crime_Type', 'Multiple_Shooting',\n",
      "       'Gender', 'Race', 'Ethnicity', 'Victim_Age', 'Victim_Age_Band',\n",
      "       'Latitude', 'Longitude', 'ObjectId'],\n",
      "      dtype='object')\n",
      "X                    4679\n",
      "Y                    4679\n",
      "ID                   4679\n",
      "Case_Number          4679\n",
      "Address              4679\n",
      "Occurred_Date        4679\n",
      "Occurred_Month       4679\n",
      "Occurred_Year        4679\n",
      "Crime_Type           4679\n",
      "Multiple_Shooting    4679\n",
      "Gender               4679\n",
      "Race                 4679\n",
      "Ethnicity            4679\n",
      "Victim_Age           4679\n",
      "Victim_Age_Band      4679\n",
      "Latitude             4679\n",
      "Longitude            4679\n",
      "ObjectId             4679\n",
      "dtype: int64\n"
     ]
    }
   ],
   "source": [
    "gun_data.head()\n",
    "print(gun_data.columns)\n",
    "print(gun_data.count())"
   ]
  },
  {
   "cell_type": "code",
   "execution_count": 11,
   "metadata": {},
   "outputs": [
    {
     "name": "stdout",
     "output_type": "stream",
     "text": [
      "<class 'pandas.core.frame.DataFrame'>\n",
      "Int64Index: 137 entries, 0 to 436\n",
      "Data columns (total 7 columns):\n",
      " #   Column         Non-Null Count  Dtype  \n",
      "---  ------         --------------  -----  \n",
      " 0   X              137 non-null    float64\n",
      " 1   Y              137 non-null    float64\n",
      " 2   Address        137 non-null    object \n",
      " 3   Occurred_Date  137 non-null    object \n",
      " 4   Occurred_Year  137 non-null    int64  \n",
      " 5   Latitude       137 non-null    float64\n",
      " 6   Longitude      137 non-null    float64\n",
      "dtypes: float64(4), int64(1), object(2)\n",
      "memory usage: 8.6+ KB\n",
      "None\n",
      "                           GUN VIOLENCE DATA AFTER DATA CLEANING\n"
     ]
    },
    {
     "data": {
      "text/html": [
       "<div>\n",
       "<style scoped>\n",
       "    .dataframe tbody tr th:only-of-type {\n",
       "        vertical-align: middle;\n",
       "    }\n",
       "\n",
       "    .dataframe tbody tr th {\n",
       "        vertical-align: top;\n",
       "    }\n",
       "\n",
       "    .dataframe thead th {\n",
       "        text-align: right;\n",
       "    }\n",
       "</style>\n",
       "<table border=\"1\" class=\"dataframe\">\n",
       "  <thead>\n",
       "    <tr style=\"text-align: right;\">\n",
       "      <th></th>\n",
       "      <th>X</th>\n",
       "      <th>Y</th>\n",
       "      <th>Address</th>\n",
       "      <th>Occurred_Date</th>\n",
       "      <th>Occurred_Year</th>\n",
       "      <th>Latitude</th>\n",
       "      <th>Longitude</th>\n",
       "    </tr>\n",
       "  </thead>\n",
       "  <tbody>\n",
       "    <tr>\n",
       "      <th>0</th>\n",
       "      <td>-77.610890</td>\n",
       "      <td>43.184163</td>\n",
       "      <td>442 Remington St</td>\n",
       "      <td>2022/06/01 04:00:00+00</td>\n",
       "      <td>2022</td>\n",
       "      <td>43.184163</td>\n",
       "      <td>-77.610890</td>\n",
       "    </tr>\n",
       "    <tr>\n",
       "      <th>1</th>\n",
       "      <td>-77.598893</td>\n",
       "      <td>43.181793</td>\n",
       "      <td>904 Hudson Ave</td>\n",
       "      <td>2022/05/29 04:00:00+00</td>\n",
       "      <td>2022</td>\n",
       "      <td>43.181793</td>\n",
       "      <td>-77.598893</td>\n",
       "    </tr>\n",
       "    <tr>\n",
       "      <th>2</th>\n",
       "      <td>-77.630378</td>\n",
       "      <td>43.142970</td>\n",
       "      <td>168 Bartlett St</td>\n",
       "      <td>2022/05/29 04:00:00+00</td>\n",
       "      <td>2022</td>\n",
       "      <td>43.142970</td>\n",
       "      <td>-77.630378</td>\n",
       "    </tr>\n",
       "    <tr>\n",
       "      <th>3</th>\n",
       "      <td>-77.580628</td>\n",
       "      <td>43.167216</td>\n",
       "      <td>720 N Goodman St</td>\n",
       "      <td>2022/05/28 04:00:00+00</td>\n",
       "      <td>2022</td>\n",
       "      <td>43.167216</td>\n",
       "      <td>-77.580628</td>\n",
       "    </tr>\n",
       "    <tr>\n",
       "      <th>4</th>\n",
       "      <td>-77.641972</td>\n",
       "      <td>43.162394</td>\n",
       "      <td>138 Murray St</td>\n",
       "      <td>2022/05/26 04:00:00+00</td>\n",
       "      <td>2022</td>\n",
       "      <td>43.162394</td>\n",
       "      <td>-77.641972</td>\n",
       "    </tr>\n",
       "  </tbody>\n",
       "</table>\n",
       "</div>"
      ],
      "text/plain": [
       "           X          Y           Address           Occurred_Date  \\\n",
       "0 -77.610890  43.184163  442 Remington St  2022/06/01 04:00:00+00   \n",
       "1 -77.598893  43.181793    904 Hudson Ave  2022/05/29 04:00:00+00   \n",
       "2 -77.630378  43.142970   168 Bartlett St  2022/05/29 04:00:00+00   \n",
       "3 -77.580628  43.167216  720 N Goodman St  2022/05/28 04:00:00+00   \n",
       "4 -77.641972  43.162394     138 Murray St  2022/05/26 04:00:00+00   \n",
       "\n",
       "   Occurred_Year   Latitude  Longitude  \n",
       "0           2022  43.184163 -77.610890  \n",
       "1           2022  43.181793 -77.598893  \n",
       "2           2022  43.142970 -77.630378  \n",
       "3           2022  43.167216 -77.580628  \n",
       "4           2022  43.162394 -77.641972  "
      ]
     },
     "execution_count": 11,
     "metadata": {},
     "output_type": "execute_result"
    }
   ],
   "source": [
    "# GUN DATA CLEANING\n",
    "gun_data = gun_data.drop(columns=[\n",
    "                        'ID',\n",
    "                        'Case_Number',\n",
    "                        'Occurred_Month',\n",
    "                        'Gender',\n",
    "                        'Race',\n",
    "                        'Ethnicity',\n",
    "                        'Victim_Age',\n",
    "                        'Victim_Age_Band',\n",
    "                        'ObjectId',\n",
    "                        'Crime_Type',\n",
    "                        'Multiple_Shooting'\n",
    "                        ])\n",
    "\n",
    "gun_data = gun_data.loc[gun_data['Occurred_Year'].isin([2022,2023])]                        \n",
    "print(gun_data.info())  # to check for any missing values\n",
    "print(\"                           GUN VIOLENCE DATA AFTER DATA CLEANING\")\n",
    "gun_data.head()"
   ]
  },
  {
   "cell_type": "code",
   "execution_count": 12,
   "metadata": {},
   "outputs": [
    {
     "name": "stdout",
     "output_type": "stream",
     "text": [
      "<class 'pandas.core.frame.DataFrame'>\n",
      "Int64Index: 20 entries, 124 to 145\n",
      "Data columns (total 4 columns):\n",
      " #   Column           Non-Null Count  Dtype  \n",
      "---  ------           --------------  -----  \n",
      " 0   Zip_Code         20 non-null     int64  \n",
      " 1   Latitude         20 non-null     float64\n",
      " 2   Longitude        20 non-null     float64\n",
      " 3   Food Insecurity  20 non-null     float64\n",
      "dtypes: float64(3), int64(1)\n",
      "memory usage: 800.0 bytes\n",
      "None\n",
      "     FOOD INSECURITY DATA AFTER DATA CLEANING\n"
     ]
    },
    {
     "data": {
      "text/html": [
       "<div>\n",
       "<style scoped>\n",
       "    .dataframe tbody tr th:only-of-type {\n",
       "        vertical-align: middle;\n",
       "    }\n",
       "\n",
       "    .dataframe tbody tr th {\n",
       "        vertical-align: top;\n",
       "    }\n",
       "\n",
       "    .dataframe thead th {\n",
       "        text-align: right;\n",
       "    }\n",
       "</style>\n",
       "<table border=\"1\" class=\"dataframe\">\n",
       "  <thead>\n",
       "    <tr style=\"text-align: right;\">\n",
       "      <th></th>\n",
       "      <th>Zip_Code</th>\n",
       "      <th>Latitude</th>\n",
       "      <th>Longitude</th>\n",
       "      <th>Food Insecurity</th>\n",
       "    </tr>\n",
       "  </thead>\n",
       "  <tbody>\n",
       "    <tr>\n",
       "      <th>124</th>\n",
       "      <td>14626</td>\n",
       "      <td>43.2141</td>\n",
       "      <td>-77.7135</td>\n",
       "      <td>0.094</td>\n",
       "    </tr>\n",
       "    <tr>\n",
       "      <th>127</th>\n",
       "      <td>14623</td>\n",
       "      <td>43.0881</td>\n",
       "      <td>-77.6425</td>\n",
       "      <td>0.167</td>\n",
       "    </tr>\n",
       "    <tr>\n",
       "      <th>128</th>\n",
       "      <td>14622</td>\n",
       "      <td>43.2138</td>\n",
       "      <td>-77.5569</td>\n",
       "      <td>0.080</td>\n",
       "    </tr>\n",
       "    <tr>\n",
       "      <th>129</th>\n",
       "      <td>14621</td>\n",
       "      <td>43.1863</td>\n",
       "      <td>-77.6018</td>\n",
       "      <td>0.298</td>\n",
       "    </tr>\n",
       "    <tr>\n",
       "      <th>130</th>\n",
       "      <td>14620</td>\n",
       "      <td>43.1291</td>\n",
       "      <td>-77.6065</td>\n",
       "      <td>0.187</td>\n",
       "    </tr>\n",
       "  </tbody>\n",
       "</table>\n",
       "</div>"
      ],
      "text/plain": [
       "     Zip_Code  Latitude  Longitude  Food Insecurity\n",
       "124     14626   43.2141   -77.7135            0.094\n",
       "127     14623   43.0881   -77.6425            0.167\n",
       "128     14622   43.2138   -77.5569            0.080\n",
       "129     14621   43.1863   -77.6018            0.298\n",
       "130     14620   43.1291   -77.6065            0.187"
      ]
     },
     "execution_count": 12,
     "metadata": {},
     "output_type": "execute_result"
    }
   ],
   "source": [
    "# HUNGER DATA\n",
    "hunger_data.columns = ['Zip_Code', 'Latitude', 'Longitude', 'Food Insecurity']\n",
    "\n",
    "# NARROW DOWN DATA TO JUST ROCHESTER AREAS\n",
    "roc_zip = list(range(14604, 14624))\n",
    "roc_zip.append(14626)\n",
    "roc_zip.append(14627)\n",
    "roc_zip.append(14642)\n",
    "hunger_data = hunger_data.loc[hunger_data['Zip_Code'].isin(roc_zip)]\n",
    "\n",
    "print(hunger_data.info())   # to check for missing values\n",
    "\n",
    "print(\"     FOOD INSECURITY DATA AFTER DATA CLEANING\")\n",
    "hunger_data.head()"
   ]
  },
  {
   "attachments": {},
   "cell_type": "markdown",
   "metadata": {},
   "source": [
    "##### GROUPING GUN VIOLENCE DATA BY ZIP CODE"
   ]
  },
  {
   "cell_type": "code",
   "execution_count": 13,
   "metadata": {},
   "outputs": [
    {
     "ename": "GeocoderServiceError",
     "evalue": "HTTP Error 502: Bad Gateway",
     "output_type": "error",
     "traceback": [
      "\u001b[1;31m---------------------------------------------------------------------------\u001b[0m",
      "\u001b[1;31mHTTPError\u001b[0m                                 Traceback (most recent call last)",
      "File \u001b[1;32mc:\\Users\\Jaewon\\Documents\\GitHub\\RocGunHungerEda\\.conda\\Lib\\site-packages\\geopy\\adapters.py:297\u001b[0m, in \u001b[0;36mURLLibAdapter.get_text\u001b[1;34m(self, url, timeout, headers)\u001b[0m\n\u001b[0;32m    296\u001b[0m \u001b[39mtry\u001b[39;00m:\n\u001b[1;32m--> 297\u001b[0m     page \u001b[39m=\u001b[39m \u001b[39mself\u001b[39;49m\u001b[39m.\u001b[39;49murlopen(req, timeout\u001b[39m=\u001b[39;49mtimeout)\n\u001b[0;32m    298\u001b[0m \u001b[39mexcept\u001b[39;00m \u001b[39mException\u001b[39;00m \u001b[39mas\u001b[39;00m error:\n",
      "File \u001b[1;32mc:\\Users\\Jaewon\\Documents\\GitHub\\RocGunHungerEda\\.conda\\Lib\\urllib\\request.py:525\u001b[0m, in \u001b[0;36mOpenerDirector.open\u001b[1;34m(self, fullurl, data, timeout)\u001b[0m\n\u001b[0;32m    524\u001b[0m     meth \u001b[39m=\u001b[39m \u001b[39mgetattr\u001b[39m(processor, meth_name)\n\u001b[1;32m--> 525\u001b[0m     response \u001b[39m=\u001b[39m meth(req, response)\n\u001b[0;32m    527\u001b[0m \u001b[39mreturn\u001b[39;00m response\n",
      "File \u001b[1;32mc:\\Users\\Jaewon\\Documents\\GitHub\\RocGunHungerEda\\.conda\\Lib\\urllib\\request.py:634\u001b[0m, in \u001b[0;36mHTTPErrorProcessor.http_response\u001b[1;34m(self, request, response)\u001b[0m\n\u001b[0;32m    633\u001b[0m \u001b[39mif\u001b[39;00m \u001b[39mnot\u001b[39;00m (\u001b[39m200\u001b[39m \u001b[39m<\u001b[39m\u001b[39m=\u001b[39m code \u001b[39m<\u001b[39m \u001b[39m300\u001b[39m):\n\u001b[1;32m--> 634\u001b[0m     response \u001b[39m=\u001b[39m \u001b[39mself\u001b[39;49m\u001b[39m.\u001b[39;49mparent\u001b[39m.\u001b[39;49merror(\n\u001b[0;32m    635\u001b[0m         \u001b[39m'\u001b[39;49m\u001b[39mhttp\u001b[39;49m\u001b[39m'\u001b[39;49m, request, response, code, msg, hdrs)\n\u001b[0;32m    637\u001b[0m \u001b[39mreturn\u001b[39;00m response\n",
      "File \u001b[1;32mc:\\Users\\Jaewon\\Documents\\GitHub\\RocGunHungerEda\\.conda\\Lib\\urllib\\request.py:563\u001b[0m, in \u001b[0;36mOpenerDirector.error\u001b[1;34m(self, proto, *args)\u001b[0m\n\u001b[0;32m    562\u001b[0m args \u001b[39m=\u001b[39m (\u001b[39mdict\u001b[39m, \u001b[39m'\u001b[39m\u001b[39mdefault\u001b[39m\u001b[39m'\u001b[39m, \u001b[39m'\u001b[39m\u001b[39mhttp_error_default\u001b[39m\u001b[39m'\u001b[39m) \u001b[39m+\u001b[39m orig_args\n\u001b[1;32m--> 563\u001b[0m \u001b[39mreturn\u001b[39;00m \u001b[39mself\u001b[39;49m\u001b[39m.\u001b[39;49m_call_chain(\u001b[39m*\u001b[39;49margs)\n",
      "File \u001b[1;32mc:\\Users\\Jaewon\\Documents\\GitHub\\RocGunHungerEda\\.conda\\Lib\\urllib\\request.py:496\u001b[0m, in \u001b[0;36mOpenerDirector._call_chain\u001b[1;34m(self, chain, kind, meth_name, *args)\u001b[0m\n\u001b[0;32m    495\u001b[0m func \u001b[39m=\u001b[39m \u001b[39mgetattr\u001b[39m(handler, meth_name)\n\u001b[1;32m--> 496\u001b[0m result \u001b[39m=\u001b[39m func(\u001b[39m*\u001b[39;49margs)\n\u001b[0;32m    497\u001b[0m \u001b[39mif\u001b[39;00m result \u001b[39mis\u001b[39;00m \u001b[39mnot\u001b[39;00m \u001b[39mNone\u001b[39;00m:\n",
      "File \u001b[1;32mc:\\Users\\Jaewon\\Documents\\GitHub\\RocGunHungerEda\\.conda\\Lib\\urllib\\request.py:643\u001b[0m, in \u001b[0;36mHTTPDefaultErrorHandler.http_error_default\u001b[1;34m(self, req, fp, code, msg, hdrs)\u001b[0m\n\u001b[0;32m    642\u001b[0m \u001b[39mdef\u001b[39;00m \u001b[39mhttp_error_default\u001b[39m(\u001b[39mself\u001b[39m, req, fp, code, msg, hdrs):\n\u001b[1;32m--> 643\u001b[0m     \u001b[39mraise\u001b[39;00m HTTPError(req\u001b[39m.\u001b[39mfull_url, code, msg, hdrs, fp)\n",
      "\u001b[1;31mHTTPError\u001b[0m: HTTP Error 502: Bad Gateway",
      "\nDuring handling of the above exception, another exception occurred:\n",
      "\u001b[1;31mAdapterHTTPError\u001b[0m                          Traceback (most recent call last)",
      "File \u001b[1;32mc:\\Users\\Jaewon\\Documents\\GitHub\\RocGunHungerEda\\.conda\\Lib\\site-packages\\geopy\\geocoders\\base.py:368\u001b[0m, in \u001b[0;36mGeocoder._call_geocoder\u001b[1;34m(self, url, callback, timeout, is_json, headers)\u001b[0m\n\u001b[0;32m    367\u001b[0m \u001b[39mif\u001b[39;00m is_json:\n\u001b[1;32m--> 368\u001b[0m     result \u001b[39m=\u001b[39m \u001b[39mself\u001b[39;49m\u001b[39m.\u001b[39;49madapter\u001b[39m.\u001b[39;49mget_json(url, timeout\u001b[39m=\u001b[39;49mtimeout, headers\u001b[39m=\u001b[39;49mreq_headers)\n\u001b[0;32m    369\u001b[0m \u001b[39melse\u001b[39;00m:\n",
      "File \u001b[1;32mc:\\Users\\Jaewon\\Documents\\GitHub\\RocGunHungerEda\\.conda\\Lib\\site-packages\\geopy\\adapters.py:286\u001b[0m, in \u001b[0;36mURLLibAdapter.get_json\u001b[1;34m(self, url, timeout, headers)\u001b[0m\n\u001b[0;32m    285\u001b[0m \u001b[39mdef\u001b[39;00m \u001b[39mget_json\u001b[39m(\u001b[39mself\u001b[39m, url, \u001b[39m*\u001b[39m, timeout, headers):\n\u001b[1;32m--> 286\u001b[0m     text \u001b[39m=\u001b[39m \u001b[39mself\u001b[39;49m\u001b[39m.\u001b[39;49mget_text(url, timeout\u001b[39m=\u001b[39;49mtimeout, headers\u001b[39m=\u001b[39;49mheaders)\n\u001b[0;32m    287\u001b[0m     \u001b[39mtry\u001b[39;00m:\n",
      "File \u001b[1;32mc:\\Users\\Jaewon\\Documents\\GitHub\\RocGunHungerEda\\.conda\\Lib\\site-packages\\geopy\\adapters.py:307\u001b[0m, in \u001b[0;36mURLLibAdapter.get_text\u001b[1;34m(self, url, timeout, headers)\u001b[0m\n\u001b[0;32m    306\u001b[0m     body \u001b[39m=\u001b[39m \u001b[39mself\u001b[39m\u001b[39m.\u001b[39m_read_http_error_body(error)\n\u001b[1;32m--> 307\u001b[0m     \u001b[39mraise\u001b[39;00m AdapterHTTPError(\n\u001b[0;32m    308\u001b[0m         message,\n\u001b[0;32m    309\u001b[0m         status_code\u001b[39m=\u001b[39mcode,\n\u001b[0;32m    310\u001b[0m         headers\u001b[39m=\u001b[39mresponse_headers,\n\u001b[0;32m    311\u001b[0m         text\u001b[39m=\u001b[39mbody,\n\u001b[0;32m    312\u001b[0m     )\n\u001b[0;32m    313\u001b[0m \u001b[39melif\u001b[39;00m \u001b[39misinstance\u001b[39m(error, URLError):\n",
      "\u001b[1;31mAdapterHTTPError\u001b[0m: HTTP Error 502: Bad Gateway",
      "\nThe above exception was the direct cause of the following exception:\n",
      "\u001b[1;31mGeocoderServiceError\u001b[0m                      Traceback (most recent call last)",
      "Cell \u001b[1;32mIn[13], line 15\u001b[0m\n\u001b[0;32m     13\u001b[0m \u001b[39mfor\u001b[39;00m i \u001b[39min\u001b[39;00m \u001b[39mrange\u001b[39m(\u001b[39mlen\u001b[39m(gun_lat)):\n\u001b[0;32m     14\u001b[0m     time\u001b[39m.\u001b[39msleep(\u001b[39m1\u001b[39m)\n\u001b[1;32m---> 15\u001b[0m     location \u001b[39m=\u001b[39m geolocator\u001b[39m.\u001b[39;49mreverse((gun_lat[i],gun_long[i]), timeout\u001b[39m=\u001b[39;49m\u001b[39m10\u001b[39;49m)\n\u001b[0;32m     16\u001b[0m     address \u001b[39m=\u001b[39m location\u001b[39m.\u001b[39mraw[\u001b[39m'\u001b[39m\u001b[39maddress\u001b[39m\u001b[39m'\u001b[39m]\n\u001b[0;32m     17\u001b[0m     zipcode\u001b[39m.\u001b[39mappend(address\u001b[39m.\u001b[39mget(\u001b[39m'\u001b[39m\u001b[39mpostcode\u001b[39m\u001b[39m'\u001b[39m)) \n",
      "File \u001b[1;32mc:\\Users\\Jaewon\\Documents\\GitHub\\RocGunHungerEda\\.conda\\Lib\\site-packages\\geopy\\geocoders\\nominatim.py:372\u001b[0m, in \u001b[0;36mNominatim.reverse\u001b[1;34m(self, query, exactly_one, timeout, language, addressdetails, zoom, namedetails)\u001b[0m\n\u001b[0;32m    370\u001b[0m logger\u001b[39m.\u001b[39mdebug(\u001b[39m\"\u001b[39m\u001b[39m%s\u001b[39;00m\u001b[39m.reverse: \u001b[39m\u001b[39m%s\u001b[39;00m\u001b[39m\"\u001b[39m, \u001b[39mself\u001b[39m\u001b[39m.\u001b[39m\u001b[39m__class__\u001b[39m\u001b[39m.\u001b[39m\u001b[39m__name__\u001b[39m, url)\n\u001b[0;32m    371\u001b[0m callback \u001b[39m=\u001b[39m partial(\u001b[39mself\u001b[39m\u001b[39m.\u001b[39m_parse_json, exactly_one\u001b[39m=\u001b[39mexactly_one)\n\u001b[1;32m--> 372\u001b[0m \u001b[39mreturn\u001b[39;00m \u001b[39mself\u001b[39;49m\u001b[39m.\u001b[39;49m_call_geocoder(url, callback, timeout\u001b[39m=\u001b[39;49mtimeout)\n",
      "File \u001b[1;32mc:\\Users\\Jaewon\\Documents\\GitHub\\RocGunHungerEda\\.conda\\Lib\\site-packages\\geopy\\geocoders\\base.py:388\u001b[0m, in \u001b[0;36mGeocoder._call_geocoder\u001b[1;34m(self, url, callback, timeout, is_json, headers)\u001b[0m\n\u001b[0;32m    386\u001b[0m         \u001b[39mreturn\u001b[39;00m callback(result)\n\u001b[0;32m    387\u001b[0m \u001b[39mexcept\u001b[39;00m \u001b[39mException\u001b[39;00m \u001b[39mas\u001b[39;00m error:\n\u001b[1;32m--> 388\u001b[0m     res \u001b[39m=\u001b[39m \u001b[39mself\u001b[39;49m\u001b[39m.\u001b[39;49m_adapter_error_handler(error)\n\u001b[0;32m    389\u001b[0m     \u001b[39mif\u001b[39;00m res \u001b[39mis\u001b[39;00m NONE_RESULT:\n\u001b[0;32m    390\u001b[0m         \u001b[39mreturn\u001b[39;00m \u001b[39mNone\u001b[39;00m\n",
      "File \u001b[1;32mc:\\Users\\Jaewon\\Documents\\GitHub\\RocGunHungerEda\\.conda\\Lib\\site-packages\\geopy\\geocoders\\base.py:411\u001b[0m, in \u001b[0;36mGeocoder._adapter_error_handler\u001b[1;34m(self, error)\u001b[0m\n\u001b[0;32m    407\u001b[0m         \u001b[39mraise\u001b[39;00m exc_cls(\n\u001b[0;32m    408\u001b[0m             \u001b[39mstr\u001b[39m(error), retry_after\u001b[39m=\u001b[39mget_retry_after(error\u001b[39m.\u001b[39mheaders)\n\u001b[0;32m    409\u001b[0m         ) \u001b[39mfrom\u001b[39;00m \u001b[39merror\u001b[39;00m\n\u001b[0;32m    410\u001b[0m     \u001b[39melse\u001b[39;00m:\n\u001b[1;32m--> 411\u001b[0m         \u001b[39mraise\u001b[39;00m exc_cls(\u001b[39mstr\u001b[39m(error)) \u001b[39mfrom\u001b[39;00m \u001b[39merror\u001b[39;00m\n\u001b[0;32m    412\u001b[0m \u001b[39melse\u001b[39;00m:\n\u001b[0;32m    413\u001b[0m     res \u001b[39m=\u001b[39m \u001b[39mself\u001b[39m\u001b[39m.\u001b[39m_geocoder_exception_handler(error)\n",
      "\u001b[1;31mGeocoderServiceError\u001b[0m: HTTP Error 502: Bad Gateway"
     ]
    }
   ],
   "source": [
    "# IMPORT NOMINATIM\n",
    "from geopy.geocoders import Nominatim\n",
    "import time\n",
    "\n",
    "# PREPROCESSING TOOLS AND DATA\n",
    "geolocator = Nominatim(user_agent='myapplication')\n",
    "gun_coords = gun_data[['Latitude','Longitude']]\n",
    "\n",
    "# CREATE OUR CONVERTER \n",
    "zipcode=[]\n",
    "gun_lat = gun_data[\"Latitude\"].tolist()\n",
    "gun_long=gun_data[\"Longitude\"].tolist()\n",
    "for i in range(len(gun_lat)):\n",
    "    time.sleep(1)\n",
    "    location = geolocator.reverse((gun_lat[i],gun_long[i]), timeout=10)\n",
    "    address = location.raw['address']\n",
    "    zipcode.append(address.get('postcode')) \n",
    "\n",
    "zipcode = pd.Series(zipcode)\n",
    "\n",
    "gun_data['Zip_Code'] = zipcode"
   ]
  },
  {
   "cell_type": "code",
   "execution_count": null,
   "metadata": {},
   "outputs": [
    {
     "name": "stderr",
     "output_type": "stream",
     "text": [
      "C:\\Users\\Jaewon\\AppData\\Local\\Temp\\ipykernel_32612\\1893029774.py:15: FutureWarning:\n",
      "\n",
      "The frame.append method is deprecated and will be removed from pandas in a future version. Use pandas.concat instead.\n",
      "\n",
      "C:\\Users\\Jaewon\\AppData\\Local\\Temp\\ipykernel_32612\\1893029774.py:15: FutureWarning:\n",
      "\n",
      "The frame.append method is deprecated and will be removed from pandas in a future version. Use pandas.concat instead.\n",
      "\n",
      "C:\\Users\\Jaewon\\AppData\\Local\\Temp\\ipykernel_32612\\1893029774.py:15: FutureWarning:\n",
      "\n",
      "The frame.append method is deprecated and will be removed from pandas in a future version. Use pandas.concat instead.\n",
      "\n",
      "C:\\Users\\Jaewon\\AppData\\Local\\Temp\\ipykernel_32612\\1893029774.py:15: FutureWarning:\n",
      "\n",
      "The frame.append method is deprecated and will be removed from pandas in a future version. Use pandas.concat instead.\n",
      "\n",
      "C:\\Users\\Jaewon\\AppData\\Local\\Temp\\ipykernel_32612\\1893029774.py:15: FutureWarning:\n",
      "\n",
      "The frame.append method is deprecated and will be removed from pandas in a future version. Use pandas.concat instead.\n",
      "\n",
      "C:\\Users\\Jaewon\\AppData\\Local\\Temp\\ipykernel_32612\\1893029774.py:15: FutureWarning:\n",
      "\n",
      "The frame.append method is deprecated and will be removed from pandas in a future version. Use pandas.concat instead.\n",
      "\n",
      "C:\\Users\\Jaewon\\AppData\\Local\\Temp\\ipykernel_32612\\1893029774.py:15: FutureWarning:\n",
      "\n",
      "The frame.append method is deprecated and will be removed from pandas in a future version. Use pandas.concat instead.\n",
      "\n",
      "C:\\Users\\Jaewon\\AppData\\Local\\Temp\\ipykernel_32612\\1893029774.py:15: FutureWarning:\n",
      "\n",
      "The frame.append method is deprecated and will be removed from pandas in a future version. Use pandas.concat instead.\n",
      "\n",
      "C:\\Users\\Jaewon\\AppData\\Local\\Temp\\ipykernel_32612\\1893029774.py:15: FutureWarning:\n",
      "\n",
      "The frame.append method is deprecated and will be removed from pandas in a future version. Use pandas.concat instead.\n",
      "\n",
      "C:\\Users\\Jaewon\\AppData\\Local\\Temp\\ipykernel_32612\\1893029774.py:15: FutureWarning:\n",
      "\n",
      "The frame.append method is deprecated and will be removed from pandas in a future version. Use pandas.concat instead.\n",
      "\n",
      "C:\\Users\\Jaewon\\AppData\\Local\\Temp\\ipykernel_32612\\1893029774.py:15: FutureWarning:\n",
      "\n",
      "The frame.append method is deprecated and will be removed from pandas in a future version. Use pandas.concat instead.\n",
      "\n"
     ]
    },
    {
     "data": {
      "text/html": [
       "<div>\n",
       "<style scoped>\n",
       "    .dataframe tbody tr th:only-of-type {\n",
       "        vertical-align: middle;\n",
       "    }\n",
       "\n",
       "    .dataframe tbody tr th {\n",
       "        vertical-align: top;\n",
       "    }\n",
       "\n",
       "    .dataframe thead th {\n",
       "        text-align: right;\n",
       "    }\n",
       "</style>\n",
       "<table border=\"1\" class=\"dataframe\">\n",
       "  <thead>\n",
       "    <tr style=\"text-align: right;\">\n",
       "      <th></th>\n",
       "      <th>Zip_Code</th>\n",
       "      <th>Number of Shootings</th>\n",
       "    </tr>\n",
       "  </thead>\n",
       "  <tbody>\n",
       "    <tr>\n",
       "      <th>0</th>\n",
       "      <td>14604</td>\n",
       "      <td>1</td>\n",
       "    </tr>\n",
       "    <tr>\n",
       "      <th>1</th>\n",
       "      <td>14605</td>\n",
       "      <td>6</td>\n",
       "    </tr>\n",
       "    <tr>\n",
       "      <th>2</th>\n",
       "      <td>14606</td>\n",
       "      <td>6</td>\n",
       "    </tr>\n",
       "    <tr>\n",
       "      <th>3</th>\n",
       "      <td>14608</td>\n",
       "      <td>16</td>\n",
       "    </tr>\n",
       "    <tr>\n",
       "      <th>4</th>\n",
       "      <td>14609</td>\n",
       "      <td>18</td>\n",
       "    </tr>\n",
       "  </tbody>\n",
       "</table>\n",
       "</div>"
      ],
      "text/plain": [
       "  Zip_Code  Number of Shootings\n",
       "0    14604                    1\n",
       "1    14605                    6\n",
       "2    14606                    6\n",
       "3    14608                   16\n",
       "4    14609                   18"
      ]
     },
     "execution_count": 16,
     "metadata": {},
     "output_type": "execute_result"
    }
   ],
   "source": [
    "# GROUP BY ZIP CODE\n",
    "gun_count = gun_data.groupby([\"Zip_Code\"])[\"X\"].count().reset_index(name=\"count\")\n",
    "\n",
    "# ADD MISSING ZIP CODES\n",
    "allzip = list(range(14604, 14624))\n",
    "allzip.append(14626)\n",
    "allzip.append(14627)\n",
    "allzip.append(14642)\n",
    "\n",
    "zip_gun = gun_count[\"Zip_Code\"].tolist()\n",
    "zip_gun = {int(x) for x in zip_gun}\n",
    "zip_noinclude = list(set(allzip) - set(zip_gun))\n",
    "\n",
    "for i in range(len(zip_noinclude)):\n",
    "    gun_count = gun_count.append({'Zip_Code': zip_noinclude[i], 'count': 0}, ignore_index=True)\n",
    "\n",
    "gun_count.rename(columns={'count': 'Number of Shootings'}, inplace=True)\n",
    "\n",
    "gun_count.head()"
   ]
  },
  {
   "attachments": {},
   "cell_type": "markdown",
   "metadata": {},
   "source": [
    "##### MERGE HUNGER AND GUN VIOLENCE DATA"
   ]
  },
  {
   "cell_type": "code",
   "execution_count": null,
   "metadata": {},
   "outputs": [],
   "source": [
    "gun_count['Zip_Code'] = gun_count['Zip_Code'].astype(int)"
   ]
  },
  {
   "cell_type": "code",
   "execution_count": null,
   "metadata": {},
   "outputs": [
    {
     "name": "stdout",
     "output_type": "stream",
     "text": [
      "                         FULL DATA SET\n"
     ]
    },
    {
     "data": {
      "text/html": [
       "<div>\n",
       "<style scoped>\n",
       "    .dataframe tbody tr th:only-of-type {\n",
       "        vertical-align: middle;\n",
       "    }\n",
       "\n",
       "    .dataframe tbody tr th {\n",
       "        vertical-align: top;\n",
       "    }\n",
       "\n",
       "    .dataframe thead th {\n",
       "        text-align: right;\n",
       "    }\n",
       "</style>\n",
       "<table border=\"1\" class=\"dataframe\">\n",
       "  <thead>\n",
       "    <tr style=\"text-align: right;\">\n",
       "      <th></th>\n",
       "      <th>Zip_Code</th>\n",
       "      <th>Latitude</th>\n",
       "      <th>Longitude</th>\n",
       "      <th>Food Insecurity</th>\n",
       "      <th>Number of Shootings</th>\n",
       "    </tr>\n",
       "  </thead>\n",
       "  <tbody>\n",
       "    <tr>\n",
       "      <th>0</th>\n",
       "      <td>14626</td>\n",
       "      <td>43.2141</td>\n",
       "      <td>-77.7135</td>\n",
       "      <td>0.094</td>\n",
       "      <td>0</td>\n",
       "    </tr>\n",
       "    <tr>\n",
       "      <th>1</th>\n",
       "      <td>14623</td>\n",
       "      <td>43.0881</td>\n",
       "      <td>-77.6425</td>\n",
       "      <td>0.167</td>\n",
       "      <td>0</td>\n",
       "    </tr>\n",
       "    <tr>\n",
       "      <th>2</th>\n",
       "      <td>14622</td>\n",
       "      <td>43.2138</td>\n",
       "      <td>-77.5569</td>\n",
       "      <td>0.080</td>\n",
       "      <td>0</td>\n",
       "    </tr>\n",
       "    <tr>\n",
       "      <th>3</th>\n",
       "      <td>14621</td>\n",
       "      <td>43.1863</td>\n",
       "      <td>-77.6018</td>\n",
       "      <td>0.298</td>\n",
       "      <td>23</td>\n",
       "    </tr>\n",
       "    <tr>\n",
       "      <th>4</th>\n",
       "      <td>14620</td>\n",
       "      <td>43.1291</td>\n",
       "      <td>-77.6065</td>\n",
       "      <td>0.187</td>\n",
       "      <td>0</td>\n",
       "    </tr>\n",
       "    <tr>\n",
       "      <th>5</th>\n",
       "      <td>14619</td>\n",
       "      <td>43.1363</td>\n",
       "      <td>-77.6493</td>\n",
       "      <td>0.281</td>\n",
       "      <td>3</td>\n",
       "    </tr>\n",
       "    <tr>\n",
       "      <th>6</th>\n",
       "      <td>14618</td>\n",
       "      <td>43.1126</td>\n",
       "      <td>-77.5555</td>\n",
       "      <td>0.077</td>\n",
       "      <td>0</td>\n",
       "    </tr>\n",
       "    <tr>\n",
       "      <th>7</th>\n",
       "      <td>14617</td>\n",
       "      <td>43.2242</td>\n",
       "      <td>-77.5951</td>\n",
       "      <td>0.073</td>\n",
       "      <td>0</td>\n",
       "    </tr>\n",
       "    <tr>\n",
       "      <th>8</th>\n",
       "      <td>14616</td>\n",
       "      <td>43.2340</td>\n",
       "      <td>-77.6550</td>\n",
       "      <td>0.106</td>\n",
       "      <td>0</td>\n",
       "    </tr>\n",
       "    <tr>\n",
       "      <th>9</th>\n",
       "      <td>14615</td>\n",
       "      <td>43.2049</td>\n",
       "      <td>-77.6550</td>\n",
       "      <td>0.190</td>\n",
       "      <td>1</td>\n",
       "    </tr>\n",
       "  </tbody>\n",
       "</table>\n",
       "</div>"
      ],
      "text/plain": [
       "   Zip_Code  Latitude  Longitude  Food Insecurity  Number of Shootings\n",
       "0     14626   43.2141   -77.7135            0.094                    0\n",
       "1     14623   43.0881   -77.6425            0.167                    0\n",
       "2     14622   43.2138   -77.5569            0.080                    0\n",
       "3     14621   43.1863   -77.6018            0.298                   23\n",
       "4     14620   43.1291   -77.6065            0.187                    0\n",
       "5     14619   43.1363   -77.6493            0.281                    3\n",
       "6     14618   43.1126   -77.5555            0.077                    0\n",
       "7     14617   43.2242   -77.5951            0.073                    0\n",
       "8     14616   43.2340   -77.6550            0.106                    0\n",
       "9     14615   43.2049   -77.6550            0.190                    1"
      ]
     },
     "execution_count": 18,
     "metadata": {},
     "output_type": "execute_result"
    }
   ],
   "source": [
    "full_data = pd.merge(hunger_data, gun_count, on='Zip_Code')\n",
    "print(\"                         FULL DATA SET\")\n",
    "full_data.head(10)"
   ]
  },
  {
   "attachments": {},
   "cell_type": "markdown",
   "metadata": {},
   "source": [
    "##### SCALE FI RATE AND GUN VIOLENCE RATE"
   ]
  },
  {
   "cell_type": "code",
   "execution_count": null,
   "metadata": {},
   "outputs": [
    {
     "name": "stdout",
     "output_type": "stream",
     "text": [
      "                   Scaled Dataset Using Min-Max Normalization\n"
     ]
    },
    {
     "data": {
      "text/html": [
       "<div>\n",
       "<style scoped>\n",
       "    .dataframe tbody tr th:only-of-type {\n",
       "        vertical-align: middle;\n",
       "    }\n",
       "\n",
       "    .dataframe tbody tr th {\n",
       "        vertical-align: top;\n",
       "    }\n",
       "\n",
       "    .dataframe thead th {\n",
       "        text-align: right;\n",
       "    }\n",
       "</style>\n",
       "<table border=\"1\" class=\"dataframe\">\n",
       "  <thead>\n",
       "    <tr style=\"text-align: right;\">\n",
       "      <th></th>\n",
       "      <th>Zip_Code</th>\n",
       "      <th>Latitude</th>\n",
       "      <th>Longitude</th>\n",
       "      <th>Food Insecurity</th>\n",
       "      <th>Number of Shootings</th>\n",
       "      <th>Gun Violence</th>\n",
       "    </tr>\n",
       "  </thead>\n",
       "  <tbody>\n",
       "    <tr>\n",
       "      <th>0</th>\n",
       "      <td>14626</td>\n",
       "      <td>43.2141</td>\n",
       "      <td>-77.7135</td>\n",
       "      <td>0.063063</td>\n",
       "      <td>0</td>\n",
       "      <td>0.0</td>\n",
       "    </tr>\n",
       "    <tr>\n",
       "      <th>1</th>\n",
       "      <td>14623</td>\n",
       "      <td>43.0881</td>\n",
       "      <td>-77.6425</td>\n",
       "      <td>0.282282</td>\n",
       "      <td>0</td>\n",
       "      <td>0.0</td>\n",
       "    </tr>\n",
       "    <tr>\n",
       "      <th>2</th>\n",
       "      <td>14622</td>\n",
       "      <td>43.2138</td>\n",
       "      <td>-77.5569</td>\n",
       "      <td>0.021021</td>\n",
       "      <td>0</td>\n",
       "      <td>0.0</td>\n",
       "    </tr>\n",
       "    <tr>\n",
       "      <th>3</th>\n",
       "      <td>14621</td>\n",
       "      <td>43.1863</td>\n",
       "      <td>-77.6018</td>\n",
       "      <td>0.675676</td>\n",
       "      <td>23</td>\n",
       "      <td>1.0</td>\n",
       "    </tr>\n",
       "    <tr>\n",
       "      <th>4</th>\n",
       "      <td>14620</td>\n",
       "      <td>43.1291</td>\n",
       "      <td>-77.6065</td>\n",
       "      <td>0.342342</td>\n",
       "      <td>0</td>\n",
       "      <td>0.0</td>\n",
       "    </tr>\n",
       "  </tbody>\n",
       "</table>\n",
       "</div>"
      ],
      "text/plain": [
       "   Zip_Code  Latitude  Longitude  Food Insecurity  Number of Shootings  \\\n",
       "0     14626   43.2141   -77.7135         0.063063                    0   \n",
       "1     14623   43.0881   -77.6425         0.282282                    0   \n",
       "2     14622   43.2138   -77.5569         0.021021                    0   \n",
       "3     14621   43.1863   -77.6018         0.675676                   23   \n",
       "4     14620   43.1291   -77.6065         0.342342                    0   \n",
       "\n",
       "   Gun Violence  \n",
       "0           0.0  \n",
       "1           0.0  \n",
       "2           0.0  \n",
       "3           1.0  \n",
       "4           0.0  "
      ]
     },
     "execution_count": 33,
     "metadata": {},
     "output_type": "execute_result"
    }
   ],
   "source": [
    "import seaborn as sns\n",
    "\n",
    "full_data['Food Insecurity'] = (full_data['Food Insecurity']-full_data['Food Insecurity'].min())/(full_data['Food Insecurity'].max()-full_data['Food Insecurity'].min())\n",
    "full_data['Gun Violence'] = (full_data['Number of Shootings']-full_data['Number of Shootings'].min())/(full_data['Number of Shootings'].max()-full_data['Number of Shootings'].min())\n",
    "\n",
    "print(\"                   Scaled Dataset Using Min-Max Normalization\")\n",
    "full_data.head(5)"
   ]
  },
  {
   "attachments": {},
   "cell_type": "markdown",
   "metadata": {},
   "source": [
    "### PLOTTING BOTH DATASETS"
   ]
  },
  {
   "cell_type": "code",
   "execution_count": null,
   "metadata": {},
   "outputs": [
    {
     "data": {
      "application/vnd.plotly.v1+json": {
       "config": {
        "plotlyServerURL": "https://plot.ly"
       },
       "data": [
        {
         "customdata": [
          [
           0,
           0,
           14626
          ],
          [
           0,
           0,
           14623
          ],
          [
           0,
           0,
           14622
          ],
          [
           23,
           1,
           14621
          ],
          [
           0,
           0,
           14620
          ],
          [
           3,
           0.13043478260869565,
           14619
          ],
          [
           0,
           0,
           14618
          ],
          [
           0,
           0,
           14617
          ],
          [
           0,
           0,
           14616
          ],
          [
           1,
           0.043478260869565216,
           14615
          ],
          [
           9,
           0.391304347826087,
           14613
          ],
          [
           0,
           0,
           14612
          ],
          [
           13,
           0.5652173913043478,
           14611
          ],
          [
           0,
           0,
           14610
          ],
          [
           18,
           0.782608695652174,
           14609
          ],
          [
           16,
           0.6956521739130435,
           14608
          ],
          [
           0,
           0,
           14607
          ],
          [
           6,
           0.2608695652173913,
           14606
          ],
          [
           6,
           0.2608695652173913,
           14605
          ],
          [
           1,
           0.043478260869565216,
           14604
          ]
         ],
         "hovertemplate": "Gun Violence=%{marker.color}<br>Latitude=%{lat}<br>Longitude=%{lon}<br>Number of Shootings=%{customdata[0]}<br>Zip_Code=%{customdata[2]}<extra></extra>",
         "lat": [
          43.2141,
          43.0881,
          43.2138,
          43.1863,
          43.1291,
          43.1363,
          43.1126,
          43.2242,
          43.234,
          43.2049,
          43.1828,
          43.2648,
          43.1372,
          43.1432,
          43.1767,
          43.1539,
          43.1512,
          43.1711,
          43.1681,
          43.1567
         ],
         "legendgroup": "",
         "lon": [
          -77.7135,
          -77.6425,
          -77.5569,
          -77.6018,
          -77.6065,
          -77.6493,
          -77.5555,
          -77.5951,
          -77.655,
          -77.655,
          -77.6402,
          -77.6753,
          -77.6325,
          -77.5468,
          -77.5545,
          -77.6239,
          -77.5874,
          -77.6983,
          -77.6016,
          -77.6056
         ],
         "marker": {
          "color": [
           0,
           0,
           0,
           1,
           0,
           0.13043478260869565,
           0,
           0,
           0,
           0.043478260869565216,
           0.391304347826087,
           0,
           0.5652173913043478,
           0,
           0.782608695652174,
           0.6956521739130435,
           0,
           0.2608695652173913,
           0.2608695652173913,
           0.043478260869565216
          ],
          "coloraxis": "coloraxis",
          "size": [
           0,
           0,
           0,
           1,
           0,
           0.13043478260869565,
           0,
           0,
           0,
           0.043478260869565216,
           0.391304347826087,
           0,
           0.5652173913043478,
           0,
           0.782608695652174,
           0.6956521739130435,
           0,
           0.2608695652173913,
           0.2608695652173913,
           0.043478260869565216
          ],
          "sizemode": "area",
          "sizeref": 0.0025
         },
         "mode": "markers",
         "name": "",
         "showlegend": false,
         "subplot": "mapbox",
         "type": "scattermapbox"
        }
       ],
       "layout": {
        "coloraxis": {
         "colorbar": {
          "title": {
           "text": "Gun Violence"
          }
         },
         "colorscale": [
          [
           0,
           "rgb(0,104,55)"
          ],
          [
           0.1,
           "rgb(26,152,80)"
          ],
          [
           0.2,
           "rgb(102,189,99)"
          ],
          [
           0.3,
           "rgb(166,217,106)"
          ],
          [
           0.4,
           "rgb(217,239,139)"
          ],
          [
           0.5,
           "rgb(255,255,191)"
          ],
          [
           0.6,
           "rgb(254,224,139)"
          ],
          [
           0.7,
           "rgb(253,174,97)"
          ],
          [
           0.8,
           "rgb(244,109,67)"
          ],
          [
           0.9,
           "rgb(215,48,39)"
          ],
          [
           1,
           "rgb(165,0,38)"
          ]
         ]
        },
        "height": 400,
        "legend": {
         "itemsizing": "constant",
         "tracegroupgap": 0
        },
        "mapbox": {
         "center": {
          "lat": 43.172455,
          "lon": -77.61986
         },
         "domain": {
          "x": [
           0,
           1
          ],
          "y": [
           0,
           1
          ]
         },
         "style": "open-street-map",
         "zoom": 10
        },
        "template": {
         "data": {
          "bar": [
           {
            "error_x": {
             "color": "#2a3f5f"
            },
            "error_y": {
             "color": "#2a3f5f"
            },
            "marker": {
             "line": {
              "color": "#E5ECF6",
              "width": 0.5
             },
             "pattern": {
              "fillmode": "overlay",
              "size": 10,
              "solidity": 0.2
             }
            },
            "type": "bar"
           }
          ],
          "barpolar": [
           {
            "marker": {
             "line": {
              "color": "#E5ECF6",
              "width": 0.5
             },
             "pattern": {
              "fillmode": "overlay",
              "size": 10,
              "solidity": 0.2
             }
            },
            "type": "barpolar"
           }
          ],
          "carpet": [
           {
            "aaxis": {
             "endlinecolor": "#2a3f5f",
             "gridcolor": "white",
             "linecolor": "white",
             "minorgridcolor": "white",
             "startlinecolor": "#2a3f5f"
            },
            "baxis": {
             "endlinecolor": "#2a3f5f",
             "gridcolor": "white",
             "linecolor": "white",
             "minorgridcolor": "white",
             "startlinecolor": "#2a3f5f"
            },
            "type": "carpet"
           }
          ],
          "choropleth": [
           {
            "colorbar": {
             "outlinewidth": 0,
             "ticks": ""
            },
            "type": "choropleth"
           }
          ],
          "contour": [
           {
            "colorbar": {
             "outlinewidth": 0,
             "ticks": ""
            },
            "colorscale": [
             [
              0,
              "#0d0887"
             ],
             [
              0.1111111111111111,
              "#46039f"
             ],
             [
              0.2222222222222222,
              "#7201a8"
             ],
             [
              0.3333333333333333,
              "#9c179e"
             ],
             [
              0.4444444444444444,
              "#bd3786"
             ],
             [
              0.5555555555555556,
              "#d8576b"
             ],
             [
              0.6666666666666666,
              "#ed7953"
             ],
             [
              0.7777777777777778,
              "#fb9f3a"
             ],
             [
              0.8888888888888888,
              "#fdca26"
             ],
             [
              1,
              "#f0f921"
             ]
            ],
            "type": "contour"
           }
          ],
          "contourcarpet": [
           {
            "colorbar": {
             "outlinewidth": 0,
             "ticks": ""
            },
            "type": "contourcarpet"
           }
          ],
          "heatmap": [
           {
            "colorbar": {
             "outlinewidth": 0,
             "ticks": ""
            },
            "colorscale": [
             [
              0,
              "#0d0887"
             ],
             [
              0.1111111111111111,
              "#46039f"
             ],
             [
              0.2222222222222222,
              "#7201a8"
             ],
             [
              0.3333333333333333,
              "#9c179e"
             ],
             [
              0.4444444444444444,
              "#bd3786"
             ],
             [
              0.5555555555555556,
              "#d8576b"
             ],
             [
              0.6666666666666666,
              "#ed7953"
             ],
             [
              0.7777777777777778,
              "#fb9f3a"
             ],
             [
              0.8888888888888888,
              "#fdca26"
             ],
             [
              1,
              "#f0f921"
             ]
            ],
            "type": "heatmap"
           }
          ],
          "heatmapgl": [
           {
            "colorbar": {
             "outlinewidth": 0,
             "ticks": ""
            },
            "colorscale": [
             [
              0,
              "#0d0887"
             ],
             [
              0.1111111111111111,
              "#46039f"
             ],
             [
              0.2222222222222222,
              "#7201a8"
             ],
             [
              0.3333333333333333,
              "#9c179e"
             ],
             [
              0.4444444444444444,
              "#bd3786"
             ],
             [
              0.5555555555555556,
              "#d8576b"
             ],
             [
              0.6666666666666666,
              "#ed7953"
             ],
             [
              0.7777777777777778,
              "#fb9f3a"
             ],
             [
              0.8888888888888888,
              "#fdca26"
             ],
             [
              1,
              "#f0f921"
             ]
            ],
            "type": "heatmapgl"
           }
          ],
          "histogram": [
           {
            "marker": {
             "pattern": {
              "fillmode": "overlay",
              "size": 10,
              "solidity": 0.2
             }
            },
            "type": "histogram"
           }
          ],
          "histogram2d": [
           {
            "colorbar": {
             "outlinewidth": 0,
             "ticks": ""
            },
            "colorscale": [
             [
              0,
              "#0d0887"
             ],
             [
              0.1111111111111111,
              "#46039f"
             ],
             [
              0.2222222222222222,
              "#7201a8"
             ],
             [
              0.3333333333333333,
              "#9c179e"
             ],
             [
              0.4444444444444444,
              "#bd3786"
             ],
             [
              0.5555555555555556,
              "#d8576b"
             ],
             [
              0.6666666666666666,
              "#ed7953"
             ],
             [
              0.7777777777777778,
              "#fb9f3a"
             ],
             [
              0.8888888888888888,
              "#fdca26"
             ],
             [
              1,
              "#f0f921"
             ]
            ],
            "type": "histogram2d"
           }
          ],
          "histogram2dcontour": [
           {
            "colorbar": {
             "outlinewidth": 0,
             "ticks": ""
            },
            "colorscale": [
             [
              0,
              "#0d0887"
             ],
             [
              0.1111111111111111,
              "#46039f"
             ],
             [
              0.2222222222222222,
              "#7201a8"
             ],
             [
              0.3333333333333333,
              "#9c179e"
             ],
             [
              0.4444444444444444,
              "#bd3786"
             ],
             [
              0.5555555555555556,
              "#d8576b"
             ],
             [
              0.6666666666666666,
              "#ed7953"
             ],
             [
              0.7777777777777778,
              "#fb9f3a"
             ],
             [
              0.8888888888888888,
              "#fdca26"
             ],
             [
              1,
              "#f0f921"
             ]
            ],
            "type": "histogram2dcontour"
           }
          ],
          "mesh3d": [
           {
            "colorbar": {
             "outlinewidth": 0,
             "ticks": ""
            },
            "type": "mesh3d"
           }
          ],
          "parcoords": [
           {
            "line": {
             "colorbar": {
              "outlinewidth": 0,
              "ticks": ""
             }
            },
            "type": "parcoords"
           }
          ],
          "pie": [
           {
            "automargin": true,
            "type": "pie"
           }
          ],
          "scatter": [
           {
            "fillpattern": {
             "fillmode": "overlay",
             "size": 10,
             "solidity": 0.2
            },
            "type": "scatter"
           }
          ],
          "scatter3d": [
           {
            "line": {
             "colorbar": {
              "outlinewidth": 0,
              "ticks": ""
             }
            },
            "marker": {
             "colorbar": {
              "outlinewidth": 0,
              "ticks": ""
             }
            },
            "type": "scatter3d"
           }
          ],
          "scattercarpet": [
           {
            "marker": {
             "colorbar": {
              "outlinewidth": 0,
              "ticks": ""
             }
            },
            "type": "scattercarpet"
           }
          ],
          "scattergeo": [
           {
            "marker": {
             "colorbar": {
              "outlinewidth": 0,
              "ticks": ""
             }
            },
            "type": "scattergeo"
           }
          ],
          "scattergl": [
           {
            "marker": {
             "colorbar": {
              "outlinewidth": 0,
              "ticks": ""
             }
            },
            "type": "scattergl"
           }
          ],
          "scattermapbox": [
           {
            "marker": {
             "colorbar": {
              "outlinewidth": 0,
              "ticks": ""
             }
            },
            "type": "scattermapbox"
           }
          ],
          "scatterpolar": [
           {
            "marker": {
             "colorbar": {
              "outlinewidth": 0,
              "ticks": ""
             }
            },
            "type": "scatterpolar"
           }
          ],
          "scatterpolargl": [
           {
            "marker": {
             "colorbar": {
              "outlinewidth": 0,
              "ticks": ""
             }
            },
            "type": "scatterpolargl"
           }
          ],
          "scatterternary": [
           {
            "marker": {
             "colorbar": {
              "outlinewidth": 0,
              "ticks": ""
             }
            },
            "type": "scatterternary"
           }
          ],
          "surface": [
           {
            "colorbar": {
             "outlinewidth": 0,
             "ticks": ""
            },
            "colorscale": [
             [
              0,
              "#0d0887"
             ],
             [
              0.1111111111111111,
              "#46039f"
             ],
             [
              0.2222222222222222,
              "#7201a8"
             ],
             [
              0.3333333333333333,
              "#9c179e"
             ],
             [
              0.4444444444444444,
              "#bd3786"
             ],
             [
              0.5555555555555556,
              "#d8576b"
             ],
             [
              0.6666666666666666,
              "#ed7953"
             ],
             [
              0.7777777777777778,
              "#fb9f3a"
             ],
             [
              0.8888888888888888,
              "#fdca26"
             ],
             [
              1,
              "#f0f921"
             ]
            ],
            "type": "surface"
           }
          ],
          "table": [
           {
            "cells": {
             "fill": {
              "color": "#EBF0F8"
             },
             "line": {
              "color": "white"
             }
            },
            "header": {
             "fill": {
              "color": "#C8D4E3"
             },
             "line": {
              "color": "white"
             }
            },
            "type": "table"
           }
          ]
         },
         "layout": {
          "annotationdefaults": {
           "arrowcolor": "#2a3f5f",
           "arrowhead": 0,
           "arrowwidth": 1
          },
          "autotypenumbers": "strict",
          "coloraxis": {
           "colorbar": {
            "outlinewidth": 0,
            "ticks": ""
           }
          },
          "colorscale": {
           "diverging": [
            [
             0,
             "#8e0152"
            ],
            [
             0.1,
             "#c51b7d"
            ],
            [
             0.2,
             "#de77ae"
            ],
            [
             0.3,
             "#f1b6da"
            ],
            [
             0.4,
             "#fde0ef"
            ],
            [
             0.5,
             "#f7f7f7"
            ],
            [
             0.6,
             "#e6f5d0"
            ],
            [
             0.7,
             "#b8e186"
            ],
            [
             0.8,
             "#7fbc41"
            ],
            [
             0.9,
             "#4d9221"
            ],
            [
             1,
             "#276419"
            ]
           ],
           "sequential": [
            [
             0,
             "#0d0887"
            ],
            [
             0.1111111111111111,
             "#46039f"
            ],
            [
             0.2222222222222222,
             "#7201a8"
            ],
            [
             0.3333333333333333,
             "#9c179e"
            ],
            [
             0.4444444444444444,
             "#bd3786"
            ],
            [
             0.5555555555555556,
             "#d8576b"
            ],
            [
             0.6666666666666666,
             "#ed7953"
            ],
            [
             0.7777777777777778,
             "#fb9f3a"
            ],
            [
             0.8888888888888888,
             "#fdca26"
            ],
            [
             1,
             "#f0f921"
            ]
           ],
           "sequentialminus": [
            [
             0,
             "#0d0887"
            ],
            [
             0.1111111111111111,
             "#46039f"
            ],
            [
             0.2222222222222222,
             "#7201a8"
            ],
            [
             0.3333333333333333,
             "#9c179e"
            ],
            [
             0.4444444444444444,
             "#bd3786"
            ],
            [
             0.5555555555555556,
             "#d8576b"
            ],
            [
             0.6666666666666666,
             "#ed7953"
            ],
            [
             0.7777777777777778,
             "#fb9f3a"
            ],
            [
             0.8888888888888888,
             "#fdca26"
            ],
            [
             1,
             "#f0f921"
            ]
           ]
          },
          "colorway": [
           "#636efa",
           "#EF553B",
           "#00cc96",
           "#ab63fa",
           "#FFA15A",
           "#19d3f3",
           "#FF6692",
           "#B6E880",
           "#FF97FF",
           "#FECB52"
          ],
          "font": {
           "color": "#2a3f5f"
          },
          "geo": {
           "bgcolor": "white",
           "lakecolor": "white",
           "landcolor": "#E5ECF6",
           "showlakes": true,
           "showland": true,
           "subunitcolor": "white"
          },
          "hoverlabel": {
           "align": "left"
          },
          "hovermode": "closest",
          "mapbox": {
           "style": "light"
          },
          "paper_bgcolor": "white",
          "plot_bgcolor": "#E5ECF6",
          "polar": {
           "angularaxis": {
            "gridcolor": "white",
            "linecolor": "white",
            "ticks": ""
           },
           "bgcolor": "#E5ECF6",
           "radialaxis": {
            "gridcolor": "white",
            "linecolor": "white",
            "ticks": ""
           }
          },
          "scene": {
           "xaxis": {
            "backgroundcolor": "#E5ECF6",
            "gridcolor": "white",
            "gridwidth": 2,
            "linecolor": "white",
            "showbackground": true,
            "ticks": "",
            "zerolinecolor": "white"
           },
           "yaxis": {
            "backgroundcolor": "#E5ECF6",
            "gridcolor": "white",
            "gridwidth": 2,
            "linecolor": "white",
            "showbackground": true,
            "ticks": "",
            "zerolinecolor": "white"
           },
           "zaxis": {
            "backgroundcolor": "#E5ECF6",
            "gridcolor": "white",
            "gridwidth": 2,
            "linecolor": "white",
            "showbackground": true,
            "ticks": "",
            "zerolinecolor": "white"
           }
          },
          "shapedefaults": {
           "line": {
            "color": "#2a3f5f"
           }
          },
          "ternary": {
           "aaxis": {
            "gridcolor": "white",
            "linecolor": "white",
            "ticks": ""
           },
           "baxis": {
            "gridcolor": "white",
            "linecolor": "white",
            "ticks": ""
           },
           "bgcolor": "#E5ECF6",
           "caxis": {
            "gridcolor": "white",
            "linecolor": "white",
            "ticks": ""
           }
          },
          "title": {
           "x": 0.05
          },
          "xaxis": {
           "automargin": true,
           "gridcolor": "white",
           "linecolor": "white",
           "ticks": "",
           "title": {
            "standoff": 15
           },
           "zerolinecolor": "white",
           "zerolinewidth": 2
          },
          "yaxis": {
           "automargin": true,
           "gridcolor": "white",
           "linecolor": "white",
           "ticks": "",
           "title": {
            "standoff": 15
           },
           "zerolinecolor": "white",
           "zerolinewidth": 2
          }
         }
        },
        "title": {
         "text": "Rochester Zip Codes by Gun Violence Counts"
        },
        "width": 700
       }
      }
     },
     "metadata": {},
     "output_type": "display_data"
    },
    {
     "data": {
      "application/vnd.plotly.v1+json": {
       "config": {
        "plotlyServerURL": "https://plot.ly"
       },
       "data": [
        {
         "customdata": [
          [
           0.06306306306306307,
           14626
          ],
          [
           0.2822822822822823,
           14623
          ],
          [
           0.02102102102102104,
           14622
          ],
          [
           0.6756756756756755,
           14621
          ],
          [
           0.34234234234234234,
           14620
          ],
          [
           0.6246246246246246,
           14619
          ],
          [
           0.012012012012012022,
           14618
          ],
          [
           0,
           14617
          ],
          [
           0.0990990990990991,
           14616
          ],
          [
           0.35135135135135137,
           14615
          ],
          [
           0.5765765765765766,
           14613
          ],
          [
           0.06306306306306307,
           14612
          ],
          [
           0.8108108108108109,
           14611
          ],
          [
           0.0960960960960961,
           14610
          ],
          [
           0.34234234234234234,
           14609
          ],
          [
           1,
           14608
          ],
          [
           0.35735735735735735,
           14607
          ],
          [
           0.31231231231231227,
           14606
          ],
          [
           0.8258258258258256,
           14605
          ],
          [
           0.5885885885885885,
           14604
          ]
         ],
         "hovertemplate": "Food Insecurity=%{marker.color}<br>Latitude=%{lat}<br>Longitude=%{lon}<br>Zip_Code=%{customdata[1]}<extra></extra>",
         "lat": [
          43.2141,
          43.0881,
          43.2138,
          43.1863,
          43.1291,
          43.1363,
          43.1126,
          43.2242,
          43.234,
          43.2049,
          43.1828,
          43.2648,
          43.1372,
          43.1432,
          43.1767,
          43.1539,
          43.1512,
          43.1711,
          43.1681,
          43.1567
         ],
         "legendgroup": "",
         "lon": [
          -77.7135,
          -77.6425,
          -77.5569,
          -77.6018,
          -77.6065,
          -77.6493,
          -77.5555,
          -77.5951,
          -77.655,
          -77.655,
          -77.6402,
          -77.6753,
          -77.6325,
          -77.5468,
          -77.5545,
          -77.6239,
          -77.5874,
          -77.6983,
          -77.6016,
          -77.6056
         ],
         "marker": {
          "color": [
           0.06306306306306307,
           0.2822822822822823,
           0.02102102102102104,
           0.6756756756756755,
           0.34234234234234234,
           0.6246246246246246,
           0.012012012012012022,
           0,
           0.0990990990990991,
           0.35135135135135137,
           0.5765765765765766,
           0.06306306306306307,
           0.8108108108108109,
           0.0960960960960961,
           0.34234234234234234,
           1,
           0.35735735735735735,
           0.31231231231231227,
           0.8258258258258256,
           0.5885885885885885
          ],
          "coloraxis": "coloraxis",
          "size": [
           0.06306306306306307,
           0.2822822822822823,
           0.02102102102102104,
           0.6756756756756755,
           0.34234234234234234,
           0.6246246246246246,
           0.012012012012012022,
           0,
           0.0990990990990991,
           0.35135135135135137,
           0.5765765765765766,
           0.06306306306306307,
           0.8108108108108109,
           0.0960960960960961,
           0.34234234234234234,
           1,
           0.35735735735735735,
           0.31231231231231227,
           0.8258258258258256,
           0.5885885885885885
          ],
          "sizemode": "area",
          "sizeref": 0.0025
         },
         "mode": "markers",
         "name": "",
         "showlegend": false,
         "subplot": "mapbox",
         "type": "scattermapbox"
        }
       ],
       "layout": {
        "coloraxis": {
         "colorbar": {
          "title": {
           "text": "Food Insecurity"
          }
         },
         "colorscale": [
          [
           0,
           "rgb(0,104,55)"
          ],
          [
           0.1,
           "rgb(26,152,80)"
          ],
          [
           0.2,
           "rgb(102,189,99)"
          ],
          [
           0.3,
           "rgb(166,217,106)"
          ],
          [
           0.4,
           "rgb(217,239,139)"
          ],
          [
           0.5,
           "rgb(255,255,191)"
          ],
          [
           0.6,
           "rgb(254,224,139)"
          ],
          [
           0.7,
           "rgb(253,174,97)"
          ],
          [
           0.8,
           "rgb(244,109,67)"
          ],
          [
           0.9,
           "rgb(215,48,39)"
          ],
          [
           1,
           "rgb(165,0,38)"
          ]
         ]
        },
        "height": 400,
        "legend": {
         "itemsizing": "constant",
         "tracegroupgap": 0
        },
        "mapbox": {
         "center": {
          "lat": 43.172455,
          "lon": -77.61986
         },
         "domain": {
          "x": [
           0,
           1
          ],
          "y": [
           0,
           1
          ]
         },
         "style": "open-street-map",
         "zoom": 10
        },
        "template": {
         "data": {
          "bar": [
           {
            "error_x": {
             "color": "#2a3f5f"
            },
            "error_y": {
             "color": "#2a3f5f"
            },
            "marker": {
             "line": {
              "color": "#E5ECF6",
              "width": 0.5
             },
             "pattern": {
              "fillmode": "overlay",
              "size": 10,
              "solidity": 0.2
             }
            },
            "type": "bar"
           }
          ],
          "barpolar": [
           {
            "marker": {
             "line": {
              "color": "#E5ECF6",
              "width": 0.5
             },
             "pattern": {
              "fillmode": "overlay",
              "size": 10,
              "solidity": 0.2
             }
            },
            "type": "barpolar"
           }
          ],
          "carpet": [
           {
            "aaxis": {
             "endlinecolor": "#2a3f5f",
             "gridcolor": "white",
             "linecolor": "white",
             "minorgridcolor": "white",
             "startlinecolor": "#2a3f5f"
            },
            "baxis": {
             "endlinecolor": "#2a3f5f",
             "gridcolor": "white",
             "linecolor": "white",
             "minorgridcolor": "white",
             "startlinecolor": "#2a3f5f"
            },
            "type": "carpet"
           }
          ],
          "choropleth": [
           {
            "colorbar": {
             "outlinewidth": 0,
             "ticks": ""
            },
            "type": "choropleth"
           }
          ],
          "contour": [
           {
            "colorbar": {
             "outlinewidth": 0,
             "ticks": ""
            },
            "colorscale": [
             [
              0,
              "#0d0887"
             ],
             [
              0.1111111111111111,
              "#46039f"
             ],
             [
              0.2222222222222222,
              "#7201a8"
             ],
             [
              0.3333333333333333,
              "#9c179e"
             ],
             [
              0.4444444444444444,
              "#bd3786"
             ],
             [
              0.5555555555555556,
              "#d8576b"
             ],
             [
              0.6666666666666666,
              "#ed7953"
             ],
             [
              0.7777777777777778,
              "#fb9f3a"
             ],
             [
              0.8888888888888888,
              "#fdca26"
             ],
             [
              1,
              "#f0f921"
             ]
            ],
            "type": "contour"
           }
          ],
          "contourcarpet": [
           {
            "colorbar": {
             "outlinewidth": 0,
             "ticks": ""
            },
            "type": "contourcarpet"
           }
          ],
          "heatmap": [
           {
            "colorbar": {
             "outlinewidth": 0,
             "ticks": ""
            },
            "colorscale": [
             [
              0,
              "#0d0887"
             ],
             [
              0.1111111111111111,
              "#46039f"
             ],
             [
              0.2222222222222222,
              "#7201a8"
             ],
             [
              0.3333333333333333,
              "#9c179e"
             ],
             [
              0.4444444444444444,
              "#bd3786"
             ],
             [
              0.5555555555555556,
              "#d8576b"
             ],
             [
              0.6666666666666666,
              "#ed7953"
             ],
             [
              0.7777777777777778,
              "#fb9f3a"
             ],
             [
              0.8888888888888888,
              "#fdca26"
             ],
             [
              1,
              "#f0f921"
             ]
            ],
            "type": "heatmap"
           }
          ],
          "heatmapgl": [
           {
            "colorbar": {
             "outlinewidth": 0,
             "ticks": ""
            },
            "colorscale": [
             [
              0,
              "#0d0887"
             ],
             [
              0.1111111111111111,
              "#46039f"
             ],
             [
              0.2222222222222222,
              "#7201a8"
             ],
             [
              0.3333333333333333,
              "#9c179e"
             ],
             [
              0.4444444444444444,
              "#bd3786"
             ],
             [
              0.5555555555555556,
              "#d8576b"
             ],
             [
              0.6666666666666666,
              "#ed7953"
             ],
             [
              0.7777777777777778,
              "#fb9f3a"
             ],
             [
              0.8888888888888888,
              "#fdca26"
             ],
             [
              1,
              "#f0f921"
             ]
            ],
            "type": "heatmapgl"
           }
          ],
          "histogram": [
           {
            "marker": {
             "pattern": {
              "fillmode": "overlay",
              "size": 10,
              "solidity": 0.2
             }
            },
            "type": "histogram"
           }
          ],
          "histogram2d": [
           {
            "colorbar": {
             "outlinewidth": 0,
             "ticks": ""
            },
            "colorscale": [
             [
              0,
              "#0d0887"
             ],
             [
              0.1111111111111111,
              "#46039f"
             ],
             [
              0.2222222222222222,
              "#7201a8"
             ],
             [
              0.3333333333333333,
              "#9c179e"
             ],
             [
              0.4444444444444444,
              "#bd3786"
             ],
             [
              0.5555555555555556,
              "#d8576b"
             ],
             [
              0.6666666666666666,
              "#ed7953"
             ],
             [
              0.7777777777777778,
              "#fb9f3a"
             ],
             [
              0.8888888888888888,
              "#fdca26"
             ],
             [
              1,
              "#f0f921"
             ]
            ],
            "type": "histogram2d"
           }
          ],
          "histogram2dcontour": [
           {
            "colorbar": {
             "outlinewidth": 0,
             "ticks": ""
            },
            "colorscale": [
             [
              0,
              "#0d0887"
             ],
             [
              0.1111111111111111,
              "#46039f"
             ],
             [
              0.2222222222222222,
              "#7201a8"
             ],
             [
              0.3333333333333333,
              "#9c179e"
             ],
             [
              0.4444444444444444,
              "#bd3786"
             ],
             [
              0.5555555555555556,
              "#d8576b"
             ],
             [
              0.6666666666666666,
              "#ed7953"
             ],
             [
              0.7777777777777778,
              "#fb9f3a"
             ],
             [
              0.8888888888888888,
              "#fdca26"
             ],
             [
              1,
              "#f0f921"
             ]
            ],
            "type": "histogram2dcontour"
           }
          ],
          "mesh3d": [
           {
            "colorbar": {
             "outlinewidth": 0,
             "ticks": ""
            },
            "type": "mesh3d"
           }
          ],
          "parcoords": [
           {
            "line": {
             "colorbar": {
              "outlinewidth": 0,
              "ticks": ""
             }
            },
            "type": "parcoords"
           }
          ],
          "pie": [
           {
            "automargin": true,
            "type": "pie"
           }
          ],
          "scatter": [
           {
            "fillpattern": {
             "fillmode": "overlay",
             "size": 10,
             "solidity": 0.2
            },
            "type": "scatter"
           }
          ],
          "scatter3d": [
           {
            "line": {
             "colorbar": {
              "outlinewidth": 0,
              "ticks": ""
             }
            },
            "marker": {
             "colorbar": {
              "outlinewidth": 0,
              "ticks": ""
             }
            },
            "type": "scatter3d"
           }
          ],
          "scattercarpet": [
           {
            "marker": {
             "colorbar": {
              "outlinewidth": 0,
              "ticks": ""
             }
            },
            "type": "scattercarpet"
           }
          ],
          "scattergeo": [
           {
            "marker": {
             "colorbar": {
              "outlinewidth": 0,
              "ticks": ""
             }
            },
            "type": "scattergeo"
           }
          ],
          "scattergl": [
           {
            "marker": {
             "colorbar": {
              "outlinewidth": 0,
              "ticks": ""
             }
            },
            "type": "scattergl"
           }
          ],
          "scattermapbox": [
           {
            "marker": {
             "colorbar": {
              "outlinewidth": 0,
              "ticks": ""
             }
            },
            "type": "scattermapbox"
           }
          ],
          "scatterpolar": [
           {
            "marker": {
             "colorbar": {
              "outlinewidth": 0,
              "ticks": ""
             }
            },
            "type": "scatterpolar"
           }
          ],
          "scatterpolargl": [
           {
            "marker": {
             "colorbar": {
              "outlinewidth": 0,
              "ticks": ""
             }
            },
            "type": "scatterpolargl"
           }
          ],
          "scatterternary": [
           {
            "marker": {
             "colorbar": {
              "outlinewidth": 0,
              "ticks": ""
             }
            },
            "type": "scatterternary"
           }
          ],
          "surface": [
           {
            "colorbar": {
             "outlinewidth": 0,
             "ticks": ""
            },
            "colorscale": [
             [
              0,
              "#0d0887"
             ],
             [
              0.1111111111111111,
              "#46039f"
             ],
             [
              0.2222222222222222,
              "#7201a8"
             ],
             [
              0.3333333333333333,
              "#9c179e"
             ],
             [
              0.4444444444444444,
              "#bd3786"
             ],
             [
              0.5555555555555556,
              "#d8576b"
             ],
             [
              0.6666666666666666,
              "#ed7953"
             ],
             [
              0.7777777777777778,
              "#fb9f3a"
             ],
             [
              0.8888888888888888,
              "#fdca26"
             ],
             [
              1,
              "#f0f921"
             ]
            ],
            "type": "surface"
           }
          ],
          "table": [
           {
            "cells": {
             "fill": {
              "color": "#EBF0F8"
             },
             "line": {
              "color": "white"
             }
            },
            "header": {
             "fill": {
              "color": "#C8D4E3"
             },
             "line": {
              "color": "white"
             }
            },
            "type": "table"
           }
          ]
         },
         "layout": {
          "annotationdefaults": {
           "arrowcolor": "#2a3f5f",
           "arrowhead": 0,
           "arrowwidth": 1
          },
          "autotypenumbers": "strict",
          "coloraxis": {
           "colorbar": {
            "outlinewidth": 0,
            "ticks": ""
           }
          },
          "colorscale": {
           "diverging": [
            [
             0,
             "#8e0152"
            ],
            [
             0.1,
             "#c51b7d"
            ],
            [
             0.2,
             "#de77ae"
            ],
            [
             0.3,
             "#f1b6da"
            ],
            [
             0.4,
             "#fde0ef"
            ],
            [
             0.5,
             "#f7f7f7"
            ],
            [
             0.6,
             "#e6f5d0"
            ],
            [
             0.7,
             "#b8e186"
            ],
            [
             0.8,
             "#7fbc41"
            ],
            [
             0.9,
             "#4d9221"
            ],
            [
             1,
             "#276419"
            ]
           ],
           "sequential": [
            [
             0,
             "#0d0887"
            ],
            [
             0.1111111111111111,
             "#46039f"
            ],
            [
             0.2222222222222222,
             "#7201a8"
            ],
            [
             0.3333333333333333,
             "#9c179e"
            ],
            [
             0.4444444444444444,
             "#bd3786"
            ],
            [
             0.5555555555555556,
             "#d8576b"
            ],
            [
             0.6666666666666666,
             "#ed7953"
            ],
            [
             0.7777777777777778,
             "#fb9f3a"
            ],
            [
             0.8888888888888888,
             "#fdca26"
            ],
            [
             1,
             "#f0f921"
            ]
           ],
           "sequentialminus": [
            [
             0,
             "#0d0887"
            ],
            [
             0.1111111111111111,
             "#46039f"
            ],
            [
             0.2222222222222222,
             "#7201a8"
            ],
            [
             0.3333333333333333,
             "#9c179e"
            ],
            [
             0.4444444444444444,
             "#bd3786"
            ],
            [
             0.5555555555555556,
             "#d8576b"
            ],
            [
             0.6666666666666666,
             "#ed7953"
            ],
            [
             0.7777777777777778,
             "#fb9f3a"
            ],
            [
             0.8888888888888888,
             "#fdca26"
            ],
            [
             1,
             "#f0f921"
            ]
           ]
          },
          "colorway": [
           "#636efa",
           "#EF553B",
           "#00cc96",
           "#ab63fa",
           "#FFA15A",
           "#19d3f3",
           "#FF6692",
           "#B6E880",
           "#FF97FF",
           "#FECB52"
          ],
          "font": {
           "color": "#2a3f5f"
          },
          "geo": {
           "bgcolor": "white",
           "lakecolor": "white",
           "landcolor": "#E5ECF6",
           "showlakes": true,
           "showland": true,
           "subunitcolor": "white"
          },
          "hoverlabel": {
           "align": "left"
          },
          "hovermode": "closest",
          "mapbox": {
           "style": "light"
          },
          "paper_bgcolor": "white",
          "plot_bgcolor": "#E5ECF6",
          "polar": {
           "angularaxis": {
            "gridcolor": "white",
            "linecolor": "white",
            "ticks": ""
           },
           "bgcolor": "#E5ECF6",
           "radialaxis": {
            "gridcolor": "white",
            "linecolor": "white",
            "ticks": ""
           }
          },
          "scene": {
           "xaxis": {
            "backgroundcolor": "#E5ECF6",
            "gridcolor": "white",
            "gridwidth": 2,
            "linecolor": "white",
            "showbackground": true,
            "ticks": "",
            "zerolinecolor": "white"
           },
           "yaxis": {
            "backgroundcolor": "#E5ECF6",
            "gridcolor": "white",
            "gridwidth": 2,
            "linecolor": "white",
            "showbackground": true,
            "ticks": "",
            "zerolinecolor": "white"
           },
           "zaxis": {
            "backgroundcolor": "#E5ECF6",
            "gridcolor": "white",
            "gridwidth": 2,
            "linecolor": "white",
            "showbackground": true,
            "ticks": "",
            "zerolinecolor": "white"
           }
          },
          "shapedefaults": {
           "line": {
            "color": "#2a3f5f"
           }
          },
          "ternary": {
           "aaxis": {
            "gridcolor": "white",
            "linecolor": "white",
            "ticks": ""
           },
           "baxis": {
            "gridcolor": "white",
            "linecolor": "white",
            "ticks": ""
           },
           "bgcolor": "#E5ECF6",
           "caxis": {
            "gridcolor": "white",
            "linecolor": "white",
            "ticks": ""
           }
          },
          "title": {
           "x": 0.05
          },
          "xaxis": {
           "automargin": true,
           "gridcolor": "white",
           "linecolor": "white",
           "ticks": "",
           "title": {
            "standoff": 15
           },
           "zerolinecolor": "white",
           "zerolinewidth": 2
          },
          "yaxis": {
           "automargin": true,
           "gridcolor": "white",
           "linecolor": "white",
           "ticks": "",
           "title": {
            "standoff": 15
           },
           "zerolinecolor": "white",
           "zerolinewidth": 2
          }
         }
        },
        "title": {
         "text": "Rochester Zip Codes by Food Insecurity Rate"
        },
        "width": 700
       }
      }
     },
     "metadata": {},
     "output_type": "display_data"
    }
   ],
   "source": [
    "# PLOTTING BOTH CONTINUOUS, NUMERIC VARS\n",
    "gun_plot = px.scatter_mapbox(\n",
    "                        data_frame = full_data,\n",
    "                        lat = full_data['Latitude'],\n",
    "                        lon = full_data['Longitude'],\n",
    "                        color= full_data['Gun Violence'],\n",
    "                        hover_name = None,\n",
    "                        hover_data= [full_data['Number of Shootings'], full_data['Gun Violence'], full_data['Zip_Code']],\n",
    "                        size = full_data['Gun Violence'],\n",
    "                        zoom = 10,\n",
    "                        mapbox_style = 'open-street-map',\n",
    "                        title='Rochester Zip Codes by Gun Violence Counts',\n",
    "                        height = 400,\n",
    "                        width = 700,\n",
    "                        color_continuous_scale='RdYlGn_r'\n",
    "                        )\n",
    "\n",
    "\n",
    "\n",
    "hunger_plot = px.scatter_mapbox(\n",
    "                        data_frame = full_data,\n",
    "                        lat = full_data['Latitude'],\n",
    "                        lon = full_data['Longitude'],\n",
    "                        color= full_data['Food Insecurity'],\n",
    "                        zoom = 10,\n",
    "                        hover_data = [full_data['Food Insecurity'],\n",
    "                                      full_data['Zip_Code']],\n",
    "                        size = full_data['Food Insecurity'],\n",
    "                        mapbox_style = 'open-street-map',\n",
    "                        title='Rochester Zip Codes by Food Insecurity Rate',\n",
    "                        height = 400,\n",
    "                        width = 700,\n",
    "                        color_continuous_scale='RdYlGn_r'\n",
    "                )\n",
    "\n",
    "gun_plot.show()\n",
    "hunger_plot.show()"
   ]
  },
  {
   "attachments": {},
   "cell_type": "markdown",
   "metadata": {},
   "source": [
    "#### SUMMARY STATS OF EACH DATASET"
   ]
  },
  {
   "cell_type": "code",
   "execution_count": null,
   "metadata": {},
   "outputs": [
    {
     "name": "stdout",
     "output_type": "stream",
     "text": [
      "           DATA SUMMARY\n",
      "       Food Insecurity  Gun Violence\n",
      "count        20.000000     20.000000\n",
      "mean          0.372222      0.208696\n",
      "std           0.306453      0.312445\n",
      "min           0.000000      0.000000\n",
      "25%           0.087838      0.000000\n",
      "50%           0.342342      0.021739\n",
      "75%           0.597598      0.293478\n",
      "max           1.000000      1.000000\n"
     ]
    }
   ],
   "source": [
    "# GET STATS\n",
    "gun_stats = gun_data.describe()\n",
    "hunger_stats = hunger_data.describe()\n",
    "full_stats = full_data.describe().loc[:,['Food Insecurity', 'Gun Violence']]\n",
    "\n",
    "# PRINT STATS\n",
    "print(\"           DATA SUMMARY\")\n",
    "print(full_stats)"
   ]
  },
  {
   "attachments": {},
   "cell_type": "markdown",
   "metadata": {},
   "source": [
    "### COMPARING DATASETS AND VARIABLES"
   ]
  },
  {
   "cell_type": "code",
   "execution_count": null,
   "metadata": {},
   "outputs": [
    {
     "data": {
      "image/png": "[encoded data removed]",
      "text/plain": [
       "<Figure size 750x350 with 1 Axes>"
      ]
     },
     "metadata": {},
     "output_type": "display_data"
    }
   ],
   "source": [
    "# COMPARE BY BOXPLOT\n",
    "\n",
    "# GET DATA\n",
    "gun_boxplot_data = full_data['Gun Violence'].quantile([0.25,0.5,0.75])\n",
    "hunger_boxplot_data = full_data['Food Insecurity'].quantile([0.25,0.5,0.75])\n",
    "boxplots = pd.DataFrame({'Guns': gun_boxplot_data, 'Hunger': hunger_boxplot_data})\n",
    "\n",
    "# SET FIGURE \n",
    "plt.rcParams[\"figure.figsize\"] = [7.50, 3.50]\n",
    "plt.rcParams[\"figure.autolayout\"] = True\n",
    "\n",
    "# Plot the dataframe\n",
    "ax = boxplots[['Guns','Hunger']].plot(kind='box', title='Side-by-side Boxplot')\n",
    "\n",
    "# Display the plot\n",
    "plt.show()"
   ]
  },
  {
   "cell_type": "code",
   "execution_count": null,
   "metadata": {},
   "outputs": [
    {
     "data": {
      "text/plain": [
       "<Axes: title={'center': 'box'}>"
      ]
     },
     "execution_count": 43,
     "metadata": {},
     "output_type": "execute_result"
    },
    {
     "data": {
      "image/png": "[encoded data removed]",
      "text/plain": [
       "<Figure size 750x350 with 1 Axes>"
      ]
     },
     "metadata": {},
     "output_type": "display_data"
    }
   ],
   "source": [
    "hunger_boxplot_data = full_data['Food Insecurity'].quantile([0.25,0.5,0.75])\n",
    "\n",
    "hunger_boxplot_data.plot(kind=\"box\",title='box')"
   ]
  },
  {
   "attachments": {},
   "cell_type": "markdown",
   "metadata": {},
   "source": [
    "### FITTING DISTRIBUTION"
   ]
  },
  {
   "cell_type": "code",
   "execution_count": null,
   "metadata": {},
   "outputs": [
    {
     "name": "stderr",
     "output_type": "stream",
     "text": [
      "Fitting 5 distributions: 100%|██████████| 5/5 [00:00<00:00,  8.28it/s]\n"
     ]
    },
    {
     "name": "stdout",
     "output_type": "stream",
     "text": [
      "                      FITTING DISTRIBUTION TO GUN VIOLENCE RATE\n"
     ]
    },
    {
     "data": {
      "image/png": "[encoded data removed]",
      "text/plain": [
       "<Figure size 750x500 with 1 Axes>"
      ]
     },
     "metadata": {},
     "output_type": "display_data"
    }
   ],
   "source": [
    "# IMPORT PACKAGES\n",
    "import seaborn as sns\n",
    "from fitter import Fitter, get_common_distributions, get_distributions\n",
    "\n",
    "# FIT THE DISTRIBUTION\n",
    "sns.set_style('white')\n",
    "sns.set_context(\"paper\", font_scale = 2)\n",
    "sns.displot(data=full_data, x=\"Gun Violence\", kind=\"hist\", bins = 100, aspect = 1.5)\n",
    "\n",
    "gun_rate_distri= full_data[\"Gun Violence\"].values\n",
    "\n",
    "f = Fitter(gun_rate_distri,\n",
    "           distributions=['gamma',\n",
    "                          'lognorm',\n",
    "                          \"beta\",\n",
    "                          \"burr\",\n",
    "                          \"norm\"])\n",
    "f.fit()\n",
    "f.summary()\n",
    "print(\"                      FITTING DISTRIBUTION TO GUN VIOLENCE RATE\")"
   ]
  },
  {
   "cell_type": "code",
   "execution_count": null,
   "metadata": {},
   "outputs": [
    {
     "data": {
      "text/plain": [
       "{'gamma': {'a': 0.23310225376418975,\n",
       "  'loc': -4.746328065817018e-30,\n",
       "  'scale': 0.17896482266681646}}"
      ]
     },
     "execution_count": 53,
     "metadata": {},
     "output_type": "execute_result"
    }
   ],
   "source": [
    "# FIND THE BEST FITTED DISTRIBUTION\n",
    "f.get_best(method = 'sumsquare_error')"
   ]
  },
  {
   "cell_type": "code",
   "execution_count": null,
   "metadata": {},
   "outputs": [
    {
     "name": "stderr",
     "output_type": "stream",
     "text": [
      "Fitting 5 distributions: 100%|██████████| 5/5 [00:00<00:00,  9.16it/s]\n"
     ]
    },
    {
     "name": "stdout",
     "output_type": "stream",
     "text": [
      "                   FITTING DISTRIBUTION TO FOOD INSECURITY RATE\n"
     ]
    },
    {
     "data": {
      "image/png": "[encoded data removed]",
      "text/plain": [
       "<Figure size 750x500 with 1 Axes>"
      ]
     },
     "metadata": {},
     "output_type": "display_data"
    }
   ],
   "source": [
    "# FIT THE DISTRIBUTION\n",
    "sns.set_style('white')\n",
    "sns.set_context(\"paper\", font_scale = 2)\n",
    "sns.displot(data=full_data, x=\"Food Insecurity\", kind=\"hist\", bins = 100, aspect = 1.5)\n",
    "\n",
    "Food_Insecurity = full_data[\"Food Insecurity\"].values\n",
    "\n",
    "f = Fitter(Food_Insecurity,\n",
    "           distributions=['gamma',\n",
    "                          'lognorm',\n",
    "                          \"beta\",\n",
    "                          \"burr\",\n",
    "                          \"norm\"])\n",
    "f.fit()\n",
    "f.summary()\n",
    "print(\"                   FITTING DISTRIBUTION TO FOOD INSECURITY RATE\")"
   ]
  },
  {
   "cell_type": "code",
   "execution_count": null,
   "metadata": {},
   "outputs": [
    {
     "data": {
      "text/plain": [
       "{'beta': {'a': 0.6720003002562376,\n",
       "  'b': 2.1112154187895076,\n",
       "  'loc': -2.6856690845797166e-30,\n",
       "  'scale': 1.3244603693469383}}"
      ]
     },
     "execution_count": 56,
     "metadata": {},
     "output_type": "execute_result"
    }
   ],
   "source": [
    "# FIND THE BEST FITTED DISTRIBUTION\n",
    "f.get_best(method = 'sumsquare_error')"
   ]
  },
  {
   "cell_type": "code",
   "execution_count": null,
   "metadata": {},
   "outputs": [
    {
     "data": {
      "image/png": "[encoded data removed]",
      "text/plain": [
       "<Figure size 750x350 with 1 Axes>"
      ]
     },
     "metadata": {},
     "output_type": "display_data"
    }
   ],
   "source": [
    "# PLOTTING FI RATE VS GUN VIOLENCE RATE\n",
    "x = full_data['Food Insecurity']\n",
    "y = full_data['Gun Violence']\n",
    "\n",
    "plt.scatter(x, y)\n",
    "\n",
    "\n",
    "plt.title('Food Insecurity Rate vs. Gun Violence Rate')\n",
    "plt.xlabel('Food Insecurity Rate')\n",
    "plt.ylabel('Gun Violence Rate')\n",
    "\n",
    "plt.show()"
   ]
  },
  {
   "cell_type": "code",
   "execution_count": null,
   "metadata": {},
   "outputs": [
    {
     "data": {
      "image/png": "[encoded data removed]",
      "text/plain": [
       "<Figure size 750x350 with 2 Axes>"
      ]
     },
     "metadata": {},
     "output_type": "display_data"
    }
   ],
   "source": [
    "# FORMING CORRELATION MATRIX\n",
    "df = pd.DataFrame({'Gun Violence': full_data[\"Gun Violence\"], 'Food Insecurity': full_data[\"Food Insecurity\"]})\n",
    "corr_matrix = df.corr()\n",
    "sns.heatmap(corr_matrix, annot=True, cmap='coolwarm')\n",
    "\n",
    "plt.show()"
   ]
  },
  {
   "cell_type": "code",
   "execution_count": null,
   "metadata": {},
   "outputs": [
    {
     "data": {
      "image/png": "[encoded data removed]",
      "text/plain": [
       "<Figure size 750x350 with 1 Axes>"
      ]
     },
     "metadata": {},
     "output_type": "display_data"
    }
   ],
   "source": [
    "my_list = list(range(1, 24))\n",
    "plt.hist(my_list, weights=gun_count['Number of Shootings'], bins=50)\n",
    "plt.xlabel('Zipcode ID')\n",
    "plt.ylabel('Count')\n",
    "plt.show()"
   ]
  },
  {
   "attachments": {},
   "cell_type": "markdown",
   "metadata": {},
   "source": [
    "## HYPOTHESIS TESTING"
   ]
  },
  {
   "cell_type": "code",
   "execution_count": null,
   "metadata": {},
   "outputs": [],
   "source": []
  }
 ],
 "metadata": {
  "kernelspec": {
   "display_name": "Python 3",
   "language": "python",
   "name": "python3"
  },
  "language_info": {
   "codemirror_mode": {
    "name": "ipython",
    "version": 3
   },
   "file_extension": ".py",
   "mimetype": "text/x-python",
   "name": "python",
   "nbconvert_exporter": "python",
   "pygments_lexer": "ipython3",
   "version": "3.11.0"
  },
  "orig_nbformat": 4
 },
 "nbformat": 4,
 "nbformat_minor": 2
}
